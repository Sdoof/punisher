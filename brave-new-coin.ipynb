{
 "cells": [
  {
   "cell_type": "code",
   "execution_count": 1,
   "metadata": {},
   "outputs": [],
   "source": [
    "%matplotlib inline\n",
    "%load_ext autoreload\n",
    "%autoreload 2\n",
    "from punisher.common import *\n",
    "import qgrid"
   ]
  },
  {
   "cell_type": "markdown",
   "metadata": {},
   "source": [
    "## Download"
   ]
  },
  {
   "cell_type": "code",
   "execution_count": 2,
   "metadata": {},
   "outputs": [],
   "source": [
    "# https://github.com/Crypto-AI/Poloniexport\n",
    "# https://market.mashape.com/BraveNewCoin/digital-currency-ex-rates#mwa-historic-exchange-rates\n",
    "# https://bravenewcoin.com/api/digital-currency-exchange-rates/\n",
    "# http://docs.python-requests.org/en/master/user/quickstart/ \n",
    "\n",
    "# Coins\n",
    "# BTC start = 1396328100 - datetime.datetime(2014, 3, 31, 21, 55)\n",
    "# ETH start = 1439011500 - datetime.datetime(2015, 8, 7, 22, 25)\n",
    "# LTC start = 1396344000 - datetime.datetime(2014, 4, 1, 2, 20)\n",
    "# XRP start = 1397010900 - datetime.datetime(2014, 4, 8, 19, 35)\n",
    "\n",
    "# Meta\n",
    "# columns = ['timestamp', 'index', 'volume', 'index_usd', 'volume_usd']\n",
    "# Returns 1000 rows? Multiple days worth of data...\n",
    "# 230 requests for 2 years of 5-min data?\n",
    "# Looks like they fill in missing data with previous known price\n",
    "# They have 0 volume days"
   ]
  },
  {
   "cell_type": "code",
   "execution_count": 32,
   "metadata": {
    "scrolled": false
   },
   "outputs": [],
   "source": [
    "BNC_EXCHANGE_RATE_ENDPOINT = 'https://bravenewcoin-mwa-historic-v1.p.mashape.com/mwa-historic'\n",
    "def write_to_df(data, fpath, columns):\n",
    "    if os.path.exists(fpath):\n",
    "        df = pd.read_csv(fpath)\n",
    "        data = pd.DataFrame(data, columns=columns)\n",
    "        df.set_index(columns[0])\n",
    "        df = pd.concat([df, data]).drop_duplicates().reset_index(drop=True)\n",
    "    else:\n",
    "        df = pd.DataFrame(data, columns=columns)\n",
    "        df.set_index(columns[0])\n",
    "    df.to_csv(fpath, index=False)\n",
    "    return df\n",
    "\n",
    "def get_bnc_data(asset, start, end):\n",
    "    url = cfg.BNC_ENDPOINT + '/mwa-historic'\n",
    "    params = {\n",
    "        'coin': asset.base,\n",
    "        'market': asset.quote,\n",
    "        'from': round(start.timestamp()),\n",
    "        'to': round(end.timestamp())\n",
    "    }\n",
    "    headers = {\n",
    "        \"X-Mashape-Key\": cfg.BNC_API_KEY,\n",
    "        \"Accept\": \"application/json\"\n",
    "    }\n",
    "    r = requests.get(url, headers=headers, params=params)\n",
    "    data = r.json()['data']\n",
    "    data = np.array(data).astype(float)\n",
    "    return data\n",
    "\n",
    "def get_all_data(asset, start, end, timeframe, request_size, outfpath):\n",
    "    out_columns = ['epoch', 'close_base', 'volume_base', 'close_quote', 'volume_quote']\n",
    "    cur_time = start\n",
    "    timerange_delta = datetime.timedelta(\n",
    "        seconds=request_size * timeframe.delta.seconds)\n",
    "    timestep_delta = datetime.timedelta(seconds=timeframe.delta.seconds)\n",
    "    n_records = 0\n",
    "    retry = 0\n",
    "    while cur_time < end and retry < 10:\n",
    "        try:\n",
    "            data = get_bnc_data(asset, cur_time, cur_time+timerange_delta)\n",
    "            last_time = datetime.datetime.fromtimestamp(np.max(data[:,0]))\n",
    "            if last_time < cur_time:\n",
    "                break\n",
    "            print(\"Records\", n_records, \"Start:\", cur_time, \"End:\", last_time)\n",
    "            cur_time = last_time + timestep_delta\n",
    "            df = write_to_df(data, outfpath, out_columns)\n",
    "            n_records += len(data)\n",
    "            retry = 0\n",
    "        except Exception as e:\n",
    "            retry += 1\n",
    "            print(\"Error! Retrying!\", e)\n",
    "            traceback.print_exc()\n",
    "        finally:\n",
    "            time.sleep(1)\n",
    "    return df"
   ]
  },
  {
   "cell_type": "code",
   "execution_count": 33,
   "metadata": {},
   "outputs": [],
   "source": [
    "request_size = 1000\n",
    "asset = Asset(coins.BTC, coins.USD)\n",
    "timeframe = Timeframe.THIRTY_MIN\n",
    "exchange_id = ex_cfg.BNC\n",
    "start = datetime.datetime(year=2016, month=1, day=1)\n",
    "end = datetime.datetime(year=2018, month=1, day=24)\n",
    "fpath = ohlcv_feed.get_ohlcv_fpath(asset, exchange_id, timeframe)"
   ]
  },
  {
   "cell_type": "code",
   "execution_count": 34,
   "metadata": {},
   "outputs": [
    {
     "data": {
      "text/plain": [
       "array([[  1.45163520e+09,   4.33898142e+02,   6.78914810e+04,\n",
       "          4.33898142e+02,   2.94579875e+07],\n",
       "       [  1.45163550e+09,   4.32457683e+02,   6.88519090e+04,\n",
       "          4.32457683e+02,   2.97755370e+07],\n",
       "       [  1.45163580e+09,   4.32889562e+02,   6.92201994e+04,\n",
       "          4.32889562e+02,   2.99647018e+07],\n",
       "       ..., \n",
       "       [  1.45193430e+09,   4.33142055e+02,   5.79254059e+04,\n",
       "          4.33142055e+02,   2.50899294e+07],\n",
       "       [  1.45193460e+09,   4.33137363e+02,   5.80556515e+04,\n",
       "          4.33137363e+02,   2.51460718e+07],\n",
       "       [  1.45193490e+09,   4.33401839e+02,   5.80935278e+04,\n",
       "          4.33401839e+02,   2.51778418e+07]])"
      ]
     },
     "execution_count": 34,
     "metadata": {},
     "output_type": "execute_result"
    }
   ],
   "source": [
    "#get_bnc_data(asset, start, end)"
   ]
  },
  {
   "cell_type": "code",
   "execution_count": 35,
   "metadata": {
    "scrolled": false
   },
   "outputs": [
    {
     "name": "stdout",
     "output_type": "stream",
     "text": [
      "Records 0 Start: 2016-01-01 00:00:00 End: 2016-01-04 11:15:00\n",
      "Records 1000 Start: 2016-01-04 11:45:00 End: 2016-01-07 23:00:00\n",
      "Records 2000 Start: 2016-01-07 23:30:00 End: 2016-01-11 10:45:00\n",
      "Records 3000 Start: 2016-01-11 11:15:00 End: 2016-01-14 22:30:00\n",
      "Records 4000 Start: 2016-01-14 23:00:00 End: 2016-01-18 10:15:00\n",
      "Records 5000 Start: 2016-01-18 10:45:00 End: 2016-01-21 22:00:00\n",
      "Records 6000 Start: 2016-01-21 22:30:00 End: 2016-01-25 09:45:00\n",
      "Records 7000 Start: 2016-01-25 10:15:00 End: 2016-01-28 21:30:00\n",
      "Records 8000 Start: 2016-01-28 22:00:00 End: 2016-02-01 09:20:00\n",
      "Records 9000 Start: 2016-02-01 09:50:00 End: 2016-02-04 21:05:00\n",
      "Records 10000 Start: 2016-02-04 21:35:00 End: 2016-02-08 08:50:00\n",
      "Records 11000 Start: 2016-02-08 09:20:00 End: 2016-02-11 20:35:00\n",
      "Records 12000 Start: 2016-02-11 21:05:00 End: 2016-02-15 08:20:00\n",
      "Records 13000 Start: 2016-02-15 08:50:00 End: 2016-02-18 20:05:00\n",
      "Records 14000 Start: 2016-02-18 20:35:00 End: 2016-02-22 07:50:00\n",
      "Records 15000 Start: 2016-02-22 08:20:00 End: 2016-02-25 19:35:00\n",
      "Records 16000 Start: 2016-02-25 20:05:00 End: 2016-02-29 07:20:00\n",
      "Records 17000 Start: 2016-02-29 07:50:00 End: 2016-03-03 19:10:00\n",
      "Records 18000 Start: 2016-03-03 19:40:00 End: 2016-03-07 06:55:00\n",
      "Records 19000 Start: 2016-03-07 07:25:00 End: 2016-03-10 19:25:00\n",
      "Records 20000 Start: 2016-03-10 19:55:00 End: 2016-03-14 08:10:00\n",
      "Records 21000 Start: 2016-03-14 08:40:00 End: 2016-03-17 19:55:00\n",
      "Records 22000 Start: 2016-03-17 20:25:00 End: 2016-03-21 07:40:00\n",
      "Records 23000 Start: 2016-03-21 08:10:00 End: 2016-03-24 19:25:00\n",
      "Records 24000 Start: 2016-03-24 19:55:00 End: 2016-03-28 07:10:00\n",
      "Records 25000 Start: 2016-03-28 07:40:00 End: 2016-03-31 18:55:00\n",
      "Records 26000 Start: 2016-03-31 19:25:00 End: 2016-04-04 06:40:00\n",
      "Records 27000 Start: 2016-04-04 07:10:00 End: 2016-04-07 18:25:00\n",
      "Records 28000 Start: 2016-04-07 18:55:00 End: 2016-04-11 06:10:00\n",
      "Records 29000 Start: 2016-04-11 06:40:00 End: 2016-04-14 17:55:00\n",
      "Records 30000 Start: 2016-04-14 18:25:00 End: 2016-04-18 05:40:00\n",
      "Records 31000 Start: 2016-04-18 06:10:00 End: 2016-04-21 17:25:00\n",
      "Records 32000 Start: 2016-04-21 17:55:00 End: 2016-04-25 05:10:00\n",
      "Records 33000 Start: 2016-04-25 05:40:00 End: 2016-04-28 16:55:00\n",
      "Records 34000 Start: 2016-04-28 17:25:00 End: 2016-05-02 04:40:00\n",
      "Records 35000 Start: 2016-05-02 05:10:00 End: 2016-05-05 16:25:00\n",
      "Records 36000 Start: 2016-05-05 16:55:00 End: 2016-05-09 04:10:00\n",
      "Records 37000 Start: 2016-05-09 04:40:00 End: 2016-05-12 15:55:00\n",
      "Records 38000 Start: 2016-05-12 16:25:00 End: 2016-05-16 03:40:00\n",
      "Records 39000 Start: 2016-05-16 04:10:00 End: 2016-05-19 15:25:00\n",
      "Records 40000 Start: 2016-05-19 15:55:00 End: 2016-05-23 03:15:00\n",
      "Records 41000 Start: 2016-05-23 03:45:00 End: 2016-05-26 16:45:00\n",
      "Records 42000 Start: 2016-05-26 17:15:00 End: 2016-05-30 04:30:00\n",
      "Records 43000 Start: 2016-05-30 05:00:00 End: 2016-06-02 16:15:00\n",
      "Records 44000 Start: 2016-06-02 16:45:00 End: 2016-06-06 04:00:00\n",
      "Records 45000 Start: 2016-06-06 04:30:00 End: 2016-06-09 15:45:00\n",
      "Records 46000 Start: 2016-06-09 16:15:00 End: 2016-06-13 03:30:00\n",
      "Records 47000 Start: 2016-06-13 04:00:00 End: 2016-06-16 15:15:00\n",
      "Records 48000 Start: 2016-06-16 15:45:00 End: 2016-06-20 03:00:00\n",
      "Records 49000 Start: 2016-06-20 03:30:00 End: 2016-06-23 14:45:00\n",
      "Records 50000 Start: 2016-06-23 15:15:00 End: 2016-06-27 02:30:00\n",
      "Records 51000 Start: 2016-06-27 03:00:00 End: 2016-06-30 14:15:00\n",
      "Records 52000 Start: 2016-06-30 14:45:00 End: 2016-07-04 02:00:00\n",
      "Records 53000 Start: 2016-07-04 02:30:00 End: 2016-07-07 13:45:00\n",
      "Records 54000 Start: 2016-07-07 14:15:00 End: 2016-07-11 01:30:00\n",
      "Records 55000 Start: 2016-07-11 02:00:00 End: 2016-07-14 13:15:00\n",
      "Records 56000 Start: 2016-07-14 13:45:00 End: 2016-07-18 01:00:00\n",
      "Records 57000 Start: 2016-07-18 01:30:00 End: 2016-07-21 12:45:00\n",
      "Records 58000 Start: 2016-07-21 13:15:00 End: 2016-07-25 00:40:00\n",
      "Records 59000 Start: 2016-07-25 01:10:00 End: 2016-07-28 12:25:00\n",
      "Records 60000 Start: 2016-07-28 12:55:00 End: 2016-08-01 00:10:00\n",
      "Records 61000 Start: 2016-08-01 00:40:00 End: 2016-08-04 11:55:00\n",
      "Records 62000 Start: 2016-08-04 12:25:00 End: 2016-08-07 23:40:00\n",
      "Records 63000 Start: 2016-08-08 00:10:00 End: 2016-08-11 11:25:00\n",
      "Records 64000 Start: 2016-08-11 11:55:00 End: 2016-08-14 23:10:00\n",
      "Records 65000 Start: 2016-08-14 23:40:00 End: 2016-08-18 11:05:00\n",
      "Records 66000 Start: 2016-08-18 11:35:00 End: 2016-08-21 22:50:00\n",
      "Records 67000 Start: 2016-08-21 23:20:00 End: 2016-08-25 10:35:00\n",
      "Records 68000 Start: 2016-08-25 11:05:00 End: 2016-08-28 22:20:00\n",
      "Records 69000 Start: 2016-08-28 22:50:00 End: 2016-09-01 10:05:00\n",
      "Records 70000 Start: 2016-09-01 10:35:00 End: 2016-09-04 21:50:00\n",
      "Records 71000 Start: 2016-09-04 22:20:00 End: 2016-09-08 09:35:00\n",
      "Records 72000 Start: 2016-09-08 10:05:00 End: 2016-09-11 21:20:00\n",
      "Records 73000 Start: 2016-09-11 21:50:00 End: 2016-09-15 09:05:00\n",
      "Records 74000 Start: 2016-09-15 09:35:00 End: 2016-09-18 20:50:00\n",
      "Records 75000 Start: 2016-09-18 21:20:00 End: 2016-09-22 08:35:00\n",
      "Records 76000 Start: 2016-09-22 09:05:00 End: 2016-09-25 20:20:00\n",
      "Records 77000 Start: 2016-09-25 20:50:00 End: 2016-09-29 08:15:00\n",
      "Records 78000 Start: 2016-09-29 08:45:00 End: 2016-10-02 20:00:00\n",
      "Records 79000 Start: 2016-10-02 20:30:00 End: 2016-10-06 07:45:00\n",
      "Records 80000 Start: 2016-10-06 08:15:00 End: 2016-10-09 19:35:00\n",
      "Records 81000 Start: 2016-10-09 20:05:00 End: 2016-10-13 07:20:00\n",
      "Records 82000 Start: 2016-10-13 07:50:00 End: 2016-10-16 19:05:00\n",
      "Records 83000 Start: 2016-10-16 19:35:00 End: 2016-10-20 06:50:00\n",
      "Records 84000 Start: 2016-10-20 07:20:00 End: 2016-10-23 18:35:00\n",
      "Records 85000 Start: 2016-10-23 19:05:00 End: 2016-10-27 06:20:00\n",
      "Records 86000 Start: 2016-10-27 06:50:00 End: 2016-10-30 18:05:00\n",
      "Records 87000 Start: 2016-10-30 18:35:00 End: 2016-11-03 05:55:00\n",
      "Records 88000 Start: 2016-11-03 06:25:00 End: 2016-11-06 16:40:00\n",
      "Records 89000 Start: 2016-11-06 17:10:00 End: 2016-11-10 04:25:00\n",
      "Records 90000 Start: 2016-11-10 04:55:00 End: 2016-11-13 16:10:00\n",
      "Records 91000 Start: 2016-11-13 16:40:00 End: 2016-11-17 03:55:00\n",
      "Records 92000 Start: 2016-11-17 04:25:00 End: 2016-11-20 15:40:00\n",
      "Records 93000 Start: 2016-11-20 16:10:00 End: 2016-11-24 03:25:00\n",
      "Records 94000 Start: 2016-11-24 03:55:00 End: 2016-11-27 15:15:00\n",
      "Records 95000 Start: 2016-11-27 15:45:00 End: 2016-12-01 03:00:00\n",
      "Records 96000 Start: 2016-12-01 03:30:00 End: 2016-12-04 14:45:00\n",
      "Records 97000 Start: 2016-12-04 15:15:00 End: 2016-12-08 02:30:00\n",
      "Records 98000 Start: 2016-12-08 03:00:00 End: 2016-12-11 14:20:00\n",
      "Records 99000 Start: 2016-12-11 14:50:00 End: 2016-12-15 02:05:00\n",
      "Records 100000 Start: 2016-12-15 02:35:00 End: 2016-12-18 13:50:00\n",
      "Records 101000 Start: 2016-12-18 14:20:00 End: 2016-12-22 01:35:00\n",
      "Records 102000 Start: 2016-12-22 02:05:00 End: 2016-12-25 13:20:00\n",
      "Records 103000 Start: 2016-12-25 13:50:00 End: 2016-12-29 01:05:00\n",
      "Records 104000 Start: 2016-12-29 01:35:00 End: 2017-01-01 12:50:00\n",
      "Records 105000 Start: 2017-01-01 13:20:00 End: 2017-01-05 00:35:00\n",
      "Records 106000 Start: 2017-01-05 01:05:00 End: 2017-01-08 12:20:00\n",
      "Records 107000 Start: 2017-01-08 12:50:00 End: 2017-01-12 00:05:00\n",
      "Records 108000 Start: 2017-01-12 00:35:00 End: 2017-01-15 11:50:00\n",
      "Records 109000 Start: 2017-01-15 12:20:00 End: 2017-01-18 23:40:00\n",
      "Records 110000 Start: 2017-01-19 00:10:00 End: 2017-01-22 11:30:00\n",
      "Records 111000 Start: 2017-01-22 12:00:00 End: 2017-01-25 23:20:00\n",
      "Records 112000 Start: 2017-01-25 23:50:00 End: 2017-01-29 11:05:00\n",
      "Records 113000 Start: 2017-01-29 11:35:00 End: 2017-02-01 22:50:00\n",
      "Records 114000 Start: 2017-02-01 23:20:00 End: 2017-02-05 10:35:00\n",
      "Records 115000 Start: 2017-02-05 11:05:00 End: 2017-02-08 22:20:00\n",
      "Records 116000 Start: 2017-02-08 22:50:00 End: 2017-02-12 10:05:00\n",
      "Records 117000 Start: 2017-02-12 10:35:00 End: 2017-02-15 21:50:00\n",
      "Records 118000 Start: 2017-02-15 22:20:00 End: 2017-02-19 09:35:00\n",
      "Records 119000 Start: 2017-02-19 10:05:00 End: 2017-02-22 21:20:00\n",
      "Records 120000 Start: 2017-02-22 21:50:00 End: 2017-02-26 09:10:00\n",
      "Records 121000 Start: 2017-02-26 09:40:00 End: 2017-03-01 20:55:00\n",
      "Records 122000 Start: 2017-03-01 21:25:00 End: 2017-03-05 08:40:00\n",
      "Records 123000 Start: 2017-03-05 09:10:00 End: 2017-03-08 20:25:00\n"
     ]
    },
    {
     "name": "stdout",
     "output_type": "stream",
     "text": [
      "Records 124000 Start: 2017-03-08 20:55:00 End: 2017-03-12 09:10:00\n",
      "Records 125000 Start: 2017-03-12 09:40:00 End: 2017-03-15 21:00:00\n",
      "Records 126000 Start: 2017-03-15 21:30:00 End: 2017-03-19 08:45:00\n",
      "Records 127000 Start: 2017-03-19 09:15:00 End: 2017-03-22 20:30:00\n",
      "Records 128000 Start: 2017-03-22 21:00:00 End: 2017-03-26 08:15:00\n",
      "Records 129000 Start: 2017-03-26 08:45:00 End: 2017-03-29 20:00:00\n",
      "Records 130000 Start: 2017-03-29 20:30:00 End: 2017-04-02 07:45:00\n",
      "Records 131000 Start: 2017-04-02 08:15:00 End: 2017-04-05 19:30:00\n",
      "Records 132000 Start: 2017-04-05 20:00:00 End: 2017-04-09 07:15:00\n",
      "Records 133000 Start: 2017-04-09 07:45:00 End: 2017-04-12 19:00:00\n",
      "Records 134000 Start: 2017-04-12 19:30:00 End: 2017-04-16 06:45:00\n",
      "Records 135000 Start: 2017-04-16 07:15:00 End: 2017-04-19 18:30:00\n",
      "Records 136000 Start: 2017-04-19 19:00:00 End: 2017-04-23 06:20:00\n",
      "Records 137000 Start: 2017-04-23 06:50:00 End: 2017-04-26 18:05:00\n",
      "Records 138000 Start: 2017-04-26 18:35:00 End: 2017-04-30 05:50:00\n",
      "Records 139000 Start: 2017-04-30 06:20:00 End: 2017-05-03 17:35:00\n",
      "Records 140000 Start: 2017-05-03 18:05:00 End: 2017-05-07 05:20:00\n",
      "Records 141000 Start: 2017-05-07 05:50:00 End: 2017-05-10 17:05:00\n",
      "Records 142000 Start: 2017-05-10 17:35:00 End: 2017-05-14 04:50:00\n",
      "Records 143000 Start: 2017-05-14 05:20:00 End: 2017-05-17 16:35:00\n",
      "Records 144000 Start: 2017-05-17 17:05:00 End: 2017-05-21 04:20:00\n",
      "Records 145000 Start: 2017-05-21 04:50:00 End: 2017-05-24 16:05:00\n",
      "Records 146000 Start: 2017-05-24 16:35:00 End: 2017-05-28 03:50:00\n",
      "Records 147000 Start: 2017-05-28 04:20:00 End: 2017-05-31 15:35:00\n",
      "Records 148000 Start: 2017-05-31 16:05:00 End: 2017-06-04 03:20:00\n",
      "Records 149000 Start: 2017-06-04 03:50:00 End: 2017-06-07 15:05:00\n",
      "Records 150000 Start: 2017-06-07 15:35:00 End: 2017-06-11 02:50:00\n",
      "Records 151000 Start: 2017-06-11 03:20:00 End: 2017-06-14 14:35:00\n",
      "Records 152000 Start: 2017-06-14 15:05:00 End: 2017-06-18 02:25:00\n",
      "Records 153000 Start: 2017-06-18 02:55:00 End: 2017-06-21 14:10:00\n",
      "Records 154000 Start: 2017-06-21 14:40:00 End: 2017-06-25 01:55:00\n",
      "Records 155000 Start: 2017-06-25 02:25:00 End: 2017-06-28 13:40:00\n",
      "Records 156000 Start: 2017-06-28 14:10:00 End: 2017-07-02 01:25:00\n",
      "Records 157000 Start: 2017-07-02 01:55:00 End: 2017-07-05 13:10:00\n",
      "Records 158000 Start: 2017-07-05 13:40:00 End: 2017-07-09 00:55:00\n",
      "Records 159000 Start: 2017-07-09 01:25:00 End: 2017-07-12 12:40:00\n",
      "Records 160000 Start: 2017-07-12 13:10:00 End: 2017-07-16 00:25:00\n",
      "Records 161000 Start: 2017-07-16 00:55:00 End: 2017-07-19 12:10:00\n",
      "Records 162000 Start: 2017-07-19 12:40:00 End: 2017-07-22 23:55:00\n",
      "Records 163000 Start: 2017-07-23 00:25:00 End: 2017-07-26 11:40:00\n",
      "Records 164000 Start: 2017-07-26 12:10:00 End: 2017-07-29 23:25:00\n",
      "Records 165000 Start: 2017-07-29 23:55:00 End: 2017-08-02 11:10:00\n",
      "Records 166000 Start: 2017-08-02 11:40:00 End: 2017-08-05 22:55:00\n",
      "Records 167000 Start: 2017-08-05 23:25:00 End: 2017-08-09 11:50:00\n",
      "Records 168000 Start: 2017-08-09 12:20:00 End: 2017-08-12 23:35:00\n",
      "Records 169000 Start: 2017-08-13 00:05:00 End: 2017-08-16 11:20:00\n",
      "Records 170000 Start: 2017-08-16 11:50:00 End: 2017-08-19 23:10:00\n",
      "Records 171000 Start: 2017-08-19 23:40:00 End: 2017-08-23 11:00:00\n",
      "Records 172000 Start: 2017-08-23 11:30:00 End: 2017-08-26 22:45:00\n",
      "Records 173000 Start: 2017-08-26 23:15:00 End: 2017-08-30 10:30:00\n",
      "Records 174000 Start: 2017-08-30 11:00:00 End: 2017-09-02 22:15:00\n",
      "Records 175000 Start: 2017-09-02 22:45:00 End: 2017-09-06 10:00:00\n",
      "Records 176000 Start: 2017-09-06 10:30:00 End: 2017-09-09 21:45:00\n",
      "Records 177000 Start: 2017-09-09 22:15:00 End: 2017-09-13 09:30:00\n",
      "Records 178000 Start: 2017-09-13 10:00:00 End: 2017-09-16 21:15:00\n",
      "Records 179000 Start: 2017-09-16 21:45:00 End: 2017-09-20 09:00:00\n",
      "Records 180000 Start: 2017-09-20 09:30:00 End: 2017-09-23 20:45:00\n",
      "Records 181000 Start: 2017-09-23 21:15:00 End: 2017-09-27 08:30:00\n",
      "Records 182000 Start: 2017-09-27 09:00:00 End: 2017-09-30 20:15:00\n",
      "Records 183000 Start: 2017-09-30 20:45:00 End: 2017-10-04 08:05:00\n",
      "Records 184000 Start: 2017-10-04 08:35:00 End: 2017-10-07 19:50:00\n",
      "Records 185000 Start: 2017-10-07 20:20:00 End: 2017-10-11 07:35:00\n",
      "Records 186000 Start: 2017-10-11 08:05:00 End: 2017-10-14 19:25:00\n",
      "Records 187000 Start: 2017-10-14 19:55:00 End: 2017-10-18 07:10:00\n",
      "Records 188000 Start: 2017-10-18 07:40:00 End: 2017-10-21 18:55:00\n",
      "Records 189000 Start: 2017-10-21 19:25:00 End: 2017-10-25 06:40:00\n",
      "Records 190000 Start: 2017-10-25 07:10:00 End: 2017-10-28 18:25:00\n",
      "Records 191000 Start: 2017-10-28 18:55:00 End: 2017-11-01 06:10:00\n",
      "Records 192000 Start: 2017-11-01 06:40:00 End: 2017-11-04 17:55:00\n",
      "Records 193000 Start: 2017-11-04 18:25:00 End: 2017-11-08 04:40:00\n",
      "Records 194000 Start: 2017-11-08 05:10:00 End: 2017-11-11 16:25:00\n",
      "Records 195000 Start: 2017-11-11 16:55:00 End: 2017-11-15 04:10:00\n",
      "Records 196000 Start: 2017-11-15 04:40:00 End: 2017-11-18 15:55:00\n",
      "Records 197000 Start: 2017-11-18 16:25:00 End: 2017-11-22 03:40:00\n",
      "Records 198000 Start: 2017-11-22 04:10:00 End: 2017-11-25 15:25:00\n",
      "Records 199000 Start: 2017-11-25 15:55:00 End: 2017-11-29 03:10:00\n",
      "Records 200000 Start: 2017-11-29 03:40:00 End: 2017-12-02 15:00:00\n",
      "Records 201000 Start: 2017-12-02 15:30:00 End: 2017-12-06 02:45:00\n",
      "Records 202000 Start: 2017-12-06 03:15:00 End: 2017-12-09 14:50:00\n",
      "Records 203000 Start: 2017-12-09 15:20:00 End: 2017-12-13 02:50:00\n",
      "Records 204000 Start: 2017-12-13 03:20:00 End: 2017-12-16 14:35:00\n",
      "Records 205000 Start: 2017-12-16 15:05:00 End: 2017-12-20 02:20:00\n",
      "Records 206000 Start: 2017-12-20 02:50:00 End: 2017-12-23 14:05:00\n",
      "Records 207000 Start: 2017-12-23 14:35:00 End: 2017-12-27 01:55:00\n",
      "Records 208000 Start: 2017-12-27 02:25:00 End: 2017-12-30 13:40:00\n",
      "Records 209000 Start: 2017-12-30 14:10:00 End: 2018-01-03 03:25:00\n",
      "Records 210000 Start: 2018-01-03 03:55:00 End: 2018-01-06 15:10:00\n",
      "Records 211000 Start: 2018-01-06 15:40:00 End: 2018-01-10 03:00:00\n",
      "Records 212000 Start: 2018-01-10 03:30:00 End: 2018-01-13 14:50:00\n",
      "Records 213000 Start: 2018-01-13 15:20:00 End: 2018-01-17 03:00:00\n",
      "Records 214000 Start: 2018-01-17 03:30:00 End: 2018-01-20 14:45:00\n",
      "Records 215000 Start: 2018-01-20 15:15:00 End: 2018-01-24 02:30:00\n"
     ]
    }
   ],
   "source": [
    "df = get_all_data(asset, start, end, timeframe, request_size, fpath)"
   ]
  },
  {
   "cell_type": "markdown",
   "metadata": {},
   "source": [
    "## Load CSV"
   ]
  },
  {
   "cell_type": "code",
   "execution_count": null,
   "metadata": {},
   "outputs": [],
   "source": [
    "# https://github.com/bfortuner/computer-vision/blob/master/applied/libraries/PandasQuickstart.ipynb\n",
    "\n",
    "def insert_fiat_title(columns, fiat):\n",
    "    for i in range(len(columns)):\n",
    "        columns[i].replace('fiat', fiat)\n",
    "    return columns\n",
    "\n",
    "def format_bnc_exchange_rate_data(df):\n",
    "    df = df.rename(index=str, columns={\"price_fiat\": \"price\", \"volume_fiat\": \"volume\"})\n",
    "    df = df.drop(labels=['price_coin', 'volume_coin'], axis=1)\n",
    "    for col in df.columns:\n",
    "        df[col] = np.round(df[col].values, 5)\n",
    "    df['timestamp'] = df['timestamp'].values.astype(int)\n",
    "    df['volume'] = df['volume'].values.astype(int)\n",
    "    df.sort_values(by='timestamp', ascending=True, inplace=True)\n",
    "    df = df.set_index('timestamp')\n",
    "    return df\n",
    "\n",
    "def load_bnc_exchange_rate_data(fpath):\n",
    "    df = pd.read_csv(fpath)\n",
    "    df = format_bnc_exchange_rate_data(df)\n",
    "    return df\n",
    "\n",
    "def load_price_df(coin, fiat, exchange, timestep, loader):\n",
    "    fpath = get_price_fpath(coin, fiat, exchange, timestep)\n",
    "    df = loader(fpath)\n",
    "    return df\n",
    "\n",
    "def join_price_dfs(dfs, coins):\n",
    "    combo = None\n",
    "    for i in range(len(dfs)):\n",
    "        dfs[i].columns = [c + '_' + coins[i] for c in dfs[i].columns]\n",
    "        if combo is None:\n",
    "            combo = dfs[i].copy()\n",
    "        else:\n",
    "            combo = combo.join(dfs[i].copy(), sort=True)\n",
    "    epochsec = [datetime.datetime.fromtimestamp(t) for t in combo.index.values]\n",
    "    combo = combo.assign(utc = epochsec)\n",
    "    combo.sort_values(by='utc', ascending=True, inplace=True)\n",
    "    return combo\n",
    "\n",
    "def load_prices(coins, fiat, exchange, timestep_sec, loader):\n",
    "    dfs = []\n",
    "    for coin in coins:\n",
    "        df = load_price_df(coin, fiat, exchange, timestep_sec, loader)\n",
    "        dfs.append(df)\n",
    "    combined = join_price_dfs(dfs, coins)\n",
    "    return combined"
   ]
  },
  {
   "cell_type": "code",
   "execution_count": null,
   "metadata": {},
   "outputs": [],
   "source": [
    "btc_df = load_price_df(coins.BTC, coins.USD, c.BNC, 300, load_bnc_exchange_rate_data)\n",
    "eth_df = load_price_df(coins.ETH, coins.USD, c.BNC, 300, load_bnc_exchange_rate_data)\n",
    "ltc_df = load_price_df(coins.LTC, coins.USD, c.BNC, 300, load_bnc_exchange_rate_data)"
   ]
  },
  {
   "cell_type": "code",
   "execution_count": null,
   "metadata": {},
   "outputs": [],
   "source": [
    "price_df = load_prices(coins=[coins.BTC, coins.ETH, coins.LTC], fiat=coins.USD, exchange=c.BNC, \n",
    "                       timestep_sec=300, loader=load_bnc_exchange_rate_data)\n",
    "price_df.head()"
   ]
  },
  {
   "cell_type": "code",
   "execution_count": null,
   "metadata": {},
   "outputs": [],
   "source": [
    "# Null Handling \n",
    "price_df.isnull().sum()                            #Show # of null values in each Column\n",
    "\n",
    "# df3[df3.Age.isnull()][['Name','Age']]         #Show rows where Age is null\n",
    "# df3.isnull()                                  #Return True/False if cell is null\n",
    "# df3.fillna(value={\"Cabin\":\"DEFAULT_CABIN\"})   #Set null values in column to default value \n",
    "# df3.dropna(how='any')                         #Drop rows with missing data in ANY cell\n",
    "# df3.fillna(value=\"DEFAULT\").head(2)           #Fill cells missing data w 5"
   ]
  },
  {
   "cell_type": "code",
   "execution_count": null,
   "metadata": {},
   "outputs": [],
   "source": [
    "# Check for missing timesteps\n",
    "def check_missing_timesteps(df, timestep):\n",
    "    df = df.sort_values(by='utc')\n",
    "    start_time = df.iloc[0]['utc']\n",
    "    end_time = df.iloc[-1]['utc']\n",
    "    print(\"Start\", start_time)\n",
    "    print(\"End\", end_time)\n",
    "    last_time = start_time\n",
    "    n_missing = 0\n",
    "    for idx,row in df[1:].iterrows():\n",
    "        cur_time = row['utc']\n",
    "        if cur_time != last_time + datetime.timedelta(seconds=timestep):\n",
    "            print(\"Expected:\", last_time + datetime.timedelta(seconds=timestep), \n",
    "                  \"| Time:\", cur_time)\n",
    "            n_missing += (cur_time - last_time).seconds//timestep\n",
    "        last_time = cur_time\n",
    "    return n_missing\n",
    "\n",
    "check_missing_timesteps(price_df, 300)"
   ]
  },
  {
   "cell_type": "markdown",
   "metadata": {},
   "source": [
    "## Plot"
   ]
  },
  {
   "cell_type": "code",
   "execution_count": null,
   "metadata": {},
   "outputs": [],
   "source": [
    "# https://github.com/quantopian/qgrid\n",
    "# https://hub.mybinder.org/user/quantopian-qgrid-notebooks-bu5joi0d/notebooks/index.ipynb\n",
    "# https://ipywidgets.readthedocs.io/en/stable/examples/Widget%20Basics.html\n",
    "\n",
    "qgrid_widget = qgrid.QgridWidget(df=price_df, show_toolbar=False)\n",
    "qgrid_widget\n",
    "#qgrid_widget.get_changed_df()"
   ]
  },
  {
   "cell_type": "code",
   "execution_count": null,
   "metadata": {},
   "outputs": [],
   "source": [
    "def plot_prices(time, close, title=\"Price\"):\n",
    "    fig, ax = plt.subplots()\n",
    "    ax.plot(time, close)\n",
    "\n",
    "    years = mdates.YearLocator()   # every year\n",
    "    months = mdates.MonthLocator()  # every month\n",
    "    yearsFmt = mdates.DateFormatter('%Y')\n",
    "    monthsFmt = mdates.DateFormatter('%m')\n",
    "    ax.xaxis.set_major_locator(years)\n",
    "    ax.xaxis.set_major_formatter(yearsFmt)\n",
    "    ax.xaxis.set_minor_locator(months)\n",
    "    ax.xaxis.set_minor_formatter(monthsFmt)\n",
    "\n",
    "    # datemin = datetime.date(r.date.min().year, 1, 1)\n",
    "    # datemax = datetime.date(r.date.max().year + 1, 1, 1)\n",
    "    # ax.set_xlim(datemin, datemax)\n",
    "\n",
    "    # # format the coords message box\n",
    "    # def price(x):\n",
    "    #     return '$%1.2f' % x\n",
    "    # ax.format_xdata = mdates.DateFormatter('%Y-%m-%d')\n",
    "    # ax.format_ydata = price\n",
    "    ax.grid(True)\n",
    "\n",
    "    # rotates and right aligns the x labels, and moves the bottom of the\n",
    "    # axes up to make room for them\n",
    "    fig.autofmt_xdate(rotation=30)\n",
    "    fig.set_size_inches(12,6)\n",
    "    plt.title(title)\n",
    "    plt.show()\n",
    "\n",
    "def plot_range(df, start, end, y_name):\n",
    "    df = df[ (df['utc'] >= start) & (df['utc'] < end) ]\n",
    "    vals = df[['utc', y_name]].values\n",
    "    plot_prices(vals[:,0], vals[:,1], title=y_name)"
   ]
  },
  {
   "cell_type": "code",
   "execution_count": null,
   "metadata": {},
   "outputs": [],
   "source": [
    "vals = price_df[['utc','price_BTC']].values\n",
    "plot_prices(vals[:,0], vals[:,1], 'BTC-USD')\n",
    "vals = price_df[['utc','price_ETH']].values\n",
    "plot_prices(vals[:,0], vals[:,1], 'ETH-USD')\n",
    "vals = price_df[['utc','price_LTC']].values\n",
    "plot_prices(vals[:,0], vals[:,1], 'LTC-USD')\n",
    "\n",
    "start = datetime.datetime(2017, 4, 15, 12, 0)\n",
    "end = datetime.datetime(2017, 8, 15, 16, 10)\n",
    "plot_range(price_df, start, end, 'price_BTC')"
   ]
  },
  {
   "cell_type": "markdown",
   "metadata": {},
   "source": [
    "### Bin"
   ]
  },
  {
   "cell_type": "code",
   "execution_count": null,
   "metadata": {},
   "outputs": [],
   "source": [
    "def get_binned_prices(df, bin_size='30T'):\n",
    "    # https://stackoverflow.com/questions/17001389/pandas-resample-documentation\n",
    "    # http://benalexkeen.com/resampling-time-series-data-with-pandas/\n",
    "    # price_df.resample(rule='30T').ohlc() - (open, high, low, close)\n",
    "    \n",
    "    df = df.set_index('utc')\n",
    "    columns = df.columns\n",
    "    binned = pd.DataFrame()\n",
    "    for col in columns:\n",
    "        if 'price' in col:\n",
    "            binned['open_' + col] = df[col].resample(rule=bin_size).first().round(5)\n",
    "            binned['close_' + col] = df[col].resample(rule=bin_size).last().round(5)\n",
    "            binned['high_' + col] = df[col].resample(rule=bin_size).max().round(5)\n",
    "            binned['low_' + col] = df[col].resample(rule=bin_size).min().round(5)\n",
    "        elif 'volume' in col:\n",
    "            binned[col] = df[col].resample(rule=bin_size).sum().round(0)\n",
    "        else:\n",
    "            binned[col] = df[col]\n",
    "    binned['timestamp'] = [round(t.timestamp()) for t in binned.index]\n",
    "    return binned"
   ]
  },
  {
   "cell_type": "code",
   "execution_count": null,
   "metadata": {},
   "outputs": [],
   "source": [
    "currency_df = load_prices(coins=[coins.BTC, coins.ETH, coins.LTC], fiat=coins.USD, exchange=c.BNC, \n",
    "                       timestep_sec=300, loader=load_bnc_exchange_rate_data)"
   ]
  },
  {
   "cell_type": "code",
   "execution_count": null,
   "metadata": {},
   "outputs": [],
   "source": [
    "currency_30min_df = get_binned_prices(currency_df, bin_size='30T')\n",
    "currency_30min_df.head()"
   ]
  },
  {
   "cell_type": "code",
   "execution_count": null,
   "metadata": {},
   "outputs": [],
   "source": [
    "qgrid_widget = qgrid.QgridWidget(df=currency_30min_df, show_toolbar=False)\n",
    "qgrid_widget"
   ]
  },
  {
   "cell_type": "markdown",
   "metadata": {},
   "source": [
    "## Analyze"
   ]
  },
  {
   "cell_type": "code",
   "execution_count": null,
   "metadata": {},
   "outputs": [],
   "source": [
    "columns = [c for c in currency_30min_df.columns if 'close_price' in c]\n",
    "price_df = currency_30min_df[columns]\n",
    "price_df.columns = ['BTC', 'ETH', 'LTC']\n",
    "price_df.head()"
   ]
  },
  {
   "cell_type": "code",
   "execution_count": null,
   "metadata": {},
   "outputs": [],
   "source": [
    "# Normalize \n",
    "price_df_norm = price_df.divide(price_df.iloc[0])\n",
    "price_df_norm.head()"
   ]
  },
  {
   "cell_type": "code",
   "execution_count": null,
   "metadata": {},
   "outputs": [],
   "source": [
    "price_df_norm.plot()"
   ]
  },
  {
   "cell_type": "code",
   "execution_count": null,
   "metadata": {},
   "outputs": [],
   "source": [
    "# Percent change (from ?)\n",
    "# There are some outliers that will mess up a model. How to fix....\n",
    "# for example, BTC on 2016-09-26 06:00:00\n",
    "price_df_pct = price_df.pct_change()\n",
    "price_df_pct = price_df_pct.replace([1.0, -1.0], np.nan)\n",
    "price_df_pct = price_df_pct.replace([np.inf, -np.inf], np.nan)\n",
    "price_df_pct = price_df_pct.dropna()\n",
    "price_df_pct.head()"
   ]
  },
  {
   "cell_type": "code",
   "execution_count": null,
   "metadata": {},
   "outputs": [],
   "source": [
    "# Correlation\n",
    "# https://www.investopedia.com/terms/n/negative-correlation.asp\n",
    "# https://medium.com/@eliquinox/cryptocurrency-data-analysis-part-ii-downloading-manipulating-and-analysing-bulk-data-e234a43e6259\n",
    "\n",
    "corr = price_df_pct.corr()\n",
    "sns.heatmap(corr, \n",
    "            xticklabels=corr.columns.values,\n",
    "            yticklabels=corr.columns.values)\n",
    "\n",
    "# Print correlations\n",
    "corr['BTC']['ETH'], corr['BTC']['LTC']"
   ]
  },
  {
   "cell_type": "code",
   "execution_count": null,
   "metadata": {},
   "outputs": [],
   "source": [
    "plt.scatter(price_df_pct['BTC'], price_df_pct['LTC'])\n",
    "plt.xlabel('BTC % Return')\n",
    "plt.ylabel('LTC % Return')"
   ]
  },
  {
   "cell_type": "code",
   "execution_count": null,
   "metadata": {},
   "outputs": [],
   "source": [
    "# Linear Regression\n",
    "# https://www.datarobot.com/blog/ordinary-least-squares-in-python/\n",
    "# http://www.statsmodels.org/dev/examples/notebooks/generated/ols.html\n",
    "\n",
    "import statsmodels.api as sm\n",
    "\n",
    "# Dependent, Indenpendent\n",
    "model = sm.OLS(price_df_pct['ETH'],\n",
    "               price_df_pct['LTC']).fit()\n",
    "model.summary()\n",
    "\n",
    "# R squared - how much of LTC change can be explained by BTC changes?"
   ]
  },
  {
   "cell_type": "code",
   "execution_count": null,
   "metadata": {},
   "outputs": [],
   "source": [
    "# multiply each value of BTC pct change by the slope coefficient\n",
    "line = [model.params[0]*i for i in price_df_pct['BTC'].values]\n",
    "plt.plot(price_df_pct['BTC'], line, c = 'r')\n",
    "plt.scatter(price_df_pct['BTC'], price_df_pct['LTC'])\n",
    "plt.xlabel('BTC % Return')\n",
    "plt.ylabel('LTC % Return')"
   ]
  },
  {
   "cell_type": "markdown",
   "metadata": {},
   "source": [
    "## Moving Average Crossover"
   ]
  },
  {
   "cell_type": "code",
   "execution_count": null,
   "metadata": {},
   "outputs": [],
   "source": [
    "# https://en.wikipedia.org/wiki/Moving_average#Simple_moving_average\n",
    "\"\"\"\n",
    "Interestingly it looks like prices quoted in Bitcoin are more predictive ..\n",
    "\"\"\"\n",
    "\n",
    "coin = coins.LTC\n",
    "fiat = coins.USD\n",
    "\n",
    "df = load_prices(coins=[coin], fiat=fiat, exchange=c.BNC, \n",
    "                 timestep_sec=300, loader=load_bnc_exchange_rate_data)\n",
    "df = df.set_index('utc')\n",
    "df = df.rename(columns={'price_'+coin:'close'})\n",
    "df = df.drop(['volume_'+coin], axis=1)"
   ]
  },
  {
   "cell_type": "code",
   "execution_count": null,
   "metadata": {},
   "outputs": [],
   "source": [
    "df.head()"
   ]
  },
  {
   "cell_type": "code",
   "execution_count": null,
   "metadata": {},
   "outputs": [],
   "source": [
    "# Add moving averages\n",
    "df['SMA_1000'] = df['close'].rolling(1000).mean() # 16 hours\n",
    "df['SMA_5000'] = df['close'].rolling(5000).mean() # 4 days\n",
    "df[['close','SMA_1000','SMA_5000']][len(df)-15000:].plot(figsize = (16,10))\n",
    "df = df.dropna()\n",
    "df.head()"
   ]
  },
  {
   "cell_type": "code",
   "execution_count": null,
   "metadata": {},
   "outputs": [],
   "source": [
    "\"\"\"\n",
    "Strategy\n",
    "\n",
    "BUY if Leading SMA is above Lagging SMA by some threshold.\n",
    "SELL if Leading SMA is below Lagging SMA by some threshold.\n",
    "\n",
    "Threshold = 2.5% of current price (filter out weak signals)\n",
    "\"\"\"\n",
    "\n",
    "def test_sma(df, lead, lag, pc_thresh = 0.025):\n",
    "    ma_df = df.copy()\n",
    "    ma_df['lead'] = ma_df['close'].rolling(lead).mean()\n",
    "    ma_df['lag'] = ma_df['close'].rolling(lag).mean()\n",
    "    ma_df.dropna(inplace = True)\n",
    "    ma_df['lead-lag'] = ma_df['lead'] - ma_df['lag']\n",
    "    ma_df['pc_diff'] = ma_df['lead-lag'] / ma_df['close']\n",
    "    ma_df['regime'] = np.where(ma_df['pc_diff'] > pc_thresh, 1, 0)\n",
    "    ma_df['regime'] = np.where(ma_df['pc_diff'] < -pc_thresh, -1, ma_df['regime'])\n",
    "    ma_df['Market'] = np.log(ma_df['close'] / ma_df['close'].shift(1))\n",
    "    ma_df['Strategy'] = ma_df['regime'].shift(1) * ma_df['Market']\n",
    "    ma_df[['Market','Strategy']] = ma_df[['Market','Strategy']].cumsum().apply(np.exp)\n",
    "    return ma_df"
   ]
  },
  {
   "cell_type": "code",
   "execution_count": null,
   "metadata": {},
   "outputs": [],
   "source": [
    "sma_df = test_sma(df, 100, 4100).dropna()\n",
    "sma_df.head()"
   ]
  },
  {
   "cell_type": "code",
   "execution_count": null,
   "metadata": {},
   "outputs": [],
   "source": [
    "sma_df['Strategy'][-1]"
   ]
  },
  {
   "cell_type": "code",
   "execution_count": null,
   "metadata": {},
   "outputs": [],
   "source": [
    "# Buy / Short / Neutral Action\n",
    "sma_df['regime'].plot(figsize=(16,5))"
   ]
  },
  {
   "cell_type": "code",
   "execution_count": null,
   "metadata": {},
   "outputs": [],
   "source": [
    "# Compare to buy and hold\n",
    "sma_df[['Market','Strategy']].iloc[-1]"
   ]
  },
  {
   "cell_type": "code",
   "execution_count": null,
   "metadata": {},
   "outputs": [],
   "source": [
    "sma_df[['Market','Strategy']][len(sma_df)-100000:].plot(figsize = (16,10))"
   ]
  },
  {
   "cell_type": "code",
   "execution_count": null,
   "metadata": {},
   "outputs": [],
   "source": [
    "# Search for Optimal Lead/Lag Periods\n",
    "leads = np.arange(100, 4100, 100)\n",
    "lags = np.arange(4100, 8100, 100)\n",
    "lead_lags = [[lead, lag] for lead in leads for lag in lags]\n",
    "pnls = pd.DataFrame(index=lags,  columns=leads)\n",
    "print(len(lead_lags))"
   ]
  },
  {
   "cell_type": "code",
   "execution_count": null,
   "metadata": {
    "scrolled": false
   },
   "outputs": [],
   "source": [
    "for lead, lag in lead_lags:\n",
    "    results = test_sma(df, lead, lag).dropna()\n",
    "    pnls[lead][lag] = results['Strategy'][-1]\n",
    "    print(lead, lag, pnls[lead][lag])"
   ]
  },
  {
   "cell_type": "code",
   "execution_count": null,
   "metadata": {},
   "outputs": [],
   "source": [
    "pnls.head()"
   ]
  },
  {
   "cell_type": "code",
   "execution_count": null,
   "metadata": {},
   "outputs": [],
   "source": [
    "PNLs = pnls[pnls.columns].astype(float)\n",
    "plt.subplots(figsize = (14,10))\n",
    "sns.heatmap(PNLs, cmap='PiYG')"
   ]
  },
  {
   "cell_type": "code",
   "execution_count": null,
   "metadata": {},
   "outputs": [],
   "source": [
    "# Get max value for each lead lookback\n",
    "\"\"\"\n",
    "Lead of 900 periods produces maximum PnL. \n",
    "By referencing back the the matrix heatmap, we can find the corresponding lag period.\n",
    "\n",
    "Optimal looks like (BTC):\n",
    "    lead = 1200 - 1500\n",
    "    lag = 5400 - 5800\n",
    "\n",
    "lets say (1350, 5800)\n",
    "ratio: 5:1\n",
    "\"\"\"\n",
    "PNLs.max()\n",
    "print(\"optimal\", PNLs[1300][5800])"
   ]
  },
  {
   "cell_type": "markdown",
   "metadata": {},
   "source": [
    "## Assumptions"
   ]
  },
  {
   "cell_type": "markdown",
   "metadata": {},
   "source": [
    "We ignore important factors:\n",
    "\n",
    "* Commissions (25 bps)\n",
    "* Shorting (usually can't do this)\n",
    "* Slippage (we assume we will always get the order price we request)\n",
    "* Market Impact (the market price may change when we start placing orders)\n",
    "* Overfitting (We brute force searched for optimal lead/lag ratio - this won't generalize)\n",
    "* Exchange risk (Exchanges get hacked)"
   ]
  },
  {
   "cell_type": "code",
   "execution_count": null,
   "metadata": {},
   "outputs": [],
   "source": []
  }
 ],
 "metadata": {
  "kernelspec": {
   "display_name": "Python 3",
   "language": "python",
   "name": "python3"
  },
  "language_info": {
   "codemirror_mode": {
    "name": "ipython",
    "version": 3
   },
   "file_extension": ".py",
   "mimetype": "text/x-python",
   "name": "python",
   "nbconvert_exporter": "python",
   "pygments_lexer": "ipython3",
   "version": "3.6.4"
  },
  "latex_envs": {
   "LaTeX_envs_menu_present": true,
   "autocomplete": true,
   "bibliofile": "biblio.bib",
   "cite_by": "apalike",
   "current_citInitial": 1,
   "eqLabelWithNumbers": true,
   "eqNumInitial": 1,
   "hotkeys": {
    "equation": "Ctrl-E",
    "itemize": "Ctrl-I"
   },
   "labels_anchors": false,
   "latex_user_defs": false,
   "report_style_numbering": false,
   "user_envs_cfg": false
  },
  "toc": {
   "colors": {
    "hover_highlight": "#DAA520",
    "navigate_num": "#000000",
    "navigate_text": "#333333",
    "running_highlight": "#FF0000",
    "selected_highlight": "#FFD700",
    "sidebar_border": "#EEEEEE",
    "wrapper_background": "#FFFFFF"
   },
   "moveMenuLeft": true,
   "nav_menu": {
    "height": "49px",
    "width": "254px"
   },
   "navigate_menu": true,
   "number_sections": true,
   "sideBar": true,
   "threshold": 4,
   "toc_cell": false,
   "toc_section_display": "block",
   "toc_window_display": false,
   "widenNotebook": false
  }
 },
 "nbformat": 4,
 "nbformat_minor": 2
}
