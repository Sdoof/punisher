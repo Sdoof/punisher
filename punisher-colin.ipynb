{
 "cells": [
  {
   "cell_type": "code",
   "execution_count": 1,
   "metadata": {},
   "outputs": [],
   "source": [
    "%matplotlib inline\n",
    "%load_ext autoreload\n",
    "%autoreload 2\n",
    "from common import *\n",
    "import qgrid"
   ]
  },
  {
   "cell_type": "markdown",
   "metadata": {
    "heading_collapsed": true
   },
   "source": [
    "### Balance"
   ]
  },
  {
   "cell_type": "code",
   "execution_count": 2,
   "metadata": {
    "hidden": true
   },
   "outputs": [
    {
     "name": "stdout",
     "output_type": "stream",
     "text": [
      "Currencies ['BTC']\n",
      "Entries {'BTC': {'free': 1.0, 'used': 0.0, 'total': 0.0}, 'free': {'BTC': 1.0}, 'used': {'BTC': 0.0}, 'total': {'BTC': 0.0}}\n",
      "Currencies ['BTC', 'ETH']\n",
      "ETH 1.0\n"
     ]
    }
   ],
   "source": [
    "from portfolio.balance import BalanceType\n",
    "b = Balance()\n",
    "print(\"Currencies\",  b.currencies)\n",
    "print(\"Entries\", b.to_dict())\n",
    "b.add_currency(c.ETH)\n",
    "print(\"Currencies\",  b.currencies)\n",
    "b.update(c.ETH, delta_free=1.0, delta_used=0.0)\n",
    "print(c.ETH, b.get(c.ETH)[BalanceType.FREE])"
   ]
  },
  {
   "cell_type": "markdown",
   "metadata": {},
   "source": [
    "### Exchange"
   ]
  },
  {
   "cell_type": "code",
   "execution_count": null,
   "metadata": {},
   "outputs": [],
   "source": [
    "# Public informaiton\n",
    "exchanges = [c.PAPER, c.BINANCE, c.GDAX]#, c.POLONIEX]\n",
    "a = Asset(c.ETH, c.BTC)\n",
    "for ex in exchanges:\n",
    "    print(\"Exchange\", ex)\n",
    "    exchange = load_exchange(ex)\n",
    "    print(exchange.timeframes)\n",
    "    exchange.get_markets()\n",
    "    exchange.fetch_ohlcv(a, Timeframe.ONE_MIN.value['id'])\n",
    "    exchange.fetch_order_book(a)\n",
    "    exchange.fetch_public_trades(a)\n",
    "    exchange.fetch_ticker(a)"
   ]
  },
  {
   "cell_type": "code",
   "execution_count": 4,
   "metadata": {},
   "outputs": [
    {
     "name": "stdout",
     "output_type": "stream",
     "text": [
      "Exchange paper\n",
      "{'BTC': {'free': 1.0, 'used': 0.0, 'total': 0.0}, 'free': {'BTC': 1.0}, 'used': {'BTC': 0.0}, 'total': {'BTC': 0.0}}\n",
      "[]\n",
      "[]\n",
      "[]\n",
      "Exchange binance\n",
      "{'BTC': {'free': 0.033119, 'used': 0.0, 'total': 0.033119}, 'LTC': {'free': 0.0, 'used': 0.0, 'total': 0.0}, 'ETH': {'free': 0.0, 'used': 0.0, 'total': 0.0}, 'BNC': {'free': 0.0, 'used': 0.0, 'total': 0.0}, 'ICO': {'free': 0.0, 'used': 0.0, 'total': 0.0}, 'NEO': {'free': 0.0, 'used': 0.0, 'total': 0.0}, 'BNB': {'free': 0.0, 'used': 0.0, 'total': 0.0}, '123': {'free': 0.0, 'used': 0.0, 'total': 0.0}, '456': {'free': 0.0, 'used': 0.0, 'total': 0.0}, 'QTUM': {'free': 0.0, 'used': 0.0, 'total': 0.0}, 'EOS': {'free': 0.0, 'used': 0.0, 'total': 0.0}, 'SNT': {'free': 0.0, 'used': 0.0, 'total': 0.0}, 'BNT': {'free': 0.0, 'used': 0.0, 'total': 0.0}, 'GAS': {'free': 0.0, 'used': 0.0, 'total': 0.0}, 'BCH': {'free': 0.0, 'used': 0.0, 'total': 0.0}, 'BTM': {'free': 0.0, 'used': 0.0, 'total': 0.0}, 'USDT': {'free': 0.0, 'used': 0.0, 'total': 0.0}, 'HCC': {'free': 0.0, 'used': 0.0, 'total': 0.0}, 'HSR': {'free': 0.0, 'used': 0.0, 'total': 0.0}, 'OAX': {'free': 0.0, 'used': 0.0, 'total': 0.0}, 'DNT': {'free': 0.0, 'used': 0.0, 'total': 0.0}, 'MCO': {'free': 0.0, 'used': 0.0, 'total': 0.0}, 'ICN': {'free': 0.0, 'used': 0.0, 'total': 0.0}, 'ELC': {'free': 0.0, 'used': 0.0, 'total': 0.0}, 'PAY': {'free': 0.0, 'used': 0.0, 'total': 0.0}, 'ZRX': {'free': 0.0, 'used': 0.0, 'total': 0.0}, 'OMG': {'free': 0.0, 'used': 0.0, 'total': 0.0}, 'WTC': {'free': 0.0, 'used': 0.0, 'total': 0.0}, 'LRX': {'free': 0.0, 'used': 0.0, 'total': 0.0}, 'YOYO': {'free': 0.0, 'used': 0.0, 'total': 0.0}, 'LRC': {'free': 0.0, 'used': 0.0, 'total': 0.0}, 'LLT': {'free': 0.0, 'used': 0.0, 'total': 0.0}, 'TRX': {'free': 0.0, 'used': 0.0, 'total': 0.0}, 'FID': {'free': 0.0, 'used': 0.0, 'total': 0.0}, 'SNGLS': {'free': 0.0, 'used': 0.0, 'total': 0.0}, 'STRAT': {'free': 0.0, 'used': 0.0, 'total': 0.0}, 'BQX': {'free': 0.0, 'used': 0.0, 'total': 0.0}, 'FUN': {'free': 0.0, 'used': 0.0, 'total': 0.0}, 'KNC': {'free': 0.0, 'used': 0.0, 'total': 0.0}, 'CDT': {'free': 0.0, 'used': 0.0, 'total': 0.0}, 'XVG': {'free': 0.0, 'used': 0.0, 'total': 0.0}, 'IOTA': {'free': 0.0, 'used': 0.0, 'total': 0.0}, 'SNM': {'free': 0.0, 'used': 0.0, 'total': 0.0}, 'LINK': {'free': 0.0, 'used': 0.0, 'total': 0.0}, 'CVC': {'free': 0.0, 'used': 0.0, 'total': 0.0}, 'TNT': {'free': 0.0, 'used': 0.0, 'total': 0.0}, 'REP': {'free': 0.0, 'used': 0.0, 'total': 0.0}, 'CTR': {'free': 0.0, 'used': 0.0, 'total': 0.0}, 'MDA': {'free': 0.0, 'used': 0.0, 'total': 0.0}, 'MTL': {'free': 0.0, 'used': 0.0, 'total': 0.0}, 'SALT': {'free': 0.0, 'used': 0.0, 'total': 0.0}, 'NULS': {'free': 0.0, 'used': 0.0, 'total': 0.0}, 'SUB': {'free': 0.0, 'used': 0.0, 'total': 0.0}, 'STX': {'free': 0.0, 'used': 0.0, 'total': 0.0}, 'MTH': {'free': 0.0, 'used': 0.0, 'total': 0.0}, 'CAT': {'free': 0.0, 'used': 0.0, 'total': 0.0}, 'ADX': {'free': 0.0, 'used': 0.0, 'total': 0.0}, 'PIX': {'free': 0.0, 'used': 0.0, 'total': 0.0}, 'ETC': {'free': 0.0, 'used': 0.0, 'total': 0.0}, 'ENG': {'free': 0.0, 'used': 0.0, 'total': 0.0}, 'ZEC': {'free': 0.0, 'used': 0.0, 'total': 0.0}, 'AST': {'free': 0.0, 'used': 0.0, 'total': 0.0}, '1ST': {'free': 0.0, 'used': 0.0, 'total': 0.0}, 'GNT': {'free': 0.0, 'used': 0.0, 'total': 0.0}, 'DGD': {'free': 0.0, 'used': 0.0, 'total': 0.0}, 'BAT': {'free': 0.0, 'used': 0.0, 'total': 0.0}, 'DASH': {'free': 0.0, 'used': 0.0, 'total': 0.0}, 'POWR': {'free': 0.0, 'used': 0.0, 'total': 0.0}, 'BTG': {'free': 0.0, 'used': 0.0, 'total': 0.0}, 'REQ': {'free': 0.0, 'used': 0.0, 'total': 0.0}, 'XMR': {'free': 0.0, 'used': 0.0, 'total': 0.0}, 'EVX': {'free': 0.0, 'used': 0.0, 'total': 0.0}, 'VIB': {'free': 0.0, 'used': 0.0, 'total': 0.0}, 'ENJ': {'free': 0.0, 'used': 0.0, 'total': 0.0}, 'VEN': {'free': 0.0, 'used': 0.0, 'total': 0.0}, 'CAG': {'free': 0.0, 'used': 0.0, 'total': 0.0}, 'EDG': {'free': 0.0, 'used': 0.0, 'total': 0.0}, 'ARK': {'free': 0.0, 'used': 0.0, 'total': 0.0}, 'XRP': {'free': 4.995, 'used': 0.0, 'total': 4.995}, 'MOD': {'free': 0.0, 'used': 0.0, 'total': 0.0}, 'AVT': {'free': 0.0, 'used': 0.0, 'total': 0.0}, 'STORJ': {'free': 0.0, 'used': 0.0, 'total': 0.0}, 'KMD': {'free': 0.0, 'used': 0.0, 'total': 0.0}, 'RCN': {'free': 0.0, 'used': 0.0, 'total': 0.0}, 'EDO': {'free': 0.0, 'used': 0.0, 'total': 0.0}, 'QASH': {'free': 0.0, 'used': 0.0, 'total': 0.0}, 'SAN': {'free': 0.0, 'used': 0.0, 'total': 0.0}, 'DATA': {'free': 0.0, 'used': 0.0, 'total': 0.0}, 'DLT': {'free': 0.0, 'used': 0.0, 'total': 0.0}, 'GUP': {'free': 0.0, 'used': 0.0, 'total': 0.0}, 'MCAP': {'free': 0.0, 'used': 0.0, 'total': 0.0}, 'MANA': {'free': 0.0, 'used': 0.0, 'total': 0.0}, 'PPT': {'free': 0.0, 'used': 0.0, 'total': 0.0}, 'OTN': {'free': 0.0, 'used': 0.0, 'total': 0.0}, 'CFD': {'free': 0.0, 'used': 0.0, 'total': 0.0}, 'RDN': {'free': 0.0, 'used': 0.0, 'total': 0.0}, 'GXS': {'free': 0.0, 'used': 0.0, 'total': 0.0}, 'AMB': {'free': 0.0, 'used': 0.0, 'total': 0.0}, 'ARN': {'free': 0.0, 'used': 0.0, 'total': 0.0}, 'BCPT': {'free': 0.0, 'used': 0.0, 'total': 0.0}, 'CND': {'free': 0.0, 'used': 0.0, 'total': 0.0}, 'GVT': {'free': 0.0, 'used': 0.0, 'total': 0.0}, 'POE': {'free': 0.0, 'used': 0.0, 'total': 0.0}, 'ALIS': {'free': 0.0, 'used': 0.0, 'total': 0.0}, 'BTS': {'free': 0.0, 'used': 0.0, 'total': 0.0}, 'FUEL': {'free': 0.0, 'used': 0.0, 'total': 0.0}, 'XZC': {'free': 0.0, 'used': 0.0, 'total': 0.0}, 'QSP': {'free': 0.0, 'used': 0.0, 'total': 0.0}, 'LSK': {'free': 0.0, 'used': 0.0, 'total': 0.0}, 'BCD': {'free': 0.0, 'used': 0.0, 'total': 0.0}, 'TNB': {'free': 0.0, 'used': 0.0, 'total': 0.0}, 'GRX': {'free': 0.0, 'used': 0.0, 'total': 0.0}, 'STAR': {'free': 0.0, 'used': 0.0, 'total': 0.0}, 'ADA': {'free': 0.0, 'used': 0.0, 'total': 0.0}, 'LEND': {'free': 0.0, 'used': 0.0, 'total': 0.0}, 'IFT': {'free': 0.0, 'used': 0.0, 'total': 0.0}, 'KICK': {'free': 0.0, 'used': 0.0, 'total': 0.0}, 'UKG': {'free': 0.0, 'used': 0.0, 'total': 0.0}, 'VOISE': {'free': 0.0, 'used': 0.0, 'total': 0.0}, 'XLM': {'free': 0.0, 'used': 0.0, 'total': 0.0}, 'CMT': {'free': 0.0, 'used': 0.0, 'total': 0.0}, 'WAVES': {'free': 0.0, 'used': 0.0, 'total': 0.0}, 'WABI': {'free': 0.0, 'used': 0.0, 'total': 0.0}, 'SBTC': {'free': 0.0, 'used': 0.0, 'total': 0.0}, 'BCX': {'free': 0.0, 'used': 0.0, 'total': 0.0}, 'GTO': {'free': 0.0, 'used': 0.0, 'total': 0.0}, 'ETF': {'free': 0.0, 'used': 0.0, 'total': 0.0}, 'ICX': {'free': 0.0, 'used': 0.0, 'total': 0.0}, 'OST': {'free': 0.0, 'used': 0.0, 'total': 0.0}, 'ELF': {'free': 0.0, 'used': 0.0, 'total': 0.0}, 'AION': {'free': 0.0, 'used': 0.0, 'total': 0.0}, 'WINGS': {'free': 0.0, 'used': 0.0, 'total': 0.0}, 'BRD': {'free': 0.0, 'used': 0.0, 'total': 0.0}, 'NEBL': {'free': 0.0, 'used': 0.0, 'total': 0.0}, 'NAV': {'free': 0.0, 'used': 0.0, 'total': 0.0}, 'VIBE': {'free': 0.0, 'used': 0.0, 'total': 0.0}, 'LUN': {'free': 0.0, 'used': 0.0, 'total': 0.0}, 'TRIG': {'free': 0.0, 'used': 0.0, 'total': 0.0}, 'free': {'BTC': 0.033119, 'LTC': 0.0, 'ETH': 0.0, 'BNC': 0.0, 'ICO': 0.0, 'NEO': 0.0, 'BNB': 0.0, '123': 0.0, '456': 0.0, 'QTUM': 0.0, 'EOS': 0.0, 'SNT': 0.0, 'BNT': 0.0, 'GAS': 0.0, 'BCH': 0.0, 'BTM': 0.0, 'USDT': 0.0, 'HCC': 0.0, 'HSR': 0.0, 'OAX': 0.0, 'DNT': 0.0, 'MCO': 0.0, 'ICN': 0.0, 'ELC': 0.0, 'PAY': 0.0, 'ZRX': 0.0, 'OMG': 0.0, 'WTC': 0.0, 'LRX': 0.0, 'YOYO': 0.0, 'LRC': 0.0, 'LLT': 0.0, 'TRX': 0.0, 'FID': 0.0, 'SNGLS': 0.0, 'STRAT': 0.0, 'BQX': 0.0, 'FUN': 0.0, 'KNC': 0.0, 'CDT': 0.0, 'XVG': 0.0, 'IOTA': 0.0, 'SNM': 0.0, 'LINK': 0.0, 'CVC': 0.0, 'TNT': 0.0, 'REP': 0.0, 'CTR': 0.0, 'MDA': 0.0, 'MTL': 0.0, 'SALT': 0.0, 'NULS': 0.0, 'SUB': 0.0, 'STX': 0.0, 'MTH': 0.0, 'CAT': 0.0, 'ADX': 0.0, 'PIX': 0.0, 'ETC': 0.0, 'ENG': 0.0, 'ZEC': 0.0, 'AST': 0.0, '1ST': 0.0, 'GNT': 0.0, 'DGD': 0.0, 'BAT': 0.0, 'DASH': 0.0, 'POWR': 0.0, 'BTG': 0.0, 'REQ': 0.0, 'XMR': 0.0, 'EVX': 0.0, 'VIB': 0.0, 'ENJ': 0.0, 'VEN': 0.0, 'CAG': 0.0, 'EDG': 0.0, 'ARK': 0.0, 'XRP': 4.995, 'MOD': 0.0, 'AVT': 0.0, 'STORJ': 0.0, 'KMD': 0.0, 'RCN': 0.0, 'EDO': 0.0, 'QASH': 0.0, 'SAN': 0.0, 'DATA': 0.0, 'DLT': 0.0, 'GUP': 0.0, 'MCAP': 0.0, 'MANA': 0.0, 'PPT': 0.0, 'OTN': 0.0, 'CFD': 0.0, 'RDN': 0.0, 'GXS': 0.0, 'AMB': 0.0, 'ARN': 0.0, 'BCPT': 0.0, 'CND': 0.0, 'GVT': 0.0, 'POE': 0.0, 'ALIS': 0.0, 'BTS': 0.0, 'FUEL': 0.0, 'XZC': 0.0, 'QSP': 0.0, 'LSK': 0.0, 'BCD': 0.0, 'TNB': 0.0, 'GRX': 0.0, 'STAR': 0.0, 'ADA': 0.0, 'LEND': 0.0, 'IFT': 0.0, 'KICK': 0.0, 'UKG': 0.0, 'VOISE': 0.0, 'XLM': 0.0, 'CMT': 0.0, 'WAVES': 0.0, 'WABI': 0.0, 'SBTC': 0.0, 'BCX': 0.0, 'GTO': 0.0, 'ETF': 0.0, 'ICX': 0.0, 'OST': 0.0, 'ELF': 0.0, 'AION': 0.0, 'WINGS': 0.0, 'BRD': 0.0, 'NEBL': 0.0, 'NAV': 0.0, 'VIBE': 0.0, 'LUN': 0.0, 'TRIG': 0.0}, 'used': {'BTC': 0.0, 'LTC': 0.0, 'ETH': 0.0, 'BNC': 0.0, 'ICO': 0.0, 'NEO': 0.0, 'BNB': 0.0, '123': 0.0, '456': 0.0, 'QTUM': 0.0, 'EOS': 0.0, 'SNT': 0.0, 'BNT': 0.0, 'GAS': 0.0, 'BCH': 0.0, 'BTM': 0.0, 'USDT': 0.0, 'HCC': 0.0, 'HSR': 0.0, 'OAX': 0.0, 'DNT': 0.0, 'MCO': 0.0, 'ICN': 0.0, 'ELC': 0.0, 'PAY': 0.0, 'ZRX': 0.0, 'OMG': 0.0, 'WTC': 0.0, 'LRX': 0.0, 'YOYO': 0.0, 'LRC': 0.0, 'LLT': 0.0, 'TRX': 0.0, 'FID': 0.0, 'SNGLS': 0.0, 'STRAT': 0.0, 'BQX': 0.0, 'FUN': 0.0, 'KNC': 0.0, 'CDT': 0.0, 'XVG': 0.0, 'IOTA': 0.0, 'SNM': 0.0, 'LINK': 0.0, 'CVC': 0.0, 'TNT': 0.0, 'REP': 0.0, 'CTR': 0.0, 'MDA': 0.0, 'MTL': 0.0, 'SALT': 0.0, 'NULS': 0.0, 'SUB': 0.0, 'STX': 0.0, 'MTH': 0.0, 'CAT': 0.0, 'ADX': 0.0, 'PIX': 0.0, 'ETC': 0.0, 'ENG': 0.0, 'ZEC': 0.0, 'AST': 0.0, '1ST': 0.0, 'GNT': 0.0, 'DGD': 0.0, 'BAT': 0.0, 'DASH': 0.0, 'POWR': 0.0, 'BTG': 0.0, 'REQ': 0.0, 'XMR': 0.0, 'EVX': 0.0, 'VIB': 0.0, 'ENJ': 0.0, 'VEN': 0.0, 'CAG': 0.0, 'EDG': 0.0, 'ARK': 0.0, 'XRP': 0.0, 'MOD': 0.0, 'AVT': 0.0, 'STORJ': 0.0, 'KMD': 0.0, 'RCN': 0.0, 'EDO': 0.0, 'QASH': 0.0, 'SAN': 0.0, 'DATA': 0.0, 'DLT': 0.0, 'GUP': 0.0, 'MCAP': 0.0, 'MANA': 0.0, 'PPT': 0.0, 'OTN': 0.0, 'CFD': 0.0, 'RDN': 0.0, 'GXS': 0.0, 'AMB': 0.0, 'ARN': 0.0, 'BCPT': 0.0, 'CND': 0.0, 'GVT': 0.0, 'POE': 0.0, 'ALIS': 0.0, 'BTS': 0.0, 'FUEL': 0.0, 'XZC': 0.0, 'QSP': 0.0, 'LSK': 0.0, 'BCD': 0.0, 'TNB': 0.0, 'GRX': 0.0, 'STAR': 0.0, 'ADA': 0.0, 'LEND': 0.0, 'IFT': 0.0, 'KICK': 0.0, 'UKG': 0.0, 'VOISE': 0.0, 'XLM': 0.0, 'CMT': 0.0, 'WAVES': 0.0, 'WABI': 0.0, 'SBTC': 0.0, 'BCX': 0.0, 'GTO': 0.0, 'ETF': 0.0, 'ICX': 0.0, 'OST': 0.0, 'ELF': 0.0, 'AION': 0.0, 'WINGS': 0.0, 'BRD': 0.0, 'NEBL': 0.0, 'NAV': 0.0, 'VIBE': 0.0, 'LUN': 0.0, 'TRIG': 0.0}, 'total': {'BTC': 0.033119, 'LTC': 0.0, 'ETH': 0.0, 'BNC': 0.0, 'ICO': 0.0, 'NEO': 0.0, 'BNB': 0.0, '123': 0.0, '456': 0.0, 'QTUM': 0.0, 'EOS': 0.0, 'SNT': 0.0, 'BNT': 0.0, 'GAS': 0.0, 'BCH': 0.0, 'BTM': 0.0, 'USDT': 0.0, 'HCC': 0.0, 'HSR': 0.0, 'OAX': 0.0, 'DNT': 0.0, 'MCO': 0.0, 'ICN': 0.0, 'ELC': 0.0, 'PAY': 0.0, 'ZRX': 0.0, 'OMG': 0.0, 'WTC': 0.0, 'LRX': 0.0, 'YOYO': 0.0, 'LRC': 0.0, 'LLT': 0.0, 'TRX': 0.0, 'FID': 0.0, 'SNGLS': 0.0, 'STRAT': 0.0, 'BQX': 0.0, 'FUN': 0.0, 'KNC': 0.0, 'CDT': 0.0, 'XVG': 0.0, 'IOTA': 0.0, 'SNM': 0.0, 'LINK': 0.0, 'CVC': 0.0, 'TNT': 0.0, 'REP': 0.0, 'CTR': 0.0, 'MDA': 0.0, 'MTL': 0.0, 'SALT': 0.0, 'NULS': 0.0, 'SUB': 0.0, 'STX': 0.0, 'MTH': 0.0, 'CAT': 0.0, 'ADX': 0.0, 'PIX': 0.0, 'ETC': 0.0, 'ENG': 0.0, 'ZEC': 0.0, 'AST': 0.0, '1ST': 0.0, 'GNT': 0.0, 'DGD': 0.0, 'BAT': 0.0, 'DASH': 0.0, 'POWR': 0.0, 'BTG': 0.0, 'REQ': 0.0, 'XMR': 0.0, 'EVX': 0.0, 'VIB': 0.0, 'ENJ': 0.0, 'VEN': 0.0, 'CAG': 0.0, 'EDG': 0.0, 'ARK': 0.0, 'XRP': 4.995, 'MOD': 0.0, 'AVT': 0.0, 'STORJ': 0.0, 'KMD': 0.0, 'RCN': 0.0, 'EDO': 0.0, 'QASH': 0.0, 'SAN': 0.0, 'DATA': 0.0, 'DLT': 0.0, 'GUP': 0.0, 'MCAP': 0.0, 'MANA': 0.0, 'PPT': 0.0, 'OTN': 0.0, 'CFD': 0.0, 'RDN': 0.0, 'GXS': 0.0, 'AMB': 0.0, 'ARN': 0.0, 'BCPT': 0.0, 'CND': 0.0, 'GVT': 0.0, 'POE': 0.0, 'ALIS': 0.0, 'BTS': 0.0, 'FUEL': 0.0, 'XZC': 0.0, 'QSP': 0.0, 'LSK': 0.0, 'BCD': 0.0, 'TNB': 0.0, 'GRX': 0.0, 'STAR': 0.0, 'ADA': 0.0, 'LEND': 0.0, 'IFT': 0.0, 'KICK': 0.0, 'UKG': 0.0, 'VOISE': 0.0, 'XLM': 0.0, 'CMT': 0.0, 'WAVES': 0.0, 'WABI': 0.0, 'SBTC': 0.0, 'BCX': 0.0, 'GTO': 0.0, 'ETF': 0.0, 'ICX': 0.0, 'OST': 0.0, 'ELF': 0.0, 'AION': 0.0, 'WINGS': 0.0, 'BRD': 0.0, 'NEBL': 0.0, 'NAV': 0.0, 'VIBE': 0.0, 'LUN': 0.0, 'TRIG': 0.0}}\n"
     ]
    },
    {
     "name": "stdout",
     "output_type": "stream",
     "text": [
      "[]\n",
      "[]\n",
      "[]\n",
      "Exchange gdax\n",
      "{'USD': {'free': 2000.0, 'used': 0.0, 'total': 2000.0}, 'LTC': {'free': 0.0, 'used': 0.0, 'total': 0.0}, 'ETH': {'free': 0.0, 'used': 0.0, 'total': 0.0}, 'BTC': {'free': 0.0, 'used': 0.0, 'total': 0.0}, 'BCH': {'free': 0.0, 'used': 0.0, 'total': 0.0}, 'free': {'USD': 2000.0, 'LTC': 0.0, 'ETH': 0.0, 'BTC': 0.0, 'BCH': 0.0}, 'used': {'USD': 0.0, 'LTC': 0.0, 'ETH': 0.0, 'BTC': 0.0, 'BCH': 0.0}, 'total': {'USD': 2000.0, 'LTC': 0.0, 'ETH': 0.0, 'BTC': 0.0, 'BCH': 0.0}}\n",
      "[]\n",
      "[]\n",
      "[]\n"
     ]
    }
   ],
   "source": [
    "# Account Information\n",
    "exchanges = [c.PAPER, c.BINANCE, c.GDAX]\n",
    "a = Asset(c.ETH, c.BTC)\n",
    "for ex in exchanges:\n",
    "    print(\"Exchange\", ex)\n",
    "    exchange = load_exchange(ex)\n",
    "    print(exchange.fetch_balance().to_dict())\n",
    "    print(exchange.fetch_orders(a))\n",
    "    print(exchange.fetch_open_orders(a))\n",
    "    print(exchange.fetch_closed_orders(a))"
   ]
  },
  {
   "cell_type": "code",
   "execution_count": null,
   "metadata": {
    "collapsed": true
   },
   "outputs": [],
   "source": [
    "exchange = load_exchange(c.BINANCE)\n",
    "a = Asset(c.BTS, c.BTC)\n",
    "\n",
    "# Market BUY\n",
    "print(\"Exchange\", ex)\n",
    "order_dict = exchange.create_market_buy_order(a, 1)\n",
    "balance = exchange.fetch_balance()\n",
    "print(a.base, balance[a.base], a.quote, balance[a.quote])\n",
    "print(order_dict)"
   ]
  },
  {
   "cell_type": "code",
   "execution_count": null,
   "metadata": {
    "collapsed": true
   },
   "outputs": [],
   "source": [
    "# Check Order\n",
    "balance = exchange.fetch_balance()\n",
    "print(a.base, balance[a.base], a.quote, balance[a.quote])\n",
    "found_order = exchange.fetch_order(order_dict['id'], a.symbol)\n",
    "print(\"Placed order\", found_order) "
   ]
  },
  {
   "cell_type": "code",
   "execution_count": null,
   "metadata": {
    "collapsed": true
   },
   "outputs": [],
   "source": [
    "# Sell all remaining quantity\n",
    "balance = exchange.fetch_balance()[a.base]\n",
    "print(a.base, balance['total'])\n",
    "order = exchange.create_market_sell_order(a, balance['total'])\n",
    "print(order)"
   ]
  },
  {
   "cell_type": "code",
   "execution_count": null,
   "metadata": {
    "collapsed": true
   },
   "outputs": [],
   "source": [
    "print(exchange.fetch_balance()[a.base], exchange.fetch_balance()[a.quote])"
   ]
  },
  {
   "cell_type": "markdown",
   "metadata": {
    "heading_collapsed": true
   },
   "source": [
    "### Data"
   ]
  },
  {
   "cell_type": "code",
   "execution_count": null,
   "metadata": {
    "collapsed": true,
    "hidden": true
   },
   "outputs": [],
   "source": [
    "base = c.LTC\n",
    "quote = c.USDT\n",
    "exchange = load_exchange(c.BINANCE)\n",
    "asset = Asset(base, quote)\n",
    "assets = [ Asset(coin, quote) for coin in [c.BTC, c.ETH, c.LTC] ]\n",
    "period = '1m' \n",
    "start = datetime.datetime.utcnow() - datetime.timedelta(hours=2)\n",
    "end = datetime.datetime.utcnow() - datetime.timedelta(hours=0)"
   ]
  },
  {
   "cell_type": "code",
   "execution_count": null,
   "metadata": {
    "hidden": true
   },
   "outputs": [],
   "source": [
    "# Single Coin\n",
    "df = ohlcv.fetch_and_save_ohlcv_data(exchange, asset, period, start, end)\n",
    "df.head()"
   ]
  },
  {
   "cell_type": "code",
   "execution_count": null,
   "metadata": {
    "collapsed": true,
    "hidden": true
   },
   "outputs": [],
   "source": [
    "# Load from File\n",
    "fpath = ohlcv.get_price_data_fpath(asset, exchange.id, period)\n",
    "df = ohlcv.load_chart_data_from_file(fpath)"
   ]
  },
  {
   "cell_type": "code",
   "execution_count": null,
   "metadata": {
    "collapsed": true,
    "hidden": true
   },
   "outputs": [],
   "source": [
    "# Multiple Coins\n",
    "ohlcv.download_chart_data(exchange, assets, period, start, end)\n",
    "df = ohlcv.load_multiple_assets(exchange.id, assets, period, start)\n",
    "df.head()"
   ]
  },
  {
   "cell_type": "markdown",
   "metadata": {
    "heading_collapsed": true
   },
   "source": [
    "### Data Feed"
   ]
  },
  {
   "cell_type": "code",
   "execution_count": null,
   "metadata": {
    "collapsed": true,
    "hidden": true
   },
   "outputs": [],
   "source": [
    "# CSV Feed\n",
    "feed_fpath = ohlcv.get_price_data_fpath(asset, exchange.id, period='1m')\n",
    "feed = CSVDataFeed(feed_fpath)\n",
    "feed.initialize()"
   ]
  },
  {
   "cell_type": "code",
   "execution_count": null,
   "metadata": {
    "collapsed": true,
    "hidden": true
   },
   "outputs": [],
   "source": [
    "# Grab 1 row at a time\n",
    "for i in range(3):\n",
    "    data = feed.next()\n",
    "    print(data['time_utc'], data['close'])"
   ]
  },
  {
   "cell_type": "code",
   "execution_count": null,
   "metadata": {
    "collapsed": true,
    "hidden": true
   },
   "outputs": [],
   "source": [
    "# Access all rows in history\n",
    "feed.history().head()"
   ]
  },
  {
   "cell_type": "code",
   "execution_count": null,
   "metadata": {
    "collapsed": true,
    "hidden": true
   },
   "outputs": [],
   "source": [
    "# Exchange Live Feed\n",
    "start = datetime.datetime.utcnow() - datetime.timedelta(hours=1)\n",
    "end = None\n",
    "feed_fpath = ohlcv.get_price_data_fpath(asset, exchange.id, period='1m')"
   ]
  },
  {
   "cell_type": "code",
   "execution_count": null,
   "metadata": {
    "collapsed": true,
    "hidden": true
   },
   "outputs": [],
   "source": [
    "feed = ExchangeDataFeed(exchange, [assets[0]], period, feed_fpath, start, end)\n",
    "feed.initialize()"
   ]
  },
  {
   "cell_type": "code",
   "execution_count": null,
   "metadata": {
    "collapsed": true,
    "hidden": true
   },
   "outputs": [],
   "source": [
    "# Access History\n",
    "feed.history(t_minus=3).tail()"
   ]
  },
  {
   "cell_type": "code",
   "execution_count": null,
   "metadata": {
    "collapsed": true,
    "hidden": true
   },
   "outputs": [],
   "source": [
    "# Grab 1 row at a time (don't refresh data)\n",
    "for i in range(3):\n",
    "    data = feed.next(refresh=False)\n",
    "    print(data['time_utc'], data['close'])"
   ]
  },
  {
   "cell_type": "code",
   "execution_count": null,
   "metadata": {
    "collapsed": true,
    "hidden": true
   },
   "outputs": [],
   "source": [
    "# Refresh data before next query\n",
    "data = feed.next(refresh=True)\n",
    "print(data['time_utc'], data['close'])"
   ]
  },
  {
   "cell_type": "code",
   "execution_count": null,
   "metadata": {
    "collapsed": true,
    "hidden": true
   },
   "outputs": [],
   "source": [
    "# Example Using the Feed\n",
    "\n",
    "def my_strategy(row, history, exchange):\n",
    "    print(\"Time:\", row['time_utc'], \"Price:\", row['close'])\n",
    "    if row['close'] > .024:\n",
    "        print(\"Buying coin\")\n",
    "        #res = exchange.limit_buy(quantity=1, price=5)\n",
    "    else:\n",
    "        print(\"Selling that stupid coin\")\n",
    "    return {\n",
    "        'time': row['time_utc'],\n",
    "        'close': row['close'],\n",
    "        'action': 'buy',\n",
    "        'quantity': 1,\n",
    "        'price': 5,\n",
    "        'exchange': exchange.id\n",
    "    }\n",
    "\n",
    "def backtest(feed, strategy, exchange):\n",
    "    results = []\n",
    "    row = feed.next()\n",
    "    while row is not None:\n",
    "        output = strategy(row, feed, exchange)\n",
    "        row = feed.next(refresh=True)\n",
    "        results.append(output)\n",
    "    return results"
   ]
  },
  {
   "cell_type": "code",
   "execution_count": null,
   "metadata": {
    "collapsed": true,
    "hidden": true,
    "scrolled": false
   },
   "outputs": [],
   "source": [
    "res = backtest(feed, my_strategy, exchange)"
   ]
  },
  {
   "cell_type": "markdown",
   "metadata": {},
   "source": [
    "### Order"
   ]
  },
  {
   "cell_type": "code",
   "execution_count": null,
   "metadata": {
    "collapsed": true
   },
   "outputs": [],
   "source": [
    "asset = Asset(c.LTC, c.USDT)\n",
    "order = Order(\n",
    "    exchange_id=exchange.id, \n",
    "    asset=asset,\n",
    "    price=250., \n",
    "    quantity=1, \n",
    "    order_type=OrderType.LIMIT_BUY\n",
    ")\n",
    "order"
   ]
  },
  {
   "cell_type": "markdown",
   "metadata": {},
   "source": [
    "### Position"
   ]
  },
  {
   "cell_type": "code",
   "execution_count": null,
   "metadata": {
    "collapsed": true
   },
   "outputs": [],
   "source": [
    "asset = Asset(c.LTC, c.BTC)\n",
    "pos = Position(asset, quantity=1, cost_price=250.0)\n",
    "print(\"Asset\", pos.asset.to_dict())\n",
    "print(\"Value\", pos.cost_value, \"Quantity\", pos.quantity, \"Cost\", pos.cost_price)\n",
    "\n",
    "pos.update(1, 200)\n",
    "print(\"Value\", pos.cost_value, \"Quantity\", pos.quantity, \"Cost\", pos.cost_price)\n",
    "\n",
    "pos.update(-1, 200)\n",
    "print(\"Value\", pos.cost_value, \"Quantity\", pos.quantity, \"Cost\", pos.cost_price)\n",
    "\n",
    "# Go short\n",
    "pos.update(-2, 150)\n",
    "print(\"Value\", pos.cost_value, \"Quantity\", pos.quantity, \"Cost\", pos.cost_price)\n",
    "\n",
    "# Close the short for a LOSS and go long (price went up, we had to pay $300 to cover our short)\n",
    "# then we bought another share because we're newbs\n",
    "pos.update(2, 300)\n",
    "print(\"Value\", pos.cost_value, \"Quantity\", pos.quantity, \"Cost\", pos.cost_price)"
   ]
  },
  {
   "cell_type": "code",
   "execution_count": null,
   "metadata": {
    "collapsed": true
   },
   "outputs": [],
   "source": [
    "\"\"\"\n",
    "Assume that an investor made the following consecutive fund purchases in a taxable account: 1,500 shares at $20, 1,000 shares at $10 and 1,250 shares at $8. The investor’s average cost basis is calculated by dividing $50,000/3,750 shares. The average cost is $13.33.\n",
    "\n",
    "Suppose the investor then sells 1,000 shares of the fund at $19.\n",
    "\n",
    "Gain/loss using average cost basis: ($19 - $13.33) x 1,000 shares = $5,667\n",
    "\"\"\"\n",
    "\n",
    "asset = Asset(c.LTC, c.BTC)\n",
    "pos = Position(asset, quantity=1500, cost_price=20.0)\n",
    "print(\"Value\", pos.cost_value, \"Quantity\", pos.quantity, \"Cost\", pos.cost_price)\n",
    "pos.update(txn_quantity=1000, txn_price=10)\n",
    "print(\"Value\", pos.cost_value, \"Quantity\", pos.quantity, \"Cost\", pos.cost_price)\n",
    "pos.update(txn_quantity=1250, txn_price=8)\n",
    "print(\"Value\", pos.cost_value, \"Quantity\", pos.quantity, \"Cost\", pos.cost_price)\n",
    "\n",
    "last_cost = pos.cost_price\n",
    "pos.update(txn_quantity=-1000, txn_price=19)\n",
    "print(\"Value\", pos.cost_value, \"Quantity\", pos.quantity, \"Cost\", pos.cost_price)\n",
    "print(\"Profit\", (19 - last_cost) * 1000)"
   ]
  },
  {
   "cell_type": "markdown",
   "metadata": {},
   "source": [
    "### PerformanceTracker"
   ]
  },
  {
   "cell_type": "code",
   "execution_count": null,
   "metadata": {
    "collapsed": true
   },
   "outputs": [],
   "source": [
    "asset = Asset(c.BTC, c.USD)\n",
    "perf = PerformanceTracker(starting_cash=5000, timeframe=Timeframe.ONE_MIN, store=None)\n",
    "perf.to_dict()"
   ]
  },
  {
   "cell_type": "code",
   "execution_count": null,
   "metadata": {
    "collapsed": true
   },
   "outputs": [],
   "source": [
    "# Buy 1 BTC for $1000\n",
    "pos1 = Position(asset, quantity=1, cost_price=1000.0)\n",
    "positions = [pos1]\n",
    "perf.add_period(\n",
    "    start=datetime.datetime.utcnow(),\n",
    "    cash=4000.0,\n",
    "    positions=positions\n",
    ")\n",
    "perf.to_dict()"
   ]
  },
  {
   "cell_type": "code",
   "execution_count": null,
   "metadata": {
    "collapsed": true
   },
   "outputs": [],
   "source": [
    "\"\"\"\n",
    "Value of BTC increased $100\n",
    "Position Return\n",
    "    Return = .10\n",
    "    PnL = $100\n",
    "Cumulative Return\n",
    "    Return = $100 / $5000 = .02\n",
    "    PnL = $100\n",
    "\"\"\"\n",
    "pos1.latest_price = 1100\n",
    "perf.add_period(\n",
    "    start=datetime.datetime.utcnow(),\n",
    "    cash=4000.0,\n",
    "    positions=positions\n",
    ")\n",
    "perf.to_dict()"
   ]
  },
  {
   "cell_type": "code",
   "execution_count": null,
   "metadata": {
    "collapsed": true
   },
   "outputs": [],
   "source": [
    "\"\"\"\n",
    "Value of BTC increased again $400\n",
    "Position Return\n",
    "    Return = .5\n",
    "    PnL = $500\n",
    "Cumulative Return\n",
    "    Return = $500 / $5000 = .1\n",
    "    PnL = $500\n",
    "\"\"\"\n",
    "pos1.latest_price = 1500\n",
    "perf.add_period(\n",
    "    start=datetime.datetime.utcnow(),\n",
    "    cash=4000.0,\n",
    "    positions=positions\n",
    ")\n",
    "perf.to_dict()"
   ]
  },
  {
   "cell_type": "code",
   "execution_count": null,
   "metadata": {
    "collapsed": true
   },
   "outputs": [],
   "source": [
    "# Buy 1 ETH for $500\n",
    "asset = Asset(c.ETH, c.USD)\n",
    "pos2 = Position(asset, quantity=1, cost_price=500.0)\n",
    "positions.append(pos2)\n",
    "perf.add_period(\n",
    "    start=datetime.datetime.utcnow(),\n",
    "    cash=3500.0,\n",
    "    positions=positions\n",
    ")\n",
    "perf.to_dict()"
   ]
  },
  {
   "cell_type": "code",
   "execution_count": null,
   "metadata": {
    "collapsed": true,
    "scrolled": false
   },
   "outputs": [],
   "source": [
    "\"\"\"\n",
    "Value of ETH decreased $100\n",
    "Position Return\n",
    "    Return = -100/500\n",
    "    PnL = -100\n",
    "Cumulative Return\n",
    "    Return = 400 / 5000 = .08\n",
    "    PnL = 400\n",
    "\"\"\"\n",
    "pos2.latest_price = 400\n",
    "perf.add_period(\n",
    "    start=datetime.datetime.utcnow(),\n",
    "    cash=3500.0,\n",
    "    positions=positions\n",
    ")\n",
    "perf.to_dict()"
   ]
  },
  {
   "cell_type": "markdown",
   "metadata": {},
   "source": [
    "### Portfolio"
   ]
  },
  {
   "cell_type": "code",
   "execution_count": null,
   "metadata": {
    "collapsed": true
   },
   "outputs": [],
   "source": [
    "starting_cash = 5000\n",
    "exchange = load_exchange(c.PAPER)\n",
    "perf = PerformanceTracker(starting_cash, Timeframe.ONE_MIN, store=None)\n",
    "portfolio = Portfolio(starting_cash, perf)"
   ]
  },
  {
   "cell_type": "code",
   "execution_count": null,
   "metadata": {
    "collapsed": true
   },
   "outputs": [],
   "source": [
    "# Buy 1 BTC for $1000\n",
    "asset = Asset(c.BTC, c.USD)\n",
    "order = Order(\n",
    "    exchange_id=exchange.id, \n",
    "    asset=asset,\n",
    "    price=1000., \n",
    "    quantity=1, \n",
    "    order_type=OrderType.LIMIT_BUY\n",
    ")\n",
    "order"
   ]
  },
  {
   "cell_type": "code",
   "execution_count": null,
   "metadata": {
    "collapsed": true
   },
   "outputs": [],
   "source": [
    "portfolio.update(filled_orders=[order])\n",
    "portfolio.to_dict()"
   ]
  },
  {
   "cell_type": "code",
   "execution_count": null,
   "metadata": {
    "collapsed": true
   },
   "outputs": [],
   "source": [
    "# Buy more BTC, price has risen $500\n",
    "order = Order(\n",
    "    exchange_id=exchange.id, \n",
    "    asset=asset,\n",
    "    price=1500., \n",
    "    quantity=1, \n",
    "    order_type=OrderType.LIMIT_BUY\n",
    ")\n",
    "portfolio.update(filled_orders=[order])\n",
    "portfolio.to_dict()"
   ]
  },
  {
   "cell_type": "code",
   "execution_count": null,
   "metadata": {
    "collapsed": true
   },
   "outputs": [],
   "source": [
    "# Sell all BTC at profit\n",
    "order = Order(\n",
    "    exchange_id=exchange.id, \n",
    "    asset=asset,\n",
    "    price=1500., \n",
    "    quantity=2, \n",
    "    order_type=OrderType.LIMIT_SELL\n",
    ")\n",
    "portfolio.update(filled_orders=[order])\n",
    "portfolio.to_dict()"
   ]
  },
  {
   "cell_type": "code",
   "execution_count": null,
   "metadata": {
    "collapsed": true
   },
   "outputs": [],
   "source": [
    "portfolio.perf.to_dict()"
   ]
  },
  {
   "cell_type": "markdown",
   "metadata": {},
   "source": [
    "### Strategy"
   ]
  },
  {
   "cell_type": "code",
   "execution_count": null,
   "metadata": {
    "collapsed": true
   },
   "outputs": [],
   "source": [
    "# https://www.backtrader.com/docu/quickstart/quickstart.html\n",
    "# https://enigmampc.github.io/catalyst/beginner-tutorial.html#basics\n",
    "\n",
    "class Strategy():\n",
    "    def __init__(self, params):\n",
    "        self.params = params\n",
    "        self.initialize()\n",
    "    \n",
    "    def initialize(self):\n",
    "        self.ctx.symbol = 'BTC/USD'\n",
    "    \n",
    "    def handle_data(self, data):\n",
    "        # Handle next iteration of data from feed\n",
    "        pass\n",
    "    \n",
    "class TestStrategy():\n",
    "    def __init__(self):\n",
    "        pass\n",
    "    \n",
    "    def next(self, data):\n",
    "        pass"
   ]
  },
  {
   "cell_type": "markdown",
   "metadata": {},
   "source": [
    "### Plotting"
   ]
  },
  {
   "cell_type": "code",
   "execution_count": null,
   "metadata": {
    "collapsed": true
   },
   "outputs": [],
   "source": [
    "utils.charts.plot_range(feed.history(), start, end, 'close')"
   ]
  },
  {
   "cell_type": "markdown",
   "metadata": {},
   "source": [
    "### Runner"
   ]
  },
  {
   "cell_type": "code",
   "execution_count": null,
   "metadata": {
    "collapsed": true
   },
   "outputs": [],
   "source": [
    "@unique\n",
    "class TradeMode(Enum):\n",
    "    BACKTEST = 0\n",
    "    SIMULATE = 1\n",
    "    LIVE = 2\n",
    "\n",
    "\n",
    "class Punisher():\n",
    "    def __init__(self, exchange, feed, strategy, record):\n",
    "        self.exchange = exchange\n",
    "        self.feed = feed\n",
    "        self.strategy = strategy\n",
    "        self.record = record\n",
    "        \n",
    "    def backtest(self):\n",
    "        results = []\n",
    "        row = self.feed.next()\n",
    "        while row is not None:\n",
    "            print(\"Timestep\", row['time_utc'], \"Price\", row['close'])\n",
    "            row = self.feed.next()\n",
    "            output = self.strategy(row, self.exchange, self.feed)\n",
    "            results.append(output)\n",
    "        return results\n",
    "    \n",
    "    def simulate(self):\n",
    "        while True:\n",
    "            row = self.feed.next()\n",
    "            if row is not None:\n",
    "                output = self.strategy(row, self.exchange, self.feed)\n",
    "                self.record['test'].append(output)\n",
    "            time.sleep(2)\n",
    "\n",
    "    def live(self):\n",
    "        while True:\n",
    "            row = self.feed.next()\n",
    "            if row is not None:\n",
    "                output = self.strategy(row, self.exchange, self.feed)\n",
    "                self.record['live'].append(output)\n",
    "            time.sleep(2)\n",
    "    \n",
    "    def punish(self, mode=False):\n",
    "        if mode == TradeMode.BACKTEST:\n",
    "            print(\"Backtesting ...\")\n",
    "            self.backtest()\n",
    "        elif mode == TradeMode.SIMULATE:\n",
    "            print(\"Simulating orders ...\")\n",
    "            self.simulate()\n",
    "        elif mode == TradeMode.LIVE:\n",
    "            print(\"LIVE TRADING! CAREFUL!\")\n",
    "            self.live()"
   ]
  }
 ],
 "metadata": {
  "kernelspec": {
   "display_name": "Python [conda env:py36]",
   "language": "python",
   "name": "conda-env-py36-py"
  },
  "language_info": {
   "codemirror_mode": {
    "name": "ipython",
    "version": 3
   },
   "file_extension": ".py",
   "mimetype": "text/x-python",
   "name": "python",
   "nbconvert_exporter": "python",
   "pygments_lexer": "ipython3",
   "version": "3.6.4"
  },
  "latex_envs": {
   "LaTeX_envs_menu_present": true,
   "autocomplete": true,
   "bibliofile": "biblio.bib",
   "cite_by": "apalike",
   "current_citInitial": 1,
   "eqLabelWithNumbers": true,
   "eqNumInitial": 1,
   "hotkeys": {
    "equation": "Ctrl-E",
    "itemize": "Ctrl-I"
   },
   "labels_anchors": false,
   "latex_user_defs": false,
   "report_style_numbering": false,
   "user_envs_cfg": false
  },
  "toc": {
   "colors": {
    "hover_highlight": "#DAA520",
    "navigate_num": "#000000",
    "navigate_text": "#333333",
    "running_highlight": "#FF0000",
    "selected_highlight": "#FFD700",
    "sidebar_border": "#EEEEEE",
    "wrapper_background": "#FFFFFF"
   },
   "moveMenuLeft": true,
   "nav_menu": {
    "height": "71px",
    "width": "254px"
   },
   "navigate_menu": true,
   "number_sections": true,
   "sideBar": true,
   "threshold": 4,
   "toc_cell": false,
   "toc_section_display": "block",
   "toc_window_display": false,
   "widenNotebook": false
  }
 },
 "nbformat": 4,
 "nbformat_minor": 2
}
