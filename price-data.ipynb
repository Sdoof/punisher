{
 "cells": [
  {
   "cell_type": "markdown",
   "metadata": {},
   "source": [
    "## Config"
   ]
  },
  {
   "cell_type": "code",
   "execution_count": null,
   "metadata": {},
   "outputs": [],
   "source": [
    "%matplotlib inline\n",
    "%load_ext autoreload\n",
    "%autoreload 2\n",
    "from common import *\n",
    "import qgrid"
   ]
  },
  {
   "cell_type": "markdown",
   "metadata": {},
   "source": [
    "## GDAX"
   ]
  },
  {
   "cell_type": "code",
   "execution_count": null,
   "metadata": {},
   "outputs": [],
   "source": [
    "# https://github.com/danpaquin/gdax-python\n",
    "# https://docs.gdax.com\n",
    "\n",
    "# Use the sandbox API (requires a different set of API access credentials)\n",
    "gdax_client = gdax.AuthenticatedClient(cfg.GDAX_API_KEY, cfg.GDAX_API_SECRET_KEY, \n",
    "                                       cfg.GDAX_PASSPHRASE, api_url=cfg.GDAX_ENDPOINT)\n",
    "gdax_client.get_time()"
   ]
  },
  {
   "cell_type": "markdown",
   "metadata": {},
   "source": [
    "### Historical Prices"
   ]
  },
  {
   "cell_type": "code",
   "execution_count": 103,
   "metadata": {},
   "outputs": [],
   "source": [
    "# Default request is 400 minutes (~7 hours), 1 minute gap\n",
    "# ~4 requests to get 24 hours of data\n",
    "# 1460 requests for 1 year, ~3000 requests for 2 years\n",
    "def write_to_df(data, fpath):\n",
    "    if os.path.exists(fpath):\n",
    "        df = pd.read_csv(fpath)\n",
    "        data = pd.DataFrame(data, columns=PRICE_COLUMNS)\n",
    "        df.set_index('time')\n",
    "        df.sort_values(by='time', ascending=True, inplace=True)\n",
    "        df = pd.concat([df, data]).drop_duplicates().reset_index(drop=True)\n",
    "    else:\n",
    "        df = pd.DataFrame(data, columns=PRICE_COLUMNS)\n",
    "        df.set_index('time')\n",
    "        df.sort_values(by='time', ascending=True, inplace=True)\n",
    "    df.to_csv(fpath, index=False)\n",
    "    return df\n",
    "\n",
    "def get_data(currency_pair, start_time, end_time, timestep_sec):\n",
    "#     print(\"Start\", start_utc.isoformat())\n",
    "#     print(\"End\", end_utc.isoformat())\n",
    "    delta = end_time - start_time\n",
    "#     print(\"Years\", round(delta.days/365,2))\n",
    "#     print(\"Days\", delta.days)\n",
    "#     print(\"Hours\", delta.days*24)\n",
    "#     print(\"Minutes\", delta.days*24*60)\n",
    "#     print(\"Seconds\", round(delta.total_seconds()))\n",
    "    data = gdax_client.get_product_historic_rates(\n",
    "        currency_pair, start=start_time.isoformat(), \n",
    "        end=end_time.isoformat(), granularity=timestep_sec)\n",
    "    return data\n",
    "\n",
    "def get_all_data(pair, start_utc, end_utc, timesteps_per_request, timestep_sec, outfpath):\n",
    "    start_time = datetime.datetime.strptime(\n",
    "        start_utc, '%Y-%m-%dT%H:%M:%SZ')#.astimezone(datetime.timezone.utc)\n",
    "    end_time = datetime.datetime.strptime(\n",
    "        end_utc, '%Y-%m-%dT%H:%M:%SZ')#.astimezone(datetime.timezone.utc)\n",
    "    cur_time = start_time\n",
    "    time_delta = datetime.timedelta(\n",
    "        seconds=timesteps_per_request*timestep_sec)\n",
    "    n_records = 0\n",
    "    retry = 0\n",
    "    while cur_time < end_time and retry < 10:\n",
    "        try:\n",
    "            data = get_data(pair, cur_time, cur_time+time_delta, timestep_sec)\n",
    "            data = np.array(data)\n",
    "            last_time = datetime.datetime.fromtimestamp(np.max(data[:,0]))\n",
    "            if last_time < cur_time:\n",
    "                break\n",
    "            print(\"Records\", n_records, \"Start:\", cur_time, \"End:\", last_time)\n",
    "            cur_time = datetime.datetime.fromtimestamp(\n",
    "                data[0][0] + timestep_sec)\n",
    "            df = write_to_df(data, outfpath)\n",
    "            n_records += len(data)\n",
    "            retry = 0\n",
    "        except Exception as e:\n",
    "            retry += 1\n",
    "            print(\"Error! Retrying!\", e)\n",
    "            traceback.print_exc()\n",
    "        finally:\n",
    "            time.sleep(1)\n",
    "    return df"
   ]
  },
  {
   "cell_type": "code",
   "execution_count": 105,
   "metadata": {},
   "outputs": [
    {
     "data": {
      "text/plain": [
       "'/bigguy/data/punisher/gdax_BTC-USD_1800.csv'"
      ]
     },
     "execution_count": 105,
     "metadata": {},
     "output_type": "execute_result"
    }
   ],
   "source": [
    "START_UTC = '2015-02-01T00:00:00Z'\n",
    "END_UTC = '2017-12-31T00:00:00Z'\n",
    "PRICE_COLUMNS = ['time', 'low', 'high', 'open', 'close', 'volume']\n",
    "TIMESTEP_INTERVAL = 1800\n",
    "TIMESTEPS_PER_REQUEST = 100\n",
    "PRODUCT = c.BTC_USD\n",
    "EXCHANGE = c.GDAX\n",
    "PRICE_FNAME = '{:s}_{:s}_{:d}.csv'.format(EXCHANGE, PRODUCT, TIMESTEP_INTERVAL)\n",
    "PRICE_FPATH = os.path.join(cfg.DATA_DIR, PRICE_FNAME)\n",
    "PRICE_FPATH"
   ]
  },
  {
   "cell_type": "code",
   "execution_count": null,
   "metadata": {},
   "outputs": [],
   "source": [
    "# Test\n",
    "# Older time periods may not work (looks like they keep 2 years of data?)\n",
    "start_time = datetime.datetime.strptime(\n",
    "    START_UTC, '%Y-%m-%dT%H:%M:%SZ')#.astimezone(datetime.timezone.utc)\n",
    "time_delta = datetime.timedelta(\n",
    "    seconds=TIMESTEPS_PER_REQUEST*TIMESTEP_INTERVAL)\n",
    "end_time = start_time + time_delta\n",
    "start_time, end_time\n",
    "gdax_client.get_product_historic_rates(PRODUCT, start=start_time.isoformat(), end=end_time.isoformat(), granularity=TIMESTEP_INTERVAL)"
   ]
  },
  {
   "cell_type": "code",
   "execution_count": null,
   "metadata": {
    "scrolled": false
   },
   "outputs": [
    {
     "name": "stdout",
     "output_type": "stream",
     "text": [
      "Records 0 Start: 2015-02-01 00:00:00 End: 2015-02-02 17:30:00\n",
      "Records 100 Start: 2015-02-02 18:00:00 End: 2015-02-04 11:30:00\n",
      "Records 200 Start: 2015-02-04 12:00:00 End: 2015-02-06 05:30:00\n",
      "Records 300 Start: 2015-02-06 06:00:00 End: 2015-02-07 23:30:00\n",
      "Records 400 Start: 2015-02-08 00:00:00 End: 2015-02-09 17:30:00\n",
      "Records 500 Start: 2015-02-09 18:00:00 End: 2015-02-11 11:30:00\n",
      "Records 600 Start: 2015-02-11 12:00:00 End: 2015-02-13 05:30:00\n",
      "Records 700 Start: 2015-02-13 06:00:00 End: 2015-02-14 23:30:00\n",
      "Records 800 Start: 2015-02-15 00:00:00 End: 2015-02-16 17:30:00\n",
      "Records 900 Start: 2015-02-16 18:00:00 End: 2015-02-18 11:30:00\n",
      "Records 1000 Start: 2015-02-18 12:00:00 End: 2015-02-20 05:30:00\n",
      "Records 1100 Start: 2015-02-20 06:00:00 End: 2015-02-21 23:30:00\n",
      "Records 1200 Start: 2015-02-22 00:00:00 End: 2015-02-23 17:30:00\n",
      "Records 1300 Start: 2015-02-23 18:00:00 End: 2015-02-25 11:30:00\n",
      "Records 1400 Start: 2015-02-25 12:00:00 End: 2015-02-27 05:30:00\n",
      "Records 1500 Start: 2015-02-27 06:00:00 End: 2015-02-28 23:30:00\n",
      "Records 1600 Start: 2015-03-01 00:00:00 End: 2015-03-02 17:30:00\n",
      "Records 1700 Start: 2015-03-02 18:00:00 End: 2015-03-04 11:30:00\n",
      "Records 1800 Start: 2015-03-04 12:00:00 End: 2015-03-06 05:30:00\n",
      "Records 1900 Start: 2015-03-06 06:00:00 End: 2015-03-07 23:30:00\n",
      "Records 2000 Start: 2015-03-08 00:00:00 End: 2015-03-09 18:30:00\n",
      "Records 2100 Start: 2015-03-09 19:00:00 End: 2015-03-11 13:30:00\n",
      "Records 2200 Start: 2015-03-11 14:00:00 End: 2015-03-13 08:30:00\n",
      "Records 2300 Start: 2015-03-13 09:00:00 End: 2015-03-15 03:30:00\n",
      "Records 2400 Start: 2015-03-15 04:00:00 End: 2015-03-16 22:30:00\n",
      "Records 2500 Start: 2015-03-16 23:00:00 End: 2015-03-18 17:30:00\n",
      "Records 2600 Start: 2015-03-18 18:00:00 End: 2015-03-20 12:30:00\n",
      "Records 2700 Start: 2015-03-20 13:00:00 End: 2015-03-22 07:30:00\n",
      "Records 2800 Start: 2015-03-22 08:00:00 End: 2015-03-24 02:30:00\n",
      "Records 2900 Start: 2015-03-24 03:00:00 End: 2015-03-25 21:30:00\n",
      "Records 3000 Start: 2015-03-25 22:00:00 End: 2015-03-27 16:30:00\n",
      "Records 3100 Start: 2015-03-27 17:00:00 End: 2015-03-29 11:30:00\n",
      "Records 3200 Start: 2015-03-29 12:00:00 End: 2015-03-31 06:30:00\n",
      "Records 3300 Start: 2015-03-31 07:00:00 End: 2015-04-02 01:30:00\n",
      "Records 3400 Start: 2015-04-02 02:00:00 End: 2015-04-03 20:30:00\n",
      "Records 3500 Start: 2015-04-03 21:00:00 End: 2015-04-05 15:30:00\n",
      "Records 3600 Start: 2015-04-05 16:00:00 End: 2015-04-07 10:30:00\n",
      "Records 3700 Start: 2015-04-07 11:00:00 End: 2015-04-09 05:30:00\n",
      "Records 3800 Start: 2015-04-09 06:00:00 End: 2015-04-11 00:30:00\n",
      "Records 3900 Start: 2015-04-11 01:00:00 End: 2015-04-12 19:30:00\n",
      "Records 4000 Start: 2015-04-12 20:00:00 End: 2015-04-14 14:30:00\n",
      "Records 4100 Start: 2015-04-14 15:00:00 End: 2015-04-16 09:30:00\n",
      "Records 4200 Start: 2015-04-16 10:00:00 End: 2015-04-18 04:30:00\n",
      "Records 4300 Start: 2015-04-18 05:00:00 End: 2015-04-19 23:30:00\n",
      "Records 4400 Start: 2015-04-20 00:00:00 End: 2015-04-21 18:30:00\n",
      "Records 4500 Start: 2015-04-21 19:00:00 End: 2015-04-23 13:30:00\n",
      "Records 4600 Start: 2015-04-23 14:00:00 End: 2015-04-25 08:30:00\n",
      "Records 4700 Start: 2015-04-25 09:00:00 End: 2015-04-27 03:30:00\n",
      "Records 4800 Start: 2015-04-27 04:00:00 End: 2015-04-28 22:30:00\n",
      "Records 4900 Start: 2015-04-28 23:00:00 End: 2015-04-30 17:30:00\n",
      "Records 5000 Start: 2015-04-30 18:00:00 End: 2015-05-02 12:30:00\n",
      "Records 5100 Start: 2015-05-02 13:00:00 End: 2015-05-04 07:30:00\n",
      "Records 5200 Start: 2015-05-04 08:00:00 End: 2015-05-06 02:30:00\n",
      "Records 5300 Start: 2015-05-06 03:00:00 End: 2015-05-07 21:30:00\n",
      "Records 5400 Start: 2015-05-07 22:00:00 End: 2015-05-09 16:30:00\n",
      "Records 5500 Start: 2015-05-09 17:00:00 End: 2015-05-11 11:30:00\n",
      "Records 5600 Start: 2015-05-11 12:00:00 End: 2015-05-13 06:30:00\n",
      "Records 5700 Start: 2015-05-13 07:00:00 End: 2015-05-15 01:30:00\n",
      "Records 5800 Start: 2015-05-15 02:00:00 End: 2015-05-16 20:30:00\n",
      "Records 5899 Start: 2015-05-16 21:00:00 End: 2015-05-18 15:30:00\n",
      "Records 5998 Start: 2015-05-18 16:00:00 End: 2015-05-20 10:30:00\n",
      "Records 6098 Start: 2015-05-20 11:00:00 End: 2015-05-22 05:30:00\n",
      "Records 6198 Start: 2015-05-22 06:00:00 End: 2015-05-24 00:30:00\n",
      "Records 6298 Start: 2015-05-24 01:00:00 End: 2015-05-25 19:30:00\n",
      "Records 6398 Start: 2015-05-25 20:00:00 End: 2015-05-27 14:30:00\n",
      "Records 6498 Start: 2015-05-27 15:00:00 End: 2015-05-29 09:30:00\n",
      "Records 6598 Start: 2015-05-29 10:00:00 End: 2015-05-31 04:30:00\n",
      "Records 6698 Start: 2015-05-31 05:00:00 End: 2015-06-01 23:30:00\n",
      "Records 6798 Start: 2015-06-02 00:00:00 End: 2015-06-03 18:30:00\n",
      "Records 6898 Start: 2015-06-03 19:00:00 End: 2015-06-05 13:30:00\n",
      "Records 6998 Start: 2015-06-05 14:00:00 End: 2015-06-07 08:30:00\n",
      "Records 7097 Start: 2015-06-07 09:00:00 End: 2015-06-09 03:30:00\n",
      "Records 7197 Start: 2015-06-09 04:00:00 End: 2015-06-10 22:30:00\n",
      "Records 7297 Start: 2015-06-10 23:00:00 End: 2015-06-12 17:30:00\n",
      "Records 7397 Start: 2015-06-12 18:00:00 End: 2015-06-14 12:30:00\n",
      "Records 7497 Start: 2015-06-14 13:00:00 End: 2015-06-16 07:30:00\n",
      "Records 7597 Start: 2015-06-16 08:00:00 End: 2015-06-18 02:30:00\n",
      "Records 7697 Start: 2015-06-18 03:00:00 End: 2015-06-19 21:30:00\n",
      "Records 7797 Start: 2015-06-19 22:00:00 End: 2015-06-21 16:30:00\n",
      "Records 7897 Start: 2015-06-21 17:00:00 End: 2015-06-23 11:30:00\n",
      "Records 7997 Start: 2015-06-23 12:00:00 End: 2015-06-25 06:30:00\n",
      "Records 8097 Start: 2015-06-25 07:00:00 End: 2015-06-27 01:30:00\n",
      "Records 8197 Start: 2015-06-27 02:00:00 End: 2015-06-28 20:30:00\n",
      "Records 8297 Start: 2015-06-28 21:00:00 End: 2015-06-30 15:30:00\n",
      "Records 8397 Start: 2015-06-30 16:00:00 End: 2015-07-02 10:30:00\n",
      "Records 8497 Start: 2015-07-02 11:00:00 End: 2015-07-04 05:30:00\n",
      "Records 8593 Start: 2015-07-04 06:00:00 End: 2015-07-06 00:30:00\n",
      "Records 8693 Start: 2015-07-06 01:00:00 End: 2015-07-07 19:30:00\n",
      "Records 8793 Start: 2015-07-07 20:00:00 End: 2015-07-09 14:30:00\n",
      "Records 8893 Start: 2015-07-09 15:00:00 End: 2015-07-11 09:30:00\n",
      "Records 8993 Start: 2015-07-11 10:00:00 End: 2015-07-13 04:30:00\n",
      "Records 9093 Start: 2015-07-13 05:00:00 End: 2015-07-14 23:30:00\n",
      "Records 9193 Start: 2015-07-15 00:00:00 End: 2015-07-16 18:30:00\n",
      "Records 9293 Start: 2015-07-16 19:00:00 End: 2015-07-18 13:30:00\n",
      "Records 9393 Start: 2015-07-18 14:00:00 End: 2015-07-20 08:30:00\n",
      "Records 9493 Start: 2015-07-20 09:00:00 End: 2015-07-22 03:30:00\n",
      "Records 9593 Start: 2015-07-22 04:00:00 End: 2015-07-23 22:30:00\n",
      "Records 9693 Start: 2015-07-23 23:00:00 End: 2015-07-25 17:30:00\n",
      "Records 9793 Start: 2015-07-25 18:00:00 End: 2015-07-27 12:30:00\n",
      "Records 9893 Start: 2015-07-27 13:00:00 End: 2015-07-29 07:30:00\n",
      "Records 9993 Start: 2015-07-29 08:00:00 End: 2015-07-31 02:30:00\n",
      "Records 10093 Start: 2015-07-31 03:00:00 End: 2015-08-01 21:30:00\n",
      "Records 10193 Start: 2015-08-01 22:00:00 End: 2015-08-03 16:30:00\n",
      "Records 10293 Start: 2015-08-03 17:00:00 End: 2015-08-05 11:30:00\n",
      "Records 10393 Start: 2015-08-05 12:00:00 End: 2015-08-07 06:30:00\n"
     ]
    }
   ],
   "source": [
    "# Fetch\n",
    "df = get_all_data(PRODUCT, START_UTC, END_UTC, TIMESTEPS_PER_REQUEST, TIMESTEP_INTERVAL, PRICE_FPATH)"
   ]
  },
  {
   "cell_type": "code",
   "execution_count": 90,
   "metadata": {},
   "outputs": [
    {
     "name": "stdout",
     "output_type": "stream",
     "text": [
      "2017-12-23 00:00:00 2017-12-31 00:00:00\n",
      "Start 2017-12-23 00:00:00\n",
      "End 2017-12-31 00:00:00\n",
      "2 days, 2:00:00\n",
      "Records 0 Start: 2017-12-23 00:00:00 End: 2017-12-24 17:30:00\n",
      "Records 100 Start: 2017-12-24 18:00:00 End: 2017-12-26 11:30:00\n",
      "Records 200 Start: 2017-12-26 12:00:00 End: 2017-12-28 05:30:00\n",
      "Records 300 Start: 2017-12-28 06:00:00 End: 2017-12-29 23:30:00\n",
      "Records 400 Start: 2017-12-30 00:00:00 End: 2017-12-31 10:30:00\n"
     ]
    }
   ],
   "source": [
    "start_utc = '2017-12-23T00:00:00Z'\n",
    "end_utc = '2017-12-31T00:00:00Z'\n",
    "df = get_all_data(PRODUCT, start_utc, end_utc, TIMESTEPS_PER_REQUEST, TIMESTEP_INTERVAL, PRICE_FPATH)"
   ]
  },
  {
   "cell_type": "code",
   "execution_count": null,
   "metadata": {},
   "outputs": [],
   "source": [
    "s = datetime.datetime.fromtimestamp(1514641260)\n",
    "next_ = datetime.datetime.fromtimestamp(1514641320)\n",
    "e = datetime.datetime.fromtimestamp(1514665260)\n",
    "s,next_,e,len(prices),(e-s).total_seconds()/3600\n",
    "#datetime.datetime.timestamp(s)"
   ]
  },
  {
   "cell_type": "markdown",
   "metadata": {},
   "source": [
    "### Load Prices"
   ]
  },
  {
   "cell_type": "code",
   "execution_count": 95,
   "metadata": {},
   "outputs": [],
   "source": [
    "# https://github.com/bfortuner/computer-vision/blob/master/applied/libraries/PandasQuickstart.ipynb\n",
    "df = pd.read_csv(PRICE_FPATH)\n",
    "epochsec = [datetime.datetime.fromtimestamp(t) for t in df['time'].values]\n",
    "df = df.assign(time_utc = epochsec)\n",
    "df.sort_values(by='time_utc', ascending=True, inplace=True)"
   ]
  },
  {
   "cell_type": "code",
   "execution_count": 100,
   "metadata": {},
   "outputs": [
    {
     "data": {
      "text/plain": [
       "time        0\n",
       "low         0\n",
       "high        0\n",
       "open        0\n",
       "close       0\n",
       "volume      0\n",
       "time_utc    0\n",
       "dtype: int64"
      ]
     },
     "execution_count": 100,
     "metadata": {},
     "output_type": "execute_result"
    }
   ],
   "source": [
    "# Check for NULL\n",
    "df.isnull().sum()"
   ]
  },
  {
   "cell_type": "code",
   "execution_count": 101,
   "metadata": {},
   "outputs": [
    {
     "name": "stdout",
     "output_type": "stream",
     "text": [
      "2017-12-31T10:30:00\n"
     ]
    },
    {
     "data": {
      "text/html": [
       "<div>\n",
       "<style>\n",
       "    .dataframe thead tr:only-child th {\n",
       "        text-align: right;\n",
       "    }\n",
       "\n",
       "    .dataframe thead th {\n",
       "        text-align: left;\n",
       "    }\n",
       "\n",
       "    .dataframe tbody tr th {\n",
       "        vertical-align: top;\n",
       "    }\n",
       "</style>\n",
       "<table border=\"1\" class=\"dataframe\">\n",
       "  <thead>\n",
       "    <tr style=\"text-align: right;\">\n",
       "      <th></th>\n",
       "      <th>time</th>\n",
       "      <th>low</th>\n",
       "      <th>high</th>\n",
       "      <th>open</th>\n",
       "      <th>close</th>\n",
       "      <th>volume</th>\n",
       "      <th>time_utc</th>\n",
       "    </tr>\n",
       "  </thead>\n",
       "  <tbody>\n",
       "    <tr>\n",
       "      <th>51555</th>\n",
       "      <td>1.514740e+09</td>\n",
       "      <td>13741.41</td>\n",
       "      <td>14009.96</td>\n",
       "      <td>14009.96</td>\n",
       "      <td>13970.01</td>\n",
       "      <td>186.758709</td>\n",
       "      <td>2017-12-31 09:00:00</td>\n",
       "    </tr>\n",
       "    <tr>\n",
       "      <th>51556</th>\n",
       "      <td>1.514741e+09</td>\n",
       "      <td>13875.96</td>\n",
       "      <td>14062.00</td>\n",
       "      <td>13970.02</td>\n",
       "      <td>13980.00</td>\n",
       "      <td>150.162813</td>\n",
       "      <td>2017-12-31 09:30:00</td>\n",
       "    </tr>\n",
       "    <tr>\n",
       "      <th>51559</th>\n",
       "      <td>1.514743e+09</td>\n",
       "      <td>13930.00</td>\n",
       "      <td>14049.00</td>\n",
       "      <td>13979.99</td>\n",
       "      <td>13931.02</td>\n",
       "      <td>126.425282</td>\n",
       "      <td>2017-12-31 10:00:00</td>\n",
       "    </tr>\n",
       "    <tr>\n",
       "      <th>51557</th>\n",
       "      <td>1.514743e+09</td>\n",
       "      <td>13933.49</td>\n",
       "      <td>14049.00</td>\n",
       "      <td>13979.99</td>\n",
       "      <td>13996.64</td>\n",
       "      <td>110.429898</td>\n",
       "      <td>2017-12-31 10:00:00</td>\n",
       "    </tr>\n",
       "    <tr>\n",
       "      <th>51558</th>\n",
       "      <td>1.514745e+09</td>\n",
       "      <td>13882.00</td>\n",
       "      <td>13950.00</td>\n",
       "      <td>13931.02</td>\n",
       "      <td>13882.59</td>\n",
       "      <td>13.848905</td>\n",
       "      <td>2017-12-31 10:30:00</td>\n",
       "    </tr>\n",
       "  </tbody>\n",
       "</table>\n",
       "</div>"
      ],
      "text/plain": [
       "               time       low      high      open     close      volume  \\\n",
       "51555  1.514740e+09  13741.41  14009.96  14009.96  13970.01  186.758709   \n",
       "51556  1.514741e+09  13875.96  14062.00  13970.02  13980.00  150.162813   \n",
       "51559  1.514743e+09  13930.00  14049.00  13979.99  13931.02  126.425282   \n",
       "51557  1.514743e+09  13933.49  14049.00  13979.99  13996.64  110.429898   \n",
       "51558  1.514745e+09  13882.00  13950.00  13931.02  13882.59   13.848905   \n",
       "\n",
       "                 time_utc  \n",
       "51555 2017-12-31 09:00:00  \n",
       "51556 2017-12-31 09:30:00  \n",
       "51559 2017-12-31 10:00:00  \n",
       "51557 2017-12-31 10:00:00  \n",
       "51558 2017-12-31 10:30:00  "
      ]
     },
     "execution_count": 101,
     "metadata": {},
     "output_type": "execute_result"
    }
   ],
   "source": [
    "last_time = df.iloc[-1]['time']\n",
    "last_record_utc = datetime.datetime.fromtimestamp(last_time)\n",
    "print(last_record_utc.isoformat())\n",
    "df.tail()"
   ]
  },
  {
   "cell_type": "code",
   "execution_count": 102,
   "metadata": {},
   "outputs": [
    {
     "data": {
      "text/plain": [
       "51715"
      ]
     },
     "execution_count": 102,
     "metadata": {},
     "output_type": "execute_result"
    }
   ],
   "source": [
    "len(df)"
   ]
  },
  {
   "cell_type": "code",
   "execution_count": null,
   "metadata": {},
   "outputs": [],
   "source": [
    "# Query Date Range\n",
    "start = datetime.datetime(2017, 4, 15, 12, 0)\n",
    "end = datetime.datetime(2017, 4, 15, 16, 10)\n",
    "results = df[ (df['time_utc'] >= start) & (df['time_utc'] < end) ]"
   ]
  },
  {
   "cell_type": "code",
   "execution_count": null,
   "metadata": {},
   "outputs": [],
   "source": [
    "# Check for missing timesteps\n",
    "last_time = df.iloc[0]['time_utc']\n",
    "n_missing = 0\n",
    "for idx,row in df[1:].iterrows():\n",
    "    cur_time = row['time_utc']\n",
    "#     print(cur_time, last_time + datetime.timedelta(seconds=60))\n",
    "    if cur_time != last_time + datetime.timedelta(seconds=3600):\n",
    "        n_missing += 1 #(cur_time - last_time).seconds//60\n",
    "    last_time = cur_time\n",
    "n_missing"
   ]
  },
  {
   "cell_type": "markdown",
   "metadata": {},
   "source": [
    "### Plot"
   ]
  },
  {
   "cell_type": "code",
   "execution_count": null,
   "metadata": {},
   "outputs": [],
   "source": [
    "# https://github.com/quantopian/qgrid\n",
    "# https://hub.mybinder.org/user/quantopian-qgrid-notebooks-bu5joi0d/notebooks/index.ipynb\n",
    "# https://ipywidgets.readthedocs.io/en/stable/examples/Widget%20Basics.html\n",
    "\n",
    "qgrid_widget = qgrid.QgridWidget(df=df, show_toolbar=True)\n",
    "qgrid_widget\n",
    "#qgrid_widget.get_changed_df()"
   ]
  },
  {
   "cell_type": "code",
   "execution_count": null,
   "metadata": {},
   "outputs": [],
   "source": [
    "def plot_prices(time, close):\n",
    "    fig, ax = plt.subplots()\n",
    "    ax.plot(time, close)\n",
    "\n",
    "    years = mdates.YearLocator()   # every year\n",
    "    months = mdates.MonthLocator()  # every month\n",
    "    yearsFmt = mdates.DateFormatter('%Y')\n",
    "    monthsFmt = mdates.DateFormatter('%m')\n",
    "    ax.xaxis.set_major_locator(years)\n",
    "    ax.xaxis.set_major_formatter(yearsFmt)\n",
    "    ax.xaxis.set_minor_locator(months)\n",
    "    ax.xaxis.set_minor_formatter(monthsFmt)\n",
    "\n",
    "    # datemin = datetime.date(r.date.min().year, 1, 1)\n",
    "    # datemax = datetime.date(r.date.max().year + 1, 1, 1)\n",
    "    # ax.set_xlim(datemin, datemax)\n",
    "\n",
    "    # # format the coords message box\n",
    "    # def price(x):\n",
    "    #     return '$%1.2f' % x\n",
    "    # ax.format_xdata = mdates.DateFormatter('%Y-%m-%d')\n",
    "    # ax.format_ydata = price\n",
    "    ax.grid(True)\n",
    "\n",
    "    # rotates and right aligns the x labels, and moves the bottom of the\n",
    "    # axes up to make room for them\n",
    "    fig.autofmt_xdate(rotation=30)\n",
    "    fig.set_size_inches(12,6)\n",
    "    plt.show()\n",
    "\n",
    "def plot_range(df, start, end):\n",
    "    df = df[ (df['time_utc'] >= start) & (df['time_utc'] < end) ]\n",
    "    vals = df[['time_utc','close']].values\n",
    "    plot_prices(vals[:,0], vals[:,1])\n",
    "\n",
    "vals = df[['time_utc','close']].values\n",
    "plot_prices(vals[:,0], vals[:,1])\n",
    "# start = datetime.datetime(2017, 4, 15, 12, 0)\n",
    "# end = datetime.datetime(2017, 4, 15, 16, 10)\n",
    "# results = df[ (df['time_utc'] >= start) & (df['time_utc'] < end) ]\n",
    "# results = results.drop(684239)\n",
    "# plot_range(results, start, end)"
   ]
  },
  {
   "cell_type": "markdown",
   "metadata": {},
   "source": [
    "### Exchange Metadata"
   ]
  },
  {
   "cell_type": "code",
   "execution_count": null,
   "metadata": {},
   "outputs": [],
   "source": [
    "gdax_client.get_products()\n",
    "gdax_client.get_currencies()\n",
    "gdax_client.get_time()"
   ]
  },
  {
   "cell_type": "markdown",
   "metadata": {},
   "source": [
    "### Current Prices"
   ]
  },
  {
   "cell_type": "code",
   "execution_count": null,
   "metadata": {},
   "outputs": [],
   "source": [
    "# Get the order book at the default level.\n",
    "gdax_client.get_product_order_book('BTC-USD')\n",
    "# Get the order book at a specific level.\n",
    "gdax_client.get_product_order_book('BTC-USD', level=1)"
   ]
  },
  {
   "cell_type": "code",
   "execution_count": null,
   "metadata": {},
   "outputs": [],
   "source": [
    "# Get the product ticker for a specific product.\n",
    "gdax_client.get_product_ticker(product_id='ETH-USD')"
   ]
  },
  {
   "cell_type": "code",
   "execution_count": null,
   "metadata": {},
   "outputs": [],
   "source": [
    "# Get the product trades for a specific product.\n",
    "gdax_client.get_product_trades(product_id='ETH-USD')"
   ]
  },
  {
   "cell_type": "code",
   "execution_count": null,
   "metadata": {},
   "outputs": [],
   "source": [
    "gdax_client.get_product_24hr_stats('ETH-USD')"
   ]
  },
  {
   "cell_type": "markdown",
   "metadata": {},
   "source": [
    "### Streaming"
   ]
  },
  {
   "cell_type": "code",
   "execution_count": null,
   "metadata": {},
   "outputs": [],
   "source": [
    "class myWebsocketClient(gdax.WebsocketClient):\n",
    "    def on_open(self):\n",
    "        self.url = cfg.GDAX_WEBSOCKET\n",
    "        self.products = [c.BTC_USD]\n",
    "        self.message_count = 0\n",
    "        print(\"Lets count the messages!\")\n",
    "    \n",
    "    def on_message(self, msg):\n",
    "        self.message_count += 1\n",
    "        if 'price' in msg and 'type' in msg:\n",
    "            print (\"Message type:\", msg[\"type\"],\n",
    "                   \"\\t@ {:.3f}\".format(float(msg[\"price\"])))\n",
    "    \n",
    "    def on_close(self):\n",
    "        print(\"-- Goodbye! --\")\n",
    "\n",
    "        \n",
    "wsClient = myWebsocketClient()\n",
    "wsClient.start()\n",
    "print(wsClient.url, wsClient.products)\n",
    "while (wsClient.message_count < 500):\n",
    "    print (\"\\nmessage_count =\", \"{} \\n\".format(wsClient.message_count))\n",
    "    time.sleep(1)\n",
    "wsClient.close()"
   ]
  },
  {
   "cell_type": "code",
   "execution_count": null,
   "metadata": {},
   "outputs": [],
   "source": [
    "wsClient.close()"
   ]
  }
 ],
 "metadata": {
  "kernelspec": {
   "display_name": "Python 3",
   "language": "python",
   "name": "python3"
  },
  "language_info": {
   "codemirror_mode": {
    "name": "ipython",
    "version": 3
   },
   "file_extension": ".py",
   "mimetype": "text/x-python",
   "name": "python",
   "nbconvert_exporter": "python",
   "pygments_lexer": "ipython3",
   "version": "3.6.0"
  },
  "latex_envs": {
   "LaTeX_envs_menu_present": true,
   "autocomplete": true,
   "bibliofile": "biblio.bib",
   "cite_by": "apalike",
   "current_citInitial": 1,
   "eqLabelWithNumbers": true,
   "eqNumInitial": 1,
   "hotkeys": {
    "equation": "Ctrl-E",
    "itemize": "Ctrl-I"
   },
   "labels_anchors": false,
   "latex_user_defs": false,
   "report_style_numbering": false,
   "user_envs_cfg": false
  },
  "toc": {
   "colors": {
    "hover_highlight": "#DAA520",
    "navigate_num": "#000000",
    "navigate_text": "#333333",
    "running_highlight": "#FF0000",
    "selected_highlight": "#FFD700",
    "sidebar_border": "#EEEEEE",
    "wrapper_background": "#FFFFFF"
   },
   "moveMenuLeft": true,
   "nav_menu": {
    "height": "49px",
    "width": "254px"
   },
   "navigate_menu": true,
   "number_sections": true,
   "sideBar": true,
   "threshold": 4,
   "toc_cell": false,
   "toc_section_display": "block",
   "toc_window_display": false,
   "widenNotebook": false
  }
 },
 "nbformat": 4,
 "nbformat_minor": 2
}
