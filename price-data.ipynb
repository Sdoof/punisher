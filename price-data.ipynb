{
 "cells": [
  {
   "cell_type": "markdown",
   "metadata": {},
   "source": [
    "## Config"
   ]
  },
  {
   "cell_type": "code",
   "execution_count": 47,
   "metadata": {},
   "outputs": [
    {
     "name": "stdout",
     "output_type": "stream",
     "text": [
      "The autoreload extension is already loaded. To reload it, use:\n",
      "  %reload_ext autoreload\n"
     ]
    }
   ],
   "source": [
    "%matplotlib inline\n",
    "%load_ext autoreload\n",
    "%autoreload 2\n",
    "from common import *\n",
    "import qgrid"
   ]
  },
  {
   "cell_type": "markdown",
   "metadata": {},
   "source": [
    "## GDAX"
   ]
  },
  {
   "cell_type": "code",
   "execution_count": 48,
   "metadata": {},
   "outputs": [
    {
     "data": {
      "text/plain": [
       "{'epoch': 1514739487.425, 'iso': '2017-12-31T16:58:07.425Z'}"
      ]
     },
     "execution_count": 48,
     "metadata": {},
     "output_type": "execute_result"
    }
   ],
   "source": [
    "# https://github.com/danpaquin/gdax-python\n",
    "# https://docs.gdax.com\n",
    "\n",
    "# Use the sandbox API (requires a different set of API access credentials)\n",
    "gdax_client = gdax.AuthenticatedClient(cfg.GDAX_API_KEY, cfg.GDAX_API_SECRET_KEY, \n",
    "                                       cfg.GDAX_PASSPHRASE, api_url=cfg.GDAX_ENDPOINT)\n",
    "gdax_client.get_time()"
   ]
  },
  {
   "cell_type": "markdown",
   "metadata": {},
   "source": [
    "### Historical Prices"
   ]
  },
  {
   "cell_type": "code",
   "execution_count": 39,
   "metadata": {},
   "outputs": [],
   "source": [
    "# Default request is 400 minutes (~7 hours), 1 minute gap\n",
    "# ~4 requests to get 24 hours of data\n",
    "# 1460 requests for 1 year, ~3000 requests for 2 years\n",
    "\n",
    "START_UTC = '2015-01-01T00:00:00Z'\n",
    "END_UTC = '2017-12-31T00:00:00Z'\n",
    "BTC_PRICE_FPATH = os.path.join(cfg.DATA_DIR, 'gdax_btc_price.csv')\n",
    "PRICE_COLUMNS = ['time', 'low', 'high', 'open', 'close', 'volume']\n",
    "\n",
    "def write_to_df(data, fpath):\n",
    "    if os.path.exists(fpath):\n",
    "        df = pd.read_csv(fpath)\n",
    "        data = pd.DataFrame(data, columns=PRICE_COLUMNS)\n",
    "        df.set_index('time')\n",
    "        df = df.sort_values(by='time', ascending=True)\n",
    "        df = pd.concat([df, data]).drop_duplicates().reset_index(drop=True)\n",
    "    else:\n",
    "        df = pd.DataFrame(data, columns=PRICE_COLUMNS)\n",
    "        df.set_index('time')\n",
    "        df = df.sort_values(by='time', ascending=True)\n",
    "    df.to_csv(fpath, index=False)\n",
    "    return df\n",
    "\n",
    "def get_data(currency_pair, start_time, end_time, timestep_sec):\n",
    "#     print(\"Start\", start_utc.isoformat())\n",
    "#     print(\"End\", end_utc.isoformat())\n",
    "    delta = end_time - start_time\n",
    "#     print(\"Years\", round(delta.days/365,2))\n",
    "#     print(\"Days\", delta.days)\n",
    "#     print(\"Hours\", delta.days*24)\n",
    "#     print(\"Minutes\", delta.days*24*60)\n",
    "#     print(\"Seconds\", round(delta.total_seconds()))\n",
    "    data = gdax_client.get_product_historic_rates(\n",
    "        currency_pair, start=start_time.isoformat(), \n",
    "        end=end_time.isoformat(), granularity=timestep_sec)\n",
    "    return data\n",
    "\n",
    "def get_all_data(pair, start_utc, end_utc, timesteps_per_request, timestep_sec, outfpath):\n",
    "    start_time = datetime.datetime.strptime(\n",
    "        start_utc, '%Y-%m-%dT%H:%M:%SZ')#.astimezone(datetime.timezone.utc)\n",
    "    end_time = datetime.datetime.strptime(\n",
    "        end_utc, '%Y-%m-%dT%H:%M:%SZ')#.astimezone(datetime.timezone.utc)\n",
    "    cur_time = start_time\n",
    "    print(\"Start\", cur_time)\n",
    "    print(\"End\", end_time)\n",
    "    time_delta = datetime.timedelta(\n",
    "        seconds=timesteps_per_request*timestep_sec)\n",
    "    n_records = 0\n",
    "    retry = 0\n",
    "    while cur_time < end_time and retry < 10:\n",
    "        try:\n",
    "            data = get_data(pair, cur_time, cur_time+time_delta, timestep_sec)\n",
    "            data = np.array(data)\n",
    "            last_time = datetime.datetime.fromtimestamp(np.max(data[:,0]))\n",
    "            if last_time < cur_time:\n",
    "                break\n",
    "            print(\"Records\", n_records, \"Start:\", cur_time, \"End:\", last_time)\n",
    "            cur_time = datetime.datetime.fromtimestamp(\n",
    "                data[0][0] + timestep_sec)\n",
    "            df = write_to_df(data, outfpath)\n",
    "            n_records += len(data)\n",
    "            retry = 0\n",
    "        except Exception as e:\n",
    "            retry += 1\n",
    "            print(\"Error\", e)\n",
    "            traceback.print_exc()\n",
    "        finally:\n",
    "            time.sleep(1)\n",
    "    return df"
   ]
  },
  {
   "cell_type": "code",
   "execution_count": 40,
   "metadata": {},
   "outputs": [
    {
     "name": "stdout",
     "output_type": "stream",
     "text": [
      "Start 2015-01-01 00:00:00\n",
      "End 2017-12-31 00:00:00\n",
      "Records 0 Start: 2015-01-01 00:00:00 End: 2015-01-08 12:00:00\n",
      "Records 9 Start: 2015-01-08 13:00:00 End: 2015-01-15 19:00:00\n",
      "Records 35 Start: 2015-01-15 20:00:00 End: 2015-01-23 16:00:00\n",
      "Records 62 Start: 2015-01-23 17:00:00 End: 2015-01-31 16:00:00\n",
      "Records 229 Start: 2015-01-31 17:00:00 End: 2015-02-08 16:00:00\n",
      "Records 429 Start: 2015-02-08 17:00:00 End: 2015-02-16 16:00:00\n",
      "Records 629 Start: 2015-02-16 17:00:00 End: 2015-02-24 16:00:00\n",
      "Records 829 Start: 2015-02-24 17:00:00 End: 2015-03-04 16:00:00\n",
      "Records 1029 Start: 2015-03-04 17:00:00 End: 2015-03-12 17:00:00\n",
      "Records 1229 Start: 2015-03-12 18:00:00 End: 2015-03-20 18:00:00\n",
      "Records 1429 Start: 2015-03-20 19:00:00 End: 2015-03-28 19:00:00\n",
      "Records 1629 Start: 2015-03-28 20:00:00 End: 2015-04-05 20:00:00\n",
      "Records 1829 Start: 2015-04-05 21:00:00 End: 2015-04-13 21:00:00\n",
      "Records 2029 Start: 2015-04-13 22:00:00 End: 2015-04-21 22:00:00\n",
      "Records 2229 Start: 2015-04-21 23:00:00 End: 2015-04-29 23:00:00\n",
      "Records 2429 Start: 2015-04-30 00:00:00 End: 2015-05-08 00:00:00\n",
      "Records 2629 Start: 2015-05-08 01:00:00 End: 2015-05-16 01:00:00\n",
      "Records 2829 Start: 2015-05-16 02:00:00 End: 2015-05-24 02:00:00\n",
      "Records 3029 Start: 2015-05-24 03:00:00 End: 2015-06-01 03:00:00\n",
      "Records 3229 Start: 2015-06-01 04:00:00 End: 2015-06-09 04:00:00\n",
      "Records 3429 Start: 2015-06-09 05:00:00 End: 2015-06-17 05:00:00\n",
      "Records 3629 Start: 2015-06-17 06:00:00 End: 2015-06-25 06:00:00\n",
      "Records 3829 Start: 2015-06-25 07:00:00 End: 2015-07-03 07:00:00\n",
      "Records 4027 Start: 2015-07-03 08:00:00 End: 2015-07-11 08:00:00\n",
      "Records 4227 Start: 2015-07-11 09:00:00 End: 2015-07-19 09:00:00\n",
      "Records 4427 Start: 2015-07-19 10:00:00 End: 2015-07-27 10:00:00\n",
      "Records 4627 Start: 2015-07-27 11:00:00 End: 2015-08-04 11:00:00\n",
      "Records 4827 Start: 2015-08-04 12:00:00 End: 2015-08-12 12:00:00\n",
      "Records 5027 Start: 2015-08-12 13:00:00 End: 2015-08-20 13:00:00\n",
      "Records 5227 Start: 2015-08-20 14:00:00 End: 2015-08-28 14:00:00\n",
      "Records 5427 Start: 2015-08-28 15:00:00 End: 2015-09-05 15:00:00\n",
      "Records 5627 Start: 2015-09-05 16:00:00 End: 2015-09-13 16:00:00\n",
      "Records 5827 Start: 2015-09-13 17:00:00 End: 2015-09-21 17:00:00\n",
      "Records 6027 Start: 2015-09-21 18:00:00 End: 2015-09-29 18:00:00\n",
      "Records 6227 Start: 2015-09-29 19:00:00 End: 2015-10-07 19:00:00\n",
      "Records 6427 Start: 2015-10-07 20:00:00 End: 2015-10-15 20:00:00\n",
      "Records 6627 Start: 2015-10-15 21:00:00 End: 2015-10-23 21:00:00\n",
      "Records 6827 Start: 2015-10-23 22:00:00 End: 2015-10-31 22:00:00\n",
      "Records 7027 Start: 2015-10-31 23:00:00 End: 2015-11-08 22:00:00\n",
      "Records 7227 Start: 2015-11-08 23:00:00 End: 2015-11-16 22:00:00\n",
      "Records 7427 Start: 2015-11-16 23:00:00 End: 2015-11-24 22:00:00\n",
      "Records 7627 Start: 2015-11-24 23:00:00 End: 2015-12-02 22:00:00\n",
      "Records 7827 Start: 2015-12-02 23:00:00 End: 2015-12-10 22:00:00\n",
      "Records 8027 Start: 2015-12-10 23:00:00 End: 2015-12-18 22:00:00\n",
      "Records 8227 Start: 2015-12-18 23:00:00 End: 2015-12-26 22:00:00\n",
      "Records 8427 Start: 2015-12-26 23:00:00 End: 2016-01-03 22:00:00\n",
      "Records 8627 Start: 2016-01-03 23:00:00 End: 2016-01-11 22:00:00\n",
      "Records 8827 Start: 2016-01-11 23:00:00 End: 2016-01-19 22:00:00\n",
      "Records 9027 Start: 2016-01-19 23:00:00 End: 2016-01-27 22:00:00\n",
      "Records 9227 Start: 2016-01-27 23:00:00 End: 2016-02-04 22:00:00\n",
      "Records 9427 Start: 2016-02-04 23:00:00 End: 2016-02-12 22:00:00\n",
      "Records 9627 Start: 2016-02-12 23:00:00 End: 2016-02-20 22:00:00\n",
      "Records 9827 Start: 2016-02-20 23:00:00 End: 2016-02-28 22:00:00\n",
      "Records 10027 Start: 2016-02-28 23:00:00 End: 2016-03-07 22:00:00\n",
      "Records 10227 Start: 2016-03-07 23:00:00 End: 2016-03-15 23:00:00\n",
      "Records 10427 Start: 2016-03-16 00:00:00 End: 2016-03-24 00:00:00\n",
      "Records 10627 Start: 2016-03-24 01:00:00 End: 2016-04-01 01:00:00\n",
      "Records 10827 Start: 2016-04-01 02:00:00 End: 2016-04-09 02:00:00\n",
      "Records 11027 Start: 2016-04-09 03:00:00 End: 2016-04-17 03:00:00\n",
      "Records 11227 Start: 2016-04-17 04:00:00 End: 2016-04-25 04:00:00\n",
      "Records 11427 Start: 2016-04-25 05:00:00 End: 2016-05-03 05:00:00\n",
      "Records 11627 Start: 2016-05-03 06:00:00 End: 2016-05-11 06:00:00\n",
      "Records 11827 Start: 2016-05-11 07:00:00 End: 2016-05-19 07:00:00\n",
      "Records 12027 Start: 2016-05-19 08:00:00 End: 2016-05-27 08:00:00\n",
      "Records 12227 Start: 2016-05-27 09:00:00 End: 2016-06-04 09:00:00\n",
      "Records 12427 Start: 2016-06-04 10:00:00 End: 2016-06-12 10:00:00\n",
      "Records 12627 Start: 2016-06-12 11:00:00 End: 2016-06-20 11:00:00\n",
      "Records 12827 Start: 2016-06-20 12:00:00 End: 2016-06-28 12:00:00\n",
      "Records 13027 Start: 2016-06-28 13:00:00 End: 2016-07-06 13:00:00\n",
      "Records 13227 Start: 2016-07-06 14:00:00 End: 2016-07-14 14:00:00\n",
      "Records 13427 Start: 2016-07-14 15:00:00 End: 2016-07-22 15:00:00\n",
      "Records 13627 Start: 2016-07-22 16:00:00 End: 2016-07-30 16:00:00\n",
      "Records 13827 Start: 2016-07-30 17:00:00 End: 2016-08-07 17:00:00\n",
      "Records 14027 Start: 2016-08-07 18:00:00 End: 2016-08-15 18:00:00\n",
      "Records 14227 Start: 2016-08-15 19:00:00 End: 2016-08-23 19:00:00\n",
      "Records 14427 Start: 2016-08-23 20:00:00 End: 2016-08-31 20:00:00\n",
      "Records 14627 Start: 2016-08-31 21:00:00 End: 2016-09-08 21:00:00\n",
      "Records 14827 Start: 2016-09-08 22:00:00 End: 2016-09-16 22:00:00\n",
      "Records 15027 Start: 2016-09-16 23:00:00 End: 2016-09-24 23:00:00\n",
      "Records 15225 Start: 2016-09-25 00:00:00 End: 2016-10-03 00:00:00\n",
      "Records 15425 Start: 2016-10-03 01:00:00 End: 2016-10-11 01:00:00\n",
      "Records 15625 Start: 2016-10-11 02:00:00 End: 2016-10-19 02:00:00\n",
      "Records 15825 Start: 2016-10-19 03:00:00 End: 2016-10-27 03:00:00\n",
      "Records 16025 Start: 2016-10-27 04:00:00 End: 2016-11-04 04:00:00\n",
      "Records 16225 Start: 2016-11-04 05:00:00 End: 2016-11-12 04:00:00\n",
      "Records 16425 Start: 2016-11-12 05:00:00 End: 2016-11-20 04:00:00\n",
      "Records 16625 Start: 2016-11-20 05:00:00 End: 2016-11-28 04:00:00\n",
      "Records 16825 Start: 2016-11-28 05:00:00 End: 2016-12-06 04:00:00\n",
      "Records 17025 Start: 2016-12-06 05:00:00 End: 2016-12-14 04:00:00\n",
      "Records 17225 Start: 2016-12-14 05:00:00 End: 2016-12-22 04:00:00\n",
      "Records 17425 Start: 2016-12-22 05:00:00 End: 2016-12-30 04:00:00\n",
      "Records 17625 Start: 2016-12-30 05:00:00 End: 2017-01-07 04:00:00\n",
      "Records 17825 Start: 2017-01-07 05:00:00 End: 2017-01-15 04:00:00\n",
      "Records 18025 Start: 2017-01-15 05:00:00 End: 2017-01-23 04:00:00\n",
      "Records 18225 Start: 2017-01-23 05:00:00 End: 2017-01-31 04:00:00\n",
      "Records 18425 Start: 2017-01-31 05:00:00 End: 2017-02-08 04:00:00\n",
      "Records 18625 Start: 2017-02-08 05:00:00 End: 2017-02-16 04:00:00\n",
      "Records 18825 Start: 2017-02-16 05:00:00 End: 2017-02-24 04:00:00\n",
      "Records 19025 Start: 2017-02-24 05:00:00 End: 2017-03-04 04:00:00\n",
      "Records 19220 Start: 2017-03-04 05:00:00 End: 2017-03-12 05:00:00\n",
      "Records 19420 Start: 2017-03-12 06:00:00 End: 2017-03-20 06:00:00\n",
      "Records 19620 Start: 2017-03-20 07:00:00 End: 2017-03-28 07:00:00\n",
      "Records 19820 Start: 2017-03-28 08:00:00 End: 2017-04-05 08:00:00\n",
      "Records 20020 Start: 2017-04-05 09:00:00 End: 2017-04-13 09:00:00\n",
      "Records 20220 Start: 2017-04-13 10:00:00 End: 2017-04-21 10:00:00\n",
      "Records 20417 Start: 2017-04-21 11:00:00 End: 2017-04-29 11:00:00\n",
      "Records 20617 Start: 2017-04-29 12:00:00 End: 2017-05-07 12:00:00\n",
      "Records 20817 Start: 2017-05-07 13:00:00 End: 2017-05-15 13:00:00\n",
      "Records 21017 Start: 2017-05-15 14:00:00 End: 2017-05-23 14:00:00\n",
      "Records 21217 Start: 2017-05-23 15:00:00 End: 2017-05-31 15:00:00\n",
      "Records 21417 Start: 2017-05-31 16:00:00 End: 2017-06-08 16:00:00\n",
      "Records 21617 Start: 2017-06-08 17:00:00 End: 2017-06-16 17:00:00\n",
      "Records 21817 Start: 2017-06-16 18:00:00 End: 2017-06-24 18:00:00\n",
      "Records 22017 Start: 2017-06-24 19:00:00 End: 2017-07-02 19:00:00\n",
      "Records 22217 Start: 2017-07-02 20:00:00 End: 2017-07-10 20:00:00\n",
      "Records 22417 Start: 2017-07-10 21:00:00 End: 2017-07-18 21:00:00\n",
      "Records 22617 Start: 2017-07-18 22:00:00 End: 2017-07-26 22:00:00\n",
      "Records 22817 Start: 2017-07-26 23:00:00 End: 2017-08-03 23:00:00\n",
      "Records 23017 Start: 2017-08-04 00:00:00 End: 2017-08-12 00:00:00\n",
      "Records 23217 Start: 2017-08-12 01:00:00 End: 2017-08-20 01:00:00\n",
      "Records 23417 Start: 2017-08-20 02:00:00 End: 2017-08-28 02:00:00\n",
      "Records 23617 Start: 2017-08-28 03:00:00 End: 2017-09-05 03:00:00\n",
      "Records 23817 Start: 2017-09-05 04:00:00 End: 2017-09-13 04:00:00\n",
      "Records 24017 Start: 2017-09-13 05:00:00 End: 2017-09-21 05:00:00\n",
      "Records 24217 Start: 2017-09-21 06:00:00 End: 2017-09-29 06:00:00\n"
     ]
    },
    {
     "name": "stdout",
     "output_type": "stream",
     "text": [
      "Records 24415 Start: 2017-09-29 07:00:00 End: 2017-10-07 07:00:00\n",
      "Records 24615 Start: 2017-10-07 08:00:00 End: 2017-10-15 08:00:00\n",
      "Records 24815 Start: 2017-10-15 09:00:00 End: 2017-10-23 09:00:00\n",
      "Records 25015 Start: 2017-10-23 10:00:00 End: 2017-10-31 10:00:00\n",
      "Records 25215 Start: 2017-10-31 11:00:00 End: 2017-11-08 10:00:00\n",
      "Records 25415 Start: 2017-11-08 11:00:00 End: 2017-11-16 10:00:00\n",
      "Records 25615 Start: 2017-11-16 11:00:00 End: 2017-11-24 10:00:00\n",
      "Records 25815 Start: 2017-11-24 11:00:00 End: 2017-12-02 10:00:00\n",
      "Records 26014 Start: 2017-12-02 11:00:00 End: 2017-12-10 10:00:00\n",
      "Records 26214 Start: 2017-12-10 11:00:00 End: 2017-12-18 10:00:00\n",
      "Records 26413 Start: 2017-12-18 11:00:00 End: 2017-12-26 10:00:00\n",
      "Records 26613 Start: 2017-12-26 11:00:00 End: 2017-12-30 22:00:00\n"
     ]
    }
   ],
   "source": [
    "df = get_all_data(c.BTC_USD, START_UTC, END_UTC, 200, 3600, BTC_PRICE_FPATH)"
   ]
  },
  {
   "cell_type": "code",
   "execution_count": 12,
   "metadata": {},
   "outputs": [],
   "source": [
    "start_utc = '2015-01-01T00:00:00Z'\n",
    "end_utc = '2017-12-31T00:00:00Z'\n",
    "df = get_all_data(c.BTC_USD, start_utc, end_utc, 400, 900, BTC_PRICE_FPATH)"
   ]
  },
  {
   "cell_type": "code",
   "execution_count": 25,
   "metadata": {},
   "outputs": [
    {
     "data": {
      "text/plain": [
       "(datetime.datetime(2017, 12, 30, 5, 41),\n",
       " datetime.datetime(2017, 12, 30, 5, 42),\n",
       " datetime.datetime(2017, 12, 30, 12, 21),\n",
       " 401,\n",
       " 6.666666666666667)"
      ]
     },
     "execution_count": 25,
     "metadata": {},
     "output_type": "execute_result"
    }
   ],
   "source": [
    "s = datetime.datetime.fromtimestamp(1514641260)\n",
    "next_ = datetime.datetime.fromtimestamp(1514641320)\n",
    "e = datetime.datetime.fromtimestamp(1514665260)\n",
    "s,next_,e,len(prices),(e-s).total_seconds()/3600\n",
    "#datetime.datetime.timestamp(s)"
   ]
  },
  {
   "cell_type": "markdown",
   "metadata": {},
   "source": [
    "### Load Prices"
   ]
  },
  {
   "cell_type": "code",
   "execution_count": 41,
   "metadata": {},
   "outputs": [],
   "source": [
    "# https://github.com/bfortuner/computer-vision/blob/master/applied/libraries/PandasQuickstart.ipynb\n",
    "df = pd.read_csv(BTC_PRICE_FPATH)\n",
    "epochsec = [datetime.datetime.fromtimestamp(t) for t in df['time'].values]\n",
    "df = df.assign(time_utc = epochsec)"
   ]
  },
  {
   "cell_type": "code",
   "execution_count": 42,
   "metadata": {},
   "outputs": [
    {
     "data": {
      "text/plain": [
       "25956"
      ]
     },
     "execution_count": 42,
     "metadata": {},
     "output_type": "execute_result"
    }
   ],
   "source": [
    "len(df)"
   ]
  },
  {
   "cell_type": "code",
   "execution_count": 43,
   "metadata": {},
   "outputs": [
    {
     "data": {
      "text/plain": [
       "time        0\n",
       "low         0\n",
       "high        0\n",
       "open        0\n",
       "close       0\n",
       "volume      0\n",
       "time_utc    0\n",
       "dtype: int64"
      ]
     },
     "execution_count": 43,
     "metadata": {},
     "output_type": "execute_result"
    }
   ],
   "source": [
    "# Check for NULL\n",
    "df.isnull().sum()"
   ]
  },
  {
   "cell_type": "code",
   "execution_count": 44,
   "metadata": {},
   "outputs": [
    {
     "name": "stdout",
     "output_type": "stream",
     "text": [
      "2017-12-14T06:00:00\n"
     ]
    },
    {
     "data": {
      "text/html": [
       "<div>\n",
       "<style>\n",
       "    .dataframe thead tr:only-child th {\n",
       "        text-align: right;\n",
       "    }\n",
       "\n",
       "    .dataframe thead th {\n",
       "        text-align: left;\n",
       "    }\n",
       "\n",
       "    .dataframe tbody tr th {\n",
       "        vertical-align: top;\n",
       "    }\n",
       "</style>\n",
       "<table border=\"1\" class=\"dataframe\">\n",
       "  <thead>\n",
       "    <tr style=\"text-align: right;\">\n",
       "      <th></th>\n",
       "      <th>time</th>\n",
       "      <th>low</th>\n",
       "      <th>high</th>\n",
       "      <th>open</th>\n",
       "      <th>close</th>\n",
       "      <th>volume</th>\n",
       "      <th>time_utc</th>\n",
       "    </tr>\n",
       "  </thead>\n",
       "  <tbody>\n",
       "    <tr>\n",
       "      <th>0</th>\n",
       "      <td>1.420679e+09</td>\n",
       "      <td>270.35</td>\n",
       "      <td>360.00</td>\n",
       "      <td>360.00</td>\n",
       "      <td>283.25</td>\n",
       "      <td>0.79</td>\n",
       "      <td>2015-01-07 17:00:00</td>\n",
       "    </tr>\n",
       "    <tr>\n",
       "      <th>1</th>\n",
       "      <td>1.420682e+09</td>\n",
       "      <td>269.06</td>\n",
       "      <td>348.43</td>\n",
       "      <td>334.27</td>\n",
       "      <td>271.84</td>\n",
       "      <td>1.46</td>\n",
       "      <td>2015-01-07 18:00:00</td>\n",
       "    </tr>\n",
       "    <tr>\n",
       "      <th>2</th>\n",
       "      <td>1.420686e+09</td>\n",
       "      <td>268.26</td>\n",
       "      <td>314.74</td>\n",
       "      <td>284.11</td>\n",
       "      <td>285.88</td>\n",
       "      <td>1.40</td>\n",
       "      <td>2015-01-07 19:00:00</td>\n",
       "    </tr>\n",
       "    <tr>\n",
       "      <th>3</th>\n",
       "      <td>1.420690e+09</td>\n",
       "      <td>264.81</td>\n",
       "      <td>314.85</td>\n",
       "      <td>288.06</td>\n",
       "      <td>307.57</td>\n",
       "      <td>1.27</td>\n",
       "      <td>2015-01-07 20:00:00</td>\n",
       "    </tr>\n",
       "    <tr>\n",
       "      <th>4</th>\n",
       "      <td>1.420693e+09</td>\n",
       "      <td>265.51</td>\n",
       "      <td>314.96</td>\n",
       "      <td>314.96</td>\n",
       "      <td>275.44</td>\n",
       "      <td>1.44</td>\n",
       "      <td>2015-01-07 21:00:00</td>\n",
       "    </tr>\n",
       "  </tbody>\n",
       "</table>\n",
       "</div>"
      ],
      "text/plain": [
       "           time     low    high    open   close  volume            time_utc\n",
       "0  1.420679e+09  270.35  360.00  360.00  283.25    0.79 2015-01-07 17:00:00\n",
       "1  1.420682e+09  269.06  348.43  334.27  271.84    1.46 2015-01-07 18:00:00\n",
       "2  1.420686e+09  268.26  314.74  284.11  285.88    1.40 2015-01-07 19:00:00\n",
       "3  1.420690e+09  264.81  314.85  288.06  307.57    1.27 2015-01-07 20:00:00\n",
       "4  1.420693e+09  265.51  314.96  314.96  275.44    1.44 2015-01-07 21:00:00"
      ]
     },
     "execution_count": 44,
     "metadata": {},
     "output_type": "execute_result"
    }
   ],
   "source": [
    "last_time = df.iloc[-1]['time']\n",
    "last_record_utc = datetime.datetime.fromtimestamp(last_time)\n",
    "print(last_record_utc.isoformat())\n",
    "df.describe()\n",
    "df.head()"
   ]
  },
  {
   "cell_type": "code",
   "execution_count": 45,
   "metadata": {},
   "outputs": [],
   "source": [
    "# Query Date Range\n",
    "start = datetime.datetime(2017, 4, 15, 12, 0)\n",
    "end = datetime.datetime(2017, 4, 15, 16, 10)\n",
    "results = df[ (df['time_utc'] >= start) & (df['time_utc'] < end) ]"
   ]
  },
  {
   "cell_type": "code",
   "execution_count": 46,
   "metadata": {},
   "outputs": [
    {
     "data": {
      "text/plain": [
       "368"
      ]
     },
     "execution_count": 46,
     "metadata": {},
     "output_type": "execute_result"
    }
   ],
   "source": [
    "# Check for missing timesteps\n",
    "last_time = df.iloc[0]['time_utc']\n",
    "n_missing = 0\n",
    "for idx,row in df[1:].iterrows():\n",
    "    cur_time = row['time_utc']\n",
    "#     print(cur_time, last_time + datetime.timedelta(seconds=60))\n",
    "    if cur_time != last_time + datetime.timedelta(seconds=3600):\n",
    "        n_missing += 1 #(cur_time - last_time).seconds//60\n",
    "    last_time = cur_time\n",
    "n_missing"
   ]
  },
  {
   "cell_type": "markdown",
   "metadata": {},
   "source": [
    "### Plot"
   ]
  },
  {
   "cell_type": "code",
   "execution_count": 35,
   "metadata": {},
   "outputs": [
    {
     "data": {
      "application/vnd.jupyter.widget-view+json": {
       "model_id": "c14fdc1ed3934c0db700f765dd1d530a",
       "version_major": 2,
       "version_minor": 0
      },
      "text/html": [
       "<p>Failed to display Jupyter Widget of type <code>QgridWidget</code>.</p>\n",
       "<p>\n",
       "  If you're reading this message in the Jupyter Notebook or JupyterLab Notebook, it may mean\n",
       "  that the widgets JavaScript is still loading. If this message persists, it\n",
       "  likely means that the widgets JavaScript library is either not installed or\n",
       "  not enabled. See the <a href=\"https://ipywidgets.readthedocs.io/en/stable/user_install.html\">Jupyter\n",
       "  Widgets Documentation</a> for setup instructions.\n",
       "</p>\n",
       "<p>\n",
       "  If you're reading this message in another frontend (for example, a static\n",
       "  rendering on GitHub or <a href=\"https://nbviewer.jupyter.org/\">NBViewer</a>),\n",
       "  it may mean that your frontend doesn't currently support widgets.\n",
       "</p>\n"
      ],
      "text/plain": [
       "QgridWidget(grid_options={'fullWidthRows': True, 'syncColumnCellResize': True, 'forceFitColumns': True, 'defaultColumnWidth': 150, 'rowHeight': 28, 'enableColumnReorder': False, 'enableTextSelectionOnCells': True, 'editable': True, 'autoEdit': False, 'explicitInitialization': True, 'maxVisibleRows': 15, 'minVisibleRows': 8}, precision=5, show_toolbar=True)"
      ]
     },
     "metadata": {},
     "output_type": "display_data"
    }
   ],
   "source": [
    "# https://github.com/quantopian/qgrid\n",
    "# https://hub.mybinder.org/user/quantopian-qgrid-notebooks-bu5joi0d/notebooks/index.ipynb\n",
    "# https://ipywidgets.readthedocs.io/en/stable/examples/Widget%20Basics.html\n",
    "\n",
    "qgrid_widget = qgrid.QgridWidget(df=df, show_toolbar=True)\n",
    "qgrid_widget\n",
    "#qgrid_widget.get_changed_df()"
   ]
  },
  {
   "cell_type": "code",
   "execution_count": 36,
   "metadata": {},
   "outputs": [
    {
     "data": {
      "image/png": "[encoded data removed]",
      "text/plain": [
       "<matplotlib.figure.Figure at 0x7f412c016048>"
      ]
     },
     "metadata": {},
     "output_type": "display_data"
    }
   ],
   "source": [
    "def plot_prices(time, close):\n",
    "    fig, ax = plt.subplots()\n",
    "    ax.plot(time, close)\n",
    "\n",
    "    years = mdates.YearLocator()   # every year\n",
    "    months = mdates.MonthLocator()  # every month\n",
    "    yearsFmt = mdates.DateFormatter('%Y')\n",
    "    monthsFmt = mdates.DateFormatter('%m')\n",
    "    ax.xaxis.set_major_locator(years)\n",
    "    ax.xaxis.set_major_formatter(yearsFmt)\n",
    "    ax.xaxis.set_minor_locator(months)\n",
    "    ax.xaxis.set_minor_formatter(monthsFmt)\n",
    "\n",
    "    # datemin = datetime.date(r.date.min().year, 1, 1)\n",
    "    # datemax = datetime.date(r.date.max().year + 1, 1, 1)\n",
    "    # ax.set_xlim(datemin, datemax)\n",
    "\n",
    "    # # format the coords message box\n",
    "    # def price(x):\n",
    "    #     return '$%1.2f' % x\n",
    "    # ax.format_xdata = mdates.DateFormatter('%Y-%m-%d')\n",
    "    # ax.format_ydata = price\n",
    "    ax.grid(True)\n",
    "\n",
    "    # rotates and right aligns the x labels, and moves the bottom of the\n",
    "    # axes up to make room for them\n",
    "    fig.autofmt_xdate(rotation=30)\n",
    "    fig.set_size_inches(12,6)\n",
    "    plt.show()\n",
    "\n",
    "def plot_range(df, start, end):\n",
    "    df = df[ (df['time_utc'] >= start) & (df['time_utc'] < end) ]\n",
    "    vals = df[['time_utc','close']].values\n",
    "    plot_prices(vals[:,0], vals[:,1])\n",
    "\n",
    "vals = df[['time_utc','close']].values\n",
    "plot_prices(vals[:,0], vals[:,1])\n",
    "# start = datetime.datetime(2017, 4, 15, 12, 0)\n",
    "# end = datetime.datetime(2017, 4, 15, 16, 10)\n",
    "# results = df[ (df['time_utc'] >= start) & (df['time_utc'] < end) ]\n",
    "# results = results.drop(684239)\n",
    "# plot_range(results, start, end)"
   ]
  },
  {
   "cell_type": "markdown",
   "metadata": {},
   "source": [
    "### Exchange Metadata"
   ]
  },
  {
   "cell_type": "code",
   "execution_count": null,
   "metadata": {
    "collapsed": true
   },
   "outputs": [],
   "source": [
    "gdax_client.get_products()\n",
    "gdax_client.get_currencies()\n",
    "gdax_client.get_time()"
   ]
  },
  {
   "cell_type": "markdown",
   "metadata": {},
   "source": [
    "### Current Prices"
   ]
  },
  {
   "cell_type": "code",
   "execution_count": null,
   "metadata": {
    "collapsed": true
   },
   "outputs": [],
   "source": [
    "# Get the order book at the default level.\n",
    "gdax_client.get_product_order_book('BTC-USD')\n",
    "# Get the order book at a specific level.\n",
    "gdax_client.get_product_order_book('BTC-USD', level=1)"
   ]
  },
  {
   "cell_type": "code",
   "execution_count": null,
   "metadata": {
    "collapsed": true
   },
   "outputs": [],
   "source": [
    "# Get the product ticker for a specific product.\n",
    "gdax_client.get_product_ticker(product_id='ETH-USD')"
   ]
  },
  {
   "cell_type": "code",
   "execution_count": null,
   "metadata": {
    "collapsed": true
   },
   "outputs": [],
   "source": [
    "# Get the product trades for a specific product.\n",
    "gdax_client.get_product_trades(product_id='ETH-USD')"
   ]
  },
  {
   "cell_type": "code",
   "execution_count": null,
   "metadata": {
    "collapsed": true
   },
   "outputs": [],
   "source": [
    "gdax_client.get_product_24hr_stats('ETH-USD')"
   ]
  },
  {
   "cell_type": "markdown",
   "metadata": {},
   "source": [
    "### Streaming"
   ]
  },
  {
   "cell_type": "code",
   "execution_count": null,
   "metadata": {
    "collapsed": true
   },
   "outputs": [],
   "source": [
    "class myWebsocketClient(gdax.WebsocketClient):\n",
    "    def on_open(self):\n",
    "        self.url = cfg.GDAX_WEBSOCKET\n",
    "        self.products = [c.BTC_USD]\n",
    "        self.message_count = 0\n",
    "        print(\"Lets count the messages!\")\n",
    "    \n",
    "    def on_message(self, msg):\n",
    "        self.message_count += 1\n",
    "        if 'price' in msg and 'type' in msg:\n",
    "            print (\"Message type:\", msg[\"type\"],\n",
    "                   \"\\t@ {:.3f}\".format(float(msg[\"price\"])))\n",
    "    \n",
    "    def on_close(self):\n",
    "        print(\"-- Goodbye! --\")\n",
    "\n",
    "        \n",
    "wsClient = myWebsocketClient()\n",
    "wsClient.start()\n",
    "print(wsClient.url, wsClient.products)\n",
    "while (wsClient.message_count < 500):\n",
    "    print (\"\\nmessage_count =\", \"{} \\n\".format(wsClient.message_count))\n",
    "    time.sleep(1)\n",
    "wsClient.close()"
   ]
  },
  {
   "cell_type": "code",
   "execution_count": null,
   "metadata": {
    "collapsed": true
   },
   "outputs": [],
   "source": [
    "wsClient.close()"
   ]
  }
 ],
 "metadata": {
  "kernelspec": {
   "display_name": "Python 3",
   "language": "python",
   "name": "python3"
  },
  "language_info": {
   "codemirror_mode": {
    "name": "ipython",
    "version": 3
   },
   "file_extension": ".py",
   "mimetype": "text/x-python",
   "name": "python",
   "nbconvert_exporter": "python",
   "pygments_lexer": "ipython3",
   "version": "3.6.0"
  },
  "latex_envs": {
   "LaTeX_envs_menu_present": true,
   "autocomplete": true,
   "bibliofile": "biblio.bib",
   "cite_by": "apalike",
   "current_citInitial": 1,
   "eqLabelWithNumbers": true,
   "eqNumInitial": 1,
   "hotkeys": {
    "equation": "Ctrl-E",
    "itemize": "Ctrl-I"
   },
   "labels_anchors": false,
   "latex_user_defs": false,
   "report_style_numbering": false,
   "user_envs_cfg": false
  },
  "toc": {
   "colors": {
    "hover_highlight": "#DAA520",
    "navigate_num": "#000000",
    "navigate_text": "#333333",
    "running_highlight": "#FF0000",
    "selected_highlight": "#FFD700",
    "sidebar_border": "#EEEEEE",
    "wrapper_background": "#FFFFFF"
   },
   "moveMenuLeft": true,
   "nav_menu": {
    "height": "49px",
    "width": "254px"
   },
   "navigate_menu": true,
   "number_sections": true,
   "sideBar": true,
   "threshold": 4,
   "toc_cell": false,
   "toc_section_display": "block",
   "toc_window_display": false,
   "widenNotebook": false
  }
 },
 "nbformat": 4,
 "nbformat_minor": 2
}
