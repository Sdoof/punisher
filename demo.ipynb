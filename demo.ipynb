{
 "cells": [
  {
   "cell_type": "markdown",
   "metadata": {},
   "source": [
    "Welcome, to Punisher. After running your strategy, view the live results with Dash\n",
    "\n",
    "```\n",
    "$ python charts/dash_charts/record.py --name default\n",
    "```"
   ]
  },
  {
   "cell_type": "markdown",
   "metadata": {
    "heading_collapsed": true
   },
   "source": [
    "# Define Strategy"
   ]
  },
  {
   "cell_type": "code",
   "execution_count": null,
   "metadata": {
    "hidden": true
   },
   "outputs": [],
   "source": [
    "%matplotlib inline\n",
    "from punisher.common import *\n",
    "\n",
    "from punisher.strategies.strategy import Strategy\n",
    "\n",
    "class SimpleStrategy(Strategy):\n",
    "    def __init__(self):\n",
    "        super().__init__()\n",
    "\n",
    "    def log_all(self, orders, data, ctx, time_utc):\n",
    "        self.logger = ctx.logger\n",
    "        if self.logger is not None:\n",
    "            self.log_epoch_time(time_utc)\n",
    "            self.log_ohlcv(data)\n",
    "            self.log_orders(orders)\n",
    "            self.log_performance(ctx)\n",
    "            self.log_balance(ctx)\n",
    "            self.log_positions(ctx)\n",
    "            self.log_metrics(ctx)\n",
    "\n",
    "    def handle_data(self, data, ctx):\n",
    "        orders = []\n",
    "        asset = Asset(c.ETH, c.BTC)\n",
    "        price = data['close']\n",
    "        quantity = 1.0\n",
    "\n",
    "        if random.random() > 0.5:\n",
    "            order = order_manager.build_limit_buy_order(\n",
    "                ctx.exchange, asset, price, quantity)\n",
    "        else:\n",
    "            order = order_manager.build_limit_sell_order(\n",
    "                ctx.exchange, asset, price, quantity)\n",
    "\n",
    "        orders.append(order)\n",
    "\n",
    "        # Add Metrics and OHLCV to Record\n",
    "        self.update_metric('SMA', 5.0, ctx)\n",
    "        self.update_metric('RSI', 10.0, ctx)\n",
    "        self.update_ohlcv(data, ctx)\n",
    "\n",
    "        self.log_all(orders, data, ctx, data['time_utc'])\n",
    "        return orders"
   ]
  },
  {
   "cell_type": "markdown",
   "metadata": {
    "heading_collapsed": true
   },
   "source": [
    "# Backtest"
   ]
  },
  {
   "cell_type": "code",
   "execution_count": null,
   "metadata": {
    "collapsed": true,
    "hidden": true
   },
   "outputs": [],
   "source": [
    "config = {\n",
    "    'experiment': 'default',\n",
    "    'exchange_id': c.PAPER,\n",
    "    'cash_asset': c.BTC,\n",
    "    'starting_cash': 1.0,\n",
    "    'store': FILE_STORE,\n",
    "    'feed': {\n",
    "        'name': EXCHANGE_FEED,\n",
    "        'fpath': os.path.join(cfg.DATA_DIR, 'default_feed.csv'),\n",
    "        'symbols': ['ETH/BTC'],\n",
    "        'timeframe': Timeframe.ONE_MIN.name,\n",
    "        'start': '2018-01-10T08:00:00',\n",
    "        'end': None,\n",
    "    },\n",
    "    'balance': {\n",
    "        c.BTC: {'free': 1.0, 'used':0.0, 'total': 1.0},\n",
    "        'free': {c.BTC: 1.0},\n",
    "        'used': {c.BTC: 0.0},\n",
    "        'total': {c.BTC: 1.0},\n",
    "    }\n",
    "}\n",
    "root = os.path.join(cfg.DATA_DIR, config['experiment'])\n",
    "shutil.rmtree(root, ignore_errors=True)"
   ]
  },
  {
   "cell_type": "code",
   "execution_count": null,
   "metadata": {
    "hidden": true,
    "scrolled": false
   },
   "outputs": [],
   "source": [
    "strategy = SimpleStrategy()\n",
    "context = Context.from_config(config)\n",
    "runner.punish(context, strategy)"
   ]
  },
  {
   "cell_type": "markdown",
   "metadata": {
    "heading_collapsed": true
   },
   "source": [
    "# Simulate Orders"
   ]
  },
  {
   "cell_type": "code",
   "execution_count": null,
   "metadata": {
    "collapsed": true,
    "hidden": true
   },
   "outputs": [],
   "source": [
    "config = {}\n",
    "strategy = SimpleStrategy()\n",
    "# TBD ....."
   ]
  },
  {
   "cell_type": "markdown",
   "metadata": {
    "heading_collapsed": true
   },
   "source": [
    "# Live Trade"
   ]
  },
  {
   "cell_type": "code",
   "execution_count": null,
   "metadata": {
    "collapsed": true,
    "hidden": true
   },
   "outputs": [],
   "source": [
    "config = {}\n",
    "strategy = SimpleStrategy()\n",
    "# TBD ....."
   ]
  }
 ],
 "metadata": {
  "kernelspec": {
   "display_name": "Python 3",
   "language": "python",
   "name": "python3"
  },
  "language_info": {
   "codemirror_mode": {
    "name": "ipython",
    "version": 3
   },
   "file_extension": ".py",
   "mimetype": "text/x-python",
   "name": "python",
   "nbconvert_exporter": "python",
   "pygments_lexer": "ipython3",
   "version": "3.6.3"
  },
  "latex_envs": {
   "LaTeX_envs_menu_present": true,
   "autocomplete": true,
   "bibliofile": "biblio.bib",
   "cite_by": "apalike",
   "current_citInitial": 1,
   "eqLabelWithNumbers": true,
   "eqNumInitial": 1,
   "hotkeys": {
    "equation": "Ctrl-E",
    "itemize": "Ctrl-I"
   },
   "labels_anchors": false,
   "latex_user_defs": false,
   "report_style_numbering": false,
   "user_envs_cfg": false
  },
  "toc": {
   "colors": {
    "hover_highlight": "#DAA520",
    "navigate_num": "#000000",
    "navigate_text": "#333333",
    "running_highlight": "#FF0000",
    "selected_highlight": "#FFD700",
    "sidebar_border": "#EEEEEE",
    "wrapper_background": "#FFFFFF"
   },
   "moveMenuLeft": true,
   "nav_menu": {
    "height": "91.01562px",
    "width": "251.01562px"
   },
   "navigate_menu": true,
   "number_sections": true,
   "sideBar": true,
   "threshold": 4,
   "toc_cell": false,
   "toc_section_display": "block",
   "toc_window_display": false,
   "widenNotebook": false
  }
 },
 "nbformat": 4,
 "nbformat_minor": 2
}
