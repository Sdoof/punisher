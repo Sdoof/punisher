{
 "cells": [
  {
   "cell_type": "markdown",
   "metadata": {},
   "source": [
    "Welcome, to Punisher. After running your strategy, view the live results with Dash\n",
    "\n",
    "```\n",
    "$ python -m punisher.charts.dash_charts.dash_record --name default\n",
    "```"
   ]
  },
  {
   "cell_type": "markdown",
   "metadata": {
    "heading_collapsed": true
   },
   "source": [
    "# Define Strategy"
   ]
  },
  {
   "cell_type": "code",
   "execution_count": 4,
   "metadata": {
    "collapsed": true,
    "hidden": true
   },
   "outputs": [],
   "source": [
    "%matplotlib inline\n",
    "from punisher.common import *\n",
    "\n",
    "from punisher.strategies.strategy import Strategy\n",
    "\n",
    "class SimpleStrategy(Strategy):\n",
    "    def __init__(self):\n",
    "        super().__init__()\n",
    "\n",
    "    def log_all(self, orders, data, ctx, time_utc):\n",
    "        self.logger = ctx.logger\n",
    "        if self.logger is not None:\n",
    "            self.log_epoch_time(time_utc)\n",
    "            self.log_ohlcv(data)\n",
    "            self.log_orders(orders)\n",
    "            self.log_performance(ctx)\n",
    "            self.log_balance(ctx)\n",
    "            self.log_positions(ctx)\n",
    "            self.log_metrics(ctx)\n",
    "\n",
    "    def handle_data(self, data, ctx):\n",
    "        orders = []\n",
    "        asset = Asset(c.XRP, c.BTC)\n",
    "        price = data['close']\n",
    "        quantity = 1.0\n",
    "\n",
    "        if random.random() > 0.5:\n",
    "            order = order_manager.build_limit_buy_order(\n",
    "                ctx.exchange, asset, price, quantity)\n",
    "        else:\n",
    "            order = order_manager.build_limit_sell_order(\n",
    "                ctx.exchange, asset, price, quantity)\n",
    "\n",
    "        orders.append(order)\n",
    "\n",
    "        # Add Metrics and OHLCV to Record\n",
    "        self.update_metric('SMA', 5.0, ctx)\n",
    "        self.update_metric('RSI', 10.0, ctx)\n",
    "        self.update_ohlcv(data, ctx)\n",
    "\n",
    "        self.log_all(orders, data, ctx, data['time_utc'])\n",
    "        return orders"
   ]
  },
  {
   "cell_type": "code",
   "execution_count": 5,
   "metadata": {
    "collapsed": true
   },
   "outputs": [],
   "source": [
    "strategy = SimpleStrategy()"
   ]
  },
  {
   "cell_type": "markdown",
   "metadata": {
    "heading_collapsed": true
   },
   "source": [
    "# Backtest (Default config)"
   ]
  },
  {
   "cell_type": "code",
   "execution_count": null,
   "metadata": {
    "collapsed": true,
    "hidden": true,
    "scrolled": false
   },
   "outputs": [],
   "source": [
    "runner.backtest('jupyter-demo-backtest', strategy)"
   ]
  },
  {
   "cell_type": "markdown",
   "metadata": {
    "collapsed": true,
    "hidden": true
   },
   "source": [
    "# Backtest (Using Context)"
   ]
  },
  {
   "cell_type": "code",
   "execution_count": null,
   "metadata": {
    "collapsed": true
   },
   "outputs": [],
   "source": [
    "from punisher.trading.context import default_config, Context, TradingMode\n",
    "\n",
    "config = default_config(TradingMode.BACKTEST)\n",
    "context = Context.from_config(config)\n",
    "runner.backtest('jupyter-demo-backtest', strategy, context=context)"
   ]
  },
  {
   "cell_type": "markdown",
   "metadata": {
    "heading_collapsed": true
   },
   "source": [
    "# Simulate Orders (default config)"
   ]
  },
  {
   "cell_type": "code",
   "execution_count": null,
   "metadata": {
    "collapsed": true,
    "hidden": true,
    "scrolled": false
   },
   "outputs": [],
   "source": [
    "runner.simulation('jupyter-demo-sim', strategy)"
   ]
  },
  {
   "cell_type": "markdown",
   "metadata": {
    "heading_collapsed": true
   },
   "source": [
    "# Live Trade"
   ]
  },
  {
   "cell_type": "code",
   "execution_count": 6,
   "metadata": {
    "hidden": true,
    "scrolled": true
   },
   "outputs": [
    {
     "name": "stdout",
     "output_type": "stream",
     "text": [
      "Loading feed: /Users/cfortuner/Dropbox/punisher/binance_XRP_BTC_1m.csv\n",
      "Downloading: XRP/BTC\n"
     ]
    },
    {
     "name": "stderr",
     "output_type": "stream",
     "text": [
      "Starting Live trading ... CAREFUL!\n",
      "{'experiment': 'default-live-demo', 'cash_asset': 'BTC', 'starting_cash': 0.0, 'store': 'CSV_STORE', 'balance': {'BTC': {'free': 0.0, 'used': 0.0, 'total': 0.0}, 'free': {'BTC': 0.0}, 'used': {'BTC': 0.0}, 'total': {'BTC': 0.0}}, 'feed': {'fpath': '/Users/cfortuner/Dropbox/punisher/binance_XRP_BTC_1m.csv', 'start': '2018-01-16T05:10:35', 'symbols': ['XRP/BTC'], 'timeframe': 'ONE_MIN', 'name': 'EXCHANGE_FEED'}, 'exchange': {'exchange_id': 'binance', 'data_provider': <punisher.data.provider.PaperExchangeDataProvider object at 0x1115b6278>, 'balance': {'BTC': {'free': 0.0, 'used': 0.0, 'total': 0.0}, 'free': {'BTC': 0.0}, 'used': {'BTC': 0.0}, 'total': {'BTC': 0.0}}}}\n"
     ]
    },
    {
     "name": "stdout",
     "output_type": "stream",
     "text": [
      "Downloaded rows: 0\n",
      "Downloading: XRP/BTC\n",
      "Downloaded rows: 0\n",
      "No data after prior poll: 2018-01-16 05:09:35\n",
      "TOTAL VALUE\n",
      "0.0\n",
      "Downloading: XRP/BTC\n",
      "Downloaded rows: 0\n",
      "No data after prior poll: 2018-01-16 05:09:35\n",
      "TOTAL VALUE\n",
      "0.0\n",
      "Downloading: XRP/BTC\n",
      "Downloaded rows: 0\n",
      "No data after prior poll: 2018-01-16 05:09:35\n",
      "TOTAL VALUE\n",
      "0.0\n",
      "Downloading: XRP/BTC\n",
      "Downloaded rows: 0\n",
      "No data after prior poll: 2018-01-16 05:09:35\n",
      "TOTAL VALUE\n",
      "0.0\n",
      "Downloading: XRP/BTC\n",
      "Downloaded rows: 0\n",
      "No data after prior poll: 2018-01-16 05:09:35\n",
      "TOTAL VALUE\n",
      "0.0\n",
      "Downloading: XRP/BTC\n",
      "Downloaded rows: 0\n",
      "No data after prior poll: 2018-01-16 05:09:35\n",
      "TOTAL VALUE\n",
      "0.0\n",
      "Downloading: XRP/BTC\n",
      "Downloaded rows: 0\n",
      "No data after prior poll: 2018-01-16 05:09:35\n",
      "TOTAL VALUE\n",
      "0.0\n",
      "Downloading: XRP/BTC\n",
      "Downloaded rows: 0\n",
      "No data after prior poll: 2018-01-16 05:09:35\n",
      "TOTAL VALUE\n",
      "0.0\n",
      "Downloading: XRP/BTC\n",
      "Downloaded rows: 0\n",
      "No data after prior poll: 2018-01-16 05:09:35\n",
      "TOTAL VALUE\n",
      "0.0\n",
      "Downloading: XRP/BTC\n",
      "Downloaded rows: 0\n",
      "No data after prior poll: 2018-01-16 05:09:35\n",
      "TOTAL VALUE\n",
      "0.0\n",
      "Downloading: XRP/BTC\n",
      "Downloaded rows: 1\n"
     ]
    },
    {
     "name": "stderr",
     "output_type": "stream",
     "text": [
      "---------------------------------------\n",
      "Epoch 1 - Timestep: 2018-01-16T05:11:00\n",
      "---------------------------------------\n",
      "OHLCV\n",
      "    O: 0.0001 | C: 0.0001 | V: 222.0 | T: 2018-01-16T05:11:00\n",
      "ORDERS\n",
      "    1: XRP/BTC | LIMIT_SELL | Price: 0.0001 | Quantity: 1.0000\n",
      "PERFORMANCE\n",
      "    Cash: 0.0000 Total Val: 0.0000 PnL: 0.0000 Returns: 0.0000\n",
      "BALANCE\n",
      "    BTC - {'free': 0.03307101, 'used': 0.0, 'total': 0.03307101}\n",
      "    LTC - {'free': 0.0, 'used': 0.0, 'total': 0.0}\n",
      "    ETH - {'free': 0.0, 'used': 0.0, 'total': 0.0}\n",
      "    BNC - {'free': 0.0, 'used': 0.0, 'total': 0.0}\n",
      "    ICO - {'free': 0.0, 'used': 0.0, 'total': 0.0}\n",
      "    NEO - {'free': 0.0, 'used': 0.0, 'total': 0.0}\n",
      "    BNB - {'free': 0.0, 'used': 0.0, 'total': 0.0}\n",
      "    123 - {'free': 0.0, 'used': 0.0, 'total': 0.0}\n",
      "    456 - {'free': 0.0, 'used': 0.0, 'total': 0.0}\n",
      "    QTUM - {'free': 0.0, 'used': 0.0, 'total': 0.0}\n",
      "    EOS - {'free': 0.0, 'used': 0.0, 'total': 0.0}\n",
      "    SNT - {'free': 0.0, 'used': 0.0, 'total': 0.0}\n",
      "    BNT - {'free': 0.0, 'used': 0.0, 'total': 0.0}\n",
      "    GAS - {'free': 0.0, 'used': 0.0, 'total': 0.0}\n",
      "    BCH - {'free': 0.0, 'used': 0.0, 'total': 0.0}\n",
      "    BTM - {'free': 0.0, 'used': 0.0, 'total': 0.0}\n",
      "    USDT - {'free': 0.0, 'used': 0.0, 'total': 0.0}\n",
      "    HCC - {'free': 0.0, 'used': 0.0, 'total': 0.0}\n",
      "    HSR - {'free': 0.0, 'used': 0.0, 'total': 0.0}\n",
      "    OAX - {'free': 0.0, 'used': 0.0, 'total': 0.0}\n",
      "    DNT - {'free': 0.0, 'used': 0.0, 'total': 0.0}\n",
      "    MCO - {'free': 0.0, 'used': 0.0, 'total': 0.0}\n",
      "    ICN - {'free': 0.0, 'used': 0.0, 'total': 0.0}\n",
      "    ELC - {'free': 0.0, 'used': 0.0, 'total': 0.0}\n",
      "    PAY - {'free': 0.0, 'used': 0.0, 'total': 0.0}\n",
      "    ZRX - {'free': 0.0, 'used': 0.0, 'total': 0.0}\n",
      "    OMG - {'free': 0.0, 'used': 0.0, 'total': 0.0}\n",
      "    WTC - {'free': 0.0, 'used': 0.0, 'total': 0.0}\n",
      "    LRX - {'free': 0.0, 'used': 0.0, 'total': 0.0}\n",
      "    YOYO - {'free': 0.0, 'used': 0.0, 'total': 0.0}\n",
      "    LRC - {'free': 0.0, 'used': 0.0, 'total': 0.0}\n",
      "    LLT - {'free': 0.0, 'used': 0.0, 'total': 0.0}\n",
      "    TRX - {'free': 0.0, 'used': 0.0, 'total': 0.0}\n",
      "    FID - {'free': 0.0, 'used': 0.0, 'total': 0.0}\n",
      "    SNGLS - {'free': 0.0, 'used': 0.0, 'total': 0.0}\n",
      "    STRAT - {'free': 0.0, 'used': 0.0, 'total': 0.0}\n",
      "    BQX - {'free': 0.0, 'used': 0.0, 'total': 0.0}\n",
      "    FUN - {'free': 0.0, 'used': 0.0, 'total': 0.0}\n",
      "    KNC - {'free': 0.0, 'used': 0.0, 'total': 0.0}\n",
      "    CDT - {'free': 0.0, 'used': 0.0, 'total': 0.0}\n",
      "    XVG - {'free': 0.0, 'used': 0.0, 'total': 0.0}\n",
      "    IOTA - {'free': 0.0, 'used': 0.0, 'total': 0.0}\n",
      "    SNM - {'free': 0.0, 'used': 0.0, 'total': 0.0}\n",
      "    LINK - {'free': 0.0, 'used': 0.0, 'total': 0.0}\n",
      "    CVC - {'free': 0.0, 'used': 0.0, 'total': 0.0}\n",
      "    TNT - {'free': 0.0, 'used': 0.0, 'total': 0.0}\n",
      "    REP - {'free': 0.0, 'used': 0.0, 'total': 0.0}\n",
      "    CTR - {'free': 0.0, 'used': 0.0, 'total': 0.0}\n",
      "    MDA - {'free': 0.0, 'used': 0.0, 'total': 0.0}\n",
      "    MTL - {'free': 0.0, 'used': 0.0, 'total': 0.0}\n",
      "    SALT - {'free': 0.0, 'used': 0.0, 'total': 0.0}\n",
      "    NULS - {'free': 0.0, 'used': 0.0, 'total': 0.0}\n",
      "    SUB - {'free': 0.0, 'used': 0.0, 'total': 0.0}\n",
      "    STX - {'free': 0.0, 'used': 0.0, 'total': 0.0}\n",
      "    MTH - {'free': 0.0, 'used': 0.0, 'total': 0.0}\n",
      "    CAT - {'free': 0.0, 'used': 0.0, 'total': 0.0}\n",
      "    ADX - {'free': 0.0, 'used': 0.0, 'total': 0.0}\n",
      "    PIX - {'free': 0.0, 'used': 0.0, 'total': 0.0}\n",
      "    ETC - {'free': 0.0, 'used': 0.0, 'total': 0.0}\n",
      "    ENG - {'free': 0.0, 'used': 0.0, 'total': 0.0}\n",
      "    ZEC - {'free': 0.0, 'used': 0.0, 'total': 0.0}\n",
      "    AST - {'free': 0.0, 'used': 0.0, 'total': 0.0}\n",
      "    1ST - {'free': 0.0, 'used': 0.0, 'total': 0.0}\n",
      "    GNT - {'free': 0.0, 'used': 0.0, 'total': 0.0}\n",
      "    DGD - {'free': 0.0, 'used': 0.0, 'total': 0.0}\n",
      "    BAT - {'free': 0.0, 'used': 0.0, 'total': 0.0}\n",
      "    DASH - {'free': 0.0, 'used': 0.0, 'total': 0.0}\n",
      "    POWR - {'free': 0.0, 'used': 0.0, 'total': 0.0}\n",
      "    BTG - {'free': 0.0, 'used': 0.0, 'total': 0.0}\n",
      "    REQ - {'free': 0.0, 'used': 0.0, 'total': 0.0}\n",
      "    XMR - {'free': 0.0, 'used': 0.0, 'total': 0.0}\n",
      "    EVX - {'free': 0.0, 'used': 0.0, 'total': 0.0}\n",
      "    VIB - {'free': 0.0, 'used': 0.0, 'total': 0.0}\n",
      "    ENJ - {'free': 0.0, 'used': 0.0, 'total': 0.0}\n",
      "    VEN - {'free': 0.0, 'used': 0.0, 'total': 0.0}\n",
      "    CAG - {'free': 0.0, 'used': 0.0, 'total': 0.0}\n",
      "    EDG - {'free': 0.0, 'used': 0.0, 'total': 0.0}\n",
      "    ARK - {'free': 0.0, 'used': 0.0, 'total': 0.0}\n",
      "    XRP - {'free': 4.995, 'used': 0.0, 'total': 4.995}\n",
      "    MOD - {'free': 0.0, 'used': 0.0, 'total': 0.0}\n",
      "    AVT - {'free': 0.0, 'used': 0.0, 'total': 0.0}\n",
      "    STORJ - {'free': 0.0, 'used': 0.0, 'total': 0.0}\n",
      "    KMD - {'free': 0.0, 'used': 0.0, 'total': 0.0}\n",
      "    RCN - {'free': 0.0, 'used': 0.0, 'total': 0.0}\n",
      "    EDO - {'free': 0.0, 'used': 0.0, 'total': 0.0}\n",
      "    QASH - {'free': 0.0, 'used': 0.0, 'total': 0.0}\n",
      "    SAN - {'free': 0.0, 'used': 0.0, 'total': 0.0}\n",
      "    DATA - {'free': 0.0, 'used': 0.0, 'total': 0.0}\n",
      "    DLT - {'free': 0.0, 'used': 0.0, 'total': 0.0}\n",
      "    GUP - {'free': 0.0, 'used': 0.0, 'total': 0.0}\n",
      "    MCAP - {'free': 0.0, 'used': 0.0, 'total': 0.0}\n",
      "    MANA - {'free': 0.0, 'used': 0.0, 'total': 0.0}\n",
      "    PPT - {'free': 0.0, 'used': 0.0, 'total': 0.0}\n",
      "    OTN - {'free': 0.0, 'used': 0.0, 'total': 0.0}\n",
      "    CFD - {'free': 0.0, 'used': 0.0, 'total': 0.0}\n",
      "    RDN - {'free': 0.0, 'used': 0.0, 'total': 0.0}\n",
      "    GXS - {'free': 0.0, 'used': 0.0, 'total': 0.0}\n",
      "    AMB - {'free': 0.0, 'used': 0.0, 'total': 0.0}\n",
      "    ARN - {'free': 0.0, 'used': 0.0, 'total': 0.0}\n",
      "    BCPT - {'free': 0.0, 'used': 0.0, 'total': 0.0}\n",
      "    CND - {'free': 0.0, 'used': 0.0, 'total': 0.0}\n",
      "    GVT - {'free': 0.0, 'used': 0.0, 'total': 0.0}\n",
      "    POE - {'free': 0.0, 'used': 0.0, 'total': 0.0}\n",
      "    ALIS - {'free': 0.0, 'used': 0.0, 'total': 0.0}\n",
      "    BTS - {'free': 0.996, 'used': 0.0, 'total': 0.996}\n",
      "    FUEL - {'free': 0.0, 'used': 0.0, 'total': 0.0}\n",
      "    XZC - {'free': 0.0, 'used': 0.0, 'total': 0.0}\n",
      "    QSP - {'free': 0.0, 'used': 0.0, 'total': 0.0}\n",
      "    LSK - {'free': 0.0, 'used': 0.0, 'total': 0.0}\n",
      "    BCD - {'free': 0.0, 'used': 0.0, 'total': 0.0}\n",
      "    TNB - {'free': 0.0, 'used': 0.0, 'total': 0.0}\n",
      "    GRX - {'free': 0.0, 'used': 0.0, 'total': 0.0}\n",
      "    STAR - {'free': 0.0, 'used': 0.0, 'total': 0.0}\n",
      "    ADA - {'free': 0.0, 'used': 0.0, 'total': 0.0}\n",
      "    LEND - {'free': 0.0, 'used': 0.0, 'total': 0.0}\n",
      "    IFT - {'free': 0.0, 'used': 0.0, 'total': 0.0}\n",
      "    KICK - {'free': 0.0, 'used': 0.0, 'total': 0.0}\n",
      "    UKG - {'free': 0.0, 'used': 0.0, 'total': 0.0}\n",
      "    VOISE - {'free': 0.0, 'used': 0.0, 'total': 0.0}\n",
      "    XLM - {'free': 0.0, 'used': 0.0, 'total': 0.0}\n",
      "    CMT - {'free': 0.0, 'used': 0.0, 'total': 0.0}\n",
      "    WAVES - {'free': 0.0, 'used': 0.0, 'total': 0.0}\n",
      "    WABI - {'free': 0.0, 'used': 0.0, 'total': 0.0}\n",
      "    SBTC - {'free': 0.0, 'used': 0.0, 'total': 0.0}\n",
      "    BCX - {'free': 0.0, 'used': 0.0, 'total': 0.0}\n",
      "    GTO - {'free': 0.0, 'used': 0.0, 'total': 0.0}\n",
      "    ETF - {'free': 0.0, 'used': 0.0, 'total': 0.0}\n",
      "    ICX - {'free': 0.0, 'used': 0.0, 'total': 0.0}\n",
      "    OST - {'free': 0.0, 'used': 0.0, 'total': 0.0}\n",
      "    ELF - {'free': 0.0, 'used': 0.0, 'total': 0.0}\n",
      "    AION - {'free': 0.0, 'used': 0.0, 'total': 0.0}\n",
      "    WINGS - {'free': 0.0, 'used': 0.0, 'total': 0.0}\n",
      "    BRD - {'free': 0.0, 'used': 0.0, 'total': 0.0}\n",
      "    NEBL - {'free': 0.0, 'used': 0.0, 'total': 0.0}\n",
      "    NAV - {'free': 0.0, 'used': 0.0, 'total': 0.0}\n",
      "    VIBE - {'free': 0.0, 'used': 0.0, 'total': 0.0}\n",
      "    LUN - {'free': 0.0, 'used': 0.0, 'total': 0.0}\n",
      "    TRIG - {'free': 0.0, 'used': 0.0, 'total': 0.0}\n",
      "    APPC - {'free': 0.0, 'used': 0.0, 'total': 0.0}\n",
      "    CHAT - {'free': 0.0, 'used': 0.0, 'total': 0.0}\n",
      "POSITIONS\n",
      "METRICS\n",
      "    SMA: 5.00\n",
      "    RSI: 10.00\n"
     ]
    },
    {
     "ename": "TypeError",
     "evalue": "'NoneType' object is not iterable",
     "output_type": "error",
     "traceback": [
      "\u001b[0;31m---------------------------------------------------------------------------\u001b[0m",
      "\u001b[0;31mTypeError\u001b[0m                                 Traceback (most recent call last)",
      "\u001b[0;32m<ipython-input-6-7554ac8b273f>\u001b[0m in \u001b[0;36m<module>\u001b[0;34m()\u001b[0m\n\u001b[1;32m     26\u001b[0m \u001b[0;34m\u001b[0m\u001b[0m\n\u001b[1;32m     27\u001b[0m  \u001b[0;31m# must define your own config to live trade - so you know how it works :)\u001b[0m\u001b[0;34m\u001b[0m\u001b[0;34m\u001b[0m\u001b[0m\n\u001b[0;32m---> 28\u001b[0;31m \u001b[0mrunner\u001b[0m\u001b[0;34m.\u001b[0m\u001b[0mlive\u001b[0m\u001b[0;34m(\u001b[0m\u001b[0;34m'jupyter-demo-live'\u001b[0m\u001b[0;34m,\u001b[0m \u001b[0mstrategy\u001b[0m\u001b[0;34m,\u001b[0m \u001b[0mconfig\u001b[0m\u001b[0;34m)\u001b[0m\u001b[0;34m\u001b[0m\u001b[0m\n\u001b[0m",
      "\u001b[0;32m~/code/public/punisher/punisher/trading/runner.py\u001b[0m in \u001b[0;36mlive\u001b[0;34m(run_name, strategy, config, context)\u001b[0m\n\u001b[1;32m    170\u001b[0m         \u001b[0;31m# Paricularly order types like CLOSED --> FILLED,\u001b[0m\u001b[0;34m\u001b[0m\u001b[0;34m\u001b[0m\u001b[0m\n\u001b[1;32m    171\u001b[0m         \u001b[0;31m# And OPEN vs PENDING <-- check the 'quantity' vs 'filled' amounts\u001b[0m\u001b[0;34m\u001b[0m\u001b[0;34m\u001b[0m\u001b[0m\n\u001b[0;32m--> 172\u001b[0;31m         \u001b[0morders\u001b[0m \u001b[0;34m=\u001b[0m \u001b[0morder_manager\u001b[0m\u001b[0;34m.\u001b[0m\u001b[0mplace_orders\u001b[0m\u001b[0;34m(\u001b[0m\u001b[0mexchange\u001b[0m\u001b[0;34m,\u001b[0m \u001b[0morders\u001b[0m\u001b[0;34m)\u001b[0m\u001b[0;34m\u001b[0m\u001b[0m\n\u001b[0m\u001b[1;32m    173\u001b[0m \u001b[0;34m\u001b[0m\u001b[0m\n\u001b[1;32m    174\u001b[0m         \u001b[0;31m# Record needs to know about ALL new orders (open/filled)\u001b[0m\u001b[0;34m\u001b[0m\u001b[0;34m\u001b[0m\u001b[0m\n",
      "\u001b[0;32m~/code/public/punisher/punisher/trading/order_manager.py\u001b[0m in \u001b[0;36mplace_orders\u001b[0;34m(exchange, orders)\u001b[0m\n\u001b[1;32m    102\u001b[0m             \u001b[0morder_type\u001b[0m\u001b[0;34m=\u001b[0m\u001b[0morder\u001b[0m\u001b[0;34m.\u001b[0m\u001b[0morder_type\u001b[0m\u001b[0;34m\u001b[0m\u001b[0m\n\u001b[1;32m    103\u001b[0m             ):\n\u001b[0;32m--> 104\u001b[0;31m             \u001b[0mres\u001b[0m \u001b[0;34m=\u001b[0m \u001b[0mplace_order\u001b[0m\u001b[0;34m(\u001b[0m\u001b[0mexchange\u001b[0m\u001b[0;34m,\u001b[0m \u001b[0morder\u001b[0m\u001b[0;34m)\u001b[0m\u001b[0;34m\u001b[0m\u001b[0m\n\u001b[0m\u001b[1;32m    105\u001b[0m         \u001b[0;32melse\u001b[0m\u001b[0;34m:\u001b[0m\u001b[0;34m\u001b[0m\u001b[0m\n\u001b[1;32m    106\u001b[0m             print(\"Insufficient funds to place order {}, \\\n",
      "\u001b[0;32m~/code/public/punisher/punisher/trading/order_manager.py\u001b[0m in \u001b[0;36mplace_order\u001b[0;34m(exchange, order)\u001b[0m\n\u001b[1;32m     78\u001b[0m     \u001b[0;32melif\u001b[0m \u001b[0morder\u001b[0m\u001b[0;34m.\u001b[0m\u001b[0morder_type\u001b[0m \u001b[0;34m==\u001b[0m \u001b[0mOrderType\u001b[0m\u001b[0;34m.\u001b[0m\u001b[0mLIMIT_SELL\u001b[0m\u001b[0;34m:\u001b[0m\u001b[0;34m\u001b[0m\u001b[0m\n\u001b[1;32m     79\u001b[0m         res = exchange.create_limit_sell_order(\n\u001b[0;32m---> 80\u001b[0;31m             order.asset, order.quantity, order.price)\n\u001b[0m\u001b[1;32m     81\u001b[0m     \u001b[0;32melif\u001b[0m \u001b[0morder\u001b[0m\u001b[0;34m.\u001b[0m\u001b[0morder_type\u001b[0m \u001b[0;34m==\u001b[0m \u001b[0mOrderType\u001b[0m\u001b[0;34m.\u001b[0m\u001b[0mMARKET_BUY\u001b[0m\u001b[0;34m:\u001b[0m\u001b[0;34m\u001b[0m\u001b[0m\n\u001b[1;32m     82\u001b[0m         res = exchange.create_market_buy_order(\n",
      "\u001b[0;32m~/code/public/punisher/punisher/exchanges/exchange.py\u001b[0m in \u001b[0;36mcreate_limit_sell_order\u001b[0;34m(self, asset, quantity, price, params)\u001b[0m\n\u001b[1;32m    138\u001b[0m     \u001b[0;32mdef\u001b[0m \u001b[0mcreate_limit_sell_order\u001b[0m\u001b[0;34m(\u001b[0m\u001b[0mself\u001b[0m\u001b[0;34m,\u001b[0m \u001b[0masset\u001b[0m\u001b[0;34m,\u001b[0m \u001b[0mquantity\u001b[0m\u001b[0;34m,\u001b[0m \u001b[0mprice\u001b[0m\u001b[0;34m,\u001b[0m \u001b[0mparams\u001b[0m\u001b[0;34m=\u001b[0m\u001b[0;32mNone\u001b[0m\u001b[0;34m)\u001b[0m\u001b[0;34m:\u001b[0m\u001b[0;34m\u001b[0m\u001b[0m\n\u001b[1;32m    139\u001b[0m         return self.client.create_limit_sell_order(\n\u001b[0;32m--> 140\u001b[0;31m             asset.symbol, quantity, price, params)\n\u001b[0m\u001b[1;32m    141\u001b[0m \u001b[0;34m\u001b[0m\u001b[0m\n\u001b[1;32m    142\u001b[0m     \u001b[0;32mdef\u001b[0m \u001b[0mcreate_market_buy_order\u001b[0m\u001b[0;34m(\u001b[0m\u001b[0mself\u001b[0m\u001b[0;34m,\u001b[0m \u001b[0masset\u001b[0m\u001b[0;34m,\u001b[0m \u001b[0mquantity\u001b[0m\u001b[0;34m,\u001b[0m \u001b[0mparams\u001b[0m\u001b[0;34m=\u001b[0m\u001b[0;32mNone\u001b[0m\u001b[0;34m)\u001b[0m\u001b[0;34m:\u001b[0m\u001b[0;34m\u001b[0m\u001b[0m\n",
      "\u001b[0;32m~/anaconda3/envs/py36/lib/python3.6/site-packages/ccxt/base/exchange.py\u001b[0m in \u001b[0;36mcreate_limit_sell_order\u001b[0;34m(self, symbol, *args)\u001b[0m\n\u001b[1;32m   1002\u001b[0m \u001b[0;34m\u001b[0m\u001b[0m\n\u001b[1;32m   1003\u001b[0m     \u001b[0;32mdef\u001b[0m \u001b[0mcreate_limit_sell_order\u001b[0m\u001b[0;34m(\u001b[0m\u001b[0mself\u001b[0m\u001b[0;34m,\u001b[0m \u001b[0msymbol\u001b[0m\u001b[0;34m,\u001b[0m \u001b[0;34m*\u001b[0m\u001b[0margs\u001b[0m\u001b[0;34m)\u001b[0m\u001b[0;34m:\u001b[0m\u001b[0;34m\u001b[0m\u001b[0m\n\u001b[0;32m-> 1004\u001b[0;31m         \u001b[0;32mreturn\u001b[0m \u001b[0mself\u001b[0m\u001b[0;34m.\u001b[0m\u001b[0mcreate_order\u001b[0m\u001b[0;34m(\u001b[0m\u001b[0msymbol\u001b[0m\u001b[0;34m,\u001b[0m \u001b[0;34m'limit'\u001b[0m\u001b[0;34m,\u001b[0m \u001b[0;34m'sell'\u001b[0m\u001b[0;34m,\u001b[0m \u001b[0;34m*\u001b[0m\u001b[0margs\u001b[0m\u001b[0;34m)\u001b[0m\u001b[0;34m\u001b[0m\u001b[0m\n\u001b[0m\u001b[1;32m   1005\u001b[0m \u001b[0;34m\u001b[0m\u001b[0m\n\u001b[1;32m   1006\u001b[0m     \u001b[0;32mdef\u001b[0m \u001b[0mcreate_market_buy_order\u001b[0m\u001b[0;34m(\u001b[0m\u001b[0mself\u001b[0m\u001b[0;34m,\u001b[0m \u001b[0msymbol\u001b[0m\u001b[0;34m,\u001b[0m \u001b[0mamount\u001b[0m\u001b[0;34m,\u001b[0m \u001b[0mparams\u001b[0m\u001b[0;34m=\u001b[0m\u001b[0;34m{\u001b[0m\u001b[0;34m}\u001b[0m\u001b[0;34m)\u001b[0m\u001b[0;34m:\u001b[0m\u001b[0;34m\u001b[0m\u001b[0m\n",
      "\u001b[0;32m~/anaconda3/envs/py36/lib/python3.6/site-packages/ccxt/binance.py\u001b[0m in \u001b[0;36mcreate_order\u001b[0;34m(self, symbol, type, side, amount, price, params)\u001b[0m\n\u001b[1;32m    543\u001b[0m                 \u001b[0;34m'timeInForce'\u001b[0m\u001b[0;34m:\u001b[0m \u001b[0;34m'GTC'\u001b[0m\u001b[0;34m,\u001b[0m  \u001b[0;31m# 'GTC' = Good To Cancel(default), 'IOC' = Immediate Or Cancel\u001b[0m\u001b[0;34m\u001b[0m\u001b[0m\n\u001b[1;32m    544\u001b[0m             })\n\u001b[0;32m--> 545\u001b[0;31m         \u001b[0mresponse\u001b[0m \u001b[0;34m=\u001b[0m \u001b[0mself\u001b[0m\u001b[0;34m.\u001b[0m\u001b[0mprivatePostOrder\u001b[0m\u001b[0;34m(\u001b[0m\u001b[0mself\u001b[0m\u001b[0;34m.\u001b[0m\u001b[0mextend\u001b[0m\u001b[0;34m(\u001b[0m\u001b[0morder\u001b[0m\u001b[0;34m,\u001b[0m \u001b[0mparams\u001b[0m\u001b[0;34m)\u001b[0m\u001b[0;34m)\u001b[0m\u001b[0;34m\u001b[0m\u001b[0m\n\u001b[0m\u001b[1;32m    546\u001b[0m         return {\n\u001b[1;32m    547\u001b[0m             \u001b[0;34m'info'\u001b[0m\u001b[0;34m:\u001b[0m \u001b[0mresponse\u001b[0m\u001b[0;34m,\u001b[0m\u001b[0;34m\u001b[0m\u001b[0m\n",
      "\u001b[0;32m~/anaconda3/envs/py36/lib/python3.6/site-packages/ccxt/base/exchange.py\u001b[0m in \u001b[0;36mextend\u001b[0;34m(*args)\u001b[0m\n\u001b[1;32m    463\u001b[0m                 \u001b[0mresult\u001b[0m \u001b[0;34m=\u001b[0m \u001b[0;34m{\u001b[0m\u001b[0;34m}\u001b[0m\u001b[0;34m\u001b[0m\u001b[0m\n\u001b[1;32m    464\u001b[0m             \u001b[0;32mfor\u001b[0m \u001b[0marg\u001b[0m \u001b[0;32min\u001b[0m \u001b[0margs\u001b[0m\u001b[0;34m:\u001b[0m\u001b[0;34m\u001b[0m\u001b[0m\n\u001b[0;32m--> 465\u001b[0;31m                 \u001b[0mresult\u001b[0m\u001b[0;34m.\u001b[0m\u001b[0mupdate\u001b[0m\u001b[0;34m(\u001b[0m\u001b[0marg\u001b[0m\u001b[0;34m)\u001b[0m\u001b[0;34m\u001b[0m\u001b[0m\n\u001b[0m\u001b[1;32m    466\u001b[0m             \u001b[0;32mreturn\u001b[0m \u001b[0mresult\u001b[0m\u001b[0;34m\u001b[0m\u001b[0m\n\u001b[1;32m    467\u001b[0m         \u001b[0;32mreturn\u001b[0m \u001b[0;34m{\u001b[0m\u001b[0;34m}\u001b[0m\u001b[0;34m\u001b[0m\u001b[0m\n",
      "\u001b[0;31mTypeError\u001b[0m: 'NoneType' object is not iterable"
     ]
    }
   ],
   "source": [
    "from datetime import datetime, timedelta\n",
    "base = c.XRP\n",
    "quote = c.BTC\n",
    "asset = Asset(base, quote)\n",
    "period = Timeframe.ONE_MIN\n",
    "exchange_id = c.BINANCE\n",
    "\n",
    "config = {\n",
    "        'experiment': 'default-live-demo',\n",
    "        'cash_asset': c.BTC,\n",
    "        'starting_cash': 0.0,\n",
    "        'store': FILE_STORE,\n",
    "        'balance': Balance(starting_cash=0.0).to_dict(),\n",
    "        'feed': {\n",
    "            'fpath': ohlcv.get_price_data_fpath(asset, exchange_id, period.value['id']),\n",
    "            'start': datetime.utcnow().strftime(\"%Y-%m-%dT%H:%M:%S\"),\n",
    "            'symbols': ['XRP/BTC'],\n",
    "            'timeframe': Timeframe.ONE_MIN.name,\n",
    "        },\n",
    "        'exchange': {\n",
    "            \"exchange_id\": exchange_id\n",
    "        }\n",
    "    }\n",
    "\n",
    "config['feed']['name'] = EXCHANGE_FEED\n",
    "\n",
    " # must define your own config to live trade - so you know how it works :)\n",
    "runner.live('jupyter-demo-live', strategy, config)"
   ]
  },
  {
   "cell_type": "code",
   "execution_count": null,
   "metadata": {
    "collapsed": true
   },
   "outputs": [],
   "source": []
  },
  {
   "cell_type": "code",
   "execution_count": null,
   "metadata": {
    "collapsed": true
   },
   "outputs": [],
   "source": []
  }
 ],
 "metadata": {
  "kernelspec": {
   "display_name": "Python [conda env:py36]",
   "language": "python",
   "name": "conda-env-py36-py"
  },
  "language_info": {
   "codemirror_mode": {
    "name": "ipython",
    "version": 3
   },
   "file_extension": ".py",
   "mimetype": "text/x-python",
   "name": "python",
   "nbconvert_exporter": "python",
   "pygments_lexer": "ipython3",
   "version": "3.6.4"
  },
  "latex_envs": {
   "LaTeX_envs_menu_present": true,
   "autocomplete": true,
   "bibliofile": "biblio.bib",
   "cite_by": "apalike",
   "current_citInitial": 1,
   "eqLabelWithNumbers": true,
   "eqNumInitial": 1,
   "hotkeys": {
    "equation": "Ctrl-E",
    "itemize": "Ctrl-I"
   },
   "labels_anchors": false,
   "latex_user_defs": false,
   "report_style_numbering": false,
   "user_envs_cfg": false
  },
  "toc": {
   "colors": {
    "hover_highlight": "#DAA520",
    "navigate_num": "#000000",
    "navigate_text": "#333333",
    "running_highlight": "#FF0000",
    "selected_highlight": "#FFD700",
    "sidebar_border": "#EEEEEE",
    "wrapper_background": "#FFFFFF"
   },
   "moveMenuLeft": true,
   "nav_menu": {
    "height": "91.01562px",
    "width": "251.01562px"
   },
   "navigate_menu": true,
   "number_sections": true,
   "sideBar": true,
   "threshold": 4,
   "toc_cell": false,
   "toc_section_display": "block",
   "toc_window_display": false,
   "widenNotebook": false
  }
 },
 "nbformat": 4,
 "nbformat_minor": 2
}
