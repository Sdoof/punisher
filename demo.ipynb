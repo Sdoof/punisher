{
 "cells": [
  {
   "cell_type": "markdown",
   "metadata": {},
   "source": [
    "Welcome, to Punisher. After running your strategy, view the live results with Dash\n",
    "\n",
    "```\n",
    "$ python charts/dash_charts/record.py --name default\n",
    "```"
   ]
  },
  {
   "cell_type": "markdown",
   "metadata": {
    "heading_collapsed": true
   },
   "source": [
    "# Define Strategy"
   ]
  },
  {
   "cell_type": "code",
   "execution_count": null,
   "metadata": {
    "hidden": true
   },
   "outputs": [],
   "source": [
    "%matplotlib inline\n",
    "from punisher.common import *\n",
    "\n",
    "from punisher.strategies.strategy import Strategy\n",
    "\n",
    "class SimpleStrategy(Strategy):\n",
    "    def __init__(self):\n",
    "        super().__init__()\n",
    "\n",
    "    def log_all(self, orders, data, ctx, time_utc):\n",
    "        self.logger = ctx.logger\n",
    "        if self.logger is not None:\n",
    "            self.log_epoch_time(time_utc)\n",
    "            self.log_ohlcv(data)\n",
    "            self.log_orders(orders)\n",
    "            self.log_performance(ctx)\n",
    "            self.log_balance(ctx)\n",
    "            self.log_positions(ctx)\n",
    "            self.log_metrics(ctx)\n",
    "\n",
    "    def handle_data(self, data, ctx):\n",
    "        orders = []\n",
    "        asset = Asset(c.ETH, c.BTC)\n",
    "        price = data['close']\n",
    "        quantity = 1.0\n",
    "\n",
    "        if random.random() > 0.5:\n",
    "            order = order_manager.build_limit_buy_order(\n",
    "                ctx.exchange, asset, price, quantity)\n",
    "        else:\n",
    "            order = order_manager.build_limit_sell_order(\n",
    "                ctx.exchange, asset, price, quantity)\n",
    "\n",
    "        orders.append(order)\n",
    "\n",
    "        # Add Metrics and OHLCV to Record\n",
    "        self.update_metric('SMA', 5.0, ctx)\n",
    "        self.update_metric('RSI', 10.0, ctx)\n",
    "        self.update_ohlcv(data, ctx)\n",
    "\n",
    "        self.log_all(orders, data, ctx, data['time_utc'])\n",
    "        return orders"
   ]
  },
  {
   "cell_type": "code",
   "execution_count": null,
   "metadata": {},
   "outputs": [],
   "source": [
    "strategy = SimpleStrategy()"
   ]
  },
  {
   "cell_type": "markdown",
   "metadata": {
    "heading_collapsed": true
   },
   "source": [
    "# Backtest (Default config)"
   ]
  },
  {
   "cell_type": "code",
   "execution_count": null,
   "metadata": {
    "hidden": true,
    "scrolled": false
   },
   "outputs": [],
   "source": [
    "runner.backtest('jupyter-demo-backtest', strategy)"
   ]
  },
  {
   "cell_type": "markdown",
   "metadata": {
    "collapsed": true,
    "hidden": true
   },
   "source": [
    "# Backtest (Using Context)"
   ]
  },
  {
   "cell_type": "code",
   "execution_count": null,
   "metadata": {},
   "outputs": [],
   "source": [
    "from punisher.trading.context import default_config, Context, TradingMode\n",
    "\n",
    "config = default_config(TradingMode.BACKTEST)\n",
    "context = Context.from_config(config)\n",
    "runner.backtest('jupyter-demo-backtest', strategy, context=context)"
   ]
  },
  {
   "cell_type": "markdown",
   "metadata": {
    "heading_collapsed": true
   },
   "source": [
    "# Simulate Orders (default config)"
   ]
  },
  {
   "cell_type": "code",
   "execution_count": null,
   "metadata": {
    "collapsed": true,
    "hidden": true
   },
   "outputs": [],
   "source": [
    "runner.simulate('jupyter-demo-sim', strategy)"
   ]
  },
  {
   "cell_type": "markdown",
   "metadata": {
    "heading_collapsed": true
   },
   "source": [
    "# Live Trade"
   ]
  },
  {
   "cell_type": "code",
   "execution_count": null,
   "metadata": {
    "collapsed": true,
    "hidden": true
   },
   "outputs": [],
   "source": [
    "config = {} # must define your own config to live trade - so you know how it works :)\n",
    "runner.live('jupyter-demo-live', strategy, config)"
   ]
  }
 ],
 "metadata": {
  "kernelspec": {
   "display_name": "Python [conda env:py36]",
   "language": "python",
   "name": "conda-env-py36-py"
  },
  "language_info": {
   "codemirror_mode": {
    "name": "ipython",
    "version": 3
   },
   "file_extension": ".py",
   "mimetype": "text/x-python",
   "name": "python",
   "nbconvert_exporter": "python",
   "pygments_lexer": "ipython3",
   "version": "3.6.4"
  },
  "latex_envs": {
   "LaTeX_envs_menu_present": true,
   "autocomplete": true,
   "bibliofile": "biblio.bib",
   "cite_by": "apalike",
   "current_citInitial": 1,
   "eqLabelWithNumbers": true,
   "eqNumInitial": 1,
   "hotkeys": {
    "equation": "Ctrl-E",
    "itemize": "Ctrl-I"
   },
   "labels_anchors": false,
   "latex_user_defs": false,
   "report_style_numbering": false,
   "user_envs_cfg": false
  },
  "toc": {
   "colors": {
    "hover_highlight": "#DAA520",
    "navigate_num": "#000000",
    "navigate_text": "#333333",
    "running_highlight": "#FF0000",
    "selected_highlight": "#FFD700",
    "sidebar_border": "#EEEEEE",
    "wrapper_background": "#FFFFFF"
   },
   "moveMenuLeft": true,
   "nav_menu": {
    "height": "91.01562px",
    "width": "251.01562px"
   },
   "navigate_menu": true,
   "number_sections": true,
   "sideBar": true,
   "threshold": 4,
   "toc_cell": false,
   "toc_section_display": "block",
   "toc_window_display": false,
   "widenNotebook": false
  }
 },
 "nbformat": 4,
 "nbformat_minor": 2
}
