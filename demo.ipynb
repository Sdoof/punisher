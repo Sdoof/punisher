{
 "cells": [
  {
   "cell_type": "markdown",
   "metadata": {},
   "source": [
    "Welcome, to Punisher. After running your strategy, view the live results with Dash\n",
    "\n",
    "```\n",
    "$ python -m punisher.charts.dash_charts.dash_record --name default_backtest\n",
    "```"
   ]
  },
  {
   "cell_type": "markdown",
   "metadata": {},
   "source": [
    "## TODO"
   ]
  },
  {
   "cell_type": "markdown",
   "metadata": {},
   "source": [
    "* Wrap all Exchange Order responses in an Order object\n",
    "* Market orders do not return price. So fetch trades. https://github.com/ccxt/ccxt/issues/798\n",
    "* Verify starting_cash <= actual balance on Live Exchange\n",
    "* Handle/prevent 'insufficient funds' from Binance/Poloniex (Above will help, but still need to catch if the exchange balance has changed for some reason)\n",
    "* Handle/prevent 'minimum order not met' from Binanace/Poloniex (method to refresh and lookup the minimum amount)\n",
    "* Method to audit/confirm our local exchange balance reflects actual changes to CCXT exchange balance\n",
    "* Limit Sell Orders not working I think..\n"
   ]
  },
  {
   "cell_type": "markdown",
   "metadata": {},
   "source": [
    "## Define Strategy"
   ]
  },
  {
   "cell_type": "code",
   "execution_count": null,
   "metadata": {},
   "outputs": [],
   "source": [
    "%matplotlib inline\n",
    "%load_ext autoreload\n",
    "%autoreload 2\n",
    "from punisher.common import *\n",
    "\n",
    "from punisher.strategies.strategy import Strategy\n",
    "\n",
    "class SimpleStrategy(Strategy):\n",
    "    def __init__(self):\n",
    "        super().__init__()\n",
    "\n",
    "    def log_all(self, orders, data, ctx, time_utc):\n",
    "        self.logger = ctx.logger\n",
    "        if self.logger is not None:\n",
    "            self.log_epoch_time(time_utc)\n",
    "            self.log_ohlcv(data)\n",
    "            self.log_orders(orders)\n",
    "            self.log_performance(ctx)\n",
    "            self.log_balance(ctx)\n",
    "            self.log_positions(ctx)\n",
    "            self.log_metrics(ctx)\n",
    "\n",
    "    def handle_data(self, data, ctx):\n",
    "        orders = []\n",
    "        asset = Asset(c.ETH, c.BTC)\n",
    "        price = data['close']\n",
    "        quantity = .01\n",
    "\n",
    "        if random.random() > 0.5:\n",
    "            order = order_manager.build_limit_buy_order(\n",
    "                ctx.exchange, asset, quantity, price)\n",
    "            orders.append(order)\n",
    "        elif (len(ctx.record.portfolio.positions) > 0 \n",
    "              and ctx.record.balance.get(c.ETH)[BalanceType.FREE] > 0.0):\n",
    "            order = order_manager.build_market_sell_order(\n",
    "                ctx.exchange, asset, quantity)\n",
    "            orders.append(order)\n",
    "\n",
    "        # Optionally cancel pending orders (LIVE trading)\n",
    "        #pending_orders = ctx.exchange.fetch_open_orders(asset)\n",
    "        cancel_ids = []\n",
    "        \n",
    "        # Add Metrics and OHLCV to Record\n",
    "        self.update_metric('SMA', 5.0, ctx)\n",
    "        self.update_metric('RSI', 10.0, ctx)\n",
    "        self.update_ohlcv(data, ctx)\n",
    "\n",
    "        self.log_all(orders, data, ctx, data['time_utc'])\n",
    "        return {\n",
    "            'orders': orders,\n",
    "            'cancel_ids': cancel_ids\n",
    "        }"
   ]
  },
  {
   "cell_type": "markdown",
   "metadata": {},
   "source": [
    "## Backtest"
   ]
  },
  {
   "cell_type": "code",
   "execution_count": null,
   "metadata": {},
   "outputs": [],
   "source": [
    "cash = 1.0\n",
    "ohlcv_fpath = os.path.join(cfg.DATA_DIR, c.DEFAULT_30M_FEED_CSV_FILENAME)\n",
    "balance = Balance(\n",
    "    cash_currency=c.BTC,\n",
    "    starting_cash=cash\n",
    ")\n",
    "perf_tracker = PerformanceTracker(\n",
    "    starting_cash=cash, \n",
    "    timeframe=Timeframe.THIRTY_MIN\n",
    ")\n",
    "portfolio = Portfolio(\n",
    "    starting_cash=cash,\n",
    "    perf_tracker=perf_tracker, # option to override, otherwise default\n",
    "    positions=None # option to override with existing positions\n",
    ")\n",
    "feed = CSVDataFeed(\n",
    "    fpath=ohlcv_fpath,\n",
    "    start=None, # Usually None for backtest, but its possible to filter the csv\n",
    "    end=None\n",
    ")\n",
    "exchange = load_feed_based_paper_exchange(balance, feed)\n",
    "strategy = SimpleStrategy()\n",
    "experiment_name = 'default_backtest'"
   ]
  },
  {
   "cell_type": "code",
   "execution_count": null,
   "metadata": {
    "scrolled": false
   },
   "outputs": [],
   "source": [
    "runner.backtest(experiment_name, exchange, balance, portfolio, feed, strategy)"
   ]
  },
  {
   "cell_type": "markdown",
   "metadata": {},
   "source": [
    "## Simulate Orders"
   ]
  },
  {
   "cell_type": "code",
   "execution_count": null,
   "metadata": {
    "scrolled": false
   },
   "outputs": [],
   "source": [
    "cash = 1.0\n",
    "balance = Balance(\n",
    "    cash_currency=c.BTC,\n",
    "    starting_cash=cash\n",
    ")\n",
    "exchange = load_ccxt_based_paper_exchange(balance, c.BINANCE)\n",
    "perf_tracker = PerformanceTracker(\n",
    "    starting_cash=cash, \n",
    "    timeframe=Timeframe.ONE_MIN\n",
    ")\n",
    "portfolio = Portfolio(\n",
    "    starting_cash=cash,\n",
    "    perf_tracker=perf_tracker, # option to override, otherwise default\n",
    "    positions=None # option to override with existing positions\n",
    ")\n",
    "assets = [Asset(c.ETH, c.BTC)]\n",
    "feed = ExchangeDataFeed(\n",
    "    exchange=exchange,\n",
    "    assets=assets,\n",
    "    timeframe=Timeframe.ONE_MIN,\n",
    "    start=datetime.datetime.utcnow(),\n",
    "    end=None\n",
    ")\n",
    "strategy = SimpleStrategy()\n",
    "experiment_name = 'default_simulate'"
   ]
  },
  {
   "cell_type": "code",
   "execution_count": null,
   "metadata": {},
   "outputs": [],
   "source": [
    "runner.simulate(experiment_name, exchange, balance, portfolio, feed, strategy)"
   ]
  },
  {
   "cell_type": "markdown",
   "metadata": {},
   "source": [
    "## Live Trade"
   ]
  },
  {
   "cell_type": "code",
   "execution_count": null,
   "metadata": {
    "scrolled": true
   },
   "outputs": [],
   "source": [
    "def live(name, exchange, balance, portfolio, feed, strategy):\n",
    "    print(\"WARNING LIVE TRADING!!!!\")\n",
    "    '''\n",
    "    exp_name = name of your current experiment (multiple runs per strategy)\n",
    "    '''\n",
    "    # Where we will save the record\n",
    "    root = os.path.join(cfg.DATA_DIR, name)\n",
    "\n",
    "    # This can be retrieved from the user's global config\n",
    "    store = DATA_STORES[cfg.DATA_STORE](root=root)\n",
    "\n",
    "    config = {\n",
    "        'experiment': name, \n",
    "        'strategy': strategy.name,\n",
    "    }\n",
    "    record = Record(\n",
    "        config=config,\n",
    "        portfolio=portfolio,\n",
    "        balance=balance,\n",
    "        store=store\n",
    "    )\n",
    "    ctx = Context(\n",
    "        exchange=exchange,\n",
    "        feed=feed,\n",
    "        record=record\n",
    "    )\n",
    "    feed.initialize()\n",
    "    \n",
    "    while True:\n",
    "        row = feed.next()\n",
    "        \n",
    "        if row is not None:\n",
    "            orders = strategy.process(row, ctx)\n",
    "\n",
    "            # TODO: Cancelling orders\n",
    "            # should we auto-cancel any outstanding orders\n",
    "            # or should we leave this decision up to the Strategy?\n",
    "            order_manager.cancel_orders(exchange, orders['cancel_ids'])\n",
    "\n",
    "            # Returns both FILLED and PENDING orders\n",
    "            # TODO: Order manager handles mapping from Exchange JSON\n",
    "            # Particularly order types like CLOSED --> FILLED,\n",
    "            # And OPEN vs PENDING <-- check the 'quantity' vs 'filled' amounts\n",
    "            orders = order_manager.place_orders(exchange, orders['orders'])\n",
    "            filled_orders = order_manager.get_filled_orders(orders)\n",
    "\n",
    "            # Portfolio needs to know about new filled orders\n",
    "            portfolio.update(filled_orders)\n",
    "\n",
    "            # Getting the latest prices for each of our positions\n",
    "            latest_prices = get_latest_prices(portfolio.positions, row)\n",
    "            portfolio.update_position_prices(latest_prices)\n",
    "\n",
    "\n",
    "            # Record needs to know about all new orders\n",
    "            for order in orders:\n",
    "                record.orders[order.id] = order\n",
    "\n",
    "            # Update Virtual Balance\n",
    "            # exchange balance may be impacted by external trading\n",
    "            for order in filled_orders:\n",
    "                balance.update_by_order(order)\n",
    "\n",
    "            record.save()\n",
    "        \n",
    "        time.sleep(30)\n",
    "            \n",
    "    return record"
   ]
  },
  {
   "cell_type": "code",
   "execution_count": null,
   "metadata": {},
   "outputs": [],
   "source": [
    "cash = .04\n",
    "balance = Balance(\n",
    "    cash_currency=c.BTC,\n",
    "    starting_cash=cash\n",
    ")\n",
    "exchange = load_exchange(c.BINANCE)\n",
    "perf_tracker = PerformanceTracker(\n",
    "    starting_cash=cash, \n",
    "    timeframe=Timeframe.ONE_MIN\n",
    ")\n",
    "portfolio = Portfolio(\n",
    "    starting_cash=cash,\n",
    "    perf_tracker=perf_tracker, # option to override, otherwise default\n",
    "    positions=None # option to override with existing positions\n",
    ")\n",
    "assets = [Asset(c.XRP, c.BTC)]\n",
    "feed = ExchangeDataFeed(\n",
    "    exchange=exchange,\n",
    "    assets=assets,\n",
    "    timeframe=Timeframe.ONE_MIN,\n",
    "    start=datetime.datetime.utcnow(),\n",
    "    end=None\n",
    ")\n",
    "strategy = SimpleStrategy()\n",
    "experiment_name = 'default_live'"
   ]
  },
  {
   "cell_type": "code",
   "execution_count": null,
   "metadata": {},
   "outputs": [],
   "source": [
    "live(experiment_name, exchange, balance, portfolio, feed, strategy)"
   ]
  },
  {
   "cell_type": "code",
   "execution_count": null,
   "metadata": {},
   "outputs": [],
   "source": []
  }
 ],
 "metadata": {
  "kernelspec": {
   "display_name": "Python 3",
   "language": "python",
   "name": "python3"
  },
  "language_info": {
   "codemirror_mode": {
    "name": "ipython",
    "version": 3
   },
   "file_extension": ".py",
   "mimetype": "text/x-python",
   "name": "python",
   "nbconvert_exporter": "python",
   "pygments_lexer": "ipython3",
   "version": "3.6.4"
  },
  "latex_envs": {
   "LaTeX_envs_menu_present": true,
   "autocomplete": true,
   "bibliofile": "biblio.bib",
   "cite_by": "apalike",
   "current_citInitial": 1,
   "eqLabelWithNumbers": true,
   "eqNumInitial": 1,
   "hotkeys": {
    "equation": "Ctrl-E",
    "itemize": "Ctrl-I"
   },
   "labels_anchors": false,
   "latex_user_defs": false,
   "report_style_numbering": false,
   "user_envs_cfg": false
  },
  "toc": {
   "nav_menu": {
    "height": "91.01562px",
    "width": "251.01562px"
   },
   "number_sections": true,
   "sideBar": true,
   "skip_h1_title": false,
   "toc_cell": false,
   "toc_position": {},
   "toc_section_display": "block",
   "toc_window_display": false
  }
 },
 "nbformat": 4,
 "nbformat_minor": 2
}
