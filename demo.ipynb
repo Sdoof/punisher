{
 "cells": [
  {
   "cell_type": "markdown",
   "metadata": {},
   "source": [
    "Welcome, to Punisher. After running your strategy, view the live results with Dash\n",
    "\n",
    "```\n",
    "$ python -m punisher.charts.dash_charts.dash_record --name default_backtest\n",
    "```"
   ]
  },
  {
   "cell_type": "markdown",
   "metadata": {},
   "source": [
    "## Define Strategy"
   ]
  },
  {
   "cell_type": "code",
   "execution_count": null,
   "metadata": {},
   "outputs": [],
   "source": [
    "%matplotlib inline\n",
    "%load_ext autoreload\n",
    "%autoreload 2\n",
    "from punisher.common import *\n",
    "\n",
    "from punisher.strategies.strategy import Strategy"
   ]
  },
  {
   "cell_type": "code",
   "execution_count": null,
   "metadata": {},
   "outputs": [],
   "source": [
    "class SimpleStrategy(Strategy):\n",
    "    def __init__(self, asset, quantity):\n",
    "        super().__init__()\n",
    "        self.asset = asset\n",
    "        self.quantity = quantity\n",
    "\n",
    "    def log_all(self, orders, data, ctx, utc):\n",
    "        self.logger = ctx.logger\n",
    "        if self.logger is not None:\n",
    "            self.log_epoch_time(utc)\n",
    "            self.log_ohlcv(data, self.asset.symbol, ctx.exchange.id)\n",
    "            self.log_orders(orders)\n",
    "            self.log_performance(ctx)\n",
    "            self.log_balance(ctx)\n",
    "            self.log_positions(ctx)\n",
    "            self.log_metrics(ctx)\n",
    "\n",
    "    def handle_data(self, data, ctx):\n",
    "        new_orders = []\n",
    "        quantity = .05\n",
    "        price = data.get('close', self.asset.symbol, ctx.exchange.id)\n",
    "        current_time = data.get('utc')\n",
    "        if random.random() > 0.5:\n",
    "            order = order_manager.build_limit_buy_order(\n",
    "                ctx.record.portfolio.balance, ctx.exchange, self.asset, quantity, price, current_time)\n",
    "            new_orders.append(order)\n",
    "        elif ctx.record.balance.get(self.asset.base)[BalanceType.FREE] > quantity:\n",
    "            order = order_manager.build_market_sell_order(\n",
    "                ctx.record.portfolio.balance, ctx.exchange, self.asset, quantity, current_time)\n",
    "            new_orders.append(order)\n",
    "\n",
    "        # Optionally cancel pending orders (LIVE trading)\n",
    "        #pending_orders = ctx.exchange.fetch_open_orders(asset)\n",
    "        cancel_ids = []\n",
    "\n",
    "        # Add Metrics and OHLCV to Record\n",
    "        self.update_metric('SMA', 5.0, ctx)\n",
    "        self.update_metric('RSI', 10.0, ctx)\n",
    "        self.update_ohlcv(data, ctx)\n",
    "        self.log_all(new_orders, data, ctx, current_time)\n",
    "        return {\n",
    "            'new_orders': new_orders,\n",
    "            'cancel_ids': cancel_ids\n",
    "        }"
   ]
  },
  {
   "cell_type": "markdown",
   "metadata": {},
   "source": [
    "## Backtest"
   ]
  },
  {
   "cell_type": "markdown",
   "metadata": {},
   "source": [
    "### Backtest From Local CSV Files"
   ]
  },
  {
   "cell_type": "code",
   "execution_count": null,
   "metadata": {},
   "outputs": [],
   "source": [
    "# Download some data from Binance\n",
    "exchange_id = ex_cfg.BINANCE\n",
    "timeframe = Timeframe.THIRTY_MIN\n",
    "start = datetime.datetime(year=2018, month=1, day=1, hour=0)\n",
    "end = datetime.datetime(year=2018, month=1, day=5, hour=0)\n",
    "assets = [Asset(coins.ETH, coins.BTC), Asset(coins.BTC, coins.USDT)]\n",
    "data_exchange = load_exchange(exchange_id)\n",
    "ohlcv_feed.download_ohlcv([data_exchange], assets, timeframe, start, end)"
   ]
  },
  {
   "cell_type": "code",
   "execution_count": null,
   "metadata": {},
   "outputs": [],
   "source": [
    "# Setup the Feed Based Paper Exchange\n",
    "cash = 1.0\n",
    "cash_currency = coins.BTC\n",
    "balance = Balance(\n",
    "    cash_currency=cash_currency,\n",
    "    starting_cash=cash\n",
    ")\n",
    "perf_tracker = PerformanceTracker(\n",
    "    starting_cash=cash, \n",
    "    timeframe=timeframe\n",
    ")\n",
    "portfolio = Portfolio(\n",
    "    cash_currency=cash_currency,\n",
    "    starting_balance=deepcopy(balance),\n",
    "    perf_tracker=perf_tracker, # option to override, otherwise default\n",
    "    positions=None # option to override with existing positions\n",
    ")\n",
    "feed = OHLCVFileFeed(\n",
    "    exchange_ids=[exchange_id],\n",
    "    assets=assets,\n",
    "    timeframe=timeframe,\n",
    "    start=None, # Usually None for backtest, but its possible to filter the csv\n",
    "    end=None\n",
    ")\n",
    "exchange = load_feed_based_paper_exchange(deepcopy(balance), feed, exchange_id)\n",
    "strategy = SimpleStrategy(assets[0], quantity=.05)\n",
    "experiment_name = 'default_backtest'"
   ]
  },
  {
   "cell_type": "code",
   "execution_count": null,
   "metadata": {
    "scrolled": true
   },
   "outputs": [],
   "source": [
    "runner.backtest(experiment_name, exchange, balance, portfolio, feed, strategy)"
   ]
  },
  {
   "cell_type": "code",
   "execution_count": null,
   "metadata": {},
   "outputs": [],
   "source": [
    "record"
   ]
  },
  {
   "cell_type": "markdown",
   "metadata": {},
   "source": [
    "### Backtest from External Exchange Data"
   ]
  },
  {
   "cell_type": "code",
   "execution_count": null,
   "metadata": {
    "scrolled": false
   },
   "outputs": [],
   "source": [
    "cash = 1.0\n",
    "cash_currency = coins.BTC\n",
    "balance = Balance(\n",
    "    cash_currency=cash_currency,\n",
    "    starting_cash=cash\n",
    ")\n",
    "exchange = load_ccxt_based_paper_exchange(balance, ex_cfg.BINANCE)\n",
    "perf_tracker = PerformanceTracker(\n",
    "    starting_cash=cash, \n",
    "    timeframe=Timeframe.ONE_MIN\n",
    ")\n",
    "portfolio = Portfolio(\n",
    "    cash_currency=cash_currency,\n",
    "    starting_balance=balance,\n",
    "    perf_tracker=perf_tracker, # option to override, otherwise default\n",
    "    positions=None # option to override with existing positions\n",
    ")\n",
    "\n",
    "assets = [Asset(coins.ETH, coins.BTC), Asset(coins.LTC, coins.BTC)]\n",
    "feed = OHLCVExchangeFeed(\n",
    "    exchanges=[exchange],\n",
    "    assets=assets,\n",
    "    timeframe=Timeframe.ONE_MIN,\n",
    "    start=datetime.datetime.utcnow()-datetime.timedelta(days=1),\n",
    "    end=None\n",
    ")\n",
    "strategy = SimpleStrategy(assets[0], quantity=.05)"
   ]
  },
  {
   "cell_type": "code",
   "execution_count": null,
   "metadata": {},
   "outputs": [],
   "source": [
    "experiment_name = 'default_backtest_exchange'\n",
    "runner.backtest(experiment_name, exchange, balance, portfolio, feed, strategy)"
   ]
  },
  {
   "cell_type": "markdown",
   "metadata": {},
   "source": [
    "## Simulate Orders"
   ]
  },
  {
   "cell_type": "code",
   "execution_count": null,
   "metadata": {
    "scrolled": false
   },
   "outputs": [],
   "source": [
    "cash = 1.0\n",
    "cash_currency = coins.BTC\n",
    "balance = Balance(\n",
    "    cash_currency=coins.BTC,\n",
    "    starting_cash=cash\n",
    ")\n",
    "exchange = load_ccxt_based_paper_exchange(balance, ex_cfg.BINANCE)\n",
    "perf_tracker = PerformanceTracker(\n",
    "    starting_cash=cash, \n",
    "    timeframe=Timeframe.ONE_MIN\n",
    ")\n",
    "portfolio = Portfolio(\n",
    "    cash_currency=cash_currency,\n",
    "    starting_balance=balance,\n",
    "    perf_tracker=perf_tracker, # option to override, otherwise default\n",
    "    positions=None # option to override with existing positions\n",
    ")\n",
    "\n",
    "assets = [Asset(coins.ETH, coins.BTC), Asset(coins.LTC, coins.BTC)]\n",
    "feed = OHLCVExchangeFeed(\n",
    "    exchanges=[exchange],\n",
    "    assets=assets,\n",
    "    timeframe=Timeframe.ONE_MIN,\n",
    "    start=datetime.datetime.utcnow(),\n",
    "    end=None\n",
    ")\n",
    "strategy = SimpleStrategy(assets[0], quantity=.05)"
   ]
  },
  {
   "cell_type": "code",
   "execution_count": null,
   "metadata": {
    "scrolled": false
   },
   "outputs": [],
   "source": [
    "experiment_name = 'default_simulate'\n",
    "runner.simulate(experiment_name, exchange, balance, portfolio, feed, strategy)"
   ]
  },
  {
   "cell_type": "markdown",
   "metadata": {},
   "source": [
    "## Live Trade"
   ]
  },
  {
   "cell_type": "code",
   "execution_count": null,
   "metadata": {},
   "outputs": [],
   "source": [
    "exchange = load_exchange(ex_cfg.BINANCE)\n",
    "cash = exchange.fetch_balance().get(coins.BTC)[BalanceType.FREE]\n",
    "cash_currency = coins.BTC\n",
    "print(coins.BTC, \"cash\", cash)"
   ]
  },
  {
   "cell_type": "code",
   "execution_count": null,
   "metadata": {},
   "outputs": [],
   "source": [
    "balance = Balance(\n",
    "    cash_currency=coins.BTC,\n",
    "    starting_cash=cash\n",
    ")\n",
    "perf_tracker = PerformanceTracker(\n",
    "    starting_cash=cash, \n",
    "    timeframe=Timeframe.ONE_MIN\n",
    ")\n",
    "portfolio = Portfolio(\n",
    "    cash_currency=cash_currency,\n",
    "    starting_cash=cash,\n",
    "    perf_tracker=perf_tracker, # option to override, otherwise default\n",
    "    positions=None # option to override with existing positions\n",
    ")\n",
    "assets = [Asset(coins.ETH, coins.BTC), Asset(coins.LTC, coins.BTC)]\n",
    "feed = OHLCVExchangeFeed(\n",
    "    exchanges=[exchange],\n",
    "    assets=assets,\n",
    "    timeframe=Timeframe.ONE_MIN,\n",
    "    start=None,\n",
    "    end=None\n",
    ")\n",
    "experiment_name = 'default_live'"
   ]
  },
  {
   "cell_type": "code",
   "execution_count": null,
   "metadata": {
    "scrolled": false
   },
   "outputs": [],
   "source": [
    "runner.live(experiment_name, exchange, balance, portfolio, feed, strategy)"
   ]
  },
  {
   "cell_type": "code",
   "execution_count": null,
   "metadata": {},
   "outputs": [],
   "source": []
  }
 ],
 "metadata": {
  "kernelspec": {
   "display_name": "Python 3",
   "language": "python",
   "name": "python3"
  },
  "language_info": {
   "codemirror_mode": {
    "name": "ipython",
    "version": 3
   },
   "file_extension": ".py",
   "mimetype": "text/x-python",
   "name": "python",
   "nbconvert_exporter": "python",
   "pygments_lexer": "ipython3",
   "version": "3.6.4"
  },
  "latex_envs": {
   "LaTeX_envs_menu_present": true,
   "autocomplete": true,
   "bibliofile": "biblio.bib",
   "cite_by": "apalike",
   "current_citInitial": 1,
   "eqLabelWithNumbers": true,
   "eqNumInitial": 1,
   "hotkeys": {
    "equation": "Ctrl-E",
    "itemize": "Ctrl-I"
   },
   "labels_anchors": false,
   "latex_user_defs": false,
   "report_style_numbering": false,
   "user_envs_cfg": false
  },
  "toc": {
   "nav_menu": {
    "height": "91.01562px",
    "width": "251.01562px"
   },
   "number_sections": true,
   "sideBar": true,
   "skip_h1_title": false,
   "toc_cell": false,
   "toc_position": {},
   "toc_section_display": "block",
   "toc_window_display": false
  }
 },
 "nbformat": 4,
 "nbformat_minor": 2
}
