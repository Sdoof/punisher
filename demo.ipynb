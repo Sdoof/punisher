{
 "cells": [
  {
   "cell_type": "markdown",
   "metadata": {},
   "source": [
    "Welcome, to Punisher. After running your strategy, view the live results with Dash\n",
    "\n",
    "```\n",
    "$ python -m punisher.charts.dash_charts.dash_record --name default\n",
    "```"
   ]
  },
  {
   "cell_type": "markdown",
   "metadata": {
    "heading_collapsed": true
   },
   "source": [
    "# Define Strategy"
   ]
  },
  {
   "cell_type": "code",
   "execution_count": null,
   "metadata": {
    "hidden": true
   },
   "outputs": [],
   "source": [
    "%matplotlib inline\n",
    "from punisher.common import *\n",
    "\n",
    "from punisher.strategies.strategy import Strategy\n",
    "\n",
    "class SimpleStrategy(Strategy):\n",
    "    def __init__(self):\n",
    "        super().__init__()\n",
    "\n",
    "    def log_all(self, orders, data, ctx, time_utc):\n",
    "        self.logger = ctx.logger\n",
    "        if self.logger is not None:\n",
    "            self.log_epoch_time(time_utc)\n",
    "            self.log_ohlcv(data)\n",
    "            self.log_orders(orders)\n",
    "            self.log_performance(ctx)\n",
    "            self.log_balance(ctx)\n",
    "            self.log_positions(ctx)\n",
    "            self.log_metrics(ctx)\n",
    "\n",
    "    def handle_data(self, data, ctx):\n",
    "        orders = []\n",
    "        asset = Asset(c.XRP, c.BTC)\n",
    "        price = data['close']\n",
    "        quantity = 1.0\n",
    "\n",
    "        if random.random() > 0.5:\n",
    "            order = order_manager.build_limit_buy_order(\n",
    "                ctx.exchange, asset, price, quantity)\n",
    "        else:\n",
    "            order = order_manager.build_limit_sell_order(\n",
    "                ctx.exchange, asset, price, quantity)\n",
    "\n",
    "        orders.append(order)\n",
    "\n",
    "        # Add Metrics and OHLCV to Record\n",
    "        self.update_metric('SMA', 5.0, ctx)\n",
    "        self.update_metric('RSI', 10.0, ctx)\n",
    "        self.update_ohlcv(data, ctx)\n",
    "\n",
    "        self.log_all(orders, data, ctx, data['time_utc'])\n",
    "        return orders"
   ]
  },
  {
   "cell_type": "code",
   "execution_count": null,
   "metadata": {
    "collapsed": true
   },
   "outputs": [],
   "source": [
    "strategy = SimpleStrategy()"
   ]
  },
  {
   "cell_type": "markdown",
   "metadata": {
    "heading_collapsed": true
   },
   "source": [
    "# Backtest (Default config)"
   ]
  },
  {
   "cell_type": "code",
   "execution_count": null,
   "metadata": {
    "hidden": true,
    "scrolled": false
   },
   "outputs": [],
   "source": [
    "runner.backtest('jupyter-demo-backtest', strategy)"
   ]
  },
  {
   "cell_type": "markdown",
   "metadata": {
    "collapsed": true,
    "hidden": true
   },
   "source": [
    "# Backtest (Using Context)"
   ]
  },
  {
   "cell_type": "code",
   "execution_count": null,
   "metadata": {},
   "outputs": [],
   "source": [
    "from punisher.trading.context import default_config, Context, TradingMode\n",
    "\n",
    "config = default_config(TradingMode.BACKTEST)\n",
    "context = Context.from_config(config)\n",
    "runner.backtest('jupyter-demo-backtest', strategy, context=context)"
   ]
  },
  {
   "cell_type": "markdown",
   "metadata": {
    "heading_collapsed": true
   },
   "source": [
    "# Simulate Orders (default config)"
   ]
  },
  {
   "cell_type": "code",
   "execution_count": 5,
   "metadata": {
    "hidden": true,
    "scrolled": false
   },
   "outputs": [
    {
     "name": "stdout",
     "output_type": "stream",
     "text": [
      "CFG {'cash_asset': 'BTC', 'starting_cash': 1.0, 'store': 'CSV_STORE', 'balance': {'BTC': {'free': 1.0, 'used': 0.0, 'total': 1.0}, 'free': {'BTC': 1.0}, 'used': {'BTC': 0.0}, 'total': {'BTC': 1.0}}, 'feed': {'symbols': ['ETH/BTC'], 'name': 'EXCHANGE_FEED', 'start': '2018-01-16T21:17:41', 'timeframe': 'ONE_MIN', 'fpath': '.data/paper_ETH_BTC_1m.csv'}, 'exchange': {'exchange_id': 'paper', 'data_provider': CCXTExchange(binance)}, 'experiment': 'default-simulation'}\n",
      "Loading feed: .data/paper_ETH_BTC_1m.csv\n",
      "Downloading: ETH/BTC\n"
     ]
    },
    {
     "name": "stderr",
     "output_type": "stream",
     "text": [
      "Starting Simulation ...\n",
      "{'cash_asset': 'BTC', 'starting_cash': 1.0, 'store': 'CSV_STORE', 'balance': {'BTC': {'free': 1.0, 'used': 0.0, 'total': 1.0}, 'free': {'BTC': 1.0}, 'used': {'BTC': 0.0}, 'total': {'BTC': 1.0}}, 'feed': {'symbols': ['ETH/BTC'], 'name': 'EXCHANGE_FEED', 'start': '2018-01-16T21:17:41', 'timeframe': 'ONE_MIN', 'fpath': '.data/paper_ETH_BTC_1m.csv'}, 'exchange': {'exchange_id': 'paper', 'data_provider': CCXTExchange(binance), 'balance': {'BTC': {'free': 1.0, 'used': 0.0, 'total': 1.0}, 'free': {'BTC': 1.0}, 'used': {'BTC': 0.0}, 'total': {'BTC': 1.0}}}, 'experiment': 'default-simulation'}\n"
     ]
    },
    {
     "name": "stdout",
     "output_type": "stream",
     "text": [
      "DDD [[1516107600000, 0.09281, 0.092988, 0.092701, 0.092946, 149.375], [1516107660000, 0.092913, 0.092952, 0.092688, 0.092852, 143.51]]\n",
      "Downloaded rows: 2\n",
      "Downloading: ETH/BTC\n",
      "DDD [[1516107600000, 0.09281, 0.092988, 0.092701, 0.092946, 149.375], [1516107660000, 0.092913, 0.092952, 0.092688, 0.092852, 143.51]]\n",
      "Downloaded rows: 2\n"
     ]
    },
    {
     "name": "stderr",
     "output_type": "stream",
     "text": [
      "---------------------------------------\n",
      "Epoch 289 - Timestep: 2018-01-16T21:18:00\n",
      "---------------------------------------\n",
      "OHLCV\n",
      "    O: 0.0915 | C: 0.0917 | V: 286.9 | T: 2018-01-16T21:18:00\n",
      "ORDERS\n",
      "    1: XRP/BTC | LIMIT_SELL | Price: 0.0917 | Quantity: 1.0000\n",
      "PERFORMANCE\n",
      "    Cash: 1.0000 Total Val: 1.0000 PnL: 0.0000 Returns: 0.0000\n",
      "BALANCE\n",
      "    BTC - {'free': 1.0, 'used': 0.0, 'total': 1.0}\n",
      "POSITIONS\n",
      "METRICS\n",
      "    SMA: 5.00\n",
      "    RSI: 10.00\n"
     ]
    },
    {
     "name": "stdout",
     "output_type": "stream",
     "text": [
      "Insufficient funds to place order 3a0ac94740094d1da728e1f4b203a275,                     cancelling ...\n",
      "Downloading: ETH/BTC\n",
      "DDD [[1516107600000, 0.09281, 0.092988, 0.092701, 0.092946, 149.375], [1516107660000, 0.092913, 0.092952, 0.092688, 0.092852, 143.51]]\n",
      "Downloaded rows: 1\n"
     ]
    },
    {
     "name": "stderr",
     "output_type": "stream",
     "text": [
      "---------------------------------------\n",
      "Epoch 290 - Timestep: 2018-01-16T21:19:00\n",
      "---------------------------------------\n",
      "OHLCV\n",
      "    O: 0.0920 | C: 0.0919 | V: 237.5 | T: 2018-01-16T21:19:00\n",
      "ORDERS\n",
      "    1: XRP/BTC | LIMIT_BUY | Price: 0.0919 | Quantity: 1.0000\n",
      "PERFORMANCE\n",
      "    Cash: 1.0000 Total Val: 1.0000 PnL: 0.0000 Returns: 0.0000\n",
      "BALANCE\n",
      "    BTC - {'free': 1.0, 'used': 0.0, 'total': 1.0}\n",
      "    XRP - {'free': 0.0, 'used': 0.0, 'total': 0.0}\n",
      "POSITIONS\n",
      "METRICS\n",
      "    SMA: 5.00\n",
      "    RSI: 10.00\n"
     ]
    },
    {
     "name": "stdout",
     "output_type": "stream",
     "text": [
      "Downloading: ETH/BTC\n",
      "DDD [[1516107600000, 0.09281, 0.092988, 0.092701, 0.092946, 149.375], [1516107660000, 0.092913, 0.092952, 0.092688, 0.092852, 143.51]]\n",
      "Downloaded rows: 0\n",
      "No data after prior poll: 2018-01-16 21:19:00\n",
      "Downloading: ETH/BTC\n",
      "DDD [[1516107600000, 0.09281, 0.092988, 0.092701, 0.092946, 149.375], [1516107660000, 0.092913, 0.092952, 0.092688, 0.092852, 143.51]]\n",
      "Downloaded rows: 0\n",
      "No data after prior poll: 2018-01-16 21:19:00\n",
      "Downloading: ETH/BTC\n",
      "DDD [[1516107660000, 0.092913, 0.092952, 0.092688, 0.092852, 143.51], [1516107720000, 0.092887, 0.092964, 0.092807, 0.092961, 105.579]]\n",
      "Downloaded rows: 1\n"
     ]
    },
    {
     "name": "stderr",
     "output_type": "stream",
     "text": [
      "---------------------------------------\n",
      "Epoch 291 - Timestep: 2018-01-16T21:20:00\n",
      "---------------------------------------\n",
      "OHLCV\n",
      "    O: 0.0920 | C: 0.0919 | V: 3.3 | T: 2018-01-16T21:20:00\n",
      "ORDERS\n",
      "    1: XRP/BTC | LIMIT_BUY | Price: 0.0919 | Quantity: 1.0000\n",
      "PERFORMANCE\n",
      "    Cash: 0.7244 Total Val: 1.0000 PnL: 0.0000 Returns: 0.0000\n",
      "BALANCE\n",
      "    BTC - {'free': 0.7244290000000001, 'used': 0.0, 'total': 0.7244290000000001}\n",
      "    XRP - {'free': 3.0, 'used': 0.0, 'total': 3.0}\n",
      "POSITIONS\n",
      "     {'asset': 'XRP/BTC', 'quantity': 3.0, 'cost_price': 0.091857000000000008, 'latest_price': 0.091857000000000008}\n",
      "METRICS\n",
      "    SMA: 5.00\n",
      "    RSI: 10.00\n"
     ]
    },
    {
     "name": "stdout",
     "output_type": "stream",
     "text": [
      "Downloading: ETH/BTC\n",
      "DDD [[1516107660000, 0.092913, 0.092952, 0.092688, 0.092852, 143.51], [1516107720000, 0.092887, 0.092964, 0.092807, 0.092961, 105.579]]\n",
      "Downloaded rows: 0\n",
      "No data after prior poll: 2018-01-16 21:20:00\n",
      "Downloading: ETH/BTC\n",
      "DDD [[1516107660000, 0.092913, 0.092952, 0.092688, 0.092852, 143.51], [1516107720000, 0.092887, 0.092964, 0.092807, 0.092961, 105.579]]\n",
      "Downloaded rows: 0\n",
      "No data after prior poll: 2018-01-16 21:20:00\n"
     ]
    },
    {
     "ename": "KeyboardInterrupt",
     "evalue": "",
     "output_type": "error",
     "traceback": [
      "\u001b[0;31m---------------------------------------------------------------------------\u001b[0m",
      "\u001b[0;31mKeyboardInterrupt\u001b[0m                         Traceback (most recent call last)",
      "\u001b[0;32m<ipython-input-5-b15b58a22ad0>\u001b[0m in \u001b[0;36m<module>\u001b[0;34m()\u001b[0m\n\u001b[0;32m----> 1\u001b[0;31m \u001b[0mrunner\u001b[0m\u001b[0;34m.\u001b[0m\u001b[0msimulation\u001b[0m\u001b[0;34m(\u001b[0m\u001b[0;34m'jupyter-demo-sim'\u001b[0m\u001b[0;34m,\u001b[0m \u001b[0mstrategy\u001b[0m\u001b[0;34m)\u001b[0m\u001b[0;34m\u001b[0m\u001b[0m\n\u001b[0m",
      "\u001b[0;32m~/workplace/punisher/punisher/trading/runner.py\u001b[0m in \u001b[0;36msimulation\u001b[0;34m(run_name, strategy, config, context)\u001b[0m\n\u001b[1;32m    126\u001b[0m         \u001b[0mrecord\u001b[0m\u001b[0;34m.\u001b[0m\u001b[0msave\u001b[0m\u001b[0;34m(\u001b[0m\u001b[0;34m)\u001b[0m\u001b[0;34m\u001b[0m\u001b[0m\n\u001b[1;32m    127\u001b[0m \u001b[0;34m\u001b[0m\u001b[0m\n\u001b[0;32m--> 128\u001b[0;31m         \u001b[0mtime\u001b[0m\u001b[0;34m.\u001b[0m\u001b[0msleep\u001b[0m\u001b[0;34m(\u001b[0m\u001b[0;36m2\u001b[0m\u001b[0;34m)\u001b[0m\u001b[0;34m\u001b[0m\u001b[0m\n\u001b[0m\u001b[1;32m    129\u001b[0m \u001b[0;34m\u001b[0m\u001b[0m\n\u001b[1;32m    130\u001b[0m     \u001b[0;32mreturn\u001b[0m \u001b[0mrecord\u001b[0m\u001b[0;34m\u001b[0m\u001b[0m\n",
      "\u001b[0;31mKeyboardInterrupt\u001b[0m: "
     ]
    }
   ],
   "source": [
    "runner.simulation('jupyter-demo-sim', strategy)"
   ]
  },
  {
   "cell_type": "markdown",
   "metadata": {
    "heading_collapsed": true
   },
   "source": [
    "# Live Trade"
   ]
  },
  {
   "cell_type": "code",
   "execution_count": null,
   "metadata": {
    "hidden": true,
    "scrolled": true
   },
   "outputs": [],
   "source": [
    "from datetime import datetime, timedelta\n",
    "base = c.XRP\n",
    "quote = c.BTC\n",
    "asset = Asset(base, quote)\n",
    "period = Timeframe.ONE_MIN\n",
    "exchange_id = c.BINANCE\n",
    "\n",
    "config = {\n",
    "        'experiment': 'default-live-demo',\n",
    "        'cash_asset': c.BTC,\n",
    "        'starting_cash': 0.0,\n",
    "        'store': FILE_STORE,\n",
    "        'balance': Balance(starting_cash=0.0).to_dict(),\n",
    "        'feed': {\n",
    "            'fpath': ohlcv.get_price_data_fpath(asset, exchange_id, period.value['id']),\n",
    "            'start': datetime.utcnow().strftime(\"%Y-%m-%dT%H:%M:%S\"),\n",
    "            'symbols': ['XRP/BTC'],\n",
    "            'timeframe': Timeframe.ONE_MIN.name,\n",
    "        },\n",
    "        'exchange': {\n",
    "            \"exchange_id\": exchange_id\n",
    "        }\n",
    "    }\n",
    "\n",
    "config['feed']['name'] = EXCHANGE_FEED\n",
    "\n",
    " # must define your own config to live trade - so you know how it works :)\n",
    "runner.live('jupyter-demo-live', strategy, config)"
   ]
  },
  {
   "cell_type": "code",
   "execution_count": null,
   "metadata": {
    "collapsed": true
   },
   "outputs": [],
   "source": []
  },
  {
   "cell_type": "code",
   "execution_count": null,
   "metadata": {
    "collapsed": true
   },
   "outputs": [],
   "source": []
  }
 ],
 "metadata": {
  "kernelspec": {
   "display_name": "Python 3",
   "language": "python",
   "name": "python3"
  },
  "language_info": {
   "codemirror_mode": {
    "name": "ipython",
    "version": 3
   },
   "file_extension": ".py",
   "mimetype": "text/x-python",
   "name": "python",
   "nbconvert_exporter": "python",
   "pygments_lexer": "ipython3",
   "version": "3.6.3"
  },
  "latex_envs": {
   "LaTeX_envs_menu_present": true,
   "autocomplete": true,
   "bibliofile": "biblio.bib",
   "cite_by": "apalike",
   "current_citInitial": 1,
   "eqLabelWithNumbers": true,
   "eqNumInitial": 1,
   "hotkeys": {
    "equation": "Ctrl-E",
    "itemize": "Ctrl-I"
   },
   "labels_anchors": false,
   "latex_user_defs": false,
   "report_style_numbering": false,
   "user_envs_cfg": false
  },
  "toc": {
   "colors": {
    "hover_highlight": "#DAA520",
    "navigate_num": "#000000",
    "navigate_text": "#333333",
    "running_highlight": "#FF0000",
    "selected_highlight": "#FFD700",
    "sidebar_border": "#EEEEEE",
    "wrapper_background": "#FFFFFF"
   },
   "moveMenuLeft": true,
   "nav_menu": {
    "height": "91.01562px",
    "width": "251.01562px"
   },
   "navigate_menu": true,
   "number_sections": true,
   "sideBar": true,
   "threshold": 4,
   "toc_cell": false,
   "toc_section_display": "block",
   "toc_window_display": false,
   "widenNotebook": false
  }
 },
 "nbformat": 4,
 "nbformat_minor": 2
}
