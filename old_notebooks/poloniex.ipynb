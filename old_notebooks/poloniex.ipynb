{
 "cells": [
  {
   "cell_type": "code",
   "execution_count": null,
   "metadata": {},
   "outputs": [],
   "source": [
    "%matplotlib inline\n",
    "%load_ext autoreload\n",
    "%autoreload 2\n",
    "from common import *\n",
    "import qgrid\n",
    "from clients.backtester import poloniex as px\n",
    "from clients.backtester import helpers\n",
    "from clients.backtester import gemini\n",
    "from clients.pypoloniex.pypoloniex import LoadPairs, TimeSeries"
   ]
  },
  {
   "cell_type": "markdown",
   "metadata": {},
   "source": [
    "## Data"
   ]
  },
  {
   "cell_type": "code",
   "execution_count": null,
   "metadata": {},
   "outputs": [],
   "source": [
    "# Well This is a big joke, the library at the bottom makes all these useless\n",
    "\n",
    "def get_ohlcv_fpath(market, coin, exchange, period):\n",
    "    fname = '{:s}_{:s}_{:s}_{:d}.csv'.format(\n",
    "        exchange, market, coin, period)\n",
    "    return os.path.join(cfg.DATA_DIR, fname)\n",
    "\n",
    "def download_absolute_prices(market, coin, exchange, period, start, end):\n",
    "    \"\"\"\n",
    "    market = base currency\n",
    "    start = '4/2/2014'       # dd/mm/year\n",
    "    end =  '11/2/2014'       # dd/mm/year\n",
    "    period = 86400           # candle stick period in seconds\n",
    "    \"\"\"\n",
    "    sess = TimeSeries()\n",
    "    pair = (market, coin)\n",
    "    sess.getData(pair, period, start, end)\n",
    "    sess.toCSV(get_ohlcv_fpath(market, coin, exchange, period))\n",
    "    return sess\n",
    "\n",
    "def download_relative_prices(market, coin, exchange, period, days_back=30, days_data=30):\n",
    "    \"\"\"\n",
    "    pair = \"USDT_BTC\"    # Use ETH pricing data on the BTC market\n",
    "    period = 1800       # Use 1800 second candles\n",
    "    daysBack = 30       # Grab data starting 30 days ago\n",
    "    daysData = 30       # From there collect 60 days of data\n",
    "    \"\"\"\n",
    "    pair = '{:s}_{:s}'.format(market, coin)\n",
    "    data = px.getPast(pair, period, days_back, days_data)\n",
    "    df = pd.DataFrame(data)\n",
    "    df['date'] = pd.to_datetime(df['date'], unit='s')\n",
    "    df.index = df['date']\n",
    "    df.drop('date', axis=1, inplace=True)\n",
    "\n",
    "    fpath = get_ohlcv_fpath(market, coin, exchange, period)\n",
    "    df.to_csv(fpath, index=True)\n",
    "    sess = TimeSeries()\n",
    "    sess.fromCSV(fpath)\n",
    "    return sess\n",
    "\n",
    "def load_historical_prices(market, coin, exchange, period):\n",
    "    sess = TimeSeries()\n",
    "    fpath = get_ohlcv_fpath(market, coin, exchange, period)\n",
    "    sess.fromCSV(fpath)\n",
    "    return sess\n",
    "\n",
    "## Cleaner\n",
    "\n",
    "def download_prices(market, coin, exchange, period):\n",
    "    #Params: String symbol, int frequency = 300,900,1800,7200,14400,86400\n",
    "    #Returns: df from first available date\n",
    "    ticker = '{:s}_{:s}'.format(market, coin)\n",
    "    url = ('https://poloniex.com/public?command=returnChartData&currencyPair=' \n",
    "           + ticker + '&end=9999999999&period=' + str(period) + '&start=0')\n",
    "    df = pd.read_json(url)\n",
    "    df.set_index('date', inplace=True)\n",
    "    fpath = get_ohlcv_fpath(market, coin, exchange, period)\n",
    "    df.to_csv(fpath, index=True)\n",
    "    print('Processed: ' + ticker, \"Rows: \", len(df))\n",
    "    return df    \n",
    "\n",
    "def load_prices(market, coin, exchange, period):\n",
    "    fpath = get_ohlcv_fpath(market, coin, exchange, period)\n",
    "    df = pd.read_csv(fpath, index_col = 'date')\n",
    "    df.dropna(inplace=True)\n",
    "    df['date'] = [datetime.datetime.strptime(t, '%Y-%m-%d %H:%M:%S') for t in df.index.values]\n",
    "    df = df.set_index('date')\n",
    "    return df\n",
    "\n",
    "def download_bulk_prices(market, coins, exchange, period):\n",
    "    for coin in coins:\n",
    "        print(\"Downloading\", coin)\n",
    "        df = download_prices(market, coin, exchange, period)\n",
    "\n",
    "def load_bulk_prices(market, coins, exchange, period):\n",
    "    df = pd.DataFrame()\n",
    "    for coin in coins:\n",
    "        ticker = '{:s}_{:s}'.format(market, coin)\n",
    "        df[ticker] = load_prices(market, coin, exchange, period)['close']\n",
    "    df.dropna(inplace=True)\n",
    "    return df"
   ]
  },
  {
   "cell_type": "code",
   "execution_count": null,
   "metadata": {},
   "outputs": [],
   "source": [
    "# Config\n",
    "coin = c.ETH\n",
    "market = c.BTC\n",
    "exchange = c.POLONIEX\n",
    "days_back = 30\n",
    "days_data = 30\n",
    "start_time = '1/1/2017'\n",
    "end_time = '1/1/2018'\n",
    "period = 1800"
   ]
  },
  {
   "cell_type": "code",
   "execution_count": null,
   "metadata": {},
   "outputs": [],
   "source": [
    "# Relative\n",
    "relative = download_relative_prices(market, coin, exchange, period, 30, 30)\n",
    "relative = load_historical_prices(market, coin, exchange, period)\n",
    "relative.data['close'].plot()"
   ]
  },
  {
   "cell_type": "code",
   "execution_count": null,
   "metadata": {},
   "outputs": [],
   "source": [
    "# Absolute\n",
    "absolute = download_absolute_prices(market, coin, exchange, period, start_time, end_time)\n",
    "absolute = load_historical_prices(market, coin, exchange, period)\n",
    "absolute.data['close'].plot()"
   ]
  },
  {
   "cell_type": "code",
   "execution_count": null,
   "metadata": {},
   "outputs": [],
   "source": [
    "# Download Bulk All Available Data\n",
    "coins = [c.LTC, c.ETH, c.XRP, c.XMR, c.DASH]\n",
    "tickers =  ['USDT_ETC','USDT_XMR','USDT_ETH','USDT_DASH',\n",
    " 'USDT_XRP','USDT_LTC','USDT_NXT','USDT_STR','USDT_REP','USDT_ZEC']\n",
    "coins = [t.split('_')[-1] for t in tickers]\n",
    "market = c.BTC\n",
    "download_bulk_prices(market, coins, exchange, period)"
   ]
  },
  {
   "cell_type": "code",
   "execution_count": null,
   "metadata": {},
   "outputs": [],
   "source": [
    "# Load Bulk Prices\n",
    "bulk_prices = load_bulk_prices(market, coins, exchange, period)\n",
    "bulk_prices.head()"
   ]
  },
  {
   "cell_type": "code",
   "execution_count": null,
   "metadata": {},
   "outputs": [],
   "source": [
    "# Check for missing timesteps\n",
    "def check_missing_timesteps(df, timestep):\n",
    "    start_time = df.index[0]\n",
    "    end_time = df.index[-1]\n",
    "    print(\"Start\", start_time)\n",
    "    print(\"End\", end_time)\n",
    "    last_time = start_time\n",
    "    n_missing = 0\n",
    "    for idx,row in df[1:].iterrows():\n",
    "        cur_time = idx\n",
    "        if cur_time != last_time + datetime.timedelta(seconds=timestep):\n",
    "            print(\"Expected:\", last_time + datetime.timedelta(seconds=timestep), \n",
    "                  \"| Time:\", cur_time)\n",
    "            n_missing += (cur_time - last_time).seconds//timestep\n",
    "        last_time = cur_time\n",
    "    return n_missing"
   ]
  },
  {
   "cell_type": "code",
   "execution_count": null,
   "metadata": {},
   "outputs": [],
   "source": [
    "#check_missing_timesteps(relative.data, period)\n",
    "#check_missing_timesteps(absolute.data, period)\n",
    "check_missing_timesteps(bulk_prices, period)"
   ]
  },
  {
   "cell_type": "markdown",
   "metadata": {},
   "source": [
    "## Explore"
   ]
  },
  {
   "cell_type": "code",
   "execution_count": null,
   "metadata": {},
   "outputs": [],
   "source": [
    "crypto_df = load_bulk_prices(market, coins, exchange, period)"
   ]
  },
  {
   "cell_type": "code",
   "execution_count": null,
   "metadata": {},
   "outputs": [],
   "source": [
    "crypto_df_norm = crypto_df.divide(crypto_df.iloc[0])\n",
    "crypto_df_pct = crypto_df.pct_change().dropna()\n",
    "corr = crypto_df_pct.corr()\n",
    "crypto_df_norm.plot(figsize=(18,8))"
   ]
  },
  {
   "cell_type": "code",
   "execution_count": null,
   "metadata": {},
   "outputs": [],
   "source": [
    "sns.heatmap(corr, \n",
    "            xticklabels=corr.columns.values,\n",
    "            yticklabels=corr.columns.values)"
   ]
  },
  {
   "cell_type": "code",
   "execution_count": null,
   "metadata": {},
   "outputs": [],
   "source": [
    "plt.scatter(crypto_df_pct[market+'_DASH'],crypto_df_pct[market+'_XMR'])"
   ]
  },
  {
   "cell_type": "code",
   "execution_count": null,
   "metadata": {},
   "outputs": [],
   "source": [
    "import statsmodels.api as sm\n",
    "model = sm.OLS(crypto_df_pct[market+'_XMR'],\n",
    "               crypto_df_pct[market+'_DASH']).fit()\n",
    "model.summary()"
   ]
  },
  {
   "cell_type": "code",
   "execution_count": null,
   "metadata": {},
   "outputs": [],
   "source": [
    "line=[model.params[0]*i for i in crypto_df_pct['USDT_DASH'].values]\n",
    "plt.plot(crypto_df_pct['USDT_DASH'], line, c = 'r')\n",
    "plt.scatter(crypto_df_pct['USDT_DASH'],crypto_df_pct['USDT_XMR'])\n",
    "plt.xlabel('USDT_DASH % Return')\n",
    "plt.ylabel('USDT_XMR % Return')"
   ]
  },
  {
   "cell_type": "code",
   "execution_count": null,
   "metadata": {},
   "outputs": [],
   "source": [
    "coin = c.LTC\n",
    "market = c.BTC\n",
    "exchange = c.POLONIEX\n",
    "period = 300\n",
    "df = download_prices(market, coin, exchange, period)"
   ]
  },
  {
   "cell_type": "code",
   "execution_count": null,
   "metadata": {},
   "outputs": [],
   "source": [
    "df[market+'_'+coin] = load_prices(market, coin, exchange, period)['close']\n",
    "df['SMA_1000'] = df['close'].rolling(1000).mean()\n",
    "df['SMA_5000'] = df['close'].rolling(5000).mean()\n",
    "df[['close','SMA_1000','SMA_5000']][270000:].plot(figsize = (16,10))"
   ]
  },
  {
   "cell_type": "code",
   "execution_count": null,
   "metadata": {},
   "outputs": [],
   "source": [
    "def test_ma(df, lead, lag, pc_thresh = 0.025):\n",
    "    ma_df = df.copy()\n",
    "    ma_df['lead'] = ma_df['close'].rolling(lead).mean()\n",
    "    ma_df['lag'] = ma_df['close'].rolling(lag).mean()\n",
    "    ma_df.dropna(inplace = True)\n",
    "    ma_df['lead-lag'] = ma_df['lead'] - ma_df['lag']\n",
    "    ma_df['pc_diff'] = ma_df['lead-lag'] / ma_df['close']\n",
    "    ma_df['regime'] = np.where(ma_df['pc_diff'] > pc_thresh, 1, 0)\n",
    "    ma_df['regime'] = np.where(ma_df['pc_diff'] < -pc_thresh, -1, ma_df['regime'])\n",
    "    ma_df['Market'] = np.log(ma_df['close'] / ma_df['close'].shift(1))\n",
    "    ma_df['Strategy'] = ma_df['regime'].shift(1) * ma_df['Market']\n",
    "    ma_df[['Market','Strategy']] = ma_df[['Market','Strategy']].cumsum().apply(np.exp)\n",
    "    return ma_df"
   ]
  },
  {
   "cell_type": "code",
   "execution_count": null,
   "metadata": {},
   "outputs": [],
   "source": [
    "ma_df = test_ma(df, 1000, 5000).dropna()\n",
    "ma_df['regime'].plot(figsize=(16,5))"
   ]
  },
  {
   "cell_type": "code",
   "execution_count": null,
   "metadata": {},
   "outputs": [],
   "source": [
    "ma_df[['Market','Strategy']].iloc[-1]"
   ]
  },
  {
   "cell_type": "code",
   "execution_count": null,
   "metadata": {},
   "outputs": [],
   "source": [
    "ma_df[['Market','Strategy']][200000:].plot(figsize = (16,10))"
   ]
  },
  {
   "cell_type": "code",
   "execution_count": null,
   "metadata": {},
   "outputs": [],
   "source": [
    "leads = np.arange(100, 4100, 100)\n",
    "lags = np.arange(4100, 8100, 100)\n",
    "lead_lags = [[lead,lag] for lead in leads for lag in lags]\n",
    "pnls = pd.DataFrame(index=lags,columns = leads)"
   ]
  },
  {
   "cell_type": "code",
   "execution_count": null,
   "metadata": {},
   "outputs": [],
   "source": [
    "for lead, lag in lead_lags:\n",
    "    pnls[lead][lag] = test_ma(df, lead, lag)['Strategy'][-1]\n",
    "    #print(lead,lag,pnls[lead][lag])"
   ]
  },
  {
   "cell_type": "code",
   "execution_count": null,
   "metadata": {},
   "outputs": [],
   "source": [
    "PNLs = pnls[pnls.columns].astype(float)\n",
    "plt.subplots(figsize = (14,10))\n",
    "sns.heatmap(PNLs, cmap='PiYG')\n",
    "#PNLs.max()"
   ]
  },
  {
   "cell_type": "code",
   "execution_count": null,
   "metadata": {},
   "outputs": [],
   "source": [
    "df.dropna().head()"
   ]
  },
  {
   "cell_type": "markdown",
   "metadata": {},
   "source": [
    "## API"
   ]
  },
  {
   "cell_type": "markdown",
   "metadata": {},
   "source": [
    "* https://poloniex.com/support/api/\n",
    "* https://pypi.python.org/pypi/poloniex\n",
    "* https://github.com/Aula13/poloniex\n",
    "* https://github.com/s4w3d0ff/python-poloniex\n",
    "* https://pastebin.com/fbkheaRb\n",
    "* https://github.com/timucin/cyrpto_trader/blob/master/cyripto_trader.py\n",
    "* https://github.com/s4w3d0ff/python-poloniex/blob/master/examples/chart/bokehPlotter.py (charts)\n",
    "\n",
    "Primary Reference:\n",
    "\n",
    "* https://github.com/s4w3d0ff/python-poloniex/blob/master/poloniex/__init__.py"
   ]
  },
  {
   "cell_type": "code",
   "execution_count": null,
   "metadata": {},
   "outputs": [],
   "source": [
    "from poloniex import Poloniex\n",
    "polo = Poloniex(cfg.POLONIEX_API_KEY, cfg.POLONIEX_API_SECRET_KEY)"
   ]
  },
  {
   "cell_type": "code",
   "execution_count": 83,
   "metadata": {},
   "outputs": [
    {
     "name": "stdout",
     "output_type": "stream",
     "text": [
      "{'id': 148, 'last': 0.05922985, 'lowestAsk': 0.05927996, 'highestBid': 0.05922985, 'percentChange': 0.09881004, 'baseVolume': 4793.86996323, 'quoteVolume': 85578.19441033, 'isFrozen': 0, 'high24hr': 0.05946706, 'low24hr': 0.05378583}\n",
      "[{'globalTradeID': 312150098, 'tradeID': 39263987, 'date': '2018-01-02 01:38:39', 'type': 'sell', 'rate': 0.05922985, 'amount': 6.39170071, 'total': 0.37857947}]\n",
      "{'BTC': 4793.86996323, 'ETH': 85578.19441033}\n"
     ]
    }
   ],
   "source": [
    "# Public\n",
    "currency_pair = 'BTC_ETH'\n",
    "ticker = polo.returnTicker()[currency_pair]\n",
    "print(ticker)\n",
    "\n",
    "trade_history = polo.returnTradeHistoryPublic(currency_pair)\n",
    "print(trade_history[:1])\n",
    "\n",
    "print(polo.return24hVolume()[currency_pair])"
   ]
  },
  {
   "cell_type": "code",
   "execution_count": 113,
   "metadata": {},
   "outputs": [],
   "source": [
    "# Prices\n",
    "\n",
    "def pair(market, coin):\n",
    "    return market+'_'+coin\n",
    "\n",
    "def fetch_chart_data(market, coin, period, start, end):\n",
    "    data = polo.returnChartData(pair(market,coin), period, start, end)\n",
    "    df = pd.DataFrame(data)\n",
    "    df['date'] = pd.to_datetime(df['date'], unit='s')\n",
    "    df.index = df['date']\n",
    "    df.drop('date', axis=1, inplace=True)\n",
    "    return df    \n",
    "\n",
    "def fetch_and_save_chart_data(market, coin, period, start, end):\n",
    "    print(\"Downloading:\", market, coin)\n",
    "    df = fetch_chart_data(market, coin, period, start, end)\n",
    "    fpath = get_ohlcv_fpath(market, coin, c.POLONIEX, period)\n",
    "    df.to_csv(fpath, index=True)\n",
    "    print(\"Downloaded rows:\", len(df))\n",
    "    return df\n",
    "\n",
    "def load_chart_data(market, coin, exchange, period):\n",
    "    fpath = get_ohlcv_fpath(market, coin, exchange, period)\n",
    "    df = pd.read_csv(fpath, index_col = 'date')\n",
    "    return df\n",
    "\n",
    "def download_ohlcv(market, coins, period):\n",
    "    for coin in coins:\n",
    "        _ = fetch_and_save_chart_data(market, coin, period, start, end)\n",
    "\n",
    "def load_currency_group_prices(market, coins, exchange, period):\n",
    "    df = pd.DataFrame()\n",
    "    for coin in coins:\n",
    "        ticker = '{:s}_{:s}'.format(market, coin)\n",
    "        df[ticker] = load_chart_data(market, coin, exchange, period)['close']\n",
    "    df.dropna(inplace=True)\n",
    "    return df"
   ]
  },
  {
   "cell_type": "code",
   "execution_count": 111,
   "metadata": {},
   "outputs": [],
   "source": [
    "# Get historical data\n",
    "coins = [c.BTC, c.LTC, c.ETH, c.XRP, c.XMR, c.DASH]\n",
    "market = c.USDT\n",
    "coin = c.ETH\n",
    "period = 1800\n",
    "start = datetime.datetime(year=2015, month=9, day=1).timestamp()\n",
    "end = datetime.datetime(year=2018, month=1, day=1).timestamp()"
   ]
  },
  {
   "cell_type": "code",
   "execution_count": 109,
   "metadata": {},
   "outputs": [
    {
     "name": "stdout",
     "output_type": "stream",
     "text": [
      "Downloading:  BTC ETH\n",
      "Downloaded rows: 40947\n"
     ]
    },
    {
     "data": {
      "text/html": [
       "<div>\n",
       "<style>\n",
       "    .dataframe thead tr:only-child th {\n",
       "        text-align: right;\n",
       "    }\n",
       "\n",
       "    .dataframe thead th {\n",
       "        text-align: left;\n",
       "    }\n",
       "\n",
       "    .dataframe tbody tr th {\n",
       "        vertical-align: top;\n",
       "    }\n",
       "</style>\n",
       "<table border=\"1\" class=\"dataframe\">\n",
       "  <thead>\n",
       "    <tr style=\"text-align: right;\">\n",
       "      <th></th>\n",
       "      <th>close</th>\n",
       "      <th>high</th>\n",
       "      <th>low</th>\n",
       "      <th>open</th>\n",
       "      <th>quoteVolume</th>\n",
       "      <th>volume</th>\n",
       "      <th>weightedAverage</th>\n",
       "    </tr>\n",
       "    <tr>\n",
       "      <th>date</th>\n",
       "      <th></th>\n",
       "      <th></th>\n",
       "      <th></th>\n",
       "      <th></th>\n",
       "      <th></th>\n",
       "      <th></th>\n",
       "      <th></th>\n",
       "    </tr>\n",
       "  </thead>\n",
       "  <tbody>\n",
       "    <tr>\n",
       "      <th>2015-09-01 07:00:00</th>\n",
       "      <td>0.005956</td>\n",
       "      <td>0.005960</td>\n",
       "      <td>0.005910</td>\n",
       "      <td>0.005940</td>\n",
       "      <td>762.534086</td>\n",
       "      <td>4.518152</td>\n",
       "      <td>0.005925</td>\n",
       "    </tr>\n",
       "    <tr>\n",
       "      <th>2015-09-01 07:30:00</th>\n",
       "      <td>0.005901</td>\n",
       "      <td>0.005979</td>\n",
       "      <td>0.005901</td>\n",
       "      <td>0.005925</td>\n",
       "      <td>2965.341116</td>\n",
       "      <td>17.610972</td>\n",
       "      <td>0.005939</td>\n",
       "    </tr>\n",
       "    <tr>\n",
       "      <th>2015-09-01 08:00:00</th>\n",
       "      <td>0.005956</td>\n",
       "      <td>0.005957</td>\n",
       "      <td>0.005880</td>\n",
       "      <td>0.005940</td>\n",
       "      <td>1677.445981</td>\n",
       "      <td>9.922877</td>\n",
       "      <td>0.005915</td>\n",
       "    </tr>\n",
       "    <tr>\n",
       "      <th>2015-09-01 08:30:00</th>\n",
       "      <td>0.005900</td>\n",
       "      <td>0.005955</td>\n",
       "      <td>0.005897</td>\n",
       "      <td>0.005955</td>\n",
       "      <td>126.649142</td>\n",
       "      <td>0.750902</td>\n",
       "      <td>0.005929</td>\n",
       "    </tr>\n",
       "    <tr>\n",
       "      <th>2015-09-01 09:00:00</th>\n",
       "      <td>0.005939</td>\n",
       "      <td>0.005940</td>\n",
       "      <td>0.005898</td>\n",
       "      <td>0.005901</td>\n",
       "      <td>2118.748940</td>\n",
       "      <td>12.522945</td>\n",
       "      <td>0.005911</td>\n",
       "    </tr>\n",
       "  </tbody>\n",
       "</table>\n",
       "</div>"
      ],
      "text/plain": [
       "                        close      high       low      open  quoteVolume  \\\n",
       "date                                                                       \n",
       "2015-09-01 07:00:00  0.005956  0.005960  0.005910  0.005940   762.534086   \n",
       "2015-09-01 07:30:00  0.005901  0.005979  0.005901  0.005925  2965.341116   \n",
       "2015-09-01 08:00:00  0.005956  0.005957  0.005880  0.005940  1677.445981   \n",
       "2015-09-01 08:30:00  0.005900  0.005955  0.005897  0.005955   126.649142   \n",
       "2015-09-01 09:00:00  0.005939  0.005940  0.005898  0.005901  2118.748940   \n",
       "\n",
       "                        volume  weightedAverage  \n",
       "date                                             \n",
       "2015-09-01 07:00:00   4.518152         0.005925  \n",
       "2015-09-01 07:30:00  17.610972         0.005939  \n",
       "2015-09-01 08:00:00   9.922877         0.005915  \n",
       "2015-09-01 08:30:00   0.750902         0.005929  \n",
       "2015-09-01 09:00:00  12.522945         0.005911  "
      ]
     },
     "execution_count": 109,
     "metadata": {},
     "output_type": "execute_result"
    }
   ],
   "source": [
    "#df = fetch_chart_data(market, coin, period, start, end)\n",
    "df = fetch_and_save_chart_data(market, coin, period, start, end)\n",
    "df = load_chart_data(market, coin, c.POLONIEX, period)\n",
    "df.head()"
   ]
  },
  {
   "cell_type": "code",
   "execution_count": 112,
   "metadata": {},
   "outputs": [
    {
     "name": "stdout",
     "output_type": "stream",
     "text": [
      "Downloading BTC\n",
      "Downloading:  USDT BTC\n",
      "Downloaded rows: 40947\n",
      "Downloading LTC\n",
      "Downloading:  USDT LTC\n",
      "Downloaded rows: 40947\n",
      "Downloading ETH\n",
      "Downloading:  USDT ETH\n",
      "Downloaded rows: 40947\n",
      "Downloading XRP\n",
      "Downloading:  USDT XRP\n",
      "Downloaded rows: 40947\n",
      "Downloading XMR\n",
      "Downloading:  USDT XMR\n",
      "Downloaded rows: 40947\n",
      "Downloading DASH\n",
      "Downloading:  USDT DASH\n",
      "Downloaded rows: 40947\n"
     ]
    }
   ],
   "source": [
    "download_ohlcv(market, coins, period)"
   ]
  },
  {
   "cell_type": "code",
   "execution_count": 114,
   "metadata": {},
   "outputs": [
    {
     "data": {
      "text/html": [
       "<div>\n",
       "<style>\n",
       "    .dataframe thead tr:only-child th {\n",
       "        text-align: right;\n",
       "    }\n",
       "\n",
       "    .dataframe thead th {\n",
       "        text-align: left;\n",
       "    }\n",
       "\n",
       "    .dataframe tbody tr th {\n",
       "        vertical-align: top;\n",
       "    }\n",
       "</style>\n",
       "<table border=\"1\" class=\"dataframe\">\n",
       "  <thead>\n",
       "    <tr style=\"text-align: right;\">\n",
       "      <th></th>\n",
       "      <th>USDT_BTC</th>\n",
       "      <th>USDT_LTC</th>\n",
       "      <th>USDT_ETH</th>\n",
       "      <th>USDT_XRP</th>\n",
       "      <th>USDT_XMR</th>\n",
       "      <th>USDT_DASH</th>\n",
       "    </tr>\n",
       "    <tr>\n",
       "      <th>date</th>\n",
       "      <th></th>\n",
       "      <th></th>\n",
       "      <th></th>\n",
       "      <th></th>\n",
       "      <th></th>\n",
       "      <th></th>\n",
       "    </tr>\n",
       "  </thead>\n",
       "  <tbody>\n",
       "    <tr>\n",
       "      <th>2015-09-01 07:00:00</th>\n",
       "      <td>226.11</td>\n",
       "      <td>2.469939</td>\n",
       "      <td>1.34</td>\n",
       "      <td>0.005508</td>\n",
       "      <td>0.490133</td>\n",
       "      <td>2.699994</td>\n",
       "    </tr>\n",
       "    <tr>\n",
       "      <th>2015-09-01 07:30:00</th>\n",
       "      <td>226.11</td>\n",
       "      <td>2.469939</td>\n",
       "      <td>1.34</td>\n",
       "      <td>0.009536</td>\n",
       "      <td>0.490133</td>\n",
       "      <td>2.699994</td>\n",
       "    </tr>\n",
       "    <tr>\n",
       "      <th>2015-09-01 08:00:00</th>\n",
       "      <td>226.11</td>\n",
       "      <td>2.469939</td>\n",
       "      <td>1.34</td>\n",
       "      <td>0.009536</td>\n",
       "      <td>0.490133</td>\n",
       "      <td>2.699994</td>\n",
       "    </tr>\n",
       "    <tr>\n",
       "      <th>2015-09-01 08:30:00</th>\n",
       "      <td>226.11</td>\n",
       "      <td>2.469939</td>\n",
       "      <td>1.34</td>\n",
       "      <td>0.009536</td>\n",
       "      <td>0.490133</td>\n",
       "      <td>2.699994</td>\n",
       "    </tr>\n",
       "    <tr>\n",
       "      <th>2015-09-01 09:00:00</th>\n",
       "      <td>229.50</td>\n",
       "      <td>2.469939</td>\n",
       "      <td>1.34</td>\n",
       "      <td>0.009536</td>\n",
       "      <td>0.490133</td>\n",
       "      <td>2.699994</td>\n",
       "    </tr>\n",
       "  </tbody>\n",
       "</table>\n",
       "</div>"
      ],
      "text/plain": [
       "                     USDT_BTC  USDT_LTC  USDT_ETH  USDT_XRP  USDT_XMR  \\\n",
       "date                                                                    \n",
       "2015-09-01 07:00:00    226.11  2.469939      1.34  0.005508  0.490133   \n",
       "2015-09-01 07:30:00    226.11  2.469939      1.34  0.009536  0.490133   \n",
       "2015-09-01 08:00:00    226.11  2.469939      1.34  0.009536  0.490133   \n",
       "2015-09-01 08:30:00    226.11  2.469939      1.34  0.009536  0.490133   \n",
       "2015-09-01 09:00:00    229.50  2.469939      1.34  0.009536  0.490133   \n",
       "\n",
       "                     USDT_DASH  \n",
       "date                            \n",
       "2015-09-01 07:00:00   2.699994  \n",
       "2015-09-01 07:30:00   2.699994  \n",
       "2015-09-01 08:00:00   2.699994  \n",
       "2015-09-01 08:30:00   2.699994  \n",
       "2015-09-01 09:00:00   2.699994  "
      ]
     },
     "execution_count": 114,
     "metadata": {},
     "output_type": "execute_result"
    }
   ],
   "source": [
    "df = load_currency_group_prices(market, coins, c.POLONIEX, period)\n",
    "df.head()"
   ]
  },
  {
   "cell_type": "code",
   "execution_count": null,
   "metadata": {},
   "outputs": [],
   "source": [
    "# Private\n",
    "\n",
    "print(polo.returnBalances())\n",
    "print(polo.returnTradableBalances())\n",
    "print(polo.returnTradeHistory())\n",
    "print(polo.returnOpenOrders(currencyPair='all'))\n",
    "print(polo.returnFeeInfo())\n",
    "print(polo.returnAvailableAccountBalances())\n",
    "print(polo.returnMarginAccountSummary())"
   ]
  },
  {
   "cell_type": "code",
   "execution_count": null,
   "metadata": {},
   "outputs": [],
   "source": [
    "# Trading\n",
    "# https://github.com/timucin/cyrpto_trader/blob/master/cyripto_trader.py\n",
    "resp = polo.buy(pair, rate, amount, fillOrKill=None,\n",
    "                immediateOrCancel=None, postOnly=None)\n",
    "print(resp)\n",
    "\n",
    "resp = polo.sell(pair, rate, amount, fillOrKill=None,\n",
    "                 immediateOrCancel=None, postOnly=None)\n",
    "print(resp)"
   ]
  },
  {
   "cell_type": "code",
   "execution_count": null,
   "metadata": {},
   "outputs": [],
   "source": [
    "# Manage orders\n",
    "resp = polo.cancelOrder(orderNumber)\n",
    "print(resp)\n",
    "\n",
    "resp = polo.moveOrder(orderNumber, rate, amount=None, \n",
    "                      postOnly=None, immediateOrCancel=None)\n",
    "print(resp)\n",
    "resp = polo.transferBalance(currency, amount, fromAccount, toAccount)\n",
    "print(resp)"
   ]
  },
  {
   "cell_type": "code",
   "execution_count": null,
   "metadata": {},
   "outputs": [],
   "source": [
    "# Margin Trading\n",
    "resp = polo.marginBuy(currencyPair, rate, amount, lendingRate)\n",
    "print(resp)\n",
    "\n",
    "resp = polo.marginSell(currencyPair, rate, amount, lendingRate)\n",
    "print(resp)\n",
    "\n",
    "print(polo.getMarginPosition(currencyPair))\n",
    "print(polo.closeMarginPosition(currencyPair))"
   ]
  },
  {
   "cell_type": "code",
   "execution_count": null,
   "metadata": {},
   "outputs": [],
   "source": []
  }
 ],
 "metadata": {
  "kernelspec": {
   "display_name": "Python 3",
   "language": "python",
   "name": "python3"
  },
  "language_info": {
   "codemirror_mode": {
    "name": "ipython",
    "version": 3
   },
   "file_extension": ".py",
   "mimetype": "text/x-python",
   "name": "python",
   "nbconvert_exporter": "python",
   "pygments_lexer": "ipython3",
   "version": "3.6.0"
  },
  "latex_envs": {
   "LaTeX_envs_menu_present": true,
   "autocomplete": true,
   "bibliofile": "biblio.bib",
   "cite_by": "apalike",
   "current_citInitial": 1,
   "eqLabelWithNumbers": true,
   "eqNumInitial": 1,
   "hotkeys": {
    "equation": "Ctrl-E",
    "itemize": "Ctrl-I"
   },
   "labels_anchors": false,
   "latex_user_defs": false,
   "report_style_numbering": false,
   "user_envs_cfg": false
  },
  "toc": {
   "colors": {
    "hover_highlight": "#DAA520",
    "navigate_num": "#000000",
    "navigate_text": "#333333",
    "running_highlight": "#FF0000",
    "selected_highlight": "#FFD700",
    "sidebar_border": "#EEEEEE",
    "wrapper_background": "#FFFFFF"
   },
   "moveMenuLeft": true,
   "nav_menu": {
    "height": "71px",
    "width": "254px"
   },
   "navigate_menu": true,
   "number_sections": true,
   "sideBar": true,
   "threshold": 4,
   "toc_cell": false,
   "toc_section_display": "block",
   "toc_window_display": false,
   "widenNotebook": false
  }
 },
 "nbformat": 4,
 "nbformat_minor": 2
}
