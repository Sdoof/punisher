{
 "cells": [
  {
   "cell_type": "code",
   "execution_count": null,
   "metadata": {},
   "outputs": [],
   "source": [
    "%matplotlib inline\n",
    "%load_ext autoreload\n",
    "%autoreload 2\n",
    "from common import *\n",
    "import qgrid"
   ]
  },
  {
   "cell_type": "markdown",
   "metadata": {},
   "source": [
    "## Download"
   ]
  },
  {
   "cell_type": "code",
   "execution_count": null,
   "metadata": {},
   "outputs": [],
   "source": [
    "# https://github.com/Crypto-AI/Poloniexport\n",
    "# https://market.mashape.com/BraveNewCoin/digital-currency-ex-rates#mwa-historic-exchange-rates\n",
    "# https://bravenewcoin.com/api/digital-currency-exchange-rates/\n",
    "# http://docs.python-requests.org/en/master/user/quickstart/ \n",
    "\n",
    "# Coins\n",
    "# BTC start = 1396328100 - datetime.datetime(2014, 3, 31, 21, 55)\n",
    "# ETH start = 1439011500 - datetime.datetime(2015, 8, 7, 22, 25)\n",
    "# LTC start = 1396344000 - datetime.datetime(2014, 4, 1, 2, 20)\n",
    "# XRP start = 1397010900 - datetime.datetime(2014, 4, 8, 19, 35)\n",
    "\n",
    "# Meta\n",
    "# columns = ['timestamp', 'index', 'volume', 'index_usd', 'volume_usd']\n",
    "# Returns 1000 rows? Multiple days worth of data...\n",
    "# 230 requests for 2 years of 5-min data?\n",
    "# Looks like they fill in missing data with previous known price\n",
    "# They have 0 volume days"
   ]
  },
  {
   "cell_type": "code",
   "execution_count": null,
   "metadata": {
    "scrolled": false
   },
   "outputs": [],
   "source": [
    "def write_to_df(data, fpath, columns):\n",
    "    if os.path.exists(fpath):\n",
    "        df = pd.read_csv(fpath)\n",
    "        data = pd.DataFrame(data, columns=columns)\n",
    "        df.set_index(columns[0])\n",
    "        df = pd.concat([df, data]).drop_duplicates().reset_index(drop=True)\n",
    "    else:\n",
    "        df = pd.DataFrame(data, columns=columns)\n",
    "        df.set_index(columns[0])\n",
    "    df.to_csv(fpath, index=False)\n",
    "    return df\n",
    "\n",
    "def get_bnc_data(coin, fiat, start_time, end_time):\n",
    "    url = cfg.BNC_ENDPOINT + '/mwa-historic'\n",
    "    params = {\n",
    "        'coin': coin,\n",
    "        'market': fiat,\n",
    "        'from': round(start_time.timestamp()),\n",
    "        'to': round(end_time.timestamp())\n",
    "    }\n",
    "    headers = {\n",
    "        \"X-Mashape-Key\": cfg.BNC_API_KEY,\n",
    "        \"Accept\": \"application/json\"\n",
    "    }\n",
    "    r = requests.get(url, headers=headers, params=params)\n",
    "    data = r.json()['data']\n",
    "    data = np.array(data).astype(float)\n",
    "    return data\n",
    "\n",
    "def get_all_data(coin, fiat, start_utc, end_utc, timesteps_per_request, timestep_sec, outfpath):\n",
    "    start_time = datetime.datetime.strptime(\n",
    "        start_utc, '%Y-%m-%dT%H:%M:%SZ')#.astimezone(datetime.timezone.utc)\n",
    "    end_time = datetime.datetime.strptime(\n",
    "        end_utc, '%Y-%m-%dT%H:%M:%SZ')#.astimezone(datetime.timezone.utc)\n",
    "    cur_time = start_time\n",
    "    timerange_delta = datetime.timedelta(\n",
    "        seconds=timesteps_per_request*timestep_sec)\n",
    "    timestep_delta = datetime.timedelta(seconds=timestep_sec)\n",
    "    n_records = 0\n",
    "    retry = 0\n",
    "    while cur_time < end_time and retry < 10:\n",
    "        try:\n",
    "            data = get_bnc_data(coin, fiat, cur_time, cur_time+timerange_delta)\n",
    "            last_time = datetime.datetime.fromtimestamp(np.max(data[:,0]))\n",
    "            if last_time < cur_time:\n",
    "                break\n",
    "            print(\"Records\", n_records, \"Start:\", cur_time, \"End:\", last_time)\n",
    "            cur_time = last_time + timestep_delta\n",
    "            df = write_to_df(data, outfpath, BNC_PRICE_COLUMNS)\n",
    "            n_records += len(data)\n",
    "            retry = 0\n",
    "        except Exception as e:\n",
    "            retry += 1\n",
    "            print(\"Error! Retrying!\", e)\n",
    "            traceback.print_exc()\n",
    "        finally:\n",
    "            time.sleep(1)\n",
    "    return df"
   ]
  },
  {
   "cell_type": "code",
   "execution_count": null,
   "metadata": {},
   "outputs": [],
   "source": [
    "BNC_PRICE_COLUMNS = ['timestamp', 'price_coin', 'volume_coin', 'price_fiat', 'volume_fiat']\n",
    "BNC_EXCHANGE_RATE_ENDPOINT = 'https://bravenewcoin-mwa-historic-v1.p.mashape.com/mwa-historic'\n",
    "COIN = c.BTC\n",
    "FIAT = c.USD\n",
    "START_UTC = '2015-08-08T00:00:00Z'\n",
    "END_UTC = '2017-12-31T00:00:00Z'\n",
    "TIMESTEP_INTERVAL = 300 # 5 minutes\n",
    "TIMESTEPS_PER_REQUEST = 1000 \n",
    "EXCHANGE = c.BNC\n",
    "PRICE_FNAME = '{:s}_{:s}_{:d}.csv'.format(EXCHANGE, COIN+'-'+FIAT, TIMESTEP_INTERVAL)\n",
    "PRICE_FPATH = os.path.join(cfg.DATA_DIR, PRICE_FNAME)"
   ]
  },
  {
   "cell_type": "code",
   "execution_count": null,
   "metadata": {},
   "outputs": [],
   "source": [
    "get_bnc_data(c.BTC, c.USD, \n",
    "             datetime.datetime.fromtimestamp(1396328100), \n",
    "             datetime.datetime.fromtimestamp(1396329100))"
   ]
  },
  {
   "cell_type": "code",
   "execution_count": null,
   "metadata": {
    "scrolled": false
   },
   "outputs": [],
   "source": [
    "df = get_all_data(COIN, FIAT, START_UTC, END_UTC, TIMESTEPS_PER_REQUEST, TIMESTEP_INTERVAL, PRICE_FPATH)"
   ]
  },
  {
   "cell_type": "code",
   "execution_count": null,
   "metadata": {},
   "outputs": [],
   "source": [
    "# BTC\n",
    "PRICE_FNAME = '{:s}_{:s}_{:d}.csv'.format(EXCHANGE, c.BTC+'-'+FIAT, TIMESTEP_INTERVAL)\n",
    "PRICE_FPATH = os.path.join(cfg.DATA_DIR, PRICE_FNAME)\n",
    "df = get_all_data(c.BTC, FIAT, START_UTC, END_UTC, TIMESTEPS_PER_REQUEST, TIMESTEP_INTERVAL, PRICE_FPATH)"
   ]
  },
  {
   "cell_type": "code",
   "execution_count": null,
   "metadata": {},
   "outputs": [],
   "source": [
    "# ETH\n",
    "PRICE_FNAME = '{:s}_{:s}_{:d}.csv'.format(EXCHANGE, c.ETH+'-'+FIAT, TIMESTEP_INTERVAL)\n",
    "PRICE_FPATH = os.path.join(cfg.DATA_DIR, PRICE_FNAME)\n",
    "df = get_all_data(c.ETH, FIAT, START_UTC, END_UTC, TIMESTEPS_PER_REQUEST, TIMESTEP_INTERVAL, PRICE_FPATH)"
   ]
  },
  {
   "cell_type": "code",
   "execution_count": null,
   "metadata": {
    "scrolled": false
   },
   "outputs": [],
   "source": [
    "# LTC\n",
    "PRICE_FNAME = '{:s}_{:s}_{:d}.csv'.format(EXCHANGE, c.LTC+'-'+FIAT, TIMESTEP_INTERVAL)\n",
    "PRICE_FPATH = os.path.join(cfg.DATA_DIR, PRICE_FNAME)\n",
    "df = get_all_data(c.LTC, FIAT, START_UTC, END_UTC, TIMESTEPS_PER_REQUEST, TIMESTEP_INTERVAL, PRICE_FPATH)"
   ]
  },
  {
   "cell_type": "code",
   "execution_count": null,
   "metadata": {},
   "outputs": [],
   "source": [
    "# XRP\n",
    "PRICE_FNAME = '{:s}_{:s}_{:d}.csv'.format(EXCHANGE, c.XRP+'-'+FIAT, TIMESTEP_INTERVAL)\n",
    "PRICE_FPATH = os.path.join(cfg.DATA_DIR, PRICE_FNAME)\n",
    "df = get_all_data(c.XRP, FIAT, START_UTC, END_UTC, TIMESTEPS_PER_REQUEST, TIMESTEP_INTERVAL, PRICE_FPATH)"
   ]
  },
  {
   "cell_type": "markdown",
   "metadata": {},
   "source": [
    "## Load CSV"
   ]
  },
  {
   "cell_type": "code",
   "execution_count": null,
   "metadata": {},
   "outputs": [],
   "source": [
    "# https://github.com/bfortuner/computer-vision/blob/master/applied/libraries/PandasQuickstart.ipynb\n",
    "\n",
    "def get_price_fpath(coin, fiat, exchange, timestep):\n",
    "    fname = '{:s}_{:s}_{:d}.csv'.format(exchange, coin+'-'+fiat, timestep)\n",
    "    return os.path.join(cfg.DATA_DIR, fname)\n",
    "\n",
    "def insert_fiat_title(columns, fiat):\n",
    "    for i in range(len(columns)):\n",
    "        columns[i].replace('fiat', fiat)\n",
    "    return columns\n",
    "\n",
    "def format_bnc_exchange_rate_data(df):\n",
    "    df = df.rename(index=str, columns={\"price_fiat\": \"price\", \"volume_fiat\": \"volume\"})\n",
    "    df = df.drop(labels=['price_coin', 'volume_coin'], axis=1)\n",
    "    for col in df.columns:\n",
    "        df[col] = np.round(df[col].values, 5)\n",
    "    df['timestamp'] = df['timestamp'].values.astype(int)\n",
    "    df['volume'] = df['volume'].values.astype(int)\n",
    "    df.sort_values(by='timestamp', ascending=True, inplace=True)\n",
    "    df = df.set_index('timestamp')\n",
    "    return df\n",
    "\n",
    "def load_bnc_exchange_rate_data(fpath):\n",
    "    df = pd.read_csv(fpath)\n",
    "    df = format_bnc_exchange_rate_data(df)\n",
    "    return df\n",
    "\n",
    "def load_price_df(coin, fiat, exchange, timestep, loader):\n",
    "    fpath = get_price_fpath(coin, fiat, exchange, timestep)\n",
    "    df = loader(fpath)\n",
    "    return df\n",
    "\n",
    "def join_price_dfs(dfs, coins):\n",
    "    combo = None\n",
    "    for i in range(len(dfs)):\n",
    "        dfs[i].columns = [c + '_' + coins[i] for c in dfs[i].columns]\n",
    "        if combo is None:\n",
    "            combo = dfs[i].copy()\n",
    "        else:\n",
    "            combo = combo.join(dfs[i].copy(), sort=True)\n",
    "    epochsec = [datetime.datetime.fromtimestamp(t) for t in combo.index.values]\n",
    "    combo = combo.assign(utc = epochsec)\n",
    "    combo.sort_values(by='utc', ascending=True, inplace=True)\n",
    "    return combo\n",
    "\n",
    "def load_prices(coins, fiat, exchange, timestep_sec, loader):\n",
    "    dfs = []\n",
    "    for coin in coins:\n",
    "        df = load_price_df(coin, fiat, exchange, timestep_sec, loader)\n",
    "        dfs.append(df)\n",
    "    combined = join_price_dfs(dfs, coins)\n",
    "    return combined"
   ]
  },
  {
   "cell_type": "code",
   "execution_count": null,
   "metadata": {},
   "outputs": [],
   "source": [
    "btc_df = load_price_df(c.BTC, c.USD, c.BNC, 300, load_bnc_exchange_rate_data)\n",
    "eth_df = load_price_df(c.ETH, c.USD, c.BNC, 300, load_bnc_exchange_rate_data)\n",
    "ltc_df = load_price_df(c.LTC, c.USD, c.BNC, 300, load_bnc_exchange_rate_data)"
   ]
  },
  {
   "cell_type": "code",
   "execution_count": null,
   "metadata": {},
   "outputs": [],
   "source": [
    "price_df = load_prices(coins=[c.BTC, c.ETH, c.LTC], fiat=c.USD, exchange=c.BNC, \n",
    "                       timestep_sec=300, loader=load_bnc_exchange_rate_data)\n",
    "price_df.head()"
   ]
  },
  {
   "cell_type": "code",
   "execution_count": null,
   "metadata": {},
   "outputs": [],
   "source": [
    "# Null Handling \n",
    "price_df.isnull().sum()                            #Show # of null values in each Column\n",
    "\n",
    "# df3[df3.Age.isnull()][['Name','Age']]         #Show rows where Age is null\n",
    "# df3.isnull()                                  #Return True/False if cell is null\n",
    "# df3.fillna(value={\"Cabin\":\"DEFAULT_CABIN\"})   #Set null values in column to default value \n",
    "# df3.dropna(how='any')                         #Drop rows with missing data in ANY cell\n",
    "# df3.fillna(value=\"DEFAULT\").head(2)           #Fill cells missing data w 5"
   ]
  },
  {
   "cell_type": "code",
   "execution_count": null,
   "metadata": {},
   "outputs": [],
   "source": [
    "# Check for missing timesteps\n",
    "def check_missing_timesteps(df, timestep):\n",
    "    df = df.sort_values(by='utc')\n",
    "    start_time = df.iloc[0]['utc']\n",
    "    end_time = df.iloc[-1]['utc']\n",
    "    print(\"Start\", start_time)\n",
    "    print(\"End\", end_time)\n",
    "    last_time = start_time\n",
    "    n_missing = 0\n",
    "    for idx,row in df[1:].iterrows():\n",
    "        cur_time = row['utc']\n",
    "        if cur_time != last_time + datetime.timedelta(seconds=timestep):\n",
    "            print(\"Expected:\", last_time + datetime.timedelta(seconds=timestep), \n",
    "                  \"| Time:\", cur_time)\n",
    "            n_missing += (cur_time - last_time).seconds//timestep\n",
    "        last_time = cur_time\n",
    "    return n_missing\n",
    "\n",
    "check_missing_timesteps(price_df, 300)"
   ]
  },
  {
   "cell_type": "markdown",
   "metadata": {},
   "source": [
    "## Plot"
   ]
  },
  {
   "cell_type": "code",
   "execution_count": null,
   "metadata": {},
   "outputs": [],
   "source": [
    "# https://github.com/quantopian/qgrid\n",
    "# https://hub.mybinder.org/user/quantopian-qgrid-notebooks-bu5joi0d/notebooks/index.ipynb\n",
    "# https://ipywidgets.readthedocs.io/en/stable/examples/Widget%20Basics.html\n",
    "\n",
    "qgrid_widget = qgrid.QgridWidget(df=price_df, show_toolbar=False)\n",
    "qgrid_widget\n",
    "#qgrid_widget.get_changed_df()"
   ]
  },
  {
   "cell_type": "code",
   "execution_count": null,
   "metadata": {},
   "outputs": [],
   "source": [
    "def plot_prices(time, close, title=\"Price\"):\n",
    "    fig, ax = plt.subplots()\n",
    "    ax.plot(time, close)\n",
    "\n",
    "    years = mdates.YearLocator()   # every year\n",
    "    months = mdates.MonthLocator()  # every month\n",
    "    yearsFmt = mdates.DateFormatter('%Y')\n",
    "    monthsFmt = mdates.DateFormatter('%m')\n",
    "    ax.xaxis.set_major_locator(years)\n",
    "    ax.xaxis.set_major_formatter(yearsFmt)\n",
    "    ax.xaxis.set_minor_locator(months)\n",
    "    ax.xaxis.set_minor_formatter(monthsFmt)\n",
    "\n",
    "    # datemin = datetime.date(r.date.min().year, 1, 1)\n",
    "    # datemax = datetime.date(r.date.max().year + 1, 1, 1)\n",
    "    # ax.set_xlim(datemin, datemax)\n",
    "\n",
    "    # # format the coords message box\n",
    "    # def price(x):\n",
    "    #     return '$%1.2f' % x\n",
    "    # ax.format_xdata = mdates.DateFormatter('%Y-%m-%d')\n",
    "    # ax.format_ydata = price\n",
    "    ax.grid(True)\n",
    "\n",
    "    # rotates and right aligns the x labels, and moves the bottom of the\n",
    "    # axes up to make room for them\n",
    "    fig.autofmt_xdate(rotation=30)\n",
    "    fig.set_size_inches(12,6)\n",
    "    plt.title(title)\n",
    "    plt.show()\n",
    "\n",
    "def plot_range(df, start, end, y_name):\n",
    "    df = df[ (df['utc'] >= start) & (df['utc'] < end) ]\n",
    "    vals = df[['utc', y_name]].values\n",
    "    plot_prices(vals[:,0], vals[:,1], title=y_name)"
   ]
  },
  {
   "cell_type": "code",
   "execution_count": null,
   "metadata": {},
   "outputs": [],
   "source": [
    "vals = price_df[['utc','price_BTC']].values\n",
    "plot_prices(vals[:,0], vals[:,1], 'BTC-USD')\n",
    "vals = price_df[['utc','price_ETH']].values\n",
    "plot_prices(vals[:,0], vals[:,1], 'ETH-USD')\n",
    "vals = price_df[['utc','price_LTC']].values\n",
    "plot_prices(vals[:,0], vals[:,1], 'LTC-USD')\n",
    "\n",
    "start = datetime.datetime(2017, 4, 15, 12, 0)\n",
    "end = datetime.datetime(2017, 8, 15, 16, 10)\n",
    "plot_range(price_df, start, end, 'price_BTC')"
   ]
  },
  {
   "cell_type": "markdown",
   "metadata": {
    "heading_collapsed": true
   },
   "source": [
    "### Bin"
   ]
  },
  {
   "cell_type": "code",
   "execution_count": null,
   "metadata": {
    "hidden": true
   },
   "outputs": [],
   "source": [
    "def get_binned_prices(df, bin_size='30T'):\n",
    "    # https://stackoverflow.com/questions/17001389/pandas-resample-documentation\n",
    "    # http://benalexkeen.com/resampling-time-series-data-with-pandas/\n",
    "    # price_df.resample(rule='30T').ohlc() - (open, high, low, close)\n",
    "    \n",
    "    df = df.set_index('utc')\n",
    "    columns = df.columns\n",
    "    binned = pd.DataFrame()\n",
    "    for col in columns:\n",
    "        if 'price' in col:\n",
    "            binned['open_' + col] = df[col].resample(rule=bin_size).first().round(5)\n",
    "            binned['close_' + col] = df[col].resample(rule=bin_size).last().round(5)\n",
    "            binned['high_' + col] = df[col].resample(rule=bin_size).max().round(5)\n",
    "            binned['low_' + col] = df[col].resample(rule=bin_size).min().round(5)\n",
    "        elif 'volume' in col:\n",
    "            binned[col] = df[col].resample(rule=bin_size).sum().round(0)\n",
    "        else:\n",
    "            binned[col] = df[col]\n",
    "    binned['timestamp'] = [round(t.timestamp()) for t in binned.index]\n",
    "    return binned"
   ]
  },
  {
   "cell_type": "code",
   "execution_count": null,
   "metadata": {
    "hidden": true
   },
   "outputs": [],
   "source": [
    "currency_df = load_prices(coins=[c.BTC, c.ETH, c.LTC], fiat=c.USD, exchange=c.BNC, \n",
    "                       timestep_sec=300, loader=load_bnc_exchange_rate_data)"
   ]
  },
  {
   "cell_type": "code",
   "execution_count": null,
   "metadata": {
    "hidden": true
   },
   "outputs": [],
   "source": [
    "currency_30min_df = get_binned_prices(currency_df, bin_size='30T')\n",
    "currency_30min_df.head()"
   ]
  },
  {
   "cell_type": "code",
   "execution_count": null,
   "metadata": {
    "hidden": true
   },
   "outputs": [],
   "source": [
    "qgrid_widget = qgrid.QgridWidget(df=currency_30min_df, show_toolbar=False)\n",
    "qgrid_widget"
   ]
  },
  {
   "cell_type": "markdown",
   "metadata": {
    "heading_collapsed": true
   },
   "source": [
    "## Analyze"
   ]
  },
  {
   "cell_type": "code",
   "execution_count": null,
   "metadata": {
    "hidden": true
   },
   "outputs": [],
   "source": [
    "columns = [c for c in currency_30min_df.columns if 'close_price' in c]\n",
    "price_df = currency_30min_df[columns]\n",
    "price_df.columns = ['BTC', 'ETH', 'LTC']\n",
    "price_df.head()"
   ]
  },
  {
   "cell_type": "code",
   "execution_count": null,
   "metadata": {
    "hidden": true
   },
   "outputs": [],
   "source": [
    "# Normalize \n",
    "price_df_norm = price_df.divide(price_df.iloc[0])\n",
    "price_df_norm.head()"
   ]
  },
  {
   "cell_type": "code",
   "execution_count": null,
   "metadata": {
    "hidden": true
   },
   "outputs": [],
   "source": [
    "price_df_norm.plot()"
   ]
  },
  {
   "cell_type": "code",
   "execution_count": null,
   "metadata": {
    "hidden": true
   },
   "outputs": [],
   "source": [
    "# Percent change (from ?)\n",
    "# There are some outliers that will mess up a model. How to fix....\n",
    "# for example, BTC on 2016-09-26 06:00:00\n",
    "price_df_pct = price_df.pct_change()\n",
    "price_df_pct = price_df_pct.replace([1.0, -1.0], np.nan)\n",
    "price_df_pct = price_df_pct.replace([np.inf, -np.inf], np.nan)\n",
    "price_df_pct = price_df_pct.dropna()\n",
    "price_df_pct.head()"
   ]
  },
  {
   "cell_type": "code",
   "execution_count": null,
   "metadata": {
    "hidden": true
   },
   "outputs": [],
   "source": [
    "# Correlation\n",
    "# https://www.investopedia.com/terms/n/negative-correlation.asp\n",
    "# https://medium.com/@eliquinox/cryptocurrency-data-analysis-part-ii-downloading-manipulating-and-analysing-bulk-data-e234a43e6259\n",
    "\n",
    "corr = price_df_pct.corr()\n",
    "sns.heatmap(corr, \n",
    "            xticklabels=corr.columns.values,\n",
    "            yticklabels=corr.columns.values)\n",
    "\n",
    "# Print correlations\n",
    "corr['BTC']['ETH'], corr['BTC']['LTC']"
   ]
  },
  {
   "cell_type": "code",
   "execution_count": null,
   "metadata": {
    "hidden": true
   },
   "outputs": [],
   "source": [
    "plt.scatter(price_df_pct['BTC'], price_df_pct['LTC'])\n",
    "plt.xlabel('BTC % Return')\n",
    "plt.ylabel('LTC % Return')"
   ]
  },
  {
   "cell_type": "code",
   "execution_count": null,
   "metadata": {
    "hidden": true
   },
   "outputs": [],
   "source": [
    "# Linear Regression\n",
    "# https://www.datarobot.com/blog/ordinary-least-squares-in-python/\n",
    "# http://www.statsmodels.org/dev/examples/notebooks/generated/ols.html\n",
    "\n",
    "import statsmodels.api as sm\n",
    "\n",
    "# Dependent, Indenpendent\n",
    "model = sm.OLS(price_df_pct['ETH'],\n",
    "               price_df_pct['LTC']).fit()\n",
    "model.summary()\n",
    "\n",
    "# R squared - how much of LTC change can be explained by BTC changes?"
   ]
  },
  {
   "cell_type": "code",
   "execution_count": null,
   "metadata": {
    "hidden": true
   },
   "outputs": [],
   "source": [
    "# multiply each value of BTC pct change by the slope coefficient\n",
    "line = [model.params[0]*i for i in price_df_pct['BTC'].values]\n",
    "plt.plot(price_df_pct['BTC'], line, c = 'r')\n",
    "plt.scatter(price_df_pct['BTC'], price_df_pct['LTC'])\n",
    "plt.xlabel('BTC % Return')\n",
    "plt.ylabel('LTC % Return')"
   ]
  },
  {
   "cell_type": "markdown",
   "metadata": {},
   "source": [
    "## Moving Average Crossover"
   ]
  },
  {
   "cell_type": "code",
   "execution_count": null,
   "metadata": {},
   "outputs": [],
   "source": [
    "# https://en.wikipedia.org/wiki/Moving_average#Simple_moving_average\n",
    "\"\"\"\n",
    "Interestingly it looks like prices quoted in Bitcoin are more predictive ..\n",
    "\"\"\"\n",
    "\n",
    "coin = c.LTC\n",
    "fiat = c.USD\n",
    "\n",
    "df = load_prices(coins=[coin], fiat=fiat, exchange=c.BNC, \n",
    "                 timestep_sec=300, loader=load_bnc_exchange_rate_data)\n",
    "df = df.set_index('utc')\n",
    "df = df.rename(columns={'price_'+coin:'close'})\n",
    "df = df.drop(['volume_'+coin], axis=1)"
   ]
  },
  {
   "cell_type": "code",
   "execution_count": null,
   "metadata": {},
   "outputs": [],
   "source": [
    "df.head()"
   ]
  },
  {
   "cell_type": "code",
   "execution_count": null,
   "metadata": {},
   "outputs": [],
   "source": [
    "# Add moving averages\n",
    "df['SMA_1000'] = df['close'].rolling(1000).mean() # 16 hours\n",
    "df['SMA_5000'] = df['close'].rolling(5000).mean() # 4 days\n",
    "df[['close','SMA_1000','SMA_5000']][len(df)-15000:].plot(figsize = (16,10))\n",
    "df = df.dropna()\n",
    "df.head()"
   ]
  },
  {
   "cell_type": "code",
   "execution_count": null,
   "metadata": {},
   "outputs": [],
   "source": [
    "\"\"\"\n",
    "Strategy\n",
    "\n",
    "BUY if Leading SMA is above Lagging SMA by some threshold.\n",
    "SELL if Leading SMA is below Lagging SMA by some threshold.\n",
    "\n",
    "Threshold = 2.5% of current price (filter out weak signals)\n",
    "\"\"\"\n",
    "\n",
    "def test_sma(df, lead, lag, pc_thresh = 0.025):\n",
    "    ma_df = df.copy()\n",
    "    ma_df['lead'] = ma_df['close'].rolling(lead).mean()\n",
    "    ma_df['lag'] = ma_df['close'].rolling(lag).mean()\n",
    "    ma_df.dropna(inplace = True)\n",
    "    ma_df['lead-lag'] = ma_df['lead'] - ma_df['lag']\n",
    "    ma_df['pc_diff'] = ma_df['lead-lag'] / ma_df['close']\n",
    "    ma_df['regime'] = np.where(ma_df['pc_diff'] > pc_thresh, 1, 0)\n",
    "    ma_df['regime'] = np.where(ma_df['pc_diff'] < -pc_thresh, -1, ma_df['regime'])\n",
    "    ma_df['Market'] = np.log(ma_df['close'] / ma_df['close'].shift(1))\n",
    "    ma_df['Strategy'] = ma_df['regime'].shift(1) * ma_df['Market']\n",
    "    ma_df[['Market','Strategy']] = ma_df[['Market','Strategy']].cumsum().apply(np.exp)\n",
    "    return ma_df"
   ]
  },
  {
   "cell_type": "code",
   "execution_count": null,
   "metadata": {},
   "outputs": [],
   "source": [
    "sma_df = test_sma(df, 100, 4100).dropna()\n",
    "sma_df.head()"
   ]
  },
  {
   "cell_type": "code",
   "execution_count": null,
   "metadata": {},
   "outputs": [],
   "source": [
    "sma_df['Strategy'][-1]"
   ]
  },
  {
   "cell_type": "code",
   "execution_count": null,
   "metadata": {},
   "outputs": [],
   "source": [
    "# Buy / Short / Neutral Action\n",
    "sma_df['regime'].plot(figsize=(16,5))"
   ]
  },
  {
   "cell_type": "code",
   "execution_count": null,
   "metadata": {},
   "outputs": [],
   "source": [
    "# Compare to buy and hold\n",
    "sma_df[['Market','Strategy']].iloc[-1]"
   ]
  },
  {
   "cell_type": "code",
   "execution_count": null,
   "metadata": {},
   "outputs": [],
   "source": [
    "sma_df[['Market','Strategy']][len(sma_df)-100000:].plot(figsize = (16,10))"
   ]
  },
  {
   "cell_type": "code",
   "execution_count": null,
   "metadata": {},
   "outputs": [],
   "source": [
    "# Search for Optimal Lead/Lag Periods\n",
    "leads = np.arange(100, 4100, 100)\n",
    "lags = np.arange(4100, 8100, 100)\n",
    "lead_lags = [[lead, lag] for lead in leads for lag in lags]\n",
    "pnls = pd.DataFrame(index=lags,  columns=leads)\n",
    "print(len(lead_lags))"
   ]
  },
  {
   "cell_type": "code",
   "execution_count": null,
   "metadata": {
    "scrolled": false
   },
   "outputs": [],
   "source": [
    "for lead, lag in lead_lags:\n",
    "    results = test_sma(df, lead, lag).dropna()\n",
    "    pnls[lead][lag] = results['Strategy'][-1]\n",
    "    print(lead, lag, pnls[lead][lag])"
   ]
  },
  {
   "cell_type": "code",
   "execution_count": null,
   "metadata": {},
   "outputs": [],
   "source": [
    "pnls.head()"
   ]
  },
  {
   "cell_type": "code",
   "execution_count": null,
   "metadata": {},
   "outputs": [],
   "source": [
    "PNLs = pnls[pnls.columns].astype(float)\n",
    "plt.subplots(figsize = (14,10))\n",
    "sns.heatmap(PNLs, cmap='PiYG')"
   ]
  },
  {
   "cell_type": "code",
   "execution_count": null,
   "metadata": {},
   "outputs": [],
   "source": [
    "# Get max value for each lead lookback\n",
    "\"\"\"\n",
    "Lead of 900 periods produces maximum PnL. \n",
    "By referencing back the the matrix heatmap, we can find the corresponding lag period.\n",
    "\n",
    "Optimal looks like (BTC):\n",
    "    lead = 1200 - 1500\n",
    "    lag = 5400 - 5800\n",
    "\n",
    "lets say (1350, 5800)\n",
    "ratio: 5:1\n",
    "\"\"\"\n",
    "PNLs.max()\n",
    "print(\"optimal\", PNLs[1300][5800])"
   ]
  },
  {
   "cell_type": "markdown",
   "metadata": {},
   "source": [
    "## Assumptions"
   ]
  },
  {
   "cell_type": "markdown",
   "metadata": {},
   "source": [
    "We ignore important factors:\n",
    "\n",
    "* Commissions (25 bps)\n",
    "* Shorting (usually can't do this)\n",
    "* Slippage (we assume we will always get the order price we request)\n",
    "* Market Impact (the market price may change when we start placing orders)\n",
    "* Overfitting (We brute force searched for optimal lead/lag ratio - this won't generalize)\n",
    "* Exchange risk (Exchanges get hacked)"
   ]
  },
  {
   "cell_type": "code",
   "execution_count": null,
   "metadata": {},
   "outputs": [],
   "source": []
  }
 ],
 "metadata": {
  "kernelspec": {
   "display_name": "Python 3",
   "language": "python",
   "name": "python3"
  },
  "language_info": {
   "codemirror_mode": {
    "name": "ipython",
    "version": 3
   },
   "file_extension": ".py",
   "mimetype": "text/x-python",
   "name": "python",
   "nbconvert_exporter": "python",
   "pygments_lexer": "ipython3",
   "version": "3.6.0"
  },
  "latex_envs": {
   "LaTeX_envs_menu_present": true,
   "autocomplete": true,
   "bibliofile": "biblio.bib",
   "cite_by": "apalike",
   "current_citInitial": 1,
   "eqLabelWithNumbers": true,
   "eqNumInitial": 1,
   "hotkeys": {
    "equation": "Ctrl-E",
    "itemize": "Ctrl-I"
   },
   "labels_anchors": false,
   "latex_user_defs": false,
   "report_style_numbering": false,
   "user_envs_cfg": false
  },
  "toc": {
   "colors": {
    "hover_highlight": "#DAA520",
    "navigate_num": "#000000",
    "navigate_text": "#333333",
    "running_highlight": "#FF0000",
    "selected_highlight": "#FFD700",
    "sidebar_border": "#EEEEEE",
    "wrapper_background": "#FFFFFF"
   },
   "moveMenuLeft": true,
   "nav_menu": {
    "height": "49px",
    "width": "254px"
   },
   "navigate_menu": true,
   "number_sections": true,
   "sideBar": true,
   "threshold": 4,
   "toc_cell": false,
   "toc_section_display": "block",
   "toc_window_display": false,
   "widenNotebook": false
  }
 },
 "nbformat": 4,
 "nbformat_minor": 2
}
