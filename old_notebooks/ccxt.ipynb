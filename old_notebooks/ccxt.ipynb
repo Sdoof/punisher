{
 "cells": [
  {
   "cell_type": "code",
   "execution_count": null,
   "metadata": {},
   "outputs": [],
   "source": [
    "%matplotlib inline\n",
    "%load_ext autoreload\n",
    "%autoreload 2\n",
    "from common import *\n",
    "import qgrid\n",
    "import ccxt"
   ]
  },
  {
   "cell_type": "code",
   "execution_count": null,
   "metadata": {},
   "outputs": [],
   "source": [
    "print(ccxt.exchanges) # print a list of all available exchange classes"
   ]
  },
  {
   "cell_type": "code",
   "execution_count": null,
   "metadata": {},
   "outputs": [],
   "source": [
    "import ccxt\n",
    "polo = ccxt.poloniex({\n",
    "    'apiKey': cfg.POLONIEX_API_KEY,\n",
    "    'secret': cfg.POLONIEX_API_SECRET_KEY,\n",
    "})\n",
    "gdax = ccxt.gdax({\n",
    "    'apiKey': cfg.GDAX_API_KEY,\n",
    "    'secret': cfg.GDAX_API_SECRET_KEY,\n",
    "    'passphrase': cfg.GDAX_PASSPHRASE\n",
    "})\n",
    "binance = ccxt.binance()\n",
    "\n",
    "exchange = polo\n",
    "markets = exchange.load_markets()\n",
    "\n",
    "print(exchange.id, markets)\n",
    "print(exchange.fetch_order_book(exchange.symbols[0]))\n",
    "print(exchange.fetch_ticker('ETH/BTC')) # coin/market - base/quote\n",
    "print(exchange.fetch_trades('LTC/BTC'))"
   ]
  },
  {
   "cell_type": "code",
   "execution_count": null,
   "metadata": {},
   "outputs": [],
   "source": [
    "# Available methods\n",
    "print (dir (ccxt.poloniex ()))"
   ]
  },
  {
   "cell_type": "code",
   "execution_count": null,
   "metadata": {},
   "outputs": [],
   "source": [
    "# Asyncronous\n",
    "# import asyncio\n",
    "# import ccxt.async as ccxt\n",
    "\n",
    "async def print_poloniex_ethbtc_ticker():\n",
    "    print(await exchange.fetch_ticker('ETH/BTC'))\n",
    "\n",
    "asyncio.get_event_loop().run_until_complete(print_poloniex_ethbtc_ticker())"
   ]
  },
  {
   "cell_type": "code",
   "execution_count": null,
   "metadata": {},
   "outputs": [],
   "source": [
    "# Prices\n",
    "def get_ohlcv_fpath(coin, market, exchange_id, period):\n",
    "    fname = '{:s}_{:s}_{:s}_{:s}.csv'.format(\n",
    "        exchange_id, coin, market, str(period))\n",
    "    return os.path.join(cfg.DATA_DIR, fname)\n",
    "\n",
    "def get_symbol(coin, market):\n",
    "    return coin+'/'+market\n",
    "\n",
    "def fetch_chart_data(exchange, coin, market, period, start, end):\n",
    "    assert period in exchange.timeframes\n",
    "    data = exchange.fetch_ohlcv(get_symbol(coin, market), period)#, start, end)\n",
    "    df = pd.DataFrame(data, columns = c.OHLCV_COLUMNS)\n",
    "    df['time'] = [datetime.datetime.fromtimestamp(t//1000) for t in df['time']]\n",
    "    df.set_index('time', inplace=True)\n",
    "    return df    \n",
    "\n",
    "def fetch_and_save_chart_data(exchange, coin, market, period, start, end):\n",
    "    print(\"Downloading:\", get_symbol(coin, market))\n",
    "    df = fetch_chart_data(exchange, coin, market, period, start, end)\n",
    "    fpath = get_ohlcv_fpath(coin, market, exchange.id, period)\n",
    "    df.to_csv(fpath, index=True)\n",
    "    print(\"Downloaded rows:\", len(df))\n",
    "    return df\n",
    "\n",
    "def load_chart_data(exchange_id, coin, market, period):\n",
    "    fpath = get_ohlcv_fpath(coin, market, exchange_id, period)\n",
    "    df = pd.read_csv(fpath, parse_dates=True, index_col='time')\n",
    "    return df\n",
    "\n",
    "def download_ohlcv(exchange, coins, market, period, start, end):\n",
    "    for coin in coins:\n",
    "        _ = fetch_and_save_chart_data(exchange, coin, market, period, start, end)\n",
    "\n",
    "def load_currency_group_prices(exchange_id, coins, market, period, start, end):\n",
    "    df = pd.DataFrame()\n",
    "    for coin in coins:\n",
    "        symbol = get_symbol(coin, market)\n",
    "        data = load_chart_data(exchange_id, coin, market, period)\n",
    "        data = data[(data.index >= start) & (data.index <= end)]\n",
    "        df[symbol] = data['close']\n",
    "    df.dropna(inplace=True)\n",
    "    return df"
   ]
  },
  {
   "cell_type": "code",
   "execution_count": null,
   "metadata": {},
   "outputs": [],
   "source": [
    "# Get historical data\n",
    "coins = [c.BTC, c.LTC, c.ETH, c.XRP, c.XMR, c.DASH]\n",
    "market = c.USDT\n",
    "coin = c.LTC\n",
    "symbol = get_symbol(coin, market)\n",
    "period = '30m' #1800\n",
    "start = datetime.datetime(year=2015, month=9, day=1)\n",
    "end = datetime.datetime(year=2018, month=1, day=1)"
   ]
  },
  {
   "cell_type": "code",
   "execution_count": null,
   "metadata": {},
   "outputs": [],
   "source": [
    "#df = fetch_chart_data(exchange, coin, market, period, start, end)\n",
    "#df = fetch_and_save_chart_data(exchange, coin, market, period, start, end)\n",
    "df = load_chart_data(exchange.id, coin, market, period)\n",
    "df.head()"
   ]
  },
  {
   "cell_type": "code",
   "execution_count": null,
   "metadata": {},
   "outputs": [],
   "source": [
    "download_ohlcv(exchange, coins, market, period, start, end)"
   ]
  },
  {
   "cell_type": "code",
   "execution_count": null,
   "metadata": {},
   "outputs": [],
   "source": [
    "df = load_currency_group_prices(exchange.id, coins, market, period, start, end)\n",
    "df.head()"
   ]
  },
  {
   "cell_type": "code",
   "execution_count": null,
   "metadata": {},
   "outputs": [],
   "source": [
    "# Trading\n",
    "print(exchange.fetch_balance())\n",
    "\n",
    "# sell one ฿ for market price and receive $ right now\n",
    "print(exchange.id, exchange.create_market_sell_order('BTC/USD', 1))\n",
    "\n",
    "# limit buy BTC/EUR, you pay €2500 and receive ฿1  when the order is closed\n",
    "print(exchange.id, exchange.create_limit_buy_order('BTC/EUR', 1, 2500.00))\n",
    "\n",
    "# pass/redefine custom exchange-specific order params: type, amount, price, flags, etc...\n",
    "polo.create_market_buy_order('BTC/USD', 1, {'trading_agreement': 'agree'})"
   ]
  }
 ],
 "metadata": {
  "kernelspec": {
   "display_name": "Python 3",
   "language": "python",
   "name": "python3"
  },
  "language_info": {
   "codemirror_mode": {
    "name": "ipython",
    "version": 3
   },
   "file_extension": ".py",
   "mimetype": "text/x-python",
   "name": "python",
   "nbconvert_exporter": "python",
   "pygments_lexer": "ipython3",
   "version": "3.6.0"
  },
  "latex_envs": {
   "LaTeX_envs_menu_present": true,
   "autocomplete": true,
   "bibliofile": "biblio.bib",
   "cite_by": "apalike",
   "current_citInitial": 1,
   "eqLabelWithNumbers": true,
   "eqNumInitial": 1,
   "hotkeys": {
    "equation": "Ctrl-E",
    "itemize": "Ctrl-I"
   },
   "labels_anchors": false,
   "latex_user_defs": false,
   "report_style_numbering": false,
   "user_envs_cfg": false
  },
  "toc": {
   "colors": {
    "hover_highlight": "#DAA520",
    "navigate_num": "#000000",
    "navigate_text": "#333333",
    "running_highlight": "#FF0000",
    "selected_highlight": "#FFD700",
    "sidebar_border": "#EEEEEE",
    "wrapper_background": "#FFFFFF"
   },
   "moveMenuLeft": true,
   "nav_menu": {
    "height": "71px",
    "width": "254px"
   },
   "navigate_menu": true,
   "number_sections": true,
   "sideBar": true,
   "threshold": 4,
   "toc_cell": false,
   "toc_section_display": "block",
   "toc_window_display": false,
   "widenNotebook": false
  }
 },
 "nbformat": 4,
 "nbformat_minor": 2
}
