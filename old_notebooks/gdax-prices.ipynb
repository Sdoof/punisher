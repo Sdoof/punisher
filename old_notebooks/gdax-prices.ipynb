{
 "cells": [
  {
   "cell_type": "code",
   "execution_count": 1,
   "metadata": {},
   "outputs": [],
   "source": [
    "%matplotlib inline\n",
    "%load_ext autoreload\n",
    "%autoreload 2\n",
    "from common import *\n",
    "import qgrid"
   ]
  },
  {
   "cell_type": "code",
   "execution_count": null,
   "metadata": {},
   "outputs": [],
   "source": [
    "# https://github.com/danpaquin/gdax-python\n",
    "# https://docs.gdax.com\n",
    "\n",
    "# Use the sandbox API (requires a different set of API access credentials)\n",
    "gdax_client = gdax.AuthenticatedClient(cfg.GDAX_API_KEY, cfg.GDAX_API_SECRET_KEY, \n",
    "                                       cfg.GDAX_PASSPHRASE, api_url=cfg.GDAX_ENDPOINT)\n",
    "gdax_client.get_time()"
   ]
  },
  {
   "cell_type": "code",
   "execution_count": null,
   "metadata": {},
   "outputs": [],
   "source": [
    "# Default request is 400 minutes (~7 hours), 1 minute gap\n",
    "# ~4 requests to get 24 hours of data\n",
    "# 1460 requests for 1 year, ~3000 requests for 2 years\n",
    "def write_to_df(data, fpath):\n",
    "    if os.path.exists(fpath):\n",
    "        df = pd.read_csv(fpath)\n",
    "        data = pd.DataFrame(data, columns=PRICE_COLUMNS)\n",
    "        df.set_index('time')\n",
    "        df.sort_values(by='time', ascending=True, inplace=True)\n",
    "        df = pd.concat([df, data]).drop_duplicates().reset_index(drop=True)\n",
    "    else:\n",
    "        df = pd.DataFrame(data, columns=PRICE_COLUMNS)\n",
    "        df.set_index('time')\n",
    "        df.sort_values(by='time', ascending=True, inplace=True)\n",
    "    df.to_csv(fpath, index=False)\n",
    "    return df\n",
    "\n",
    "def get_data(currency_pair, start_time, end_time, timestep_sec):\n",
    "#     print(\"Start\", start_utc.isoformat())\n",
    "#     print(\"End\", end_utc.isoformat())\n",
    "    delta = end_time - start_time\n",
    "#     print(\"Years\", round(delta.days/365,2))\n",
    "#     print(\"Days\", delta.days)\n",
    "#     print(\"Hours\", delta.days*24)\n",
    "#     print(\"Minutes\", delta.days*24*60)\n",
    "#     print(\"Seconds\", round(delta.total_seconds()))\n",
    "    data = gdax_client.get_product_historic_rates(\n",
    "        currency_pair, start=start_time.isoformat(), \n",
    "        end=end_time.isoformat(), granularity=timestep_sec)\n",
    "    return data\n",
    "\n",
    "def get_all_data(pair, start_utc, end_utc, timesteps_per_request, timestep_sec, outfpath):\n",
    "    start_time = datetime.datetime.strptime(\n",
    "        start_utc, '%Y-%m-%dT%H:%M:%SZ')#.astimezone(datetime.timezone.utc)\n",
    "    end_time = datetime.datetime.strptime(\n",
    "        end_utc, '%Y-%m-%dT%H:%M:%SZ')#.astimezone(datetime.timezone.utc)\n",
    "    cur_time = start_time\n",
    "    time_delta = datetime.timedelta(\n",
    "        seconds=timesteps_per_request*timestep_sec)\n",
    "    n_records = 0\n",
    "    retry = 0\n",
    "    while cur_time < end_time and retry < 10:\n",
    "        try:\n",
    "            data = get_data(pair, cur_time, cur_time+time_delta, timestep_sec)\n",
    "            data = np.array(data)\n",
    "            last_time = datetime.datetime.fromtimestamp(np.max(data[:,0]))\n",
    "            if last_time < cur_time:\n",
    "                break\n",
    "            print(\"Records\", n_records, \"Start:\", cur_time, \"End:\", last_time)\n",
    "            cur_time = datetime.datetime.fromtimestamp(\n",
    "                data[0][0] + timestep_sec)\n",
    "            df = write_to_df(data, outfpath)\n",
    "            n_records += len(data)\n",
    "            retry = 0\n",
    "        except Exception as e:\n",
    "            retry += 1\n",
    "            print(\"Error! Retrying!\", e)\n",
    "            traceback.print_exc()\n",
    "        finally:\n",
    "            time.sleep(1)\n",
    "    return df"
   ]
  },
  {
   "cell_type": "code",
   "execution_count": null,
   "metadata": {},
   "outputs": [],
   "source": [
    "START_UTC = '2015-02-01T00:00:00Z'\n",
    "END_UTC = '2017-12-31T00:00:00Z'\n",
    "PRICE_COLUMNS = ['time', 'low', 'high', 'open', 'close', 'volume']\n",
    "TIMESTEP_INTERVAL = 1800\n",
    "TIMESTEPS_PER_REQUEST = 100\n",
    "PRODUCT = c.BTC_USD\n",
    "EXCHANGE = c.GDAX\n",
    "PRICE_FNAME = '{:s}_{:s}_{:d}.csv'.format(EXCHANGE, PRODUCT, TIMESTEP_INTERVAL)\n",
    "PRICE_FPATH = os.path.join(cfg.DATA_DIR, PRICE_FNAME)\n",
    "PRICE_FPATH"
   ]
  },
  {
   "cell_type": "code",
   "execution_count": null,
   "metadata": {},
   "outputs": [],
   "source": [
    "# Test\n",
    "# Older time periods may not work (looks like they keep 2 years of data?)\n",
    "START_UTC = '2017-01-01T00:00:00Z'\n",
    "END_UTC = '2017-12-31T00:00:00Z'\n",
    "start_time = datetime.datetime.strptime(\n",
    "    START_UTC, '%Y-%m-%dT%H:%M:%SZ')#.astimezone(datetime.timezone.utc)\n",
    "time_delta = datetime.timedelta(\n",
    "    seconds=TIMESTEPS_PER_REQUEST*TIMESTEP_INTERVAL)\n",
    "end_time = start_time + time_delta\n",
    "start_time, end_time\n",
    "PRODUCT = c.LTC_USD\n",
    "gdax_client.get_product_historic_rates(\n",
    "    PRODUCT, start=start_time.isoformat(), end=end_time.isoformat(),\n",
    "    granularity=TIMESTEP_INTERVAL)"
   ]
  },
  {
   "cell_type": "code",
   "execution_count": null,
   "metadata": {
    "scrolled": false
   },
   "outputs": [],
   "source": [
    "# Fetch\n",
    "df = get_all_data(PRODUCT, START_UTC, END_UTC, TIMESTEPS_PER_REQUEST, TIMESTEP_INTERVAL, PRICE_FPATH)"
   ]
  },
  {
   "cell_type": "code",
   "execution_count": null,
   "metadata": {},
   "outputs": [],
   "source": [
    "PRODUCT = c.ETH_USD\n",
    "PRICE_FNAME = '{:s}_{:s}_{:d}.csv'.format(EXCHANGE, PRODUCT, TIMESTEP_INTERVAL)\n",
    "PRICE_FPATH = os.path.join(cfg.DATA_DIR, PRICE_FNAME)\n",
    "df = get_all_data(PRODUCT, START_UTC, END_UTC, TIMESTEPS_PER_REQUEST, TIMESTEP_INTERVAL, PRICE_FPATH)"
   ]
  },
  {
   "cell_type": "code",
   "execution_count": null,
   "metadata": {},
   "outputs": [],
   "source": [
    "PRODUCT = c.LTC_USD\n",
    "PRICE_FNAME = '{:s}_{:s}_{:d}.csv'.format(EXCHANGE, PRODUCT, TIMESTEP_INTERVAL)\n",
    "PRICE_FPATH = os.path.join(cfg.DATA_DIR, PRICE_FNAME)\n",
    "df = get_all_data(PRODUCT, START_UTC, END_UTC, TIMESTEPS_PER_REQUEST, TIMESTEP_INTERVAL, PRICE_FPATH)"
   ]
  },
  {
   "cell_type": "code",
   "execution_count": null,
   "metadata": {},
   "outputs": [],
   "source": [
    "start_utc = '2017-12-23T00:00:00Z'\n",
    "end_utc = '2017-12-31T00:00:00Z'\n",
    "df = get_all_data(PRODUCT, start_utc, end_utc, TIMESTEPS_PER_REQUEST, TIMESTEP_INTERVAL, PRICE_FPATH)"
   ]
  },
  {
   "cell_type": "code",
   "execution_count": null,
   "metadata": {},
   "outputs": [],
   "source": [
    "s = datetime.datetime.fromtimestamp(1514641260)\n",
    "next_ = datetime.datetime.fromtimestamp(1514641320)\n",
    "e = datetime.datetime.fromtimestamp(1514665260)\n",
    "s,next_,e,len(prices),(e-s).total_seconds()/3600\n",
    "#datetime.datetime.timestamp(s)"
   ]
  },
  {
   "cell_type": "markdown",
   "metadata": {},
   "source": [
    "### Load Prices"
   ]
  },
  {
   "cell_type": "code",
   "execution_count": null,
   "metadata": {},
   "outputs": [],
   "source": [
    "# https://github.com/bfortuner/computer-vision/blob/master/applied/libraries/PandasQuickstart.ipynb\n",
    "df = pd.read_csv(PRICE_FPATH)\n",
    "epochsec = [datetime.datetime.fromtimestamp(t) for t in df['time'].values]\n",
    "df = df.assign(utc = epochsec)\n",
    "df.sort_values(by='utc', ascending=True, inplace=True)"
   ]
  },
  {
   "cell_type": "code",
   "execution_count": null,
   "metadata": {},
   "outputs": [],
   "source": [
    "# Check for NULL\n",
    "df.isnull().sum()"
   ]
  },
  {
   "cell_type": "code",
   "execution_count": null,
   "metadata": {},
   "outputs": [],
   "source": [
    "last_time = df.iloc[-1]['time']\n",
    "last_record_utc = datetime.datetime.fromtimestamp(last_time)\n",
    "print(last_record_utc.isoformat())\n",
    "df.tail()"
   ]
  },
  {
   "cell_type": "code",
   "execution_count": null,
   "metadata": {},
   "outputs": [],
   "source": [
    "len(df)"
   ]
  },
  {
   "cell_type": "code",
   "execution_count": null,
   "metadata": {},
   "outputs": [],
   "source": [
    "# Query Date Range\n",
    "start = datetime.datetime(2017, 4, 15, 12, 0)\n",
    "end = datetime.datetime(2017, 4, 15, 16, 10)\n",
    "results = df[ (df['utc'] >= start) & (df['utc'] < end) ]"
   ]
  },
  {
   "cell_type": "code",
   "execution_count": null,
   "metadata": {},
   "outputs": [],
   "source": [
    "# Check for missing timesteps\n",
    "last_time = df.iloc[0]['utc']\n",
    "n_missing = 0\n",
    "for idx,row in df[1:].iterrows():\n",
    "    cur_time = row['utc']\n",
    "#     print(cur_time, last_time + datetime.timedelta(seconds=60))\n",
    "    if cur_time != last_time + datetime.timedelta(seconds=3600):\n",
    "        n_missing += 1 #(cur_time - last_time).seconds//60\n",
    "    last_time = cur_time\n",
    "n_missing"
   ]
  },
  {
   "cell_type": "markdown",
   "metadata": {},
   "source": [
    "### Streaming"
   ]
  },
  {
   "cell_type": "code",
   "execution_count": null,
   "metadata": {},
   "outputs": [],
   "source": [
    "class myWebsocketClient(gdax.WebsocketClient):\n",
    "    def on_open(self):\n",
    "        self.url = cfg.GDAX_WEBSOCKET\n",
    "        self.products = [c.BTC_USD]\n",
    "        self.message_count = 0\n",
    "        print(\"Lets count the messages!\")\n",
    "    \n",
    "    def on_message(self, msg):\n",
    "        self.message_count += 1\n",
    "        if 'price' in msg and 'type' in msg:\n",
    "            print (\"Message type:\", msg[\"type\"],\n",
    "                   \"\\t@ {:.3f}\".format(float(msg[\"price\"])))\n",
    "    \n",
    "    def on_close(self):\n",
    "        print(\"-- Goodbye! --\")\n",
    "\n",
    "        \n",
    "wsClient = myWebsocketClient()\n",
    "wsClient.start()\n",
    "print(wsClient.url, wsClient.products)\n",
    "while (wsClient.message_count < 500):\n",
    "    print (\"\\nmessage_count =\", \"{} \\n\".format(wsClient.message_count))\n",
    "    time.sleep(1)\n",
    "wsClient.close()"
   ]
  },
  {
   "cell_type": "code",
   "execution_count": null,
   "metadata": {},
   "outputs": [],
   "source": [
    "wsClient.close()"
   ]
  }
 ],
 "metadata": {
  "kernelspec": {
   "display_name": "Python 3",
   "language": "python",
   "name": "python3"
  },
  "language_info": {
   "codemirror_mode": {
    "name": "ipython",
    "version": 3
   },
   "file_extension": ".py",
   "mimetype": "text/x-python",
   "name": "python",
   "nbconvert_exporter": "python",
   "pygments_lexer": "ipython3",
   "version": "3.6.0"
  },
  "latex_envs": {
   "LaTeX_envs_menu_present": true,
   "autocomplete": true,
   "bibliofile": "biblio.bib",
   "cite_by": "apalike",
   "current_citInitial": 1,
   "eqLabelWithNumbers": true,
   "eqNumInitial": 1,
   "hotkeys": {
    "equation": "Ctrl-E",
    "itemize": "Ctrl-I"
   },
   "labels_anchors": false,
   "latex_user_defs": false,
   "report_style_numbering": false,
   "user_envs_cfg": false
  },
  "toc": {
   "colors": {
    "hover_highlight": "#DAA520",
    "navigate_num": "#000000",
    "navigate_text": "#333333",
    "running_highlight": "#FF0000",
    "selected_highlight": "#FFD700",
    "sidebar_border": "#EEEEEE",
    "wrapper_background": "#FFFFFF"
   },
   "moveMenuLeft": true,
   "nav_menu": {
    "height": "49px",
    "width": "254px"
   },
   "navigate_menu": true,
   "number_sections": true,
   "sideBar": true,
   "threshold": 4,
   "toc_cell": false,
   "toc_section_display": "block",
   "toc_window_display": false,
   "widenNotebook": false
  }
 },
 "nbformat": 4,
 "nbformat_minor": 2
}
