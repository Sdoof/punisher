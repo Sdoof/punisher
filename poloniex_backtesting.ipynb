{
 "cells": [
  {
   "cell_type": "code",
   "execution_count": 1,
   "metadata": {},
   "outputs": [
    {
     "ename": "ModuleNotFoundError",
     "evalue": "No module named 'gemini'",
     "output_type": "error",
     "traceback": [
      "\u001b[0;31m---------------------------------------------------------------------------\u001b[0m",
      "\u001b[0;31mModuleNotFoundError\u001b[0m                       Traceback (most recent call last)",
      "\u001b[0;32m<ipython-input-1-ccb11229b9e5>\u001b[0m in \u001b[0;36m<module>\u001b[0;34m()\u001b[0m\n\u001b[1;32m      4\u001b[0m \u001b[0;32mfrom\u001b[0m \u001b[0mcommon\u001b[0m \u001b[0;32mimport\u001b[0m \u001b[0;34m*\u001b[0m\u001b[0;34m\u001b[0m\u001b[0m\n\u001b[1;32m      5\u001b[0m \u001b[0;32mimport\u001b[0m \u001b[0mqgrid\u001b[0m\u001b[0;34m\u001b[0m\u001b[0m\n\u001b[0;32m----> 6\u001b[0;31m \u001b[0;32mimport\u001b[0m \u001b[0mclients\u001b[0m\u001b[0;34m.\u001b[0m\u001b[0mbacktester\u001b[0m\u001b[0;34m.\u001b[0m\u001b[0mgemini\u001b[0m\u001b[0;34m.\u001b[0m\u001b[0mpoloniex\u001b[0m \u001b[0;32mas\u001b[0m \u001b[0mpx\u001b[0m\u001b[0;34m\u001b[0m\u001b[0m\n\u001b[0m\u001b[1;32m      7\u001b[0m \u001b[0;32mimport\u001b[0m \u001b[0mclients\u001b[0m\u001b[0;34m.\u001b[0m\u001b[0mbacktester\u001b[0m\u001b[0;34m.\u001b[0m\u001b[0mgemini\u001b[0m\u001b[0;34m.\u001b[0m\u001b[0mhelpers\u001b[0m \u001b[0;32mas\u001b[0m \u001b[0mhelpers\u001b[0m\u001b[0;34m\u001b[0m\u001b[0m\n\u001b[1;32m      8\u001b[0m \u001b[0;32mimport\u001b[0m \u001b[0mclients\u001b[0m\u001b[0;34m.\u001b[0m\u001b[0mbacktester\u001b[0m\u001b[0;34m.\u001b[0m\u001b[0mgemini\u001b[0m\u001b[0;34m.\u001b[0m\u001b[0mgemini\u001b[0m \u001b[0;32mas\u001b[0m \u001b[0mbacktest\u001b[0m\u001b[0;34m\u001b[0m\u001b[0m\n",
      "\u001b[0;32m/home/bfortuner/workplace/punisher/clients/backtester/gemini/__init__.py\u001b[0m in \u001b[0;36m<module>\u001b[0;34m()\u001b[0m\n\u001b[1;32m      1\u001b[0m \u001b[0;32mimport\u001b[0m \u001b[0mpandas\u001b[0m \u001b[0;32mas\u001b[0m \u001b[0mpd\u001b[0m\u001b[0;34m\u001b[0m\u001b[0m\n\u001b[1;32m      2\u001b[0m \u001b[0;34m\u001b[0m\u001b[0m\n\u001b[0;32m----> 3\u001b[0;31m \u001b[0;32mimport\u001b[0m \u001b[0mgemini\u001b[0m\u001b[0;34m.\u001b[0m\u001b[0msettings\u001b[0m\u001b[0;34m\u001b[0m\u001b[0m\n\u001b[0m\u001b[1;32m      4\u001b[0m \u001b[0;34m\u001b[0m\u001b[0m\n\u001b[1;32m      5\u001b[0m \u001b[0mPRECISION\u001b[0m \u001b[0;34m=\u001b[0m \u001b[0mgetattr\u001b[0m\u001b[0;34m(\u001b[0m\u001b[0msettings\u001b[0m\u001b[0;34m,\u001b[0m \u001b[0;34m\"PRECISION\"\u001b[0m\u001b[0;34m,\u001b[0m \u001b[0;36m8\u001b[0m\u001b[0;34m)\u001b[0m\u001b[0;34m\u001b[0m\u001b[0m\n",
      "\u001b[0;31mModuleNotFoundError\u001b[0m: No module named 'gemini'"
     ]
    }
   ],
   "source": [
    "%matplotlib inline\n",
    "%load_ext autoreload\n",
    "%autoreload 2\n",
    "from common import *\n",
    "import qgrid\n",
    "import clients.backtester.gemini.poloniex as px\n",
    "import clients.backtester.gemini.helpers as helpers\n",
    "import clients.backtester.gemini.gemini as backtest"
   ]
  },
  {
   "cell_type": "code",
   "execution_count": null,
   "metadata": {},
   "outputs": [],
   "source": [
    "pair = \"BTC_ETH\"    # Use ETH pricing data on the BTC market\n",
    "period = 1800       # Use 1800 second candles\n",
    "daysBack = 30       # Grab data starting 30 days ago\n",
    "daysData = 60       # From there collect 60 days of data\n",
    "\n",
    "# Request data from Poloniex\n",
    "data = px.getPast(pair, period, daysBack, daysData)\n",
    "\n",
    "# Convert to Pandas dataframe with datetime format\n",
    "data = pd.DataFrame(data)\n",
    "data['date'] = pd.to_datetime(data['date'], unit='s')\n",
    "\n",
    "def Logic(Account, Lookback):\n",
    "    try:\n",
    "        # Process dataframe to collect signals\n",
    "        Lookback = helpers.getSignals(Lookback)\n",
    "        \n",
    "        # Load into period class to simplify indexing\n",
    "        Lookback = helpers.Period(Lookback)\n",
    "        \n",
    "        Today = Lookback.loc(0) # Current candle\n",
    "        Yesterday = Lookback.loc(-1) # Previous candle\n",
    "        \n",
    "        if Today['signal'] == \"down\":\n",
    "            if Yesterday['signal'] == \"down\":\n",
    "                ExitPrice = Today['close']\n",
    "                for Position in Account.Positions:  \n",
    "                    if Position.Type == 'Long':\n",
    "                        Account.ClosePosition(Position, 0.5, ExitPrice)\n",
    "\n",
    "        if Today['signal'] == \"up\":\n",
    "            if Yesterday['signal'] == \"up\":\n",
    "                Risk         = 0.03\n",
    "                EntryPrice   = Today['close']\n",
    "                EntryCapital = Account.BuyingPower*Risk\n",
    "                if EntryCapital >= 0:\n",
    "                    Account.EnterPosition('Long', EntryCapital, EntryPrice)\n",
    "     \n",
    "    except ValueError: \n",
    "        pass # Handles lookback errors in beginning of dataset\n",
    "\n",
    "# Load the data into a backtesting class called Run\n",
    "r = backtest.Run(data)\n",
    "\n",
    "# Start backtesting custom logic with 1000 (BTC) intital capital\n",
    "r.Start(1000, Logic)\n",
    "\n",
    "r.Results()\n",
    "r.Chart(ShowTrades=False)"
   ]
  },
  {
   "cell_type": "code",
   "execution_count": null,
   "metadata": {},
   "outputs": [],
   "source": []
  }
 ],
 "metadata": {
  "kernelspec": {
   "display_name": "Python 3",
   "language": "python",
   "name": "python3"
  },
  "language_info": {
   "codemirror_mode": {
    "name": "ipython",
    "version": 3
   },
   "file_extension": ".py",
   "mimetype": "text/x-python",
   "name": "python",
   "nbconvert_exporter": "python",
   "pygments_lexer": "ipython3",
   "version": "3.6.0"
  },
  "latex_envs": {
   "LaTeX_envs_menu_present": true,
   "autocomplete": true,
   "bibliofile": "biblio.bib",
   "cite_by": "apalike",
   "current_citInitial": 1,
   "eqLabelWithNumbers": true,
   "eqNumInitial": 1,
   "hotkeys": {
    "equation": "Ctrl-E",
    "itemize": "Ctrl-I"
   },
   "labels_anchors": false,
   "latex_user_defs": false,
   "report_style_numbering": false,
   "user_envs_cfg": false
  },
  "toc": {
   "colors": {
    "hover_highlight": "#DAA520",
    "navigate_num": "#000000",
    "navigate_text": "#333333",
    "running_highlight": "#FF0000",
    "selected_highlight": "#FFD700",
    "sidebar_border": "#EEEEEE",
    "wrapper_background": "#FFFFFF"
   },
   "moveMenuLeft": true,
   "nav_menu": {
    "height": "4px",
    "width": "254px"
   },
   "navigate_menu": true,
   "number_sections": true,
   "sideBar": true,
   "threshold": 4,
   "toc_cell": false,
   "toc_section_display": "block",
   "toc_window_display": false,
   "widenNotebook": false
  }
 },
 "nbformat": 4,
 "nbformat_minor": 2
}
