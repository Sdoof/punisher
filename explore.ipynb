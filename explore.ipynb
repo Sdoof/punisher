{
 "cells": [
  {
   "cell_type": "markdown",
   "metadata": {},
   "source": [
    "## Config"
   ]
  },
  {
   "cell_type": "code",
   "execution_count": null,
   "metadata": {},
   "outputs": [],
   "source": [
    "%matplotlib inline\n",
    "%load_ext autoreload\n",
    "%autoreload 2\n",
    "from common import *"
   ]
  },
  {
   "cell_type": "markdown",
   "metadata": {},
   "source": [
    "## GDAX"
   ]
  },
  {
   "cell_type": "code",
   "execution_count": null,
   "metadata": {},
   "outputs": [],
   "source": [
    "# https://github.com/danpaquin/gdax-python\n",
    "# https://docs.gdax.com\n",
    "\n",
    "# Use the sandbox API (requires a different set of API access credentials)\n",
    "gdax_client = gdax.AuthenticatedClient(cfg.GDAX_API_KEY, cfg.GDAX_API_SECRET_KEY, \n",
    "                                       cfg.GDAX_PASSPHRASE, api_url=cfg.GDAX_ENDPOINT)"
   ]
  },
  {
   "cell_type": "markdown",
   "metadata": {},
   "source": [
    "### Historical Prices"
   ]
  },
  {
   "cell_type": "code",
   "execution_count": null,
   "metadata": {},
   "outputs": [],
   "source": [
    "now = datetime.datetime.now()\n",
    "prior = now - datetime.timedelta(minutes=30)\n",
    "gdax_client.get_product_historic_rates('ETH-USD', start=prior.isoformat(), end=now.isoformat(), granularity=1800)\n",
    "gdax_client.get_product_historic_rates('BTC-USD', start=prior.isoformat(), end=now.isoformat(), granularity=1800)\n",
    "gdax_client.get_product_historic_rates('LTC-USD', start=prior.isoformat(), end=now.isoformat(), granularity=1800)"
   ]
  },
  {
   "cell_type": "markdown",
   "metadata": {},
   "source": [
    "### Exchange Metadata"
   ]
  },
  {
   "cell_type": "code",
   "execution_count": null,
   "metadata": {},
   "outputs": [],
   "source": [
    "gdax_client.get_products()\n",
    "gdax_client.get_currencies()\n",
    "gdax_client.get_time()"
   ]
  },
  {
   "cell_type": "markdown",
   "metadata": {},
   "source": [
    "### Current Prices"
   ]
  },
  {
   "cell_type": "code",
   "execution_count": null,
   "metadata": {},
   "outputs": [],
   "source": [
    "# Get the order book at the default level.\n",
    "gdax_client.get_product_order_book('BTC-USD')\n",
    "# Get the order book at a specific level.\n",
    "gdax_client.get_product_order_book('BTC-USD', level=1)"
   ]
  },
  {
   "cell_type": "code",
   "execution_count": null,
   "metadata": {},
   "outputs": [],
   "source": [
    "# Get the product ticker for a specific product.\n",
    "gdax_client.get_product_ticker(product_id='ETH-USD')"
   ]
  },
  {
   "cell_type": "code",
   "execution_count": null,
   "metadata": {},
   "outputs": [],
   "source": [
    "# Get the product trades for a specific product.\n",
    "gdax_client.get_product_trades(product_id='ETH-USD')"
   ]
  },
  {
   "cell_type": "code",
   "execution_count": null,
   "metadata": {},
   "outputs": [],
   "source": [
    "gdax_client.get_product_24hr_stats('ETH-USD')"
   ]
  },
  {
   "cell_type": "markdown",
   "metadata": {},
   "source": [
    "### Accounts"
   ]
  },
  {
   "cell_type": "code",
   "execution_count": null,
   "metadata": {},
   "outputs": [],
   "source": [
    "## Accounts - DANGER!\n",
    "gdax_client.get_accounts()\n",
    "# gdax_client.get_account(cfg.GDAX_BTC_ACCOUNT)\n",
    "# gdax_client.get_account(cfg.GDAX_USD_ACCOUNT)\n",
    "# gdax_client.get_account_history(cfg.GDAX_BTC_ACCOUNT)\n",
    "# gdax_client.get_account_holds(cfg.GDAX_BTC_ACCOUNT)"
   ]
  },
  {
   "cell_type": "markdown",
   "metadata": {},
   "source": [
    "### Buy/Sell"
   ]
  },
  {
   "cell_type": "code",
   "execution_count": null,
   "metadata": {},
   "outputs": [],
   "source": [
    "# Buy 0.01 BTC @ 100 USD\n",
    "gdax_client.buy(price='100.00', #USD\n",
    "               size='0.01', #BTC\n",
    "               product_id=c.BTC_USD)"
   ]
  },
  {
   "cell_type": "code",
   "execution_count": null,
   "metadata": {},
   "outputs": [],
   "source": [
    "# Sell 0.01 BTC @ 200 USD\n",
    "gdax_client.sell(price='200.00', #USD\n",
    "                size='0.01', #BTC\n",
    "                product_id=c.BTC_USD)"
   ]
  },
  {
   "cell_type": "markdown",
   "metadata": {},
   "source": [
    "### Orders"
   ]
  },
  {
   "cell_type": "code",
   "execution_count": null,
   "metadata": {},
   "outputs": [],
   "source": [
    "gdax_client.get_orders(product_id=c.BTC_USD)"
   ]
  },
  {
   "cell_type": "code",
   "execution_count": null,
   "metadata": {},
   "outputs": [],
   "source": [
    "order_id = '9a7ffa16-017a-4ec4-9c8f-31b6e92a7878'\n",
    "order = gdax_client.get_order(order_id)\n",
    "order"
   ]
  },
  {
   "cell_type": "code",
   "execution_count": null,
   "metadata": {},
   "outputs": [],
   "source": [
    "gdax_client.get_fills()\n",
    "gdax_client.get_fills(product_id=c.ETH_USD)\n",
    "gdax_client.get_fills(order_id=order_id)"
   ]
  },
  {
   "cell_type": "code",
   "execution_count": null,
   "metadata": {},
   "outputs": [],
   "source": [
    "gdax_client.cancel_order(order_id)"
   ]
  },
  {
   "cell_type": "markdown",
   "metadata": {},
   "source": [
    "### Deposit / Withdraw"
   ]
  },
  {
   "cell_type": "code",
   "execution_count": null,
   "metadata": {},
   "outputs": [],
   "source": [
    "# https://docs.gdax.com/#depositwithdraw\n",
    "\n",
    "# Deposit from Coinbase into GDAX\n",
    "deposit = {\n",
    "    'amount': '25.00', # Currency determined by account specified\n",
    "    'coinbase_account_id': ''\n",
    "}\n",
    "gdax_client.deposit(deposit)"
   ]
  },
  {
   "cell_type": "code",
   "execution_count": null,
   "metadata": {},
   "outputs": [],
   "source": [
    "# Withdraw from GDAX into Coinbase\n",
    "withdraw = {\n",
    "    'amount': '1.00', # Currency determined by account specified\n",
    "    'coinbase_account_id': ''\n",
    "}\n",
    "gdax_client.withdraw(withdraw)"
   ]
  },
  {
   "cell_type": "markdown",
   "metadata": {},
   "source": [
    "### Streaming"
   ]
  },
  {
   "cell_type": "code",
   "execution_count": null,
   "metadata": {},
   "outputs": [],
   "source": [
    "class myWebsocketClient(gdax.WebsocketClient):\n",
    "    def on_open(self):\n",
    "        self.url = cfg.GDAX_WEBSOCKET\n",
    "        self.products = [c.BTC_USD]\n",
    "        self.message_count = 0\n",
    "        print(\"Lets count the messages!\")\n",
    "    \n",
    "    def on_message(self, msg):\n",
    "        self.message_count += 1\n",
    "        if 'price' in msg and 'type' in msg:\n",
    "            print (\"Message type:\", msg[\"type\"],\n",
    "                   \"\\t@ {:.3f}\".format(float(msg[\"price\"])))\n",
    "    \n",
    "    def on_close(self):\n",
    "        print(\"-- Goodbye! --\")\n",
    "\n",
    "        \n",
    "wsClient = myWebsocketClient()\n",
    "wsClient.start()\n",
    "print(wsClient.url, wsClient.products)\n",
    "while (wsClient.message_count < 500):\n",
    "    print (\"\\nmessage_count =\", \"{} \\n\".format(wsClient.message_count))\n",
    "    time.sleep(1)\n",
    "wsClient.close()"
   ]
  },
  {
   "cell_type": "code",
   "execution_count": null,
   "metadata": {},
   "outputs": [],
   "source": [
    "wsClient.close()"
   ]
  },
  {
   "cell_type": "markdown",
   "metadata": {},
   "source": [
    "## Twitter"
   ]
  },
  {
   "cell_type": "code",
   "execution_count": null,
   "metadata": {},
   "outputs": [],
   "source": [
    "# Pass"
   ]
  }
 ],
 "metadata": {
  "kernelspec": {
   "display_name": "Python 3",
   "language": "python",
   "name": "python3"
  },
  "language_info": {
   "codemirror_mode": {
    "name": "ipython",
    "version": 3
   },
   "file_extension": ".py",
   "mimetype": "text/x-python",
   "name": "python",
   "nbconvert_exporter": "python",
   "pygments_lexer": "ipython3",
   "version": "3.6.0"
  },
  "latex_envs": {
   "LaTeX_envs_menu_present": true,
   "autocomplete": true,
   "bibliofile": "biblio.bib",
   "cite_by": "apalike",
   "current_citInitial": 1,
   "eqLabelWithNumbers": true,
   "eqNumInitial": 1,
   "hotkeys": {
    "equation": "Ctrl-E",
    "itemize": "Ctrl-I"
   },
   "labels_anchors": false,
   "latex_user_defs": false,
   "report_style_numbering": false,
   "user_envs_cfg": false
  },
  "toc": {
   "colors": {
    "hover_highlight": "#DAA520",
    "navigate_num": "#000000",
    "navigate_text": "#333333",
    "running_highlight": "#FF0000",
    "selected_highlight": "#FFD700",
    "sidebar_border": "#EEEEEE",
    "wrapper_background": "#FFFFFF"
   },
   "moveMenuLeft": true,
   "nav_menu": {
    "height": "49px",
    "width": "254px"
   },
   "navigate_menu": true,
   "number_sections": true,
   "sideBar": true,
   "threshold": 4,
   "toc_cell": false,
   "toc_section_display": "block",
   "toc_window_display": false,
   "widenNotebook": false
  }
 },
 "nbformat": 4,
 "nbformat_minor": 2
}
