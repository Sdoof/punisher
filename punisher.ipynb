{
 "cells": [
  {
   "cell_type": "code",
   "execution_count": 1,
   "metadata": {},
   "outputs": [],
   "source": [
    "%matplotlib inline\n",
    "%load_ext autoreload\n",
    "%autoreload 2\n",
    "from common import *\n",
    "import qgrid"
   ]
  },
  {
   "cell_type": "markdown",
   "metadata": {},
   "source": [
    "### CCXT"
   ]
  },
  {
   "cell_type": "code",
   "execution_count": 2,
   "metadata": {},
   "outputs": [],
   "source": [
    "polo = ccxt.poloniex({\n",
    "    'apiKey': cfg.POLONIEX_API_KEY,\n",
    "    'secret': cfg.POLONIEX_API_SECRET_KEY,\n",
    "})\n",
    "gdax = ccxt.gdax({\n",
    "    'apiKey': cfg.GDAX_API_KEY,\n",
    "    'secret': cfg.GDAX_API_SECRET_KEY,\n",
    "    'password': cfg.GDAX_PASSPHRASE,\n",
    "    'verbose':False,\n",
    "})\n",
    "binance = ccxt.binance()\n",
    "\n",
    "exchange = binance\n",
    "markets = exchange.load_markets()\n",
    "\n",
    "#print(exchange.id, markets)\n",
    "#print(exchange.fetch_order_book(exchange.symbols[0]))\n",
    "#print(exchange.fetch_ticker('ETH/BTC')) # coin/market - base/quote\n",
    "#print(exchange.fetch_trades('LTC/BTC'))"
   ]
  },
  {
   "cell_type": "markdown",
   "metadata": {},
   "source": [
    "### Ingest Data"
   ]
  },
  {
   "cell_type": "code",
   "execution_count": 23,
   "metadata": {},
   "outputs": [],
   "source": [
    "# Get historical data\n",
    "coins = [c.BTC, c.ETH, c.LTC]#, c.ETH, c.XRP, c.XMR, c.DASH]\n",
    "market = c.USDT\n",
    "coin = c.LTC\n",
    "symbol = ohlcv.get_symbol(coin, market)\n",
    "period = '1m' #1800\n",
    "#start = datetime.datetime(year=2018, month=1, day=4, hour=14)\n",
    "start = datetime.datetime.utcnow() - datetime.timedelta(hours=2)\n",
    "end = datetime.datetime.utcnow() - datetime.timedelta(hours=0)"
   ]
  },
  {
   "cell_type": "code",
   "execution_count": 24,
   "metadata": {},
   "outputs": [
    {
     "name": "stdout",
     "output_type": "stream",
     "text": [
      "Downloading: LTC/USDT\n",
      "Downloaded rows: 120\n"
     ]
    },
    {
     "data": {
      "text/html": [
       "<div>\n",
       "<table border=\"1\" class=\"dataframe\">\n",
       "  <thead>\n",
       "    <tr style=\"text-align: right;\">\n",
       "      <th></th>\n",
       "      <th>open</th>\n",
       "      <th>high</th>\n",
       "      <th>low</th>\n",
       "      <th>close</th>\n",
       "      <th>volume</th>\n",
       "      <th>time_utc</th>\n",
       "    </tr>\n",
       "    <tr>\n",
       "      <th>time_epoch</th>\n",
       "      <th></th>\n",
       "      <th></th>\n",
       "      <th></th>\n",
       "      <th></th>\n",
       "      <th></th>\n",
       "      <th></th>\n",
       "    </tr>\n",
       "  </thead>\n",
       "  <tbody>\n",
       "    <tr>\n",
       "      <th>1515128280</th>\n",
       "      <td>237.05</td>\n",
       "      <td>237.05</td>\n",
       "      <td>235.54</td>\n",
       "      <td>235.54</td>\n",
       "      <td>3.76646</td>\n",
       "      <td>2018-01-05 04:58:00</td>\n",
       "    </tr>\n",
       "    <tr>\n",
       "      <th>1515128340</th>\n",
       "      <td>236.68</td>\n",
       "      <td>236.68</td>\n",
       "      <td>236.28</td>\n",
       "      <td>236.28</td>\n",
       "      <td>0.64080</td>\n",
       "      <td>2018-01-05 04:59:00</td>\n",
       "    </tr>\n",
       "    <tr>\n",
       "      <th>1515128400</th>\n",
       "      <td>236.28</td>\n",
       "      <td>236.69</td>\n",
       "      <td>235.94</td>\n",
       "      <td>236.28</td>\n",
       "      <td>2.33100</td>\n",
       "      <td>2018-01-05 05:00:00</td>\n",
       "    </tr>\n",
       "    <tr>\n",
       "      <th>1515128460</th>\n",
       "      <td>236.28</td>\n",
       "      <td>237.06</td>\n",
       "      <td>235.97</td>\n",
       "      <td>235.98</td>\n",
       "      <td>19.19505</td>\n",
       "      <td>2018-01-05 05:01:00</td>\n",
       "    </tr>\n",
       "    <tr>\n",
       "      <th>1515128520</th>\n",
       "      <td>237.03</td>\n",
       "      <td>237.03</td>\n",
       "      <td>236.99</td>\n",
       "      <td>236.99</td>\n",
       "      <td>19.70281</td>\n",
       "      <td>2018-01-05 05:02:00</td>\n",
       "    </tr>\n",
       "  </tbody>\n",
       "</table>\n",
       "</div>"
      ],
      "text/plain": [
       "              open    high     low   close    volume            time_utc\n",
       "time_epoch                                                              \n",
       "1515128280  237.05  237.05  235.54  235.54   3.76646 2018-01-05 04:58:00\n",
       "1515128340  236.68  236.68  236.28  236.28   0.64080 2018-01-05 04:59:00\n",
       "1515128400  236.28  236.69  235.94  236.28   2.33100 2018-01-05 05:00:00\n",
       "1515128460  236.28  237.06  235.97  235.98  19.19505 2018-01-05 05:01:00\n",
       "1515128520  237.03  237.03  236.99  236.99  19.70281 2018-01-05 05:02:00"
      ]
     },
     "execution_count": 24,
     "metadata": {},
     "output_type": "execute_result"
    }
   ],
   "source": [
    "# Single Coin\n",
    "df = ohlcv.fetch_and_save_ohlcv_data(exchange, coin, market, period, start, end)\n",
    "df.head()"
   ]
  },
  {
   "cell_type": "code",
   "execution_count": 25,
   "metadata": {},
   "outputs": [
    {
     "name": "stdout",
     "output_type": "stream",
     "text": [
      "Downloading: BTC/USDT\n",
      "Downloaded rows: 120\n",
      "Downloading: ETH/USDT\n",
      "Downloaded rows: 120\n",
      "Downloading: LTC/USDT\n",
      "Downloaded rows: 120\n"
     ]
    },
    {
     "data": {
      "text/html": [
       "<div>\n",
       "<table border=\"1\" class=\"dataframe\">\n",
       "  <thead>\n",
       "    <tr style=\"text-align: right;\">\n",
       "      <th></th>\n",
       "      <th>BTC/USDT</th>\n",
       "      <th>ETH/USDT</th>\n",
       "      <th>LTC/USDT</th>\n",
       "      <th>time_utc</th>\n",
       "    </tr>\n",
       "    <tr>\n",
       "      <th>time_epoch</th>\n",
       "      <th></th>\n",
       "      <th></th>\n",
       "      <th></th>\n",
       "      <th></th>\n",
       "    </tr>\n",
       "  </thead>\n",
       "  <tbody>\n",
       "    <tr>\n",
       "      <th>1515128280</th>\n",
       "      <td>14865.82</td>\n",
       "      <td>1009.95</td>\n",
       "      <td>235.54</td>\n",
       "      <td>2018-01-05 04:58:00</td>\n",
       "    </tr>\n",
       "    <tr>\n",
       "      <th>1515128340</th>\n",
       "      <td>14820.05</td>\n",
       "      <td>1008.83</td>\n",
       "      <td>236.28</td>\n",
       "      <td>2018-01-05 04:59:00</td>\n",
       "    </tr>\n",
       "    <tr>\n",
       "      <th>1515128400</th>\n",
       "      <td>14825.78</td>\n",
       "      <td>1006.63</td>\n",
       "      <td>236.28</td>\n",
       "      <td>2018-01-05 05:00:00</td>\n",
       "    </tr>\n",
       "    <tr>\n",
       "      <th>1515128460</th>\n",
       "      <td>14828.02</td>\n",
       "      <td>1008.07</td>\n",
       "      <td>235.98</td>\n",
       "      <td>2018-01-05 05:01:00</td>\n",
       "    </tr>\n",
       "    <tr>\n",
       "      <th>1515128520</th>\n",
       "      <td>14872.92</td>\n",
       "      <td>1006.64</td>\n",
       "      <td>236.99</td>\n",
       "      <td>2018-01-05 05:02:00</td>\n",
       "    </tr>\n",
       "  </tbody>\n",
       "</table>\n",
       "</div>"
      ],
      "text/plain": [
       "            BTC/USDT  ETH/USDT  LTC/USDT            time_utc\n",
       "time_epoch                                                  \n",
       "1515128280  14865.82   1009.95    235.54 2018-01-05 04:58:00\n",
       "1515128340  14820.05   1008.83    236.28 2018-01-05 04:59:00\n",
       "1515128400  14825.78   1006.63    236.28 2018-01-05 05:00:00\n",
       "1515128460  14828.02   1008.07    235.98 2018-01-05 05:01:00\n",
       "1515128520  14872.92   1006.64    236.99 2018-01-05 05:02:00"
      ]
     },
     "execution_count": 25,
     "metadata": {},
     "output_type": "execute_result"
    }
   ],
   "source": [
    "# Multiple Coins\n",
    "ohlcv.download_chart_data(exchange, coins, market, period, start, end)\n",
    "df = ohlcv.load_multi_coin_data(exchange.id, coins, market, period, start)\n",
    "df.head()"
   ]
  },
  {
   "cell_type": "markdown",
   "metadata": {},
   "source": [
    "### Feeds"
   ]
  },
  {
   "cell_type": "code",
   "execution_count": 26,
   "metadata": {},
   "outputs": [
    {
     "name": "stdout",
     "output_type": "stream",
     "text": [
      "Loading feed: data/binance_LTC_USDT_1m.csv\n"
     ]
    }
   ],
   "source": [
    "# CSV Feed\n",
    "feed_fpath = ohlcv.get_price_data_fpath(coin=c.LTC, market=c.USDT, exchange_id=exchange.id, period='1m')\n",
    "feed = CSVDataFeed(feed_fpath)\n",
    "feed.initialize()"
   ]
  },
  {
   "cell_type": "code",
   "execution_count": 27,
   "metadata": {},
   "outputs": [
    {
     "name": "stdout",
     "output_type": "stream",
     "text": [
      "2018-01-05 04:58:00 235.54\n",
      "2018-01-05 04:59:00 236.28\n",
      "2018-01-05 05:00:00 236.28\n"
     ]
    }
   ],
   "source": [
    "# Grab 1 row at a time\n",
    "for i in range(3):\n",
    "    data = feed.next()\n",
    "    print(data['time_utc'], data['close'])"
   ]
  },
  {
   "cell_type": "code",
   "execution_count": 28,
   "metadata": {},
   "outputs": [
    {
     "data": {
      "text/html": [
       "<div>\n",
       "<table border=\"1\" class=\"dataframe\">\n",
       "  <thead>\n",
       "    <tr style=\"text-align: right;\">\n",
       "      <th></th>\n",
       "      <th>open</th>\n",
       "      <th>high</th>\n",
       "      <th>low</th>\n",
       "      <th>close</th>\n",
       "      <th>volume</th>\n",
       "      <th>time_utc</th>\n",
       "    </tr>\n",
       "    <tr>\n",
       "      <th>time_epoch</th>\n",
       "      <th></th>\n",
       "      <th></th>\n",
       "      <th></th>\n",
       "      <th></th>\n",
       "      <th></th>\n",
       "      <th></th>\n",
       "    </tr>\n",
       "  </thead>\n",
       "  <tbody>\n",
       "    <tr>\n",
       "      <th>1515128340</th>\n",
       "      <td>236.68</td>\n",
       "      <td>236.68</td>\n",
       "      <td>236.28</td>\n",
       "      <td>236.28</td>\n",
       "      <td>0.64080</td>\n",
       "      <td>2018-01-05 04:59:00</td>\n",
       "    </tr>\n",
       "    <tr>\n",
       "      <th>1515128400</th>\n",
       "      <td>236.28</td>\n",
       "      <td>236.69</td>\n",
       "      <td>235.94</td>\n",
       "      <td>236.28</td>\n",
       "      <td>2.33100</td>\n",
       "      <td>2018-01-05 05:00:00</td>\n",
       "    </tr>\n",
       "    <tr>\n",
       "      <th>1515128460</th>\n",
       "      <td>236.28</td>\n",
       "      <td>237.06</td>\n",
       "      <td>235.97</td>\n",
       "      <td>235.98</td>\n",
       "      <td>19.19505</td>\n",
       "      <td>2018-01-05 05:01:00</td>\n",
       "    </tr>\n",
       "    <tr>\n",
       "      <th>1515128520</th>\n",
       "      <td>237.03</td>\n",
       "      <td>237.03</td>\n",
       "      <td>236.99</td>\n",
       "      <td>236.99</td>\n",
       "      <td>19.70281</td>\n",
       "      <td>2018-01-05 05:02:00</td>\n",
       "    </tr>\n",
       "    <tr>\n",
       "      <th>1515128580</th>\n",
       "      <td>236.99</td>\n",
       "      <td>237.00</td>\n",
       "      <td>235.98</td>\n",
       "      <td>237.00</td>\n",
       "      <td>66.42281</td>\n",
       "      <td>2018-01-05 05:03:00</td>\n",
       "    </tr>\n",
       "  </tbody>\n",
       "</table>\n",
       "</div>"
      ],
      "text/plain": [
       "              open    high     low   close    volume            time_utc\n",
       "time_epoch                                                              \n",
       "1515128340  236.68  236.68  236.28  236.28   0.64080 2018-01-05 04:59:00\n",
       "1515128400  236.28  236.69  235.94  236.28   2.33100 2018-01-05 05:00:00\n",
       "1515128460  236.28  237.06  235.97  235.98  19.19505 2018-01-05 05:01:00\n",
       "1515128520  237.03  237.03  236.99  236.99  19.70281 2018-01-05 05:02:00\n",
       "1515128580  236.99  237.00  235.98  237.00  66.42281 2018-01-05 05:03:00"
      ]
     },
     "execution_count": 28,
     "metadata": {},
     "output_type": "execute_result"
    }
   ],
   "source": [
    "# Access all rows in history\n",
    "feed.history.head()"
   ]
  },
  {
   "cell_type": "code",
   "execution_count": 88,
   "metadata": {},
   "outputs": [],
   "source": [
    "# Exchange Live Feed\n",
    "\n",
    "coins = [c.ETH, c.XRP, c.XMR]\n",
    "market = c.BTC\n",
    "period = '1m'\n",
    "start = datetime.datetime.utcnow() - datetime.timedelta(hours=1)\n",
    "end = None\n",
    "feed_fpath = ohlcv.get_price_data_fpath(coins[2], market, exchange.id, period)"
   ]
  },
  {
   "cell_type": "code",
   "execution_count": 89,
   "metadata": {},
   "outputs": [
    {
     "name": "stdout",
     "output_type": "stream",
     "text": [
      "Loading feed: data/binance_XMR_BTC_1m.csv\n",
      "Downloading: XMR/BTC\n",
      "Downloaded rows: 61\n"
     ]
    }
   ],
   "source": [
    "feed = ExchangeDataFeed(exchange, [coins[2]], market, period, feed_fpath, start, end)\n",
    "feed.initialize()"
   ]
  },
  {
   "cell_type": "code",
   "execution_count": 90,
   "metadata": {},
   "outputs": [
    {
     "data": {
      "text/html": [
       "<div>\n",
       "<table border=\"1\" class=\"dataframe\">\n",
       "  <thead>\n",
       "    <tr style=\"text-align: right;\">\n",
       "      <th></th>\n",
       "      <th>open</th>\n",
       "      <th>high</th>\n",
       "      <th>low</th>\n",
       "      <th>close</th>\n",
       "      <th>volume</th>\n",
       "      <th>time_utc</th>\n",
       "    </tr>\n",
       "    <tr>\n",
       "      <th>time_epoch</th>\n",
       "      <th></th>\n",
       "      <th></th>\n",
       "      <th></th>\n",
       "      <th></th>\n",
       "      <th></th>\n",
       "      <th></th>\n",
       "    </tr>\n",
       "  </thead>\n",
       "  <tbody>\n",
       "    <tr>\n",
       "      <th>1515132960</th>\n",
       "      <td>0.024084</td>\n",
       "      <td>0.024213</td>\n",
       "      <td>0.024084</td>\n",
       "      <td>0.024099</td>\n",
       "      <td>22.987</td>\n",
       "      <td>2018-01-05 06:16:00</td>\n",
       "    </tr>\n",
       "    <tr>\n",
       "      <th>1515133020</th>\n",
       "      <td>0.024101</td>\n",
       "      <td>0.024195</td>\n",
       "      <td>0.024101</td>\n",
       "      <td>0.024195</td>\n",
       "      <td>2.209</td>\n",
       "      <td>2018-01-05 06:17:00</td>\n",
       "    </tr>\n",
       "    <tr>\n",
       "      <th>1515133080</th>\n",
       "      <td>0.024111</td>\n",
       "      <td>0.024194</td>\n",
       "      <td>0.024092</td>\n",
       "      <td>0.024093</td>\n",
       "      <td>53.653</td>\n",
       "      <td>2018-01-05 06:18:00</td>\n",
       "    </tr>\n",
       "    <tr>\n",
       "      <th>1515133140</th>\n",
       "      <td>0.024104</td>\n",
       "      <td>0.024114</td>\n",
       "      <td>0.024094</td>\n",
       "      <td>0.024114</td>\n",
       "      <td>9.100</td>\n",
       "      <td>2018-01-05 06:19:00</td>\n",
       "    </tr>\n",
       "    <tr>\n",
       "      <th>1515133200</th>\n",
       "      <td>0.024102</td>\n",
       "      <td>0.024188</td>\n",
       "      <td>0.024102</td>\n",
       "      <td>0.024105</td>\n",
       "      <td>6.602</td>\n",
       "      <td>2018-01-05 06:20:00</td>\n",
       "    </tr>\n",
       "  </tbody>\n",
       "</table>\n",
       "</div>"
      ],
      "text/plain": [
       "                open      high       low     close  volume            time_utc\n",
       "time_epoch                                                                    \n",
       "1515132960  0.024084  0.024213  0.024084  0.024099  22.987 2018-01-05 06:16:00\n",
       "1515133020  0.024101  0.024195  0.024101  0.024195   2.209 2018-01-05 06:17:00\n",
       "1515133080  0.024111  0.024194  0.024092  0.024093  53.653 2018-01-05 06:18:00\n",
       "1515133140  0.024104  0.024114  0.024094  0.024114   9.100 2018-01-05 06:19:00\n",
       "1515133200  0.024102  0.024188  0.024102  0.024105   6.602 2018-01-05 06:20:00"
      ]
     },
     "execution_count": 90,
     "metadata": {},
     "output_type": "execute_result"
    }
   ],
   "source": [
    "# Access History\n",
    "feed.history.head()"
   ]
  },
  {
   "cell_type": "code",
   "execution_count": 91,
   "metadata": {},
   "outputs": [
    {
     "name": "stdout",
     "output_type": "stream",
     "text": [
      "2018-01-05 06:16:00 0.024099\n",
      "2018-01-05 06:17:00 0.024195\n",
      "2018-01-05 06:18:00 0.024093\n"
     ]
    }
   ],
   "source": [
    "# Grab 1 row at a time (don't refresh data)\n",
    "for i in range(3):\n",
    "    data = feed.next(refresh=False)\n",
    "    print(data['time_utc'], data['close'])"
   ]
  },
  {
   "cell_type": "code",
   "execution_count": 92,
   "metadata": {},
   "outputs": [
    {
     "name": "stdout",
     "output_type": "stream",
     "text": [
      "Downloading: XMR/BTC\n",
      "Downloaded rows: 58\n",
      "2018-01-05 06:19:00 0.024114\n"
     ]
    }
   ],
   "source": [
    "# Refresh data before next query\n",
    "data = feed.next(refresh=True)\n",
    "print(data['time_utc'], data['close'])"
   ]
  },
  {
   "cell_type": "code",
   "execution_count": 93,
   "metadata": {},
   "outputs": [],
   "source": [
    "# Example Using the Feed\n",
    "\n",
    "def my_strategy(row, history, exchange):\n",
    "    print(\"Time:\", row['time_utc'], \"Price:\", row['close'])\n",
    "    if row['close'] > .024:\n",
    "        print(\"Buying coin\")\n",
    "        #res = exchange.limit_buy(quantity=1, price=5)\n",
    "    else:\n",
    "        print(\"Selling that stupid coin\")\n",
    "    return {\n",
    "        'time': row['time_utc'],\n",
    "        'close': row['close'],\n",
    "        'action': 'buy',\n",
    "        'quantity': 1,\n",
    "        'price': 5,\n",
    "        'exchange': exchange.id\n",
    "    }\n",
    "\n",
    "def backtest(feed, strategy, exchange):\n",
    "    results = []\n",
    "    row = feed.next()\n",
    "    while row is not None:\n",
    "        output = strategy(row, feed, exchange)\n",
    "        row = feed.next(refresh=True)\n",
    "        results.append(output)\n",
    "    return results"
   ]
  },
  {
   "cell_type": "code",
   "execution_count": 97,
   "metadata": {
    "scrolled": false
   },
   "outputs": [
    {
     "name": "stdout",
     "output_type": "stream",
     "text": [
      "No data after prior poll: 2018-01-05 07:16:00\n"
     ]
    }
   ],
   "source": [
    "res = backtest(feed, my_strategy, exchange)"
   ]
  },
  {
   "cell_type": "markdown",
   "metadata": {},
   "source": [
    "### Strategy"
   ]
  },
  {
   "cell_type": "code",
   "execution_count": 225,
   "metadata": {},
   "outputs": [],
   "source": [
    "# https://www.backtrader.com/docu/quickstart/quickstart.html\n",
    "# https://enigmampc.github.io/catalyst/beginner-tutorial.html#basics\n",
    "\n",
    "class Strategy():\n",
    "    def __init__(self, context):\n",
    "        self.ctx = context\n",
    "        self.initialize()\n",
    "    \n",
    "    def initialize(self):\n",
    "        self.ctx.symbol = 'BTC/USD'\n",
    "    \n",
    "    def handle_data(self, data):\n",
    "        # Handle next iteration of data from feed\n",
    "        pass\n",
    "    \n",
    "class TestStrategy():\n",
    "    def __init__(self):\n",
    "        pass\n",
    "    \n",
    "    def next(self, data):\n",
    "        pass"
   ]
  },
  {
   "cell_type": "markdown",
   "metadata": {},
   "source": [
    "### Plotting"
   ]
  },
  {
   "cell_type": "code",
   "execution_count": 262,
   "metadata": {},
   "outputs": [
    {
     "data": {
      "image/png": "[encoded data removed]",
      "text/plain": [
       "<matplotlib.figure.Figure at 0x7f243f7f4e48>"
      ]
     },
     "metadata": {},
     "output_type": "display_data"
    }
   ],
   "source": [
    "utils.charts.plot_range(feed.history, start, end, 'close')"
   ]
  },
  {
   "cell_type": "markdown",
   "metadata": {},
   "source": [
    "### Exchange"
   ]
  },
  {
   "cell_type": "code",
   "execution_count": 118,
   "metadata": {},
   "outputs": [],
   "source": [
    "# https://github.com/ccxt/ccxt/blob/master/python/ccxt/base/exchange.py\n",
    "\n",
    "class Exchange():\n",
    "    def __init__(self):\n",
    "        pass\n",
    "\n",
    "class CCXTExchange(Exchange):\n",
    "    def __init__(self, exchange_client):\n",
    "        self.ex = exchange_client\n",
    "        \n",
    "    def fetch_balance(self):\n",
    "        return self.ex.fetch_balance()\n",
    "    \n",
    "    def limit_buy(self, symbol, quantity, price):\n",
    "        return self.ex.create_limit_buy_order(symbol, quantity, price)\n",
    "    \n",
    "\n",
    "class TestExchange(Exchange):\n",
    "    def __init__(self):\n",
    "        self.orders = {'BTC/USD':[]}\n",
    "        self.trades = {}\n",
    "        self.fees = {'trading': .025, 'funding': .025}\n",
    "        self.balance = {\n",
    "            'BTC': {'free': 0.0, 'total': 0.0, 'used': 0.0},\n",
    "            'USD': {'free': 0.6, 'total': 0.6, 'used': 0.0},\n",
    "            'free': {'BCH': 0.0, 'BTC': 0.6, 'ETH': 0.0, 'LTC': 0.0, 'USD': 486.3}\n",
    "        }\n",
    "    \n",
    "    def fetch_balance(self):\n",
    "        return self.balance\n",
    "    \n",
    "    def limit_buy(self, coin, market, quantity, price):\n",
    "        symbol = ohlcv.get_symbol(coin, market)\n",
    "        self.orders[symbol].append(\"NEW_ORDER\")\n",
    "        \n",
    "        # We assume the order goes through\n",
    "        self.balance[market]['free'] -= quantity * price\n",
    "        self.balance[coin]['used'] += quantity * price\n",
    "        \n",
    "        # Account for fees here\n",
    "        self.balance[market]['total'] -= self.fees['trading']\n",
    "        return self.orders"
   ]
  },
  {
   "cell_type": "code",
   "execution_count": 120,
   "metadata": {},
   "outputs": [
    {
     "name": "stdout",
     "output_type": "stream",
     "text": [
      "{'BTC': {'free': 0.0, 'total': 0.0, 'used': 0.0}, 'USD': {'free': 0.6, 'total': 0.6, 'used': 0.0}, 'free': {'BCH': 0.0, 'BTC': 0.6, 'ETH': 0.0, 'LTC': 0.0, 'USD': 486.3}}\n"
     ]
    },
    {
     "data": {
      "text/plain": [
       "{'BTC/USD': ['NEW_ORDER']}"
      ]
     },
     "execution_count": 120,
     "metadata": {},
     "output_type": "execute_result"
    }
   ],
   "source": [
    "ex = TestExchange()\n",
    "print(ex.fetch_balance())\n",
    "orders = ex.limit_buy(c.BTC, c.USD, 1, 15000.0)\n",
    "orders"
   ]
  },
  {
   "cell_type": "code",
   "execution_count": null,
   "metadata": {},
   "outputs": [],
   "source": [
    "EX = Exchange(gdax)"
   ]
  },
  {
   "cell_type": "markdown",
   "metadata": {},
   "source": [
    "### Runner"
   ]
  },
  {
   "cell_type": "code",
   "execution_count": null,
   "metadata": {},
   "outputs": [],
   "source": [
    "from enum import Enum, unique\n",
    "\n",
    "@unique\n",
    "class TradeMode(Enum):\n",
    "    BACKTEST = 0\n",
    "    SIMULATE = 1\n",
    "    LIVE = 2\n",
    "\n",
    "class Punisher():\n",
    "    def __init__(self, exchange, feed, strategy, record):\n",
    "        self.exchange = exchange\n",
    "        self.feed = feed\n",
    "        self.strategy = strategy\n",
    "        self.record = {\n",
    "            'test': [],\n",
    "            'live': []\n",
    "        }\n",
    "        \n",
    "    def backtest(self):\n",
    "        results = []\n",
    "        row = feed.next()\n",
    "        while row is not None:\n",
    "            print(\"Timestep\", row['time_utc'], \"Price\", row['close'])\n",
    "            row = feed.next()\n",
    "            output = self.strategy(row, exchange, feed)\n",
    "            results.append(output)\n",
    "        return results\n",
    "    \n",
    "    def simulate(self):\n",
    "        while True:\n",
    "            row = feed.next()\n",
    "            if row is not None:\n",
    "                output = self.strategy(row, exchange, feed)\n",
    "                self.record['test'].append(output)\n",
    "            time.sleep(2)\n",
    "\n",
    "    def live(self):\n",
    "        while True:\n",
    "            row = feed.next()\n",
    "            if row is not None:\n",
    "                output = self.strategy(row, exchange, feed)\n",
    "                self.record['live'].append(output)\n",
    "            time.sleep(2)\n",
    "    \n",
    "    def punish(self, mode=False):\n",
    "        if mode == TradeMode.BACKTEST:\n",
    "            print(\"Backtesting ...\")\n",
    "            self.backtest()\n",
    "        elif mode == TradeMode.SIMULATE:\n",
    "            print(\"Simulating orders ...\")\n",
    "            self.simulate()\n",
    "        elif mode == TradeMode.LIVE:\n",
    "            print(\"LIVE TRADING! CAREFUL!\")\n",
    "            self.live()"
   ]
  },
  {
   "cell_type": "markdown",
   "metadata": {},
   "source": [
    "### Trading"
   ]
  },
  {
   "cell_type": "code",
   "execution_count": null,
   "metadata": {},
   "outputs": [],
   "source": [
    "# Trading\n",
    "print(exchange.fetch_balance())\n",
    "\n",
    "# sell one ฿ for market price and receive $ right now\n",
    "print(exchange.id, exchange.create_market_sell_order('BTC/USD', 1))\n",
    "\n",
    "# limit buy BTC/EUR, you pay €2500 and receive ฿1  when the order is closed\n",
    "print(exchange.id, exchange.create_limit_buy_order('BTC/EUR', 1, 2500.00))\n",
    "\n",
    "# pass/redefine custom exchange-specific order params: type, amount, price, flags, etc...\n",
    "polo.create_market_buy_order('BTC/USD', 1, {'trading_agreement': 'agree'})"
   ]
  }
 ],
 "metadata": {
  "kernelspec": {
   "display_name": "Python 3",
   "language": "python",
   "name": "python3"
  },
  "language_info": {
   "codemirror_mode": {
    "name": "ipython",
    "version": 3
   },
   "file_extension": ".py",
   "mimetype": "text/x-python",
   "name": "python",
   "nbconvert_exporter": "python",
   "pygments_lexer": "ipython3",
   "version": "3.6.0"
  },
  "latex_envs": {
   "LaTeX_envs_menu_present": true,
   "autocomplete": true,
   "bibliofile": "biblio.bib",
   "cite_by": "apalike",
   "current_citInitial": 1,
   "eqLabelWithNumbers": true,
   "eqNumInitial": 1,
   "hotkeys": {
    "equation": "Ctrl-E",
    "itemize": "Ctrl-I"
   },
   "labels_anchors": false,
   "latex_user_defs": false,
   "report_style_numbering": false,
   "user_envs_cfg": false
  },
  "toc": {
   "colors": {
    "hover_highlight": "#DAA520",
    "navigate_num": "#000000",
    "navigate_text": "#333333",
    "running_highlight": "#FF0000",
    "selected_highlight": "#FFD700",
    "sidebar_border": "#EEEEEE",
    "wrapper_background": "#FFFFFF"
   },
   "moveMenuLeft": true,
   "nav_menu": {
    "height": "71px",
    "width": "254px"
   },
   "navigate_menu": true,
   "number_sections": true,
   "sideBar": true,
   "threshold": 4,
   "toc_cell": false,
   "toc_section_display": "block",
   "toc_window_display": false,
   "widenNotebook": false
  }
 },
 "nbformat": 4,
 "nbformat_minor": 2
}
