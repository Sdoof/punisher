{
 "cells": [
  {
   "cell_type": "code",
   "execution_count": 46,
   "metadata": {},
   "outputs": [
    {
     "name": "stdout",
     "output_type": "stream",
     "text": [
      "The autoreload extension is already loaded. To reload it, use:\n",
      "  %reload_ext autoreload\n"
     ]
    }
   ],
   "source": [
    "%matplotlib inline\n",
    "%load_ext autoreload\n",
    "%autoreload 2\n",
    "from common import *\n",
    "import qgrid"
   ]
  },
  {
   "cell_type": "markdown",
   "metadata": {},
   "source": [
    "### Exchange"
   ]
  },
  {
   "cell_type": "code",
   "execution_count": 49,
   "metadata": {},
   "outputs": [
    {
     "name": "stdout",
     "output_type": "stream",
     "text": [
      "Exchange binance\n",
      "{'1m': '1m', '3m': '3m', '5m': '5m', '15m': '15m', '30m': '30m', '1h': '1h', '2h': '2h', '4h': '4h', '6h': '6h', '8h': '8h', '12h': '12h', '1d': '1d', '3d': '3d', '1w': '1w', '1M': '1M'}\n",
      "Exchange gdax\n",
      "{'1m': 60, '5m': 300, '15m': 900, '30m': 1800, '1h': 3600, '2h': 7200, '4h': 14400, '12h': 43200, '1d': 86400, '1w': 604800, '1M': 2592000, '1y': 31536000}\n",
      "Exchange poloniex\n",
      "{'5m': 300, '15m': 900, '30m': 1800, '2h': 7200, '4h': 14400, '1d': 86400}\n"
     ]
    }
   ],
   "source": [
    "# Public informaiton\n",
    "exchanges = [c.BINANCE, c.GDAX, c.POLONIEX]\n",
    "a = Asset(c.ETH, c.BTC)\n",
    "for ex in exchanges:\n",
    "    print(\"Exchange\", ex)\n",
    "    exchange = load_exchange(ex)\n",
    "    print(exchange.timeframes)\n",
    "    exchange.get_markets()\n",
    "    exchange.fetch_ohlcv(a.symbol, '5m')\n",
    "    exchange.fetch_order_book(a.symbol)\n",
    "    exchange.fetch_public_trades(a.symbol)\n",
    "    exchange.fetch_ticker(a.symbol)"
   ]
  },
  {
   "cell_type": "code",
   "execution_count": 50,
   "metadata": {},
   "outputs": [
    {
     "name": "stdout",
     "output_type": "stream",
     "text": [
      "Exchange binance\n",
      "Exchange gdax\n"
     ]
    }
   ],
   "source": [
    "# Account Information\n",
    "exchanges = [c.BINANCE, c.GDAX]\n",
    "a = Asset(c.ETH, c.BTC)\n",
    "for ex in exchanges:\n",
    "    print(\"Exchange\", ex)\n",
    "    exchange = load_exchange(ex)\n",
    "    exchange.fetch_balance()\n",
    "    exchange.fetch_orders(a.symbol)\n",
    "    exchange.fetch_open_orders(a.symbol)\n",
    "    exchange.fetch_closed_orders(a.symbol)"
   ]
  },
  {
   "cell_type": "code",
   "execution_count": 51,
   "metadata": {},
   "outputs": [
    {
     "name": "stdout",
     "output_type": "stream",
     "text": [
      "Exchange binance\n",
      "BTS {'free': 0.955, 'used': 0.0, 'total': 0.955} BTC {'free': 0.05005258, 'used': 0.0, 'total': 0.05005258}\n",
      "{'info': {'symbol': 'BTSBTC', 'orderId': 3511379, 'clientOrderId': 'Ydx2Ooh2L1et7e2eep1LeI', 'transactTime': 1515289809612, 'price': '0.00000000', 'origQty': '1.00000000', 'executedQty': '1.00000000', 'status': 'FILLED', 'timeInForce': 'GTC', 'type': 'MARKET', 'side': 'BUY'}, 'id': '3511379'}\n"
     ]
    }
   ],
   "source": [
    "exchanges = [c.BINANCE]\n",
    "a = Asset(c.BTS, c.BTC)\n",
    "\n",
    "# Market BUY\n",
    "for ex in exchanges:\n",
    "    print(\"Exchange\", ex)\n",
    "    exchange = load_exchange(ex)\n",
    "    balance = exchange.fetch_balance()\n",
    "    print(a.base, balance[a.base], a.quote, balance[a.quote])\n",
    "    order = exchange.create_market_buy_order(a.symbol, 1)\n",
    "    print(order)"
   ]
  },
  {
   "cell_type": "code",
   "execution_count": 52,
   "metadata": {},
   "outputs": [
    {
     "name": "stdout",
     "output_type": "stream",
     "text": [
      "Exchange binance\n",
      "BTS {'free': 1.954, 'used': 0.0, 'total': 1.954} BTC {'free': 0.05000476, 'used': 0.0, 'total': 0.05000476}\n",
      "Placed order {'info': {'symbol': 'BTSBTC', 'orderId': 3511379, 'clientOrderId': 'Ydx2Ooh2L1et7e2eep1LeI', 'price': '0.00000000', 'origQty': '1.00000000', 'executedQty': '1.00000000', 'status': 'FILLED', 'timeInForce': 'GTC', 'type': 'MARKET', 'side': 'BUY', 'stopPrice': '0.00000000', 'icebergQty': '0.00000000', 'time': 1515289809612, 'isWorking': True}, 'id': '3511379', 'timestamp': 1515289809612, 'datetime': '2018-01-07T01:50:10.612Z', 'symbol': 'BTS/BTC', 'type': 'market', 'side': 'buy', 'price': 0.0, 'amount': 1.0, 'cost': 0.0, 'filled': 1.0, 'remaining': 0.0, 'status': 'closed', 'fee': None}\n"
     ]
    }
   ],
   "source": [
    "exchanges = [c.BINANCE]\n",
    "a = Asset(c.BTS, c.BTC)\n",
    "\n",
    "# Market SELL\n",
    "for ex in exchanges:\n",
    "    print(\"Exchange\", ex)\n",
    "    exchange = load_exchange(ex)\n",
    "    balance = exchange.fetch_balance()\n",
    "    print(a.base, balance[a.base], a.quote, balance[a.quote])\n",
    "    found_order = exchange.fetch_order(order['info']['orderId'], a.symbol)\n",
    "    print(\"Placed order\", found_order)    "
   ]
  },
  {
   "cell_type": "code",
   "execution_count": null,
   "metadata": {},
   "outputs": [],
   "source": [
    "exchanges = [c.BINANCE]\n",
    "a = Asset(c.BTS, c.BTC)\n",
    "\n",
    "# Sell all remaining quantity\n",
    "for ex in exchanges:\n",
    "    # For very small amounts the exchanges will deny the request\n",
    "    # We need to handle this in the order_manager or executor\n",
    "    print(\"Exchange\", ex)\n",
    "    exchange = load_exchange(ex)\n",
    "    balance = exchange.fetch_balance()[a.base]\n",
    "    print(a.base, balance['total'])\n",
    "    order = exchange.create_market_sell_order(a.symbol, balance['total'])\n",
    "    print(order)"
   ]
  },
  {
   "cell_type": "code",
   "execution_count": null,
   "metadata": {},
   "outputs": [],
   "source": [
    "exchange.fetch_balance()[a.base]"
   ]
  },
  {
   "cell_type": "markdown",
   "metadata": {},
   "source": [
    "### Ingest Data"
   ]
  },
  {
   "cell_type": "code",
   "execution_count": 39,
   "metadata": {},
   "outputs": [],
   "source": [
    "base = c.LTC\n",
    "quote = c.USDT\n",
    "exchange = load_exchange(c.BINANCE)\n",
    "asset = Asset(base, quote)\n",
    "assets = [ Asset(coin, quote) for coin in [c.BTC, c.ETH, c.LTC] ]\n",
    "period = '1m' \n",
    "start = datetime.datetime.utcnow() - datetime.timedelta(hours=2)\n",
    "end = datetime.datetime.utcnow() - datetime.timedelta(hours=0)"
   ]
  },
  {
   "cell_type": "code",
   "execution_count": 41,
   "metadata": {},
   "outputs": [
    {
     "name": "stdout",
     "output_type": "stream",
     "text": [
      "Downloading: LTC/USDT\n",
      "Downloaded rows: 120\n"
     ]
    },
    {
     "ename": "AttributeError",
     "evalue": "'CCXTExchange' object has no attribute 'id'",
     "output_type": "error",
     "traceback": [
      "\u001b[0;31m---------------------------------------------------------------------------\u001b[0m",
      "\u001b[0;31mAttributeError\u001b[0m                            Traceback (most recent call last)",
      "\u001b[0;32m<ipython-input-41-ca3d90beb85f>\u001b[0m in \u001b[0;36m<module>\u001b[0;34m()\u001b[0m\n\u001b[1;32m      1\u001b[0m \u001b[0;31m# Single Coin\u001b[0m\u001b[0;34m\u001b[0m\u001b[0;34m\u001b[0m\u001b[0m\n\u001b[0;32m----> 2\u001b[0;31m \u001b[0mdf\u001b[0m \u001b[0;34m=\u001b[0m \u001b[0mohlcv\u001b[0m\u001b[0;34m.\u001b[0m\u001b[0mfetch_and_save_ohlcv_data\u001b[0m\u001b[0;34m(\u001b[0m\u001b[0mexchange\u001b[0m\u001b[0;34m,\u001b[0m \u001b[0masset\u001b[0m\u001b[0;34m,\u001b[0m \u001b[0mperiod\u001b[0m\u001b[0;34m,\u001b[0m \u001b[0mstart\u001b[0m\u001b[0;34m,\u001b[0m \u001b[0mend\u001b[0m\u001b[0;34m)\u001b[0m\u001b[0;34m\u001b[0m\u001b[0m\n\u001b[0m\u001b[1;32m      3\u001b[0m \u001b[0mdf\u001b[0m\u001b[0;34m.\u001b[0m\u001b[0mhead\u001b[0m\u001b[0;34m(\u001b[0m\u001b[0;34m)\u001b[0m\u001b[0;34m\u001b[0m\u001b[0m\n",
      "\u001b[0;32m/home/bfortuner/workplace/punisher/datafeeds/ohlcv.py\u001b[0m in \u001b[0;36mfetch_and_save_ohlcv_data\u001b[0;34m(exchange, asset, period, start, end)\u001b[0m\n\u001b[1;32m     32\u001b[0m \u001b[0;32mdef\u001b[0m \u001b[0mfetch_and_save_ohlcv_data\u001b[0m\u001b[0;34m(\u001b[0m\u001b[0mexchange\u001b[0m\u001b[0;34m,\u001b[0m \u001b[0masset\u001b[0m\u001b[0;34m,\u001b[0m \u001b[0mperiod\u001b[0m\u001b[0;34m,\u001b[0m \u001b[0mstart\u001b[0m\u001b[0;34m,\u001b[0m \u001b[0mend\u001b[0m\u001b[0;34m=\u001b[0m\u001b[0;32mNone\u001b[0m\u001b[0;34m)\u001b[0m\u001b[0;34m:\u001b[0m\u001b[0;34m\u001b[0m\u001b[0m\n\u001b[1;32m     33\u001b[0m     \u001b[0mdf\u001b[0m \u001b[0;34m=\u001b[0m \u001b[0mfetch_ohlcv_data\u001b[0m\u001b[0;34m(\u001b[0m\u001b[0mexchange\u001b[0m\u001b[0;34m,\u001b[0m \u001b[0masset\u001b[0m\u001b[0;34m,\u001b[0m \u001b[0mperiod\u001b[0m\u001b[0;34m,\u001b[0m \u001b[0mstart\u001b[0m\u001b[0;34m,\u001b[0m \u001b[0mend\u001b[0m\u001b[0;34m)\u001b[0m\u001b[0;34m\u001b[0m\u001b[0m\n\u001b[0;32m---> 34\u001b[0;31m     \u001b[0mfpath\u001b[0m \u001b[0;34m=\u001b[0m \u001b[0mget_price_data_fpath\u001b[0m\u001b[0;34m(\u001b[0m\u001b[0masset\u001b[0m\u001b[0;34m,\u001b[0m \u001b[0mexchange\u001b[0m\u001b[0;34m.\u001b[0m\u001b[0mid\u001b[0m\u001b[0;34m,\u001b[0m \u001b[0mperiod\u001b[0m\u001b[0;34m)\u001b[0m\u001b[0;34m\u001b[0m\u001b[0m\n\u001b[0m\u001b[1;32m     35\u001b[0m     \u001b[0mdf\u001b[0m\u001b[0;34m.\u001b[0m\u001b[0mto_csv\u001b[0m\u001b[0;34m(\u001b[0m\u001b[0mfpath\u001b[0m\u001b[0;34m,\u001b[0m \u001b[0mindex\u001b[0m\u001b[0;34m=\u001b[0m\u001b[0;32mTrue\u001b[0m\u001b[0;34m)\u001b[0m\u001b[0;34m\u001b[0m\u001b[0m\n\u001b[1;32m     36\u001b[0m     \u001b[0;32mreturn\u001b[0m \u001b[0mdf\u001b[0m\u001b[0;34m\u001b[0m\u001b[0m\n",
      "\u001b[0;31mAttributeError\u001b[0m: 'CCXTExchange' object has no attribute 'id'"
     ]
    }
   ],
   "source": [
    "# Single Coin\n",
    "df = ohlcv.fetch_and_save_ohlcv_data(exchange, asset, period, start, end)\n",
    "df.head()"
   ]
  },
  {
   "cell_type": "code",
   "execution_count": 43,
   "metadata": {},
   "outputs": [
    {
     "data": {
      "text/plain": [
       "'binance'"
      ]
     },
     "execution_count": 43,
     "metadata": {},
     "output_type": "execute_result"
    }
   ],
   "source": [
    "exchange.client.id"
   ]
  },
  {
   "cell_type": "code",
   "execution_count": null,
   "metadata": {},
   "outputs": [],
   "source": [
    "# Load from File\n",
    "fpath = ohlcv.get_price_data_fpath(asset, exchange.id, period)\n",
    "df = ohlcv.load_chart_data_from_file(fpath)"
   ]
  },
  {
   "cell_type": "code",
   "execution_count": null,
   "metadata": {},
   "outputs": [],
   "source": [
    "# Multiple Coins\n",
    "ohlcv.download_chart_data(exchange, assets, period, start, end)\n",
    "df = ohlcv.load_multiple_assets(exchange.id, assets, period, start)\n",
    "df.head()"
   ]
  },
  {
   "cell_type": "markdown",
   "metadata": {},
   "source": [
    "### Feeds"
   ]
  },
  {
   "cell_type": "code",
   "execution_count": null,
   "metadata": {},
   "outputs": [],
   "source": [
    "# CSV Feed\n",
    "feed_fpath = ohlcv.get_price_data_fpath(asset, exchange.id, period='1m')\n",
    "feed = CSVDataFeed(feed_fpath)\n",
    "feed.initialize()"
   ]
  },
  {
   "cell_type": "code",
   "execution_count": null,
   "metadata": {},
   "outputs": [],
   "source": [
    "# Grab 1 row at a time\n",
    "for i in range(3):\n",
    "    data = feed.next()\n",
    "    print(data['time_utc'], data['close'])"
   ]
  },
  {
   "cell_type": "code",
   "execution_count": null,
   "metadata": {},
   "outputs": [],
   "source": [
    "# Access all rows in history\n",
    "feed.history().head()"
   ]
  },
  {
   "cell_type": "code",
   "execution_count": null,
   "metadata": {},
   "outputs": [],
   "source": [
    "# Exchange Live Feed\n",
    "start = datetime.datetime.utcnow() - datetime.timedelta(hours=1)\n",
    "end = None\n",
    "feed_fpath = ohlcv.get_price_data_fpath(asset, exchange.id, period='1m')"
   ]
  },
  {
   "cell_type": "code",
   "execution_count": null,
   "metadata": {},
   "outputs": [],
   "source": [
    "feed = ExchangeDataFeed(exchange, [assets[0]], period, feed_fpath, start, end)\n",
    "feed.initialize()"
   ]
  },
  {
   "cell_type": "code",
   "execution_count": null,
   "metadata": {},
   "outputs": [],
   "source": [
    "# Access History\n",
    "feed.history(t_minus=3).tail()"
   ]
  },
  {
   "cell_type": "code",
   "execution_count": null,
   "metadata": {},
   "outputs": [],
   "source": [
    "# Grab 1 row at a time (don't refresh data)\n",
    "for i in range(3):\n",
    "    data = feed.next(refresh=False)\n",
    "    print(data['time_utc'], data['close'])"
   ]
  },
  {
   "cell_type": "code",
   "execution_count": null,
   "metadata": {},
   "outputs": [],
   "source": [
    "# Refresh data before next query\n",
    "data = feed.next(refresh=True)\n",
    "print(data['time_utc'], data['close'])"
   ]
  },
  {
   "cell_type": "code",
   "execution_count": null,
   "metadata": {},
   "outputs": [],
   "source": [
    "# Example Using the Feed\n",
    "\n",
    "def my_strategy(row, history, exchange):\n",
    "    print(\"Time:\", row['time_utc'], \"Price:\", row['close'])\n",
    "    if row['close'] > .024:\n",
    "        print(\"Buying coin\")\n",
    "        #res = exchange.limit_buy(quantity=1, price=5)\n",
    "    else:\n",
    "        print(\"Selling that stupid coin\")\n",
    "    return {\n",
    "        'time': row['time_utc'],\n",
    "        'close': row['close'],\n",
    "        'action': 'buy',\n",
    "        'quantity': 1,\n",
    "        'price': 5,\n",
    "        'exchange': exchange.id\n",
    "    }\n",
    "\n",
    "def backtest(feed, strategy, exchange):\n",
    "    results = []\n",
    "    row = feed.next()\n",
    "    while row is not None:\n",
    "        output = strategy(row, feed, exchange)\n",
    "        row = feed.next(refresh=True)\n",
    "        results.append(output)\n",
    "    return results"
   ]
  },
  {
   "cell_type": "code",
   "execution_count": null,
   "metadata": {
    "scrolled": false
   },
   "outputs": [],
   "source": [
    "res = backtest(feed, my_strategy, exchange)"
   ]
  },
  {
   "cell_type": "markdown",
   "metadata": {},
   "source": [
    "### Order"
   ]
  },
  {
   "cell_type": "code",
   "execution_count": null,
   "metadata": {},
   "outputs": [],
   "source": [
    "asset = Asset(c.LTC, c.USDT)\n",
    "order = Order(\n",
    "    exchange_id=exchange.id, \n",
    "    asset=asset,\n",
    "    price=250., \n",
    "    quantity=1, \n",
    "    order_type=OrderType.LIMIT_BUY\n",
    ")\n",
    "order"
   ]
  },
  {
   "cell_type": "markdown",
   "metadata": {},
   "source": [
    "### Strategy"
   ]
  },
  {
   "cell_type": "code",
   "execution_count": null,
   "metadata": {},
   "outputs": [],
   "source": [
    "# https://www.backtrader.com/docu/quickstart/quickstart.html\n",
    "# https://enigmampc.github.io/catalyst/beginner-tutorial.html#basics\n",
    "\n",
    "class Strategy():\n",
    "    def __init__(self, params):\n",
    "        self.params = params\n",
    "        self.initialize()\n",
    "    \n",
    "    def initialize(self):\n",
    "        self.ctx.symbol = 'BTC/USD'\n",
    "    \n",
    "    def handle_data(self, data):\n",
    "        # Handle next iteration of data from feed\n",
    "        pass\n",
    "    \n",
    "class TestStrategy():\n",
    "    def __init__(self):\n",
    "        pass\n",
    "    \n",
    "    def next(self, data):\n",
    "        pass"
   ]
  },
  {
   "cell_type": "markdown",
   "metadata": {},
   "source": [
    "### Plotting"
   ]
  },
  {
   "cell_type": "code",
   "execution_count": null,
   "metadata": {},
   "outputs": [],
   "source": [
    "utils.charts.plot_range(feed.history(), start, end, 'close')"
   ]
  },
  {
   "cell_type": "markdown",
   "metadata": {},
   "source": [
    "### Exchange"
   ]
  },
  {
   "cell_type": "code",
   "execution_count": null,
   "metadata": {},
   "outputs": [],
   "source": [
    "ex = TestExchange()\n",
    "print(ex.fetch_balance())\n",
    "orders = ex.limit_buy(c.BTC, c.USD, 1, 15000.0)\n",
    "orders"
   ]
  },
  {
   "cell_type": "code",
   "execution_count": null,
   "metadata": {},
   "outputs": [],
   "source": [
    "EX = CCXTExchange(gdax)"
   ]
  },
  {
   "cell_type": "markdown",
   "metadata": {},
   "source": [
    "### Runner"
   ]
  },
  {
   "cell_type": "code",
   "execution_count": null,
   "metadata": {},
   "outputs": [],
   "source": [
    "@unique\n",
    "class TradeMode(Enum):\n",
    "    BACKTEST = 0\n",
    "    SIMULATE = 1\n",
    "    LIVE = 2\n",
    "\n",
    "\n",
    "class Punisher():\n",
    "    def __init__(self, exchange, feed, strategy, record):\n",
    "        self.exchange = exchange\n",
    "        self.feed = feed\n",
    "        self.strategy = strategy\n",
    "        self.record = record\n",
    "        \n",
    "    def backtest(self):\n",
    "        results = []\n",
    "        row = self.feed.next()\n",
    "        while row is not None:\n",
    "            print(\"Timestep\", row['time_utc'], \"Price\", row['close'])\n",
    "            row = self.feed.next()\n",
    "            output = self.strategy(row, self.exchange, self.feed)\n",
    "            results.append(output)\n",
    "        return results\n",
    "    \n",
    "    def simulate(self):\n",
    "        while True:\n",
    "            row = self.feed.next()\n",
    "            if row is not None:\n",
    "                output = self.strategy(row, self.exchange, self.feed)\n",
    "                self.record['test'].append(output)\n",
    "            time.sleep(2)\n",
    "\n",
    "    def live(self):\n",
    "        while True:\n",
    "            row = self.feed.next()\n",
    "            if row is not None:\n",
    "                output = self.strategy(row, self.exchange, self.feed)\n",
    "                self.record['live'].append(output)\n",
    "            time.sleep(2)\n",
    "    \n",
    "    def punish(self, mode=False):\n",
    "        if mode == TradeMode.BACKTEST:\n",
    "            print(\"Backtesting ...\")\n",
    "            self.backtest()\n",
    "        elif mode == TradeMode.SIMULATE:\n",
    "            print(\"Simulating orders ...\")\n",
    "            self.simulate()\n",
    "        elif mode == TradeMode.LIVE:\n",
    "            print(\"LIVE TRADING! CAREFUL!\")\n",
    "            self.live()"
   ]
  }
 ],
 "metadata": {
  "kernelspec": {
   "display_name": "Python 3",
   "language": "python",
   "name": "python3"
  },
  "language_info": {
   "codemirror_mode": {
    "name": "ipython",
    "version": 3
   },
   "file_extension": ".py",
   "mimetype": "text/x-python",
   "name": "python",
   "nbconvert_exporter": "python",
   "pygments_lexer": "ipython3",
   "version": "3.6.0"
  },
  "latex_envs": {
   "LaTeX_envs_menu_present": true,
   "autocomplete": true,
   "bibliofile": "biblio.bib",
   "cite_by": "apalike",
   "current_citInitial": 1,
   "eqLabelWithNumbers": true,
   "eqNumInitial": 1,
   "hotkeys": {
    "equation": "Ctrl-E",
    "itemize": "Ctrl-I"
   },
   "labels_anchors": false,
   "latex_user_defs": false,
   "report_style_numbering": false,
   "user_envs_cfg": false
  },
  "toc": {
   "colors": {
    "hover_highlight": "#DAA520",
    "navigate_num": "#000000",
    "navigate_text": "#333333",
    "running_highlight": "#FF0000",
    "selected_highlight": "#FFD700",
    "sidebar_border": "#EEEEEE",
    "wrapper_background": "#FFFFFF"
   },
   "moveMenuLeft": true,
   "nav_menu": {
    "height": "71px",
    "width": "254px"
   },
   "navigate_menu": true,
   "number_sections": true,
   "sideBar": true,
   "threshold": 4,
   "toc_cell": false,
   "toc_section_display": "block",
   "toc_window_display": false,
   "widenNotebook": false
  }
 },
 "nbformat": 4,
 "nbformat_minor": 2
}
