{
 "cells": [
  {
   "cell_type": "code",
   "execution_count": 63,
   "metadata": {},
   "outputs": [
    {
     "name": "stdout",
     "output_type": "stream",
     "text": [
      "The autoreload extension is already loaded. To reload it, use:\n",
      "  %reload_ext autoreload\n"
     ]
    }
   ],
   "source": [
    "%matplotlib inline\n",
    "%load_ext autoreload\n",
    "%autoreload 2\n",
    "from common import *\n",
    "import qgrid"
   ]
  },
  {
   "cell_type": "markdown",
   "metadata": {},
   "source": [
    "### CCXT"
   ]
  },
  {
   "cell_type": "code",
   "execution_count": 64,
   "metadata": {},
   "outputs": [],
   "source": [
    "polo = ccxt.poloniex({\n",
    "    'apiKey': cfg.POLONIEX_API_KEY,\n",
    "    'secret': cfg.POLONIEX_API_SECRET_KEY,\n",
    "})\n",
    "gdax = ccxt.gdax({\n",
    "    'apiKey': cfg.GDAX_API_KEY,\n",
    "    'secret': cfg.GDAX_API_SECRET_KEY,\n",
    "    'password': cfg.GDAX_PASSPHRASE,\n",
    "    'verbose':False,\n",
    "})\n",
    "binance = ccxt.binance()\n",
    "\n",
    "exchange = binance\n",
    "markets = exchange.load_markets()\n",
    "\n",
    "#print(exchange.id, markets)\n",
    "#print(exchange.fetch_order_book(exchange.symbols[0]))\n",
    "#print(exchange.fetch_ticker('ETH/BTC')) # coin/market - base/quote\n",
    "#print(exchange.fetch_trades('LTC/BTC'))"
   ]
  },
  {
   "cell_type": "markdown",
   "metadata": {},
   "source": [
    "### Ingest Data"
   ]
  },
  {
   "cell_type": "code",
   "execution_count": 65,
   "metadata": {},
   "outputs": [],
   "source": [
    "# Get historical data\n",
    "coins = [c.BTC, c.ETH, c.LTC]#, c.ETH, c.XRP, c.XMR, c.DASH]\n",
    "market = c.USDT\n",
    "coin = c.LTC\n",
    "symbol = ohlcv.get_symbol(coin, market)\n",
    "period = '1m' #1800\n",
    "#start = datetime.datetime(year=2018, month=1, day=4, hour=14)\n",
    "start = datetime.datetime.utcnow() - datetime.timedelta(hours=2)\n",
    "end = datetime.datetime.utcnow() - datetime.timedelta(hours=0)"
   ]
  },
  {
   "cell_type": "code",
   "execution_count": 66,
   "metadata": {},
   "outputs": [
    {
     "name": "stdout",
     "output_type": "stream",
     "text": [
      "Downloading: LTC/USDT\n",
      "Downloaded rows: 120\n"
     ]
    },
    {
     "data": {
      "text/html": [
       "<div>\n",
       "<table border=\"1\" class=\"dataframe\">\n",
       "  <thead>\n",
       "    <tr style=\"text-align: right;\">\n",
       "      <th></th>\n",
       "      <th>open</th>\n",
       "      <th>high</th>\n",
       "      <th>low</th>\n",
       "      <th>close</th>\n",
       "      <th>volume</th>\n",
       "      <th>time_utc</th>\n",
       "    </tr>\n",
       "    <tr>\n",
       "      <th>time_epoch</th>\n",
       "      <th></th>\n",
       "      <th></th>\n",
       "      <th></th>\n",
       "      <th></th>\n",
       "      <th></th>\n",
       "      <th></th>\n",
       "    </tr>\n",
       "  </thead>\n",
       "  <tbody>\n",
       "    <tr>\n",
       "      <th>1515193620</th>\n",
       "      <td>238.11</td>\n",
       "      <td>239.19</td>\n",
       "      <td>238.00</td>\n",
       "      <td>238.99</td>\n",
       "      <td>13.82443</td>\n",
       "      <td>2018-01-05 23:07:00</td>\n",
       "    </tr>\n",
       "    <tr>\n",
       "      <th>1515193680</th>\n",
       "      <td>238.86</td>\n",
       "      <td>238.99</td>\n",
       "      <td>238.70</td>\n",
       "      <td>238.94</td>\n",
       "      <td>12.77529</td>\n",
       "      <td>2018-01-05 23:08:00</td>\n",
       "    </tr>\n",
       "    <tr>\n",
       "      <th>1515193740</th>\n",
       "      <td>238.94</td>\n",
       "      <td>239.43</td>\n",
       "      <td>238.90</td>\n",
       "      <td>239.43</td>\n",
       "      <td>28.70739</td>\n",
       "      <td>2018-01-05 23:09:00</td>\n",
       "    </tr>\n",
       "    <tr>\n",
       "      <th>1515193800</th>\n",
       "      <td>239.61</td>\n",
       "      <td>241.28</td>\n",
       "      <td>239.29</td>\n",
       "      <td>240.53</td>\n",
       "      <td>55.46923</td>\n",
       "      <td>2018-01-05 23:10:00</td>\n",
       "    </tr>\n",
       "    <tr>\n",
       "      <th>1515193860</th>\n",
       "      <td>239.73</td>\n",
       "      <td>240.53</td>\n",
       "      <td>239.73</td>\n",
       "      <td>239.73</td>\n",
       "      <td>4.58759</td>\n",
       "      <td>2018-01-05 23:11:00</td>\n",
       "    </tr>\n",
       "  </tbody>\n",
       "</table>\n",
       "</div>"
      ],
      "text/plain": [
       "              open    high     low   close    volume            time_utc\n",
       "time_epoch                                                              \n",
       "1515193620  238.11  239.19  238.00  238.99  13.82443 2018-01-05 23:07:00\n",
       "1515193680  238.86  238.99  238.70  238.94  12.77529 2018-01-05 23:08:00\n",
       "1515193740  238.94  239.43  238.90  239.43  28.70739 2018-01-05 23:09:00\n",
       "1515193800  239.61  241.28  239.29  240.53  55.46923 2018-01-05 23:10:00\n",
       "1515193860  239.73  240.53  239.73  239.73   4.58759 2018-01-05 23:11:00"
      ]
     },
     "execution_count": 66,
     "metadata": {},
     "output_type": "execute_result"
    }
   ],
   "source": [
    "# Single Coin\n",
    "df = ohlcv.fetch_and_save_ohlcv_data(exchange, coin, market, period, start, end)\n",
    "df.head()"
   ]
  },
  {
   "cell_type": "code",
   "execution_count": 44,
   "metadata": {},
   "outputs": [
    {
     "data": {
      "text/plain": [
       "Timestamp('2018-01-05 23:00:00')"
      ]
     },
     "execution_count": 44,
     "metadata": {},
     "output_type": "execute_result"
    }
   ],
   "source": [
    "df.iloc[0]['time_utc']"
   ]
  },
  {
   "cell_type": "code",
   "execution_count": 68,
   "metadata": {},
   "outputs": [],
   "source": [
    "fpath = ohlcv.get_price_data_fpath(coin, market, exchange.id, period)"
   ]
  },
  {
   "cell_type": "code",
   "execution_count": 69,
   "metadata": {},
   "outputs": [],
   "source": [
    "df = ohlcv.load_chart_data_from_file(fpath)"
   ]
  },
  {
   "cell_type": "code",
   "execution_count": 72,
   "metadata": {},
   "outputs": [
    {
     "name": "stdout",
     "output_type": "stream",
     "text": [
      "Downloading: BTC/USDT\n",
      "Downloaded rows: 120\n",
      "Downloading: ETH/USDT\n",
      "Downloaded rows: 120\n",
      "Downloading: LTC/USDT\n",
      "Downloaded rows: 120\n"
     ]
    },
    {
     "data": {
      "text/html": [
       "<div>\n",
       "<table border=\"1\" class=\"dataframe\">\n",
       "  <thead>\n",
       "    <tr style=\"text-align: right;\">\n",
       "      <th></th>\n",
       "      <th>BTC/USDT</th>\n",
       "      <th>ETH/USDT</th>\n",
       "      <th>LTC/USDT</th>\n",
       "      <th>time_utc</th>\n",
       "    </tr>\n",
       "    <tr>\n",
       "      <th>time_epoch</th>\n",
       "      <th></th>\n",
       "      <th></th>\n",
       "      <th></th>\n",
       "      <th></th>\n",
       "    </tr>\n",
       "  </thead>\n",
       "  <tbody>\n",
       "    <tr>\n",
       "      <th>1515193620</th>\n",
       "      <td>16961.10</td>\n",
       "      <td>937.97</td>\n",
       "      <td>238.99</td>\n",
       "      <td>2018-01-05 23:07:00</td>\n",
       "    </tr>\n",
       "    <tr>\n",
       "      <th>1515193680</th>\n",
       "      <td>17000.00</td>\n",
       "      <td>937.90</td>\n",
       "      <td>238.94</td>\n",
       "      <td>2018-01-05 23:08:00</td>\n",
       "    </tr>\n",
       "    <tr>\n",
       "      <th>1515193740</th>\n",
       "      <td>17000.24</td>\n",
       "      <td>937.65</td>\n",
       "      <td>239.43</td>\n",
       "      <td>2018-01-05 23:09:00</td>\n",
       "    </tr>\n",
       "    <tr>\n",
       "      <th>1515193800</th>\n",
       "      <td>17052.99</td>\n",
       "      <td>937.03</td>\n",
       "      <td>240.53</td>\n",
       "      <td>2018-01-05 23:10:00</td>\n",
       "    </tr>\n",
       "    <tr>\n",
       "      <th>1515193860</th>\n",
       "      <td>17040.00</td>\n",
       "      <td>938.46</td>\n",
       "      <td>239.73</td>\n",
       "      <td>2018-01-05 23:11:00</td>\n",
       "    </tr>\n",
       "  </tbody>\n",
       "</table>\n",
       "</div>"
      ],
      "text/plain": [
       "            BTC/USDT  ETH/USDT  LTC/USDT            time_utc\n",
       "time_epoch                                                  \n",
       "1515193620  16961.10    937.97    238.99 2018-01-05 23:07:00\n",
       "1515193680  17000.00    937.90    238.94 2018-01-05 23:08:00\n",
       "1515193740  17000.24    937.65    239.43 2018-01-05 23:09:00\n",
       "1515193800  17052.99    937.03    240.53 2018-01-05 23:10:00\n",
       "1515193860  17040.00    938.46    239.73 2018-01-05 23:11:00"
      ]
     },
     "execution_count": 72,
     "metadata": {},
     "output_type": "execute_result"
    }
   ],
   "source": [
    "# Multiple Coins\n",
    "ohlcv.download_chart_data(exchange, coins, market, period, start, end)\n",
    "df = ohlcv.load_multi_coin_data(exchange.id, coins, market, period, start)\n",
    "df.head()"
   ]
  },
  {
   "cell_type": "code",
   "execution_count": 73,
   "metadata": {},
   "outputs": [
    {
     "data": {
      "text/plain": [
       "Timestamp('2018-01-05 23:07:00')"
      ]
     },
     "execution_count": 73,
     "metadata": {},
     "output_type": "execute_result"
    }
   ],
   "source": [
    "df.iloc[0]['time_utc']"
   ]
  },
  {
   "cell_type": "markdown",
   "metadata": {},
   "source": [
    "### Feeds"
   ]
  },
  {
   "cell_type": "code",
   "execution_count": 74,
   "metadata": {},
   "outputs": [
    {
     "name": "stdout",
     "output_type": "stream",
     "text": [
      "Loading feed: data/binance_LTC_USDT_1m.csv\n",
      "START 0001-01-01 01:01:00\n",
      "PRIOR 0001-01-01 01:00:00\n"
     ]
    }
   ],
   "source": [
    "# CSV Feed\n",
    "feed_fpath = ohlcv.get_price_data_fpath(coin=c.LTC, market=c.USDT, exchange_id=exchange.id, period='1m')\n",
    "feed = CSVDataFeed(feed_fpath)\n",
    "feed.initialize()"
   ]
  },
  {
   "cell_type": "code",
   "execution_count": 78,
   "metadata": {},
   "outputs": [
    {
     "name": "stdout",
     "output_type": "stream",
     "text": [
      "2018-01-05 23:16:00 241.51\n",
      "2018-01-05 23:17:00 242.0\n",
      "2018-01-05 23:18:00 242.23\n"
     ]
    }
   ],
   "source": [
    "# Grab 1 row at a time\n",
    "for i in range(3):\n",
    "    data = feed.next()\n",
    "    print(data['time_utc'], data['close'])"
   ]
  },
  {
   "cell_type": "code",
   "execution_count": 80,
   "metadata": {},
   "outputs": [
    {
     "data": {
      "text/html": [
       "<div>\n",
       "<table border=\"1\" class=\"dataframe\">\n",
       "  <thead>\n",
       "    <tr style=\"text-align: right;\">\n",
       "      <th></th>\n",
       "      <th>open</th>\n",
       "      <th>high</th>\n",
       "      <th>low</th>\n",
       "      <th>close</th>\n",
       "      <th>volume</th>\n",
       "      <th>time_utc</th>\n",
       "    </tr>\n",
       "    <tr>\n",
       "      <th>time_epoch</th>\n",
       "      <th></th>\n",
       "      <th></th>\n",
       "      <th></th>\n",
       "      <th></th>\n",
       "      <th></th>\n",
       "      <th></th>\n",
       "    </tr>\n",
       "  </thead>\n",
       "  <tbody>\n",
       "    <tr>\n",
       "      <th>1515193620</th>\n",
       "      <td>238.11</td>\n",
       "      <td>239.19</td>\n",
       "      <td>238.00</td>\n",
       "      <td>238.99</td>\n",
       "      <td>13.82443</td>\n",
       "      <td>2018-01-05 23:07:00</td>\n",
       "    </tr>\n",
       "    <tr>\n",
       "      <th>1515193680</th>\n",
       "      <td>238.86</td>\n",
       "      <td>238.99</td>\n",
       "      <td>238.70</td>\n",
       "      <td>238.94</td>\n",
       "      <td>12.77529</td>\n",
       "      <td>2018-01-05 23:08:00</td>\n",
       "    </tr>\n",
       "    <tr>\n",
       "      <th>1515193740</th>\n",
       "      <td>238.94</td>\n",
       "      <td>239.43</td>\n",
       "      <td>238.90</td>\n",
       "      <td>239.43</td>\n",
       "      <td>28.70739</td>\n",
       "      <td>2018-01-05 23:09:00</td>\n",
       "    </tr>\n",
       "    <tr>\n",
       "      <th>1515193800</th>\n",
       "      <td>239.61</td>\n",
       "      <td>241.28</td>\n",
       "      <td>239.29</td>\n",
       "      <td>240.53</td>\n",
       "      <td>55.46923</td>\n",
       "      <td>2018-01-05 23:10:00</td>\n",
       "    </tr>\n",
       "    <tr>\n",
       "      <th>1515193860</th>\n",
       "      <td>239.73</td>\n",
       "      <td>240.53</td>\n",
       "      <td>239.73</td>\n",
       "      <td>239.73</td>\n",
       "      <td>4.58759</td>\n",
       "      <td>2018-01-05 23:11:00</td>\n",
       "    </tr>\n",
       "  </tbody>\n",
       "</table>\n",
       "</div>"
      ],
      "text/plain": [
       "              open    high     low   close    volume            time_utc\n",
       "time_epoch                                                              \n",
       "1515193620  238.11  239.19  238.00  238.99  13.82443 2018-01-05 23:07:00\n",
       "1515193680  238.86  238.99  238.70  238.94  12.77529 2018-01-05 23:08:00\n",
       "1515193740  238.94  239.43  238.90  239.43  28.70739 2018-01-05 23:09:00\n",
       "1515193800  239.61  241.28  239.29  240.53  55.46923 2018-01-05 23:10:00\n",
       "1515193860  239.73  240.53  239.73  239.73   4.58759 2018-01-05 23:11:00"
      ]
     },
     "execution_count": 80,
     "metadata": {},
     "output_type": "execute_result"
    }
   ],
   "source": [
    "# Access all rows in history\n",
    "feed.history().head()"
   ]
  },
  {
   "cell_type": "code",
   "execution_count": 81,
   "metadata": {},
   "outputs": [],
   "source": [
    "# Exchange Live Feed\n",
    "\n",
    "coins = [c.ETH, c.XRP, c.XMR]\n",
    "market = c.BTC\n",
    "period = '1m'\n",
    "start = datetime.datetime.utcnow() - datetime.timedelta(hours=1)\n",
    "end = None\n",
    "feed_fpath = ohlcv.get_price_data_fpath(coins[2], market, exchange.id, period)"
   ]
  },
  {
   "cell_type": "code",
   "execution_count": 82,
   "metadata": {},
   "outputs": [
    {
     "name": "stdout",
     "output_type": "stream",
     "text": [
      "Loading feed: data/binance_XMR_BTC_1m.csv\n",
      "START 2018-01-06 00:07:33.470649\n",
      "PRIOR 2018-01-06 00:06:33.470649\n",
      "Downloading: XMR/BTC\n",
      "Downloaded rows: 61\n"
     ]
    }
   ],
   "source": [
    "feed = ExchangeDataFeed(exchange, [coins[2]], market, period, feed_fpath, start, end)\n",
    "feed.initialize()"
   ]
  },
  {
   "cell_type": "code",
   "execution_count": 83,
   "metadata": {},
   "outputs": [
    {
     "data": {
      "text/html": [
       "<div>\n",
       "<table border=\"1\" class=\"dataframe\">\n",
       "  <thead>\n",
       "    <tr style=\"text-align: right;\">\n",
       "      <th></th>\n",
       "      <th>open</th>\n",
       "      <th>high</th>\n",
       "      <th>low</th>\n",
       "      <th>close</th>\n",
       "      <th>volume</th>\n",
       "      <th>time_utc</th>\n",
       "    </tr>\n",
       "    <tr>\n",
       "      <th>time_epoch</th>\n",
       "      <th></th>\n",
       "      <th></th>\n",
       "      <th></th>\n",
       "      <th></th>\n",
       "      <th></th>\n",
       "      <th></th>\n",
       "    </tr>\n",
       "  </thead>\n",
       "  <tbody>\n",
       "    <tr>\n",
       "      <th>1515200700</th>\n",
       "      <td>0.020889</td>\n",
       "      <td>0.020890</td>\n",
       "      <td>0.020816</td>\n",
       "      <td>0.020876</td>\n",
       "      <td>53.298</td>\n",
       "      <td>2018-01-06 01:05:00</td>\n",
       "    </tr>\n",
       "    <tr>\n",
       "      <th>1515200760</th>\n",
       "      <td>0.020891</td>\n",
       "      <td>0.020891</td>\n",
       "      <td>0.020813</td>\n",
       "      <td>0.020890</td>\n",
       "      <td>2.994</td>\n",
       "      <td>2018-01-06 01:06:00</td>\n",
       "    </tr>\n",
       "    <tr>\n",
       "      <th>1515200820</th>\n",
       "      <td>0.020890</td>\n",
       "      <td>0.020890</td>\n",
       "      <td>0.020843</td>\n",
       "      <td>0.020843</td>\n",
       "      <td>0.281</td>\n",
       "      <td>2018-01-06 01:07:00</td>\n",
       "    </tr>\n",
       "  </tbody>\n",
       "</table>\n",
       "</div>"
      ],
      "text/plain": [
       "                open      high       low     close  volume            time_utc\n",
       "time_epoch                                                                    \n",
       "1515200700  0.020889  0.020890  0.020816  0.020876  53.298 2018-01-06 01:05:00\n",
       "1515200760  0.020891  0.020891  0.020813  0.020890   2.994 2018-01-06 01:06:00\n",
       "1515200820  0.020890  0.020890  0.020843  0.020843   0.281 2018-01-06 01:07:00"
      ]
     },
     "execution_count": 83,
     "metadata": {},
     "output_type": "execute_result"
    }
   ],
   "source": [
    "# Access History\n",
    "feed.history(t_minus=3).tail()"
   ]
  },
  {
   "cell_type": "code",
   "execution_count": 87,
   "metadata": {},
   "outputs": [
    {
     "name": "stdout",
     "output_type": "stream",
     "text": [
      "2018-01-06 00:17:00 0.021303\n",
      "2018-01-06 00:18:00 0.021308\n",
      "2018-01-06 00:19:00 0.021401\n"
     ]
    }
   ],
   "source": [
    "# Grab 1 row at a time (don't refresh data)\n",
    "for i in range(3):\n",
    "    data = feed.next(refresh=False)\n",
    "    print(data['time_utc'], data['close'])"
   ]
  },
  {
   "cell_type": "code",
   "execution_count": 88,
   "metadata": {},
   "outputs": [
    {
     "name": "stdout",
     "output_type": "stream",
     "text": [
      "Downloading: XMR/BTC\n",
      "Downloaded rows: 50\n",
      "2018-01-06 00:20:00 0.021416\n"
     ]
    }
   ],
   "source": [
    "# Refresh data before next query\n",
    "data = feed.next(refresh=True)\n",
    "print(data['time_utc'], data['close'])"
   ]
  },
  {
   "cell_type": "code",
   "execution_count": 89,
   "metadata": {},
   "outputs": [],
   "source": [
    "# Example Using the Feed\n",
    "\n",
    "def my_strategy(row, history, exchange):\n",
    "    print(\"Time:\", row['time_utc'], \"Price:\", row['close'])\n",
    "    if row['close'] > .024:\n",
    "        print(\"Buying coin\")\n",
    "        #res = exchange.limit_buy(quantity=1, price=5)\n",
    "    else:\n",
    "        print(\"Selling that stupid coin\")\n",
    "    return {\n",
    "        'time': row['time_utc'],\n",
    "        'close': row['close'],\n",
    "        'action': 'buy',\n",
    "        'quantity': 1,\n",
    "        'price': 5,\n",
    "        'exchange': exchange.id\n",
    "    }\n",
    "\n",
    "def backtest(feed, strategy, exchange):\n",
    "    results = []\n",
    "    row = feed.next()\n",
    "    while row is not None:\n",
    "        output = strategy(row, feed, exchange)\n",
    "        row = feed.next(refresh=True)\n",
    "        results.append(output)\n",
    "    return results"
   ]
  },
  {
   "cell_type": "code",
   "execution_count": 90,
   "metadata": {
    "scrolled": false
   },
   "outputs": [
    {
     "name": "stdout",
     "output_type": "stream",
     "text": [
      "Time: 2018-01-06 00:21:00 Price: 0.02141\n",
      "Selling that stupid coin\n",
      "Downloading: XMR/BTC\n",
      "Downloaded rows: 48\n",
      "Time: 2018-01-06 00:22:00 Price: 0.021415\n",
      "Selling that stupid coin\n",
      "Downloading: XMR/BTC\n",
      "Downloaded rows: 47\n",
      "Time: 2018-01-06 00:23:00 Price: 0.021311\n",
      "Selling that stupid coin\n",
      "Downloading: XMR/BTC\n",
      "Downloaded rows: 46\n",
      "Time: 2018-01-06 00:24:00 Price: 0.021448\n",
      "Selling that stupid coin\n",
      "Downloading: XMR/BTC\n",
      "Downloaded rows: 45\n",
      "Time: 2018-01-06 00:25:00 Price: 0.021451\n",
      "Selling that stupid coin\n",
      "Downloading: XMR/BTC\n",
      "Downloaded rows: 44\n",
      "Time: 2018-01-06 00:26:00 Price: 0.021509\n",
      "Selling that stupid coin\n",
      "Downloading: XMR/BTC\n",
      "Downloaded rows: 43\n",
      "Time: 2018-01-06 00:27:00 Price: 0.021482\n",
      "Selling that stupid coin\n",
      "Downloading: XMR/BTC\n",
      "Downloaded rows: 42\n",
      "Time: 2018-01-06 00:28:00 Price: 0.021594\n",
      "Selling that stupid coin\n",
      "Downloading: XMR/BTC\n",
      "Downloaded rows: 41\n",
      "Time: 2018-01-06 00:29:00 Price: 0.021308\n",
      "Selling that stupid coin\n",
      "Downloading: XMR/BTC\n",
      "Downloaded rows: 40\n",
      "Time: 2018-01-06 00:30:00 Price: 0.021289\n",
      "Selling that stupid coin\n",
      "Downloading: XMR/BTC\n",
      "Downloaded rows: 39\n",
      "Time: 2018-01-06 00:31:00 Price: 0.021309\n",
      "Selling that stupid coin\n",
      "Downloading: XMR/BTC\n",
      "Downloaded rows: 38\n",
      "Time: 2018-01-06 00:32:00 Price: 0.021342\n",
      "Selling that stupid coin\n",
      "Downloading: XMR/BTC\n",
      "Downloaded rows: 37\n",
      "Time: 2018-01-06 00:33:00 Price: 0.021348\n",
      "Selling that stupid coin\n",
      "Downloading: XMR/BTC\n",
      "Downloaded rows: 36\n",
      "Time: 2018-01-06 00:34:00 Price: 0.021413\n",
      "Selling that stupid coin\n",
      "Downloading: XMR/BTC\n",
      "Downloaded rows: 35\n",
      "Time: 2018-01-06 00:35:00 Price: 0.021409\n",
      "Selling that stupid coin\n",
      "Downloading: XMR/BTC\n",
      "Downloaded rows: 34\n",
      "Time: 2018-01-06 00:36:00 Price: 0.021407\n",
      "Selling that stupid coin\n",
      "Downloading: XMR/BTC\n",
      "Downloaded rows: 33\n",
      "Time: 2018-01-06 00:37:00 Price: 0.021396\n",
      "Selling that stupid coin\n",
      "Downloading: XMR/BTC\n",
      "Downloaded rows: 32\n",
      "Time: 2018-01-06 00:38:00 Price: 0.021387\n",
      "Selling that stupid coin\n",
      "Downloading: XMR/BTC\n",
      "Downloaded rows: 31\n",
      "Time: 2018-01-06 00:39:00 Price: 0.021386\n",
      "Selling that stupid coin\n",
      "Downloading: XMR/BTC\n",
      "Downloaded rows: 30\n",
      "Time: 2018-01-06 00:40:00 Price: 0.021382\n",
      "Selling that stupid coin\n",
      "Downloading: XMR/BTC\n",
      "Downloaded rows: 29\n",
      "Time: 2018-01-06 00:41:00 Price: 0.021404\n",
      "Selling that stupid coin\n",
      "Downloading: XMR/BTC\n",
      "Downloaded rows: 28\n",
      "Time: 2018-01-06 00:42:00 Price: 0.021338\n",
      "Selling that stupid coin\n",
      "Downloading: XMR/BTC\n",
      "Downloaded rows: 27\n",
      "Time: 2018-01-06 00:43:00 Price: 0.021334\n",
      "Selling that stupid coin\n",
      "Downloading: XMR/BTC\n",
      "Downloaded rows: 26\n",
      "Time: 2018-01-06 00:44:00 Price: 0.021309\n",
      "Selling that stupid coin\n",
      "Downloading: XMR/BTC\n",
      "Downloaded rows: 25\n",
      "Time: 2018-01-06 00:45:00 Price: 0.021333\n",
      "Selling that stupid coin\n",
      "Downloading: XMR/BTC\n",
      "Downloaded rows: 24\n",
      "Time: 2018-01-06 00:46:00 Price: 0.021266\n",
      "Selling that stupid coin\n",
      "Downloading: XMR/BTC\n",
      "Downloaded rows: 23\n",
      "Time: 2018-01-06 00:47:00 Price: 0.021299\n",
      "Selling that stupid coin\n",
      "Downloading: XMR/BTC\n",
      "Downloaded rows: 22\n",
      "Time: 2018-01-06 00:48:00 Price: 0.021275\n",
      "Selling that stupid coin\n",
      "Downloading: XMR/BTC\n",
      "Downloaded rows: 21\n",
      "Time: 2018-01-06 00:49:00 Price: 0.021272\n",
      "Selling that stupid coin\n",
      "Downloading: XMR/BTC\n",
      "Downloaded rows: 20\n",
      "Time: 2018-01-06 00:50:00 Price: 0.021226\n",
      "Selling that stupid coin\n",
      "Downloading: XMR/BTC\n",
      "Downloaded rows: 19\n",
      "Time: 2018-01-06 00:51:00 Price: 0.021222\n",
      "Selling that stupid coin\n",
      "Downloading: XMR/BTC\n",
      "Downloaded rows: 18\n",
      "Time: 2018-01-06 00:52:00 Price: 0.020894\n",
      "Selling that stupid coin\n",
      "Downloading: XMR/BTC\n",
      "Downloaded rows: 17\n",
      "Time: 2018-01-06 00:53:00 Price: 0.021026\n",
      "Selling that stupid coin\n",
      "Downloading: XMR/BTC\n",
      "Downloaded rows: 16\n",
      "Time: 2018-01-06 00:54:00 Price: 0.021137\n",
      "Selling that stupid coin\n",
      "Downloading: XMR/BTC\n",
      "Downloaded rows: 15\n",
      "Time: 2018-01-06 00:55:00 Price: 0.021073\n",
      "Selling that stupid coin\n",
      "Downloading: XMR/BTC\n",
      "Downloaded rows: 14\n",
      "Time: 2018-01-06 00:56:00 Price: 0.021075\n",
      "Selling that stupid coin\n",
      "Downloading: XMR/BTC\n",
      "Downloaded rows: 13\n",
      "Time: 2018-01-06 00:57:00 Price: 0.021072\n",
      "Selling that stupid coin\n",
      "Downloading: XMR/BTC\n",
      "Downloaded rows: 12\n",
      "Time: 2018-01-06 00:58:00 Price: 0.021059\n",
      "Selling that stupid coin\n",
      "Downloading: XMR/BTC\n",
      "Downloaded rows: 11\n",
      "Time: 2018-01-06 00:59:00 Price: 0.021059\n",
      "Selling that stupid coin\n",
      "Downloading: XMR/BTC\n",
      "Downloaded rows: 10\n",
      "Time: 2018-01-06 01:00:00 Price: 0.020989\n",
      "Selling that stupid coin\n",
      "Downloading: XMR/BTC\n",
      "Downloaded rows: 9\n",
      "Time: 2018-01-06 01:01:00 Price: 0.020775\n",
      "Selling that stupid coin\n",
      "Downloading: XMR/BTC\n",
      "Downloaded rows: 8\n",
      "Time: 2018-01-06 01:02:00 Price: 0.020931\n",
      "Selling that stupid coin\n",
      "Downloading: XMR/BTC\n",
      "Downloaded rows: 7\n",
      "Time: 2018-01-06 01:03:00 Price: 0.020896\n",
      "Selling that stupid coin\n",
      "Downloading: XMR/BTC\n",
      "Downloaded rows: 6\n",
      "Time: 2018-01-06 01:04:00 Price: 0.020891\n",
      "Selling that stupid coin\n",
      "Downloading: XMR/BTC\n",
      "Downloaded rows: 5\n",
      "Time: 2018-01-06 01:05:00 Price: 0.020876\n",
      "Selling that stupid coin\n",
      "Downloading: XMR/BTC\n",
      "Downloaded rows: 4\n",
      "Time: 2018-01-06 01:06:00 Price: 0.02089\n",
      "Selling that stupid coin\n",
      "Downloading: XMR/BTC\n",
      "Downloaded rows: 3\n",
      "Time: 2018-01-06 01:07:00 Price: 0.020842\n",
      "Selling that stupid coin\n",
      "Downloading: XMR/BTC\n",
      "Downloaded rows: 2\n",
      "Time: 2018-01-06 01:08:00 Price: 0.020852\n",
      "Selling that stupid coin\n",
      "Downloading: XMR/BTC\n",
      "Downloaded rows: 1\n",
      "No data after prior poll: 2018-01-06 01:08:00\n"
     ]
    }
   ],
   "source": [
    "res = backtest(feed, my_strategy, exchange)"
   ]
  },
  {
   "cell_type": "markdown",
   "metadata": {},
   "source": [
    "### Order"
   ]
  },
  {
   "cell_type": "code",
   "execution_count": 91,
   "metadata": {},
   "outputs": [
    {
     "data": {
      "text/plain": [
       "{'order_id': 'OD1D35443E6BDF', 'exchange_order_id': None, 'exchange_id': 'binance', 'coin': 'LTC', 'market': 'USDT', 'price': 250.0, 'quantity': 1, 'order_type': <OrderType.BUY_LIMIT: 0>, 'order_status': <OrderStatus.OPEN: 2>, 'created_time': datetime.datetime(2018, 1, 6, 1, 8, 38, 65852), 'opened_time': None, 'filled_time': None, 'canceled_time': None, 'retries': 0}"
      ]
     },
     "execution_count": 91,
     "metadata": {},
     "output_type": "execute_result"
    }
   ],
   "source": [
    "order = Order(\n",
    "    ex_id=exchange.id, \n",
    "    coin=c.LTC,\n",
    "    market=c.USDT,\n",
    "    price=250., \n",
    "    quantity=1, order_type=OrderType.BUY_LIMIT\n",
    ")\n",
    "order.set_status(OrderStatus.OPEN)\n",
    "order"
   ]
  },
  {
   "cell_type": "code",
   "execution_count": 92,
   "metadata": {},
   "outputs": [
    {
     "data": {
      "text/plain": [
       "{'order_id': 'OD1D35443E6BDF', 'exchange_order_id': None, 'exchange_id': 'binance', 'coin': 'LTC', 'market': 'USDT', 'price': 250.0, 'quantity': 1, 'order_type': <OrderType.BUY_LIMIT: 0>, 'order_status': <OrderStatus.OPEN: 2>, 'created_time': datetime.datetime(2018, 1, 6, 1, 8, 38, 65852), 'opened_time': None, 'filled_time': None, 'canceled_time': None, 'retries': 0}"
      ]
     },
     "execution_count": 92,
     "metadata": {},
     "output_type": "execute_result"
    }
   ],
   "source": [
    "order_json = order.to_json()\n",
    "load_order_from_json(order_json)"
   ]
  },
  {
   "cell_type": "markdown",
   "metadata": {},
   "source": [
    "### Strategy"
   ]
  },
  {
   "cell_type": "code",
   "execution_count": 93,
   "metadata": {},
   "outputs": [],
   "source": [
    "# https://www.backtrader.com/docu/quickstart/quickstart.html\n",
    "# https://enigmampc.github.io/catalyst/beginner-tutorial.html#basics\n",
    "\n",
    "class Strategy():\n",
    "    def __init__(self, context):\n",
    "        self.ctx = context\n",
    "        self.initialize()\n",
    "    \n",
    "    def initialize(self):\n",
    "        self.ctx.symbol = 'BTC/USD'\n",
    "    \n",
    "    def handle_data(self, data):\n",
    "        # Handle next iteration of data from feed\n",
    "        pass\n",
    "    \n",
    "class TestStrategy():\n",
    "    def __init__(self):\n",
    "        pass\n",
    "    \n",
    "    def next(self, data):\n",
    "        pass"
   ]
  },
  {
   "cell_type": "markdown",
   "metadata": {},
   "source": [
    "### Plotting"
   ]
  },
  {
   "cell_type": "code",
   "execution_count": 94,
   "metadata": {},
   "outputs": [
    {
     "ename": "AttributeError",
     "evalue": "'numpy.ndarray' object has no attribute 'find'",
     "output_type": "error",
     "traceback": [
      "\u001b[0;31m---------------------------------------------------------------------------\u001b[0m",
      "\u001b[0;31mAttributeError\u001b[0m                            Traceback (most recent call last)",
      "\u001b[0;32m<ipython-input-94-1462f2da2f23>\u001b[0m in \u001b[0;36m<module>\u001b[0;34m()\u001b[0m\n\u001b[0;32m----> 1\u001b[0;31m \u001b[0mutils\u001b[0m\u001b[0;34m.\u001b[0m\u001b[0mcharts\u001b[0m\u001b[0;34m.\u001b[0m\u001b[0mplot_range\u001b[0m\u001b[0;34m(\u001b[0m\u001b[0mfeed\u001b[0m\u001b[0;34m.\u001b[0m\u001b[0mhistory\u001b[0m\u001b[0;34m(\u001b[0m\u001b[0;34m)\u001b[0m\u001b[0;34m,\u001b[0m \u001b[0mstart\u001b[0m\u001b[0;34m,\u001b[0m \u001b[0mend\u001b[0m\u001b[0;34m,\u001b[0m \u001b[0;34m'close'\u001b[0m\u001b[0;34m)\u001b[0m\u001b[0;34m\u001b[0m\u001b[0m\n\u001b[0m",
      "\u001b[0;32m/home/bfortuner/workplace/punisher/utils/charts.py\u001b[0m in \u001b[0;36mplot_range\u001b[0;34m(df, start, end, column_name)\u001b[0m\n\u001b[1;32m     38\u001b[0m     \u001b[0mdf\u001b[0m \u001b[0;34m=\u001b[0m \u001b[0mdf\u001b[0m\u001b[0;34m[\u001b[0m \u001b[0;34m(\u001b[0m\u001b[0mdf\u001b[0m\u001b[0;34m[\u001b[0m\u001b[0;34m'time_utc'\u001b[0m\u001b[0;34m]\u001b[0m \u001b[0;34m>=\u001b[0m \u001b[0mstart\u001b[0m\u001b[0;34m)\u001b[0m \u001b[0;34m&\u001b[0m \u001b[0;34m(\u001b[0m\u001b[0mdf\u001b[0m\u001b[0;34m[\u001b[0m\u001b[0;34m'time_utc'\u001b[0m\u001b[0;34m]\u001b[0m \u001b[0;34m<\u001b[0m \u001b[0mend\u001b[0m\u001b[0;34m)\u001b[0m \u001b[0;34m]\u001b[0m\u001b[0;34m\u001b[0m\u001b[0m\n\u001b[1;32m     39\u001b[0m     \u001b[0mvals\u001b[0m \u001b[0;34m=\u001b[0m \u001b[0mdf\u001b[0m\u001b[0;34m[\u001b[0m\u001b[0;34m[\u001b[0m\u001b[0;34m'time_utc'\u001b[0m\u001b[0;34m,\u001b[0m \u001b[0mcolumn_name\u001b[0m\u001b[0;34m]\u001b[0m\u001b[0;34m]\u001b[0m\u001b[0;34m.\u001b[0m\u001b[0mvalues\u001b[0m\u001b[0;34m\u001b[0m\u001b[0m\n\u001b[0;32m---> 40\u001b[0;31m     \u001b[0mplot_prices\u001b[0m\u001b[0;34m(\u001b[0m\u001b[0mvals\u001b[0m\u001b[0;34m[\u001b[0m\u001b[0;34m:\u001b[0m\u001b[0;34m,\u001b[0m\u001b[0;36m0\u001b[0m\u001b[0;34m]\u001b[0m\u001b[0;34m,\u001b[0m \u001b[0mvals\u001b[0m\u001b[0;34m[\u001b[0m\u001b[0;34m:\u001b[0m\u001b[0;34m,\u001b[0m\u001b[0;36m1\u001b[0m\u001b[0;34m]\u001b[0m\u001b[0;34m,\u001b[0m \u001b[0mtitle\u001b[0m\u001b[0;34m=\u001b[0m\u001b[0mcolumn_name\u001b[0m\u001b[0;34m)\u001b[0m\u001b[0;34m\u001b[0m\u001b[0m\n\u001b[0m",
      "\u001b[0;32m/home/bfortuner/workplace/punisher/utils/charts.py\u001b[0m in \u001b[0;36mplot_prices\u001b[0;34m(time, close, fs, title)\u001b[0m\n\u001b[1;32m      8\u001b[0m \u001b[0;32mdef\u001b[0m \u001b[0mplot_prices\u001b[0m\u001b[0;34m(\u001b[0m\u001b[0mtime\u001b[0m\u001b[0;34m,\u001b[0m \u001b[0mclose\u001b[0m\u001b[0;34m,\u001b[0m \u001b[0mfs\u001b[0m\u001b[0;34m=\u001b[0m\u001b[0;34m(\u001b[0m\u001b[0;36m12\u001b[0m\u001b[0;34m,\u001b[0m\u001b[0;36m6\u001b[0m\u001b[0;34m)\u001b[0m\u001b[0;34m,\u001b[0m \u001b[0mtitle\u001b[0m\u001b[0;34m=\u001b[0m\u001b[0;34m\"Price\"\u001b[0m\u001b[0;34m)\u001b[0m\u001b[0;34m:\u001b[0m\u001b[0;34m\u001b[0m\u001b[0m\n\u001b[1;32m      9\u001b[0m     \u001b[0mfig\u001b[0m\u001b[0;34m,\u001b[0m \u001b[0max\u001b[0m \u001b[0;34m=\u001b[0m \u001b[0mplt\u001b[0m\u001b[0;34m.\u001b[0m\u001b[0msubplots\u001b[0m\u001b[0;34m(\u001b[0m\u001b[0;34m)\u001b[0m\u001b[0;34m\u001b[0m\u001b[0m\n\u001b[0;32m---> 10\u001b[0;31m     \u001b[0max\u001b[0m\u001b[0;34m.\u001b[0m\u001b[0mplot\u001b[0m\u001b[0;34m(\u001b[0m\u001b[0mtime\u001b[0m\u001b[0;34m,\u001b[0m \u001b[0mclose\u001b[0m\u001b[0;34m)\u001b[0m\u001b[0;34m\u001b[0m\u001b[0m\n\u001b[0m\u001b[1;32m     11\u001b[0m \u001b[0;34m\u001b[0m\u001b[0m\n\u001b[1;32m     12\u001b[0m \u001b[0;31m#     years = mdates.YearLocator()   # every year\u001b[0m\u001b[0;34m\u001b[0m\u001b[0;34m\u001b[0m\u001b[0m\n",
      "\u001b[0;32m/home/bfortuner/anaconda3/lib/python3.6/site-packages/matplotlib/__init__.py\u001b[0m in \u001b[0;36minner\u001b[0;34m(ax, *args, **kwargs)\u001b[0m\n\u001b[1;32m   1896\u001b[0m                     warnings.warn(msg % (label_namer, func.__name__),\n\u001b[1;32m   1897\u001b[0m                                   RuntimeWarning, stacklevel=2)\n\u001b[0;32m-> 1898\u001b[0;31m             \u001b[0;32mreturn\u001b[0m \u001b[0mfunc\u001b[0m\u001b[0;34m(\u001b[0m\u001b[0max\u001b[0m\u001b[0;34m,\u001b[0m \u001b[0;34m*\u001b[0m\u001b[0margs\u001b[0m\u001b[0;34m,\u001b[0m \u001b[0;34m**\u001b[0m\u001b[0mkwargs\u001b[0m\u001b[0;34m)\u001b[0m\u001b[0;34m\u001b[0m\u001b[0m\n\u001b[0m\u001b[1;32m   1899\u001b[0m         \u001b[0mpre_doc\u001b[0m \u001b[0;34m=\u001b[0m \u001b[0minner\u001b[0m\u001b[0;34m.\u001b[0m\u001b[0m__doc__\u001b[0m\u001b[0;34m\u001b[0m\u001b[0m\n\u001b[1;32m   1900\u001b[0m         \u001b[0;32mif\u001b[0m \u001b[0mpre_doc\u001b[0m \u001b[0;32mis\u001b[0m \u001b[0;32mNone\u001b[0m\u001b[0;34m:\u001b[0m\u001b[0;34m\u001b[0m\u001b[0m\n",
      "\u001b[0;32m/home/bfortuner/anaconda3/lib/python3.6/site-packages/matplotlib/axes/_axes.py\u001b[0m in \u001b[0;36mplot\u001b[0;34m(self, *args, **kwargs)\u001b[0m\n\u001b[1;32m   1404\u001b[0m         \u001b[0mkwargs\u001b[0m \u001b[0;34m=\u001b[0m \u001b[0mcbook\u001b[0m\u001b[0;34m.\u001b[0m\u001b[0mnormalize_kwargs\u001b[0m\u001b[0;34m(\u001b[0m\u001b[0mkwargs\u001b[0m\u001b[0;34m,\u001b[0m \u001b[0m_alias_map\u001b[0m\u001b[0;34m)\u001b[0m\u001b[0;34m\u001b[0m\u001b[0m\n\u001b[1;32m   1405\u001b[0m \u001b[0;34m\u001b[0m\u001b[0m\n\u001b[0;32m-> 1406\u001b[0;31m         \u001b[0;32mfor\u001b[0m \u001b[0mline\u001b[0m \u001b[0;32min\u001b[0m \u001b[0mself\u001b[0m\u001b[0;34m.\u001b[0m\u001b[0m_get_lines\u001b[0m\u001b[0;34m(\u001b[0m\u001b[0;34m*\u001b[0m\u001b[0margs\u001b[0m\u001b[0;34m,\u001b[0m \u001b[0;34m**\u001b[0m\u001b[0mkwargs\u001b[0m\u001b[0;34m)\u001b[0m\u001b[0;34m:\u001b[0m\u001b[0;34m\u001b[0m\u001b[0m\n\u001b[0m\u001b[1;32m   1407\u001b[0m             \u001b[0mself\u001b[0m\u001b[0;34m.\u001b[0m\u001b[0madd_line\u001b[0m\u001b[0;34m(\u001b[0m\u001b[0mline\u001b[0m\u001b[0;34m)\u001b[0m\u001b[0;34m\u001b[0m\u001b[0m\n\u001b[1;32m   1408\u001b[0m             \u001b[0mlines\u001b[0m\u001b[0;34m.\u001b[0m\u001b[0mappend\u001b[0m\u001b[0;34m(\u001b[0m\u001b[0mline\u001b[0m\u001b[0;34m)\u001b[0m\u001b[0;34m\u001b[0m\u001b[0m\n",
      "\u001b[0;32m/home/bfortuner/anaconda3/lib/python3.6/site-packages/matplotlib/axes/_base.py\u001b[0m in \u001b[0;36m_grab_next_args\u001b[0;34m(self, *args, **kwargs)\u001b[0m\n\u001b[1;32m    405\u001b[0m                 \u001b[0;32mreturn\u001b[0m\u001b[0;34m\u001b[0m\u001b[0m\n\u001b[1;32m    406\u001b[0m             \u001b[0;32mif\u001b[0m \u001b[0mlen\u001b[0m\u001b[0;34m(\u001b[0m\u001b[0mremaining\u001b[0m\u001b[0;34m)\u001b[0m \u001b[0;34m<=\u001b[0m \u001b[0;36m3\u001b[0m\u001b[0;34m:\u001b[0m\u001b[0;34m\u001b[0m\u001b[0m\n\u001b[0;32m--> 407\u001b[0;31m                 \u001b[0;32mfor\u001b[0m \u001b[0mseg\u001b[0m \u001b[0;32min\u001b[0m \u001b[0mself\u001b[0m\u001b[0;34m.\u001b[0m\u001b[0m_plot_args\u001b[0m\u001b[0;34m(\u001b[0m\u001b[0mremaining\u001b[0m\u001b[0;34m,\u001b[0m \u001b[0mkwargs\u001b[0m\u001b[0;34m)\u001b[0m\u001b[0;34m:\u001b[0m\u001b[0;34m\u001b[0m\u001b[0m\n\u001b[0m\u001b[1;32m    408\u001b[0m                     \u001b[0;32myield\u001b[0m \u001b[0mseg\u001b[0m\u001b[0;34m\u001b[0m\u001b[0m\n\u001b[1;32m    409\u001b[0m                 \u001b[0;32mreturn\u001b[0m\u001b[0;34m\u001b[0m\u001b[0m\n",
      "\u001b[0;32m/home/bfortuner/anaconda3/lib/python3.6/site-packages/matplotlib/axes/_base.py\u001b[0m in \u001b[0;36m_plot_args\u001b[0;34m(self, tup, kwargs)\u001b[0m\n\u001b[1;32m    355\u001b[0m         \u001b[0mret\u001b[0m \u001b[0;34m=\u001b[0m \u001b[0;34m[\u001b[0m\u001b[0;34m]\u001b[0m\u001b[0;34m\u001b[0m\u001b[0m\n\u001b[1;32m    356\u001b[0m         \u001b[0;32mif\u001b[0m \u001b[0mlen\u001b[0m\u001b[0;34m(\u001b[0m\u001b[0mtup\u001b[0m\u001b[0;34m)\u001b[0m \u001b[0;34m>\u001b[0m \u001b[0;36m1\u001b[0m \u001b[0;32mand\u001b[0m \u001b[0mis_string_like\u001b[0m\u001b[0;34m(\u001b[0m\u001b[0mtup\u001b[0m\u001b[0;34m[\u001b[0m\u001b[0;34m-\u001b[0m\u001b[0;36m1\u001b[0m\u001b[0;34m]\u001b[0m\u001b[0;34m)\u001b[0m\u001b[0;34m:\u001b[0m\u001b[0;34m\u001b[0m\u001b[0m\n\u001b[0;32m--> 357\u001b[0;31m             \u001b[0mlinestyle\u001b[0m\u001b[0;34m,\u001b[0m \u001b[0mmarker\u001b[0m\u001b[0;34m,\u001b[0m \u001b[0mcolor\u001b[0m \u001b[0;34m=\u001b[0m \u001b[0m_process_plot_format\u001b[0m\u001b[0;34m(\u001b[0m\u001b[0mtup\u001b[0m\u001b[0;34m[\u001b[0m\u001b[0;34m-\u001b[0m\u001b[0;36m1\u001b[0m\u001b[0;34m]\u001b[0m\u001b[0;34m)\u001b[0m\u001b[0;34m\u001b[0m\u001b[0m\n\u001b[0m\u001b[1;32m    358\u001b[0m             \u001b[0mtup\u001b[0m \u001b[0;34m=\u001b[0m \u001b[0mtup\u001b[0m\u001b[0;34m[\u001b[0m\u001b[0;34m:\u001b[0m\u001b[0;34m-\u001b[0m\u001b[0;36m1\u001b[0m\u001b[0;34m]\u001b[0m\u001b[0;34m\u001b[0m\u001b[0m\n\u001b[1;32m    359\u001b[0m         \u001b[0;32melif\u001b[0m \u001b[0mlen\u001b[0m\u001b[0;34m(\u001b[0m\u001b[0mtup\u001b[0m\u001b[0;34m)\u001b[0m \u001b[0;34m==\u001b[0m \u001b[0;36m3\u001b[0m\u001b[0;34m:\u001b[0m\u001b[0;34m\u001b[0m\u001b[0m\n",
      "\u001b[0;32m/home/bfortuner/anaconda3/lib/python3.6/site-packages/matplotlib/axes/_base.py\u001b[0m in \u001b[0;36m_process_plot_format\u001b[0;34m(fmt)\u001b[0m\n\u001b[1;32m     92\u001b[0m     \u001b[0;31m# handle the multi char special cases and strip them from the\u001b[0m\u001b[0;34m\u001b[0m\u001b[0;34m\u001b[0m\u001b[0m\n\u001b[1;32m     93\u001b[0m     \u001b[0;31m# string\u001b[0m\u001b[0;34m\u001b[0m\u001b[0;34m\u001b[0m\u001b[0m\n\u001b[0;32m---> 94\u001b[0;31m     \u001b[0;32mif\u001b[0m \u001b[0mfmt\u001b[0m\u001b[0;34m.\u001b[0m\u001b[0mfind\u001b[0m\u001b[0;34m(\u001b[0m\u001b[0;34m'--'\u001b[0m\u001b[0;34m)\u001b[0m \u001b[0;34m>=\u001b[0m \u001b[0;36m0\u001b[0m\u001b[0;34m:\u001b[0m\u001b[0;34m\u001b[0m\u001b[0m\n\u001b[0m\u001b[1;32m     95\u001b[0m         \u001b[0mlinestyle\u001b[0m \u001b[0;34m=\u001b[0m \u001b[0;34m'--'\u001b[0m\u001b[0;34m\u001b[0m\u001b[0m\n\u001b[1;32m     96\u001b[0m         \u001b[0mfmt\u001b[0m \u001b[0;34m=\u001b[0m \u001b[0mfmt\u001b[0m\u001b[0;34m.\u001b[0m\u001b[0mreplace\u001b[0m\u001b[0;34m(\u001b[0m\u001b[0;34m'--'\u001b[0m\u001b[0;34m,\u001b[0m \u001b[0;34m''\u001b[0m\u001b[0;34m)\u001b[0m\u001b[0;34m\u001b[0m\u001b[0m\n",
      "\u001b[0;31mAttributeError\u001b[0m: 'numpy.ndarray' object has no attribute 'find'"
     ]
    },
    {
     "data": {
      "image/png": "[encoded data removed]",
      "text/plain": [
       "<matplotlib.figure.Figure at 0x7f75424ec0b8>"
      ]
     },
     "metadata": {},
     "output_type": "display_data"
    }
   ],
   "source": [
    "utils.charts.plot_range(feed.history(), start, end, 'close')"
   ]
  },
  {
   "cell_type": "markdown",
   "metadata": {},
   "source": [
    "### Exchange"
   ]
  },
  {
   "cell_type": "code",
   "execution_count": null,
   "metadata": {},
   "outputs": [],
   "source": [
    "# https://github.com/ccxt/ccxt/blob/master/python/ccxt/base/exchange.py\n",
    "\n",
    "class Exchange():\n",
    "    def __init__(self):\n",
    "        pass\n",
    "\n",
    "class CCXTExchange(Exchange):\n",
    "    def __init__(self, exchange_client):\n",
    "        self.ex = exchange_client\n",
    "        \n",
    "    def fetch_balance(self):\n",
    "        return self.ex.fetch_balance()\n",
    "    \n",
    "    def limit_buy(self, symbol, quantity, price):\n",
    "        return self.ex.create_limit_buy_order(symbol, quantity, price)\n",
    "    \n",
    "\n",
    "class TestExchange(Exchange):\n",
    "    def __init__(self):\n",
    "        self.orders = {'BTC/USD':[]}\n",
    "        self.trades = {}\n",
    "        self.fees = {'trading': .025, 'funding': .025}\n",
    "        self.balance = {\n",
    "            'BTC': {'free': 0.0, 'total': 0.0, 'used': 0.0},\n",
    "            'USD': {'free': 0.6, 'total': 0.6, 'used': 0.0},\n",
    "            'free': {'BCH': 0.0, 'BTC': 0.6, 'ETH': 0.0, 'LTC': 0.0, 'USD': 486.3}\n",
    "        }\n",
    "    \n",
    "    def fetch_balance(self):\n",
    "        return self.balance\n",
    "    \n",
    "    def limit_buy(self, coin, market, quantity, price):\n",
    "        symbol = ohlcv.get_symbol(coin, market)\n",
    "        self.orders[symbol].append(\"NEW_ORDER\")\n",
    "        \n",
    "        # We assume the order goes through\n",
    "        self.balance[market]['free'] -= quantity * price\n",
    "        self.balance[coin]['used'] += quantity * price\n",
    "        \n",
    "        # Account for fees here\n",
    "        self.balance[market]['total'] -= self.fees['trading']\n",
    "        return self.orders"
   ]
  },
  {
   "cell_type": "code",
   "execution_count": null,
   "metadata": {},
   "outputs": [],
   "source": [
    "ex = TestExchange()\n",
    "print(ex.fetch_balance())\n",
    "orders = ex.limit_buy(c.BTC, c.USD, 1, 15000.0)\n",
    "orders"
   ]
  },
  {
   "cell_type": "code",
   "execution_count": null,
   "metadata": {},
   "outputs": [],
   "source": [
    "EX = Exchange(gdax)"
   ]
  },
  {
   "cell_type": "markdown",
   "metadata": {},
   "source": [
    "### Runner"
   ]
  },
  {
   "cell_type": "code",
   "execution_count": null,
   "metadata": {},
   "outputs": [],
   "source": [
    "from enum import Enum, unique\n",
    "\n",
    "@unique\n",
    "class TradeMode(Enum):\n",
    "    BACKTEST = 0\n",
    "    SIMULATE = 1\n",
    "    LIVE = 2\n",
    "\n",
    "class Punisher():\n",
    "    def __init__(self, exchange, feed, strategy, record):\n",
    "        self.exchange = exchange\n",
    "        self.feed = feed\n",
    "        self.strategy = strategy\n",
    "        self.record = {\n",
    "            'test': [],\n",
    "            'live': []\n",
    "        }\n",
    "        \n",
    "    def backtest(self):\n",
    "        results = []\n",
    "        row = feed.next()\n",
    "        while row is not None:\n",
    "            print(\"Timestep\", row['time_utc'], \"Price\", row['close'])\n",
    "            row = feed.next()\n",
    "            output = self.strategy(row, exchange, feed)\n",
    "            results.append(output)\n",
    "        return results\n",
    "    \n",
    "    def simulate(self):\n",
    "        while True:\n",
    "            row = feed.next()\n",
    "            if row is not None:\n",
    "                output = self.strategy(row, exchange, feed)\n",
    "                self.record['test'].append(output)\n",
    "            time.sleep(2)\n",
    "\n",
    "    def live(self):\n",
    "        while True:\n",
    "            row = feed.next()\n",
    "            if row is not None:\n",
    "                output = self.strategy(row, exchange, feed)\n",
    "                self.record['live'].append(output)\n",
    "            time.sleep(2)\n",
    "    \n",
    "    def punish(self, mode=False):\n",
    "        if mode == TradeMode.BACKTEST:\n",
    "            print(\"Backtesting ...\")\n",
    "            self.backtest()\n",
    "        elif mode == TradeMode.SIMULATE:\n",
    "            print(\"Simulating orders ...\")\n",
    "            self.simulate()\n",
    "        elif mode == TradeMode.LIVE:\n",
    "            print(\"LIVE TRADING! CAREFUL!\")\n",
    "            self.live()"
   ]
  },
  {
   "cell_type": "markdown",
   "metadata": {},
   "source": [
    "### Trading"
   ]
  },
  {
   "cell_type": "code",
   "execution_count": null,
   "metadata": {},
   "outputs": [],
   "source": [
    "# Trading\n",
    "print(exchange.fetch_balance())\n",
    "\n",
    "# sell one ฿ for market price and receive $ right now\n",
    "print(exchange.id, exchange.create_market_sell_order('BTC/USD', 1))\n",
    "\n",
    "# limit buy BTC/EUR, you pay €2500 and receive ฿1  when the order is closed\n",
    "print(exchange.id, exchange.create_limit_buy_order('BTC/EUR', 1, 2500.00))\n",
    "\n",
    "# pass/redefine custom exchange-specific order params: type, amount, price, flags, etc...\n",
    "polo.create_market_buy_order('BTC/USD', 1, {'trading_agreement': 'agree'})"
   ]
  }
 ],
 "metadata": {
  "kernelspec": {
   "display_name": "Python 3",
   "language": "python",
   "name": "python3"
  },
  "language_info": {
   "codemirror_mode": {
    "name": "ipython",
    "version": 3
   },
   "file_extension": ".py",
   "mimetype": "text/x-python",
   "name": "python",
   "nbconvert_exporter": "python",
   "pygments_lexer": "ipython3",
   "version": "3.6.0"
  },
  "latex_envs": {
   "LaTeX_envs_menu_present": true,
   "autocomplete": true,
   "bibliofile": "biblio.bib",
   "cite_by": "apalike",
   "current_citInitial": 1,
   "eqLabelWithNumbers": true,
   "eqNumInitial": 1,
   "hotkeys": {
    "equation": "Ctrl-E",
    "itemize": "Ctrl-I"
   },
   "labels_anchors": false,
   "latex_user_defs": false,
   "report_style_numbering": false,
   "user_envs_cfg": false
  },
  "toc": {
   "colors": {
    "hover_highlight": "#DAA520",
    "navigate_num": "#000000",
    "navigate_text": "#333333",
    "running_highlight": "#FF0000",
    "selected_highlight": "#FFD700",
    "sidebar_border": "#EEEEEE",
    "wrapper_background": "#FFFFFF"
   },
   "moveMenuLeft": true,
   "nav_menu": {
    "height": "71px",
    "width": "254px"
   },
   "navigate_menu": true,
   "number_sections": true,
   "sideBar": true,
   "threshold": 4,
   "toc_cell": false,
   "toc_section_display": "block",
   "toc_window_display": false,
   "widenNotebook": false
  }
 },
 "nbformat": 4,
 "nbformat_minor": 2
}
