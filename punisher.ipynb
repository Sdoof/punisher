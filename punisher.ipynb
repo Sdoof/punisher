{
 "cells": [
  {
   "cell_type": "code",
   "execution_count": 18,
   "metadata": {},
   "outputs": [
    {
     "name": "stdout",
     "output_type": "stream",
     "text": [
      "The autoreload extension is already loaded. To reload it, use:\n",
      "  %reload_ext autoreload\n"
     ]
    }
   ],
   "source": [
    "%matplotlib inline\n",
    "%load_ext autoreload\n",
    "%autoreload 2\n",
    "from common import *\n",
    "import qgrid"
   ]
  },
  {
   "cell_type": "markdown",
   "metadata": {},
   "source": [
    "### Balance"
   ]
  },
  {
   "cell_type": "code",
   "execution_count": null,
   "metadata": {},
   "outputs": [],
   "source": [
    "b = Balance()\n",
    "print(\"Currencies\",  b.currencies)\n",
    "print(\"Entries\", b.to_dict())\n",
    "b.add_currency(c.ETH)\n",
    "print(\"Currencies\",  b.currencies)\n",
    "b.update(c.ETH, delta_free=1.0, delta_used=0.0)\n",
    "print(c.ETH, b.get(c.ETH))"
   ]
  },
  {
   "cell_type": "markdown",
   "metadata": {},
   "source": [
    "### Exchange"
   ]
  },
  {
   "cell_type": "code",
   "execution_count": null,
   "metadata": {},
   "outputs": [],
   "source": [
    "# Public informaiton\n",
    "exchanges = [c.PAPER, c.BINANCE, c.GDAX]#, c.POLONIEX]\n",
    "a = Asset(c.ETH, c.BTC)\n",
    "for ex in exchanges:\n",
    "    print(\"Exchange\", ex)\n",
    "    exchange = load_exchange(ex)\n",
    "    print(exchange.timeframes)\n",
    "    exchange.get_markets()\n",
    "    exchange.fetch_ohlcv(a, Timeframe.ONE_MIN.value['id'])\n",
    "    exchange.fetch_order_book(a)\n",
    "    exchange.fetch_public_trades(a)\n",
    "    exchange.fetch_ticker(a)"
   ]
  },
  {
   "cell_type": "code",
   "execution_count": null,
   "metadata": {},
   "outputs": [],
   "source": [
    "# Account Information\n",
    "exchanges = [c.PAPER]#, c.BINANCE, c.GDAX]\n",
    "a = Asset(c.ETH, c.BTC)\n",
    "for ex in exchanges:\n",
    "    print(\"Exchange\", ex)\n",
    "    exchange = load_exchange(ex)\n",
    "    print(exchange.fetch_balance()[a.quote])\n",
    "    print(exchange.fetch_orders(a))\n",
    "    print(exchange.fetch_open_orders(a))\n",
    "    print(exchange.fetch_closed_orders(a))"
   ]
  },
  {
   "cell_type": "code",
   "execution_count": null,
   "metadata": {},
   "outputs": [],
   "source": [
    "exchange = load_exchange(c.BINANCE)\n",
    "a = Asset(c.BTS, c.BTC)\n",
    "\n",
    "# Market BUY\n",
    "print(\"Exchange\", ex)\n",
    "order_dict = exchange.create_market_buy_order(a, 1)\n",
    "balance = exchange.fetch_balance()\n",
    "print(a.base, balance[a.base], a.quote, balance[a.quote])\n",
    "print(order_dict)"
   ]
  },
  {
   "cell_type": "code",
   "execution_count": null,
   "metadata": {},
   "outputs": [],
   "source": [
    "# Check Order\n",
    "balance = exchange.fetch_balance()\n",
    "print(a.base, balance[a.base], a.quote, balance[a.quote])\n",
    "found_order = exchange.fetch_order(order_dict['id'], a.symbol)\n",
    "print(\"Placed order\", found_order) "
   ]
  },
  {
   "cell_type": "code",
   "execution_count": null,
   "metadata": {},
   "outputs": [],
   "source": [
    "# Sell all remaining quantity\n",
    "balance = exchange.fetch_balance()[a.base]\n",
    "print(a.base, balance['total'])\n",
    "order = exchange.create_market_sell_order(a, balance['total'])\n",
    "print(order)"
   ]
  },
  {
   "cell_type": "code",
   "execution_count": null,
   "metadata": {},
   "outputs": [],
   "source": [
    "print(exchange.fetch_balance()[a.base], exchange.fetch_balance()[a.quote])"
   ]
  },
  {
   "cell_type": "markdown",
   "metadata": {},
   "source": [
    "### Data"
   ]
  },
  {
   "cell_type": "code",
   "execution_count": 19,
   "metadata": {},
   "outputs": [],
   "source": [
    "base = c.LTC\n",
    "quote = c.USDT\n",
    "exchange = load_exchange(c.BINANCE)\n",
    "asset = Asset(base, quote)\n",
    "assets = [ Asset(coin, quote) for coin in [c.BTC, c.ETH, c.LTC] ]\n",
    "period = '1m' \n",
    "start = datetime.datetime.utcnow() - datetime.timedelta(hours=2)\n",
    "end = datetime.datetime.utcnow() - datetime.timedelta(hours=0)"
   ]
  },
  {
   "cell_type": "code",
   "execution_count": 20,
   "metadata": {},
   "outputs": [
    {
     "name": "stdout",
     "output_type": "stream",
     "text": [
      "Downloading: LTC/USDT\n",
      "Downloaded rows: 120\n"
     ]
    },
    {
     "data": {
      "text/html": [
       "<div>\n",
       "<table border=\"1\" class=\"dataframe\">\n",
       "  <thead>\n",
       "    <tr style=\"text-align: right;\">\n",
       "      <th></th>\n",
       "      <th>open</th>\n",
       "      <th>high</th>\n",
       "      <th>low</th>\n",
       "      <th>close</th>\n",
       "      <th>volume</th>\n",
       "      <th>time_utc</th>\n",
       "    </tr>\n",
       "    <tr>\n",
       "      <th>time_epoch</th>\n",
       "      <th></th>\n",
       "      <th></th>\n",
       "      <th></th>\n",
       "      <th></th>\n",
       "      <th></th>\n",
       "      <th></th>\n",
       "    </tr>\n",
       "  </thead>\n",
       "  <tbody>\n",
       "    <tr>\n",
       "      <th>1515394140</th>\n",
       "      <td>264.10</td>\n",
       "      <td>264.10</td>\n",
       "      <td>264.10</td>\n",
       "      <td>264.10</td>\n",
       "      <td>0.00296</td>\n",
       "      <td>2018-01-08 06:49:00</td>\n",
       "    </tr>\n",
       "    <tr>\n",
       "      <th>1515394200</th>\n",
       "      <td>264.10</td>\n",
       "      <td>264.10</td>\n",
       "      <td>264.10</td>\n",
       "      <td>264.10</td>\n",
       "      <td>0.00000</td>\n",
       "      <td>2018-01-08 06:50:00</td>\n",
       "    </tr>\n",
       "    <tr>\n",
       "      <th>1515394260</th>\n",
       "      <td>263.79</td>\n",
       "      <td>264.10</td>\n",
       "      <td>263.79</td>\n",
       "      <td>263.79</td>\n",
       "      <td>0.62651</td>\n",
       "      <td>2018-01-08 06:51:00</td>\n",
       "    </tr>\n",
       "    <tr>\n",
       "      <th>1515394320</th>\n",
       "      <td>263.89</td>\n",
       "      <td>264.28</td>\n",
       "      <td>263.70</td>\n",
       "      <td>264.08</td>\n",
       "      <td>39.85604</td>\n",
       "      <td>2018-01-08 06:52:00</td>\n",
       "    </tr>\n",
       "    <tr>\n",
       "      <th>1515394380</th>\n",
       "      <td>264.08</td>\n",
       "      <td>265.01</td>\n",
       "      <td>264.00</td>\n",
       "      <td>264.18</td>\n",
       "      <td>84.23858</td>\n",
       "      <td>2018-01-08 06:53:00</td>\n",
       "    </tr>\n",
       "  </tbody>\n",
       "</table>\n",
       "</div>"
      ],
      "text/plain": [
       "              open    high     low   close    volume            time_utc\n",
       "time_epoch                                                              \n",
       "1515394140  264.10  264.10  264.10  264.10   0.00296 2018-01-08 06:49:00\n",
       "1515394200  264.10  264.10  264.10  264.10   0.00000 2018-01-08 06:50:00\n",
       "1515394260  263.79  264.10  263.79  263.79   0.62651 2018-01-08 06:51:00\n",
       "1515394320  263.89  264.28  263.70  264.08  39.85604 2018-01-08 06:52:00\n",
       "1515394380  264.08  265.01  264.00  264.18  84.23858 2018-01-08 06:53:00"
      ]
     },
     "execution_count": 20,
     "metadata": {},
     "output_type": "execute_result"
    }
   ],
   "source": [
    "# Single Coin\n",
    "df = ohlcv.fetch_and_save_ohlcv_data(exchange, asset, period, start, end)\n",
    "df.head()"
   ]
  },
  {
   "cell_type": "code",
   "execution_count": null,
   "metadata": {},
   "outputs": [],
   "source": [
    "# Load from File\n",
    "fpath = ohlcv.get_price_data_fpath(asset, exchange.id, period)\n",
    "df = ohlcv.load_chart_data_from_file(fpath)"
   ]
  },
  {
   "cell_type": "code",
   "execution_count": null,
   "metadata": {},
   "outputs": [],
   "source": [
    "# Multiple Coins\n",
    "ohlcv.download_chart_data(exchange, assets, period, start, end)\n",
    "df = ohlcv.load_multiple_assets(exchange.id, assets, period, start)\n",
    "df.head()"
   ]
  },
  {
   "cell_type": "markdown",
   "metadata": {},
   "source": [
    "### Data Feed"
   ]
  },
  {
   "cell_type": "code",
   "execution_count": null,
   "metadata": {},
   "outputs": [],
   "source": [
    "# CSV Feed\n",
    "feed_fpath = ohlcv.get_price_data_fpath(asset, exchange.id, period='1m')\n",
    "feed = CSVDataFeed(feed_fpath)\n",
    "feed.initialize()"
   ]
  },
  {
   "cell_type": "code",
   "execution_count": null,
   "metadata": {},
   "outputs": [],
   "source": [
    "# Grab 1 row at a time\n",
    "for i in range(3):\n",
    "    data = feed.next()\n",
    "    print(data['time_utc'], data['close'])"
   ]
  },
  {
   "cell_type": "code",
   "execution_count": null,
   "metadata": {},
   "outputs": [],
   "source": [
    "# Access all rows in history\n",
    "feed.history().head()"
   ]
  },
  {
   "cell_type": "code",
   "execution_count": null,
   "metadata": {},
   "outputs": [],
   "source": [
    "# Exchange Live Feed\n",
    "start = datetime.datetime.utcnow() - datetime.timedelta(hours=1)\n",
    "end = None\n",
    "feed_fpath = ohlcv.get_price_data_fpath(asset, exchange.id, period='1m')"
   ]
  },
  {
   "cell_type": "code",
   "execution_count": null,
   "metadata": {},
   "outputs": [],
   "source": [
    "feed = ExchangeDataFeed(exchange, [assets[0]], period, feed_fpath, start, end)\n",
    "feed.initialize()"
   ]
  },
  {
   "cell_type": "code",
   "execution_count": null,
   "metadata": {},
   "outputs": [],
   "source": [
    "# Access History\n",
    "feed.history(t_minus=3).tail()"
   ]
  },
  {
   "cell_type": "code",
   "execution_count": null,
   "metadata": {},
   "outputs": [],
   "source": [
    "# Grab 1 row at a time (don't refresh data)\n",
    "for i in range(3):\n",
    "    data = feed.next(refresh=False)\n",
    "    print(data['time_utc'], data['close'])"
   ]
  },
  {
   "cell_type": "code",
   "execution_count": null,
   "metadata": {},
   "outputs": [],
   "source": [
    "# Refresh data before next query\n",
    "data = feed.next(refresh=True)\n",
    "print(data['time_utc'], data['close'])"
   ]
  },
  {
   "cell_type": "code",
   "execution_count": null,
   "metadata": {},
   "outputs": [],
   "source": [
    "# Example Using the Feed\n",
    "\n",
    "def my_strategy(row, history, exchange):\n",
    "    print(\"Time:\", row['time_utc'], \"Price:\", row['close'])\n",
    "    if row['close'] > .024:\n",
    "        print(\"Buying coin\")\n",
    "        #res = exchange.limit_buy(quantity=1, price=5)\n",
    "    else:\n",
    "        print(\"Selling that stupid coin\")\n",
    "    return {\n",
    "        'time': row['time_utc'],\n",
    "        'close': row['close'],\n",
    "        'action': 'buy',\n",
    "        'quantity': 1,\n",
    "        'price': 5,\n",
    "        'exchange': exchange.id\n",
    "    }\n",
    "\n",
    "def backtest(feed, strategy, exchange):\n",
    "    results = []\n",
    "    row = feed.next()\n",
    "    while row is not None:\n",
    "        output = strategy(row, feed, exchange)\n",
    "        row = feed.next(refresh=True)\n",
    "        results.append(output)\n",
    "    return results"
   ]
  },
  {
   "cell_type": "code",
   "execution_count": null,
   "metadata": {
    "scrolled": false
   },
   "outputs": [],
   "source": [
    "res = backtest(feed, my_strategy, exchange)"
   ]
  },
  {
   "cell_type": "markdown",
   "metadata": {},
   "source": [
    "### Order"
   ]
  },
  {
   "cell_type": "code",
   "execution_count": null,
   "metadata": {},
   "outputs": [],
   "source": [
    "asset = Asset(c.LTC, c.USDT)\n",
    "order = Order(\n",
    "    exchange_id=exchange.id, \n",
    "    asset=asset,\n",
    "    price=250., \n",
    "    quantity=1, \n",
    "    order_type=OrderType.LIMIT_BUY\n",
    ")\n",
    "order"
   ]
  },
  {
   "cell_type": "markdown",
   "metadata": {},
   "source": [
    "### Position"
   ]
  },
  {
   "cell_type": "code",
   "execution_count": null,
   "metadata": {},
   "outputs": [],
   "source": [
    "asset = Asset(c.LTC, c.BTC)\n",
    "pos = Position(asset, quantity=1, cost_price=250.0)\n",
    "print(\"Asset\", pos.asset.to_dict())\n",
    "print(\"Value\", pos.cost_value, \"Quantity\", pos.quantity, \"Cost\", pos.cost_price)\n",
    "\n",
    "pos.update(1, 200)\n",
    "print(\"Value\", pos.cost_value, \"Quantity\", pos.quantity, \"Cost\", pos.cost_price)\n",
    "\n",
    "pos.update(-1, 200)\n",
    "print(\"Value\", pos.cost_value, \"Quantity\", pos.quantity, \"Cost\", pos.cost_price)\n",
    "\n",
    "# Go short\n",
    "pos.update(-2, 150)\n",
    "print(\"Value\", pos.cost_value, \"Quantity\", pos.quantity, \"Cost\", pos.cost_price)\n",
    "\n",
    "# Close the short for a LOSS and go long (price went up, we had to pay $300 to cover our short)\n",
    "# then we bought another share because we're newbs\n",
    "pos.update(2, 300)\n",
    "print(\"Value\", pos.cost_value, \"Quantity\", pos.quantity, \"Cost\", pos.cost_price)"
   ]
  },
  {
   "cell_type": "code",
   "execution_count": null,
   "metadata": {},
   "outputs": [],
   "source": [
    "\"\"\"\n",
    "Assume that an investor made the following consecutive fund purchases in a taxable account: 1,500 shares at $20, 1,000 shares at $10 and 1,250 shares at $8. The investor’s average cost basis is calculated by dividing $50,000/3,750 shares. The average cost is $13.33.\n",
    "\n",
    "Suppose the investor then sells 1,000 shares of the fund at $19.\n",
    "\n",
    "Gain/loss using average cost basis: ($19 - $13.33) x 1,000 shares = $5,667\n",
    "\"\"\"\n",
    "\n",
    "asset = Asset(c.LTC, c.BTC)\n",
    "pos = Position(asset, quantity=1500, cost_price=20.0)\n",
    "print(\"Value\", pos.cost_value, \"Quantity\", pos.quantity, \"Cost\", pos.cost_price)\n",
    "pos.update(txn_quantity=1000, txn_price=10)\n",
    "print(\"Value\", pos.cost_value, \"Quantity\", pos.quantity, \"Cost\", pos.cost_price)\n",
    "pos.update(txn_quantity=1250, txn_price=8)\n",
    "print(\"Value\", pos.cost_value, \"Quantity\", pos.quantity, \"Cost\", pos.cost_price)\n",
    "\n",
    "last_cost = pos.cost_price\n",
    "pos.update(txn_quantity=-1000, txn_price=19)\n",
    "print(\"Value\", pos.cost_value, \"Quantity\", pos.quantity, \"Cost\", pos.cost_price)\n",
    "print(\"Profit\", (19 - last_cost) * 1000)"
   ]
  },
  {
   "cell_type": "markdown",
   "metadata": {},
   "source": [
    "### Strategy"
   ]
  },
  {
   "cell_type": "code",
   "execution_count": null,
   "metadata": {},
   "outputs": [],
   "source": [
    "# https://www.backtrader.com/docu/quickstart/quickstart.html\n",
    "# https://enigmampc.github.io/catalyst/beginner-tutorial.html#basics\n",
    "\n",
    "class Strategy():\n",
    "    def __init__(self, params):\n",
    "        self.params = params\n",
    "        self.initialize()\n",
    "    \n",
    "    def initialize(self):\n",
    "        self.ctx.symbol = 'BTC/USD'\n",
    "    \n",
    "    def handle_data(self, data):\n",
    "        # Handle next iteration of data from feed\n",
    "        pass\n",
    "    \n",
    "class TestStrategy():\n",
    "    def __init__(self):\n",
    "        pass\n",
    "    \n",
    "    def next(self, data):\n",
    "        pass"
   ]
  },
  {
   "cell_type": "markdown",
   "metadata": {},
   "source": [
    "### Plotting"
   ]
  },
  {
   "cell_type": "code",
   "execution_count": null,
   "metadata": {},
   "outputs": [],
   "source": [
    "utils.charts.plot_range(feed.history(), start, end, 'close')"
   ]
  },
  {
   "cell_type": "markdown",
   "metadata": {},
   "source": [
    "### Runner"
   ]
  },
  {
   "cell_type": "code",
   "execution_count": null,
   "metadata": {},
   "outputs": [],
   "source": [
    "@unique\n",
    "class TradeMode(Enum):\n",
    "    BACKTEST = 0\n",
    "    SIMULATE = 1\n",
    "    LIVE = 2\n",
    "\n",
    "\n",
    "class Punisher():\n",
    "    def __init__(self, exchange, feed, strategy, record):\n",
    "        self.exchange = exchange\n",
    "        self.feed = feed\n",
    "        self.strategy = strategy\n",
    "        self.record = record\n",
    "        \n",
    "    def backtest(self):\n",
    "        results = []\n",
    "        row = self.feed.next()\n",
    "        while row is not None:\n",
    "            print(\"Timestep\", row['time_utc'], \"Price\", row['close'])\n",
    "            row = self.feed.next()\n",
    "            output = self.strategy(row, self.exchange, self.feed)\n",
    "            results.append(output)\n",
    "        return results\n",
    "    \n",
    "    def simulate(self):\n",
    "        while True:\n",
    "            row = self.feed.next()\n",
    "            if row is not None:\n",
    "                output = self.strategy(row, self.exchange, self.feed)\n",
    "                self.record['test'].append(output)\n",
    "            time.sleep(2)\n",
    "\n",
    "    def live(self):\n",
    "        while True:\n",
    "            row = self.feed.next()\n",
    "            if row is not None:\n",
    "                output = self.strategy(row, self.exchange, self.feed)\n",
    "                self.record['live'].append(output)\n",
    "            time.sleep(2)\n",
    "    \n",
    "    def punish(self, mode=False):\n",
    "        if mode == TradeMode.BACKTEST:\n",
    "            print(\"Backtesting ...\")\n",
    "            self.backtest()\n",
    "        elif mode == TradeMode.SIMULATE:\n",
    "            print(\"Simulating orders ...\")\n",
    "            self.simulate()\n",
    "        elif mode == TradeMode.LIVE:\n",
    "            print(\"LIVE TRADING! CAREFUL!\")\n",
    "            self.live()"
   ]
  }
 ],
 "metadata": {
  "kernelspec": {
   "display_name": "Python 3",
   "language": "python",
   "name": "python3"
  },
  "language_info": {
   "codemirror_mode": {
    "name": "ipython",
    "version": 3
   },
   "file_extension": ".py",
   "mimetype": "text/x-python",
   "name": "python",
   "nbconvert_exporter": "python",
   "pygments_lexer": "ipython3",
   "version": "3.6.0"
  },
  "latex_envs": {
   "LaTeX_envs_menu_present": true,
   "autocomplete": true,
   "bibliofile": "biblio.bib",
   "cite_by": "apalike",
   "current_citInitial": 1,
   "eqLabelWithNumbers": true,
   "eqNumInitial": 1,
   "hotkeys": {
    "equation": "Ctrl-E",
    "itemize": "Ctrl-I"
   },
   "labels_anchors": false,
   "latex_user_defs": false,
   "report_style_numbering": false,
   "user_envs_cfg": false
  },
  "toc": {
   "colors": {
    "hover_highlight": "#DAA520",
    "navigate_num": "#000000",
    "navigate_text": "#333333",
    "running_highlight": "#FF0000",
    "selected_highlight": "#FFD700",
    "sidebar_border": "#EEEEEE",
    "wrapper_background": "#FFFFFF"
   },
   "moveMenuLeft": true,
   "nav_menu": {
    "height": "71px",
    "width": "254px"
   },
   "navigate_menu": true,
   "number_sections": true,
   "sideBar": true,
   "threshold": 4,
   "toc_cell": false,
   "toc_section_display": "block",
   "toc_window_display": false,
   "widenNotebook": false
  }
 },
 "nbformat": 4,
 "nbformat_minor": 2
}
