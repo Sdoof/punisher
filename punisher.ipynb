{
 "cells": [
  {
   "cell_type": "code",
   "execution_count": 1,
   "metadata": {},
   "outputs": [],
   "source": [
    "%matplotlib inline\n",
    "%load_ext autoreload\n",
    "%autoreload 2\n",
    "from common import *\n",
    "import qgrid"
   ]
  },
  {
   "cell_type": "markdown",
   "metadata": {
    "heading_collapsed": true
   },
   "source": [
    "### Balance"
   ]
  },
  {
   "cell_type": "code",
   "execution_count": null,
   "metadata": {
    "hidden": true
   },
   "outputs": [],
   "source": [
    "b = Balance()\n",
    "print(\"Currencies\",  b.currencies)\n",
    "print(\"Entries\", b)\n",
    "b.add_currency(c.ETH)\n",
    "b.update(c.ETH, delta_free=1.0, delta_used=0.0)\n",
    "b.get(c.ETH)[BalanceType.FREE]\n",
    "Balance.from_dict(b.to_dict())"
   ]
  },
  {
   "cell_type": "markdown",
   "metadata": {
    "heading_collapsed": true
   },
   "source": [
    "### Exchange"
   ]
  },
  {
   "cell_type": "code",
   "execution_count": null,
   "metadata": {
    "hidden": true
   },
   "outputs": [],
   "source": [
    "# Public informaiton\n",
    "exchanges = [c.PAPER, c.BINANCE, c.GDAX]#, c.POLONIEX]\n",
    "a = Asset(c.ETH, c.BTC)\n",
    "for ex in exchanges:\n",
    "    print(\"Exchange\", ex)\n",
    "    exchange = load_exchange(ex)\n",
    "    print(exchange.timeframes)\n",
    "    exchange.get_markets()\n",
    "    exchange.fetch_ohlcv(a, Timeframe.ONE_MIN.value['id'])\n",
    "    exchange.fetch_order_book(a)\n",
    "    exchange.fetch_public_trades(a)\n",
    "    exchange.fetch_ticker(a)"
   ]
  },
  {
   "cell_type": "code",
   "execution_count": null,
   "metadata": {
    "hidden": true,
    "scrolled": false
   },
   "outputs": [],
   "source": [
    "# Account Information\n",
    "exchanges = [c.PAPER, c.BINANCE, c.GDAX]\n",
    "a = Asset(c.ETH, c.BTC)\n",
    "for ex in exchanges:\n",
    "    print(\"Exchange\", ex)\n",
    "    exchange = load_exchange(ex)\n",
    "    b = exchange.fetch_balance()\n",
    "    print(exchange.fetch_balance())\n",
    "    print(exchange.fetch_orders(a))\n",
    "    print(exchange.fetch_open_orders(a))\n",
    "    print(exchange.fetch_closed_orders(a))"
   ]
  },
  {
   "cell_type": "code",
   "execution_count": null,
   "metadata": {
    "hidden": true
   },
   "outputs": [],
   "source": [
    "exchange = load_exchange(c.PAPER) # c.BINANCE\n",
    "a = Asset(c.ETH, c.BTC)\n",
    "\n",
    "# Market BUY\n",
    "print(\"Exchange\", exchange.id)\n",
    "order_dict = exchange.create_market_buy_order(a, .01)\n",
    "balance = exchange.fetch_balance()\n",
    "print(a.base, balance.get(a.base), a.quote, balance.get(a.quote))\n",
    "print(order_dict)"
   ]
  },
  {
   "cell_type": "code",
   "execution_count": null,
   "metadata": {
    "hidden": true
   },
   "outputs": [],
   "source": [
    "# Check Order\n",
    "balance = exchange.fetch_balance()\n",
    "print(a.base, balance.get(a.base), a.quote, balance.get(a.quote))\n",
    "found_order = exchange.fetch_order(order_dict['id'], a.symbol)\n",
    "print(\"Placed order\", found_order) "
   ]
  },
  {
   "cell_type": "code",
   "execution_count": null,
   "metadata": {
    "hidden": true
   },
   "outputs": [],
   "source": [
    "# Sell all remaining quantity\n",
    "curr_balance = exchange.fetch_balance().get(a.base)\n",
    "print(a.base, curr_balance[BalanceType.TOTAL])\n",
    "order = exchange.create_market_sell_order(a, curr_balance[BalanceType.TOTAL])\n",
    "print(order)"
   ]
  },
  {
   "cell_type": "code",
   "execution_count": null,
   "metadata": {
    "hidden": true
   },
   "outputs": [],
   "source": [
    "print(exchange.fetch_balance().get(a.base), exchange.fetch_balance().get(a.quote))"
   ]
  },
  {
   "cell_type": "markdown",
   "metadata": {
    "heading_collapsed": true
   },
   "source": [
    "### OHLCV Data"
   ]
  },
  {
   "cell_type": "code",
   "execution_count": null,
   "metadata": {
    "hidden": true
   },
   "outputs": [],
   "source": [
    "base = c.ETH\n",
    "quote = c.BTC\n",
    "exchange = load_exchange(c.BINANCE)\n",
    "asset = Asset(base, quote)\n",
    "assets = [ Asset(coin, quote) for coin in [c.ETH, c.LTC] ]\n",
    "period = Timeframe.ONE_MIN\n",
    "start = datetime.datetime.utcnow() - datetime.timedelta(hours=2)\n",
    "end = datetime.datetime.utcnow() - datetime.timedelta(hours=0)"
   ]
  },
  {
   "cell_type": "code",
   "execution_count": null,
   "metadata": {
    "hidden": true
   },
   "outputs": [],
   "source": [
    "# Single Coin\n",
    "df = ohlcv.fetch_and_save_ohlcv_data(exchange, asset, period.value['id'], start, end)\n",
    "df.head()"
   ]
  },
  {
   "cell_type": "code",
   "execution_count": null,
   "metadata": {
    "hidden": true
   },
   "outputs": [],
   "source": [
    "# Load from File\n",
    "fpath = ohlcv.get_price_data_fpath(asset, exchange.id, period.value['id'])\n",
    "df = ohlcv.load_chart_data_from_file(fpath)"
   ]
  },
  {
   "cell_type": "code",
   "execution_count": null,
   "metadata": {
    "hidden": true
   },
   "outputs": [],
   "source": [
    "# Multiple Coins\n",
    "ohlcv.download_chart_data(exchange, assets, period.value['id'], start, end)\n",
    "df = ohlcv.load_multiple_assets(exchange.id, assets, period.value['id'], start)\n",
    "df.head()"
   ]
  },
  {
   "cell_type": "markdown",
   "metadata": {
    "heading_collapsed": true
   },
   "source": [
    "### DataStore"
   ]
  },
  {
   "cell_type": "code",
   "execution_count": null,
   "metadata": {
    "hidden": true
   },
   "outputs": [],
   "source": [
    "experiment_name = 'mystrategy1'\n",
    "fname = 'multiasset'\n",
    "store = FileStore(os.path.join(cfg.DATA_DIR, experiment_name))"
   ]
  },
  {
   "cell_type": "code",
   "execution_count": null,
   "metadata": {
    "hidden": true
   },
   "outputs": [],
   "source": [
    "# DataFrame --> CSV\n",
    "store.df_to_csv(df, fname)\n",
    "df = store.csv_to_df(fname, index='time_epoch')\n",
    "df.head()"
   ]
  },
  {
   "cell_type": "code",
   "execution_count": null,
   "metadata": {
    "hidden": true
   },
   "outputs": [],
   "source": [
    "# DataFrame --> JSON\n",
    "store.df_to_json(df, fname)\n",
    "df = store.json_to_df(fname, index='time_epoch')\n",
    "df.head()"
   ]
  },
  {
   "cell_type": "code",
   "execution_count": null,
   "metadata": {
    "hidden": true
   },
   "outputs": [],
   "source": [
    "# JSON\n",
    "dct = {\n",
    "    'sample': 1,\n",
    "    'time': datetime.datetime.utcnow()\n",
    "}\n",
    "store.save_json(fname, dct)\n",
    "dct = store.load_json(fname)\n",
    "dct"
   ]
  },
  {
   "cell_type": "markdown",
   "metadata": {
    "heading_collapsed": true
   },
   "source": [
    "### Data Feed"
   ]
  },
  {
   "cell_type": "code",
   "execution_count": null,
   "metadata": {
    "hidden": true
   },
   "outputs": [],
   "source": [
    "def get_test_live_feed(exchange_id):\n",
    "    exchange = load_exchange(exchange_id)\n",
    "    asset = Asset(c.ETH, c.BTC)\n",
    "    period = Timeframe.ONE_MIN\n",
    "    start = datetime.datetime.utcnow() - datetime.timedelta(hours=2)\n",
    "    end = datetime.datetime.utcnow() - datetime.timedelta(hours=0)\n",
    "    feed_fpath = ohlcv.get_price_data_fpath(asset, exchange.id, period.value['id'])\n",
    "    feed = ExchangeDataFeed(exchange, [asset], period, feed_fpath, start, end)\n",
    "    feed.initialize()\n",
    "    return feed\n",
    "\n",
    "def get_test_csv_feed(exchange_id):\n",
    "    exchange = load_exchange(exchange_id)\n",
    "    start = datetime.datetime(year=2017, month=1, day=1)\n",
    "    end = datetime.datetime(year=2018, month=1, day=1)\n",
    "    asset = Asset(c.ETH, c.BTC)\n",
    "    period = Timeframe.THIRTY_MIN\n",
    "    feed_fpath = ohlcv.get_price_data_fpath(asset, exchange.id, period.value['id'])\n",
    "    ohlcv.fetch_and_save_ohlcv_data(exchange, asset, period.value['id'], start, end)\n",
    "    feed = CSVDataFeed(feed_fpath)\n",
    "    feed.initialize()\n",
    "    return feed"
   ]
  },
  {
   "cell_type": "code",
   "execution_count": null,
   "metadata": {
    "hidden": true
   },
   "outputs": [],
   "source": [
    "# CSV Feed\n",
    "csv_feed = get_test_csv_feed(c.PAPER)\n",
    "\n",
    "# Grab 1 row at a time\n",
    "for i in range(3):\n",
    "    data = feed.next()\n",
    "    print(data['time_utc'], data['close'])    \n",
    "    \n",
    "# Access all rows in history\n",
    "feed.history().head()"
   ]
  },
  {
   "cell_type": "code",
   "execution_count": null,
   "metadata": {
    "hidden": true
   },
   "outputs": [],
   "source": [
    "# Live Feed\n",
    "live_feed = get_test_live_feed(c.BINANCE)\n",
    "\n",
    "# Grab 1 row at a time (don't refresh data)\n",
    "for i in range(3):\n",
    "    data = feed.next(refresh=False)\n",
    "    print(data['time_utc'], data['close'])\n",
    "\n",
    "# Refresh data before next query\n",
    "data = feed.next(refresh=True)\n",
    "print(data['time_utc'], data['close'])\n",
    "    \n",
    "# Access History\n",
    "feed.history(t_minus=3).tail()"
   ]
  },
  {
   "cell_type": "markdown",
   "metadata": {
    "heading_collapsed": true
   },
   "source": [
    "### OrderType"
   ]
  },
  {
   "cell_type": "code",
   "execution_count": null,
   "metadata": {
    "hidden": true
   },
   "outputs": [],
   "source": [
    "assert OrderType.from_type_side('limit','buy') == OrderType.LIMIT_BUY\n",
    "assert OrderType.from_type_side('limit','sell') == OrderType.LIMIT_SELL\n",
    "assert OrderType.from_type_side('market','buy') == OrderType.MARKET_BUY\n",
    "assert OrderType.from_type_side('market','sell') == OrderType.MARKET_SELL"
   ]
  },
  {
   "cell_type": "code",
   "execution_count": null,
   "metadata": {
    "hidden": true
   },
   "outputs": [],
   "source": [
    "assert OrderType.LIMIT_BUY in OrderType.buy_types()\n",
    "assert OrderType.MARKET_BUY in OrderType.buy_types()\n",
    "assert OrderType.LIMIT_SELL in OrderType.sell_types()\n",
    "assert OrderType.MARKET_SELL in OrderType.sell_types()"
   ]
  },
  {
   "cell_type": "code",
   "execution_count": null,
   "metadata": {
    "hidden": true
   },
   "outputs": [],
   "source": [
    "assert OrderType.LIMIT_BUY.is_buy()\n",
    "assert OrderType.MARKET_BUY.is_buy()\n",
    "assert OrderType.LIMIT_SELL.is_sell()\n",
    "assert OrderType.MARKET_SELL.is_sell()\n",
    "OrderType.LIMIT_BUY.name, OrderType.LIMIT_BUY.value"
   ]
  },
  {
   "cell_type": "markdown",
   "metadata": {
    "heading_collapsed": true
   },
   "source": [
    "### Order"
   ]
  },
  {
   "cell_type": "code",
   "execution_count": null,
   "metadata": {
    "hidden": true
   },
   "outputs": [],
   "source": [
    "asset = Asset(c.LTC, c.USDT)\n",
    "order = Order(\n",
    "    exchange_id=c.PAPER, \n",
    "    asset=asset,\n",
    "    price=250., \n",
    "    quantity=1, \n",
    "    order_type=OrderType.LIMIT_BUY\n",
    ")\n",
    "Order.from_dict(order.to_dict())"
   ]
  },
  {
   "cell_type": "markdown",
   "metadata": {
    "heading_collapsed": true
   },
   "source": [
    "### Order Manager"
   ]
  },
  {
   "cell_type": "code",
   "execution_count": null,
   "metadata": {
    "hidden": true
   },
   "outputs": [],
   "source": [
    "asset = Asset(c.LTC, c.BTC)\n",
    "exchange = load_exchange(c.PAPER)\n",
    "exchange.balance = Balance(c.BTC, 5.0)\n",
    "o1 = Order(exchange.id, asset, price=.1, quantity=1.0, order_type=OrderType.LIMIT_BUY)\n",
    "o2 = Order(exchange.id, asset, price=.1, quantity=1.0, order_type=OrderType.LIMIT_SELL)\n",
    "orders = {\n",
    "    o1.id: o1,\n",
    "    o2.id: o2\n",
    "}\n",
    "orders,exchange.balance"
   ]
  },
  {
   "cell_type": "code",
   "execution_count": null,
   "metadata": {
    "hidden": true
   },
   "outputs": [],
   "source": [
    "resp = order_manager.place_order(exchange, orders[o1.id])\n",
    "orders[o1.id] = resp\n",
    "orders,exchange.balance"
   ]
  },
  {
   "cell_type": "code",
   "execution_count": null,
   "metadata": {
    "hidden": true
   },
   "outputs": [],
   "source": [
    "resp = order_manager.place_order(exchange, orders[o2.id])\n",
    "orders[o2.id] = resp\n",
    "orders,exchange.balance"
   ]
  },
  {
   "cell_type": "code",
   "execution_count": null,
   "metadata": {
    "hidden": true
   },
   "outputs": [],
   "source": [
    "limit_buy = order_manager.build_limit_buy_order(exchange, asset, price=.1, quantity=1.0)\n",
    "limit_sell = order_manager.build_limit_sell_order(exchange, asset, price=.1, quantity=1.0)\n",
    "market_buy = order_manager.build_market_buy_order(exchange, asset, quantity=1.0)\n",
    "market_sell = order_manager.build_market_sell_order(exchange, asset, quantity=1.0)\n",
    "orders = [limit_buy, limit_sell, market_buy, market_sell]\n",
    "orders"
   ]
  },
  {
   "cell_type": "code",
   "execution_count": null,
   "metadata": {
    "hidden": true
   },
   "outputs": [],
   "source": [
    "results = []\n",
    "for order in orders:\n",
    "    res = order_manager.place_order(exchange, order)\n",
    "    results.append(res)\n",
    "results"
   ]
  },
  {
   "cell_type": "code",
   "execution_count": null,
   "metadata": {
    "hidden": true
   },
   "outputs": [],
   "source": [
    "exchange.balance"
   ]
  },
  {
   "cell_type": "code",
   "execution_count": null,
   "metadata": {
    "hidden": true
   },
   "outputs": [],
   "source": [
    "exchange.orders"
   ]
  },
  {
   "cell_type": "code",
   "execution_count": null,
   "metadata": {
    "hidden": true
   },
   "outputs": [],
   "source": [
    "#5e5b1bbbcc9e4edcbca2ec6c0663a1b4\n",
    "exchange.fetch_orders(asset)"
   ]
  },
  {
   "cell_type": "code",
   "execution_count": null,
   "metadata": {
    "hidden": true
   },
   "outputs": [],
   "source": [
    "exchange.fetch_order('57eb982b9afb49208b081a117022ffbe')"
   ]
  },
  {
   "cell_type": "code",
   "execution_count": null,
   "metadata": {
    "hidden": true
   },
   "outputs": [],
   "source": [
    "updated_orders = exchange.fetch_orders(asset)\n",
    "ex_order_ids = [order['id'] for order in updated_orders]\n",
    "print(ex_order_ids)\n",
    "updated_orders"
   ]
  },
  {
   "cell_type": "code",
   "execution_count": null,
   "metadata": {
    "hidden": true
   },
   "outputs": [],
   "source": [
    "ex_orders = order_manager.get_orders(exchange, ex_order_ids)\n",
    "print(ex_orders)"
   ]
  },
  {
   "cell_type": "code",
   "execution_count": null,
   "metadata": {
    "hidden": true
   },
   "outputs": [],
   "source": [
    "type(ex_orders[0])"
   ]
  },
  {
   "cell_type": "code",
   "execution_count": null,
   "metadata": {
    "hidden": true,
    "scrolled": false
   },
   "outputs": [],
   "source": [
    "print(\"PENDING\", order_manager.get_pending_orders(ex_orders))\n",
    "print(\"CANCELED\", order_manager.get_canceled_orders(ex_orders))\n",
    "print(\"FILLED\", order_manager.get_filled_orders(ex_orders))"
   ]
  },
  {
   "cell_type": "markdown",
   "metadata": {
    "heading_collapsed": true
   },
   "source": [
    "### Position"
   ]
  },
  {
   "cell_type": "code",
   "execution_count": null,
   "metadata": {
    "hidden": true
   },
   "outputs": [],
   "source": [
    "asset = Asset(c.LTC, c.BTC)\n",
    "pos = Position(asset, quantity=1, cost_price=250.0)\n",
    "print(\"Asset\", pos.asset.to_dict())\n",
    "print(\"Value\", pos.cost_value, \"Quantity\", pos.quantity, \"Cost\", pos.cost_price)\n",
    "\n",
    "pos.update(1, 200)\n",
    "print(\"Value\", pos.cost_value, \"Quantity\", pos.quantity, \"Cost\", pos.cost_price)\n",
    "\n",
    "pos.update(-1, 200)\n",
    "print(\"Value\", pos.cost_value, \"Quantity\", pos.quantity, \"Cost\", pos.cost_price)\n",
    "\n",
    "# Go short\n",
    "pos.update(-2, 150)\n",
    "print(\"Value\", pos.cost_value, \"Quantity\", pos.quantity, \"Cost\", pos.cost_price)\n",
    "\n",
    "# Close the short for a LOSS and go long (price went up, we had to pay $300 to cover our short)\n",
    "# then we bought another share because we're newbs\n",
    "pos.update(2, 300)\n",
    "print(\"Value\", pos.cost_value, \"Quantity\", pos.quantity, \"Cost\", pos.cost_price)"
   ]
  },
  {
   "cell_type": "code",
   "execution_count": null,
   "metadata": {
    "hidden": true
   },
   "outputs": [],
   "source": [
    "\"\"\"\n",
    "Assume that an investor made the following consecutive fund purchases in a taxable account: 1,500 shares at $20, 1,000 shares at $10 and 1,250 shares at $8. The investor’s average cost basis is calculated by dividing $50,000/3,750 shares. The average cost is $13.33.\n",
    "\n",
    "Suppose the investor then sells 1,000 shares of the fund at $19.\n",
    "\n",
    "Gain/loss using average cost basis: ($19 - $13.33) x 1,000 shares = $5,667\n",
    "\"\"\"\n",
    "\n",
    "asset = Asset(c.LTC, c.BTC)\n",
    "pos = Position(asset, quantity=1500, cost_price=20.0)\n",
    "print(\"Value\", pos.cost_value, \"Quantity\", pos.quantity, \"Cost\", pos.cost_price)\n",
    "pos.update(txn_quantity=1000, txn_price=10)\n",
    "print(\"Value\", pos.cost_value, \"Quantity\", pos.quantity, \"Cost\", pos.cost_price)\n",
    "pos.update(txn_quantity=1250, txn_price=8)\n",
    "print(\"Value\", pos.cost_value, \"Quantity\", pos.quantity, \"Cost\", pos.cost_price)\n",
    "\n",
    "last_cost = pos.cost_price\n",
    "pos.update(txn_quantity=-1000, txn_price=19)\n",
    "print(\"Value\", pos.cost_value, \"Quantity\", pos.quantity, \"Cost\", pos.cost_price)\n",
    "print(\"Profit\", (19 - last_cost) * 1000)"
   ]
  },
  {
   "cell_type": "code",
   "execution_count": null,
   "metadata": {
    "hidden": true
   },
   "outputs": [],
   "source": [
    "Position.from_dict(pos.to_dict()).to_dict()"
   ]
  },
  {
   "cell_type": "markdown",
   "metadata": {
    "heading_collapsed": true
   },
   "source": [
    "### PerformanceTracker"
   ]
  },
  {
   "cell_type": "code",
   "execution_count": null,
   "metadata": {
    "hidden": true
   },
   "outputs": [],
   "source": [
    "asset = Asset(c.BTC, c.USD)\n",
    "perf = PerformanceTracker(starting_cash=5000, timeframe=Timeframe.ONE_MIN, store=None)\n",
    "perf.to_dict()"
   ]
  },
  {
   "cell_type": "code",
   "execution_count": null,
   "metadata": {
    "hidden": true
   },
   "outputs": [],
   "source": [
    "# Buy 1 BTC for $1000\n",
    "pos1 = Position(asset, quantity=1, cost_price=1000.0)\n",
    "positions = [pos1]\n",
    "perf.add_period(\n",
    "    start=datetime.datetime.utcnow(),\n",
    "    cash=4000.0,\n",
    "    positions=positions\n",
    ")\n",
    "perf.to_dict()"
   ]
  },
  {
   "cell_type": "code",
   "execution_count": null,
   "metadata": {
    "hidden": true
   },
   "outputs": [],
   "source": [
    "\"\"\"\n",
    "Value of BTC increased $100\n",
    "Position Return\n",
    "    Return = .10\n",
    "    PnL = $100\n",
    "Cumulative Return\n",
    "    Return = $100 / $5000 = .02\n",
    "    PnL = $100\n",
    "\"\"\"\n",
    "pos1.latest_price = 1100\n",
    "perf.add_period(\n",
    "    start=datetime.datetime.utcnow(),\n",
    "    cash=4000.0,\n",
    "    positions=positions\n",
    ")\n",
    "perf.to_dict()"
   ]
  },
  {
   "cell_type": "code",
   "execution_count": null,
   "metadata": {
    "hidden": true
   },
   "outputs": [],
   "source": [
    "\"\"\"\n",
    "Value of BTC increased again $400\n",
    "Position Return\n",
    "    Return = .5\n",
    "    PnL = $500\n",
    "Cumulative Return\n",
    "    Return = $500 / $5000 = .1\n",
    "    PnL = $500\n",
    "\"\"\"\n",
    "pos1.latest_price = 1500\n",
    "perf.add_period(\n",
    "    start=datetime.datetime.utcnow(),\n",
    "    cash=4000.0,\n",
    "    positions=positions\n",
    ")\n",
    "perf.to_dict()"
   ]
  },
  {
   "cell_type": "code",
   "execution_count": null,
   "metadata": {
    "hidden": true
   },
   "outputs": [],
   "source": [
    "# Buy 1 ETH for $500\n",
    "asset = Asset(c.ETH, c.USD)\n",
    "pos2 = Position(asset, quantity=1, cost_price=500.0)\n",
    "positions.append(pos2)\n",
    "perf.add_period(\n",
    "    start=datetime.datetime.utcnow(),\n",
    "    cash=3500.0,\n",
    "    positions=positions\n",
    ")\n",
    "perf.to_dict()"
   ]
  },
  {
   "cell_type": "code",
   "execution_count": null,
   "metadata": {
    "hidden": true,
    "scrolled": false
   },
   "outputs": [],
   "source": [
    "\"\"\"\n",
    "Value of ETH decreased $100\n",
    "Position Return\n",
    "    Return = -100/500\n",
    "    PnL = -100\n",
    "Cumulative Return\n",
    "    Return = 400 / 5000 = .08\n",
    "    PnL = 400\n",
    "\"\"\"\n",
    "pos2.latest_price = 400\n",
    "perf.add_period(\n",
    "    start=datetime.datetime.utcnow(),\n",
    "    cash=3500.0,\n",
    "    positions=positions\n",
    ")\n",
    "perf.to_dict()"
   ]
  },
  {
   "cell_type": "code",
   "execution_count": null,
   "metadata": {
    "hidden": true
   },
   "outputs": [],
   "source": [
    "PerformanceTracker.from_dict(perf.to_dict())"
   ]
  },
  {
   "cell_type": "markdown",
   "metadata": {
    "heading_collapsed": true
   },
   "source": [
    "### Portfolio"
   ]
  },
  {
   "cell_type": "code",
   "execution_count": null,
   "metadata": {
    "hidden": true
   },
   "outputs": [],
   "source": [
    "starting_cash = 5000\n",
    "exchange = load_exchange(c.PAPER)\n",
    "perf = PerformanceTracker(starting_cash, Timeframe.ONE_MIN, store=None)\n",
    "portfolio = Portfolio(starting_cash, perf)"
   ]
  },
  {
   "cell_type": "code",
   "execution_count": null,
   "metadata": {
    "hidden": true
   },
   "outputs": [],
   "source": [
    "# Buy 1 BTC for $1000\n",
    "asset = Asset(c.BTC, c.USD)\n",
    "order = Order(\n",
    "    exchange_id=exchange.id, \n",
    "    asset=asset,\n",
    "    price=1000., \n",
    "    quantity=1, \n",
    "    order_type=OrderType.LIMIT_BUY\n",
    ")\n",
    "order"
   ]
  },
  {
   "cell_type": "code",
   "execution_count": null,
   "metadata": {
    "hidden": true
   },
   "outputs": [],
   "source": [
    "portfolio.update(filled_orders=[order])\n",
    "portfolio"
   ]
  },
  {
   "cell_type": "code",
   "execution_count": null,
   "metadata": {
    "hidden": true
   },
   "outputs": [],
   "source": [
    "# Buy more BTC, price has risen $500\n",
    "order = Order(\n",
    "    exchange_id=exchange.id, \n",
    "    asset=asset,\n",
    "    price=1500., \n",
    "    quantity=1, \n",
    "    order_type=OrderType.LIMIT_BUY\n",
    ")\n",
    "portfolio.update(filled_orders=[order])\n",
    "portfolio"
   ]
  },
  {
   "cell_type": "code",
   "execution_count": null,
   "metadata": {
    "hidden": true
   },
   "outputs": [],
   "source": [
    "# Sell all BTC at profit\n",
    "order = Order(\n",
    "    exchange_id=exchange.id, \n",
    "    asset=asset,\n",
    "    price=1500., \n",
    "    quantity=2, \n",
    "    order_type=OrderType.LIMIT_SELL\n",
    ")\n",
    "portfolio.update(filled_orders=[order])\n",
    "portfolio"
   ]
  },
  {
   "cell_type": "code",
   "execution_count": null,
   "metadata": {
    "hidden": true
   },
   "outputs": [],
   "source": [
    "Portfolio.from_dict(portfolio.to_dict())"
   ]
  },
  {
   "cell_type": "markdown",
   "metadata": {
    "heading_collapsed": true
   },
   "source": [
    "### Record"
   ]
  },
  {
   "cell_type": "code",
   "execution_count": null,
   "metadata": {
    "hidden": true
   },
   "outputs": [],
   "source": [
    "feed = get_test_csv_feed(c.PAPER)\n",
    "\n",
    "metrics = {\n",
    "    'SMA': [1, 2, 3, 4],\n",
    "    'RSI': [3, 4, 2, 1]\n",
    "}\n",
    "\n",
    "o1 = Order(c.PAPER, Asset(c.ETH, c.BTC), 5.0, 100.0, OrderType.LIMIT_BUY)\n",
    "o2 = Order(c.PAPER, Asset(c.LTC, c.BTC), 5.0, 100.0, OrderType.LIMIT_BUY)\n",
    "orders = {\n",
    "    o1.id: o1,\n",
    "    o2.id: o2\n",
    "}"
   ]
  },
  {
   "cell_type": "code",
   "execution_count": null,
   "metadata": {
    "hidden": true
   },
   "outputs": [],
   "source": [
    "root_dir = os.path.join(cfg.DATA_DIR, 'default')\n",
    "store = FileStore(root_dir)\n",
    "\n",
    "record = Record(config={}, portfolio=portfolio, balance=Balance(), store=store)\n",
    "record.orders = orders\n",
    "record.metrics = metrics\n",
    "record.ohlcv = feed.history()\n",
    "record.save()\n",
    "record = Record.load(root_dir)"
   ]
  },
  {
   "cell_type": "code",
   "execution_count": null,
   "metadata": {
    "hidden": true,
    "scrolled": false
   },
   "outputs": [],
   "source": [
    "print(record.config)\n",
    "print(record.metrics)\n",
    "print(record.balance)\n",
    "print(record.orders)\n",
    "print(record.ohlcv.head()[['time_utc','close']])\n",
    "print(record.portfolio)"
   ]
  },
  {
   "cell_type": "markdown",
   "metadata": {
    "heading_collapsed": true
   },
   "source": [
    "### Context"
   ]
  },
  {
   "cell_type": "code",
   "execution_count": null,
   "metadata": {
    "hidden": true
   },
   "outputs": [],
   "source": [
    "feed = get_test_csv_feed(c.PAPER)\n",
    "ctx = Context(DEFAULT_CONFIG, exchange, feed, record)"
   ]
  },
  {
   "cell_type": "code",
   "execution_count": null,
   "metadata": {
    "hidden": true
   },
   "outputs": [],
   "source": [
    "ctx = Context.from_config(DEFAULT_CONFIG)\n",
    "print(ctx.record.config)\n",
    "print(ctx.record.metrics)\n",
    "print(ctx.record.balance)\n",
    "print(ctx.record.orders)\n",
    "print(ctx.record.ohlcv)\n",
    "print(ctx.record.portfolio)"
   ]
  },
  {
   "cell_type": "markdown",
   "metadata": {},
   "source": [
    "### Strategy"
   ]
  },
  {
   "cell_type": "code",
   "execution_count": 2,
   "metadata": {},
   "outputs": [],
   "source": [
    "# https://www.backtrader.com/docu/quickstart/quickstart.html\n",
    "# https://enigmampc.github.io/catalyst/beginner-tutorial.html#basics\n",
    "from strategies.strategy import Strategy\n",
    "from trading import order_manager\n",
    "\n",
    "class MyStrategy(Strategy):\n",
    "    def __init__(self):\n",
    "        super().__init__()\n",
    "    \n",
    "    def log_all(self, orders, data, ctx, time_utc):\n",
    "        self.logger = ctx.logger\n",
    "        if self.logger is not None:\n",
    "            self.log_epoch_time(time_utc)\n",
    "            self.log_ohlcv(data)\n",
    "            self.log_orders(orders)\n",
    "            self.log_performance(ctx)\n",
    "            self.log_balance(ctx)\n",
    "            self.log_positions(ctx)\n",
    "            self.log_metrics(ctx)\n",
    "    \n",
    "    def handle_data(self, data, ctx):\n",
    "        # Update metrics\n",
    "        self.update_metric('SMA', 5.0, ctx)\n",
    "        self.update_metric('RSI', 10.0, ctx)\n",
    "        \n",
    "        # Add latest OHLCV row to record\n",
    "        ctx.record.add_ohlcv(data)\n",
    "        \n",
    "        # Create orders\n",
    "        orders = []\n",
    "        asset = Asset(c.ETH, c.BTC)\n",
    "        if random.random() > .5:\n",
    "            order = order_manager.build_limit_buy_order(\n",
    "                ctx.exchange, asset, price=0.1, quantity=1)\n",
    "        else:\n",
    "            order = order_manager.build_limit_sell_order(\n",
    "                ctx.exchange, asset, price=0.1, quantity=1)\n",
    "        orders.append(order)\n",
    "\n",
    "        self.log_all(orders, data, ctx, data['time_utc'])\n",
    "        \n",
    "        return orders\n"
   ]
  },
  {
   "cell_type": "code",
   "execution_count": null,
   "metadata": {},
   "outputs": [],
   "source": [
    "import shutil\n",
    "from data.store import DATA_STORES, FILE_STORE\n",
    "from data.feed import EXCHANGE_FEED, CSV_FEED\n",
    "\n",
    "config = {\n",
    "    'experiment': 'default',\n",
    "    'exchange_id': c.PAPER,\n",
    "    'cash_asset': c.BTC,\n",
    "    'starting_cash': 1.0,\n",
    "    'store': FILE_STORE,\n",
    "    'feed': {\n",
    "        'name': EXCHANGE_FEED,\n",
    "        'fpath': os.path.join(cfg.DATA_DIR, 'default_feed.csv'),\n",
    "        'symbols': ['ETH/BTC'],\n",
    "        'timeframe': Timeframe.ONE_MIN.name,\n",
    "        'start': '2018-01-10T08:00:00',\n",
    "        'end': None,\n",
    "    },\n",
    "    'balance': {\n",
    "        c.BTC: {'free': 1.0, 'used':0.0, 'total': 1.0},\n",
    "        'free': {c.BTC: 1.0},\n",
    "        'used': {c.BTC: 0.0},\n",
    "        'total': {c.BTC: 1.0},\n",
    "    }\n",
    "}\n",
    "shutil.rmtree(os.path.join(cfg.DATA_DIR, config['experiment']), ignore_errors=True)\n",
    "ctx = Context.from_config(config)\n",
    "s = MyStrategy()"
   ]
  },
  {
   "cell_type": "code",
   "execution_count": null,
   "metadata": {},
   "outputs": [],
   "source": [
    "orders = s.process(ctx.feed.next(), ctx)"
   ]
  },
  {
   "cell_type": "code",
   "execution_count": null,
   "metadata": {},
   "outputs": [],
   "source": [
    "resp = order_manager.place_orders(ctx.exchange, orders)\n",
    "resp"
   ]
  },
  {
   "cell_type": "code",
   "execution_count": null,
   "metadata": {},
   "outputs": [],
   "source": [
    "print(\"BEFORE\")\n",
    "print(ctx.record.balance)\n",
    "# We're not updating the virtual balance, only the exchange \n",
    "# (which is fine until we want to have a multi-exchange algo)\n",
    "print(\"AFTER Exchange Balance\")\n",
    "print(ctx.exchange.balance)"
   ]
  },
  {
   "cell_type": "code",
   "execution_count": null,
   "metadata": {},
   "outputs": [],
   "source": []
  },
  {
   "cell_type": "markdown",
   "metadata": {},
   "source": [
    "### Runner"
   ]
  },
  {
   "cell_type": "code",
   "execution_count": null,
   "metadata": {
    "scrolled": false
   },
   "outputs": [
    {
     "name": "stdout",
     "output_type": "stream",
     "text": [
      "Loading feed: .data/default_feed.csv\n",
      "Downloading: ETH/BTC\n"
     ]
    },
    {
     "name": "stderr",
     "output_type": "stream",
     "text": [
      "---------------------------------------\n",
      "Epoch 1 - Timestep: 2018-01-10T12:28:00\n",
      "---------------------------------------\n",
      "OHLCV\n",
      "    O: 0.0965 | C: 0.0966 | V: 198.5 | T: 2018-01-10T12:28:00\n",
      "ORDERS\n",
      "    1: ETH/BTC | LIMIT_BUY | Price: 0.1000 | Quantity: 1.0000\n",
      "PERFORMANCE\n",
      "    Cash: 1.0000 Total Val: 1.0000 PnL: 0.0000 Returns: 0.0000\n",
      "BALANCE\n",
      "    BTC - {'free': 1.0, 'used': 0.0, 'total': 1.0}\n",
      "POSITIONS\n",
      "METRICS\n",
      "    SMA: 5.00\n",
      "    RSI: 10.00\n"
     ]
    },
    {
     "name": "stdout",
     "output_type": "stream",
     "text": [
      "Downloaded rows: 500\n",
      "Punishing ...\n",
      "{'experiment': 'default', 'exchange_id': 'paper', 'cash_asset': 'BTC', 'starting_cash': 1.0, 'store': 'CSV_STORE', 'feed': {'name': 'EXCHANGE_FEED', 'fpath': '.data/default_feed.csv', 'symbols': ['ETH/BTC'], 'timeframe': 'ONE_MIN', 'start': '2018-01-10T08:00:00', 'end': None}, 'balance': {'BTC': {'free': 1.0, 'used': 0.0, 'total': 1.0}, 'free': {'BTC': 1.0}, 'used': {'BTC': 0.0}, 'total': {'BTC': 1.0}}}\n",
      "{'id': '5a1699bc693e46f5ac04a5e3971acda7', 'asset': 'ETH/BTC', 'price': 0.1, 'quantity': 1, 'type': 'limit', 'side': 'buy', 'filled': 0.0, 'status': 'FILLED', 'fee': {}, 'created_time': datetime.datetime(2018, 1, 10, 23, 4, 44, 834534)}\n",
      "{'id': '5a1699bc693e46f5ac04a5e3971acda7', 'asset': 'ETH/BTC', 'price': 0.1, 'quantity': 1, 'type': 'limit', 'side': 'buy', 'filled': 0.0, 'status': 'FILLED', 'fee': {}, 'created_time': datetime.datetime(2018, 1, 10, 23, 4, 44, 834534)}\n"
     ]
    },
    {
     "name": "stderr",
     "output_type": "stream",
     "text": [
      "---------------------------------------\n",
      "Epoch 2 - Timestep: 2018-01-10T12:29:00\n",
      "---------------------------------------\n",
      "OHLCV\n",
      "    O: 0.0966 | C: 0.0966 | V: 275.5 | T: 2018-01-10T12:29:00\n",
      "ORDERS\n",
      "    1: ETH/BTC | LIMIT_BUY | Price: 0.1000 | Quantity: 1.0000\n",
      "PERFORMANCE\n",
      "    Cash: 0.9000 Total Val: 1.0000 PnL: 0.0000 Returns: 0.0000\n",
      "BALANCE\n",
      "    BTC - {'free': 0.9, 'used': 0.0, 'total': 0.9}\n",
      "    ETH - {'free': 1.0, 'used': 0.0, 'total': 1.0}\n",
      "POSITIONS\n",
      "     {'asset': 'ETH/BTC', 'quantity': 1, 'cost_price': 0.1, 'latest_price': 0.1}\n",
      "METRICS\n",
      "    SMA: 5.00\n",
      "    RSI: 10.00\n"
     ]
    },
    {
     "name": "stdout",
     "output_type": "stream",
     "text": [
      "{'id': '12a4637c53854db79170d82965a83bbe', 'asset': 'ETH/BTC', 'price': 0.1, 'quantity': 1, 'type': 'limit', 'side': 'buy', 'filled': 0.0, 'status': 'FILLED', 'fee': {}, 'created_time': datetime.datetime(2018, 1, 10, 23, 4, 46, 883552)}\n",
      "{'id': '12a4637c53854db79170d82965a83bbe', 'asset': 'ETH/BTC', 'price': 0.1, 'quantity': 1, 'type': 'limit', 'side': 'buy', 'filled': 0.0, 'status': 'FILLED', 'fee': {}, 'created_time': datetime.datetime(2018, 1, 10, 23, 4, 46, 883552)}\n"
     ]
    },
    {
     "name": "stderr",
     "output_type": "stream",
     "text": [
      "---------------------------------------\n",
      "Epoch 3 - Timestep: 2018-01-10T12:30:00\n",
      "---------------------------------------\n",
      "OHLCV\n",
      "    O: 0.0966 | C: 0.0968 | V: 182.0 | T: 2018-01-10T12:30:00\n",
      "ORDERS\n",
      "    1: ETH/BTC | LIMIT_BUY | Price: 0.1000 | Quantity: 1.0000\n",
      "PERFORMANCE\n",
      "    Cash: 0.8000 Total Val: 1.0000 PnL: 0.0000 Returns: 0.0000\n",
      "BALANCE\n",
      "    BTC - {'free': 0.8, 'used': 0.0, 'total': 0.8}\n",
      "    ETH - {'free': 2.0, 'used': 0.0, 'total': 2.0}\n",
      "POSITIONS\n",
      "     {'asset': 'ETH/BTC', 'quantity': 2, 'cost_price': 0.1, 'latest_price': 0.1}\n",
      "METRICS\n",
      "    SMA: 5.00\n",
      "    RSI: 10.00\n"
     ]
    },
    {
     "name": "stdout",
     "output_type": "stream",
     "text": [
      "{'id': '3c57142254e4496bbb71243557bf836d', 'asset': 'ETH/BTC', 'price': 0.1, 'quantity': 1, 'type': 'limit', 'side': 'buy', 'filled': 0.0, 'status': 'FILLED', 'fee': {}, 'created_time': datetime.datetime(2018, 1, 10, 23, 4, 48, 927175)}\n",
      "{'id': '3c57142254e4496bbb71243557bf836d', 'asset': 'ETH/BTC', 'price': 0.1, 'quantity': 1, 'type': 'limit', 'side': 'buy', 'filled': 0.0, 'status': 'FILLED', 'fee': {}, 'created_time': datetime.datetime(2018, 1, 10, 23, 4, 48, 927175)}\n"
     ]
    },
    {
     "name": "stderr",
     "output_type": "stream",
     "text": [
      "---------------------------------------\n",
      "Epoch 4 - Timestep: 2018-01-10T12:31:00\n",
      "---------------------------------------\n",
      "OHLCV\n",
      "    O: 0.0967 | C: 0.0967 | V: 405.3 | T: 2018-01-10T12:31:00\n",
      "ORDERS\n",
      "    1: ETH/BTC | LIMIT_SELL | Price: 0.1000 | Quantity: 1.0000\n",
      "PERFORMANCE\n",
      "    Cash: 0.7000 Total Val: 1.0000 PnL: 0.0000 Returns: 0.0000\n",
      "BALANCE\n",
      "    BTC - {'free': 0.7000000000000001, 'used': 0.0, 'total': 0.7000000000000001}\n",
      "    ETH - {'free': 3.0, 'used': 0.0, 'total': 3.0}\n",
      "POSITIONS\n",
      "     {'asset': 'ETH/BTC', 'quantity': 3, 'cost_price': 0.10000000000000002, 'latest_price': 0.1}\n",
      "METRICS\n",
      "    SMA: 5.00\n",
      "    RSI: 10.00\n"
     ]
    },
    {
     "name": "stdout",
     "output_type": "stream",
     "text": [
      "{'id': '045d6d9b6c114d0994ff99d0664fd566', 'asset': 'ETH/BTC', 'price': 0.1, 'quantity': 1, 'type': 'limit', 'side': 'sell', 'filled': 0.0, 'status': 'FILLED', 'fee': {}, 'created_time': datetime.datetime(2018, 1, 10, 23, 4, 50, 975921)}\n",
      "{'id': '045d6d9b6c114d0994ff99d0664fd566', 'asset': 'ETH/BTC', 'price': 0.1, 'quantity': 1, 'type': 'limit', 'side': 'sell', 'filled': 0.0, 'status': 'FILLED', 'fee': {}, 'created_time': datetime.datetime(2018, 1, 10, 23, 4, 50, 975921)}\n"
     ]
    },
    {
     "name": "stderr",
     "output_type": "stream",
     "text": [
      "---------------------------------------\n",
      "Epoch 5 - Timestep: 2018-01-10T12:32:00\n",
      "---------------------------------------\n",
      "OHLCV\n",
      "    O: 0.0967 | C: 0.0962 | V: 313.5 | T: 2018-01-10T12:32:00\n",
      "ORDERS\n",
      "    1: ETH/BTC | LIMIT_BUY | Price: 0.1000 | Quantity: 1.0000\n",
      "PERFORMANCE\n",
      "    Cash: 0.8000 Total Val: 1.0000 PnL: 0.0000 Returns: 0.0000\n",
      "BALANCE\n",
      "    BTC - {'free': 0.8, 'used': 0.0, 'total': 0.8}\n",
      "    ETH - {'free': 2.0, 'used': 0.0, 'total': 2.0}\n",
      "POSITIONS\n",
      "     {'asset': 'ETH/BTC', 'quantity': 2, 'cost_price': 0.10000000000000002, 'latest_price': 0.1}\n",
      "METRICS\n",
      "    SMA: 5.00\n",
      "    RSI: 10.00\n"
     ]
    },
    {
     "name": "stdout",
     "output_type": "stream",
     "text": [
      "{'id': '428f8257654247038c3ecf4a0b4fcb81', 'asset': 'ETH/BTC', 'price': 0.1, 'quantity': 1, 'type': 'limit', 'side': 'buy', 'filled': 0.0, 'status': 'FILLED', 'fee': {}, 'created_time': datetime.datetime(2018, 1, 10, 23, 4, 53, 26467)}\n",
      "{'id': '428f8257654247038c3ecf4a0b4fcb81', 'asset': 'ETH/BTC', 'price': 0.1, 'quantity': 1, 'type': 'limit', 'side': 'buy', 'filled': 0.0, 'status': 'FILLED', 'fee': {}, 'created_time': datetime.datetime(2018, 1, 10, 23, 4, 53, 26467)}\n"
     ]
    },
    {
     "name": "stderr",
     "output_type": "stream",
     "text": [
      "---------------------------------------\n",
      "Epoch 6 - Timestep: 2018-01-10T12:33:00\n",
      "---------------------------------------\n",
      "OHLCV\n",
      "    O: 0.0963 | C: 0.0961 | V: 176.1 | T: 2018-01-10T12:33:00\n",
      "ORDERS\n",
      "    1: ETH/BTC | LIMIT_BUY | Price: 0.1000 | Quantity: 1.0000\n",
      "PERFORMANCE\n",
      "    Cash: 0.7000 Total Val: 1.0000 PnL: 0.0000 Returns: 0.0000\n",
      "BALANCE\n",
      "    BTC - {'free': 0.7000000000000001, 'used': 0.0, 'total': 0.7000000000000001}\n",
      "    ETH - {'free': 3.0, 'used': 0.0, 'total': 3.0}\n",
      "POSITIONS\n",
      "     {'asset': 'ETH/BTC', 'quantity': 3, 'cost_price': 0.10000000000000002, 'latest_price': 0.1}\n",
      "METRICS\n",
      "    SMA: 5.00\n",
      "    RSI: 10.00\n"
     ]
    },
    {
     "name": "stdout",
     "output_type": "stream",
     "text": [
      "{'id': '732f3fa07a29495c9819dd4f01f46249', 'asset': 'ETH/BTC', 'price': 0.1, 'quantity': 1, 'type': 'limit', 'side': 'buy', 'filled': 0.0, 'status': 'FILLED', 'fee': {}, 'created_time': datetime.datetime(2018, 1, 10, 23, 4, 55, 70851)}\n",
      "{'id': '732f3fa07a29495c9819dd4f01f46249', 'asset': 'ETH/BTC', 'price': 0.1, 'quantity': 1, 'type': 'limit', 'side': 'buy', 'filled': 0.0, 'status': 'FILLED', 'fee': {}, 'created_time': datetime.datetime(2018, 1, 10, 23, 4, 55, 70851)}\n"
     ]
    },
    {
     "name": "stderr",
     "output_type": "stream",
     "text": [
      "---------------------------------------\n",
      "Epoch 7 - Timestep: 2018-01-10T12:34:00\n",
      "---------------------------------------\n",
      "OHLCV\n",
      "    O: 0.0961 | C: 0.0967 | V: 280.2 | T: 2018-01-10T12:34:00\n",
      "ORDERS\n",
      "    1: ETH/BTC | LIMIT_SELL | Price: 0.1000 | Quantity: 1.0000\n",
      "PERFORMANCE\n",
      "    Cash: 0.6000 Total Val: 1.0000 PnL: 0.0000 Returns: 0.0000\n",
      "BALANCE\n",
      "    BTC - {'free': 0.6000000000000001, 'used': 0.0, 'total': 0.6000000000000001}\n",
      "    ETH - {'free': 4.0, 'used': 0.0, 'total': 4.0}\n",
      "POSITIONS\n",
      "     {'asset': 'ETH/BTC', 'quantity': 4, 'cost_price': 0.1, 'latest_price': 0.1}\n",
      "METRICS\n",
      "    SMA: 5.00\n",
      "    RSI: 10.00\n"
     ]
    },
    {
     "name": "stdout",
     "output_type": "stream",
     "text": [
      "{'id': '738c2fa8a977496dae620dfe42f91b9f', 'asset': 'ETH/BTC', 'price': 0.1, 'quantity': 1, 'type': 'limit', 'side': 'sell', 'filled': 0.0, 'status': 'FILLED', 'fee': {}, 'created_time': datetime.datetime(2018, 1, 10, 23, 4, 57, 119648)}\n",
      "{'id': '738c2fa8a977496dae620dfe42f91b9f', 'asset': 'ETH/BTC', 'price': 0.1, 'quantity': 1, 'type': 'limit', 'side': 'sell', 'filled': 0.0, 'status': 'FILLED', 'fee': {}, 'created_time': datetime.datetime(2018, 1, 10, 23, 4, 57, 119648)}\n"
     ]
    },
    {
     "name": "stderr",
     "output_type": "stream",
     "text": [
      "---------------------------------------\n",
      "Epoch 8 - Timestep: 2018-01-10T12:35:00\n",
      "---------------------------------------\n",
      "OHLCV\n",
      "    O: 0.0967 | C: 0.0967 | V: 234.0 | T: 2018-01-10T12:35:00\n",
      "ORDERS\n",
      "    1: ETH/BTC | LIMIT_BUY | Price: 0.1000 | Quantity: 1.0000\n",
      "PERFORMANCE\n",
      "    Cash: 0.7000 Total Val: 1.0000 PnL: 0.0000 Returns: 0.0000\n",
      "BALANCE\n",
      "    BTC - {'free': 0.7000000000000001, 'used': 0.0, 'total': 0.7000000000000001}\n",
      "    ETH - {'free': 3.0, 'used': 0.0, 'total': 3.0}\n",
      "POSITIONS\n",
      "     {'asset': 'ETH/BTC', 'quantity': 3, 'cost_price': 0.1, 'latest_price': 0.1}\n",
      "METRICS\n",
      "    SMA: 5.00\n",
      "    RSI: 10.00\n"
     ]
    },
    {
     "name": "stdout",
     "output_type": "stream",
     "text": [
      "{'id': 'b1c23f6547614dc1b91e444514019fce', 'asset': 'ETH/BTC', 'price': 0.1, 'quantity': 1, 'type': 'limit', 'side': 'buy', 'filled': 0.0, 'status': 'FILLED', 'fee': {}, 'created_time': datetime.datetime(2018, 1, 10, 23, 4, 59, 162900)}\n",
      "{'id': 'b1c23f6547614dc1b91e444514019fce', 'asset': 'ETH/BTC', 'price': 0.1, 'quantity': 1, 'type': 'limit', 'side': 'buy', 'filled': 0.0, 'status': 'FILLED', 'fee': {}, 'created_time': datetime.datetime(2018, 1, 10, 23, 4, 59, 162900)}\n"
     ]
    },
    {
     "name": "stderr",
     "output_type": "stream",
     "text": [
      "---------------------------------------\n",
      "Epoch 9 - Timestep: 2018-01-10T12:36:00\n",
      "---------------------------------------\n",
      "OHLCV\n",
      "    O: 0.0967 | C: 0.0966 | V: 199.3 | T: 2018-01-10T12:36:00\n",
      "ORDERS\n",
      "    1: ETH/BTC | LIMIT_BUY | Price: 0.1000 | Quantity: 1.0000\n",
      "PERFORMANCE\n",
      "    Cash: 0.6000 Total Val: 1.0000 PnL: 0.0000 Returns: 0.0000\n",
      "BALANCE\n",
      "    BTC - {'free': 0.6000000000000001, 'used': 0.0, 'total': 0.6000000000000001}\n",
      "    ETH - {'free': 4.0, 'used': 0.0, 'total': 4.0}\n",
      "POSITIONS\n",
      "     {'asset': 'ETH/BTC', 'quantity': 4, 'cost_price': 0.1, 'latest_price': 0.1}\n",
      "METRICS\n",
      "    SMA: 5.00\n",
      "    RSI: 10.00\n"
     ]
    },
    {
     "name": "stdout",
     "output_type": "stream",
     "text": [
      "{'id': '7598ebcf7c6c44a3a6ebd04ddda72896', 'asset': 'ETH/BTC', 'price': 0.1, 'quantity': 1, 'type': 'limit', 'side': 'buy', 'filled': 0.0, 'status': 'FILLED', 'fee': {}, 'created_time': datetime.datetime(2018, 1, 10, 23, 5, 1, 212005)}\n",
      "{'id': '7598ebcf7c6c44a3a6ebd04ddda72896', 'asset': 'ETH/BTC', 'price': 0.1, 'quantity': 1, 'type': 'limit', 'side': 'buy', 'filled': 0.0, 'status': 'FILLED', 'fee': {}, 'created_time': datetime.datetime(2018, 1, 10, 23, 5, 1, 212005)}\n"
     ]
    },
    {
     "name": "stderr",
     "output_type": "stream",
     "text": [
      "---------------------------------------\n",
      "Epoch 10 - Timestep: 2018-01-10T12:37:00\n",
      "---------------------------------------\n",
      "OHLCV\n",
      "    O: 0.0966 | C: 0.0965 | V: 200.0 | T: 2018-01-10T12:37:00\n",
      "ORDERS\n",
      "    1: ETH/BTC | LIMIT_SELL | Price: 0.1000 | Quantity: 1.0000\n",
      "PERFORMANCE\n",
      "    Cash: 0.5000 Total Val: 1.0000 PnL: 0.0000 Returns: 0.0000\n",
      "BALANCE\n",
      "    BTC - {'free': 0.5000000000000001, 'used': 0.0, 'total': 0.5000000000000001}\n",
      "    ETH - {'free': 5.0, 'used': 0.0, 'total': 5.0}\n",
      "POSITIONS\n",
      "     {'asset': 'ETH/BTC', 'quantity': 5, 'cost_price': 0.1, 'latest_price': 0.1}\n",
      "METRICS\n",
      "    SMA: 5.00\n",
      "    RSI: 10.00\n"
     ]
    },
    {
     "name": "stdout",
     "output_type": "stream",
     "text": [
      "{'id': 'f7d3c89994af49bcb0ef67cc8c461ea2', 'asset': 'ETH/BTC', 'price': 0.1, 'quantity': 1, 'type': 'limit', 'side': 'sell', 'filled': 0.0, 'status': 'FILLED', 'fee': {}, 'created_time': datetime.datetime(2018, 1, 10, 23, 5, 3, 255110)}\n",
      "{'id': 'f7d3c89994af49bcb0ef67cc8c461ea2', 'asset': 'ETH/BTC', 'price': 0.1, 'quantity': 1, 'type': 'limit', 'side': 'sell', 'filled': 0.0, 'status': 'FILLED', 'fee': {}, 'created_time': datetime.datetime(2018, 1, 10, 23, 5, 3, 255110)}\n"
     ]
    },
    {
     "name": "stderr",
     "output_type": "stream",
     "text": [
      "---------------------------------------\n",
      "Epoch 11 - Timestep: 2018-01-10T12:38:00\n",
      "---------------------------------------\n",
      "OHLCV\n",
      "    O: 0.0965 | C: 0.0965 | V: 201.7 | T: 2018-01-10T12:38:00\n",
      "ORDERS\n",
      "    1: ETH/BTC | LIMIT_BUY | Price: 0.1000 | Quantity: 1.0000\n",
      "PERFORMANCE\n",
      "    Cash: 0.6000 Total Val: 1.0000 PnL: 0.0000 Returns: 0.0000\n",
      "BALANCE\n",
      "    BTC - {'free': 0.6000000000000001, 'used': 0.0, 'total': 0.6000000000000001}\n",
      "    ETH - {'free': 4.0, 'used': 0.0, 'total': 4.0}\n",
      "POSITIONS\n",
      "     {'asset': 'ETH/BTC', 'quantity': 4, 'cost_price': 0.1, 'latest_price': 0.1}\n",
      "METRICS\n",
      "    SMA: 5.00\n",
      "    RSI: 10.00\n"
     ]
    },
    {
     "name": "stdout",
     "output_type": "stream",
     "text": [
      "{'id': '5419e9e3281544a2b9a5ed4734a30ff4', 'asset': 'ETH/BTC', 'price': 0.1, 'quantity': 1, 'type': 'limit', 'side': 'buy', 'filled': 0.0, 'status': 'FILLED', 'fee': {}, 'created_time': datetime.datetime(2018, 1, 10, 23, 5, 5, 300023)}\n",
      "{'id': '5419e9e3281544a2b9a5ed4734a30ff4', 'asset': 'ETH/BTC', 'price': 0.1, 'quantity': 1, 'type': 'limit', 'side': 'buy', 'filled': 0.0, 'status': 'FILLED', 'fee': {}, 'created_time': datetime.datetime(2018, 1, 10, 23, 5, 5, 300023)}\n"
     ]
    },
    {
     "name": "stderr",
     "output_type": "stream",
     "text": [
      "---------------------------------------\n",
      "Epoch 12 - Timestep: 2018-01-10T12:39:00\n",
      "---------------------------------------\n",
      "OHLCV\n",
      "    O: 0.0965 | C: 0.0965 | V: 202.8 | T: 2018-01-10T12:39:00\n",
      "ORDERS\n",
      "    1: ETH/BTC | LIMIT_BUY | Price: 0.1000 | Quantity: 1.0000\n",
      "PERFORMANCE\n",
      "    Cash: 0.5000 Total Val: 1.0000 PnL: 0.0000 Returns: 0.0000\n",
      "BALANCE\n",
      "    BTC - {'free': 0.5000000000000001, 'used': 0.0, 'total': 0.5000000000000001}\n",
      "    ETH - {'free': 5.0, 'used': 0.0, 'total': 5.0}\n",
      "POSITIONS\n",
      "     {'asset': 'ETH/BTC', 'quantity': 5, 'cost_price': 0.1, 'latest_price': 0.1}\n",
      "METRICS\n",
      "    SMA: 5.00\n",
      "    RSI: 10.00\n"
     ]
    },
    {
     "name": "stdout",
     "output_type": "stream",
     "text": [
      "{'id': '995415b1efa7442e95de145447daee17', 'asset': 'ETH/BTC', 'price': 0.1, 'quantity': 1, 'type': 'limit', 'side': 'buy', 'filled': 0.0, 'status': 'FILLED', 'fee': {}, 'created_time': datetime.datetime(2018, 1, 10, 23, 5, 7, 348192)}\n",
      "{'id': '995415b1efa7442e95de145447daee17', 'asset': 'ETH/BTC', 'price': 0.1, 'quantity': 1, 'type': 'limit', 'side': 'buy', 'filled': 0.0, 'status': 'FILLED', 'fee': {}, 'created_time': datetime.datetime(2018, 1, 10, 23, 5, 7, 348192)}\n"
     ]
    },
    {
     "name": "stderr",
     "output_type": "stream",
     "text": [
      "---------------------------------------\n",
      "Epoch 13 - Timestep: 2018-01-10T12:40:00\n",
      "---------------------------------------\n",
      "OHLCV\n",
      "    O: 0.0965 | C: 0.0967 | V: 553.0 | T: 2018-01-10T12:40:00\n",
      "ORDERS\n",
      "    1: ETH/BTC | LIMIT_SELL | Price: 0.1000 | Quantity: 1.0000\n",
      "PERFORMANCE\n",
      "    Cash: 0.4000 Total Val: 1.0000 PnL: 0.0000 Returns: 0.0000\n",
      "BALANCE\n",
      "    BTC - {'free': 0.40000000000000013, 'used': 0.0, 'total': 0.40000000000000013}\n",
      "    ETH - {'free': 6.0, 'used': 0.0, 'total': 6.0}\n",
      "POSITIONS\n",
      "     {'asset': 'ETH/BTC', 'quantity': 6, 'cost_price': 0.09999999999999999, 'latest_price': 0.1}\n",
      "METRICS\n",
      "    SMA: 5.00\n",
      "    RSI: 10.00\n"
     ]
    },
    {
     "name": "stdout",
     "output_type": "stream",
     "text": [
      "{'id': '6c4aad79c2d346b3ad04d6d3ee799542', 'asset': 'ETH/BTC', 'price': 0.1, 'quantity': 1, 'type': 'limit', 'side': 'sell', 'filled': 0.0, 'status': 'FILLED', 'fee': {}, 'created_time': datetime.datetime(2018, 1, 10, 23, 5, 9, 393317)}\n",
      "{'id': '6c4aad79c2d346b3ad04d6d3ee799542', 'asset': 'ETH/BTC', 'price': 0.1, 'quantity': 1, 'type': 'limit', 'side': 'sell', 'filled': 0.0, 'status': 'FILLED', 'fee': {}, 'created_time': datetime.datetime(2018, 1, 10, 23, 5, 9, 393317)}\n"
     ]
    },
    {
     "name": "stderr",
     "output_type": "stream",
     "text": [
      "---------------------------------------\n",
      "Epoch 14 - Timestep: 2018-01-10T12:41:00\n",
      "---------------------------------------\n",
      "OHLCV\n",
      "    O: 0.0966 | C: 0.0966 | V: 298.6 | T: 2018-01-10T12:41:00\n",
      "ORDERS\n",
      "    1: ETH/BTC | LIMIT_SELL | Price: 0.1000 | Quantity: 1.0000\n",
      "PERFORMANCE\n",
      "    Cash: 0.5000 Total Val: 1.0000 PnL: 0.0000 Returns: 0.0000\n",
      "BALANCE\n",
      "    BTC - {'free': 0.5000000000000001, 'used': 0.0, 'total': 0.5000000000000001}\n",
      "    ETH - {'free': 5.0, 'used': 0.0, 'total': 5.0}\n",
      "POSITIONS\n",
      "     {'asset': 'ETH/BTC', 'quantity': 5, 'cost_price': 0.09999999999999999, 'latest_price': 0.1}\n",
      "METRICS\n",
      "    SMA: 5.00\n",
      "    RSI: 10.00\n"
     ]
    },
    {
     "name": "stdout",
     "output_type": "stream",
     "text": [
      "{'id': '53f9f61e97c04c08bb58fea8c474200a', 'asset': 'ETH/BTC', 'price': 0.1, 'quantity': 1, 'type': 'limit', 'side': 'sell', 'filled': 0.0, 'status': 'FILLED', 'fee': {}, 'created_time': datetime.datetime(2018, 1, 10, 23, 5, 11, 437929)}\n",
      "{'id': '53f9f61e97c04c08bb58fea8c474200a', 'asset': 'ETH/BTC', 'price': 0.1, 'quantity': 1, 'type': 'limit', 'side': 'sell', 'filled': 0.0, 'status': 'FILLED', 'fee': {}, 'created_time': datetime.datetime(2018, 1, 10, 23, 5, 11, 437929)}\n"
     ]
    },
    {
     "name": "stderr",
     "output_type": "stream",
     "text": [
      "---------------------------------------\n",
      "Epoch 15 - Timestep: 2018-01-10T12:42:00\n",
      "---------------------------------------\n",
      "OHLCV\n",
      "    O: 0.0966 | C: 0.0964 | V: 388.4 | T: 2018-01-10T12:42:00\n",
      "ORDERS\n",
      "    1: ETH/BTC | LIMIT_BUY | Price: 0.1000 | Quantity: 1.0000\n",
      "PERFORMANCE\n",
      "    Cash: 0.6000 Total Val: 1.0000 PnL: 0.0000 Returns: 0.0000\n",
      "BALANCE\n",
      "    BTC - {'free': 0.6000000000000001, 'used': 0.0, 'total': 0.6000000000000001}\n",
      "    ETH - {'free': 4.0, 'used': 0.0, 'total': 4.0}\n",
      "POSITIONS\n",
      "     {'asset': 'ETH/BTC', 'quantity': 4, 'cost_price': 0.09999999999999999, 'latest_price': 0.1}\n",
      "METRICS\n",
      "    SMA: 5.00\n",
      "    RSI: 10.00\n"
     ]
    },
    {
     "name": "stdout",
     "output_type": "stream",
     "text": [
      "{'id': '798e18f0f6ce4c9eaf4dad58feb899f2', 'asset': 'ETH/BTC', 'price': 0.1, 'quantity': 1, 'type': 'limit', 'side': 'buy', 'filled': 0.0, 'status': 'FILLED', 'fee': {}, 'created_time': datetime.datetime(2018, 1, 10, 23, 5, 13, 486552)}\n",
      "{'id': '798e18f0f6ce4c9eaf4dad58feb899f2', 'asset': 'ETH/BTC', 'price': 0.1, 'quantity': 1, 'type': 'limit', 'side': 'buy', 'filled': 0.0, 'status': 'FILLED', 'fee': {}, 'created_time': datetime.datetime(2018, 1, 10, 23, 5, 13, 486552)}\n"
     ]
    },
    {
     "name": "stderr",
     "output_type": "stream",
     "text": [
      "---------------------------------------\n",
      "Epoch 16 - Timestep: 2018-01-10T12:43:00\n",
      "---------------------------------------\n",
      "OHLCV\n",
      "    O: 0.0964 | C: 0.0963 | V: 297.5 | T: 2018-01-10T12:43:00\n",
      "ORDERS\n",
      "    1: ETH/BTC | LIMIT_BUY | Price: 0.1000 | Quantity: 1.0000\n",
      "PERFORMANCE\n",
      "    Cash: 0.5000 Total Val: 1.0000 PnL: 0.0000 Returns: 0.0000\n",
      "BALANCE\n",
      "    BTC - {'free': 0.5000000000000001, 'used': 0.0, 'total': 0.5000000000000001}\n",
      "    ETH - {'free': 5.0, 'used': 0.0, 'total': 5.0}\n",
      "POSITIONS\n",
      "     {'asset': 'ETH/BTC', 'quantity': 5, 'cost_price': 0.1, 'latest_price': 0.1}\n",
      "METRICS\n",
      "    SMA: 5.00\n",
      "    RSI: 10.00\n"
     ]
    },
    {
     "name": "stdout",
     "output_type": "stream",
     "text": [
      "{'id': '61d028b4ec7f44f7919d1128d520a332', 'asset': 'ETH/BTC', 'price': 0.1, 'quantity': 1, 'type': 'limit', 'side': 'buy', 'filled': 0.0, 'status': 'FILLED', 'fee': {}, 'created_time': datetime.datetime(2018, 1, 10, 23, 5, 15, 529065)}\n",
      "{'id': '61d028b4ec7f44f7919d1128d520a332', 'asset': 'ETH/BTC', 'price': 0.1, 'quantity': 1, 'type': 'limit', 'side': 'buy', 'filled': 0.0, 'status': 'FILLED', 'fee': {}, 'created_time': datetime.datetime(2018, 1, 10, 23, 5, 15, 529065)}\n"
     ]
    },
    {
     "name": "stderr",
     "output_type": "stream",
     "text": [
      "---------------------------------------\n",
      "Epoch 17 - Timestep: 2018-01-10T12:44:00\n",
      "---------------------------------------\n",
      "OHLCV\n",
      "    O: 0.0963 | C: 0.0960 | V: 335.1 | T: 2018-01-10T12:44:00\n",
      "ORDERS\n",
      "    1: ETH/BTC | LIMIT_BUY | Price: 0.1000 | Quantity: 1.0000\n",
      "PERFORMANCE\n",
      "    Cash: 0.4000 Total Val: 1.0000 PnL: 0.0000 Returns: 0.0000\n",
      "BALANCE\n",
      "    BTC - {'free': 0.40000000000000013, 'used': 0.0, 'total': 0.40000000000000013}\n",
      "    ETH - {'free': 6.0, 'used': 0.0, 'total': 6.0}\n",
      "POSITIONS\n",
      "     {'asset': 'ETH/BTC', 'quantity': 6, 'cost_price': 0.09999999999999999, 'latest_price': 0.1}\n",
      "METRICS\n",
      "    SMA: 5.00\n",
      "    RSI: 10.00\n"
     ]
    },
    {
     "name": "stdout",
     "output_type": "stream",
     "text": [
      "{'id': '5224390565e24acaa3ca0a8c6bfaab89', 'asset': 'ETH/BTC', 'price': 0.1, 'quantity': 1, 'type': 'limit', 'side': 'buy', 'filled': 0.0, 'status': 'FILLED', 'fee': {}, 'created_time': datetime.datetime(2018, 1, 10, 23, 5, 17, 576359)}\n",
      "{'id': '5224390565e24acaa3ca0a8c6bfaab89', 'asset': 'ETH/BTC', 'price': 0.1, 'quantity': 1, 'type': 'limit', 'side': 'buy', 'filled': 0.0, 'status': 'FILLED', 'fee': {}, 'created_time': datetime.datetime(2018, 1, 10, 23, 5, 17, 576359)}\n"
     ]
    },
    {
     "name": "stderr",
     "output_type": "stream",
     "text": [
      "---------------------------------------\n",
      "Epoch 18 - Timestep: 2018-01-10T12:45:00\n",
      "---------------------------------------\n",
      "OHLCV\n",
      "    O: 0.0961 | C: 0.0960 | V: 329.7 | T: 2018-01-10T12:45:00\n",
      "ORDERS\n",
      "    1: ETH/BTC | LIMIT_BUY | Price: 0.1000 | Quantity: 1.0000\n",
      "PERFORMANCE\n",
      "    Cash: 0.3000 Total Val: 1.0000 PnL: 0.0000 Returns: 0.0000\n",
      "BALANCE\n",
      "    BTC - {'free': 0.30000000000000016, 'used': 0.0, 'total': 0.30000000000000016}\n",
      "    ETH - {'free': 7.0, 'used': 0.0, 'total': 7.0}\n",
      "POSITIONS\n",
      "     {'asset': 'ETH/BTC', 'quantity': 7, 'cost_price': 0.09999999999999999, 'latest_price': 0.1}\n",
      "METRICS\n",
      "    SMA: 5.00\n",
      "    RSI: 10.00\n"
     ]
    },
    {
     "name": "stdout",
     "output_type": "stream",
     "text": [
      "{'id': '2a1d56812b7345c6afc1e9e607f67710', 'asset': 'ETH/BTC', 'price': 0.1, 'quantity': 1, 'type': 'limit', 'side': 'buy', 'filled': 0.0, 'status': 'FILLED', 'fee': {}, 'created_time': datetime.datetime(2018, 1, 10, 23, 5, 19, 622244)}\n",
      "{'id': '2a1d56812b7345c6afc1e9e607f67710', 'asset': 'ETH/BTC', 'price': 0.1, 'quantity': 1, 'type': 'limit', 'side': 'buy', 'filled': 0.0, 'status': 'FILLED', 'fee': {}, 'created_time': datetime.datetime(2018, 1, 10, 23, 5, 19, 622244)}\n"
     ]
    },
    {
     "name": "stderr",
     "output_type": "stream",
     "text": [
      "---------------------------------------\n",
      "Epoch 19 - Timestep: 2018-01-10T12:46:00\n",
      "---------------------------------------\n",
      "OHLCV\n",
      "    O: 0.0960 | C: 0.0958 | V: 403.3 | T: 2018-01-10T12:46:00\n",
      "ORDERS\n",
      "    1: ETH/BTC | LIMIT_SELL | Price: 0.1000 | Quantity: 1.0000\n",
      "PERFORMANCE\n",
      "    Cash: 0.2000 Total Val: 1.0000 PnL: 0.0000 Returns: 0.0000\n",
      "BALANCE\n",
      "    BTC - {'free': 0.20000000000000015, 'used': 0.0, 'total': 0.20000000000000015}\n",
      "    ETH - {'free': 8.0, 'used': 0.0, 'total': 8.0}\n",
      "POSITIONS\n",
      "     {'asset': 'ETH/BTC', 'quantity': 8, 'cost_price': 0.09999999999999999, 'latest_price': 0.1}\n",
      "METRICS\n",
      "    SMA: 5.00\n",
      "    RSI: 10.00\n"
     ]
    },
    {
     "name": "stdout",
     "output_type": "stream",
     "text": [
      "{'id': '1354d51555fb44589bd0a89f010ae8e6', 'asset': 'ETH/BTC', 'price': 0.1, 'quantity': 1, 'type': 'limit', 'side': 'sell', 'filled': 0.0, 'status': 'FILLED', 'fee': {}, 'created_time': datetime.datetime(2018, 1, 10, 23, 5, 21, 663458)}\n",
      "{'id': '1354d51555fb44589bd0a89f010ae8e6', 'asset': 'ETH/BTC', 'price': 0.1, 'quantity': 1, 'type': 'limit', 'side': 'sell', 'filled': 0.0, 'status': 'FILLED', 'fee': {}, 'created_time': datetime.datetime(2018, 1, 10, 23, 5, 21, 663458)}\n"
     ]
    },
    {
     "name": "stderr",
     "output_type": "stream",
     "text": [
      "---------------------------------------\n",
      "Epoch 20 - Timestep: 2018-01-10T12:47:00\n",
      "---------------------------------------\n",
      "OHLCV\n",
      "    O: 0.0958 | C: 0.0958 | V: 206.9 | T: 2018-01-10T12:47:00\n",
      "ORDERS\n",
      "    1: ETH/BTC | LIMIT_SELL | Price: 0.1000 | Quantity: 1.0000\n",
      "PERFORMANCE\n",
      "    Cash: 0.3000 Total Val: 1.0000 PnL: 0.0000 Returns: 0.0000\n",
      "BALANCE\n",
      "    BTC - {'free': 0.30000000000000016, 'used': 0.0, 'total': 0.30000000000000016}\n",
      "    ETH - {'free': 7.0, 'used': 0.0, 'total': 7.0}\n",
      "POSITIONS\n",
      "     {'asset': 'ETH/BTC', 'quantity': 7, 'cost_price': 0.09999999999999999, 'latest_price': 0.1}\n",
      "METRICS\n",
      "    SMA: 5.00\n",
      "    RSI: 10.00\n"
     ]
    },
    {
     "name": "stdout",
     "output_type": "stream",
     "text": [
      "{'id': '413df9df6f614944bddc5ff36c32e4d8', 'asset': 'ETH/BTC', 'price': 0.1, 'quantity': 1, 'type': 'limit', 'side': 'sell', 'filled': 0.0, 'status': 'FILLED', 'fee': {}, 'created_time': datetime.datetime(2018, 1, 10, 23, 5, 23, 712257)}\n",
      "{'id': '413df9df6f614944bddc5ff36c32e4d8', 'asset': 'ETH/BTC', 'price': 0.1, 'quantity': 1, 'type': 'limit', 'side': 'sell', 'filled': 0.0, 'status': 'FILLED', 'fee': {}, 'created_time': datetime.datetime(2018, 1, 10, 23, 5, 23, 712257)}\n"
     ]
    },
    {
     "name": "stderr",
     "output_type": "stream",
     "text": [
      "---------------------------------------\n",
      "Epoch 21 - Timestep: 2018-01-10T12:48:00\n",
      "---------------------------------------\n",
      "OHLCV\n",
      "    O: 0.0958 | C: 0.0950 | V: 428.6 | T: 2018-01-10T12:48:00\n",
      "ORDERS\n",
      "    1: ETH/BTC | LIMIT_BUY | Price: 0.1000 | Quantity: 1.0000\n",
      "PERFORMANCE\n",
      "    Cash: 0.4000 Total Val: 1.0000 PnL: 0.0000 Returns: 0.0000\n",
      "BALANCE\n",
      "    BTC - {'free': 0.40000000000000013, 'used': 0.0, 'total': 0.40000000000000013}\n",
      "    ETH - {'free': 6.0, 'used': 0.0, 'total': 6.0}\n",
      "POSITIONS\n",
      "     {'asset': 'ETH/BTC', 'quantity': 6, 'cost_price': 0.09999999999999999, 'latest_price': 0.1}\n",
      "METRICS\n",
      "    SMA: 5.00\n",
      "    RSI: 10.00\n"
     ]
    },
    {
     "name": "stdout",
     "output_type": "stream",
     "text": [
      "{'id': 'ad9cbebe18fd4c90b3c7ecf85c27d4bd', 'asset': 'ETH/BTC', 'price': 0.1, 'quantity': 1, 'type': 'limit', 'side': 'buy', 'filled': 0.0, 'status': 'FILLED', 'fee': {}, 'created_time': datetime.datetime(2018, 1, 10, 23, 5, 25, 755499)}\n",
      "{'id': 'ad9cbebe18fd4c90b3c7ecf85c27d4bd', 'asset': 'ETH/BTC', 'price': 0.1, 'quantity': 1, 'type': 'limit', 'side': 'buy', 'filled': 0.0, 'status': 'FILLED', 'fee': {}, 'created_time': datetime.datetime(2018, 1, 10, 23, 5, 25, 755499)}\n"
     ]
    },
    {
     "name": "stderr",
     "output_type": "stream",
     "text": [
      "---------------------------------------\n",
      "Epoch 22 - Timestep: 2018-01-10T12:49:00\n",
      "---------------------------------------\n",
      "OHLCV\n",
      "    O: 0.0950 | C: 0.0952 | V: 310.3 | T: 2018-01-10T12:49:00\n",
      "ORDERS\n",
      "    1: ETH/BTC | LIMIT_SELL | Price: 0.1000 | Quantity: 1.0000\n",
      "PERFORMANCE\n",
      "    Cash: 0.3000 Total Val: 1.0000 PnL: 0.0000 Returns: 0.0000\n",
      "BALANCE\n",
      "    BTC - {'free': 0.30000000000000016, 'used': 0.0, 'total': 0.30000000000000016}\n",
      "    ETH - {'free': 7.0, 'used': 0.0, 'total': 7.0}\n",
      "POSITIONS\n",
      "     {'asset': 'ETH/BTC', 'quantity': 7, 'cost_price': 0.09999999999999999, 'latest_price': 0.1}\n",
      "METRICS\n",
      "    SMA: 5.00\n",
      "    RSI: 10.00\n"
     ]
    },
    {
     "name": "stdout",
     "output_type": "stream",
     "text": [
      "{'id': '13c40d86214844d2a049be77567bf8b4', 'asset': 'ETH/BTC', 'price': 0.1, 'quantity': 1, 'type': 'limit', 'side': 'sell', 'filled': 0.0, 'status': 'FILLED', 'fee': {}, 'created_time': datetime.datetime(2018, 1, 10, 23, 5, 27, 804067)}\n",
      "{'id': '13c40d86214844d2a049be77567bf8b4', 'asset': 'ETH/BTC', 'price': 0.1, 'quantity': 1, 'type': 'limit', 'side': 'sell', 'filled': 0.0, 'status': 'FILLED', 'fee': {}, 'created_time': datetime.datetime(2018, 1, 10, 23, 5, 27, 804067)}\n"
     ]
    },
    {
     "name": "stderr",
     "output_type": "stream",
     "text": [
      "---------------------------------------\n",
      "Epoch 23 - Timestep: 2018-01-10T12:50:00\n",
      "---------------------------------------\n",
      "OHLCV\n",
      "    O: 0.0952 | C: 0.0952 | V: 349.6 | T: 2018-01-10T12:50:00\n",
      "ORDERS\n",
      "    1: ETH/BTC | LIMIT_SELL | Price: 0.1000 | Quantity: 1.0000\n",
      "PERFORMANCE\n",
      "    Cash: 0.4000 Total Val: 1.0000 PnL: 0.0000 Returns: 0.0000\n",
      "BALANCE\n",
      "    BTC - {'free': 0.40000000000000013, 'used': 0.0, 'total': 0.40000000000000013}\n",
      "    ETH - {'free': 6.0, 'used': 0.0, 'total': 6.0}\n",
      "POSITIONS\n",
      "     {'asset': 'ETH/BTC', 'quantity': 6, 'cost_price': 0.09999999999999999, 'latest_price': 0.1}\n",
      "METRICS\n",
      "    SMA: 5.00\n",
      "    RSI: 10.00\n"
     ]
    }
   ],
   "source": [
    "import shutil\n",
    "from data.store import DATA_STORES, FILE_STORE\n",
    "from data.feed import EXCHANGE_FEED, CSV_FEED\n",
    "\n",
    "config = {\n",
    "    'experiment': 'default',\n",
    "    'exchange_id': c.PAPER,\n",
    "    'cash_asset': c.BTC,\n",
    "    'starting_cash': 1.0,\n",
    "    'store': FILE_STORE,\n",
    "    'feed': {\n",
    "        'name': EXCHANGE_FEED,\n",
    "        'fpath': os.path.join(cfg.DATA_DIR, 'default_feed.csv'),\n",
    "        'symbols': ['ETH/BTC'],\n",
    "        'timeframe': Timeframe.ONE_MIN.name,\n",
    "        'start': '2018-01-10T08:00:00',\n",
    "        'end': None,\n",
    "    },\n",
    "    'balance': {\n",
    "        c.BTC: {'free': 1.0, 'used':0.0, 'total': 1.0},\n",
    "        'free': {c.BTC: 1.0},\n",
    "        'used': {c.BTC: 0.0},\n",
    "        'total': {c.BTC: 1.0},\n",
    "    }\n",
    "}\n",
    "\n",
    "root = os.path.join(cfg.DATA_DIR, config['experiment'])\n",
    "shutil.rmtree(root, ignore_errors=True)\n",
    "mystrategy = MyStrategy()\n",
    "context = Context.from_config(config)\n",
    "punisher.punish(context, mystrategy)"
   ]
  },
  {
   "cell_type": "code",
   "execution_count": null,
   "metadata": {},
   "outputs": [],
   "source": [
    "r = Record.load(root)"
   ]
  },
  {
   "cell_type": "code",
   "execution_count": null,
   "metadata": {},
   "outputs": [],
   "source": [
    "r.save()"
   ]
  },
  {
   "cell_type": "code",
   "execution_count": null,
   "metadata": {},
   "outputs": [],
   "source": [
    "r.ohlcv"
   ]
  },
  {
   "cell_type": "markdown",
   "metadata": {},
   "source": [
    "### ChartDataProviders"
   ]
  },
  {
   "cell_type": "code",
   "execution_count": null,
   "metadata": {},
   "outputs": [],
   "source": []
  },
  {
   "cell_type": "code",
   "execution_count": null,
   "metadata": {},
   "outputs": [],
   "source": []
  },
  {
   "cell_type": "markdown",
   "metadata": {},
   "source": [
    "### Charts"
   ]
  },
  {
   "cell_type": "code",
   "execution_count": null,
   "metadata": {},
   "outputs": [],
   "source": [
    "feed = get_test_csv_feed(c.PAPER)\n",
    "start = feed.history().iloc[0]['time_utc']\n",
    "end = feed.history().iloc[-1]['time_utc']"
   ]
  },
  {
   "cell_type": "code",
   "execution_count": null,
   "metadata": {},
   "outputs": [],
   "source": [
    "# Basic plot\n",
    "utils.charts.plot_range(feed.history(), start, end, 'close')"
   ]
  },
  {
   "cell_type": "code",
   "execution_count": null,
   "metadata": {},
   "outputs": [],
   "source": []
  },
  {
   "cell_type": "code",
   "execution_count": null,
   "metadata": {},
   "outputs": [],
   "source": []
  },
  {
   "cell_type": "markdown",
   "metadata": {},
   "source": [
    "### Dash"
   ]
  },
  {
   "cell_type": "code",
   "execution_count": null,
   "metadata": {},
   "outputs": [],
   "source": [
    "import plotly\n",
    "import plotly.plotly as py\n",
    "import plotly.graph_objs as go\n",
    "\n",
    "periods = record.portfolio.perf.periods\n",
    "df = pd.DataFrame([\n",
    "    [p['end_time'], p['pnl']] for p in periods\n",
    "], columns=['time_utc','pnl'])\n",
    "df"
   ]
  },
  {
   "cell_type": "code",
   "execution_count": null,
   "metadata": {},
   "outputs": [],
   "source": [
    "positions = pd.DataFrame([p.to_dict() for p in record.portfolio.positions])\n",
    "dct = [p.to_dict() for p in record.portfolio.positions]\n",
    "{p['asset']: p for p in dct}"
   ]
  },
  {
   "cell_type": "code",
   "execution_count": null,
   "metadata": {},
   "outputs": [],
   "source": [
    "cols = ['coin', 'free', 'used', 'total']\n",
    "coins = b.currencies\n",
    "dct = b.to_dict()\n",
    "df = pd.DataFrame(\n",
    "    [[c, dct[c]['free'], dct[c]['used'], dct[c]['total']] for c in coins],\n",
    "    columns=cols\n",
    ")\n",
    "df"
   ]
  }
 ],
 "metadata": {
  "kernelspec": {
   "display_name": "Python 3",
   "language": "python",
   "name": "python3"
  },
  "language_info": {
   "codemirror_mode": {
    "name": "ipython",
    "version": 3
   },
   "file_extension": ".py",
   "mimetype": "text/x-python",
   "name": "python",
   "nbconvert_exporter": "python",
   "pygments_lexer": "ipython3",
   "version": "3.6.0"
  },
  "latex_envs": {
   "LaTeX_envs_menu_present": true,
   "autocomplete": true,
   "bibliofile": "biblio.bib",
   "cite_by": "apalike",
   "current_citInitial": 1,
   "eqLabelWithNumbers": true,
   "eqNumInitial": 1,
   "hotkeys": {
    "equation": "Ctrl-E",
    "itemize": "Ctrl-I"
   },
   "labels_anchors": false,
   "latex_user_defs": false,
   "report_style_numbering": false,
   "user_envs_cfg": false
  },
  "toc": {
   "colors": {
    "hover_highlight": "#DAA520",
    "navigate_num": "#000000",
    "navigate_text": "#333333",
    "running_highlight": "#FF0000",
    "selected_highlight": "#FFD700",
    "sidebar_border": "#EEEEEE",
    "wrapper_background": "#FFFFFF"
   },
   "moveMenuLeft": true,
   "nav_menu": {
    "height": "71px",
    "width": "254px"
   },
   "navigate_menu": true,
   "number_sections": true,
   "sideBar": true,
   "threshold": 4,
   "toc_cell": false,
   "toc_section_display": "block",
   "toc_window_display": false,
   "widenNotebook": false
  }
 },
 "nbformat": 4,
 "nbformat_minor": 2
}
