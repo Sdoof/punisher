{
 "cells": [
  {
   "cell_type": "code",
   "execution_count": 1,
   "metadata": {},
   "outputs": [],
   "source": [
    "%matplotlib inline\n",
    "%load_ext autoreload\n",
    "%autoreload 2\n",
    "from common import *\n",
    "import qgrid"
   ]
  },
  {
   "cell_type": "markdown",
   "metadata": {
    "heading_collapsed": true
   },
   "source": [
    "### Balance"
   ]
  },
  {
   "cell_type": "code",
   "execution_count": null,
   "metadata": {
    "hidden": true
   },
   "outputs": [],
   "source": [
    "b = Balance()\n",
    "print(\"Currencies\",  b.currencies)\n",
    "print(\"Entries\", b)\n",
    "b.add_currency(c.ETH)\n",
    "b.update(c.ETH, delta_free=1.0, delta_used=0.0)\n",
    "b.get(c.ETH)[BalanceType.FREE]\n",
    "Balance.from_dict(b.to_dict())"
   ]
  },
  {
   "cell_type": "markdown",
   "metadata": {
    "heading_collapsed": true
   },
   "source": [
    "### Exchange"
   ]
  },
  {
   "cell_type": "code",
   "execution_count": null,
   "metadata": {
    "hidden": true
   },
   "outputs": [],
   "source": [
    "# Public informaiton\n",
    "exchanges = [c.PAPER, c.BINANCE, c.GDAX]#, c.POLONIEX]\n",
    "a = Asset(c.ETH, c.BTC)\n",
    "for ex in exchanges:\n",
    "    print(\"Exchange\", ex)\n",
    "    exchange = load_exchange(ex)\n",
    "    print(exchange.timeframes)\n",
    "    exchange.get_markets()\n",
    "    exchange.fetch_ohlcv(a, Timeframe.ONE_MIN.value['id'])\n",
    "    exchange.fetch_order_book(a)\n",
    "    exchange.fetch_public_trades(a)\n",
    "    exchange.fetch_ticker(a)"
   ]
  },
  {
   "cell_type": "code",
   "execution_count": null,
   "metadata": {
    "hidden": true,
    "scrolled": false
   },
   "outputs": [],
   "source": [
    "# Account Information\n",
    "exchanges = [c.PAPER, c.BINANCE, c.GDAX]\n",
    "a = Asset(c.ETH, c.BTC)\n",
    "for ex in exchanges:\n",
    "    print(\"Exchange\", ex)\n",
    "    exchange = load_exchange(ex)\n",
    "    b = exchange.fetch_balance()\n",
    "    print(exchange.fetch_balance())\n",
    "    print(exchange.fetch_orders(a))\n",
    "    print(exchange.fetch_open_orders(a))\n",
    "    print(exchange.fetch_closed_orders(a))"
   ]
  },
  {
   "cell_type": "code",
   "execution_count": null,
   "metadata": {
    "hidden": true
   },
   "outputs": [],
   "source": [
    "exchange = load_exchange(c.PAPER) # c.BINANCE\n",
    "a = Asset(c.ETH, c.BTC)\n",
    "\n",
    "# Market BUY\n",
    "print(\"Exchange\", exchange.id)\n",
    "order_dict = exchange.create_market_buy_order(a, .01)\n",
    "balance = exchange.fetch_balance()\n",
    "print(a.base, balance.get(a.base), a.quote, balance.get(a.quote))\n",
    "print(order_dict)"
   ]
  },
  {
   "cell_type": "code",
   "execution_count": null,
   "metadata": {
    "hidden": true
   },
   "outputs": [],
   "source": [
    "# Check Order\n",
    "balance = exchange.fetch_balance()\n",
    "print(a.base, balance.get(a.base), a.quote, balance.get(a.quote))\n",
    "found_order = exchange.fetch_order(order_dict['id'], a.symbol)\n",
    "print(\"Placed order\", found_order) "
   ]
  },
  {
   "cell_type": "code",
   "execution_count": null,
   "metadata": {
    "hidden": true
   },
   "outputs": [],
   "source": [
    "# Sell all remaining quantity\n",
    "curr_balance = exchange.fetch_balance().get(a.base)\n",
    "print(a.base, curr_balance[BalanceType.TOTAL])\n",
    "order = exchange.create_market_sell_order(a, curr_balance[BalanceType.TOTAL])\n",
    "print(order)"
   ]
  },
  {
   "cell_type": "code",
   "execution_count": null,
   "metadata": {
    "hidden": true
   },
   "outputs": [],
   "source": [
    "print(exchange.fetch_balance().get(a.base), exchange.fetch_balance().get(a.quote))"
   ]
  },
  {
   "cell_type": "markdown",
   "metadata": {
    "heading_collapsed": true
   },
   "source": [
    "### OHLCV Data"
   ]
  },
  {
   "cell_type": "code",
   "execution_count": null,
   "metadata": {
    "hidden": true
   },
   "outputs": [],
   "source": [
    "base = c.ETH\n",
    "quote = c.BTC\n",
    "exchange = load_exchange(c.BINANCE)\n",
    "asset = Asset(base, quote)\n",
    "assets = [ Asset(coin, quote) for coin in [c.ETH, c.LTC] ]\n",
    "period = Timeframe.ONE_MIN\n",
    "start = datetime.datetime.utcnow() - datetime.timedelta(hours=2)\n",
    "end = datetime.datetime.utcnow() - datetime.timedelta(hours=0)"
   ]
  },
  {
   "cell_type": "code",
   "execution_count": null,
   "metadata": {
    "hidden": true
   },
   "outputs": [],
   "source": [
    "# Single Coin\n",
    "df = ohlcv.fetch_and_save_ohlcv_data(exchange, asset, period.value['id'], start, end)\n",
    "df.head()"
   ]
  },
  {
   "cell_type": "code",
   "execution_count": null,
   "metadata": {
    "hidden": true
   },
   "outputs": [],
   "source": [
    "# Load from File\n",
    "fpath = ohlcv.get_price_data_fpath(asset, exchange.id, period.value['id'])\n",
    "df = ohlcv.load_chart_data_from_file(fpath)"
   ]
  },
  {
   "cell_type": "code",
   "execution_count": null,
   "metadata": {
    "hidden": true
   },
   "outputs": [],
   "source": [
    "# Multiple Coins\n",
    "ohlcv.download_chart_data(exchange, assets, period.value['id'], start, end)\n",
    "df = ohlcv.load_multiple_assets(exchange.id, assets, period.value['id'], start)\n",
    "df.head()"
   ]
  },
  {
   "cell_type": "markdown",
   "metadata": {
    "heading_collapsed": true
   },
   "source": [
    "### DataStore"
   ]
  },
  {
   "cell_type": "code",
   "execution_count": null,
   "metadata": {
    "hidden": true
   },
   "outputs": [],
   "source": [
    "experiment_name = 'mystrategy1'\n",
    "fname = 'multiasset'\n",
    "store = FileStore(os.path.join(cfg.DATA_DIR, experiment_name))"
   ]
  },
  {
   "cell_type": "code",
   "execution_count": null,
   "metadata": {
    "hidden": true
   },
   "outputs": [],
   "source": [
    "# DataFrame --> CSV\n",
    "store.df_to_csv(df, fname)\n",
    "df = store.csv_to_df(fname, index='time_epoch')\n",
    "df.head()"
   ]
  },
  {
   "cell_type": "code",
   "execution_count": null,
   "metadata": {
    "hidden": true
   },
   "outputs": [],
   "source": [
    "# DataFrame --> JSON\n",
    "store.df_to_json(df, fname)\n",
    "df = store.json_to_df(fname, index='time_epoch')\n",
    "df.head()"
   ]
  },
  {
   "cell_type": "code",
   "execution_count": null,
   "metadata": {
    "hidden": true
   },
   "outputs": [],
   "source": [
    "# JSON\n",
    "dct = {\n",
    "    'sample': 1,\n",
    "    'time': datetime.datetime.utcnow()\n",
    "}\n",
    "store.save_json(fname, dct)\n",
    "dct = store.load_json(fname)\n",
    "dct"
   ]
  },
  {
   "cell_type": "markdown",
   "metadata": {
    "heading_collapsed": true
   },
   "source": [
    "### Data Feed"
   ]
  },
  {
   "cell_type": "code",
   "execution_count": null,
   "metadata": {
    "hidden": true
   },
   "outputs": [],
   "source": [
    "def get_test_live_feed(exchange_id):\n",
    "    exchange = load_exchange(exchange_id)\n",
    "    asset = Asset(c.ETH, c.BTC)\n",
    "    period = Timeframe.ONE_MIN\n",
    "    start = datetime.datetime.utcnow() - datetime.timedelta(hours=2)\n",
    "    end = datetime.datetime.utcnow() - datetime.timedelta(hours=0)\n",
    "    feed_fpath = ohlcv.get_price_data_fpath(asset, exchange.id, period.value['id'])\n",
    "    feed = ExchangeDataFeed(exchange, [asset], period, feed_fpath, start, end)\n",
    "    feed.initialize()\n",
    "    return feed\n",
    "\n",
    "def get_test_csv_feed(exchange_id):\n",
    "    exchange = load_exchange(exchange_id)\n",
    "    start = datetime.datetime(year=2017, month=1, day=1)\n",
    "    end = datetime.datetime(year=2018, month=1, day=1)\n",
    "    asset = Asset(c.ETH, c.BTC)\n",
    "    period = Timeframe.THIRTY_MIN\n",
    "    feed_fpath = ohlcv.get_price_data_fpath(asset, exchange.id, period.value['id'])\n",
    "    ohlcv.fetch_and_save_ohlcv_data(exchange, asset, period.value['id'], start, end)\n",
    "    feed = CSVDataFeed(feed_fpath)\n",
    "    feed.initialize()\n",
    "    return feed"
   ]
  },
  {
   "cell_type": "code",
   "execution_count": null,
   "metadata": {
    "hidden": true
   },
   "outputs": [],
   "source": [
    "# CSV Feed\n",
    "csv_feed = get_test_csv_feed(c.PAPER)\n",
    "\n",
    "# Grab 1 row at a time\n",
    "for i in range(3):\n",
    "    data = feed.next()\n",
    "    print(data['time_utc'], data['close'])    \n",
    "    \n",
    "# Access all rows in history\n",
    "feed.history().head()"
   ]
  },
  {
   "cell_type": "code",
   "execution_count": null,
   "metadata": {
    "hidden": true
   },
   "outputs": [],
   "source": [
    "# Live Feed\n",
    "live_feed = get_test_live_feed(c.BINANCE)\n",
    "\n",
    "# Grab 1 row at a time (don't refresh data)\n",
    "for i in range(3):\n",
    "    data = feed.next(refresh=False)\n",
    "    print(data['time_utc'], data['close'])\n",
    "\n",
    "# Refresh data before next query\n",
    "data = feed.next(refresh=True)\n",
    "print(data['time_utc'], data['close'])\n",
    "    \n",
    "# Access History\n",
    "feed.history(t_minus=3).tail()"
   ]
  },
  {
   "cell_type": "markdown",
   "metadata": {
    "heading_collapsed": true
   },
   "source": [
    "### OrderType"
   ]
  },
  {
   "cell_type": "code",
   "execution_count": null,
   "metadata": {
    "hidden": true
   },
   "outputs": [],
   "source": [
    "assert OrderType.from_type_side('limit','buy') == OrderType.LIMIT_BUY\n",
    "assert OrderType.from_type_side('limit','sell') == OrderType.LIMIT_SELL\n",
    "assert OrderType.from_type_side('market','buy') == OrderType.MARKET_BUY\n",
    "assert OrderType.from_type_side('market','sell') == OrderType.MARKET_SELL"
   ]
  },
  {
   "cell_type": "code",
   "execution_count": null,
   "metadata": {
    "hidden": true
   },
   "outputs": [],
   "source": [
    "assert OrderType.LIMIT_BUY in OrderType.buy_types()\n",
    "assert OrderType.MARKET_BUY in OrderType.buy_types()\n",
    "assert OrderType.LIMIT_SELL in OrderType.sell_types()\n",
    "assert OrderType.MARKET_SELL in OrderType.sell_types()"
   ]
  },
  {
   "cell_type": "code",
   "execution_count": null,
   "metadata": {
    "hidden": true
   },
   "outputs": [],
   "source": [
    "assert OrderType.LIMIT_BUY.is_buy()\n",
    "assert OrderType.MARKET_BUY.is_buy()\n",
    "assert OrderType.LIMIT_SELL.is_sell()\n",
    "assert OrderType.MARKET_SELL.is_sell()\n",
    "OrderType.LIMIT_BUY.name, OrderType.LIMIT_BUY.value"
   ]
  },
  {
   "cell_type": "markdown",
   "metadata": {
    "heading_collapsed": true
   },
   "source": [
    "### Order"
   ]
  },
  {
   "cell_type": "code",
   "execution_count": null,
   "metadata": {
    "hidden": true
   },
   "outputs": [],
   "source": [
    "asset = Asset(c.LTC, c.USDT)\n",
    "order = Order(\n",
    "    exchange_id=c.PAPER, \n",
    "    asset=asset,\n",
    "    price=250., \n",
    "    quantity=1, \n",
    "    order_type=OrderType.LIMIT_BUY\n",
    ")\n",
    "Order.from_dict(order.to_dict())"
   ]
  },
  {
   "cell_type": "markdown",
   "metadata": {
    "heading_collapsed": true
   },
   "source": [
    "### Order Manager"
   ]
  },
  {
   "cell_type": "code",
   "execution_count": null,
   "metadata": {
    "hidden": true
   },
   "outputs": [],
   "source": [
    "asset = Asset(c.LTC, c.BTC)\n",
    "exchange = load_exchange(c.PAPER)\n",
    "exchange.balance = Balance(c.BTC, 5.0)\n",
    "o1 = Order(exchange.id, asset, price=.1, quantity=1.0, order_type=OrderType.LIMIT_BUY)\n",
    "o2 = Order(exchange.id, asset, price=.1, quantity=1.0, order_type=OrderType.LIMIT_SELL)\n",
    "orders = {\n",
    "    o1.id: o1,\n",
    "    o2.id: o2\n",
    "}\n",
    "orders,exchange.balance"
   ]
  },
  {
   "cell_type": "code",
   "execution_count": null,
   "metadata": {
    "hidden": true
   },
   "outputs": [],
   "source": [
    "resp = order_manager.place_order(exchange, orders[o1.id])\n",
    "orders[o1.id] = resp\n",
    "orders,exchange.balance"
   ]
  },
  {
   "cell_type": "code",
   "execution_count": null,
   "metadata": {
    "hidden": true
   },
   "outputs": [],
   "source": [
    "resp = order_manager.place_order(exchange, orders[o2.id])\n",
    "orders[o2.id] = resp\n",
    "orders,exchange.balance"
   ]
  },
  {
   "cell_type": "code",
   "execution_count": null,
   "metadata": {
    "hidden": true
   },
   "outputs": [],
   "source": [
    "limit_buy = order_manager.build_limit_buy_order(exchange, asset, price=.1, quantity=1.0)\n",
    "limit_sell = order_manager.build_limit_sell_order(exchange, asset, price=.1, quantity=1.0)\n",
    "market_buy = order_manager.build_market_buy_order(exchange, asset, quantity=1.0)\n",
    "market_sell = order_manager.build_market_sell_order(exchange, asset, quantity=1.0)\n",
    "orders = [limit_buy, limit_sell, market_buy, market_sell]\n",
    "orders"
   ]
  },
  {
   "cell_type": "code",
   "execution_count": null,
   "metadata": {
    "hidden": true
   },
   "outputs": [],
   "source": [
    "results = []\n",
    "for order in orders:\n",
    "    res = order_manager.place_order(exchange, order)\n",
    "    results.append(res)\n",
    "results"
   ]
  },
  {
   "cell_type": "code",
   "execution_count": null,
   "metadata": {
    "hidden": true
   },
   "outputs": [],
   "source": [
    "exchange.balance"
   ]
  },
  {
   "cell_type": "code",
   "execution_count": null,
   "metadata": {
    "hidden": true
   },
   "outputs": [],
   "source": [
    "exchange.orders"
   ]
  },
  {
   "cell_type": "code",
   "execution_count": null,
   "metadata": {
    "hidden": true
   },
   "outputs": [],
   "source": [
    "#5e5b1bbbcc9e4edcbca2ec6c0663a1b4\n",
    "exchange.fetch_orders(asset)"
   ]
  },
  {
   "cell_type": "code",
   "execution_count": null,
   "metadata": {
    "hidden": true
   },
   "outputs": [],
   "source": [
    "exchange.fetch_order('57eb982b9afb49208b081a117022ffbe')"
   ]
  },
  {
   "cell_type": "code",
   "execution_count": null,
   "metadata": {
    "hidden": true
   },
   "outputs": [],
   "source": [
    "updated_orders = exchange.fetch_orders(asset)\n",
    "ex_order_ids = [order['id'] for order in updated_orders]\n",
    "print(ex_order_ids)\n",
    "updated_orders"
   ]
  },
  {
   "cell_type": "code",
   "execution_count": null,
   "metadata": {
    "hidden": true
   },
   "outputs": [],
   "source": [
    "ex_orders = order_manager.get_orders(exchange, ex_order_ids)\n",
    "print(ex_orders)"
   ]
  },
  {
   "cell_type": "code",
   "execution_count": null,
   "metadata": {
    "hidden": true
   },
   "outputs": [],
   "source": [
    "type(ex_orders[0])"
   ]
  },
  {
   "cell_type": "code",
   "execution_count": null,
   "metadata": {
    "hidden": true,
    "scrolled": false
   },
   "outputs": [],
   "source": [
    "print(\"PENDING\", order_manager.get_pending_orders(ex_orders))\n",
    "print(\"CANCELED\", order_manager.get_canceled_orders(ex_orders))\n",
    "print(\"FILLED\", order_manager.get_filled_orders(ex_orders))"
   ]
  },
  {
   "cell_type": "markdown",
   "metadata": {
    "heading_collapsed": true
   },
   "source": [
    "### Position"
   ]
  },
  {
   "cell_type": "code",
   "execution_count": null,
   "metadata": {
    "hidden": true
   },
   "outputs": [],
   "source": [
    "asset = Asset(c.LTC, c.BTC)\n",
    "pos = Position(asset, quantity=1, cost_price=250.0)\n",
    "print(\"Asset\", pos.asset.to_dict())\n",
    "print(\"Value\", pos.cost_value, \"Quantity\", pos.quantity, \"Cost\", pos.cost_price)\n",
    "\n",
    "pos.update(1, 200)\n",
    "print(\"Value\", pos.cost_value, \"Quantity\", pos.quantity, \"Cost\", pos.cost_price)\n",
    "\n",
    "pos.update(-1, 200)\n",
    "print(\"Value\", pos.cost_value, \"Quantity\", pos.quantity, \"Cost\", pos.cost_price)\n",
    "\n",
    "# Go short\n",
    "pos.update(-2, 150)\n",
    "print(\"Value\", pos.cost_value, \"Quantity\", pos.quantity, \"Cost\", pos.cost_price)\n",
    "\n",
    "# Close the short for a LOSS and go long (price went up, we had to pay $300 to cover our short)\n",
    "# then we bought another share because we're newbs\n",
    "pos.update(2, 300)\n",
    "print(\"Value\", pos.cost_value, \"Quantity\", pos.quantity, \"Cost\", pos.cost_price)"
   ]
  },
  {
   "cell_type": "code",
   "execution_count": null,
   "metadata": {
    "hidden": true
   },
   "outputs": [],
   "source": [
    "\"\"\"\n",
    "Assume that an investor made the following consecutive fund purchases in a taxable account: 1,500 shares at $20, 1,000 shares at $10 and 1,250 shares at $8. The investor’s average cost basis is calculated by dividing $50,000/3,750 shares. The average cost is $13.33.\n",
    "\n",
    "Suppose the investor then sells 1,000 shares of the fund at $19.\n",
    "\n",
    "Gain/loss using average cost basis: ($19 - $13.33) x 1,000 shares = $5,667\n",
    "\"\"\"\n",
    "\n",
    "asset = Asset(c.LTC, c.BTC)\n",
    "pos = Position(asset, quantity=1500, cost_price=20.0)\n",
    "print(\"Value\", pos.cost_value, \"Quantity\", pos.quantity, \"Cost\", pos.cost_price)\n",
    "pos.update(txn_quantity=1000, txn_price=10)\n",
    "print(\"Value\", pos.cost_value, \"Quantity\", pos.quantity, \"Cost\", pos.cost_price)\n",
    "pos.update(txn_quantity=1250, txn_price=8)\n",
    "print(\"Value\", pos.cost_value, \"Quantity\", pos.quantity, \"Cost\", pos.cost_price)\n",
    "\n",
    "last_cost = pos.cost_price\n",
    "pos.update(txn_quantity=-1000, txn_price=19)\n",
    "print(\"Value\", pos.cost_value, \"Quantity\", pos.quantity, \"Cost\", pos.cost_price)\n",
    "print(\"Profit\", (19 - last_cost) * 1000)"
   ]
  },
  {
   "cell_type": "code",
   "execution_count": null,
   "metadata": {
    "hidden": true
   },
   "outputs": [],
   "source": [
    "Position.from_dict(pos.to_dict()).to_dict()"
   ]
  },
  {
   "cell_type": "markdown",
   "metadata": {
    "heading_collapsed": true
   },
   "source": [
    "### PerformanceTracker"
   ]
  },
  {
   "cell_type": "code",
   "execution_count": null,
   "metadata": {
    "hidden": true
   },
   "outputs": [],
   "source": [
    "asset = Asset(c.BTC, c.USD)\n",
    "perf = PerformanceTracker(starting_cash=5000, timeframe=Timeframe.ONE_MIN, store=None)\n",
    "perf.to_dict()"
   ]
  },
  {
   "cell_type": "code",
   "execution_count": null,
   "metadata": {
    "hidden": true
   },
   "outputs": [],
   "source": [
    "# Buy 1 BTC for $1000\n",
    "pos1 = Position(asset, quantity=1, cost_price=1000.0)\n",
    "positions = [pos1]\n",
    "perf.add_period(\n",
    "    start=datetime.datetime.utcnow(),\n",
    "    cash=4000.0,\n",
    "    positions=positions\n",
    ")\n",
    "perf.to_dict()"
   ]
  },
  {
   "cell_type": "code",
   "execution_count": null,
   "metadata": {
    "hidden": true
   },
   "outputs": [],
   "source": [
    "\"\"\"\n",
    "Value of BTC increased $100\n",
    "Position Return\n",
    "    Return = .10\n",
    "    PnL = $100\n",
    "Cumulative Return\n",
    "    Return = $100 / $5000 = .02\n",
    "    PnL = $100\n",
    "\"\"\"\n",
    "pos1.latest_price = 1100\n",
    "perf.add_period(\n",
    "    start=datetime.datetime.utcnow(),\n",
    "    cash=4000.0,\n",
    "    positions=positions\n",
    ")\n",
    "perf.to_dict()"
   ]
  },
  {
   "cell_type": "code",
   "execution_count": null,
   "metadata": {
    "hidden": true
   },
   "outputs": [],
   "source": [
    "\"\"\"\n",
    "Value of BTC increased again $400\n",
    "Position Return\n",
    "    Return = .5\n",
    "    PnL = $500\n",
    "Cumulative Return\n",
    "    Return = $500 / $5000 = .1\n",
    "    PnL = $500\n",
    "\"\"\"\n",
    "pos1.latest_price = 1500\n",
    "perf.add_period(\n",
    "    start=datetime.datetime.utcnow(),\n",
    "    cash=4000.0,\n",
    "    positions=positions\n",
    ")\n",
    "perf.to_dict()"
   ]
  },
  {
   "cell_type": "code",
   "execution_count": null,
   "metadata": {
    "hidden": true
   },
   "outputs": [],
   "source": [
    "# Buy 1 ETH for $500\n",
    "asset = Asset(c.ETH, c.USD)\n",
    "pos2 = Position(asset, quantity=1, cost_price=500.0)\n",
    "positions.append(pos2)\n",
    "perf.add_period(\n",
    "    start=datetime.datetime.utcnow(),\n",
    "    cash=3500.0,\n",
    "    positions=positions\n",
    ")\n",
    "perf.to_dict()"
   ]
  },
  {
   "cell_type": "code",
   "execution_count": null,
   "metadata": {
    "hidden": true,
    "scrolled": false
   },
   "outputs": [],
   "source": [
    "\"\"\"\n",
    "Value of ETH decreased $100\n",
    "Position Return\n",
    "    Return = -100/500\n",
    "    PnL = -100\n",
    "Cumulative Return\n",
    "    Return = 400 / 5000 = .08\n",
    "    PnL = 400\n",
    "\"\"\"\n",
    "pos2.latest_price = 400\n",
    "perf.add_period(\n",
    "    start=datetime.datetime.utcnow(),\n",
    "    cash=3500.0,\n",
    "    positions=positions\n",
    ")\n",
    "perf.to_dict()"
   ]
  },
  {
   "cell_type": "code",
   "execution_count": null,
   "metadata": {
    "hidden": true
   },
   "outputs": [],
   "source": [
    "PerformanceTracker.from_dict(perf.to_dict())"
   ]
  },
  {
   "cell_type": "markdown",
   "metadata": {
    "heading_collapsed": true
   },
   "source": [
    "### Portfolio"
   ]
  },
  {
   "cell_type": "code",
   "execution_count": null,
   "metadata": {
    "hidden": true
   },
   "outputs": [],
   "source": [
    "starting_cash = 5000\n",
    "exchange = load_exchange(c.PAPER)\n",
    "perf = PerformanceTracker(starting_cash, Timeframe.ONE_MIN, store=None)\n",
    "portfolio = Portfolio(starting_cash, perf)"
   ]
  },
  {
   "cell_type": "code",
   "execution_count": null,
   "metadata": {
    "hidden": true
   },
   "outputs": [],
   "source": [
    "# Buy 1 BTC for $1000\n",
    "asset = Asset(c.BTC, c.USD)\n",
    "order = Order(\n",
    "    exchange_id=exchange.id, \n",
    "    asset=asset,\n",
    "    price=1000., \n",
    "    quantity=1, \n",
    "    order_type=OrderType.LIMIT_BUY\n",
    ")\n",
    "order"
   ]
  },
  {
   "cell_type": "code",
   "execution_count": null,
   "metadata": {
    "hidden": true
   },
   "outputs": [],
   "source": [
    "portfolio.update(filled_orders=[order])\n",
    "portfolio"
   ]
  },
  {
   "cell_type": "code",
   "execution_count": null,
   "metadata": {
    "hidden": true
   },
   "outputs": [],
   "source": [
    "# Buy more BTC, price has risen $500\n",
    "order = Order(\n",
    "    exchange_id=exchange.id, \n",
    "    asset=asset,\n",
    "    price=1500., \n",
    "    quantity=1, \n",
    "    order_type=OrderType.LIMIT_BUY\n",
    ")\n",
    "portfolio.update(filled_orders=[order])\n",
    "portfolio"
   ]
  },
  {
   "cell_type": "code",
   "execution_count": null,
   "metadata": {
    "hidden": true
   },
   "outputs": [],
   "source": [
    "# Sell all BTC at profit\n",
    "order = Order(\n",
    "    exchange_id=exchange.id, \n",
    "    asset=asset,\n",
    "    price=1500., \n",
    "    quantity=2, \n",
    "    order_type=OrderType.LIMIT_SELL\n",
    ")\n",
    "portfolio.update(filled_orders=[order])\n",
    "portfolio"
   ]
  },
  {
   "cell_type": "code",
   "execution_count": null,
   "metadata": {
    "hidden": true
   },
   "outputs": [],
   "source": [
    "Portfolio.from_dict(portfolio.to_dict())"
   ]
  },
  {
   "cell_type": "markdown",
   "metadata": {
    "heading_collapsed": true
   },
   "source": [
    "### Record"
   ]
  },
  {
   "cell_type": "code",
   "execution_count": null,
   "metadata": {
    "hidden": true
   },
   "outputs": [],
   "source": [
    "feed = get_test_csv_feed(c.PAPER)\n",
    "\n",
    "metrics = {\n",
    "    'SMA': [1, 2, 3, 4],\n",
    "    'RSI': [3, 4, 2, 1]\n",
    "}\n",
    "\n",
    "o1 = Order(c.PAPER, Asset(c.ETH, c.BTC), 5.0, 100.0, OrderType.LIMIT_BUY)\n",
    "o2 = Order(c.PAPER, Asset(c.LTC, c.BTC), 5.0, 100.0, OrderType.LIMIT_BUY)\n",
    "orders = {\n",
    "    o1.id: o1,\n",
    "    o2.id: o2\n",
    "}"
   ]
  },
  {
   "cell_type": "code",
   "execution_count": null,
   "metadata": {
    "hidden": true
   },
   "outputs": [],
   "source": [
    "root_dir = os.path.join(cfg.DATA_DIR, 'default')\n",
    "store = FileStore(root_dir)\n",
    "\n",
    "record = Record(config={}, portfolio=portfolio, balance=Balance(), store=store)\n",
    "record.orders = orders\n",
    "record.metrics = metrics\n",
    "record.ohlcv = feed.history()\n",
    "record.save()\n",
    "record = Record.load(root_dir)"
   ]
  },
  {
   "cell_type": "code",
   "execution_count": null,
   "metadata": {
    "hidden": true,
    "scrolled": false
   },
   "outputs": [],
   "source": [
    "print(record.config)\n",
    "print(record.metrics)\n",
    "print(record.balance)\n",
    "print(record.orders)\n",
    "print(record.ohlcv.head()[['time_utc','close']])\n",
    "print(record.portfolio)"
   ]
  },
  {
   "cell_type": "markdown",
   "metadata": {
    "heading_collapsed": true
   },
   "source": [
    "### Context"
   ]
  },
  {
   "cell_type": "code",
   "execution_count": null,
   "metadata": {
    "hidden": true
   },
   "outputs": [],
   "source": [
    "feed = get_test_csv_feed(c.PAPER)\n",
    "ctx = Context(DEFAULT_CONFIG, exchange, feed, record)"
   ]
  },
  {
   "cell_type": "code",
   "execution_count": null,
   "metadata": {
    "hidden": true
   },
   "outputs": [],
   "source": [
    "ctx = Context.from_config(DEFAULT_CONFIG)\n",
    "print(ctx.record.config)\n",
    "print(ctx.record.metrics)\n",
    "print(ctx.record.balance)\n",
    "print(ctx.record.orders)\n",
    "print(ctx.record.ohlcv)\n",
    "print(ctx.record.portfolio)"
   ]
  },
  {
   "cell_type": "markdown",
   "metadata": {},
   "source": [
    "### Strategy"
   ]
  },
  {
   "cell_type": "code",
   "execution_count": 2,
   "metadata": {},
   "outputs": [],
   "source": [
    "# https://www.backtrader.com/docu/quickstart/quickstart.html\n",
    "# https://enigmampc.github.io/catalyst/beginner-tutorial.html#basics\n",
    "from strategies.strategy import Strategy\n",
    "from trading import order_manager\n",
    "\n",
    "class MyStrategy(Strategy):\n",
    "    def __init__(self):\n",
    "        super().__init__()\n",
    "    \n",
    "    def log_all(self, orders, data, ctx, time_utc):\n",
    "        self.logger = ctx.logger\n",
    "        if self.logger is not None:\n",
    "            self.log_epoch_time(time_utc)\n",
    "            self.log_ohlcv(data)\n",
    "            self.log_orders(orders)\n",
    "            self.log_performance(ctx)\n",
    "            self.log_balance(ctx)\n",
    "            self.log_positions(ctx)\n",
    "            self.log_metrics(ctx)\n",
    "    \n",
    "    def handle_data(self, data, ctx):\n",
    "        # Update metrics\n",
    "        self.update_metric('SMA', 5.0, ctx)\n",
    "        self.update_metric('RSI', 10.0, ctx)\n",
    "        \n",
    "        # Add latest OHLCV row to record\n",
    "        ctx.record.add_ohlcv(data)\n",
    "        \n",
    "        # Create orders\n",
    "        orders = []\n",
    "        asset = Asset(c.ETH, c.BTC)\n",
    "        if random.random() > .5:\n",
    "            order = order_manager.build_limit_buy_order(\n",
    "                ctx.exchange, asset, price=0.1, quantity=1)\n",
    "        else:\n",
    "            order = order_manager.build_limit_sell_order(\n",
    "                ctx.exchange, asset, price=0.1, quantity=1)\n",
    "        orders.append(order)\n",
    "\n",
    "        self.log_all(orders, data, ctx, data['time_utc'])\n",
    "        \n",
    "        return orders\n"
   ]
  },
  {
   "cell_type": "code",
   "execution_count": null,
   "metadata": {},
   "outputs": [],
   "source": [
    "import shutil\n",
    "from data.store import DATA_STORES, FILE_STORE\n",
    "from data.feed import EXCHANGE_FEED, CSV_FEED\n",
    "\n",
    "config = {\n",
    "    'experiment': 'default',\n",
    "    'exchange_id': c.PAPER,\n",
    "    'cash_asset': c.BTC,\n",
    "    'starting_cash': 1.0,\n",
    "    'store': FILE_STORE,\n",
    "    'feed': {\n",
    "        'name': EXCHANGE_FEED,\n",
    "        'fpath': os.path.join(cfg.DATA_DIR, 'default_feed.csv'),\n",
    "        'symbols': ['ETH/BTC'],\n",
    "        'timeframe': Timeframe.ONE_MIN.name,\n",
    "        'start': '2018-01-10T08:00:00',\n",
    "        'end': None,\n",
    "    },\n",
    "    'balance': {\n",
    "        c.BTC: {'free': 1.0, 'used':0.0, 'total': 1.0},\n",
    "        'free': {c.BTC: 1.0},\n",
    "        'used': {c.BTC: 0.0},\n",
    "        'total': {c.BTC: 1.0},\n",
    "    }\n",
    "}\n",
    "shutil.rmtree(os.path.join(cfg.DATA_DIR, config['experiment']), ignore_errors=True)\n",
    "ctx = Context.from_config(config)\n",
    "s = MyStrategy()"
   ]
  },
  {
   "cell_type": "code",
   "execution_count": null,
   "metadata": {},
   "outputs": [],
   "source": [
    "orders = s.process(ctx.feed.next(), ctx)"
   ]
  },
  {
   "cell_type": "code",
   "execution_count": null,
   "metadata": {},
   "outputs": [],
   "source": [
    "resp = order_manager.place_orders(ctx.exchange, orders)\n",
    "resp"
   ]
  },
  {
   "cell_type": "code",
   "execution_count": null,
   "metadata": {},
   "outputs": [],
   "source": [
    "print(\"BEFORE\")\n",
    "print(ctx.record.balance)\n",
    "# We're not updating the virtual balance, only the exchange \n",
    "# (which is fine until we want to have a multi-exchange algo)\n",
    "print(\"AFTER Exchange Balance\")\n",
    "print(ctx.exchange.balance)"
   ]
  },
  {
   "cell_type": "code",
   "execution_count": null,
   "metadata": {},
   "outputs": [],
   "source": []
  },
  {
   "cell_type": "markdown",
   "metadata": {},
   "source": [
    "### Runner"
   ]
  },
  {
   "cell_type": "code",
   "execution_count": 4,
   "metadata": {
    "scrolled": false
   },
   "outputs": [
    {
     "name": "stdout",
     "output_type": "stream",
     "text": [
      "Loading feed: .data/default_feed.csv\n",
      "Downloading: ETH/BTC\n"
     ]
    },
    {
     "name": "stderr",
     "output_type": "stream",
     "text": [
      "---------------------------------------\n",
      "Epoch 1 - Timestep: 2018-01-10T12:28:00\n",
      "---------------------------------------\n",
      "OHLCV\n",
      "    O: 0.0965 | C: 0.0966 | V: 198.5 | T: 2018-01-10T12:28:00\n",
      "ORDERS\n",
      "    1: ETH/BTC | LIMIT_BUY | Price: 0.1000 | Quantity: 1.0000\n",
      "PERFORMANCE\n",
      "    Cash: 1.0000 Total Val: 1.0000 PnL: 0.0000 Returns: 0.0000\n",
      "BALANCE\n",
      "    BTC - {'free': 1.0, 'used': 0.0, 'total': 1.0}\n",
      "POSITIONS\n",
      "METRICS\n",
      "    SMA: 5.00\n",
      "    RSI: 10.00\n"
     ]
    },
    {
     "name": "stdout",
     "output_type": "stream",
     "text": [
      "Downloaded rows: 500\n",
      "Punishing ...\n",
      "{'id': 'd18ba86667fd495f8d28bcd116abed8c', 'asset': 'ETH/BTC', 'price': 0.1, 'quantity': 1, 'type': 'limit', 'side': 'buy', 'filled': 0.0, 'status': 'FILLED', 'fee': {}}\n"
     ]
    },
    {
     "name": "stderr",
     "output_type": "stream",
     "text": [
      "---------------------------------------\n",
      "Epoch 2 - Timestep: 2018-01-10T12:29:00\n",
      "---------------------------------------\n",
      "OHLCV\n",
      "    O: 0.0966 | C: 0.0966 | V: 275.5 | T: 2018-01-10T12:29:00\n",
      "ORDERS\n",
      "    1: ETH/BTC | LIMIT_BUY | Price: 0.1000 | Quantity: 1.0000\n",
      "PERFORMANCE\n",
      "    Cash: 0.9000 Total Val: 1.0000 PnL: 0.0000 Returns: 0.0000\n",
      "BALANCE\n",
      "    BTC - {'free': 0.9, 'used': 0.0, 'total': 0.9}\n",
      "    ETH - {'free': 1.0, 'used': 0.0, 'total': 1.0}\n",
      "POSITIONS\n",
      "     {'asset': 'ETH/BTC', 'quantity': 1, 'cost_price': 0.1, 'latest_price': 0.1}\n",
      "METRICS\n",
      "    SMA: 5.00\n",
      "    RSI: 10.00\n"
     ]
    },
    {
     "name": "stdout",
     "output_type": "stream",
     "text": [
      "{'id': '05f333c888294402b503340c0149d68b', 'asset': 'ETH/BTC', 'price': 0.1, 'quantity': 1, 'type': 'limit', 'side': 'buy', 'filled': 0.0, 'status': 'FILLED', 'fee': {}}\n"
     ]
    },
    {
     "name": "stderr",
     "output_type": "stream",
     "text": [
      "---------------------------------------\n",
      "Epoch 3 - Timestep: 2018-01-10T12:30:00\n",
      "---------------------------------------\n",
      "OHLCV\n",
      "    O: 0.0966 | C: 0.0968 | V: 182.0 | T: 2018-01-10T12:30:00\n",
      "ORDERS\n",
      "    1: ETH/BTC | LIMIT_SELL | Price: 0.1000 | Quantity: 1.0000\n",
      "PERFORMANCE\n",
      "    Cash: 0.8000 Total Val: 1.0000 PnL: 0.0000 Returns: 0.0000\n",
      "BALANCE\n",
      "    BTC - {'free': 0.8, 'used': 0.0, 'total': 0.8}\n",
      "    ETH - {'free': 2.0, 'used': 0.0, 'total': 2.0}\n",
      "POSITIONS\n",
      "     {'asset': 'ETH/BTC', 'quantity': 2, 'cost_price': 0.1, 'latest_price': 0.1}\n",
      "METRICS\n",
      "    SMA: 5.00\n",
      "    RSI: 10.00\n"
     ]
    },
    {
     "name": "stdout",
     "output_type": "stream",
     "text": [
      "{'id': 'efd0a2d3d0cf4c10be087e4fdb709899', 'asset': 'ETH/BTC', 'price': 0.1, 'quantity': 1, 'type': 'limit', 'side': 'sell', 'filled': 0.0, 'status': 'FILLED', 'fee': {}}\n"
     ]
    },
    {
     "name": "stderr",
     "output_type": "stream",
     "text": [
      "---------------------------------------\n",
      "Epoch 4 - Timestep: 2018-01-10T12:31:00\n",
      "---------------------------------------\n",
      "OHLCV\n",
      "    O: 0.0967 | C: 0.0967 | V: 405.3 | T: 2018-01-10T12:31:00\n",
      "ORDERS\n",
      "    1: ETH/BTC | LIMIT_BUY | Price: 0.1000 | Quantity: 1.0000\n",
      "PERFORMANCE\n",
      "    Cash: 0.9000 Total Val: 1.0000 PnL: 0.0000 Returns: 0.0000\n",
      "BALANCE\n",
      "    BTC - {'free': 0.9, 'used': 0.0, 'total': 0.9}\n",
      "    ETH - {'free': 1.0, 'used': 0.0, 'total': 1.0}\n",
      "POSITIONS\n",
      "     {'asset': 'ETH/BTC', 'quantity': 1, 'cost_price': 0.1, 'latest_price': 0.1}\n",
      "METRICS\n",
      "    SMA: 5.00\n",
      "    RSI: 10.00\n"
     ]
    },
    {
     "name": "stdout",
     "output_type": "stream",
     "text": [
      "{'id': 'b1e1a5696f1e459ab97bdb56163c3d81', 'asset': 'ETH/BTC', 'price': 0.1, 'quantity': 1, 'type': 'limit', 'side': 'buy', 'filled': 0.0, 'status': 'FILLED', 'fee': {}}\n"
     ]
    },
    {
     "name": "stderr",
     "output_type": "stream",
     "text": [
      "---------------------------------------\n",
      "Epoch 5 - Timestep: 2018-01-10T12:32:00\n",
      "---------------------------------------\n",
      "OHLCV\n",
      "    O: 0.0967 | C: 0.0962 | V: 313.5 | T: 2018-01-10T12:32:00\n",
      "ORDERS\n",
      "    1: ETH/BTC | LIMIT_BUY | Price: 0.1000 | Quantity: 1.0000\n",
      "PERFORMANCE\n",
      "    Cash: 0.8000 Total Val: 1.0000 PnL: 0.0000 Returns: 0.0000\n",
      "BALANCE\n",
      "    BTC - {'free': 0.8, 'used': 0.0, 'total': 0.8}\n",
      "    ETH - {'free': 2.0, 'used': 0.0, 'total': 2.0}\n",
      "POSITIONS\n",
      "     {'asset': 'ETH/BTC', 'quantity': 2, 'cost_price': 0.1, 'latest_price': 0.1}\n",
      "METRICS\n",
      "    SMA: 5.00\n",
      "    RSI: 10.00\n"
     ]
    },
    {
     "name": "stdout",
     "output_type": "stream",
     "text": [
      "{'id': '20045678e2ce47fa8b5dbfbdd41c76d8', 'asset': 'ETH/BTC', 'price': 0.1, 'quantity': 1, 'type': 'limit', 'side': 'buy', 'filled': 0.0, 'status': 'FILLED', 'fee': {}}\n"
     ]
    },
    {
     "name": "stderr",
     "output_type": "stream",
     "text": [
      "---------------------------------------\n",
      "Epoch 6 - Timestep: 2018-01-10T12:33:00\n",
      "---------------------------------------\n",
      "OHLCV\n",
      "    O: 0.0963 | C: 0.0961 | V: 176.1 | T: 2018-01-10T12:33:00\n",
      "ORDERS\n",
      "    1: ETH/BTC | LIMIT_BUY | Price: 0.1000 | Quantity: 1.0000\n",
      "PERFORMANCE\n",
      "    Cash: 0.7000 Total Val: 1.0000 PnL: 0.0000 Returns: 0.0000\n",
      "BALANCE\n",
      "    BTC - {'free': 0.7000000000000001, 'used': 0.0, 'total': 0.7000000000000001}\n",
      "    ETH - {'free': 3.0, 'used': 0.0, 'total': 3.0}\n",
      "POSITIONS\n",
      "     {'asset': 'ETH/BTC', 'quantity': 3, 'cost_price': 0.10000000000000002, 'latest_price': 0.1}\n",
      "METRICS\n",
      "    SMA: 5.00\n",
      "    RSI: 10.00\n"
     ]
    },
    {
     "name": "stdout",
     "output_type": "stream",
     "text": [
      "{'id': '833d4291819344fd95611519bddd1a68', 'asset': 'ETH/BTC', 'price': 0.1, 'quantity': 1, 'type': 'limit', 'side': 'buy', 'filled': 0.0, 'status': 'FILLED', 'fee': {}}\n"
     ]
    },
    {
     "name": "stderr",
     "output_type": "stream",
     "text": [
      "---------------------------------------\n",
      "Epoch 7 - Timestep: 2018-01-10T12:34:00\n",
      "---------------------------------------\n",
      "OHLCV\n",
      "    O: 0.0961 | C: 0.0967 | V: 280.2 | T: 2018-01-10T12:34:00\n",
      "ORDERS\n",
      "    1: ETH/BTC | LIMIT_SELL | Price: 0.1000 | Quantity: 1.0000\n",
      "PERFORMANCE\n",
      "    Cash: 0.6000 Total Val: 1.0000 PnL: 0.0000 Returns: 0.0000\n",
      "BALANCE\n",
      "    BTC - {'free': 0.6000000000000001, 'used': 0.0, 'total': 0.6000000000000001}\n",
      "    ETH - {'free': 4.0, 'used': 0.0, 'total': 4.0}\n",
      "POSITIONS\n",
      "     {'asset': 'ETH/BTC', 'quantity': 4, 'cost_price': 0.1, 'latest_price': 0.1}\n",
      "METRICS\n",
      "    SMA: 5.00\n",
      "    RSI: 10.00\n"
     ]
    },
    {
     "name": "stdout",
     "output_type": "stream",
     "text": [
      "{'id': '334d59562d8c4f4193fee70c3f9d6720', 'asset': 'ETH/BTC', 'price': 0.1, 'quantity': 1, 'type': 'limit', 'side': 'sell', 'filled': 0.0, 'status': 'FILLED', 'fee': {}}\n"
     ]
    },
    {
     "name": "stderr",
     "output_type": "stream",
     "text": [
      "---------------------------------------\n",
      "Epoch 8 - Timestep: 2018-01-10T12:35:00\n",
      "---------------------------------------\n",
      "OHLCV\n",
      "    O: 0.0967 | C: 0.0967 | V: 234.0 | T: 2018-01-10T12:35:00\n",
      "ORDERS\n",
      "    1: ETH/BTC | LIMIT_BUY | Price: 0.1000 | Quantity: 1.0000\n",
      "PERFORMANCE\n",
      "    Cash: 0.7000 Total Val: 1.0000 PnL: 0.0000 Returns: 0.0000\n",
      "BALANCE\n",
      "    BTC - {'free': 0.7000000000000001, 'used': 0.0, 'total': 0.7000000000000001}\n",
      "    ETH - {'free': 3.0, 'used': 0.0, 'total': 3.0}\n",
      "POSITIONS\n",
      "     {'asset': 'ETH/BTC', 'quantity': 3, 'cost_price': 0.1, 'latest_price': 0.1}\n",
      "METRICS\n",
      "    SMA: 5.00\n",
      "    RSI: 10.00\n"
     ]
    },
    {
     "name": "stdout",
     "output_type": "stream",
     "text": [
      "{'id': '8f9769a06cca49e9b9a28c6090a3f23f', 'asset': 'ETH/BTC', 'price': 0.1, 'quantity': 1, 'type': 'limit', 'side': 'buy', 'filled': 0.0, 'status': 'FILLED', 'fee': {}}\n"
     ]
    },
    {
     "name": "stderr",
     "output_type": "stream",
     "text": [
      "---------------------------------------\n",
      "Epoch 9 - Timestep: 2018-01-10T12:36:00\n",
      "---------------------------------------\n",
      "OHLCV\n",
      "    O: 0.0967 | C: 0.0966 | V: 199.3 | T: 2018-01-10T12:36:00\n",
      "ORDERS\n",
      "    1: ETH/BTC | LIMIT_SELL | Price: 0.1000 | Quantity: 1.0000\n",
      "PERFORMANCE\n",
      "    Cash: 0.6000 Total Val: 1.0000 PnL: 0.0000 Returns: 0.0000\n",
      "BALANCE\n",
      "    BTC - {'free': 0.6000000000000001, 'used': 0.0, 'total': 0.6000000000000001}\n",
      "    ETH - {'free': 4.0, 'used': 0.0, 'total': 4.0}\n",
      "POSITIONS\n",
      "     {'asset': 'ETH/BTC', 'quantity': 4, 'cost_price': 0.1, 'latest_price': 0.1}\n",
      "METRICS\n",
      "    SMA: 5.00\n",
      "    RSI: 10.00\n"
     ]
    },
    {
     "name": "stdout",
     "output_type": "stream",
     "text": [
      "{'id': '0c590302ff224414af5564fa6525511c', 'asset': 'ETH/BTC', 'price': 0.1, 'quantity': 1, 'type': 'limit', 'side': 'sell', 'filled': 0.0, 'status': 'FILLED', 'fee': {}}\n"
     ]
    },
    {
     "name": "stderr",
     "output_type": "stream",
     "text": [
      "---------------------------------------\n",
      "Epoch 10 - Timestep: 2018-01-10T12:37:00\n",
      "---------------------------------------\n",
      "OHLCV\n",
      "    O: 0.0966 | C: 0.0965 | V: 200.0 | T: 2018-01-10T12:37:00\n",
      "ORDERS\n",
      "    1: ETH/BTC | LIMIT_SELL | Price: 0.1000 | Quantity: 1.0000\n",
      "PERFORMANCE\n",
      "    Cash: 0.7000 Total Val: 1.0000 PnL: 0.0000 Returns: 0.0000\n",
      "BALANCE\n",
      "    BTC - {'free': 0.7000000000000001, 'used': 0.0, 'total': 0.7000000000000001}\n",
      "    ETH - {'free': 3.0, 'used': 0.0, 'total': 3.0}\n",
      "POSITIONS\n",
      "     {'asset': 'ETH/BTC', 'quantity': 3, 'cost_price': 0.1, 'latest_price': 0.1}\n",
      "METRICS\n",
      "    SMA: 5.00\n",
      "    RSI: 10.00\n"
     ]
    },
    {
     "name": "stdout",
     "output_type": "stream",
     "text": [
      "{'id': 'a463d727205c401998fa776cf051e8e2', 'asset': 'ETH/BTC', 'price': 0.1, 'quantity': 1, 'type': 'limit', 'side': 'sell', 'filled': 0.0, 'status': 'FILLED', 'fee': {}}\n"
     ]
    },
    {
     "name": "stderr",
     "output_type": "stream",
     "text": [
      "---------------------------------------\n",
      "Epoch 11 - Timestep: 2018-01-10T12:38:00\n",
      "---------------------------------------\n",
      "OHLCV\n",
      "    O: 0.0965 | C: 0.0965 | V: 201.7 | T: 2018-01-10T12:38:00\n",
      "ORDERS\n",
      "    1: ETH/BTC | LIMIT_BUY | Price: 0.1000 | Quantity: 1.0000\n",
      "PERFORMANCE\n",
      "    Cash: 0.8000 Total Val: 1.0000 PnL: 0.0000 Returns: 0.0000\n",
      "BALANCE\n",
      "    BTC - {'free': 0.8, 'used': 0.0, 'total': 0.8}\n",
      "    ETH - {'free': 2.0, 'used': 0.0, 'total': 2.0}\n",
      "POSITIONS\n",
      "     {'asset': 'ETH/BTC', 'quantity': 2, 'cost_price': 0.1, 'latest_price': 0.1}\n",
      "METRICS\n",
      "    SMA: 5.00\n",
      "    RSI: 10.00\n"
     ]
    },
    {
     "name": "stdout",
     "output_type": "stream",
     "text": [
      "{'id': '5090a61b4b0d465080ebc127c4109daa', 'asset': 'ETH/BTC', 'price': 0.1, 'quantity': 1, 'type': 'limit', 'side': 'buy', 'filled': 0.0, 'status': 'FILLED', 'fee': {}}\n"
     ]
    },
    {
     "name": "stderr",
     "output_type": "stream",
     "text": [
      "---------------------------------------\n",
      "Epoch 12 - Timestep: 2018-01-10T12:39:00\n",
      "---------------------------------------\n",
      "OHLCV\n",
      "    O: 0.0965 | C: 0.0965 | V: 202.8 | T: 2018-01-10T12:39:00\n",
      "ORDERS\n",
      "    1: ETH/BTC | LIMIT_BUY | Price: 0.1000 | Quantity: 1.0000\n",
      "PERFORMANCE\n",
      "    Cash: 0.7000 Total Val: 1.0000 PnL: 0.0000 Returns: 0.0000\n",
      "BALANCE\n",
      "    BTC - {'free': 0.7000000000000001, 'used': 0.0, 'total': 0.7000000000000001}\n",
      "    ETH - {'free': 3.0, 'used': 0.0, 'total': 3.0}\n",
      "POSITIONS\n",
      "     {'asset': 'ETH/BTC', 'quantity': 3, 'cost_price': 0.10000000000000002, 'latest_price': 0.1}\n",
      "METRICS\n",
      "    SMA: 5.00\n",
      "    RSI: 10.00\n"
     ]
    },
    {
     "name": "stdout",
     "output_type": "stream",
     "text": [
      "{'id': 'd0d0faeccf224af9af5bd437d94cdfc6', 'asset': 'ETH/BTC', 'price': 0.1, 'quantity': 1, 'type': 'limit', 'side': 'buy', 'filled': 0.0, 'status': 'FILLED', 'fee': {}}\n"
     ]
    },
    {
     "name": "stderr",
     "output_type": "stream",
     "text": [
      "---------------------------------------\n",
      "Epoch 13 - Timestep: 2018-01-10T12:40:00\n",
      "---------------------------------------\n",
      "OHLCV\n",
      "    O: 0.0965 | C: 0.0967 | V: 553.0 | T: 2018-01-10T12:40:00\n",
      "ORDERS\n",
      "    1: ETH/BTC | LIMIT_BUY | Price: 0.1000 | Quantity: 1.0000\n",
      "PERFORMANCE\n",
      "    Cash: 0.6000 Total Val: 1.0000 PnL: 0.0000 Returns: 0.0000\n",
      "BALANCE\n",
      "    BTC - {'free': 0.6000000000000001, 'used': 0.0, 'total': 0.6000000000000001}\n",
      "    ETH - {'free': 4.0, 'used': 0.0, 'total': 4.0}\n",
      "POSITIONS\n",
      "     {'asset': 'ETH/BTC', 'quantity': 4, 'cost_price': 0.1, 'latest_price': 0.1}\n",
      "METRICS\n",
      "    SMA: 5.00\n",
      "    RSI: 10.00\n"
     ]
    },
    {
     "name": "stdout",
     "output_type": "stream",
     "text": [
      "{'id': '84e38d18c2794faf9889b37e268cebd9', 'asset': 'ETH/BTC', 'price': 0.1, 'quantity': 1, 'type': 'limit', 'side': 'buy', 'filled': 0.0, 'status': 'FILLED', 'fee': {}}\n"
     ]
    },
    {
     "name": "stderr",
     "output_type": "stream",
     "text": [
      "---------------------------------------\n",
      "Epoch 14 - Timestep: 2018-01-10T12:41:00\n",
      "---------------------------------------\n",
      "OHLCV\n",
      "    O: 0.0966 | C: 0.0966 | V: 298.6 | T: 2018-01-10T12:41:00\n",
      "ORDERS\n",
      "    1: ETH/BTC | LIMIT_BUY | Price: 0.1000 | Quantity: 1.0000\n",
      "PERFORMANCE\n",
      "    Cash: 0.5000 Total Val: 1.0000 PnL: 0.0000 Returns: 0.0000\n",
      "BALANCE\n",
      "    BTC - {'free': 0.5000000000000001, 'used': 0.0, 'total': 0.5000000000000001}\n",
      "    ETH - {'free': 5.0, 'used': 0.0, 'total': 5.0}\n",
      "POSITIONS\n",
      "     {'asset': 'ETH/BTC', 'quantity': 5, 'cost_price': 0.1, 'latest_price': 0.1}\n",
      "METRICS\n",
      "    SMA: 5.00\n",
      "    RSI: 10.00\n"
     ]
    },
    {
     "name": "stdout",
     "output_type": "stream",
     "text": [
      "{'id': '5d346e176a8743458dee937c65d29b3b', 'asset': 'ETH/BTC', 'price': 0.1, 'quantity': 1, 'type': 'limit', 'side': 'buy', 'filled': 0.0, 'status': 'FILLED', 'fee': {}}\n"
     ]
    },
    {
     "name": "stderr",
     "output_type": "stream",
     "text": [
      "---------------------------------------\n",
      "Epoch 15 - Timestep: 2018-01-10T12:42:00\n",
      "---------------------------------------\n",
      "OHLCV\n",
      "    O: 0.0966 | C: 0.0964 | V: 388.4 | T: 2018-01-10T12:42:00\n",
      "ORDERS\n",
      "    1: ETH/BTC | LIMIT_SELL | Price: 0.1000 | Quantity: 1.0000\n",
      "PERFORMANCE\n",
      "    Cash: 0.4000 Total Val: 1.0000 PnL: 0.0000 Returns: 0.0000\n",
      "BALANCE\n",
      "    BTC - {'free': 0.40000000000000013, 'used': 0.0, 'total': 0.40000000000000013}\n",
      "    ETH - {'free': 6.0, 'used': 0.0, 'total': 6.0}\n",
      "POSITIONS\n",
      "     {'asset': 'ETH/BTC', 'quantity': 6, 'cost_price': 0.09999999999999999, 'latest_price': 0.1}\n",
      "METRICS\n",
      "    SMA: 5.00\n",
      "    RSI: 10.00\n"
     ]
    },
    {
     "name": "stdout",
     "output_type": "stream",
     "text": [
      "{'id': 'db250c9ee492447a88871d7ef6567ed5', 'asset': 'ETH/BTC', 'price': 0.1, 'quantity': 1, 'type': 'limit', 'side': 'sell', 'filled': 0.0, 'status': 'FILLED', 'fee': {}}\n"
     ]
    },
    {
     "name": "stderr",
     "output_type": "stream",
     "text": [
      "---------------------------------------\n",
      "Epoch 16 - Timestep: 2018-01-10T12:43:00\n",
      "---------------------------------------\n",
      "OHLCV\n",
      "    O: 0.0964 | C: 0.0963 | V: 297.5 | T: 2018-01-10T12:43:00\n",
      "ORDERS\n",
      "    1: ETH/BTC | LIMIT_BUY | Price: 0.1000 | Quantity: 1.0000\n",
      "PERFORMANCE\n",
      "    Cash: 0.5000 Total Val: 1.0000 PnL: 0.0000 Returns: 0.0000\n",
      "BALANCE\n",
      "    BTC - {'free': 0.5000000000000001, 'used': 0.0, 'total': 0.5000000000000001}\n",
      "    ETH - {'free': 5.0, 'used': 0.0, 'total': 5.0}\n",
      "POSITIONS\n",
      "     {'asset': 'ETH/BTC', 'quantity': 5, 'cost_price': 0.09999999999999999, 'latest_price': 0.1}\n",
      "METRICS\n",
      "    SMA: 5.00\n",
      "    RSI: 10.00\n"
     ]
    },
    {
     "name": "stdout",
     "output_type": "stream",
     "text": [
      "{'id': 'e78f0c72c96344bebdd92068021395e5', 'asset': 'ETH/BTC', 'price': 0.1, 'quantity': 1, 'type': 'limit', 'side': 'buy', 'filled': 0.0, 'status': 'FILLED', 'fee': {}}\n"
     ]
    },
    {
     "name": "stderr",
     "output_type": "stream",
     "text": [
      "---------------------------------------\n",
      "Epoch 17 - Timestep: 2018-01-10T12:44:00\n",
      "---------------------------------------\n",
      "OHLCV\n",
      "    O: 0.0963 | C: 0.0960 | V: 335.1 | T: 2018-01-10T12:44:00\n",
      "ORDERS\n",
      "    1: ETH/BTC | LIMIT_BUY | Price: 0.1000 | Quantity: 1.0000\n",
      "PERFORMANCE\n",
      "    Cash: 0.4000 Total Val: 1.0000 PnL: 0.0000 Returns: 0.0000\n",
      "BALANCE\n",
      "    BTC - {'free': 0.40000000000000013, 'used': 0.0, 'total': 0.40000000000000013}\n",
      "    ETH - {'free': 6.0, 'used': 0.0, 'total': 6.0}\n",
      "POSITIONS\n",
      "     {'asset': 'ETH/BTC', 'quantity': 6, 'cost_price': 0.09999999999999999, 'latest_price': 0.1}\n",
      "METRICS\n",
      "    SMA: 5.00\n",
      "    RSI: 10.00\n"
     ]
    },
    {
     "name": "stdout",
     "output_type": "stream",
     "text": [
      "{'id': '9edaab55b3af44e59b4041a6bed1e77a', 'asset': 'ETH/BTC', 'price': 0.1, 'quantity': 1, 'type': 'limit', 'side': 'buy', 'filled': 0.0, 'status': 'FILLED', 'fee': {}}\n"
     ]
    },
    {
     "name": "stderr",
     "output_type": "stream",
     "text": [
      "---------------------------------------\n",
      "Epoch 18 - Timestep: 2018-01-10T12:45:00\n",
      "---------------------------------------\n",
      "OHLCV\n",
      "    O: 0.0961 | C: 0.0960 | V: 329.7 | T: 2018-01-10T12:45:00\n",
      "ORDERS\n",
      "    1: ETH/BTC | LIMIT_SELL | Price: 0.1000 | Quantity: 1.0000\n",
      "PERFORMANCE\n",
      "    Cash: 0.3000 Total Val: 1.0000 PnL: 0.0000 Returns: 0.0000\n",
      "BALANCE\n",
      "    BTC - {'free': 0.30000000000000016, 'used': 0.0, 'total': 0.30000000000000016}\n",
      "    ETH - {'free': 7.0, 'used': 0.0, 'total': 7.0}\n",
      "POSITIONS\n",
      "     {'asset': 'ETH/BTC', 'quantity': 7, 'cost_price': 0.09999999999999999, 'latest_price': 0.1}\n",
      "METRICS\n",
      "    SMA: 5.00\n",
      "    RSI: 10.00\n"
     ]
    },
    {
     "name": "stdout",
     "output_type": "stream",
     "text": [
      "{'id': '10a444d5ad8447fb820d76bac4de2b3e', 'asset': 'ETH/BTC', 'price': 0.1, 'quantity': 1, 'type': 'limit', 'side': 'sell', 'filled': 0.0, 'status': 'FILLED', 'fee': {}}\n"
     ]
    },
    {
     "name": "stderr",
     "output_type": "stream",
     "text": [
      "---------------------------------------\n",
      "Epoch 19 - Timestep: 2018-01-10T12:46:00\n",
      "---------------------------------------\n",
      "OHLCV\n",
      "    O: 0.0960 | C: 0.0958 | V: 403.3 | T: 2018-01-10T12:46:00\n",
      "ORDERS\n",
      "    1: ETH/BTC | LIMIT_SELL | Price: 0.1000 | Quantity: 1.0000\n",
      "PERFORMANCE\n",
      "    Cash: 0.4000 Total Val: 1.0000 PnL: 0.0000 Returns: 0.0000\n",
      "BALANCE\n",
      "    BTC - {'free': 0.40000000000000013, 'used': 0.0, 'total': 0.40000000000000013}\n",
      "    ETH - {'free': 6.0, 'used': 0.0, 'total': 6.0}\n",
      "POSITIONS\n",
      "     {'asset': 'ETH/BTC', 'quantity': 6, 'cost_price': 0.09999999999999999, 'latest_price': 0.1}\n",
      "METRICS\n",
      "    SMA: 5.00\n",
      "    RSI: 10.00\n"
     ]
    },
    {
     "name": "stdout",
     "output_type": "stream",
     "text": [
      "{'id': '09e07ef4c033431d8c08674d24d6155e', 'asset': 'ETH/BTC', 'price': 0.1, 'quantity': 1, 'type': 'limit', 'side': 'sell', 'filled': 0.0, 'status': 'FILLED', 'fee': {}}\n"
     ]
    },
    {
     "name": "stderr",
     "output_type": "stream",
     "text": [
      "---------------------------------------\n",
      "Epoch 20 - Timestep: 2018-01-10T12:47:00\n",
      "---------------------------------------\n",
      "OHLCV\n",
      "    O: 0.0958 | C: 0.0958 | V: 206.9 | T: 2018-01-10T12:47:00\n",
      "ORDERS\n",
      "    1: ETH/BTC | LIMIT_BUY | Price: 0.1000 | Quantity: 1.0000\n",
      "PERFORMANCE\n",
      "    Cash: 0.5000 Total Val: 1.0000 PnL: 0.0000 Returns: 0.0000\n",
      "BALANCE\n",
      "    BTC - {'free': 0.5000000000000001, 'used': 0.0, 'total': 0.5000000000000001}\n",
      "    ETH - {'free': 5.0, 'used': 0.0, 'total': 5.0}\n",
      "POSITIONS\n",
      "     {'asset': 'ETH/BTC', 'quantity': 5, 'cost_price': 0.09999999999999999, 'latest_price': 0.1}\n",
      "METRICS\n",
      "    SMA: 5.00\n",
      "    RSI: 10.00\n"
     ]
    },
    {
     "name": "stdout",
     "output_type": "stream",
     "text": [
      "{'id': 'bf49c7887dc8404a8423c9e9bd697af7', 'asset': 'ETH/BTC', 'price': 0.1, 'quantity': 1, 'type': 'limit', 'side': 'buy', 'filled': 0.0, 'status': 'FILLED', 'fee': {}}\n"
     ]
    },
    {
     "name": "stderr",
     "output_type": "stream",
     "text": [
      "---------------------------------------\n",
      "Epoch 21 - Timestep: 2018-01-10T12:48:00\n",
      "---------------------------------------\n",
      "OHLCV\n",
      "    O: 0.0958 | C: 0.0950 | V: 428.6 | T: 2018-01-10T12:48:00\n",
      "ORDERS\n",
      "    1: ETH/BTC | LIMIT_SELL | Price: 0.1000 | Quantity: 1.0000\n",
      "PERFORMANCE\n",
      "    Cash: 0.4000 Total Val: 1.0000 PnL: 0.0000 Returns: 0.0000\n",
      "BALANCE\n",
      "    BTC - {'free': 0.40000000000000013, 'used': 0.0, 'total': 0.40000000000000013}\n",
      "    ETH - {'free': 6.0, 'used': 0.0, 'total': 6.0}\n",
      "POSITIONS\n",
      "     {'asset': 'ETH/BTC', 'quantity': 6, 'cost_price': 0.09999999999999999, 'latest_price': 0.1}\n",
      "METRICS\n",
      "    SMA: 5.00\n",
      "    RSI: 10.00\n"
     ]
    },
    {
     "name": "stdout",
     "output_type": "stream",
     "text": [
      "{'id': 'fd9c555ba5d341928cda7728ad421f67', 'asset': 'ETH/BTC', 'price': 0.1, 'quantity': 1, 'type': 'limit', 'side': 'sell', 'filled': 0.0, 'status': 'FILLED', 'fee': {}}\n"
     ]
    },
    {
     "name": "stderr",
     "output_type": "stream",
     "text": [
      "---------------------------------------\n",
      "Epoch 22 - Timestep: 2018-01-10T12:49:00\n",
      "---------------------------------------\n",
      "OHLCV\n",
      "    O: 0.0950 | C: 0.0952 | V: 310.3 | T: 2018-01-10T12:49:00\n",
      "ORDERS\n",
      "    1: ETH/BTC | LIMIT_SELL | Price: 0.1000 | Quantity: 1.0000\n",
      "PERFORMANCE\n",
      "    Cash: 0.5000 Total Val: 1.0000 PnL: 0.0000 Returns: 0.0000\n",
      "BALANCE\n",
      "    BTC - {'free': 0.5000000000000001, 'used': 0.0, 'total': 0.5000000000000001}\n",
      "    ETH - {'free': 5.0, 'used': 0.0, 'total': 5.0}\n",
      "POSITIONS\n",
      "     {'asset': 'ETH/BTC', 'quantity': 5, 'cost_price': 0.09999999999999999, 'latest_price': 0.1}\n",
      "METRICS\n",
      "    SMA: 5.00\n",
      "    RSI: 10.00\n"
     ]
    },
    {
     "name": "stdout",
     "output_type": "stream",
     "text": [
      "{'id': '975e87e5ad5a464dbc686820021f96b6', 'asset': 'ETH/BTC', 'price': 0.1, 'quantity': 1, 'type': 'limit', 'side': 'sell', 'filled': 0.0, 'status': 'FILLED', 'fee': {}}\n"
     ]
    },
    {
     "name": "stderr",
     "output_type": "stream",
     "text": [
      "---------------------------------------\n",
      "Epoch 23 - Timestep: 2018-01-10T12:50:00\n",
      "---------------------------------------\n",
      "OHLCV\n",
      "    O: 0.0952 | C: 0.0952 | V: 349.6 | T: 2018-01-10T12:50:00\n",
      "ORDERS\n",
      "    1: ETH/BTC | LIMIT_SELL | Price: 0.1000 | Quantity: 1.0000\n",
      "PERFORMANCE\n",
      "    Cash: 0.6000 Total Val: 1.0000 PnL: 0.0000 Returns: 0.0000\n",
      "BALANCE\n",
      "    BTC - {'free': 0.6000000000000001, 'used': 0.0, 'total': 0.6000000000000001}\n",
      "    ETH - {'free': 4.0, 'used': 0.0, 'total': 4.0}\n",
      "POSITIONS\n",
      "     {'asset': 'ETH/BTC', 'quantity': 4, 'cost_price': 0.09999999999999999, 'latest_price': 0.1}\n",
      "METRICS\n",
      "    SMA: 5.00\n",
      "    RSI: 10.00\n"
     ]
    },
    {
     "name": "stdout",
     "output_type": "stream",
     "text": [
      "{'id': 'd551179a130946d38be600271fa9230c', 'asset': 'ETH/BTC', 'price': 0.1, 'quantity': 1, 'type': 'limit', 'side': 'sell', 'filled': 0.0, 'status': 'FILLED', 'fee': {}}\n"
     ]
    },
    {
     "name": "stderr",
     "output_type": "stream",
     "text": [
      "---------------------------------------\n",
      "Epoch 24 - Timestep: 2018-01-10T12:51:00\n",
      "---------------------------------------\n",
      "OHLCV\n",
      "    O: 0.0952 | C: 0.0952 | V: 179.9 | T: 2018-01-10T12:51:00\n",
      "ORDERS\n",
      "    1: ETH/BTC | LIMIT_BUY | Price: 0.1000 | Quantity: 1.0000\n",
      "PERFORMANCE\n",
      "    Cash: 0.7000 Total Val: 1.0000 PnL: 0.0000 Returns: 0.0000\n",
      "BALANCE\n",
      "    BTC - {'free': 0.7000000000000001, 'used': 0.0, 'total': 0.7000000000000001}\n",
      "    ETH - {'free': 3.0, 'used': 0.0, 'total': 3.0}\n",
      "POSITIONS\n",
      "     {'asset': 'ETH/BTC', 'quantity': 3, 'cost_price': 0.09999999999999999, 'latest_price': 0.1}\n",
      "METRICS\n",
      "    SMA: 5.00\n",
      "    RSI: 10.00\n"
     ]
    },
    {
     "name": "stdout",
     "output_type": "stream",
     "text": [
      "{'id': 'fb89ac12393541f794f6a5fb1202d47d', 'asset': 'ETH/BTC', 'price': 0.1, 'quantity': 1, 'type': 'limit', 'side': 'buy', 'filled': 0.0, 'status': 'FILLED', 'fee': {}}\n"
     ]
    },
    {
     "name": "stderr",
     "output_type": "stream",
     "text": [
      "---------------------------------------\n",
      "Epoch 25 - Timestep: 2018-01-10T12:52:00\n",
      "---------------------------------------\n",
      "OHLCV\n",
      "    O: 0.0952 | C: 0.0950 | V: 253.1 | T: 2018-01-10T12:52:00\n",
      "ORDERS\n",
      "    1: ETH/BTC | LIMIT_BUY | Price: 0.1000 | Quantity: 1.0000\n",
      "PERFORMANCE\n",
      "    Cash: 0.6000 Total Val: 1.0000 PnL: 0.0000 Returns: 0.0000\n",
      "BALANCE\n",
      "    BTC - {'free': 0.6000000000000001, 'used': 0.0, 'total': 0.6000000000000001}\n",
      "    ETH - {'free': 4.0, 'used': 0.0, 'total': 4.0}\n",
      "POSITIONS\n",
      "     {'asset': 'ETH/BTC', 'quantity': 4, 'cost_price': 0.1, 'latest_price': 0.1}\n",
      "METRICS\n",
      "    SMA: 5.00\n",
      "    RSI: 10.00\n"
     ]
    },
    {
     "name": "stdout",
     "output_type": "stream",
     "text": [
      "{'id': '6d05ec03a2d8448eaac76a0351a28cd5', 'asset': 'ETH/BTC', 'price': 0.1, 'quantity': 1, 'type': 'limit', 'side': 'buy', 'filled': 0.0, 'status': 'FILLED', 'fee': {}}\n"
     ]
    },
    {
     "name": "stderr",
     "output_type": "stream",
     "text": [
      "---------------------------------------\n",
      "Epoch 26 - Timestep: 2018-01-10T12:53:00\n",
      "---------------------------------------\n",
      "OHLCV\n",
      "    O: 0.0952 | C: 0.0949 | V: 258.6 | T: 2018-01-10T12:53:00\n",
      "ORDERS\n",
      "    1: ETH/BTC | LIMIT_SELL | Price: 0.1000 | Quantity: 1.0000\n",
      "PERFORMANCE\n",
      "    Cash: 0.5000 Total Val: 1.0000 PnL: 0.0000 Returns: 0.0000\n",
      "BALANCE\n",
      "    BTC - {'free': 0.5000000000000001, 'used': 0.0, 'total': 0.5000000000000001}\n",
      "    ETH - {'free': 5.0, 'used': 0.0, 'total': 5.0}\n",
      "POSITIONS\n",
      "     {'asset': 'ETH/BTC', 'quantity': 5, 'cost_price': 0.1, 'latest_price': 0.1}\n",
      "METRICS\n",
      "    SMA: 5.00\n",
      "    RSI: 10.00\n"
     ]
    },
    {
     "name": "stdout",
     "output_type": "stream",
     "text": [
      "{'id': 'ed7408f0825c44db9d9b03aafba3bbc6', 'asset': 'ETH/BTC', 'price': 0.1, 'quantity': 1, 'type': 'limit', 'side': 'sell', 'filled': 0.0, 'status': 'FILLED', 'fee': {}}\n"
     ]
    },
    {
     "name": "stderr",
     "output_type": "stream",
     "text": [
      "---------------------------------------\n",
      "Epoch 27 - Timestep: 2018-01-10T12:54:00\n",
      "---------------------------------------\n",
      "OHLCV\n",
      "    O: 0.0949 | C: 0.0949 | V: 376.0 | T: 2018-01-10T12:54:00\n",
      "ORDERS\n",
      "    1: ETH/BTC | LIMIT_BUY | Price: 0.1000 | Quantity: 1.0000\n",
      "PERFORMANCE\n",
      "    Cash: 0.6000 Total Val: 1.0000 PnL: 0.0000 Returns: 0.0000\n",
      "BALANCE\n",
      "    BTC - {'free': 0.6000000000000001, 'used': 0.0, 'total': 0.6000000000000001}\n",
      "    ETH - {'free': 4.0, 'used': 0.0, 'total': 4.0}\n",
      "POSITIONS\n",
      "     {'asset': 'ETH/BTC', 'quantity': 4, 'cost_price': 0.1, 'latest_price': 0.1}\n",
      "METRICS\n",
      "    SMA: 5.00\n",
      "    RSI: 10.00\n"
     ]
    },
    {
     "name": "stdout",
     "output_type": "stream",
     "text": [
      "{'id': 'c71fab2ca3994af9873179a26b6fed91', 'asset': 'ETH/BTC', 'price': 0.1, 'quantity': 1, 'type': 'limit', 'side': 'buy', 'filled': 0.0, 'status': 'FILLED', 'fee': {}}\n"
     ]
    },
    {
     "name": "stderr",
     "output_type": "stream",
     "text": [
      "---------------------------------------\n",
      "Epoch 28 - Timestep: 2018-01-10T12:55:00\n",
      "---------------------------------------\n",
      "OHLCV\n",
      "    O: 0.0949 | C: 0.0950 | V: 388.0 | T: 2018-01-10T12:55:00\n",
      "ORDERS\n",
      "    1: ETH/BTC | LIMIT_SELL | Price: 0.1000 | Quantity: 1.0000\n",
      "PERFORMANCE\n",
      "    Cash: 0.5000 Total Val: 1.0000 PnL: 0.0000 Returns: 0.0000\n",
      "BALANCE\n",
      "    BTC - {'free': 0.5000000000000001, 'used': 0.0, 'total': 0.5000000000000001}\n",
      "    ETH - {'free': 5.0, 'used': 0.0, 'total': 5.0}\n",
      "POSITIONS\n",
      "     {'asset': 'ETH/BTC', 'quantity': 5, 'cost_price': 0.1, 'latest_price': 0.1}\n",
      "METRICS\n",
      "    SMA: 5.00\n",
      "    RSI: 10.00\n"
     ]
    },
    {
     "name": "stdout",
     "output_type": "stream",
     "text": [
      "{'id': 'e109f3e030d143948a8b2ddaea6ae90f', 'asset': 'ETH/BTC', 'price': 0.1, 'quantity': 1, 'type': 'limit', 'side': 'sell', 'filled': 0.0, 'status': 'FILLED', 'fee': {}}\n"
     ]
    },
    {
     "name": "stderr",
     "output_type": "stream",
     "text": [
      "---------------------------------------\n",
      "Epoch 29 - Timestep: 2018-01-10T12:56:00\n",
      "---------------------------------------\n",
      "OHLCV\n",
      "    O: 0.0950 | C: 0.0954 | V: 462.9 | T: 2018-01-10T12:56:00\n",
      "ORDERS\n",
      "    1: ETH/BTC | LIMIT_SELL | Price: 0.1000 | Quantity: 1.0000\n",
      "PERFORMANCE\n",
      "    Cash: 0.6000 Total Val: 1.0000 PnL: 0.0000 Returns: 0.0000\n",
      "BALANCE\n",
      "    BTC - {'free': 0.6000000000000001, 'used': 0.0, 'total': 0.6000000000000001}\n",
      "    ETH - {'free': 4.0, 'used': 0.0, 'total': 4.0}\n",
      "POSITIONS\n",
      "     {'asset': 'ETH/BTC', 'quantity': 4, 'cost_price': 0.1, 'latest_price': 0.1}\n",
      "METRICS\n",
      "    SMA: 5.00\n",
      "    RSI: 10.00\n"
     ]
    },
    {
     "name": "stdout",
     "output_type": "stream",
     "text": [
      "{'id': 'b0de0845b2b546fe9956a87f736dfe74', 'asset': 'ETH/BTC', 'price': 0.1, 'quantity': 1, 'type': 'limit', 'side': 'sell', 'filled': 0.0, 'status': 'FILLED', 'fee': {}}\n"
     ]
    },
    {
     "name": "stderr",
     "output_type": "stream",
     "text": [
      "---------------------------------------\n",
      "Epoch 30 - Timestep: 2018-01-10T12:57:00\n",
      "---------------------------------------\n",
      "OHLCV\n",
      "    O: 0.0953 | C: 0.0953 | V: 319.8 | T: 2018-01-10T12:57:00\n",
      "ORDERS\n",
      "    1: ETH/BTC | LIMIT_SELL | Price: 0.1000 | Quantity: 1.0000\n",
      "PERFORMANCE\n",
      "    Cash: 0.7000 Total Val: 1.0000 PnL: 0.0000 Returns: 0.0000\n",
      "BALANCE\n",
      "    BTC - {'free': 0.7000000000000001, 'used': 0.0, 'total': 0.7000000000000001}\n",
      "    ETH - {'free': 3.0, 'used': 0.0, 'total': 3.0}\n",
      "POSITIONS\n",
      "     {'asset': 'ETH/BTC', 'quantity': 3, 'cost_price': 0.1, 'latest_price': 0.1}\n",
      "METRICS\n",
      "    SMA: 5.00\n",
      "    RSI: 10.00\n"
     ]
    },
    {
     "name": "stdout",
     "output_type": "stream",
     "text": [
      "{'id': 'db1c9ec6c2a24e0da80959bb0670ad0d', 'asset': 'ETH/BTC', 'price': 0.1, 'quantity': 1, 'type': 'limit', 'side': 'sell', 'filled': 0.0, 'status': 'FILLED', 'fee': {}}\n"
     ]
    },
    {
     "name": "stderr",
     "output_type": "stream",
     "text": [
      "---------------------------------------\n",
      "Epoch 31 - Timestep: 2018-01-10T12:58:00\n",
      "---------------------------------------\n",
      "OHLCV\n",
      "    O: 0.0953 | C: 0.0955 | V: 342.8 | T: 2018-01-10T12:58:00\n",
      "ORDERS\n",
      "    1: ETH/BTC | LIMIT_BUY | Price: 0.1000 | Quantity: 1.0000\n",
      "PERFORMANCE\n",
      "    Cash: 0.8000 Total Val: 1.0000 PnL: 0.0000 Returns: 0.0000\n",
      "BALANCE\n",
      "    BTC - {'free': 0.8, 'used': 0.0, 'total': 0.8}\n",
      "    ETH - {'free': 2.0, 'used': 0.0, 'total': 2.0}\n",
      "POSITIONS\n",
      "     {'asset': 'ETH/BTC', 'quantity': 2, 'cost_price': 0.1, 'latest_price': 0.1}\n",
      "METRICS\n",
      "    SMA: 5.00\n",
      "    RSI: 10.00\n"
     ]
    },
    {
     "name": "stdout",
     "output_type": "stream",
     "text": [
      "{'id': 'e4fb8ba04a7344bdb2ccc7c69674fa2f', 'asset': 'ETH/BTC', 'price': 0.1, 'quantity': 1, 'type': 'limit', 'side': 'buy', 'filled': 0.0, 'status': 'FILLED', 'fee': {}}\n"
     ]
    },
    {
     "name": "stderr",
     "output_type": "stream",
     "text": [
      "---------------------------------------\n",
      "Epoch 32 - Timestep: 2018-01-10T12:59:00\n",
      "---------------------------------------\n",
      "OHLCV\n",
      "    O: 0.0955 | C: 0.0955 | V: 260.0 | T: 2018-01-10T12:59:00\n",
      "ORDERS\n",
      "    1: ETH/BTC | LIMIT_BUY | Price: 0.1000 | Quantity: 1.0000\n",
      "PERFORMANCE\n",
      "    Cash: 0.7000 Total Val: 1.0000 PnL: 0.0000 Returns: 0.0000\n",
      "BALANCE\n",
      "    BTC - {'free': 0.7000000000000001, 'used': 0.0, 'total': 0.7000000000000001}\n",
      "    ETH - {'free': 3.0, 'used': 0.0, 'total': 3.0}\n",
      "POSITIONS\n",
      "     {'asset': 'ETH/BTC', 'quantity': 3, 'cost_price': 0.10000000000000002, 'latest_price': 0.1}\n",
      "METRICS\n",
      "    SMA: 5.00\n",
      "    RSI: 10.00\n"
     ]
    },
    {
     "name": "stdout",
     "output_type": "stream",
     "text": [
      "{'id': 'bb19e44eea9a4bdca7f8586946249de7', 'asset': 'ETH/BTC', 'price': 0.1, 'quantity': 1, 'type': 'limit', 'side': 'buy', 'filled': 0.0, 'status': 'FILLED', 'fee': {}}\n"
     ]
    },
    {
     "name": "stderr",
     "output_type": "stream",
     "text": [
      "---------------------------------------\n",
      "Epoch 33 - Timestep: 2018-01-10T13:00:00\n",
      "---------------------------------------\n",
      "OHLCV\n",
      "    O: 0.0956 | C: 0.0955 | V: 362.8 | T: 2018-01-10T13:00:00\n",
      "ORDERS\n",
      "    1: ETH/BTC | LIMIT_SELL | Price: 0.1000 | Quantity: 1.0000\n",
      "PERFORMANCE\n",
      "    Cash: 0.6000 Total Val: 1.0000 PnL: 0.0000 Returns: 0.0000\n",
      "BALANCE\n",
      "    BTC - {'free': 0.6000000000000001, 'used': 0.0, 'total': 0.6000000000000001}\n",
      "    ETH - {'free': 4.0, 'used': 0.0, 'total': 4.0}\n",
      "POSITIONS\n",
      "     {'asset': 'ETH/BTC', 'quantity': 4, 'cost_price': 0.1, 'latest_price': 0.1}\n",
      "METRICS\n",
      "    SMA: 5.00\n",
      "    RSI: 10.00\n"
     ]
    },
    {
     "name": "stdout",
     "output_type": "stream",
     "text": [
      "{'id': '04ec364005c84a04a28d85d08faf2075', 'asset': 'ETH/BTC', 'price': 0.1, 'quantity': 1, 'type': 'limit', 'side': 'sell', 'filled': 0.0, 'status': 'FILLED', 'fee': {}}\n"
     ]
    },
    {
     "name": "stderr",
     "output_type": "stream",
     "text": [
      "---------------------------------------\n",
      "Epoch 34 - Timestep: 2018-01-10T13:01:00\n",
      "---------------------------------------\n",
      "OHLCV\n",
      "    O: 0.0956 | C: 0.0957 | V: 184.7 | T: 2018-01-10T13:01:00\n",
      "ORDERS\n",
      "    1: ETH/BTC | LIMIT_SELL | Price: 0.1000 | Quantity: 1.0000\n",
      "PERFORMANCE\n",
      "    Cash: 0.7000 Total Val: 1.0000 PnL: 0.0000 Returns: 0.0000\n",
      "BALANCE\n",
      "    BTC - {'free': 0.7000000000000001, 'used': 0.0, 'total': 0.7000000000000001}\n",
      "    ETH - {'free': 3.0, 'used': 0.0, 'total': 3.0}\n",
      "POSITIONS\n",
      "     {'asset': 'ETH/BTC', 'quantity': 3, 'cost_price': 0.1, 'latest_price': 0.1}\n",
      "METRICS\n",
      "    SMA: 5.00\n",
      "    RSI: 10.00\n"
     ]
    },
    {
     "name": "stdout",
     "output_type": "stream",
     "text": [
      "{'id': 'cd002e18e8404e2b9005855444b89ace', 'asset': 'ETH/BTC', 'price': 0.1, 'quantity': 1, 'type': 'limit', 'side': 'sell', 'filled': 0.0, 'status': 'FILLED', 'fee': {}}\n"
     ]
    },
    {
     "name": "stderr",
     "output_type": "stream",
     "text": [
      "---------------------------------------\n",
      "Epoch 35 - Timestep: 2018-01-10T13:02:00\n",
      "---------------------------------------\n",
      "OHLCV\n",
      "    O: 0.0957 | C: 0.0958 | V: 128.3 | T: 2018-01-10T13:02:00\n",
      "ORDERS\n",
      "    1: ETH/BTC | LIMIT_BUY | Price: 0.1000 | Quantity: 1.0000\n",
      "PERFORMANCE\n",
      "    Cash: 0.8000 Total Val: 1.0000 PnL: 0.0000 Returns: 0.0000\n",
      "BALANCE\n",
      "    BTC - {'free': 0.8, 'used': 0.0, 'total': 0.8}\n",
      "    ETH - {'free': 2.0, 'used': 0.0, 'total': 2.0}\n",
      "POSITIONS\n",
      "     {'asset': 'ETH/BTC', 'quantity': 2, 'cost_price': 0.1, 'latest_price': 0.1}\n",
      "METRICS\n",
      "    SMA: 5.00\n",
      "    RSI: 10.00\n"
     ]
    },
    {
     "name": "stdout",
     "output_type": "stream",
     "text": [
      "{'id': '5111938391bc4204a703a3ea42588370', 'asset': 'ETH/BTC', 'price': 0.1, 'quantity': 1, 'type': 'limit', 'side': 'buy', 'filled': 0.0, 'status': 'FILLED', 'fee': {}}\n"
     ]
    },
    {
     "name": "stderr",
     "output_type": "stream",
     "text": [
      "---------------------------------------\n",
      "Epoch 36 - Timestep: 2018-01-10T13:03:00\n",
      "---------------------------------------\n",
      "OHLCV\n",
      "    O: 0.0958 | C: 0.0959 | V: 150.3 | T: 2018-01-10T13:03:00\n",
      "ORDERS\n",
      "    1: ETH/BTC | LIMIT_BUY | Price: 0.1000 | Quantity: 1.0000\n",
      "PERFORMANCE\n",
      "    Cash: 0.7000 Total Val: 1.0000 PnL: 0.0000 Returns: 0.0000\n",
      "BALANCE\n",
      "    BTC - {'free': 0.7000000000000001, 'used': 0.0, 'total': 0.7000000000000001}\n",
      "    ETH - {'free': 3.0, 'used': 0.0, 'total': 3.0}\n",
      "POSITIONS\n",
      "     {'asset': 'ETH/BTC', 'quantity': 3, 'cost_price': 0.10000000000000002, 'latest_price': 0.1}\n",
      "METRICS\n",
      "    SMA: 5.00\n",
      "    RSI: 10.00\n"
     ]
    },
    {
     "name": "stdout",
     "output_type": "stream",
     "text": [
      "{'id': '86c94f0add444853bdb46b371ba9108d', 'asset': 'ETH/BTC', 'price': 0.1, 'quantity': 1, 'type': 'limit', 'side': 'buy', 'filled': 0.0, 'status': 'FILLED', 'fee': {}}\n"
     ]
    },
    {
     "name": "stderr",
     "output_type": "stream",
     "text": [
      "---------------------------------------\n",
      "Epoch 37 - Timestep: 2018-01-10T13:04:00\n",
      "---------------------------------------\n",
      "OHLCV\n",
      "    O: 0.0959 | C: 0.0959 | V: 163.7 | T: 2018-01-10T13:04:00\n",
      "ORDERS\n",
      "    1: ETH/BTC | LIMIT_BUY | Price: 0.1000 | Quantity: 1.0000\n",
      "PERFORMANCE\n",
      "    Cash: 0.6000 Total Val: 1.0000 PnL: 0.0000 Returns: 0.0000\n",
      "BALANCE\n",
      "    BTC - {'free': 0.6000000000000001, 'used': 0.0, 'total': 0.6000000000000001}\n",
      "    ETH - {'free': 4.0, 'used': 0.0, 'total': 4.0}\n",
      "POSITIONS\n",
      "     {'asset': 'ETH/BTC', 'quantity': 4, 'cost_price': 0.1, 'latest_price': 0.1}\n",
      "METRICS\n",
      "    SMA: 5.00\n",
      "    RSI: 10.00\n"
     ]
    },
    {
     "name": "stdout",
     "output_type": "stream",
     "text": [
      "{'id': 'e1e9c550e9ba4f1480fbeb2832fe4a16', 'asset': 'ETH/BTC', 'price': 0.1, 'quantity': 1, 'type': 'limit', 'side': 'buy', 'filled': 0.0, 'status': 'FILLED', 'fee': {}}\n"
     ]
    },
    {
     "name": "stderr",
     "output_type": "stream",
     "text": [
      "---------------------------------------\n",
      "Epoch 38 - Timestep: 2018-01-10T13:05:00\n",
      "---------------------------------------\n",
      "OHLCV\n",
      "    O: 0.0959 | C: 0.0959 | V: 179.3 | T: 2018-01-10T13:05:00\n",
      "ORDERS\n",
      "    1: ETH/BTC | LIMIT_BUY | Price: 0.1000 | Quantity: 1.0000\n",
      "PERFORMANCE\n",
      "    Cash: 0.5000 Total Val: 1.0000 PnL: 0.0000 Returns: 0.0000\n",
      "BALANCE\n",
      "    BTC - {'free': 0.5000000000000001, 'used': 0.0, 'total': 0.5000000000000001}\n",
      "    ETH - {'free': 5.0, 'used': 0.0, 'total': 5.0}\n",
      "POSITIONS\n",
      "     {'asset': 'ETH/BTC', 'quantity': 5, 'cost_price': 0.1, 'latest_price': 0.1}\n",
      "METRICS\n",
      "    SMA: 5.00\n",
      "    RSI: 10.00\n"
     ]
    },
    {
     "name": "stdout",
     "output_type": "stream",
     "text": [
      "{'id': '2429c987dbc84aa68bba2420a97a024e', 'asset': 'ETH/BTC', 'price': 0.1, 'quantity': 1, 'type': 'limit', 'side': 'buy', 'filled': 0.0, 'status': 'FILLED', 'fee': {}}\n"
     ]
    },
    {
     "name": "stderr",
     "output_type": "stream",
     "text": [
      "---------------------------------------\n",
      "Epoch 39 - Timestep: 2018-01-10T13:06:00\n",
      "---------------------------------------\n",
      "OHLCV\n",
      "    O: 0.0959 | C: 0.0961 | V: 278.2 | T: 2018-01-10T13:06:00\n",
      "ORDERS\n",
      "    1: ETH/BTC | LIMIT_BUY | Price: 0.1000 | Quantity: 1.0000\n",
      "PERFORMANCE\n",
      "    Cash: 0.4000 Total Val: 1.0000 PnL: 0.0000 Returns: 0.0000\n",
      "BALANCE\n",
      "    BTC - {'free': 0.40000000000000013, 'used': 0.0, 'total': 0.40000000000000013}\n",
      "    ETH - {'free': 6.0, 'used': 0.0, 'total': 6.0}\n",
      "POSITIONS\n",
      "     {'asset': 'ETH/BTC', 'quantity': 6, 'cost_price': 0.09999999999999999, 'latest_price': 0.1}\n",
      "METRICS\n",
      "    SMA: 5.00\n",
      "    RSI: 10.00\n"
     ]
    },
    {
     "name": "stdout",
     "output_type": "stream",
     "text": [
      "{'id': 'c4ff64470e24480ba241a8cefb09e4a9', 'asset': 'ETH/BTC', 'price': 0.1, 'quantity': 1, 'type': 'limit', 'side': 'buy', 'filled': 0.0, 'status': 'FILLED', 'fee': {}}\n"
     ]
    },
    {
     "name": "stderr",
     "output_type": "stream",
     "text": [
      "---------------------------------------\n",
      "Epoch 40 - Timestep: 2018-01-10T13:07:00\n",
      "---------------------------------------\n",
      "OHLCV\n",
      "    O: 0.0963 | C: 0.0960 | V: 209.2 | T: 2018-01-10T13:07:00\n",
      "ORDERS\n",
      "    1: ETH/BTC | LIMIT_BUY | Price: 0.1000 | Quantity: 1.0000\n",
      "PERFORMANCE\n",
      "    Cash: 0.3000 Total Val: 1.0000 PnL: 0.0000 Returns: 0.0000\n",
      "BALANCE\n",
      "    BTC - {'free': 0.30000000000000016, 'used': 0.0, 'total': 0.30000000000000016}\n",
      "    ETH - {'free': 7.0, 'used': 0.0, 'total': 7.0}\n",
      "POSITIONS\n",
      "     {'asset': 'ETH/BTC', 'quantity': 7, 'cost_price': 0.09999999999999999, 'latest_price': 0.1}\n",
      "METRICS\n",
      "    SMA: 5.00\n",
      "    RSI: 10.00\n"
     ]
    },
    {
     "name": "stdout",
     "output_type": "stream",
     "text": [
      "{'id': '30a462dc24814e79abb1bae27c245e5b', 'asset': 'ETH/BTC', 'price': 0.1, 'quantity': 1, 'type': 'limit', 'side': 'buy', 'filled': 0.0, 'status': 'FILLED', 'fee': {}}\n"
     ]
    },
    {
     "name": "stderr",
     "output_type": "stream",
     "text": [
      "---------------------------------------\n",
      "Epoch 41 - Timestep: 2018-01-10T13:08:00\n",
      "---------------------------------------\n",
      "OHLCV\n",
      "    O: 0.0960 | C: 0.0961 | V: 180.0 | T: 2018-01-10T13:08:00\n",
      "ORDERS\n",
      "    1: ETH/BTC | LIMIT_SELL | Price: 0.1000 | Quantity: 1.0000\n",
      "PERFORMANCE\n",
      "    Cash: 0.2000 Total Val: 1.0000 PnL: 0.0000 Returns: 0.0000\n",
      "BALANCE\n",
      "    BTC - {'free': 0.20000000000000015, 'used': 0.0, 'total': 0.20000000000000015}\n",
      "    ETH - {'free': 8.0, 'used': 0.0, 'total': 8.0}\n",
      "POSITIONS\n",
      "     {'asset': 'ETH/BTC', 'quantity': 8, 'cost_price': 0.09999999999999999, 'latest_price': 0.1}\n",
      "METRICS\n",
      "    SMA: 5.00\n",
      "    RSI: 10.00\n"
     ]
    },
    {
     "name": "stdout",
     "output_type": "stream",
     "text": [
      "{'id': '31d40ba3a6b9484991e3062edf4fd635', 'asset': 'ETH/BTC', 'price': 0.1, 'quantity': 1, 'type': 'limit', 'side': 'sell', 'filled': 0.0, 'status': 'FILLED', 'fee': {}}\n"
     ]
    },
    {
     "name": "stderr",
     "output_type": "stream",
     "text": [
      "---------------------------------------\n",
      "Epoch 42 - Timestep: 2018-01-10T13:09:00\n",
      "---------------------------------------\n",
      "OHLCV\n",
      "    O: 0.0961 | C: 0.0962 | V: 148.1 | T: 2018-01-10T13:09:00\n",
      "ORDERS\n",
      "    1: ETH/BTC | LIMIT_BUY | Price: 0.1000 | Quantity: 1.0000\n",
      "PERFORMANCE\n",
      "    Cash: 0.3000 Total Val: 1.0000 PnL: 0.0000 Returns: 0.0000\n",
      "BALANCE\n",
      "    BTC - {'free': 0.30000000000000016, 'used': 0.0, 'total': 0.30000000000000016}\n",
      "    ETH - {'free': 7.0, 'used': 0.0, 'total': 7.0}\n",
      "POSITIONS\n",
      "     {'asset': 'ETH/BTC', 'quantity': 7, 'cost_price': 0.09999999999999999, 'latest_price': 0.1}\n",
      "METRICS\n",
      "    SMA: 5.00\n",
      "    RSI: 10.00\n"
     ]
    },
    {
     "name": "stdout",
     "output_type": "stream",
     "text": [
      "{'id': 'd2e43c3e003e418b91bbaf1cbac16395', 'asset': 'ETH/BTC', 'price': 0.1, 'quantity': 1, 'type': 'limit', 'side': 'buy', 'filled': 0.0, 'status': 'FILLED', 'fee': {}}\n"
     ]
    },
    {
     "name": "stderr",
     "output_type": "stream",
     "text": [
      "---------------------------------------\n",
      "Epoch 43 - Timestep: 2018-01-10T13:10:00\n",
      "---------------------------------------\n",
      "OHLCV\n",
      "    O: 0.0962 | C: 0.0962 | V: 239.3 | T: 2018-01-10T13:10:00\n",
      "ORDERS\n",
      "    1: ETH/BTC | LIMIT_SELL | Price: 0.1000 | Quantity: 1.0000\n",
      "PERFORMANCE\n",
      "    Cash: 0.2000 Total Val: 1.0000 PnL: 0.0000 Returns: 0.0000\n",
      "BALANCE\n",
      "    BTC - {'free': 0.20000000000000015, 'used': 0.0, 'total': 0.20000000000000015}\n",
      "    ETH - {'free': 8.0, 'used': 0.0, 'total': 8.0}\n",
      "POSITIONS\n",
      "     {'asset': 'ETH/BTC', 'quantity': 8, 'cost_price': 0.09999999999999999, 'latest_price': 0.1}\n",
      "METRICS\n",
      "    SMA: 5.00\n",
      "    RSI: 10.00\n"
     ]
    },
    {
     "name": "stdout",
     "output_type": "stream",
     "text": [
      "{'id': '4bca4b5b0a584a0d8097dc5317429b68', 'asset': 'ETH/BTC', 'price': 0.1, 'quantity': 1, 'type': 'limit', 'side': 'sell', 'filled': 0.0, 'status': 'FILLED', 'fee': {}}\n"
     ]
    },
    {
     "name": "stderr",
     "output_type": "stream",
     "text": [
      "---------------------------------------\n",
      "Epoch 44 - Timestep: 2018-01-10T13:11:00\n",
      "---------------------------------------\n",
      "OHLCV\n",
      "    O: 0.0962 | C: 0.0962 | V: 209.8 | T: 2018-01-10T13:11:00\n",
      "ORDERS\n",
      "    1: ETH/BTC | LIMIT_SELL | Price: 0.1000 | Quantity: 1.0000\n",
      "PERFORMANCE\n",
      "    Cash: 0.3000 Total Val: 1.0000 PnL: 0.0000 Returns: 0.0000\n",
      "BALANCE\n",
      "    BTC - {'free': 0.30000000000000016, 'used': 0.0, 'total': 0.30000000000000016}\n",
      "    ETH - {'free': 7.0, 'used': 0.0, 'total': 7.0}\n",
      "POSITIONS\n",
      "     {'asset': 'ETH/BTC', 'quantity': 7, 'cost_price': 0.09999999999999999, 'latest_price': 0.1}\n",
      "METRICS\n",
      "    SMA: 5.00\n",
      "    RSI: 10.00\n"
     ]
    },
    {
     "name": "stdout",
     "output_type": "stream",
     "text": [
      "{'id': 'a4ef05a149f34686a469e35531afd387', 'asset': 'ETH/BTC', 'price': 0.1, 'quantity': 1, 'type': 'limit', 'side': 'sell', 'filled': 0.0, 'status': 'FILLED', 'fee': {}}\n"
     ]
    },
    {
     "name": "stderr",
     "output_type": "stream",
     "text": [
      "---------------------------------------\n",
      "Epoch 45 - Timestep: 2018-01-10T13:12:00\n",
      "---------------------------------------\n",
      "OHLCV\n",
      "    O: 0.0962 | C: 0.0963 | V: 209.1 | T: 2018-01-10T13:12:00\n",
      "ORDERS\n",
      "    1: ETH/BTC | LIMIT_SELL | Price: 0.1000 | Quantity: 1.0000\n",
      "PERFORMANCE\n",
      "    Cash: 0.4000 Total Val: 1.0000 PnL: 0.0000 Returns: 0.0000\n",
      "BALANCE\n",
      "    BTC - {'free': 0.40000000000000013, 'used': 0.0, 'total': 0.40000000000000013}\n",
      "    ETH - {'free': 6.0, 'used': 0.0, 'total': 6.0}\n",
      "POSITIONS\n",
      "     {'asset': 'ETH/BTC', 'quantity': 6, 'cost_price': 0.09999999999999999, 'latest_price': 0.1}\n",
      "METRICS\n",
      "    SMA: 5.00\n",
      "    RSI: 10.00\n"
     ]
    },
    {
     "name": "stdout",
     "output_type": "stream",
     "text": [
      "{'id': 'd02e954e47ca4bbb9e1fccde5d0d7884', 'asset': 'ETH/BTC', 'price': 0.1, 'quantity': 1, 'type': 'limit', 'side': 'sell', 'filled': 0.0, 'status': 'FILLED', 'fee': {}}\n"
     ]
    },
    {
     "name": "stderr",
     "output_type": "stream",
     "text": [
      "---------------------------------------\n",
      "Epoch 46 - Timestep: 2018-01-10T13:13:00\n",
      "---------------------------------------\n",
      "OHLCV\n",
      "    O: 0.0962 | C: 0.0962 | V: 188.2 | T: 2018-01-10T13:13:00\n",
      "ORDERS\n",
      "    1: ETH/BTC | LIMIT_BUY | Price: 0.1000 | Quantity: 1.0000\n",
      "PERFORMANCE\n",
      "    Cash: 0.5000 Total Val: 1.0000 PnL: 0.0000 Returns: 0.0000\n",
      "BALANCE\n",
      "    BTC - {'free': 0.5000000000000001, 'used': 0.0, 'total': 0.5000000000000001}\n",
      "    ETH - {'free': 5.0, 'used': 0.0, 'total': 5.0}\n",
      "POSITIONS\n",
      "     {'asset': 'ETH/BTC', 'quantity': 5, 'cost_price': 0.09999999999999999, 'latest_price': 0.1}\n",
      "METRICS\n",
      "    SMA: 5.00\n",
      "    RSI: 10.00\n"
     ]
    },
    {
     "name": "stdout",
     "output_type": "stream",
     "text": [
      "{'id': '1d5b67d02ae2417f86341aacb9b80f19', 'asset': 'ETH/BTC', 'price': 0.1, 'quantity': 1, 'type': 'limit', 'side': 'buy', 'filled': 0.0, 'status': 'FILLED', 'fee': {}}\n"
     ]
    },
    {
     "name": "stderr",
     "output_type": "stream",
     "text": [
      "---------------------------------------\n",
      "Epoch 47 - Timestep: 2018-01-10T13:14:00\n",
      "---------------------------------------\n",
      "OHLCV\n",
      "    O: 0.0962 | C: 0.0961 | V: 180.1 | T: 2018-01-10T13:14:00\n",
      "ORDERS\n",
      "    1: ETH/BTC | LIMIT_SELL | Price: 0.1000 | Quantity: 1.0000\n",
      "PERFORMANCE\n",
      "    Cash: 0.4000 Total Val: 1.0000 PnL: 0.0000 Returns: 0.0000\n",
      "BALANCE\n",
      "    BTC - {'free': 0.40000000000000013, 'used': 0.0, 'total': 0.40000000000000013}\n",
      "    ETH - {'free': 6.0, 'used': 0.0, 'total': 6.0}\n",
      "POSITIONS\n",
      "     {'asset': 'ETH/BTC', 'quantity': 6, 'cost_price': 0.09999999999999999, 'latest_price': 0.1}\n",
      "METRICS\n",
      "    SMA: 5.00\n",
      "    RSI: 10.00\n"
     ]
    },
    {
     "name": "stdout",
     "output_type": "stream",
     "text": [
      "{'id': '1b7c93b8358b47019a36d9dc67a815a1', 'asset': 'ETH/BTC', 'price': 0.1, 'quantity': 1, 'type': 'limit', 'side': 'sell', 'filled': 0.0, 'status': 'FILLED', 'fee': {}}\n"
     ]
    },
    {
     "name": "stderr",
     "output_type": "stream",
     "text": [
      "---------------------------------------\n",
      "Epoch 48 - Timestep: 2018-01-10T13:15:00\n",
      "---------------------------------------\n",
      "OHLCV\n",
      "    O: 0.0961 | C: 0.0962 | V: 168.5 | T: 2018-01-10T13:15:00\n",
      "ORDERS\n",
      "    1: ETH/BTC | LIMIT_SELL | Price: 0.1000 | Quantity: 1.0000\n",
      "PERFORMANCE\n",
      "    Cash: 0.5000 Total Val: 1.0000 PnL: 0.0000 Returns: 0.0000\n",
      "BALANCE\n",
      "    BTC - {'free': 0.5000000000000001, 'used': 0.0, 'total': 0.5000000000000001}\n",
      "    ETH - {'free': 5.0, 'used': 0.0, 'total': 5.0}\n",
      "POSITIONS\n",
      "     {'asset': 'ETH/BTC', 'quantity': 5, 'cost_price': 0.09999999999999999, 'latest_price': 0.1}\n",
      "METRICS\n",
      "    SMA: 5.00\n",
      "    RSI: 10.00\n"
     ]
    },
    {
     "name": "stdout",
     "output_type": "stream",
     "text": [
      "{'id': 'c954bcc75dd44ebe88c0ae1b5c95e9c0', 'asset': 'ETH/BTC', 'price': 0.1, 'quantity': 1, 'type': 'limit', 'side': 'sell', 'filled': 0.0, 'status': 'FILLED', 'fee': {}}\n"
     ]
    },
    {
     "name": "stderr",
     "output_type": "stream",
     "text": [
      "---------------------------------------\n",
      "Epoch 49 - Timestep: 2018-01-10T13:16:00\n",
      "---------------------------------------\n",
      "OHLCV\n",
      "    O: 0.0962 | C: 0.0961 | V: 136.5 | T: 2018-01-10T13:16:00\n",
      "ORDERS\n",
      "    1: ETH/BTC | LIMIT_SELL | Price: 0.1000 | Quantity: 1.0000\n",
      "PERFORMANCE\n",
      "    Cash: 0.6000 Total Val: 1.0000 PnL: 0.0000 Returns: 0.0000\n",
      "BALANCE\n",
      "    BTC - {'free': 0.6000000000000001, 'used': 0.0, 'total': 0.6000000000000001}\n",
      "    ETH - {'free': 4.0, 'used': 0.0, 'total': 4.0}\n",
      "POSITIONS\n",
      "     {'asset': 'ETH/BTC', 'quantity': 4, 'cost_price': 0.09999999999999999, 'latest_price': 0.1}\n",
      "METRICS\n",
      "    SMA: 5.00\n",
      "    RSI: 10.00\n"
     ]
    },
    {
     "name": "stdout",
     "output_type": "stream",
     "text": [
      "{'id': '7cc6b0af98f747afafe2aa5e93aff5ca', 'asset': 'ETH/BTC', 'price': 0.1, 'quantity': 1, 'type': 'limit', 'side': 'sell', 'filled': 0.0, 'status': 'FILLED', 'fee': {}}\n"
     ]
    },
    {
     "name": "stderr",
     "output_type": "stream",
     "text": [
      "---------------------------------------\n",
      "Epoch 50 - Timestep: 2018-01-10T13:17:00\n",
      "---------------------------------------\n",
      "OHLCV\n",
      "    O: 0.0961 | C: 0.0961 | V: 105.7 | T: 2018-01-10T13:17:00\n",
      "ORDERS\n",
      "    1: ETH/BTC | LIMIT_SELL | Price: 0.1000 | Quantity: 1.0000\n",
      "PERFORMANCE\n",
      "    Cash: 0.7000 Total Val: 1.0000 PnL: 0.0000 Returns: 0.0000\n",
      "BALANCE\n",
      "    BTC - {'free': 0.7000000000000001, 'used': 0.0, 'total': 0.7000000000000001}\n",
      "    ETH - {'free': 3.0, 'used': 0.0, 'total': 3.0}\n",
      "POSITIONS\n",
      "     {'asset': 'ETH/BTC', 'quantity': 3, 'cost_price': 0.09999999999999999, 'latest_price': 0.1}\n",
      "METRICS\n",
      "    SMA: 5.00\n",
      "    RSI: 10.00\n"
     ]
    },
    {
     "name": "stdout",
     "output_type": "stream",
     "text": [
      "{'id': '220d02fb1fdc4801b460148b8590983c', 'asset': 'ETH/BTC', 'price': 0.1, 'quantity': 1, 'type': 'limit', 'side': 'sell', 'filled': 0.0, 'status': 'FILLED', 'fee': {}}\n"
     ]
    },
    {
     "name": "stderr",
     "output_type": "stream",
     "text": [
      "---------------------------------------\n",
      "Epoch 51 - Timestep: 2018-01-10T13:18:00\n",
      "---------------------------------------\n",
      "OHLCV\n",
      "    O: 0.0961 | C: 0.0961 | V: 146.1 | T: 2018-01-10T13:18:00\n",
      "ORDERS\n",
      "    1: ETH/BTC | LIMIT_SELL | Price: 0.1000 | Quantity: 1.0000\n",
      "PERFORMANCE\n",
      "    Cash: 0.8000 Total Val: 1.0000 PnL: 0.0000 Returns: 0.0000\n",
      "BALANCE\n",
      "    BTC - {'free': 0.8, 'used': 0.0, 'total': 0.8}\n",
      "    ETH - {'free': 2.0, 'used': 0.0, 'total': 2.0}\n",
      "POSITIONS\n",
      "     {'asset': 'ETH/BTC', 'quantity': 2, 'cost_price': 0.09999999999999999, 'latest_price': 0.1}\n",
      "METRICS\n",
      "    SMA: 5.00\n",
      "    RSI: 10.00\n"
     ]
    },
    {
     "name": "stdout",
     "output_type": "stream",
     "text": [
      "{'id': '31140d5fafd640459c04a2698d29c5ad', 'asset': 'ETH/BTC', 'price': 0.1, 'quantity': 1, 'type': 'limit', 'side': 'sell', 'filled': 0.0, 'status': 'FILLED', 'fee': {}}\n"
     ]
    },
    {
     "name": "stderr",
     "output_type": "stream",
     "text": [
      "---------------------------------------\n",
      "Epoch 52 - Timestep: 2018-01-10T13:19:00\n",
      "---------------------------------------\n",
      "OHLCV\n",
      "    O: 0.0961 | C: 0.0960 | V: 405.9 | T: 2018-01-10T13:19:00\n",
      "ORDERS\n",
      "    1: ETH/BTC | LIMIT_BUY | Price: 0.1000 | Quantity: 1.0000\n",
      "PERFORMANCE\n",
      "    Cash: 0.9000 Total Val: 1.0000 PnL: 0.0000 Returns: 0.0000\n",
      "BALANCE\n",
      "    BTC - {'free': 0.9, 'used': 0.0, 'total': 0.9}\n",
      "    ETH - {'free': 1.0, 'used': 0.0, 'total': 1.0}\n",
      "POSITIONS\n",
      "     {'asset': 'ETH/BTC', 'quantity': 1, 'cost_price': 0.09999999999999999, 'latest_price': 0.1}\n",
      "METRICS\n",
      "    SMA: 5.00\n",
      "    RSI: 10.00\n"
     ]
    },
    {
     "name": "stdout",
     "output_type": "stream",
     "text": [
      "{'id': 'f1e38122d0e3437b92a4fd40d4f6422d', 'asset': 'ETH/BTC', 'price': 0.1, 'quantity': 1, 'type': 'limit', 'side': 'buy', 'filled': 0.0, 'status': 'FILLED', 'fee': {}}\n"
     ]
    },
    {
     "name": "stderr",
     "output_type": "stream",
     "text": [
      "---------------------------------------\n",
      "Epoch 53 - Timestep: 2018-01-10T13:20:00\n",
      "---------------------------------------\n",
      "OHLCV\n",
      "    O: 0.0961 | C: 0.0961 | V: 161.7 | T: 2018-01-10T13:20:00\n",
      "ORDERS\n",
      "    1: ETH/BTC | LIMIT_BUY | Price: 0.1000 | Quantity: 1.0000\n",
      "PERFORMANCE\n",
      "    Cash: 0.8000 Total Val: 1.0000 PnL: 0.0000 Returns: 0.0000\n",
      "BALANCE\n",
      "    BTC - {'free': 0.8, 'used': 0.0, 'total': 0.8}\n",
      "    ETH - {'free': 2.0, 'used': 0.0, 'total': 2.0}\n",
      "POSITIONS\n",
      "     {'asset': 'ETH/BTC', 'quantity': 2, 'cost_price': 0.1, 'latest_price': 0.1}\n",
      "METRICS\n",
      "    SMA: 5.00\n",
      "    RSI: 10.00\n"
     ]
    },
    {
     "name": "stdout",
     "output_type": "stream",
     "text": [
      "{'id': '4280affdcd944c4ea2dcc6b9ae1cd94e', 'asset': 'ETH/BTC', 'price': 0.1, 'quantity': 1, 'type': 'limit', 'side': 'buy', 'filled': 0.0, 'status': 'FILLED', 'fee': {}}\n"
     ]
    },
    {
     "name": "stderr",
     "output_type": "stream",
     "text": [
      "---------------------------------------\n",
      "Epoch 54 - Timestep: 2018-01-10T13:21:00\n",
      "---------------------------------------\n",
      "OHLCV\n",
      "    O: 0.0961 | C: 0.0960 | V: 183.7 | T: 2018-01-10T13:21:00\n",
      "ORDERS\n",
      "    1: ETH/BTC | LIMIT_BUY | Price: 0.1000 | Quantity: 1.0000\n",
      "PERFORMANCE\n",
      "    Cash: 0.7000 Total Val: 1.0000 PnL: 0.0000 Returns: 0.0000\n",
      "BALANCE\n",
      "    BTC - {'free': 0.7000000000000001, 'used': 0.0, 'total': 0.7000000000000001}\n",
      "    ETH - {'free': 3.0, 'used': 0.0, 'total': 3.0}\n",
      "POSITIONS\n",
      "     {'asset': 'ETH/BTC', 'quantity': 3, 'cost_price': 0.10000000000000002, 'latest_price': 0.1}\n",
      "METRICS\n",
      "    SMA: 5.00\n",
      "    RSI: 10.00\n"
     ]
    },
    {
     "name": "stdout",
     "output_type": "stream",
     "text": [
      "{'id': '3fc18350fadb4061b02f517a3b707085', 'asset': 'ETH/BTC', 'price': 0.1, 'quantity': 1, 'type': 'limit', 'side': 'buy', 'filled': 0.0, 'status': 'FILLED', 'fee': {}}\n"
     ]
    },
    {
     "name": "stderr",
     "output_type": "stream",
     "text": [
      "---------------------------------------\n",
      "Epoch 55 - Timestep: 2018-01-10T13:22:00\n",
      "---------------------------------------\n",
      "OHLCV\n",
      "    O: 0.0960 | C: 0.0959 | V: 154.1 | T: 2018-01-10T13:22:00\n",
      "ORDERS\n",
      "    1: ETH/BTC | LIMIT_BUY | Price: 0.1000 | Quantity: 1.0000\n",
      "PERFORMANCE\n",
      "    Cash: 0.6000 Total Val: 1.0000 PnL: 0.0000 Returns: 0.0000\n",
      "BALANCE\n",
      "    BTC - {'free': 0.6000000000000001, 'used': 0.0, 'total': 0.6000000000000001}\n",
      "    ETH - {'free': 4.0, 'used': 0.0, 'total': 4.0}\n",
      "POSITIONS\n",
      "     {'asset': 'ETH/BTC', 'quantity': 4, 'cost_price': 0.1, 'latest_price': 0.1}\n",
      "METRICS\n",
      "    SMA: 5.00\n",
      "    RSI: 10.00\n"
     ]
    },
    {
     "name": "stdout",
     "output_type": "stream",
     "text": [
      "{'id': '03c6aa0df21649009e7ec3351cccf086', 'asset': 'ETH/BTC', 'price': 0.1, 'quantity': 1, 'type': 'limit', 'side': 'buy', 'filled': 0.0, 'status': 'FILLED', 'fee': {}}\n"
     ]
    },
    {
     "name": "stderr",
     "output_type": "stream",
     "text": [
      "---------------------------------------\n",
      "Epoch 56 - Timestep: 2018-01-10T13:23:00\n",
      "---------------------------------------\n",
      "OHLCV\n",
      "    O: 0.0960 | C: 0.0961 | V: 143.5 | T: 2018-01-10T13:23:00\n",
      "ORDERS\n",
      "    1: ETH/BTC | LIMIT_BUY | Price: 0.1000 | Quantity: 1.0000\n",
      "PERFORMANCE\n",
      "    Cash: 0.5000 Total Val: 1.0000 PnL: 0.0000 Returns: 0.0000\n",
      "BALANCE\n",
      "    BTC - {'free': 0.5000000000000001, 'used': 0.0, 'total': 0.5000000000000001}\n",
      "    ETH - {'free': 5.0, 'used': 0.0, 'total': 5.0}\n",
      "POSITIONS\n",
      "     {'asset': 'ETH/BTC', 'quantity': 5, 'cost_price': 0.1, 'latest_price': 0.1}\n",
      "METRICS\n",
      "    SMA: 5.00\n",
      "    RSI: 10.00\n"
     ]
    },
    {
     "name": "stdout",
     "output_type": "stream",
     "text": [
      "{'id': 'd0556afa0e3f4d3d8dc0023118688485', 'asset': 'ETH/BTC', 'price': 0.1, 'quantity': 1, 'type': 'limit', 'side': 'buy', 'filled': 0.0, 'status': 'FILLED', 'fee': {}}\n"
     ]
    },
    {
     "name": "stderr",
     "output_type": "stream",
     "text": [
      "---------------------------------------\n",
      "Epoch 57 - Timestep: 2018-01-10T13:24:00\n",
      "---------------------------------------\n",
      "OHLCV\n",
      "    O: 0.0961 | C: 0.0960 | V: 178.2 | T: 2018-01-10T13:24:00\n",
      "ORDERS\n",
      "    1: ETH/BTC | LIMIT_BUY | Price: 0.1000 | Quantity: 1.0000\n",
      "PERFORMANCE\n",
      "    Cash: 0.4000 Total Val: 1.0000 PnL: 0.0000 Returns: 0.0000\n",
      "BALANCE\n",
      "    BTC - {'free': 0.40000000000000013, 'used': 0.0, 'total': 0.40000000000000013}\n",
      "    ETH - {'free': 6.0, 'used': 0.0, 'total': 6.0}\n",
      "POSITIONS\n",
      "     {'asset': 'ETH/BTC', 'quantity': 6, 'cost_price': 0.09999999999999999, 'latest_price': 0.1}\n",
      "METRICS\n",
      "    SMA: 5.00\n",
      "    RSI: 10.00\n"
     ]
    },
    {
     "name": "stdout",
     "output_type": "stream",
     "text": [
      "{'id': '54bff0ba286845e8b139c068a631e296', 'asset': 'ETH/BTC', 'price': 0.1, 'quantity': 1, 'type': 'limit', 'side': 'buy', 'filled': 0.0, 'status': 'FILLED', 'fee': {}}\n"
     ]
    },
    {
     "name": "stderr",
     "output_type": "stream",
     "text": [
      "---------------------------------------\n",
      "Epoch 58 - Timestep: 2018-01-10T13:25:00\n",
      "---------------------------------------\n",
      "OHLCV\n",
      "    O: 0.0960 | C: 0.0961 | V: 136.7 | T: 2018-01-10T13:25:00\n",
      "ORDERS\n",
      "    1: ETH/BTC | LIMIT_BUY | Price: 0.1000 | Quantity: 1.0000\n",
      "PERFORMANCE\n",
      "    Cash: 0.3000 Total Val: 1.0000 PnL: 0.0000 Returns: 0.0000\n",
      "BALANCE\n",
      "    BTC - {'free': 0.30000000000000016, 'used': 0.0, 'total': 0.30000000000000016}\n",
      "    ETH - {'free': 7.0, 'used': 0.0, 'total': 7.0}\n",
      "POSITIONS\n",
      "     {'asset': 'ETH/BTC', 'quantity': 7, 'cost_price': 0.09999999999999999, 'latest_price': 0.1}\n",
      "METRICS\n",
      "    SMA: 5.00\n",
      "    RSI: 10.00\n"
     ]
    },
    {
     "name": "stdout",
     "output_type": "stream",
     "text": [
      "{'id': '493a3a58beac42cba7aaf9044441e917', 'asset': 'ETH/BTC', 'price': 0.1, 'quantity': 1, 'type': 'limit', 'side': 'buy', 'filled': 0.0, 'status': 'FILLED', 'fee': {}}\n"
     ]
    },
    {
     "name": "stderr",
     "output_type": "stream",
     "text": [
      "---------------------------------------\n",
      "Epoch 59 - Timestep: 2018-01-10T13:26:00\n",
      "---------------------------------------\n",
      "OHLCV\n",
      "    O: 0.0961 | C: 0.0960 | V: 97.9 | T: 2018-01-10T13:26:00\n",
      "ORDERS\n",
      "    1: ETH/BTC | LIMIT_BUY | Price: 0.1000 | Quantity: 1.0000\n",
      "PERFORMANCE\n",
      "    Cash: 0.2000 Total Val: 1.0000 PnL: 0.0000 Returns: 0.0000\n",
      "BALANCE\n",
      "    BTC - {'free': 0.20000000000000015, 'used': 0.0, 'total': 0.20000000000000015}\n",
      "    ETH - {'free': 8.0, 'used': 0.0, 'total': 8.0}\n",
      "POSITIONS\n",
      "     {'asset': 'ETH/BTC', 'quantity': 8, 'cost_price': 0.09999999999999999, 'latest_price': 0.1}\n",
      "METRICS\n",
      "    SMA: 5.00\n",
      "    RSI: 10.00\n"
     ]
    },
    {
     "name": "stdout",
     "output_type": "stream",
     "text": [
      "{'id': 'b5cc65a352a74e80a6e7901edcb5ec1b', 'asset': 'ETH/BTC', 'price': 0.1, 'quantity': 1, 'type': 'limit', 'side': 'buy', 'filled': 0.0, 'status': 'FILLED', 'fee': {}}\n"
     ]
    },
    {
     "name": "stderr",
     "output_type": "stream",
     "text": [
      "---------------------------------------\n",
      "Epoch 60 - Timestep: 2018-01-10T13:27:00\n",
      "---------------------------------------\n",
      "OHLCV\n",
      "    O: 0.0960 | C: 0.0960 | V: 214.0 | T: 2018-01-10T13:27:00\n",
      "ORDERS\n",
      "    1: ETH/BTC | LIMIT_BUY | Price: 0.1000 | Quantity: 1.0000\n",
      "PERFORMANCE\n",
      "    Cash: 0.1000 Total Val: 1.0000 PnL: 0.0000 Returns: 0.0000\n",
      "BALANCE\n",
      "    BTC - {'free': 0.10000000000000014, 'used': 0.0, 'total': 0.10000000000000014}\n",
      "    ETH - {'free': 9.0, 'used': 0.0, 'total': 9.0}\n",
      "POSITIONS\n",
      "     {'asset': 'ETH/BTC', 'quantity': 9, 'cost_price': 0.09999999999999999, 'latest_price': 0.1}\n",
      "METRICS\n",
      "    SMA: 5.00\n",
      "    RSI: 10.00\n"
     ]
    },
    {
     "name": "stdout",
     "output_type": "stream",
     "text": [
      "{'id': '6b347b64e5ce470c99c3f58b56739d95', 'asset': 'ETH/BTC', 'price': 0.1, 'quantity': 1, 'type': 'limit', 'side': 'buy', 'filled': 0.0, 'status': 'FILLED', 'fee': {}}\n"
     ]
    },
    {
     "name": "stderr",
     "output_type": "stream",
     "text": [
      "---------------------------------------\n",
      "Epoch 61 - Timestep: 2018-01-10T13:28:00\n",
      "---------------------------------------\n",
      "OHLCV\n",
      "    O: 0.0960 | C: 0.0960 | V: 273.3 | T: 2018-01-10T13:28:00\n",
      "ORDERS\n",
      "    1: ETH/BTC | LIMIT_SELL | Price: 0.1000 | Quantity: 1.0000\n",
      "PERFORMANCE\n",
      "    Cash: 0.0000 Total Val: 1.0000 PnL: 0.0000 Returns: 0.0000\n",
      "BALANCE\n",
      "    BTC - {'free': 1.3877787807814457e-16, 'used': 0.0, 'total': 1.3877787807814457e-16}\n",
      "    ETH - {'free': 10.0, 'used': 0.0, 'total': 10.0}\n",
      "POSITIONS\n",
      "     {'asset': 'ETH/BTC', 'quantity': 10, 'cost_price': 0.09999999999999999, 'latest_price': 0.1}\n",
      "METRICS\n",
      "    SMA: 5.00\n",
      "    RSI: 10.00\n"
     ]
    },
    {
     "name": "stdout",
     "output_type": "stream",
     "text": [
      "{'id': 'f1dd112d3ac44241a7b7a73a75131b8a', 'asset': 'ETH/BTC', 'price': 0.1, 'quantity': 1, 'type': 'limit', 'side': 'sell', 'filled': 0.0, 'status': 'FILLED', 'fee': {}}\n"
     ]
    },
    {
     "name": "stderr",
     "output_type": "stream",
     "text": [
      "---------------------------------------\n",
      "Epoch 62 - Timestep: 2018-01-10T13:29:00\n",
      "---------------------------------------\n",
      "OHLCV\n",
      "    O: 0.0959 | C: 0.0959 | V: 126.1 | T: 2018-01-10T13:29:00\n",
      "ORDERS\n",
      "    1: ETH/BTC | LIMIT_BUY | Price: 0.1000 | Quantity: 1.0000\n",
      "PERFORMANCE\n",
      "    Cash: 0.1000 Total Val: 1.0000 PnL: 0.0000 Returns: 0.0000\n",
      "BALANCE\n",
      "    BTC - {'free': 0.10000000000000014, 'used': 0.0, 'total': 0.10000000000000014}\n",
      "    ETH - {'free': 9.0, 'used': 0.0, 'total': 9.0}\n",
      "POSITIONS\n",
      "     {'asset': 'ETH/BTC', 'quantity': 9, 'cost_price': 0.09999999999999999, 'latest_price': 0.1}\n",
      "METRICS\n",
      "    SMA: 5.00\n",
      "    RSI: 10.00\n"
     ]
    },
    {
     "name": "stdout",
     "output_type": "stream",
     "text": [
      "{'id': 'd88d2275431e4874ab2507a375b250a2', 'asset': 'ETH/BTC', 'price': 0.1, 'quantity': 1, 'type': 'limit', 'side': 'buy', 'filled': 0.0, 'status': 'FILLED', 'fee': {}}\n"
     ]
    },
    {
     "name": "stderr",
     "output_type": "stream",
     "text": [
      "---------------------------------------\n",
      "Epoch 63 - Timestep: 2018-01-10T13:30:00\n",
      "---------------------------------------\n",
      "OHLCV\n",
      "    O: 0.0959 | C: 0.0959 | V: 194.5 | T: 2018-01-10T13:30:00\n",
      "ORDERS\n",
      "    1: ETH/BTC | LIMIT_BUY | Price: 0.1000 | Quantity: 1.0000\n",
      "PERFORMANCE\n",
      "    Cash: 0.0000 Total Val: 1.0000 PnL: 0.0000 Returns: 0.0000\n",
      "BALANCE\n",
      "    BTC - {'free': 1.3877787807814457e-16, 'used': 0.0, 'total': 1.3877787807814457e-16}\n",
      "    ETH - {'free': 10.0, 'used': 0.0, 'total': 10.0}\n",
      "POSITIONS\n",
      "     {'asset': 'ETH/BTC', 'quantity': 10, 'cost_price': 0.09999999999999999, 'latest_price': 0.1}\n",
      "METRICS\n",
      "    SMA: 5.00\n",
      "    RSI: 10.00\n"
     ]
    },
    {
     "name": "stdout",
     "output_type": "stream",
     "text": [
      "Balance is not sufficient to create order!\n"
     ]
    },
    {
     "name": "stderr",
     "output_type": "stream",
     "text": [
      "---------------------------------------\n",
      "Epoch 64 - Timestep: 2018-01-10T13:31:00\n",
      "---------------------------------------\n",
      "OHLCV\n",
      "    O: 0.0959 | C: 0.0962 | V: 185.9 | T: 2018-01-10T13:31:00\n",
      "ORDERS\n",
      "    1: ETH/BTC | LIMIT_BUY | Price: 0.1000 | Quantity: 1.0000\n",
      "PERFORMANCE\n",
      "    Cash: 0.0000 Total Val: 1.0000 PnL: 0.0000 Returns: 0.0000\n",
      "BALANCE\n",
      "    BTC - {'free': 1.3877787807814457e-16, 'used': 0.0, 'total': 1.3877787807814457e-16}\n",
      "    ETH - {'free': 10.0, 'used': 0.0, 'total': 10.0}\n",
      "POSITIONS\n",
      "     {'asset': 'ETH/BTC', 'quantity': 10, 'cost_price': 0.09999999999999999, 'latest_price': 0.1}\n",
      "METRICS\n",
      "    SMA: 5.00\n",
      "    RSI: 10.00\n"
     ]
    },
    {
     "name": "stdout",
     "output_type": "stream",
     "text": [
      "Balance is not sufficient to create order!\n"
     ]
    },
    {
     "name": "stderr",
     "output_type": "stream",
     "text": [
      "---------------------------------------\n",
      "Epoch 65 - Timestep: 2018-01-10T13:32:00\n",
      "---------------------------------------\n",
      "OHLCV\n",
      "    O: 0.0962 | C: 0.0961 | V: 341.5 | T: 2018-01-10T13:32:00\n",
      "ORDERS\n",
      "    1: ETH/BTC | LIMIT_SELL | Price: 0.1000 | Quantity: 1.0000\n",
      "PERFORMANCE\n",
      "    Cash: 0.0000 Total Val: 1.0000 PnL: 0.0000 Returns: 0.0000\n",
      "BALANCE\n",
      "    BTC - {'free': 1.3877787807814457e-16, 'used': 0.0, 'total': 1.3877787807814457e-16}\n",
      "    ETH - {'free': 10.0, 'used': 0.0, 'total': 10.0}\n",
      "POSITIONS\n",
      "     {'asset': 'ETH/BTC', 'quantity': 10, 'cost_price': 0.09999999999999999, 'latest_price': 0.1}\n",
      "METRICS\n",
      "    SMA: 5.00\n",
      "    RSI: 10.00\n"
     ]
    },
    {
     "name": "stdout",
     "output_type": "stream",
     "text": [
      "{'id': 'eb459ed4d9ea4ad7aa92bb6f06beb754', 'asset': 'ETH/BTC', 'price': 0.1, 'quantity': 1, 'type': 'limit', 'side': 'sell', 'filled': 0.0, 'status': 'FILLED', 'fee': {}}\n"
     ]
    },
    {
     "name": "stderr",
     "output_type": "stream",
     "text": [
      "---------------------------------------\n",
      "Epoch 66 - Timestep: 2018-01-10T13:33:00\n",
      "---------------------------------------\n",
      "OHLCV\n",
      "    O: 0.0961 | C: 0.0961 | V: 318.1 | T: 2018-01-10T13:33:00\n",
      "ORDERS\n",
      "    1: ETH/BTC | LIMIT_SELL | Price: 0.1000 | Quantity: 1.0000\n",
      "PERFORMANCE\n",
      "    Cash: 0.1000 Total Val: 1.0000 PnL: 0.0000 Returns: 0.0000\n",
      "BALANCE\n",
      "    BTC - {'free': 0.10000000000000014, 'used': 0.0, 'total': 0.10000000000000014}\n",
      "    ETH - {'free': 9.0, 'used': 0.0, 'total': 9.0}\n",
      "POSITIONS\n",
      "     {'asset': 'ETH/BTC', 'quantity': 9, 'cost_price': 0.09999999999999999, 'latest_price': 0.1}\n",
      "METRICS\n",
      "    SMA: 5.00\n",
      "    RSI: 10.00\n"
     ]
    },
    {
     "name": "stdout",
     "output_type": "stream",
     "text": [
      "{'id': '3ab8e1da4e124fc4a9515735c60bf187', 'asset': 'ETH/BTC', 'price': 0.1, 'quantity': 1, 'type': 'limit', 'side': 'sell', 'filled': 0.0, 'status': 'FILLED', 'fee': {}}\n"
     ]
    },
    {
     "name": "stderr",
     "output_type": "stream",
     "text": [
      "---------------------------------------\n",
      "Epoch 67 - Timestep: 2018-01-10T13:34:00\n",
      "---------------------------------------\n",
      "OHLCV\n",
      "    O: 0.0961 | C: 0.0962 | V: 181.9 | T: 2018-01-10T13:34:00\n",
      "ORDERS\n",
      "    1: ETH/BTC | LIMIT_BUY | Price: 0.1000 | Quantity: 1.0000\n",
      "PERFORMANCE\n",
      "    Cash: 0.2000 Total Val: 1.0000 PnL: 0.0000 Returns: 0.0000\n",
      "BALANCE\n",
      "    BTC - {'free': 0.20000000000000015, 'used': 0.0, 'total': 0.20000000000000015}\n",
      "    ETH - {'free': 8.0, 'used': 0.0, 'total': 8.0}\n",
      "POSITIONS\n",
      "     {'asset': 'ETH/BTC', 'quantity': 8, 'cost_price': 0.09999999999999999, 'latest_price': 0.1}\n",
      "METRICS\n",
      "    SMA: 5.00\n",
      "    RSI: 10.00\n"
     ]
    },
    {
     "name": "stdout",
     "output_type": "stream",
     "text": [
      "{'id': '6f667f6d5d9441b8963b34256474d798', 'asset': 'ETH/BTC', 'price': 0.1, 'quantity': 1, 'type': 'limit', 'side': 'buy', 'filled': 0.0, 'status': 'FILLED', 'fee': {}}\n"
     ]
    },
    {
     "name": "stderr",
     "output_type": "stream",
     "text": [
      "---------------------------------------\n",
      "Epoch 68 - Timestep: 2018-01-10T13:35:00\n",
      "---------------------------------------\n",
      "OHLCV\n",
      "    O: 0.0962 | C: 0.0960 | V: 323.4 | T: 2018-01-10T13:35:00\n",
      "ORDERS\n",
      "    1: ETH/BTC | LIMIT_SELL | Price: 0.1000 | Quantity: 1.0000\n",
      "PERFORMANCE\n",
      "    Cash: 0.1000 Total Val: 1.0000 PnL: 0.0000 Returns: 0.0000\n",
      "BALANCE\n",
      "    BTC - {'free': 0.10000000000000014, 'used': 0.0, 'total': 0.10000000000000014}\n",
      "    ETH - {'free': 9.0, 'used': 0.0, 'total': 9.0}\n",
      "POSITIONS\n",
      "     {'asset': 'ETH/BTC', 'quantity': 9, 'cost_price': 0.09999999999999999, 'latest_price': 0.1}\n",
      "METRICS\n",
      "    SMA: 5.00\n",
      "    RSI: 10.00\n"
     ]
    },
    {
     "name": "stdout",
     "output_type": "stream",
     "text": [
      "{'id': '8874728a3bc84a6bbacb83d1c9121c18', 'asset': 'ETH/BTC', 'price': 0.1, 'quantity': 1, 'type': 'limit', 'side': 'sell', 'filled': 0.0, 'status': 'FILLED', 'fee': {}}\n"
     ]
    },
    {
     "name": "stderr",
     "output_type": "stream",
     "text": [
      "---------------------------------------\n",
      "Epoch 69 - Timestep: 2018-01-10T13:36:00\n",
      "---------------------------------------\n",
      "OHLCV\n",
      "    O: 0.0960 | C: 0.0960 | V: 248.1 | T: 2018-01-10T13:36:00\n",
      "ORDERS\n",
      "    1: ETH/BTC | LIMIT_SELL | Price: 0.1000 | Quantity: 1.0000\n",
      "PERFORMANCE\n",
      "    Cash: 0.2000 Total Val: 1.0000 PnL: 0.0000 Returns: 0.0000\n",
      "BALANCE\n",
      "    BTC - {'free': 0.20000000000000015, 'used': 0.0, 'total': 0.20000000000000015}\n",
      "    ETH - {'free': 8.0, 'used': 0.0, 'total': 8.0}\n",
      "POSITIONS\n",
      "     {'asset': 'ETH/BTC', 'quantity': 8, 'cost_price': 0.09999999999999999, 'latest_price': 0.1}\n",
      "METRICS\n",
      "    SMA: 5.00\n",
      "    RSI: 10.00\n"
     ]
    },
    {
     "name": "stdout",
     "output_type": "stream",
     "text": [
      "{'id': '43bca89d2ad545d799dd8c86127efcee', 'asset': 'ETH/BTC', 'price': 0.1, 'quantity': 1, 'type': 'limit', 'side': 'sell', 'filled': 0.0, 'status': 'FILLED', 'fee': {}}\n"
     ]
    },
    {
     "name": "stderr",
     "output_type": "stream",
     "text": [
      "---------------------------------------\n",
      "Epoch 70 - Timestep: 2018-01-10T13:37:00\n",
      "---------------------------------------\n",
      "OHLCV\n",
      "    O: 0.0960 | C: 0.0960 | V: 477.9 | T: 2018-01-10T13:37:00\n",
      "ORDERS\n",
      "    1: ETH/BTC | LIMIT_SELL | Price: 0.1000 | Quantity: 1.0000\n",
      "PERFORMANCE\n",
      "    Cash: 0.3000 Total Val: 1.0000 PnL: 0.0000 Returns: 0.0000\n",
      "BALANCE\n",
      "    BTC - {'free': 0.30000000000000016, 'used': 0.0, 'total': 0.30000000000000016}\n",
      "    ETH - {'free': 7.0, 'used': 0.0, 'total': 7.0}\n",
      "POSITIONS\n",
      "     {'asset': 'ETH/BTC', 'quantity': 7, 'cost_price': 0.09999999999999999, 'latest_price': 0.1}\n",
      "METRICS\n",
      "    SMA: 5.00\n",
      "    RSI: 10.00\n"
     ]
    },
    {
     "name": "stdout",
     "output_type": "stream",
     "text": [
      "{'id': 'aba6fa29f1fe4e01a09e059eb81194b1', 'asset': 'ETH/BTC', 'price': 0.1, 'quantity': 1, 'type': 'limit', 'side': 'sell', 'filled': 0.0, 'status': 'FILLED', 'fee': {}}\n"
     ]
    },
    {
     "name": "stderr",
     "output_type": "stream",
     "text": [
      "---------------------------------------\n",
      "Epoch 71 - Timestep: 2018-01-10T13:38:00\n",
      "---------------------------------------\n",
      "OHLCV\n",
      "    O: 0.0961 | C: 0.0963 | V: 365.9 | T: 2018-01-10T13:38:00\n",
      "ORDERS\n",
      "    1: ETH/BTC | LIMIT_BUY | Price: 0.1000 | Quantity: 1.0000\n",
      "PERFORMANCE\n",
      "    Cash: 0.4000 Total Val: 1.0000 PnL: 0.0000 Returns: 0.0000\n",
      "BALANCE\n",
      "    BTC - {'free': 0.40000000000000013, 'used': 0.0, 'total': 0.40000000000000013}\n",
      "    ETH - {'free': 6.0, 'used': 0.0, 'total': 6.0}\n",
      "POSITIONS\n",
      "     {'asset': 'ETH/BTC', 'quantity': 6, 'cost_price': 0.09999999999999999, 'latest_price': 0.1}\n",
      "METRICS\n",
      "    SMA: 5.00\n",
      "    RSI: 10.00\n"
     ]
    },
    {
     "name": "stdout",
     "output_type": "stream",
     "text": [
      "{'id': '5c99190aaf6a4eedba5a9bac0cd92a6c', 'asset': 'ETH/BTC', 'price': 0.1, 'quantity': 1, 'type': 'limit', 'side': 'buy', 'filled': 0.0, 'status': 'FILLED', 'fee': {}}\n"
     ]
    },
    {
     "name": "stderr",
     "output_type": "stream",
     "text": [
      "---------------------------------------\n",
      "Epoch 72 - Timestep: 2018-01-10T13:39:00\n",
      "---------------------------------------\n",
      "OHLCV\n",
      "    O: 0.0964 | C: 0.0963 | V: 250.8 | T: 2018-01-10T13:39:00\n",
      "ORDERS\n",
      "    1: ETH/BTC | LIMIT_BUY | Price: 0.1000 | Quantity: 1.0000\n",
      "PERFORMANCE\n",
      "    Cash: 0.3000 Total Val: 1.0000 PnL: 0.0000 Returns: 0.0000\n",
      "BALANCE\n",
      "    BTC - {'free': 0.30000000000000016, 'used': 0.0, 'total': 0.30000000000000016}\n",
      "    ETH - {'free': 7.0, 'used': 0.0, 'total': 7.0}\n",
      "POSITIONS\n",
      "     {'asset': 'ETH/BTC', 'quantity': 7, 'cost_price': 0.09999999999999999, 'latest_price': 0.1}\n",
      "METRICS\n",
      "    SMA: 5.00\n",
      "    RSI: 10.00\n"
     ]
    },
    {
     "name": "stdout",
     "output_type": "stream",
     "text": [
      "{'id': 'cba71cc8109f4b40afe4bd40f1c3d679', 'asset': 'ETH/BTC', 'price': 0.1, 'quantity': 1, 'type': 'limit', 'side': 'buy', 'filled': 0.0, 'status': 'FILLED', 'fee': {}}\n"
     ]
    },
    {
     "name": "stderr",
     "output_type": "stream",
     "text": [
      "---------------------------------------\n",
      "Epoch 73 - Timestep: 2018-01-10T13:40:00\n",
      "---------------------------------------\n",
      "OHLCV\n",
      "    O: 0.0962 | C: 0.0962 | V: 509.0 | T: 2018-01-10T13:40:00\n",
      "ORDERS\n",
      "    1: ETH/BTC | LIMIT_SELL | Price: 0.1000 | Quantity: 1.0000\n",
      "PERFORMANCE\n",
      "    Cash: 0.2000 Total Val: 1.0000 PnL: 0.0000 Returns: 0.0000\n",
      "BALANCE\n",
      "    BTC - {'free': 0.20000000000000015, 'used': 0.0, 'total': 0.20000000000000015}\n",
      "    ETH - {'free': 8.0, 'used': 0.0, 'total': 8.0}\n",
      "POSITIONS\n",
      "     {'asset': 'ETH/BTC', 'quantity': 8, 'cost_price': 0.09999999999999999, 'latest_price': 0.1}\n",
      "METRICS\n",
      "    SMA: 5.00\n",
      "    RSI: 10.00\n"
     ]
    },
    {
     "name": "stdout",
     "output_type": "stream",
     "text": [
      "{'id': 'b455473b8e6c41da8beffb3bdc8ed38a', 'asset': 'ETH/BTC', 'price': 0.1, 'quantity': 1, 'type': 'limit', 'side': 'sell', 'filled': 0.0, 'status': 'FILLED', 'fee': {}}\n"
     ]
    },
    {
     "name": "stderr",
     "output_type": "stream",
     "text": [
      "---------------------------------------\n",
      "Epoch 74 - Timestep: 2018-01-10T13:41:00\n",
      "---------------------------------------\n",
      "OHLCV\n",
      "    O: 0.0962 | C: 0.0962 | V: 239.0 | T: 2018-01-10T13:41:00\n",
      "ORDERS\n",
      "    1: ETH/BTC | LIMIT_BUY | Price: 0.1000 | Quantity: 1.0000\n",
      "PERFORMANCE\n",
      "    Cash: 0.3000 Total Val: 1.0000 PnL: 0.0000 Returns: 0.0000\n",
      "BALANCE\n",
      "    BTC - {'free': 0.30000000000000016, 'used': 0.0, 'total': 0.30000000000000016}\n",
      "    ETH - {'free': 7.0, 'used': 0.0, 'total': 7.0}\n",
      "POSITIONS\n",
      "     {'asset': 'ETH/BTC', 'quantity': 7, 'cost_price': 0.09999999999999999, 'latest_price': 0.1}\n",
      "METRICS\n",
      "    SMA: 5.00\n",
      "    RSI: 10.00\n"
     ]
    },
    {
     "name": "stdout",
     "output_type": "stream",
     "text": [
      "{'id': '9b2fb377eafb4340bc8013d758fead28', 'asset': 'ETH/BTC', 'price': 0.1, 'quantity': 1, 'type': 'limit', 'side': 'buy', 'filled': 0.0, 'status': 'FILLED', 'fee': {}}\n"
     ]
    },
    {
     "name": "stderr",
     "output_type": "stream",
     "text": [
      "---------------------------------------\n",
      "Epoch 75 - Timestep: 2018-01-10T13:42:00\n",
      "---------------------------------------\n",
      "OHLCV\n",
      "    O: 0.0962 | C: 0.0964 | V: 371.2 | T: 2018-01-10T13:42:00\n",
      "ORDERS\n",
      "    1: ETH/BTC | LIMIT_BUY | Price: 0.1000 | Quantity: 1.0000\n",
      "PERFORMANCE\n",
      "    Cash: 0.2000 Total Val: 1.0000 PnL: 0.0000 Returns: 0.0000\n",
      "BALANCE\n",
      "    BTC - {'free': 0.20000000000000015, 'used': 0.0, 'total': 0.20000000000000015}\n",
      "    ETH - {'free': 8.0, 'used': 0.0, 'total': 8.0}\n",
      "POSITIONS\n",
      "     {'asset': 'ETH/BTC', 'quantity': 8, 'cost_price': 0.09999999999999999, 'latest_price': 0.1}\n",
      "METRICS\n",
      "    SMA: 5.00\n",
      "    RSI: 10.00\n"
     ]
    },
    {
     "name": "stdout",
     "output_type": "stream",
     "text": [
      "{'id': '50a429c91ead47d0888d3b0bc88f7eb0', 'asset': 'ETH/BTC', 'price': 0.1, 'quantity': 1, 'type': 'limit', 'side': 'buy', 'filled': 0.0, 'status': 'FILLED', 'fee': {}}\n"
     ]
    },
    {
     "name": "stderr",
     "output_type": "stream",
     "text": [
      "---------------------------------------\n",
      "Epoch 76 - Timestep: 2018-01-10T13:43:00\n",
      "---------------------------------------\n",
      "OHLCV\n",
      "    O: 0.0964 | C: 0.0961 | V: 330.4 | T: 2018-01-10T13:43:00\n",
      "ORDERS\n",
      "    1: ETH/BTC | LIMIT_BUY | Price: 0.1000 | Quantity: 1.0000\n",
      "PERFORMANCE\n",
      "    Cash: 0.1000 Total Val: 1.0000 PnL: 0.0000 Returns: 0.0000\n",
      "BALANCE\n",
      "    BTC - {'free': 0.10000000000000014, 'used': 0.0, 'total': 0.10000000000000014}\n",
      "    ETH - {'free': 9.0, 'used': 0.0, 'total': 9.0}\n",
      "POSITIONS\n",
      "     {'asset': 'ETH/BTC', 'quantity': 9, 'cost_price': 0.09999999999999999, 'latest_price': 0.1}\n",
      "METRICS\n",
      "    SMA: 5.00\n",
      "    RSI: 10.00\n"
     ]
    },
    {
     "name": "stdout",
     "output_type": "stream",
     "text": [
      "{'id': '1eded8d4d7d44a0a802922554b511435', 'asset': 'ETH/BTC', 'price': 0.1, 'quantity': 1, 'type': 'limit', 'side': 'buy', 'filled': 0.0, 'status': 'FILLED', 'fee': {}}\n"
     ]
    },
    {
     "name": "stderr",
     "output_type": "stream",
     "text": [
      "---------------------------------------\n",
      "Epoch 77 - Timestep: 2018-01-10T13:44:00\n",
      "---------------------------------------\n",
      "OHLCV\n",
      "    O: 0.0962 | C: 0.0963 | V: 213.3 | T: 2018-01-10T13:44:00\n",
      "ORDERS\n",
      "    1: ETH/BTC | LIMIT_BUY | Price: 0.1000 | Quantity: 1.0000\n",
      "PERFORMANCE\n",
      "    Cash: 0.0000 Total Val: 1.0000 PnL: 0.0000 Returns: 0.0000\n",
      "BALANCE\n",
      "    BTC - {'free': 1.3877787807814457e-16, 'used': 0.0, 'total': 1.3877787807814457e-16}\n",
      "    ETH - {'free': 10.0, 'used': 0.0, 'total': 10.0}\n",
      "POSITIONS\n",
      "     {'asset': 'ETH/BTC', 'quantity': 10, 'cost_price': 0.09999999999999999, 'latest_price': 0.1}\n",
      "METRICS\n",
      "    SMA: 5.00\n",
      "    RSI: 10.00\n"
     ]
    },
    {
     "name": "stdout",
     "output_type": "stream",
     "text": [
      "Balance is not sufficient to create order!\n"
     ]
    },
    {
     "name": "stderr",
     "output_type": "stream",
     "text": [
      "---------------------------------------\n",
      "Epoch 78 - Timestep: 2018-01-10T13:45:00\n",
      "---------------------------------------\n",
      "OHLCV\n",
      "    O: 0.0963 | C: 0.0964 | V: 377.9 | T: 2018-01-10T13:45:00\n",
      "ORDERS\n",
      "    1: ETH/BTC | LIMIT_BUY | Price: 0.1000 | Quantity: 1.0000\n",
      "PERFORMANCE\n",
      "    Cash: 0.0000 Total Val: 1.0000 PnL: 0.0000 Returns: 0.0000\n",
      "BALANCE\n",
      "    BTC - {'free': 1.3877787807814457e-16, 'used': 0.0, 'total': 1.3877787807814457e-16}\n",
      "    ETH - {'free': 10.0, 'used': 0.0, 'total': 10.0}\n",
      "POSITIONS\n",
      "     {'asset': 'ETH/BTC', 'quantity': 10, 'cost_price': 0.09999999999999999, 'latest_price': 0.1}\n",
      "METRICS\n",
      "    SMA: 5.00\n",
      "    RSI: 10.00\n"
     ]
    },
    {
     "name": "stdout",
     "output_type": "stream",
     "text": [
      "Balance is not sufficient to create order!\n"
     ]
    },
    {
     "name": "stderr",
     "output_type": "stream",
     "text": [
      "---------------------------------------\n",
      "Epoch 79 - Timestep: 2018-01-10T13:46:00\n",
      "---------------------------------------\n",
      "OHLCV\n",
      "    O: 0.0966 | C: 0.0964 | V: 358.4 | T: 2018-01-10T13:46:00\n",
      "ORDERS\n",
      "    1: ETH/BTC | LIMIT_BUY | Price: 0.1000 | Quantity: 1.0000\n",
      "PERFORMANCE\n",
      "    Cash: 0.0000 Total Val: 1.0000 PnL: 0.0000 Returns: 0.0000\n",
      "BALANCE\n",
      "    BTC - {'free': 1.3877787807814457e-16, 'used': 0.0, 'total': 1.3877787807814457e-16}\n",
      "    ETH - {'free': 10.0, 'used': 0.0, 'total': 10.0}\n",
      "POSITIONS\n",
      "     {'asset': 'ETH/BTC', 'quantity': 10, 'cost_price': 0.09999999999999999, 'latest_price': 0.1}\n",
      "METRICS\n",
      "    SMA: 5.00\n",
      "    RSI: 10.00\n"
     ]
    },
    {
     "name": "stdout",
     "output_type": "stream",
     "text": [
      "Balance is not sufficient to create order!\n"
     ]
    },
    {
     "name": "stderr",
     "output_type": "stream",
     "text": [
      "---------------------------------------\n",
      "Epoch 80 - Timestep: 2018-01-10T13:47:00\n",
      "---------------------------------------\n",
      "OHLCV\n",
      "    O: 0.0964 | C: 0.0965 | V: 532.9 | T: 2018-01-10T13:47:00\n",
      "ORDERS\n",
      "    1: ETH/BTC | LIMIT_SELL | Price: 0.1000 | Quantity: 1.0000\n",
      "PERFORMANCE\n",
      "    Cash: 0.0000 Total Val: 1.0000 PnL: 0.0000 Returns: 0.0000\n",
      "BALANCE\n",
      "    BTC - {'free': 1.3877787807814457e-16, 'used': 0.0, 'total': 1.3877787807814457e-16}\n",
      "    ETH - {'free': 10.0, 'used': 0.0, 'total': 10.0}\n",
      "POSITIONS\n",
      "     {'asset': 'ETH/BTC', 'quantity': 10, 'cost_price': 0.09999999999999999, 'latest_price': 0.1}\n",
      "METRICS\n",
      "    SMA: 5.00\n",
      "    RSI: 10.00\n"
     ]
    },
    {
     "name": "stdout",
     "output_type": "stream",
     "text": [
      "{'id': '689040b798434b8683c69a7a07b798af', 'asset': 'ETH/BTC', 'price': 0.1, 'quantity': 1, 'type': 'limit', 'side': 'sell', 'filled': 0.0, 'status': 'FILLED', 'fee': {}}\n"
     ]
    },
    {
     "name": "stderr",
     "output_type": "stream",
     "text": [
      "---------------------------------------\n",
      "Epoch 81 - Timestep: 2018-01-10T13:48:00\n",
      "---------------------------------------\n",
      "OHLCV\n",
      "    O: 0.0965 | C: 0.0965 | V: 265.1 | T: 2018-01-10T13:48:00\n",
      "ORDERS\n",
      "    1: ETH/BTC | LIMIT_BUY | Price: 0.1000 | Quantity: 1.0000\n",
      "PERFORMANCE\n",
      "    Cash: 0.1000 Total Val: 1.0000 PnL: 0.0000 Returns: 0.0000\n",
      "BALANCE\n",
      "    BTC - {'free': 0.10000000000000014, 'used': 0.0, 'total': 0.10000000000000014}\n",
      "    ETH - {'free': 9.0, 'used': 0.0, 'total': 9.0}\n",
      "POSITIONS\n",
      "     {'asset': 'ETH/BTC', 'quantity': 9, 'cost_price': 0.09999999999999999, 'latest_price': 0.1}\n",
      "METRICS\n",
      "    SMA: 5.00\n",
      "    RSI: 10.00\n"
     ]
    },
    {
     "name": "stdout",
     "output_type": "stream",
     "text": [
      "{'id': '39ee077c5ca74d7a833362998921c4b2', 'asset': 'ETH/BTC', 'price': 0.1, 'quantity': 1, 'type': 'limit', 'side': 'buy', 'filled': 0.0, 'status': 'FILLED', 'fee': {}}\n"
     ]
    },
    {
     "name": "stderr",
     "output_type": "stream",
     "text": [
      "---------------------------------------\n",
      "Epoch 82 - Timestep: 2018-01-10T13:49:00\n",
      "---------------------------------------\n",
      "OHLCV\n",
      "    O: 0.0965 | C: 0.0964 | V: 218.8 | T: 2018-01-10T13:49:00\n",
      "ORDERS\n",
      "    1: ETH/BTC | LIMIT_SELL | Price: 0.1000 | Quantity: 1.0000\n",
      "PERFORMANCE\n",
      "    Cash: 0.0000 Total Val: 1.0000 PnL: 0.0000 Returns: 0.0000\n",
      "BALANCE\n",
      "    BTC - {'free': 1.3877787807814457e-16, 'used': 0.0, 'total': 1.3877787807814457e-16}\n",
      "    ETH - {'free': 10.0, 'used': 0.0, 'total': 10.0}\n",
      "POSITIONS\n",
      "     {'asset': 'ETH/BTC', 'quantity': 10, 'cost_price': 0.09999999999999999, 'latest_price': 0.1}\n",
      "METRICS\n",
      "    SMA: 5.00\n",
      "    RSI: 10.00\n"
     ]
    },
    {
     "name": "stdout",
     "output_type": "stream",
     "text": [
      "{'id': '654ec1f5c22e4fc6950bd692e4fd7096', 'asset': 'ETH/BTC', 'price': 0.1, 'quantity': 1, 'type': 'limit', 'side': 'sell', 'filled': 0.0, 'status': 'FILLED', 'fee': {}}\n"
     ]
    },
    {
     "name": "stderr",
     "output_type": "stream",
     "text": [
      "---------------------------------------\n",
      "Epoch 83 - Timestep: 2018-01-10T13:50:00\n",
      "---------------------------------------\n",
      "OHLCV\n",
      "    O: 0.0964 | C: 0.0963 | V: 237.8 | T: 2018-01-10T13:50:00\n",
      "ORDERS\n",
      "    1: ETH/BTC | LIMIT_BUY | Price: 0.1000 | Quantity: 1.0000\n",
      "PERFORMANCE\n",
      "    Cash: 0.1000 Total Val: 1.0000 PnL: 0.0000 Returns: 0.0000\n",
      "BALANCE\n",
      "    BTC - {'free': 0.10000000000000014, 'used': 0.0, 'total': 0.10000000000000014}\n",
      "    ETH - {'free': 9.0, 'used': 0.0, 'total': 9.0}\n",
      "POSITIONS\n",
      "     {'asset': 'ETH/BTC', 'quantity': 9, 'cost_price': 0.09999999999999999, 'latest_price': 0.1}\n",
      "METRICS\n",
      "    SMA: 5.00\n",
      "    RSI: 10.00\n"
     ]
    },
    {
     "name": "stdout",
     "output_type": "stream",
     "text": [
      "{'id': 'f11bfb7b60cf4b328255e2e6fefa63c0', 'asset': 'ETH/BTC', 'price': 0.1, 'quantity': 1, 'type': 'limit', 'side': 'buy', 'filled': 0.0, 'status': 'FILLED', 'fee': {}}\n"
     ]
    },
    {
     "name": "stderr",
     "output_type": "stream",
     "text": [
      "---------------------------------------\n",
      "Epoch 84 - Timestep: 2018-01-10T13:51:00\n",
      "---------------------------------------\n",
      "OHLCV\n",
      "    O: 0.0963 | C: 0.0962 | V: 259.1 | T: 2018-01-10T13:51:00\n",
      "ORDERS\n",
      "    1: ETH/BTC | LIMIT_SELL | Price: 0.1000 | Quantity: 1.0000\n",
      "PERFORMANCE\n",
      "    Cash: 0.0000 Total Val: 1.0000 PnL: 0.0000 Returns: 0.0000\n",
      "BALANCE\n",
      "    BTC - {'free': 1.3877787807814457e-16, 'used': 0.0, 'total': 1.3877787807814457e-16}\n",
      "    ETH - {'free': 10.0, 'used': 0.0, 'total': 10.0}\n",
      "POSITIONS\n",
      "     {'asset': 'ETH/BTC', 'quantity': 10, 'cost_price': 0.09999999999999999, 'latest_price': 0.1}\n",
      "METRICS\n",
      "    SMA: 5.00\n",
      "    RSI: 10.00\n"
     ]
    },
    {
     "name": "stdout",
     "output_type": "stream",
     "text": [
      "{'id': '93a443924e29470bb91496afb2767bc0', 'asset': 'ETH/BTC', 'price': 0.1, 'quantity': 1, 'type': 'limit', 'side': 'sell', 'filled': 0.0, 'status': 'FILLED', 'fee': {}}\n"
     ]
    },
    {
     "name": "stderr",
     "output_type": "stream",
     "text": [
      "---------------------------------------\n",
      "Epoch 85 - Timestep: 2018-01-10T13:52:00\n",
      "---------------------------------------\n",
      "OHLCV\n",
      "    O: 0.0962 | C: 0.0963 | V: 195.3 | T: 2018-01-10T13:52:00\n",
      "ORDERS\n",
      "    1: ETH/BTC | LIMIT_SELL | Price: 0.1000 | Quantity: 1.0000\n",
      "PERFORMANCE\n",
      "    Cash: 0.1000 Total Val: 1.0000 PnL: 0.0000 Returns: 0.0000\n",
      "BALANCE\n",
      "    BTC - {'free': 0.10000000000000014, 'used': 0.0, 'total': 0.10000000000000014}\n",
      "    ETH - {'free': 9.0, 'used': 0.0, 'total': 9.0}\n",
      "POSITIONS\n",
      "     {'asset': 'ETH/BTC', 'quantity': 9, 'cost_price': 0.09999999999999999, 'latest_price': 0.1}\n",
      "METRICS\n",
      "    SMA: 5.00\n",
      "    RSI: 10.00\n"
     ]
    },
    {
     "name": "stdout",
     "output_type": "stream",
     "text": [
      "{'id': '5d84533914464b06927f84bfbe4f9d60', 'asset': 'ETH/BTC', 'price': 0.1, 'quantity': 1, 'type': 'limit', 'side': 'sell', 'filled': 0.0, 'status': 'FILLED', 'fee': {}}\n"
     ]
    },
    {
     "name": "stderr",
     "output_type": "stream",
     "text": [
      "---------------------------------------\n",
      "Epoch 86 - Timestep: 2018-01-10T13:53:00\n",
      "---------------------------------------\n",
      "OHLCV\n",
      "    O: 0.0963 | C: 0.0964 | V: 288.9 | T: 2018-01-10T13:53:00\n",
      "ORDERS\n",
      "    1: ETH/BTC | LIMIT_SELL | Price: 0.1000 | Quantity: 1.0000\n",
      "PERFORMANCE\n",
      "    Cash: 0.2000 Total Val: 1.0000 PnL: 0.0000 Returns: 0.0000\n",
      "BALANCE\n",
      "    BTC - {'free': 0.20000000000000015, 'used': 0.0, 'total': 0.20000000000000015}\n",
      "    ETH - {'free': 8.0, 'used': 0.0, 'total': 8.0}\n",
      "POSITIONS\n",
      "     {'asset': 'ETH/BTC', 'quantity': 8, 'cost_price': 0.09999999999999999, 'latest_price': 0.1}\n",
      "METRICS\n",
      "    SMA: 5.00\n",
      "    RSI: 10.00\n"
     ]
    },
    {
     "name": "stdout",
     "output_type": "stream",
     "text": [
      "{'id': 'b5a0db4f2c2a4b969cf7d355f179b9f6', 'asset': 'ETH/BTC', 'price': 0.1, 'quantity': 1, 'type': 'limit', 'side': 'sell', 'filled': 0.0, 'status': 'FILLED', 'fee': {}}\n"
     ]
    },
    {
     "name": "stderr",
     "output_type": "stream",
     "text": [
      "---------------------------------------\n",
      "Epoch 87 - Timestep: 2018-01-10T13:54:00\n",
      "---------------------------------------\n",
      "OHLCV\n",
      "    O: 0.0964 | C: 0.0964 | V: 300.4 | T: 2018-01-10T13:54:00\n",
      "ORDERS\n",
      "    1: ETH/BTC | LIMIT_BUY | Price: 0.1000 | Quantity: 1.0000\n",
      "PERFORMANCE\n",
      "    Cash: 0.3000 Total Val: 1.0000 PnL: 0.0000 Returns: 0.0000\n",
      "BALANCE\n",
      "    BTC - {'free': 0.30000000000000016, 'used': 0.0, 'total': 0.30000000000000016}\n",
      "    ETH - {'free': 7.0, 'used': 0.0, 'total': 7.0}\n",
      "POSITIONS\n",
      "     {'asset': 'ETH/BTC', 'quantity': 7, 'cost_price': 0.09999999999999999, 'latest_price': 0.1}\n",
      "METRICS\n",
      "    SMA: 5.00\n",
      "    RSI: 10.00\n"
     ]
    },
    {
     "name": "stdout",
     "output_type": "stream",
     "text": [
      "{'id': '8a5b83dd92ea49df97b79b3f28408f63', 'asset': 'ETH/BTC', 'price': 0.1, 'quantity': 1, 'type': 'limit', 'side': 'buy', 'filled': 0.0, 'status': 'FILLED', 'fee': {}}\n"
     ]
    },
    {
     "name": "stderr",
     "output_type": "stream",
     "text": [
      "---------------------------------------\n",
      "Epoch 88 - Timestep: 2018-01-10T13:55:00\n",
      "---------------------------------------\n",
      "OHLCV\n",
      "    O: 0.0964 | C: 0.0964 | V: 277.0 | T: 2018-01-10T13:55:00\n",
      "ORDERS\n",
      "    1: ETH/BTC | LIMIT_BUY | Price: 0.1000 | Quantity: 1.0000\n",
      "PERFORMANCE\n",
      "    Cash: 0.2000 Total Val: 1.0000 PnL: 0.0000 Returns: 0.0000\n",
      "BALANCE\n",
      "    BTC - {'free': 0.20000000000000015, 'used': 0.0, 'total': 0.20000000000000015}\n",
      "    ETH - {'free': 8.0, 'used': 0.0, 'total': 8.0}\n",
      "POSITIONS\n",
      "     {'asset': 'ETH/BTC', 'quantity': 8, 'cost_price': 0.09999999999999999, 'latest_price': 0.1}\n",
      "METRICS\n",
      "    SMA: 5.00\n",
      "    RSI: 10.00\n"
     ]
    },
    {
     "name": "stdout",
     "output_type": "stream",
     "text": [
      "{'id': '916cdbb6b86c4754a33e592278689b4f', 'asset': 'ETH/BTC', 'price': 0.1, 'quantity': 1, 'type': 'limit', 'side': 'buy', 'filled': 0.0, 'status': 'FILLED', 'fee': {}}\n"
     ]
    },
    {
     "name": "stderr",
     "output_type": "stream",
     "text": [
      "---------------------------------------\n",
      "Epoch 89 - Timestep: 2018-01-10T13:56:00\n",
      "---------------------------------------\n",
      "OHLCV\n",
      "    O: 0.0964 | C: 0.0963 | V: 438.7 | T: 2018-01-10T13:56:00\n",
      "ORDERS\n",
      "    1: ETH/BTC | LIMIT_SELL | Price: 0.1000 | Quantity: 1.0000\n",
      "PERFORMANCE\n",
      "    Cash: 0.1000 Total Val: 1.0000 PnL: 0.0000 Returns: 0.0000\n",
      "BALANCE\n",
      "    BTC - {'free': 0.10000000000000014, 'used': 0.0, 'total': 0.10000000000000014}\n",
      "    ETH - {'free': 9.0, 'used': 0.0, 'total': 9.0}\n",
      "POSITIONS\n",
      "     {'asset': 'ETH/BTC', 'quantity': 9, 'cost_price': 0.09999999999999999, 'latest_price': 0.1}\n",
      "METRICS\n",
      "    SMA: 5.00\n",
      "    RSI: 10.00\n"
     ]
    },
    {
     "name": "stdout",
     "output_type": "stream",
     "text": [
      "{'id': '441e08ca29444a52a95103342bc77bf2', 'asset': 'ETH/BTC', 'price': 0.1, 'quantity': 1, 'type': 'limit', 'side': 'sell', 'filled': 0.0, 'status': 'FILLED', 'fee': {}}\n"
     ]
    },
    {
     "name": "stderr",
     "output_type": "stream",
     "text": [
      "---------------------------------------\n",
      "Epoch 90 - Timestep: 2018-01-10T13:57:00\n",
      "---------------------------------------\n",
      "OHLCV\n",
      "    O: 0.0962 | C: 0.0962 | V: 208.9 | T: 2018-01-10T13:57:00\n",
      "ORDERS\n",
      "    1: ETH/BTC | LIMIT_SELL | Price: 0.1000 | Quantity: 1.0000\n",
      "PERFORMANCE\n",
      "    Cash: 0.2000 Total Val: 1.0000 PnL: 0.0000 Returns: 0.0000\n",
      "BALANCE\n",
      "    BTC - {'free': 0.20000000000000015, 'used': 0.0, 'total': 0.20000000000000015}\n",
      "    ETH - {'free': 8.0, 'used': 0.0, 'total': 8.0}\n",
      "POSITIONS\n",
      "     {'asset': 'ETH/BTC', 'quantity': 8, 'cost_price': 0.09999999999999999, 'latest_price': 0.1}\n",
      "METRICS\n",
      "    SMA: 5.00\n",
      "    RSI: 10.00\n"
     ]
    },
    {
     "name": "stdout",
     "output_type": "stream",
     "text": [
      "{'id': '739ba81421c741f5a9b385448bfc5cea', 'asset': 'ETH/BTC', 'price': 0.1, 'quantity': 1, 'type': 'limit', 'side': 'sell', 'filled': 0.0, 'status': 'FILLED', 'fee': {}}\n"
     ]
    },
    {
     "name": "stderr",
     "output_type": "stream",
     "text": [
      "---------------------------------------\n",
      "Epoch 91 - Timestep: 2018-01-10T13:58:00\n",
      "---------------------------------------\n",
      "OHLCV\n",
      "    O: 0.0962 | C: 0.0963 | V: 203.5 | T: 2018-01-10T13:58:00\n",
      "ORDERS\n",
      "    1: ETH/BTC | LIMIT_SELL | Price: 0.1000 | Quantity: 1.0000\n",
      "PERFORMANCE\n",
      "    Cash: 0.3000 Total Val: 1.0000 PnL: 0.0000 Returns: 0.0000\n",
      "BALANCE\n",
      "    BTC - {'free': 0.30000000000000016, 'used': 0.0, 'total': 0.30000000000000016}\n",
      "    ETH - {'free': 7.0, 'used': 0.0, 'total': 7.0}\n",
      "POSITIONS\n",
      "     {'asset': 'ETH/BTC', 'quantity': 7, 'cost_price': 0.09999999999999999, 'latest_price': 0.1}\n",
      "METRICS\n",
      "    SMA: 5.00\n",
      "    RSI: 10.00\n"
     ]
    },
    {
     "name": "stdout",
     "output_type": "stream",
     "text": [
      "{'id': '31e13d8a0a5a44079005331b1301a4b0', 'asset': 'ETH/BTC', 'price': 0.1, 'quantity': 1, 'type': 'limit', 'side': 'sell', 'filled': 0.0, 'status': 'FILLED', 'fee': {}}\n"
     ]
    },
    {
     "name": "stderr",
     "output_type": "stream",
     "text": [
      "---------------------------------------\n",
      "Epoch 92 - Timestep: 2018-01-10T13:59:00\n",
      "---------------------------------------\n",
      "OHLCV\n",
      "    O: 0.0963 | C: 0.0964 | V: 157.2 | T: 2018-01-10T13:59:00\n",
      "ORDERS\n",
      "    1: ETH/BTC | LIMIT_BUY | Price: 0.1000 | Quantity: 1.0000\n",
      "PERFORMANCE\n",
      "    Cash: 0.4000 Total Val: 1.0000 PnL: 0.0000 Returns: 0.0000\n",
      "BALANCE\n",
      "    BTC - {'free': 0.40000000000000013, 'used': 0.0, 'total': 0.40000000000000013}\n",
      "    ETH - {'free': 6.0, 'used': 0.0, 'total': 6.0}\n",
      "POSITIONS\n",
      "     {'asset': 'ETH/BTC', 'quantity': 6, 'cost_price': 0.09999999999999999, 'latest_price': 0.1}\n",
      "METRICS\n",
      "    SMA: 5.00\n",
      "    RSI: 10.00\n"
     ]
    },
    {
     "name": "stdout",
     "output_type": "stream",
     "text": [
      "{'id': '8f3aa7edc5974865b89a6faa4ff54926', 'asset': 'ETH/BTC', 'price': 0.1, 'quantity': 1, 'type': 'limit', 'side': 'buy', 'filled': 0.0, 'status': 'FILLED', 'fee': {}}\n"
     ]
    },
    {
     "name": "stderr",
     "output_type": "stream",
     "text": [
      "---------------------------------------\n",
      "Epoch 93 - Timestep: 2018-01-10T14:00:00\n",
      "---------------------------------------\n",
      "OHLCV\n",
      "    O: 0.0964 | C: 0.0966 | V: 223.5 | T: 2018-01-10T14:00:00\n",
      "ORDERS\n",
      "    1: ETH/BTC | LIMIT_SELL | Price: 0.1000 | Quantity: 1.0000\n",
      "PERFORMANCE\n",
      "    Cash: 0.3000 Total Val: 1.0000 PnL: 0.0000 Returns: 0.0000\n",
      "BALANCE\n",
      "    BTC - {'free': 0.30000000000000016, 'used': 0.0, 'total': 0.30000000000000016}\n",
      "    ETH - {'free': 7.0, 'used': 0.0, 'total': 7.0}\n",
      "POSITIONS\n",
      "     {'asset': 'ETH/BTC', 'quantity': 7, 'cost_price': 0.09999999999999999, 'latest_price': 0.1}\n",
      "METRICS\n",
      "    SMA: 5.00\n",
      "    RSI: 10.00\n"
     ]
    },
    {
     "name": "stdout",
     "output_type": "stream",
     "text": [
      "{'id': '67097f6e0c6a41ae820a2f1959da3c95', 'asset': 'ETH/BTC', 'price': 0.1, 'quantity': 1, 'type': 'limit', 'side': 'sell', 'filled': 0.0, 'status': 'FILLED', 'fee': {}}\n"
     ]
    },
    {
     "name": "stderr",
     "output_type": "stream",
     "text": [
      "---------------------------------------\n",
      "Epoch 94 - Timestep: 2018-01-10T14:01:00\n",
      "---------------------------------------\n",
      "OHLCV\n",
      "    O: 0.0965 | C: 0.0965 | V: 176.6 | T: 2018-01-10T14:01:00\n",
      "ORDERS\n",
      "    1: ETH/BTC | LIMIT_BUY | Price: 0.1000 | Quantity: 1.0000\n",
      "PERFORMANCE\n",
      "    Cash: 0.4000 Total Val: 1.0000 PnL: 0.0000 Returns: 0.0000\n",
      "BALANCE\n",
      "    BTC - {'free': 0.40000000000000013, 'used': 0.0, 'total': 0.40000000000000013}\n",
      "    ETH - {'free': 6.0, 'used': 0.0, 'total': 6.0}\n",
      "POSITIONS\n",
      "     {'asset': 'ETH/BTC', 'quantity': 6, 'cost_price': 0.09999999999999999, 'latest_price': 0.1}\n",
      "METRICS\n",
      "    SMA: 5.00\n",
      "    RSI: 10.00\n"
     ]
    },
    {
     "name": "stdout",
     "output_type": "stream",
     "text": [
      "{'id': '74199bd1251a44d49a8d221bd7a1a7f7', 'asset': 'ETH/BTC', 'price': 0.1, 'quantity': 1, 'type': 'limit', 'side': 'buy', 'filled': 0.0, 'status': 'FILLED', 'fee': {}}\n"
     ]
    },
    {
     "name": "stderr",
     "output_type": "stream",
     "text": [
      "---------------------------------------\n",
      "Epoch 95 - Timestep: 2018-01-10T14:02:00\n",
      "---------------------------------------\n",
      "OHLCV\n",
      "    O: 0.0965 | C: 0.0967 | V: 242.5 | T: 2018-01-10T14:02:00\n",
      "ORDERS\n",
      "    1: ETH/BTC | LIMIT_BUY | Price: 0.1000 | Quantity: 1.0000\n",
      "PERFORMANCE\n",
      "    Cash: 0.3000 Total Val: 1.0000 PnL: 0.0000 Returns: 0.0000\n",
      "BALANCE\n",
      "    BTC - {'free': 0.30000000000000016, 'used': 0.0, 'total': 0.30000000000000016}\n",
      "    ETH - {'free': 7.0, 'used': 0.0, 'total': 7.0}\n",
      "POSITIONS\n",
      "     {'asset': 'ETH/BTC', 'quantity': 7, 'cost_price': 0.09999999999999999, 'latest_price': 0.1}\n",
      "METRICS\n",
      "    SMA: 5.00\n",
      "    RSI: 10.00\n"
     ]
    },
    {
     "name": "stdout",
     "output_type": "stream",
     "text": [
      "{'id': '1cfc377b66aa4e1a99d6600b9bd5eb41', 'asset': 'ETH/BTC', 'price': 0.1, 'quantity': 1, 'type': 'limit', 'side': 'buy', 'filled': 0.0, 'status': 'FILLED', 'fee': {}}\n"
     ]
    },
    {
     "name": "stderr",
     "output_type": "stream",
     "text": [
      "---------------------------------------\n",
      "Epoch 96 - Timestep: 2018-01-10T14:03:00\n",
      "---------------------------------------\n",
      "OHLCV\n",
      "    O: 0.0967 | C: 0.0966 | V: 212.8 | T: 2018-01-10T14:03:00\n",
      "ORDERS\n",
      "    1: ETH/BTC | LIMIT_BUY | Price: 0.1000 | Quantity: 1.0000\n",
      "PERFORMANCE\n",
      "    Cash: 0.2000 Total Val: 1.0000 PnL: 0.0000 Returns: 0.0000\n",
      "BALANCE\n",
      "    BTC - {'free': 0.20000000000000015, 'used': 0.0, 'total': 0.20000000000000015}\n",
      "    ETH - {'free': 8.0, 'used': 0.0, 'total': 8.0}\n",
      "POSITIONS\n",
      "     {'asset': 'ETH/BTC', 'quantity': 8, 'cost_price': 0.09999999999999999, 'latest_price': 0.1}\n",
      "METRICS\n",
      "    SMA: 5.00\n",
      "    RSI: 10.00\n"
     ]
    },
    {
     "name": "stdout",
     "output_type": "stream",
     "text": [
      "{'id': 'c835397baf9d47998eeabcc92a4ec0b2', 'asset': 'ETH/BTC', 'price': 0.1, 'quantity': 1, 'type': 'limit', 'side': 'buy', 'filled': 0.0, 'status': 'FILLED', 'fee': {}}\n"
     ]
    },
    {
     "name": "stderr",
     "output_type": "stream",
     "text": [
      "---------------------------------------\n",
      "Epoch 97 - Timestep: 2018-01-10T14:04:00\n",
      "---------------------------------------\n",
      "OHLCV\n",
      "    O: 0.0966 | C: 0.0966 | V: 257.2 | T: 2018-01-10T14:04:00\n",
      "ORDERS\n",
      "    1: ETH/BTC | LIMIT_BUY | Price: 0.1000 | Quantity: 1.0000\n",
      "PERFORMANCE\n",
      "    Cash: 0.1000 Total Val: 1.0000 PnL: 0.0000 Returns: 0.0000\n",
      "BALANCE\n",
      "    BTC - {'free': 0.10000000000000014, 'used': 0.0, 'total': 0.10000000000000014}\n",
      "    ETH - {'free': 9.0, 'used': 0.0, 'total': 9.0}\n",
      "POSITIONS\n",
      "     {'asset': 'ETH/BTC', 'quantity': 9, 'cost_price': 0.09999999999999999, 'latest_price': 0.1}\n",
      "METRICS\n",
      "    SMA: 5.00\n",
      "    RSI: 10.00\n"
     ]
    },
    {
     "name": "stdout",
     "output_type": "stream",
     "text": [
      "{'id': '0f2acdf0f1854e77a810ddfaae953948', 'asset': 'ETH/BTC', 'price': 0.1, 'quantity': 1, 'type': 'limit', 'side': 'buy', 'filled': 0.0, 'status': 'FILLED', 'fee': {}}\n"
     ]
    },
    {
     "name": "stderr",
     "output_type": "stream",
     "text": [
      "---------------------------------------\n",
      "Epoch 98 - Timestep: 2018-01-10T14:05:00\n",
      "---------------------------------------\n",
      "OHLCV\n",
      "    O: 0.0966 | C: 0.0963 | V: 294.6 | T: 2018-01-10T14:05:00\n",
      "ORDERS\n",
      "    1: ETH/BTC | LIMIT_SELL | Price: 0.1000 | Quantity: 1.0000\n",
      "PERFORMANCE\n",
      "    Cash: 0.0000 Total Val: 1.0000 PnL: 0.0000 Returns: 0.0000\n",
      "BALANCE\n",
      "    BTC - {'free': 1.3877787807814457e-16, 'used': 0.0, 'total': 1.3877787807814457e-16}\n",
      "    ETH - {'free': 10.0, 'used': 0.0, 'total': 10.0}\n",
      "POSITIONS\n",
      "     {'asset': 'ETH/BTC', 'quantity': 10, 'cost_price': 0.09999999999999999, 'latest_price': 0.1}\n",
      "METRICS\n",
      "    SMA: 5.00\n",
      "    RSI: 10.00\n"
     ]
    },
    {
     "name": "stdout",
     "output_type": "stream",
     "text": [
      "{'id': '64fb09fcfaf241ef89704403e7b1a43d', 'asset': 'ETH/BTC', 'price': 0.1, 'quantity': 1, 'type': 'limit', 'side': 'sell', 'filled': 0.0, 'status': 'FILLED', 'fee': {}}\n"
     ]
    },
    {
     "name": "stderr",
     "output_type": "stream",
     "text": [
      "---------------------------------------\n",
      "Epoch 99 - Timestep: 2018-01-10T14:06:00\n",
      "---------------------------------------\n",
      "OHLCV\n",
      "    O: 0.0963 | C: 0.0963 | V: 206.4 | T: 2018-01-10T14:06:00\n",
      "ORDERS\n",
      "    1: ETH/BTC | LIMIT_SELL | Price: 0.1000 | Quantity: 1.0000\n",
      "PERFORMANCE\n",
      "    Cash: 0.1000 Total Val: 1.0000 PnL: 0.0000 Returns: 0.0000\n",
      "BALANCE\n",
      "    BTC - {'free': 0.10000000000000014, 'used': 0.0, 'total': 0.10000000000000014}\n",
      "    ETH - {'free': 9.0, 'used': 0.0, 'total': 9.0}\n",
      "POSITIONS\n",
      "     {'asset': 'ETH/BTC', 'quantity': 9, 'cost_price': 0.09999999999999999, 'latest_price': 0.1}\n",
      "METRICS\n",
      "    SMA: 5.00\n",
      "    RSI: 10.00\n"
     ]
    },
    {
     "name": "stdout",
     "output_type": "stream",
     "text": [
      "{'id': '262c4a2488d644138e656c35e52d7ccf', 'asset': 'ETH/BTC', 'price': 0.1, 'quantity': 1, 'type': 'limit', 'side': 'sell', 'filled': 0.0, 'status': 'FILLED', 'fee': {}}\n"
     ]
    },
    {
     "name": "stderr",
     "output_type": "stream",
     "text": [
      "---------------------------------------\n",
      "Epoch 100 - Timestep: 2018-01-10T14:07:00\n",
      "---------------------------------------\n",
      "OHLCV\n",
      "    O: 0.0963 | C: 0.0963 | V: 232.4 | T: 2018-01-10T14:07:00\n",
      "ORDERS\n",
      "    1: ETH/BTC | LIMIT_BUY | Price: 0.1000 | Quantity: 1.0000\n",
      "PERFORMANCE\n",
      "    Cash: 0.2000 Total Val: 1.0000 PnL: 0.0000 Returns: 0.0000\n",
      "BALANCE\n",
      "    BTC - {'free': 0.20000000000000015, 'used': 0.0, 'total': 0.20000000000000015}\n",
      "    ETH - {'free': 8.0, 'used': 0.0, 'total': 8.0}\n",
      "POSITIONS\n",
      "     {'asset': 'ETH/BTC', 'quantity': 8, 'cost_price': 0.09999999999999999, 'latest_price': 0.1}\n",
      "METRICS\n",
      "    SMA: 5.00\n",
      "    RSI: 10.00\n"
     ]
    },
    {
     "name": "stdout",
     "output_type": "stream",
     "text": [
      "{'id': '5e09b86a1fb34bd3a0f66aa45a072a70', 'asset': 'ETH/BTC', 'price': 0.1, 'quantity': 1, 'type': 'limit', 'side': 'buy', 'filled': 0.0, 'status': 'FILLED', 'fee': {}}\n"
     ]
    },
    {
     "name": "stderr",
     "output_type": "stream",
     "text": [
      "---------------------------------------\n",
      "Epoch 101 - Timestep: 2018-01-10T14:08:00\n",
      "---------------------------------------\n",
      "OHLCV\n",
      "    O: 0.0963 | C: 0.0964 | V: 182.4 | T: 2018-01-10T14:08:00\n",
      "ORDERS\n",
      "    1: ETH/BTC | LIMIT_BUY | Price: 0.1000 | Quantity: 1.0000\n",
      "PERFORMANCE\n",
      "    Cash: 0.1000 Total Val: 1.0000 PnL: 0.0000 Returns: 0.0000\n",
      "BALANCE\n",
      "    BTC - {'free': 0.10000000000000014, 'used': 0.0, 'total': 0.10000000000000014}\n",
      "    ETH - {'free': 9.0, 'used': 0.0, 'total': 9.0}\n",
      "POSITIONS\n",
      "     {'asset': 'ETH/BTC', 'quantity': 9, 'cost_price': 0.09999999999999999, 'latest_price': 0.1}\n",
      "METRICS\n",
      "    SMA: 5.00\n",
      "    RSI: 10.00\n"
     ]
    },
    {
     "name": "stdout",
     "output_type": "stream",
     "text": [
      "{'id': '39dfe3beadc4477e8a55c9190dbf28d8', 'asset': 'ETH/BTC', 'price': 0.1, 'quantity': 1, 'type': 'limit', 'side': 'buy', 'filled': 0.0, 'status': 'FILLED', 'fee': {}}\n"
     ]
    },
    {
     "name": "stderr",
     "output_type": "stream",
     "text": [
      "---------------------------------------\n",
      "Epoch 102 - Timestep: 2018-01-10T14:09:00\n",
      "---------------------------------------\n",
      "OHLCV\n",
      "    O: 0.0963 | C: 0.0964 | V: 264.2 | T: 2018-01-10T14:09:00\n",
      "ORDERS\n",
      "    1: ETH/BTC | LIMIT_BUY | Price: 0.1000 | Quantity: 1.0000\n",
      "PERFORMANCE\n",
      "    Cash: 0.0000 Total Val: 1.0000 PnL: 0.0000 Returns: 0.0000\n",
      "BALANCE\n",
      "    BTC - {'free': 1.3877787807814457e-16, 'used': 0.0, 'total': 1.3877787807814457e-16}\n",
      "    ETH - {'free': 10.0, 'used': 0.0, 'total': 10.0}\n",
      "POSITIONS\n",
      "     {'asset': 'ETH/BTC', 'quantity': 10, 'cost_price': 0.09999999999999999, 'latest_price': 0.1}\n",
      "METRICS\n",
      "    SMA: 5.00\n",
      "    RSI: 10.00\n"
     ]
    },
    {
     "name": "stdout",
     "output_type": "stream",
     "text": [
      "Balance is not sufficient to create order!\n"
     ]
    },
    {
     "name": "stderr",
     "output_type": "stream",
     "text": [
      "---------------------------------------\n",
      "Epoch 103 - Timestep: 2018-01-10T14:10:00\n",
      "---------------------------------------\n",
      "OHLCV\n",
      "    O: 0.0964 | C: 0.0966 | V: 262.0 | T: 2018-01-10T14:10:00\n",
      "ORDERS\n",
      "    1: ETH/BTC | LIMIT_SELL | Price: 0.1000 | Quantity: 1.0000\n",
      "PERFORMANCE\n",
      "    Cash: 0.0000 Total Val: 1.0000 PnL: 0.0000 Returns: 0.0000\n",
      "BALANCE\n",
      "    BTC - {'free': 1.3877787807814457e-16, 'used': 0.0, 'total': 1.3877787807814457e-16}\n",
      "    ETH - {'free': 10.0, 'used': 0.0, 'total': 10.0}\n",
      "POSITIONS\n",
      "     {'asset': 'ETH/BTC', 'quantity': 10, 'cost_price': 0.09999999999999999, 'latest_price': 0.1}\n",
      "METRICS\n",
      "    SMA: 5.00\n",
      "    RSI: 10.00\n"
     ]
    },
    {
     "name": "stdout",
     "output_type": "stream",
     "text": [
      "{'id': '839a9b23872c4970a222f98ccc074dae', 'asset': 'ETH/BTC', 'price': 0.1, 'quantity': 1, 'type': 'limit', 'side': 'sell', 'filled': 0.0, 'status': 'FILLED', 'fee': {}}\n"
     ]
    },
    {
     "name": "stderr",
     "output_type": "stream",
     "text": [
      "---------------------------------------\n",
      "Epoch 104 - Timestep: 2018-01-10T14:11:00\n",
      "---------------------------------------\n",
      "OHLCV\n",
      "    O: 0.0966 | C: 0.0966 | V: 384.1 | T: 2018-01-10T14:11:00\n",
      "ORDERS\n",
      "    1: ETH/BTC | LIMIT_BUY | Price: 0.1000 | Quantity: 1.0000\n",
      "PERFORMANCE\n",
      "    Cash: 0.1000 Total Val: 1.0000 PnL: 0.0000 Returns: 0.0000\n",
      "BALANCE\n",
      "    BTC - {'free': 0.10000000000000014, 'used': 0.0, 'total': 0.10000000000000014}\n",
      "    ETH - {'free': 9.0, 'used': 0.0, 'total': 9.0}\n",
      "POSITIONS\n",
      "     {'asset': 'ETH/BTC', 'quantity': 9, 'cost_price': 0.09999999999999999, 'latest_price': 0.1}\n",
      "METRICS\n",
      "    SMA: 5.00\n",
      "    RSI: 10.00\n"
     ]
    },
    {
     "name": "stdout",
     "output_type": "stream",
     "text": [
      "{'id': 'ef2813198e8744788756646d2d073bed', 'asset': 'ETH/BTC', 'price': 0.1, 'quantity': 1, 'type': 'limit', 'side': 'buy', 'filled': 0.0, 'status': 'FILLED', 'fee': {}}\n"
     ]
    },
    {
     "name": "stderr",
     "output_type": "stream",
     "text": [
      "---------------------------------------\n",
      "Epoch 105 - Timestep: 2018-01-10T14:12:00\n",
      "---------------------------------------\n",
      "OHLCV\n",
      "    O: 0.0966 | C: 0.0967 | V: 255.4 | T: 2018-01-10T14:12:00\n",
      "ORDERS\n",
      "    1: ETH/BTC | LIMIT_SELL | Price: 0.1000 | Quantity: 1.0000\n",
      "PERFORMANCE\n",
      "    Cash: 0.0000 Total Val: 1.0000 PnL: 0.0000 Returns: 0.0000\n",
      "BALANCE\n",
      "    BTC - {'free': 1.3877787807814457e-16, 'used': 0.0, 'total': 1.3877787807814457e-16}\n",
      "    ETH - {'free': 10.0, 'used': 0.0, 'total': 10.0}\n",
      "POSITIONS\n",
      "     {'asset': 'ETH/BTC', 'quantity': 10, 'cost_price': 0.09999999999999999, 'latest_price': 0.1}\n",
      "METRICS\n",
      "    SMA: 5.00\n",
      "    RSI: 10.00\n"
     ]
    },
    {
     "name": "stdout",
     "output_type": "stream",
     "text": [
      "{'id': 'a1dfaa1f6181459e98c7eaa7a22f328e', 'asset': 'ETH/BTC', 'price': 0.1, 'quantity': 1, 'type': 'limit', 'side': 'sell', 'filled': 0.0, 'status': 'FILLED', 'fee': {}}\n"
     ]
    },
    {
     "name": "stderr",
     "output_type": "stream",
     "text": [
      "---------------------------------------\n",
      "Epoch 106 - Timestep: 2018-01-10T14:13:00\n",
      "---------------------------------------\n",
      "OHLCV\n",
      "    O: 0.0967 | C: 0.0968 | V: 414.9 | T: 2018-01-10T14:13:00\n",
      "ORDERS\n",
      "    1: ETH/BTC | LIMIT_SELL | Price: 0.1000 | Quantity: 1.0000\n",
      "PERFORMANCE\n",
      "    Cash: 0.1000 Total Val: 1.0000 PnL: 0.0000 Returns: 0.0000\n",
      "BALANCE\n",
      "    BTC - {'free': 0.10000000000000014, 'used': 0.0, 'total': 0.10000000000000014}\n",
      "    ETH - {'free': 9.0, 'used': 0.0, 'total': 9.0}\n",
      "POSITIONS\n",
      "     {'asset': 'ETH/BTC', 'quantity': 9, 'cost_price': 0.09999999999999999, 'latest_price': 0.1}\n",
      "METRICS\n",
      "    SMA: 5.00\n",
      "    RSI: 10.00\n"
     ]
    },
    {
     "name": "stdout",
     "output_type": "stream",
     "text": [
      "{'id': '3ada7a625ccb4223b18a681c7f46c5c8', 'asset': 'ETH/BTC', 'price': 0.1, 'quantity': 1, 'type': 'limit', 'side': 'sell', 'filled': 0.0, 'status': 'FILLED', 'fee': {}}\n"
     ]
    },
    {
     "name": "stderr",
     "output_type": "stream",
     "text": [
      "---------------------------------------\n",
      "Epoch 107 - Timestep: 2018-01-10T14:14:00\n",
      "---------------------------------------\n",
      "OHLCV\n",
      "    O: 0.0969 | C: 0.0969 | V: 409.4 | T: 2018-01-10T14:14:00\n",
      "ORDERS\n",
      "    1: ETH/BTC | LIMIT_BUY | Price: 0.1000 | Quantity: 1.0000\n",
      "PERFORMANCE\n",
      "    Cash: 0.2000 Total Val: 1.0000 PnL: 0.0000 Returns: 0.0000\n",
      "BALANCE\n",
      "    BTC - {'free': 0.20000000000000015, 'used': 0.0, 'total': 0.20000000000000015}\n",
      "    ETH - {'free': 8.0, 'used': 0.0, 'total': 8.0}\n",
      "POSITIONS\n",
      "     {'asset': 'ETH/BTC', 'quantity': 8, 'cost_price': 0.09999999999999999, 'latest_price': 0.1}\n",
      "METRICS\n",
      "    SMA: 5.00\n",
      "    RSI: 10.00\n"
     ]
    },
    {
     "name": "stdout",
     "output_type": "stream",
     "text": [
      "{'id': '09380073f4204ab690fafa942d92ee2d', 'asset': 'ETH/BTC', 'price': 0.1, 'quantity': 1, 'type': 'limit', 'side': 'buy', 'filled': 0.0, 'status': 'FILLED', 'fee': {}}\n"
     ]
    },
    {
     "name": "stderr",
     "output_type": "stream",
     "text": [
      "---------------------------------------\n",
      "Epoch 108 - Timestep: 2018-01-10T14:15:00\n",
      "---------------------------------------\n",
      "OHLCV\n",
      "    O: 0.0969 | C: 0.0970 | V: 446.8 | T: 2018-01-10T14:15:00\n",
      "ORDERS\n",
      "    1: ETH/BTC | LIMIT_SELL | Price: 0.1000 | Quantity: 1.0000\n",
      "PERFORMANCE\n",
      "    Cash: 0.1000 Total Val: 1.0000 PnL: 0.0000 Returns: 0.0000\n",
      "BALANCE\n",
      "    BTC - {'free': 0.10000000000000014, 'used': 0.0, 'total': 0.10000000000000014}\n",
      "    ETH - {'free': 9.0, 'used': 0.0, 'total': 9.0}\n",
      "POSITIONS\n",
      "     {'asset': 'ETH/BTC', 'quantity': 9, 'cost_price': 0.09999999999999999, 'latest_price': 0.1}\n",
      "METRICS\n",
      "    SMA: 5.00\n",
      "    RSI: 10.00\n"
     ]
    },
    {
     "name": "stdout",
     "output_type": "stream",
     "text": [
      "{'id': '71efb1ed4ff745168c8a54b32ba65bc3', 'asset': 'ETH/BTC', 'price': 0.1, 'quantity': 1, 'type': 'limit', 'side': 'sell', 'filled': 0.0, 'status': 'FILLED', 'fee': {}}\n"
     ]
    },
    {
     "name": "stderr",
     "output_type": "stream",
     "text": [
      "---------------------------------------\n",
      "Epoch 109 - Timestep: 2018-01-10T14:16:00\n",
      "---------------------------------------\n",
      "OHLCV\n",
      "    O: 0.0970 | C: 0.0971 | V: 357.3 | T: 2018-01-10T14:16:00\n",
      "ORDERS\n",
      "    1: ETH/BTC | LIMIT_SELL | Price: 0.1000 | Quantity: 1.0000\n",
      "PERFORMANCE\n",
      "    Cash: 0.2000 Total Val: 1.0000 PnL: 0.0000 Returns: 0.0000\n",
      "BALANCE\n",
      "    BTC - {'free': 0.20000000000000015, 'used': 0.0, 'total': 0.20000000000000015}\n",
      "    ETH - {'free': 8.0, 'used': 0.0, 'total': 8.0}\n",
      "POSITIONS\n",
      "     {'asset': 'ETH/BTC', 'quantity': 8, 'cost_price': 0.09999999999999999, 'latest_price': 0.1}\n",
      "METRICS\n",
      "    SMA: 5.00\n",
      "    RSI: 10.00\n"
     ]
    },
    {
     "name": "stdout",
     "output_type": "stream",
     "text": [
      "{'id': '7901cbc94e1f48c581edcb32dc87cf1c', 'asset': 'ETH/BTC', 'price': 0.1, 'quantity': 1, 'type': 'limit', 'side': 'sell', 'filled': 0.0, 'status': 'FILLED', 'fee': {}}\n"
     ]
    },
    {
     "name": "stderr",
     "output_type": "stream",
     "text": [
      "---------------------------------------\n",
      "Epoch 110 - Timestep: 2018-01-10T14:17:00\n",
      "---------------------------------------\n",
      "OHLCV\n",
      "    O: 0.0971 | C: 0.0971 | V: 313.0 | T: 2018-01-10T14:17:00\n",
      "ORDERS\n",
      "    1: ETH/BTC | LIMIT_SELL | Price: 0.1000 | Quantity: 1.0000\n",
      "PERFORMANCE\n",
      "    Cash: 0.3000 Total Val: 1.0000 PnL: 0.0000 Returns: 0.0000\n",
      "BALANCE\n",
      "    BTC - {'free': 0.30000000000000016, 'used': 0.0, 'total': 0.30000000000000016}\n",
      "    ETH - {'free': 7.0, 'used': 0.0, 'total': 7.0}\n",
      "POSITIONS\n",
      "     {'asset': 'ETH/BTC', 'quantity': 7, 'cost_price': 0.09999999999999999, 'latest_price': 0.1}\n",
      "METRICS\n",
      "    SMA: 5.00\n",
      "    RSI: 10.00\n"
     ]
    },
    {
     "name": "stdout",
     "output_type": "stream",
     "text": [
      "{'id': 'a1d8be7fc7354629ae21d3ee02d60610', 'asset': 'ETH/BTC', 'price': 0.1, 'quantity': 1, 'type': 'limit', 'side': 'sell', 'filled': 0.0, 'status': 'FILLED', 'fee': {}}\n"
     ]
    },
    {
     "name": "stderr",
     "output_type": "stream",
     "text": [
      "---------------------------------------\n",
      "Epoch 111 - Timestep: 2018-01-10T14:18:00\n",
      "---------------------------------------\n",
      "OHLCV\n",
      "    O: 0.0971 | C: 0.0973 | V: 419.1 | T: 2018-01-10T14:18:00\n",
      "ORDERS\n",
      "    1: ETH/BTC | LIMIT_BUY | Price: 0.1000 | Quantity: 1.0000\n",
      "PERFORMANCE\n",
      "    Cash: 0.4000 Total Val: 1.0000 PnL: 0.0000 Returns: 0.0000\n",
      "BALANCE\n",
      "    BTC - {'free': 0.40000000000000013, 'used': 0.0, 'total': 0.40000000000000013}\n",
      "    ETH - {'free': 6.0, 'used': 0.0, 'total': 6.0}\n",
      "POSITIONS\n",
      "     {'asset': 'ETH/BTC', 'quantity': 6, 'cost_price': 0.09999999999999999, 'latest_price': 0.1}\n",
      "METRICS\n",
      "    SMA: 5.00\n",
      "    RSI: 10.00\n"
     ]
    },
    {
     "name": "stdout",
     "output_type": "stream",
     "text": [
      "{'id': '1b5b160f11de442895207e3581216a5b', 'asset': 'ETH/BTC', 'price': 0.1, 'quantity': 1, 'type': 'limit', 'side': 'buy', 'filled': 0.0, 'status': 'FILLED', 'fee': {}}\n"
     ]
    },
    {
     "name": "stderr",
     "output_type": "stream",
     "text": [
      "---------------------------------------\n",
      "Epoch 112 - Timestep: 2018-01-10T14:19:00\n",
      "---------------------------------------\n",
      "OHLCV\n",
      "    O: 0.0974 | C: 0.0974 | V: 294.2 | T: 2018-01-10T14:19:00\n",
      "ORDERS\n",
      "    1: ETH/BTC | LIMIT_BUY | Price: 0.1000 | Quantity: 1.0000\n",
      "PERFORMANCE\n",
      "    Cash: 0.3000 Total Val: 1.0000 PnL: 0.0000 Returns: 0.0000\n",
      "BALANCE\n",
      "    BTC - {'free': 0.30000000000000016, 'used': 0.0, 'total': 0.30000000000000016}\n",
      "    ETH - {'free': 7.0, 'used': 0.0, 'total': 7.0}\n",
      "POSITIONS\n",
      "     {'asset': 'ETH/BTC', 'quantity': 7, 'cost_price': 0.09999999999999999, 'latest_price': 0.1}\n",
      "METRICS\n",
      "    SMA: 5.00\n",
      "    RSI: 10.00\n"
     ]
    },
    {
     "name": "stdout",
     "output_type": "stream",
     "text": [
      "{'id': 'b8cc4ef6ecda4a229621ffa331a0519d', 'asset': 'ETH/BTC', 'price': 0.1, 'quantity': 1, 'type': 'limit', 'side': 'buy', 'filled': 0.0, 'status': 'FILLED', 'fee': {}}\n"
     ]
    },
    {
     "name": "stderr",
     "output_type": "stream",
     "text": [
      "---------------------------------------\n",
      "Epoch 113 - Timestep: 2018-01-10T14:20:00\n",
      "---------------------------------------\n",
      "OHLCV\n",
      "    O: 0.0974 | C: 0.0976 | V: 318.9 | T: 2018-01-10T14:20:00\n",
      "ORDERS\n",
      "    1: ETH/BTC | LIMIT_SELL | Price: 0.1000 | Quantity: 1.0000\n",
      "PERFORMANCE\n",
      "    Cash: 0.2000 Total Val: 1.0000 PnL: 0.0000 Returns: 0.0000\n",
      "BALANCE\n",
      "    BTC - {'free': 0.20000000000000015, 'used': 0.0, 'total': 0.20000000000000015}\n",
      "    ETH - {'free': 8.0, 'used': 0.0, 'total': 8.0}\n",
      "POSITIONS\n",
      "     {'asset': 'ETH/BTC', 'quantity': 8, 'cost_price': 0.09999999999999999, 'latest_price': 0.1}\n",
      "METRICS\n",
      "    SMA: 5.00\n",
      "    RSI: 10.00\n"
     ]
    },
    {
     "name": "stdout",
     "output_type": "stream",
     "text": [
      "{'id': '176c0fbe41ab450fb8ad1481d899e5ae', 'asset': 'ETH/BTC', 'price': 0.1, 'quantity': 1, 'type': 'limit', 'side': 'sell', 'filled': 0.0, 'status': 'FILLED', 'fee': {}}\n"
     ]
    },
    {
     "name": "stderr",
     "output_type": "stream",
     "text": [
      "---------------------------------------\n",
      "Epoch 114 - Timestep: 2018-01-10T14:21:00\n",
      "---------------------------------------\n",
      "OHLCV\n",
      "    O: 0.0976 | C: 0.0971 | V: 574.0 | T: 2018-01-10T14:21:00\n",
      "ORDERS\n",
      "    1: ETH/BTC | LIMIT_SELL | Price: 0.1000 | Quantity: 1.0000\n",
      "PERFORMANCE\n",
      "    Cash: 0.3000 Total Val: 1.0000 PnL: 0.0000 Returns: 0.0000\n",
      "BALANCE\n",
      "    BTC - {'free': 0.30000000000000016, 'used': 0.0, 'total': 0.30000000000000016}\n",
      "    ETH - {'free': 7.0, 'used': 0.0, 'total': 7.0}\n",
      "POSITIONS\n",
      "     {'asset': 'ETH/BTC', 'quantity': 7, 'cost_price': 0.09999999999999999, 'latest_price': 0.1}\n",
      "METRICS\n",
      "    SMA: 5.00\n",
      "    RSI: 10.00\n"
     ]
    },
    {
     "name": "stdout",
     "output_type": "stream",
     "text": [
      "{'id': 'a846ad07990f4b9f8b5ca91a13990589', 'asset': 'ETH/BTC', 'price': 0.1, 'quantity': 1, 'type': 'limit', 'side': 'sell', 'filled': 0.0, 'status': 'FILLED', 'fee': {}}\n"
     ]
    },
    {
     "name": "stderr",
     "output_type": "stream",
     "text": [
      "---------------------------------------\n",
      "Epoch 115 - Timestep: 2018-01-10T14:22:00\n",
      "---------------------------------------\n",
      "OHLCV\n",
      "    O: 0.0973 | C: 0.0974 | V: 223.4 | T: 2018-01-10T14:22:00\n",
      "ORDERS\n",
      "    1: ETH/BTC | LIMIT_BUY | Price: 0.1000 | Quantity: 1.0000\n",
      "PERFORMANCE\n",
      "    Cash: 0.4000 Total Val: 1.0000 PnL: 0.0000 Returns: 0.0000\n",
      "BALANCE\n",
      "    BTC - {'free': 0.40000000000000013, 'used': 0.0, 'total': 0.40000000000000013}\n",
      "    ETH - {'free': 6.0, 'used': 0.0, 'total': 6.0}\n",
      "POSITIONS\n",
      "     {'asset': 'ETH/BTC', 'quantity': 6, 'cost_price': 0.09999999999999999, 'latest_price': 0.1}\n",
      "METRICS\n",
      "    SMA: 5.00\n",
      "    RSI: 10.00\n"
     ]
    },
    {
     "name": "stdout",
     "output_type": "stream",
     "text": [
      "{'id': '88f3f8854d3d4211a504de0c79ec0189', 'asset': 'ETH/BTC', 'price': 0.1, 'quantity': 1, 'type': 'limit', 'side': 'buy', 'filled': 0.0, 'status': 'FILLED', 'fee': {}}\n"
     ]
    },
    {
     "name": "stderr",
     "output_type": "stream",
     "text": [
      "---------------------------------------\n",
      "Epoch 116 - Timestep: 2018-01-10T14:23:00\n",
      "---------------------------------------\n",
      "OHLCV\n",
      "    O: 0.0974 | C: 0.0973 | V: 336.0 | T: 2018-01-10T14:23:00\n",
      "ORDERS\n",
      "    1: ETH/BTC | LIMIT_BUY | Price: 0.1000 | Quantity: 1.0000\n",
      "PERFORMANCE\n",
      "    Cash: 0.3000 Total Val: 1.0000 PnL: 0.0000 Returns: 0.0000\n",
      "BALANCE\n",
      "    BTC - {'free': 0.30000000000000016, 'used': 0.0, 'total': 0.30000000000000016}\n",
      "    ETH - {'free': 7.0, 'used': 0.0, 'total': 7.0}\n",
      "POSITIONS\n",
      "     {'asset': 'ETH/BTC', 'quantity': 7, 'cost_price': 0.09999999999999999, 'latest_price': 0.1}\n",
      "METRICS\n",
      "    SMA: 5.00\n",
      "    RSI: 10.00\n"
     ]
    },
    {
     "name": "stdout",
     "output_type": "stream",
     "text": [
      "{'id': 'baea546c58e543a1928b309453be28f3', 'asset': 'ETH/BTC', 'price': 0.1, 'quantity': 1, 'type': 'limit', 'side': 'buy', 'filled': 0.0, 'status': 'FILLED', 'fee': {}}\n"
     ]
    },
    {
     "name": "stderr",
     "output_type": "stream",
     "text": [
      "---------------------------------------\n",
      "Epoch 117 - Timestep: 2018-01-10T14:24:00\n",
      "---------------------------------------\n",
      "OHLCV\n",
      "    O: 0.0973 | C: 0.0972 | V: 280.3 | T: 2018-01-10T14:24:00\n",
      "ORDERS\n",
      "    1: ETH/BTC | LIMIT_SELL | Price: 0.1000 | Quantity: 1.0000\n",
      "PERFORMANCE\n",
      "    Cash: 0.2000 Total Val: 1.0000 PnL: 0.0000 Returns: 0.0000\n",
      "BALANCE\n",
      "    BTC - {'free': 0.20000000000000015, 'used': 0.0, 'total': 0.20000000000000015}\n",
      "    ETH - {'free': 8.0, 'used': 0.0, 'total': 8.0}\n",
      "POSITIONS\n",
      "     {'asset': 'ETH/BTC', 'quantity': 8, 'cost_price': 0.09999999999999999, 'latest_price': 0.1}\n",
      "METRICS\n",
      "    SMA: 5.00\n",
      "    RSI: 10.00\n"
     ]
    },
    {
     "name": "stdout",
     "output_type": "stream",
     "text": [
      "{'id': 'ec4c5b8f4e4f460e9b30313a9ff08d14', 'asset': 'ETH/BTC', 'price': 0.1, 'quantity': 1, 'type': 'limit', 'side': 'sell', 'filled': 0.0, 'status': 'FILLED', 'fee': {}}\n"
     ]
    },
    {
     "name": "stderr",
     "output_type": "stream",
     "text": [
      "---------------------------------------\n",
      "Epoch 118 - Timestep: 2018-01-10T14:25:00\n",
      "---------------------------------------\n",
      "OHLCV\n",
      "    O: 0.0972 | C: 0.0970 | V: 315.7 | T: 2018-01-10T14:25:00\n",
      "ORDERS\n",
      "    1: ETH/BTC | LIMIT_BUY | Price: 0.1000 | Quantity: 1.0000\n",
      "PERFORMANCE\n",
      "    Cash: 0.3000 Total Val: 1.0000 PnL: 0.0000 Returns: 0.0000\n",
      "BALANCE\n",
      "    BTC - {'free': 0.30000000000000016, 'used': 0.0, 'total': 0.30000000000000016}\n",
      "    ETH - {'free': 7.0, 'used': 0.0, 'total': 7.0}\n",
      "POSITIONS\n",
      "     {'asset': 'ETH/BTC', 'quantity': 7, 'cost_price': 0.09999999999999999, 'latest_price': 0.1}\n",
      "METRICS\n",
      "    SMA: 5.00\n",
      "    RSI: 10.00\n"
     ]
    },
    {
     "name": "stdout",
     "output_type": "stream",
     "text": [
      "{'id': 'ad75026dc5184ed7a89005d21021801f', 'asset': 'ETH/BTC', 'price': 0.1, 'quantity': 1, 'type': 'limit', 'side': 'buy', 'filled': 0.0, 'status': 'FILLED', 'fee': {}}\n"
     ]
    },
    {
     "name": "stderr",
     "output_type": "stream",
     "text": [
      "---------------------------------------\n",
      "Epoch 119 - Timestep: 2018-01-10T14:26:00\n",
      "---------------------------------------\n",
      "OHLCV\n",
      "    O: 0.0970 | C: 0.0968 | V: 233.5 | T: 2018-01-10T14:26:00\n",
      "ORDERS\n",
      "    1: ETH/BTC | LIMIT_BUY | Price: 0.1000 | Quantity: 1.0000\n",
      "PERFORMANCE\n",
      "    Cash: 0.2000 Total Val: 1.0000 PnL: 0.0000 Returns: 0.0000\n",
      "BALANCE\n",
      "    BTC - {'free': 0.20000000000000015, 'used': 0.0, 'total': 0.20000000000000015}\n",
      "    ETH - {'free': 8.0, 'used': 0.0, 'total': 8.0}\n",
      "POSITIONS\n",
      "     {'asset': 'ETH/BTC', 'quantity': 8, 'cost_price': 0.09999999999999999, 'latest_price': 0.1}\n",
      "METRICS\n",
      "    SMA: 5.00\n",
      "    RSI: 10.00\n"
     ]
    },
    {
     "name": "stdout",
     "output_type": "stream",
     "text": [
      "{'id': 'ce98f78d5100478ea3abea96201f3a88', 'asset': 'ETH/BTC', 'price': 0.1, 'quantity': 1, 'type': 'limit', 'side': 'buy', 'filled': 0.0, 'status': 'FILLED', 'fee': {}}\n"
     ]
    },
    {
     "name": "stderr",
     "output_type": "stream",
     "text": [
      "---------------------------------------\n",
      "Epoch 120 - Timestep: 2018-01-10T14:27:00\n",
      "---------------------------------------\n",
      "OHLCV\n",
      "    O: 0.0968 | C: 0.0968 | V: 212.7 | T: 2018-01-10T14:27:00\n",
      "ORDERS\n",
      "    1: ETH/BTC | LIMIT_BUY | Price: 0.1000 | Quantity: 1.0000\n",
      "PERFORMANCE\n",
      "    Cash: 0.1000 Total Val: 1.0000 PnL: 0.0000 Returns: 0.0000\n",
      "BALANCE\n",
      "    BTC - {'free': 0.10000000000000014, 'used': 0.0, 'total': 0.10000000000000014}\n",
      "    ETH - {'free': 9.0, 'used': 0.0, 'total': 9.0}\n",
      "POSITIONS\n",
      "     {'asset': 'ETH/BTC', 'quantity': 9, 'cost_price': 0.09999999999999999, 'latest_price': 0.1}\n",
      "METRICS\n",
      "    SMA: 5.00\n",
      "    RSI: 10.00\n"
     ]
    },
    {
     "name": "stdout",
     "output_type": "stream",
     "text": [
      "{'id': '28aa5443e74847da9797ffc782c6d071', 'asset': 'ETH/BTC', 'price': 0.1, 'quantity': 1, 'type': 'limit', 'side': 'buy', 'filled': 0.0, 'status': 'FILLED', 'fee': {}}\n"
     ]
    },
    {
     "name": "stderr",
     "output_type": "stream",
     "text": [
      "---------------------------------------\n",
      "Epoch 121 - Timestep: 2018-01-10T14:28:00\n",
      "---------------------------------------\n",
      "OHLCV\n",
      "    O: 0.0968 | C: 0.0967 | V: 267.0 | T: 2018-01-10T14:28:00\n",
      "ORDERS\n",
      "    1: ETH/BTC | LIMIT_BUY | Price: 0.1000 | Quantity: 1.0000\n",
      "PERFORMANCE\n",
      "    Cash: 0.0000 Total Val: 1.0000 PnL: 0.0000 Returns: 0.0000\n",
      "BALANCE\n",
      "    BTC - {'free': 1.3877787807814457e-16, 'used': 0.0, 'total': 1.3877787807814457e-16}\n",
      "    ETH - {'free': 10.0, 'used': 0.0, 'total': 10.0}\n",
      "POSITIONS\n",
      "     {'asset': 'ETH/BTC', 'quantity': 10, 'cost_price': 0.09999999999999999, 'latest_price': 0.1}\n",
      "METRICS\n",
      "    SMA: 5.00\n",
      "    RSI: 10.00\n"
     ]
    },
    {
     "name": "stdout",
     "output_type": "stream",
     "text": [
      "Balance is not sufficient to create order!\n"
     ]
    },
    {
     "name": "stderr",
     "output_type": "stream",
     "text": [
      "---------------------------------------\n",
      "Epoch 122 - Timestep: 2018-01-10T14:29:00\n",
      "---------------------------------------\n",
      "OHLCV\n",
      "    O: 0.0965 | C: 0.0966 | V: 318.9 | T: 2018-01-10T14:29:00\n",
      "ORDERS\n",
      "    1: ETH/BTC | LIMIT_BUY | Price: 0.1000 | Quantity: 1.0000\n",
      "PERFORMANCE\n",
      "    Cash: 0.0000 Total Val: 1.0000 PnL: 0.0000 Returns: 0.0000\n",
      "BALANCE\n",
      "    BTC - {'free': 1.3877787807814457e-16, 'used': 0.0, 'total': 1.3877787807814457e-16}\n",
      "    ETH - {'free': 10.0, 'used': 0.0, 'total': 10.0}\n",
      "POSITIONS\n",
      "     {'asset': 'ETH/BTC', 'quantity': 10, 'cost_price': 0.09999999999999999, 'latest_price': 0.1}\n",
      "METRICS\n",
      "    SMA: 5.00\n",
      "    RSI: 10.00\n"
     ]
    },
    {
     "name": "stdout",
     "output_type": "stream",
     "text": [
      "Balance is not sufficient to create order!\n"
     ]
    },
    {
     "name": "stderr",
     "output_type": "stream",
     "text": [
      "---------------------------------------\n",
      "Epoch 123 - Timestep: 2018-01-10T14:30:00\n",
      "---------------------------------------\n",
      "OHLCV\n",
      "    O: 0.0966 | C: 0.0967 | V: 373.8 | T: 2018-01-10T14:30:00\n",
      "ORDERS\n",
      "    1: ETH/BTC | LIMIT_BUY | Price: 0.1000 | Quantity: 1.0000\n",
      "PERFORMANCE\n",
      "    Cash: 0.0000 Total Val: 1.0000 PnL: 0.0000 Returns: 0.0000\n",
      "BALANCE\n",
      "    BTC - {'free': 1.3877787807814457e-16, 'used': 0.0, 'total': 1.3877787807814457e-16}\n",
      "    ETH - {'free': 10.0, 'used': 0.0, 'total': 10.0}\n",
      "POSITIONS\n",
      "     {'asset': 'ETH/BTC', 'quantity': 10, 'cost_price': 0.09999999999999999, 'latest_price': 0.1}\n",
      "METRICS\n",
      "    SMA: 5.00\n",
      "    RSI: 10.00\n"
     ]
    },
    {
     "name": "stdout",
     "output_type": "stream",
     "text": [
      "Balance is not sufficient to create order!\n"
     ]
    },
    {
     "name": "stderr",
     "output_type": "stream",
     "text": [
      "---------------------------------------\n",
      "Epoch 124 - Timestep: 2018-01-10T14:31:00\n",
      "---------------------------------------\n",
      "OHLCV\n",
      "    O: 0.0967 | C: 0.0969 | V: 267.1 | T: 2018-01-10T14:31:00\n",
      "ORDERS\n",
      "    1: ETH/BTC | LIMIT_BUY | Price: 0.1000 | Quantity: 1.0000\n",
      "PERFORMANCE\n",
      "    Cash: 0.0000 Total Val: 1.0000 PnL: 0.0000 Returns: 0.0000\n",
      "BALANCE\n",
      "    BTC - {'free': 1.3877787807814457e-16, 'used': 0.0, 'total': 1.3877787807814457e-16}\n",
      "    ETH - {'free': 10.0, 'used': 0.0, 'total': 10.0}\n",
      "POSITIONS\n",
      "     {'asset': 'ETH/BTC', 'quantity': 10, 'cost_price': 0.09999999999999999, 'latest_price': 0.1}\n",
      "METRICS\n",
      "    SMA: 5.00\n",
      "    RSI: 10.00\n"
     ]
    },
    {
     "name": "stdout",
     "output_type": "stream",
     "text": [
      "Balance is not sufficient to create order!\n"
     ]
    },
    {
     "name": "stderr",
     "output_type": "stream",
     "text": [
      "---------------------------------------\n",
      "Epoch 125 - Timestep: 2018-01-10T14:32:00\n",
      "---------------------------------------\n",
      "OHLCV\n",
      "    O: 0.0970 | C: 0.0969 | V: 348.9 | T: 2018-01-10T14:32:00\n",
      "ORDERS\n",
      "    1: ETH/BTC | LIMIT_BUY | Price: 0.1000 | Quantity: 1.0000\n",
      "PERFORMANCE\n",
      "    Cash: 0.0000 Total Val: 1.0000 PnL: 0.0000 Returns: 0.0000\n",
      "BALANCE\n",
      "    BTC - {'free': 1.3877787807814457e-16, 'used': 0.0, 'total': 1.3877787807814457e-16}\n",
      "    ETH - {'free': 10.0, 'used': 0.0, 'total': 10.0}\n",
      "POSITIONS\n",
      "     {'asset': 'ETH/BTC', 'quantity': 10, 'cost_price': 0.09999999999999999, 'latest_price': 0.1}\n",
      "METRICS\n",
      "    SMA: 5.00\n",
      "    RSI: 10.00\n"
     ]
    },
    {
     "name": "stdout",
     "output_type": "stream",
     "text": [
      "Balance is not sufficient to create order!\n"
     ]
    },
    {
     "name": "stderr",
     "output_type": "stream",
     "text": [
      "---------------------------------------\n",
      "Epoch 126 - Timestep: 2018-01-10T14:33:00\n",
      "---------------------------------------\n",
      "OHLCV\n",
      "    O: 0.0969 | C: 0.0969 | V: 334.0 | T: 2018-01-10T14:33:00\n",
      "ORDERS\n",
      "    1: ETH/BTC | LIMIT_BUY | Price: 0.1000 | Quantity: 1.0000\n",
      "PERFORMANCE\n",
      "    Cash: 0.0000 Total Val: 1.0000 PnL: 0.0000 Returns: 0.0000\n",
      "BALANCE\n",
      "    BTC - {'free': 1.3877787807814457e-16, 'used': 0.0, 'total': 1.3877787807814457e-16}\n",
      "    ETH - {'free': 10.0, 'used': 0.0, 'total': 10.0}\n",
      "POSITIONS\n",
      "     {'asset': 'ETH/BTC', 'quantity': 10, 'cost_price': 0.09999999999999999, 'latest_price': 0.1}\n",
      "METRICS\n",
      "    SMA: 5.00\n",
      "    RSI: 10.00\n"
     ]
    },
    {
     "name": "stdout",
     "output_type": "stream",
     "text": [
      "Balance is not sufficient to create order!\n"
     ]
    },
    {
     "name": "stderr",
     "output_type": "stream",
     "text": [
      "---------------------------------------\n",
      "Epoch 127 - Timestep: 2018-01-10T14:34:00\n",
      "---------------------------------------\n",
      "OHLCV\n",
      "    O: 0.0969 | C: 0.0970 | V: 193.3 | T: 2018-01-10T14:34:00\n",
      "ORDERS\n",
      "    1: ETH/BTC | LIMIT_SELL | Price: 0.1000 | Quantity: 1.0000\n",
      "PERFORMANCE\n",
      "    Cash: 0.0000 Total Val: 1.0000 PnL: 0.0000 Returns: 0.0000\n",
      "BALANCE\n",
      "    BTC - {'free': 1.3877787807814457e-16, 'used': 0.0, 'total': 1.3877787807814457e-16}\n",
      "    ETH - {'free': 10.0, 'used': 0.0, 'total': 10.0}\n",
      "POSITIONS\n",
      "     {'asset': 'ETH/BTC', 'quantity': 10, 'cost_price': 0.09999999999999999, 'latest_price': 0.1}\n",
      "METRICS\n",
      "    SMA: 5.00\n",
      "    RSI: 10.00\n"
     ]
    },
    {
     "name": "stdout",
     "output_type": "stream",
     "text": [
      "{'id': '4496e2ba65d0452496f7479ec52b2d7f', 'asset': 'ETH/BTC', 'price': 0.1, 'quantity': 1, 'type': 'limit', 'side': 'sell', 'filled': 0.0, 'status': 'FILLED', 'fee': {}}\n"
     ]
    },
    {
     "name": "stderr",
     "output_type": "stream",
     "text": [
      "---------------------------------------\n",
      "Epoch 128 - Timestep: 2018-01-10T14:35:00\n",
      "---------------------------------------\n",
      "OHLCV\n",
      "    O: 0.0969 | C: 0.0970 | V: 111.9 | T: 2018-01-10T14:35:00\n",
      "ORDERS\n",
      "    1: ETH/BTC | LIMIT_BUY | Price: 0.1000 | Quantity: 1.0000\n",
      "PERFORMANCE\n",
      "    Cash: 0.1000 Total Val: 1.0000 PnL: 0.0000 Returns: 0.0000\n",
      "BALANCE\n",
      "    BTC - {'free': 0.10000000000000014, 'used': 0.0, 'total': 0.10000000000000014}\n",
      "    ETH - {'free': 9.0, 'used': 0.0, 'total': 9.0}\n",
      "POSITIONS\n",
      "     {'asset': 'ETH/BTC', 'quantity': 9, 'cost_price': 0.09999999999999999, 'latest_price': 0.1}\n",
      "METRICS\n",
      "    SMA: 5.00\n",
      "    RSI: 10.00\n"
     ]
    },
    {
     "name": "stdout",
     "output_type": "stream",
     "text": [
      "{'id': '4d6f07642b004a86b259c7c2e714af4d', 'asset': 'ETH/BTC', 'price': 0.1, 'quantity': 1, 'type': 'limit', 'side': 'buy', 'filled': 0.0, 'status': 'FILLED', 'fee': {}}\n"
     ]
    },
    {
     "name": "stderr",
     "output_type": "stream",
     "text": [
      "---------------------------------------\n",
      "Epoch 129 - Timestep: 2018-01-10T14:36:00\n",
      "---------------------------------------\n",
      "OHLCV\n",
      "    O: 0.0969 | C: 0.0968 | V: 329.4 | T: 2018-01-10T14:36:00\n",
      "ORDERS\n",
      "    1: ETH/BTC | LIMIT_BUY | Price: 0.1000 | Quantity: 1.0000\n",
      "PERFORMANCE\n",
      "    Cash: 0.0000 Total Val: 1.0000 PnL: 0.0000 Returns: 0.0000\n",
      "BALANCE\n",
      "    BTC - {'free': 1.3877787807814457e-16, 'used': 0.0, 'total': 1.3877787807814457e-16}\n",
      "    ETH - {'free': 10.0, 'used': 0.0, 'total': 10.0}\n",
      "POSITIONS\n",
      "     {'asset': 'ETH/BTC', 'quantity': 10, 'cost_price': 0.09999999999999999, 'latest_price': 0.1}\n",
      "METRICS\n",
      "    SMA: 5.00\n",
      "    RSI: 10.00\n"
     ]
    },
    {
     "name": "stdout",
     "output_type": "stream",
     "text": [
      "Balance is not sufficient to create order!\n"
     ]
    },
    {
     "name": "stderr",
     "output_type": "stream",
     "text": [
      "---------------------------------------\n",
      "Epoch 130 - Timestep: 2018-01-10T14:37:00\n",
      "---------------------------------------\n",
      "OHLCV\n",
      "    O: 0.0968 | C: 0.0966 | V: 254.8 | T: 2018-01-10T14:37:00\n",
      "ORDERS\n",
      "    1: ETH/BTC | LIMIT_SELL | Price: 0.1000 | Quantity: 1.0000\n",
      "PERFORMANCE\n",
      "    Cash: 0.0000 Total Val: 1.0000 PnL: 0.0000 Returns: 0.0000\n",
      "BALANCE\n",
      "    BTC - {'free': 1.3877787807814457e-16, 'used': 0.0, 'total': 1.3877787807814457e-16}\n",
      "    ETH - {'free': 10.0, 'used': 0.0, 'total': 10.0}\n",
      "POSITIONS\n",
      "     {'asset': 'ETH/BTC', 'quantity': 10, 'cost_price': 0.09999999999999999, 'latest_price': 0.1}\n",
      "METRICS\n",
      "    SMA: 5.00\n",
      "    RSI: 10.00\n"
     ]
    },
    {
     "name": "stdout",
     "output_type": "stream",
     "text": [
      "{'id': 'c664a7ae5c1d4393913a1fe12fa5aab6', 'asset': 'ETH/BTC', 'price': 0.1, 'quantity': 1, 'type': 'limit', 'side': 'sell', 'filled': 0.0, 'status': 'FILLED', 'fee': {}}\n"
     ]
    },
    {
     "name": "stderr",
     "output_type": "stream",
     "text": [
      "---------------------------------------\n",
      "Epoch 131 - Timestep: 2018-01-10T14:38:00\n",
      "---------------------------------------\n",
      "OHLCV\n",
      "    O: 0.0965 | C: 0.0965 | V: 249.3 | T: 2018-01-10T14:38:00\n",
      "ORDERS\n",
      "    1: ETH/BTC | LIMIT_SELL | Price: 0.1000 | Quantity: 1.0000\n",
      "PERFORMANCE\n",
      "    Cash: 0.1000 Total Val: 1.0000 PnL: 0.0000 Returns: 0.0000\n",
      "BALANCE\n",
      "    BTC - {'free': 0.10000000000000014, 'used': 0.0, 'total': 0.10000000000000014}\n",
      "    ETH - {'free': 9.0, 'used': 0.0, 'total': 9.0}\n",
      "POSITIONS\n",
      "     {'asset': 'ETH/BTC', 'quantity': 9, 'cost_price': 0.09999999999999999, 'latest_price': 0.1}\n",
      "METRICS\n",
      "    SMA: 5.00\n",
      "    RSI: 10.00\n"
     ]
    },
    {
     "name": "stdout",
     "output_type": "stream",
     "text": [
      "{'id': '1cfd2f90f04b4419b92c347d318eb3c0', 'asset': 'ETH/BTC', 'price': 0.1, 'quantity': 1, 'type': 'limit', 'side': 'sell', 'filled': 0.0, 'status': 'FILLED', 'fee': {}}\n"
     ]
    },
    {
     "name": "stderr",
     "output_type": "stream",
     "text": [
      "---------------------------------------\n",
      "Epoch 132 - Timestep: 2018-01-10T14:39:00\n",
      "---------------------------------------\n",
      "OHLCV\n",
      "    O: 0.0965 | C: 0.0964 | V: 291.3 | T: 2018-01-10T14:39:00\n",
      "ORDERS\n",
      "    1: ETH/BTC | LIMIT_BUY | Price: 0.1000 | Quantity: 1.0000\n",
      "PERFORMANCE\n",
      "    Cash: 0.2000 Total Val: 1.0000 PnL: 0.0000 Returns: 0.0000\n",
      "BALANCE\n",
      "    BTC - {'free': 0.20000000000000015, 'used': 0.0, 'total': 0.20000000000000015}\n",
      "    ETH - {'free': 8.0, 'used': 0.0, 'total': 8.0}\n",
      "POSITIONS\n",
      "     {'asset': 'ETH/BTC', 'quantity': 8, 'cost_price': 0.09999999999999999, 'latest_price': 0.1}\n",
      "METRICS\n",
      "    SMA: 5.00\n",
      "    RSI: 10.00\n"
     ]
    },
    {
     "name": "stdout",
     "output_type": "stream",
     "text": [
      "{'id': 'dc7dea71fa154e6a949adc5d00fce0af', 'asset': 'ETH/BTC', 'price': 0.1, 'quantity': 1, 'type': 'limit', 'side': 'buy', 'filled': 0.0, 'status': 'FILLED', 'fee': {}}\n"
     ]
    },
    {
     "name": "stderr",
     "output_type": "stream",
     "text": [
      "---------------------------------------\n",
      "Epoch 133 - Timestep: 2018-01-10T14:40:00\n",
      "---------------------------------------\n",
      "OHLCV\n",
      "    O: 0.0964 | C: 0.0961 | V: 322.6 | T: 2018-01-10T14:40:00\n",
      "ORDERS\n",
      "    1: ETH/BTC | LIMIT_BUY | Price: 0.1000 | Quantity: 1.0000\n",
      "PERFORMANCE\n",
      "    Cash: 0.1000 Total Val: 1.0000 PnL: 0.0000 Returns: 0.0000\n",
      "BALANCE\n",
      "    BTC - {'free': 0.10000000000000014, 'used': 0.0, 'total': 0.10000000000000014}\n",
      "    ETH - {'free': 9.0, 'used': 0.0, 'total': 9.0}\n",
      "POSITIONS\n",
      "     {'asset': 'ETH/BTC', 'quantity': 9, 'cost_price': 0.09999999999999999, 'latest_price': 0.1}\n",
      "METRICS\n",
      "    SMA: 5.00\n",
      "    RSI: 10.00\n"
     ]
    },
    {
     "name": "stdout",
     "output_type": "stream",
     "text": [
      "{'id': '1a8dbb554a9441a081c597e07d9696e2', 'asset': 'ETH/BTC', 'price': 0.1, 'quantity': 1, 'type': 'limit', 'side': 'buy', 'filled': 0.0, 'status': 'FILLED', 'fee': {}}\n"
     ]
    },
    {
     "name": "stderr",
     "output_type": "stream",
     "text": [
      "---------------------------------------\n",
      "Epoch 134 - Timestep: 2018-01-10T14:41:00\n",
      "---------------------------------------\n",
      "OHLCV\n",
      "    O: 0.0961 | C: 0.0965 | V: 253.6 | T: 2018-01-10T14:41:00\n",
      "ORDERS\n",
      "    1: ETH/BTC | LIMIT_BUY | Price: 0.1000 | Quantity: 1.0000\n",
      "PERFORMANCE\n",
      "    Cash: 0.0000 Total Val: 1.0000 PnL: 0.0000 Returns: 0.0000\n",
      "BALANCE\n",
      "    BTC - {'free': 1.3877787807814457e-16, 'used': 0.0, 'total': 1.3877787807814457e-16}\n",
      "    ETH - {'free': 10.0, 'used': 0.0, 'total': 10.0}\n",
      "POSITIONS\n",
      "     {'asset': 'ETH/BTC', 'quantity': 10, 'cost_price': 0.09999999999999999, 'latest_price': 0.1}\n",
      "METRICS\n",
      "    SMA: 5.00\n",
      "    RSI: 10.00\n"
     ]
    },
    {
     "name": "stdout",
     "output_type": "stream",
     "text": [
      "Balance is not sufficient to create order!\n"
     ]
    },
    {
     "name": "stderr",
     "output_type": "stream",
     "text": [
      "---------------------------------------\n",
      "Epoch 135 - Timestep: 2018-01-10T14:42:00\n",
      "---------------------------------------\n",
      "OHLCV\n",
      "    O: 0.0964 | C: 0.0963 | V: 243.1 | T: 2018-01-10T14:42:00\n",
      "ORDERS\n",
      "    1: ETH/BTC | LIMIT_SELL | Price: 0.1000 | Quantity: 1.0000\n",
      "PERFORMANCE\n",
      "    Cash: 0.0000 Total Val: 1.0000 PnL: 0.0000 Returns: 0.0000\n",
      "BALANCE\n",
      "    BTC - {'free': 1.3877787807814457e-16, 'used': 0.0, 'total': 1.3877787807814457e-16}\n",
      "    ETH - {'free': 10.0, 'used': 0.0, 'total': 10.0}\n",
      "POSITIONS\n",
      "     {'asset': 'ETH/BTC', 'quantity': 10, 'cost_price': 0.09999999999999999, 'latest_price': 0.1}\n",
      "METRICS\n",
      "    SMA: 5.00\n",
      "    RSI: 10.00\n"
     ]
    },
    {
     "name": "stdout",
     "output_type": "stream",
     "text": [
      "{'id': '2012cf1982e7473488c0fffe488e3dd5', 'asset': 'ETH/BTC', 'price': 0.1, 'quantity': 1, 'type': 'limit', 'side': 'sell', 'filled': 0.0, 'status': 'FILLED', 'fee': {}}\n"
     ]
    },
    {
     "name": "stderr",
     "output_type": "stream",
     "text": [
      "---------------------------------------\n",
      "Epoch 136 - Timestep: 2018-01-10T14:43:00\n",
      "---------------------------------------\n",
      "OHLCV\n",
      "    O: 0.0963 | C: 0.0961 | V: 226.5 | T: 2018-01-10T14:43:00\n",
      "ORDERS\n",
      "    1: ETH/BTC | LIMIT_SELL | Price: 0.1000 | Quantity: 1.0000\n",
      "PERFORMANCE\n",
      "    Cash: 0.1000 Total Val: 1.0000 PnL: 0.0000 Returns: 0.0000\n",
      "BALANCE\n",
      "    BTC - {'free': 0.10000000000000014, 'used': 0.0, 'total': 0.10000000000000014}\n",
      "    ETH - {'free': 9.0, 'used': 0.0, 'total': 9.0}\n",
      "POSITIONS\n",
      "     {'asset': 'ETH/BTC', 'quantity': 9, 'cost_price': 0.09999999999999999, 'latest_price': 0.1}\n",
      "METRICS\n",
      "    SMA: 5.00\n",
      "    RSI: 10.00\n"
     ]
    },
    {
     "name": "stdout",
     "output_type": "stream",
     "text": [
      "{'id': '3d0a60915cb6463293633552bcb1c2cf', 'asset': 'ETH/BTC', 'price': 0.1, 'quantity': 1, 'type': 'limit', 'side': 'sell', 'filled': 0.0, 'status': 'FILLED', 'fee': {}}\n"
     ]
    },
    {
     "name": "stderr",
     "output_type": "stream",
     "text": [
      "---------------------------------------\n",
      "Epoch 137 - Timestep: 2018-01-10T14:44:00\n",
      "---------------------------------------\n",
      "OHLCV\n",
      "    O: 0.0961 | C: 0.0957 | V: 350.9 | T: 2018-01-10T14:44:00\n",
      "ORDERS\n",
      "    1: ETH/BTC | LIMIT_SELL | Price: 0.1000 | Quantity: 1.0000\n",
      "PERFORMANCE\n",
      "    Cash: 0.2000 Total Val: 1.0000 PnL: 0.0000 Returns: 0.0000\n",
      "BALANCE\n",
      "    BTC - {'free': 0.20000000000000015, 'used': 0.0, 'total': 0.20000000000000015}\n",
      "    ETH - {'free': 8.0, 'used': 0.0, 'total': 8.0}\n",
      "POSITIONS\n",
      "     {'asset': 'ETH/BTC', 'quantity': 8, 'cost_price': 0.09999999999999999, 'latest_price': 0.1}\n",
      "METRICS\n",
      "    SMA: 5.00\n",
      "    RSI: 10.00\n"
     ]
    },
    {
     "name": "stdout",
     "output_type": "stream",
     "text": [
      "{'id': '5331a1ebcce44cb2800fc97de789f012', 'asset': 'ETH/BTC', 'price': 0.1, 'quantity': 1, 'type': 'limit', 'side': 'sell', 'filled': 0.0, 'status': 'FILLED', 'fee': {}}\n"
     ]
    },
    {
     "name": "stderr",
     "output_type": "stream",
     "text": [
      "---------------------------------------\n",
      "Epoch 138 - Timestep: 2018-01-10T14:45:00\n",
      "---------------------------------------\n",
      "OHLCV\n",
      "    O: 0.0956 | C: 0.0955 | V: 676.0 | T: 2018-01-10T14:45:00\n",
      "ORDERS\n",
      "    1: ETH/BTC | LIMIT_SELL | Price: 0.1000 | Quantity: 1.0000\n",
      "PERFORMANCE\n",
      "    Cash: 0.3000 Total Val: 1.0000 PnL: 0.0000 Returns: 0.0000\n",
      "BALANCE\n",
      "    BTC - {'free': 0.30000000000000016, 'used': 0.0, 'total': 0.30000000000000016}\n",
      "    ETH - {'free': 7.0, 'used': 0.0, 'total': 7.0}\n",
      "POSITIONS\n",
      "     {'asset': 'ETH/BTC', 'quantity': 7, 'cost_price': 0.09999999999999999, 'latest_price': 0.1}\n",
      "METRICS\n",
      "    SMA: 5.00\n",
      "    RSI: 10.00\n"
     ]
    },
    {
     "name": "stdout",
     "output_type": "stream",
     "text": [
      "{'id': '485c5eb58dfc4f708f1a0a565fe441c1', 'asset': 'ETH/BTC', 'price': 0.1, 'quantity': 1, 'type': 'limit', 'side': 'sell', 'filled': 0.0, 'status': 'FILLED', 'fee': {}}\n"
     ]
    },
    {
     "name": "stderr",
     "output_type": "stream",
     "text": [
      "---------------------------------------\n",
      "Epoch 139 - Timestep: 2018-01-10T14:46:00\n",
      "---------------------------------------\n",
      "OHLCV\n",
      "    O: 0.0955 | C: 0.0954 | V: 566.1 | T: 2018-01-10T14:46:00\n",
      "ORDERS\n",
      "    1: ETH/BTC | LIMIT_BUY | Price: 0.1000 | Quantity: 1.0000\n",
      "PERFORMANCE\n",
      "    Cash: 0.4000 Total Val: 1.0000 PnL: 0.0000 Returns: 0.0000\n",
      "BALANCE\n",
      "    BTC - {'free': 0.40000000000000013, 'used': 0.0, 'total': 0.40000000000000013}\n",
      "    ETH - {'free': 6.0, 'used': 0.0, 'total': 6.0}\n",
      "POSITIONS\n",
      "     {'asset': 'ETH/BTC', 'quantity': 6, 'cost_price': 0.09999999999999999, 'latest_price': 0.1}\n",
      "METRICS\n",
      "    SMA: 5.00\n",
      "    RSI: 10.00\n"
     ]
    },
    {
     "name": "stdout",
     "output_type": "stream",
     "text": [
      "{'id': '8b4bee77a21f4fdca4ebaa3f5f56eccd', 'asset': 'ETH/BTC', 'price': 0.1, 'quantity': 1, 'type': 'limit', 'side': 'buy', 'filled': 0.0, 'status': 'FILLED', 'fee': {}}\n"
     ]
    },
    {
     "name": "stderr",
     "output_type": "stream",
     "text": [
      "---------------------------------------\n",
      "Epoch 140 - Timestep: 2018-01-10T14:47:00\n",
      "---------------------------------------\n",
      "OHLCV\n",
      "    O: 0.0954 | C: 0.0956 | V: 218.9 | T: 2018-01-10T14:47:00\n",
      "ORDERS\n",
      "    1: ETH/BTC | LIMIT_SELL | Price: 0.1000 | Quantity: 1.0000\n",
      "PERFORMANCE\n",
      "    Cash: 0.3000 Total Val: 1.0000 PnL: 0.0000 Returns: 0.0000\n",
      "BALANCE\n",
      "    BTC - {'free': 0.30000000000000016, 'used': 0.0, 'total': 0.30000000000000016}\n",
      "    ETH - {'free': 7.0, 'used': 0.0, 'total': 7.0}\n",
      "POSITIONS\n",
      "     {'asset': 'ETH/BTC', 'quantity': 7, 'cost_price': 0.09999999999999999, 'latest_price': 0.1}\n",
      "METRICS\n",
      "    SMA: 5.00\n",
      "    RSI: 10.00\n"
     ]
    },
    {
     "name": "stdout",
     "output_type": "stream",
     "text": [
      "{'id': 'c7f779c3a7ff4b6889edee38745b7d28', 'asset': 'ETH/BTC', 'price': 0.1, 'quantity': 1, 'type': 'limit', 'side': 'sell', 'filled': 0.0, 'status': 'FILLED', 'fee': {}}\n"
     ]
    },
    {
     "name": "stderr",
     "output_type": "stream",
     "text": [
      "---------------------------------------\n",
      "Epoch 141 - Timestep: 2018-01-10T14:48:00\n",
      "---------------------------------------\n",
      "OHLCV\n",
      "    O: 0.0955 | C: 0.0955 | V: 361.0 | T: 2018-01-10T14:48:00\n",
      "ORDERS\n",
      "    1: ETH/BTC | LIMIT_BUY | Price: 0.1000 | Quantity: 1.0000\n",
      "PERFORMANCE\n",
      "    Cash: 0.4000 Total Val: 1.0000 PnL: 0.0000 Returns: 0.0000\n",
      "BALANCE\n",
      "    BTC - {'free': 0.40000000000000013, 'used': 0.0, 'total': 0.40000000000000013}\n",
      "    ETH - {'free': 6.0, 'used': 0.0, 'total': 6.0}\n",
      "POSITIONS\n",
      "     {'asset': 'ETH/BTC', 'quantity': 6, 'cost_price': 0.09999999999999999, 'latest_price': 0.1}\n",
      "METRICS\n",
      "    SMA: 5.00\n",
      "    RSI: 10.00\n"
     ]
    },
    {
     "name": "stdout",
     "output_type": "stream",
     "text": [
      "{'id': 'fc65419b0dd3400fbfc72e94a21f91f1', 'asset': 'ETH/BTC', 'price': 0.1, 'quantity': 1, 'type': 'limit', 'side': 'buy', 'filled': 0.0, 'status': 'FILLED', 'fee': {}}\n"
     ]
    },
    {
     "name": "stderr",
     "output_type": "stream",
     "text": [
      "---------------------------------------\n",
      "Epoch 142 - Timestep: 2018-01-10T14:49:00\n",
      "---------------------------------------\n",
      "OHLCV\n",
      "    O: 0.0955 | C: 0.0956 | V: 255.6 | T: 2018-01-10T14:49:00\n",
      "ORDERS\n",
      "    1: ETH/BTC | LIMIT_BUY | Price: 0.1000 | Quantity: 1.0000\n",
      "PERFORMANCE\n",
      "    Cash: 0.3000 Total Val: 1.0000 PnL: 0.0000 Returns: 0.0000\n",
      "BALANCE\n",
      "    BTC - {'free': 0.30000000000000016, 'used': 0.0, 'total': 0.30000000000000016}\n",
      "    ETH - {'free': 7.0, 'used': 0.0, 'total': 7.0}\n",
      "POSITIONS\n",
      "     {'asset': 'ETH/BTC', 'quantity': 7, 'cost_price': 0.09999999999999999, 'latest_price': 0.1}\n",
      "METRICS\n",
      "    SMA: 5.00\n",
      "    RSI: 10.00\n"
     ]
    },
    {
     "name": "stdout",
     "output_type": "stream",
     "text": [
      "{'id': 'dbe48cac278b44dcb79f1ec0d188c933', 'asset': 'ETH/BTC', 'price': 0.1, 'quantity': 1, 'type': 'limit', 'side': 'buy', 'filled': 0.0, 'status': 'FILLED', 'fee': {}}\n"
     ]
    },
    {
     "name": "stderr",
     "output_type": "stream",
     "text": [
      "---------------------------------------\n",
      "Epoch 143 - Timestep: 2018-01-10T14:50:00\n",
      "---------------------------------------\n",
      "OHLCV\n",
      "    O: 0.0956 | C: 0.0958 | V: 338.8 | T: 2018-01-10T14:50:00\n",
      "ORDERS\n",
      "    1: ETH/BTC | LIMIT_BUY | Price: 0.1000 | Quantity: 1.0000\n",
      "PERFORMANCE\n",
      "    Cash: 0.2000 Total Val: 1.0000 PnL: 0.0000 Returns: 0.0000\n",
      "BALANCE\n",
      "    BTC - {'free': 0.20000000000000015, 'used': 0.0, 'total': 0.20000000000000015}\n",
      "    ETH - {'free': 8.0, 'used': 0.0, 'total': 8.0}\n",
      "POSITIONS\n",
      "     {'asset': 'ETH/BTC', 'quantity': 8, 'cost_price': 0.09999999999999999, 'latest_price': 0.1}\n",
      "METRICS\n",
      "    SMA: 5.00\n",
      "    RSI: 10.00\n"
     ]
    },
    {
     "name": "stdout",
     "output_type": "stream",
     "text": [
      "{'id': 'bb1664685087415ba66a59d18b8ecf7a', 'asset': 'ETH/BTC', 'price': 0.1, 'quantity': 1, 'type': 'limit', 'side': 'buy', 'filled': 0.0, 'status': 'FILLED', 'fee': {}}\n"
     ]
    },
    {
     "name": "stderr",
     "output_type": "stream",
     "text": [
      "---------------------------------------\n",
      "Epoch 144 - Timestep: 2018-01-10T14:51:00\n",
      "---------------------------------------\n",
      "OHLCV\n",
      "    O: 0.0958 | C: 0.0958 | V: 360.6 | T: 2018-01-10T14:51:00\n",
      "ORDERS\n",
      "    1: ETH/BTC | LIMIT_SELL | Price: 0.1000 | Quantity: 1.0000\n",
      "PERFORMANCE\n",
      "    Cash: 0.1000 Total Val: 1.0000 PnL: 0.0000 Returns: 0.0000\n",
      "BALANCE\n",
      "    BTC - {'free': 0.10000000000000014, 'used': 0.0, 'total': 0.10000000000000014}\n",
      "    ETH - {'free': 9.0, 'used': 0.0, 'total': 9.0}\n",
      "POSITIONS\n",
      "     {'asset': 'ETH/BTC', 'quantity': 9, 'cost_price': 0.09999999999999999, 'latest_price': 0.1}\n",
      "METRICS\n",
      "    SMA: 5.00\n",
      "    RSI: 10.00\n"
     ]
    },
    {
     "name": "stdout",
     "output_type": "stream",
     "text": [
      "{'id': '150bc3df54904794939aa6588723646f', 'asset': 'ETH/BTC', 'price': 0.1, 'quantity': 1, 'type': 'limit', 'side': 'sell', 'filled': 0.0, 'status': 'FILLED', 'fee': {}}\n"
     ]
    },
    {
     "name": "stderr",
     "output_type": "stream",
     "text": [
      "---------------------------------------\n",
      "Epoch 145 - Timestep: 2018-01-10T14:52:00\n",
      "---------------------------------------\n",
      "OHLCV\n",
      "    O: 0.0958 | C: 0.0960 | V: 414.2 | T: 2018-01-10T14:52:00\n",
      "ORDERS\n",
      "    1: ETH/BTC | LIMIT_BUY | Price: 0.1000 | Quantity: 1.0000\n",
      "PERFORMANCE\n",
      "    Cash: 0.2000 Total Val: 1.0000 PnL: 0.0000 Returns: 0.0000\n",
      "BALANCE\n",
      "    BTC - {'free': 0.20000000000000015, 'used': 0.0, 'total': 0.20000000000000015}\n",
      "    ETH - {'free': 8.0, 'used': 0.0, 'total': 8.0}\n",
      "POSITIONS\n",
      "     {'asset': 'ETH/BTC', 'quantity': 8, 'cost_price': 0.09999999999999999, 'latest_price': 0.1}\n",
      "METRICS\n",
      "    SMA: 5.00\n",
      "    RSI: 10.00\n"
     ]
    },
    {
     "name": "stdout",
     "output_type": "stream",
     "text": [
      "{'id': 'b0496171c4a44aad9c91038bfaca8209', 'asset': 'ETH/BTC', 'price': 0.1, 'quantity': 1, 'type': 'limit', 'side': 'buy', 'filled': 0.0, 'status': 'FILLED', 'fee': {}}\n"
     ]
    },
    {
     "name": "stderr",
     "output_type": "stream",
     "text": [
      "---------------------------------------\n",
      "Epoch 146 - Timestep: 2018-01-10T14:53:00\n",
      "---------------------------------------\n",
      "OHLCV\n",
      "    O: 0.0960 | C: 0.0961 | V: 242.9 | T: 2018-01-10T14:53:00\n",
      "ORDERS\n",
      "    1: ETH/BTC | LIMIT_SELL | Price: 0.1000 | Quantity: 1.0000\n",
      "PERFORMANCE\n",
      "    Cash: 0.1000 Total Val: 1.0000 PnL: 0.0000 Returns: 0.0000\n",
      "BALANCE\n",
      "    BTC - {'free': 0.10000000000000014, 'used': 0.0, 'total': 0.10000000000000014}\n",
      "    ETH - {'free': 9.0, 'used': 0.0, 'total': 9.0}\n",
      "POSITIONS\n",
      "     {'asset': 'ETH/BTC', 'quantity': 9, 'cost_price': 0.09999999999999999, 'latest_price': 0.1}\n",
      "METRICS\n",
      "    SMA: 5.00\n",
      "    RSI: 10.00\n"
     ]
    },
    {
     "name": "stdout",
     "output_type": "stream",
     "text": [
      "{'id': 'c4d68d8eb441428e8c988952b6803161', 'asset': 'ETH/BTC', 'price': 0.1, 'quantity': 1, 'type': 'limit', 'side': 'sell', 'filled': 0.0, 'status': 'FILLED', 'fee': {}}\n"
     ]
    },
    {
     "name": "stderr",
     "output_type": "stream",
     "text": [
      "---------------------------------------\n",
      "Epoch 147 - Timestep: 2018-01-10T14:54:00\n",
      "---------------------------------------\n",
      "OHLCV\n",
      "    O: 0.0960 | C: 0.0970 | V: 447.6 | T: 2018-01-10T14:54:00\n",
      "ORDERS\n",
      "    1: ETH/BTC | LIMIT_SELL | Price: 0.1000 | Quantity: 1.0000\n",
      "PERFORMANCE\n",
      "    Cash: 0.2000 Total Val: 1.0000 PnL: 0.0000 Returns: 0.0000\n",
      "BALANCE\n",
      "    BTC - {'free': 0.20000000000000015, 'used': 0.0, 'total': 0.20000000000000015}\n",
      "    ETH - {'free': 8.0, 'used': 0.0, 'total': 8.0}\n",
      "POSITIONS\n",
      "     {'asset': 'ETH/BTC', 'quantity': 8, 'cost_price': 0.09999999999999999, 'latest_price': 0.1}\n",
      "METRICS\n",
      "    SMA: 5.00\n",
      "    RSI: 10.00\n"
     ]
    },
    {
     "name": "stdout",
     "output_type": "stream",
     "text": [
      "{'id': 'ee4a54bb0dac45b5a2f9b51277844001', 'asset': 'ETH/BTC', 'price': 0.1, 'quantity': 1, 'type': 'limit', 'side': 'sell', 'filled': 0.0, 'status': 'FILLED', 'fee': {}}\n"
     ]
    },
    {
     "name": "stderr",
     "output_type": "stream",
     "text": [
      "---------------------------------------\n",
      "Epoch 148 - Timestep: 2018-01-10T14:55:00\n",
      "---------------------------------------\n",
      "OHLCV\n",
      "    O: 0.0970 | C: 0.0965 | V: 437.3 | T: 2018-01-10T14:55:00\n",
      "ORDERS\n",
      "    1: ETH/BTC | LIMIT_SELL | Price: 0.1000 | Quantity: 1.0000\n",
      "PERFORMANCE\n",
      "    Cash: 0.3000 Total Val: 1.0000 PnL: 0.0000 Returns: 0.0000\n",
      "BALANCE\n",
      "    BTC - {'free': 0.30000000000000016, 'used': 0.0, 'total': 0.30000000000000016}\n",
      "    ETH - {'free': 7.0, 'used': 0.0, 'total': 7.0}\n",
      "POSITIONS\n",
      "     {'asset': 'ETH/BTC', 'quantity': 7, 'cost_price': 0.09999999999999999, 'latest_price': 0.1}\n",
      "METRICS\n",
      "    SMA: 5.00\n",
      "    RSI: 10.00\n"
     ]
    },
    {
     "name": "stdout",
     "output_type": "stream",
     "text": [
      "{'id': '3bba4122d99e433fa1e910f9765689be', 'asset': 'ETH/BTC', 'price': 0.1, 'quantity': 1, 'type': 'limit', 'side': 'sell', 'filled': 0.0, 'status': 'FILLED', 'fee': {}}\n"
     ]
    },
    {
     "name": "stderr",
     "output_type": "stream",
     "text": [
      "---------------------------------------\n",
      "Epoch 149 - Timestep: 2018-01-10T14:56:00\n",
      "---------------------------------------\n",
      "OHLCV\n",
      "    O: 0.0963 | C: 0.0965 | V: 631.3 | T: 2018-01-10T14:56:00\n",
      "ORDERS\n",
      "    1: ETH/BTC | LIMIT_BUY | Price: 0.1000 | Quantity: 1.0000\n",
      "PERFORMANCE\n",
      "    Cash: 0.4000 Total Val: 1.0000 PnL: 0.0000 Returns: 0.0000\n",
      "BALANCE\n",
      "    BTC - {'free': 0.40000000000000013, 'used': 0.0, 'total': 0.40000000000000013}\n",
      "    ETH - {'free': 6.0, 'used': 0.0, 'total': 6.0}\n",
      "POSITIONS\n",
      "     {'asset': 'ETH/BTC', 'quantity': 6, 'cost_price': 0.09999999999999999, 'latest_price': 0.1}\n",
      "METRICS\n",
      "    SMA: 5.00\n",
      "    RSI: 10.00\n"
     ]
    },
    {
     "name": "stdout",
     "output_type": "stream",
     "text": [
      "{'id': '7d5ec9b6742940edbcdf48e8a7149dee', 'asset': 'ETH/BTC', 'price': 0.1, 'quantity': 1, 'type': 'limit', 'side': 'buy', 'filled': 0.0, 'status': 'FILLED', 'fee': {}}\n"
     ]
    },
    {
     "name": "stderr",
     "output_type": "stream",
     "text": [
      "---------------------------------------\n",
      "Epoch 150 - Timestep: 2018-01-10T14:57:00\n",
      "---------------------------------------\n",
      "OHLCV\n",
      "    O: 0.0966 | C: 0.0965 | V: 419.6 | T: 2018-01-10T14:57:00\n",
      "ORDERS\n",
      "    1: ETH/BTC | LIMIT_BUY | Price: 0.1000 | Quantity: 1.0000\n",
      "PERFORMANCE\n",
      "    Cash: 0.3000 Total Val: 1.0000 PnL: 0.0000 Returns: 0.0000\n",
      "BALANCE\n",
      "    BTC - {'free': 0.30000000000000016, 'used': 0.0, 'total': 0.30000000000000016}\n",
      "    ETH - {'free': 7.0, 'used': 0.0, 'total': 7.0}\n",
      "POSITIONS\n",
      "     {'asset': 'ETH/BTC', 'quantity': 7, 'cost_price': 0.09999999999999999, 'latest_price': 0.1}\n",
      "METRICS\n",
      "    SMA: 5.00\n",
      "    RSI: 10.00\n"
     ]
    },
    {
     "name": "stdout",
     "output_type": "stream",
     "text": [
      "{'id': '77eaa2b197d54fe98ec1af5d8cc5e203', 'asset': 'ETH/BTC', 'price': 0.1, 'quantity': 1, 'type': 'limit', 'side': 'buy', 'filled': 0.0, 'status': 'FILLED', 'fee': {}}\n"
     ]
    },
    {
     "name": "stderr",
     "output_type": "stream",
     "text": [
      "---------------------------------------\n",
      "Epoch 151 - Timestep: 2018-01-10T14:58:00\n",
      "---------------------------------------\n",
      "OHLCV\n",
      "    O: 0.0965 | C: 0.0965 | V: 162.0 | T: 2018-01-10T14:58:00\n",
      "ORDERS\n",
      "    1: ETH/BTC | LIMIT_BUY | Price: 0.1000 | Quantity: 1.0000\n",
      "PERFORMANCE\n",
      "    Cash: 0.2000 Total Val: 1.0000 PnL: 0.0000 Returns: 0.0000\n",
      "BALANCE\n",
      "    BTC - {'free': 0.20000000000000015, 'used': 0.0, 'total': 0.20000000000000015}\n",
      "    ETH - {'free': 8.0, 'used': 0.0, 'total': 8.0}\n",
      "POSITIONS\n",
      "     {'asset': 'ETH/BTC', 'quantity': 8, 'cost_price': 0.09999999999999999, 'latest_price': 0.1}\n",
      "METRICS\n",
      "    SMA: 5.00\n",
      "    RSI: 10.00\n"
     ]
    },
    {
     "name": "stdout",
     "output_type": "stream",
     "text": [
      "{'id': '5729ddec01b64bdfb28df66c6dcd2c3b', 'asset': 'ETH/BTC', 'price': 0.1, 'quantity': 1, 'type': 'limit', 'side': 'buy', 'filled': 0.0, 'status': 'FILLED', 'fee': {}}\n"
     ]
    },
    {
     "name": "stderr",
     "output_type": "stream",
     "text": [
      "---------------------------------------\n",
      "Epoch 152 - Timestep: 2018-01-10T14:59:00\n",
      "---------------------------------------\n",
      "OHLCV\n",
      "    O: 0.0965 | C: 0.0965 | V: 183.7 | T: 2018-01-10T14:59:00\n",
      "ORDERS\n",
      "    1: ETH/BTC | LIMIT_SELL | Price: 0.1000 | Quantity: 1.0000\n",
      "PERFORMANCE\n",
      "    Cash: 0.1000 Total Val: 1.0000 PnL: 0.0000 Returns: 0.0000\n",
      "BALANCE\n",
      "    BTC - {'free': 0.10000000000000014, 'used': 0.0, 'total': 0.10000000000000014}\n",
      "    ETH - {'free': 9.0, 'used': 0.0, 'total': 9.0}\n",
      "POSITIONS\n",
      "     {'asset': 'ETH/BTC', 'quantity': 9, 'cost_price': 0.09999999999999999, 'latest_price': 0.1}\n",
      "METRICS\n",
      "    SMA: 5.00\n",
      "    RSI: 10.00\n"
     ]
    },
    {
     "name": "stdout",
     "output_type": "stream",
     "text": [
      "{'id': '6c5cc13eecde443aab0c031cf68bd419', 'asset': 'ETH/BTC', 'price': 0.1, 'quantity': 1, 'type': 'limit', 'side': 'sell', 'filled': 0.0, 'status': 'FILLED', 'fee': {}}\n"
     ]
    },
    {
     "name": "stderr",
     "output_type": "stream",
     "text": [
      "---------------------------------------\n",
      "Epoch 153 - Timestep: 2018-01-10T15:00:00\n",
      "---------------------------------------\n",
      "OHLCV\n",
      "    O: 0.0964 | C: 0.0966 | V: 393.2 | T: 2018-01-10T15:00:00\n",
      "ORDERS\n",
      "    1: ETH/BTC | LIMIT_BUY | Price: 0.1000 | Quantity: 1.0000\n",
      "PERFORMANCE\n",
      "    Cash: 0.2000 Total Val: 1.0000 PnL: 0.0000 Returns: 0.0000\n",
      "BALANCE\n",
      "    BTC - {'free': 0.20000000000000015, 'used': 0.0, 'total': 0.20000000000000015}\n",
      "    ETH - {'free': 8.0, 'used': 0.0, 'total': 8.0}\n",
      "POSITIONS\n",
      "     {'asset': 'ETH/BTC', 'quantity': 8, 'cost_price': 0.09999999999999999, 'latest_price': 0.1}\n",
      "METRICS\n",
      "    SMA: 5.00\n",
      "    RSI: 10.00\n"
     ]
    },
    {
     "name": "stdout",
     "output_type": "stream",
     "text": [
      "{'id': '8fd04b188c964085b2fc4a93b6967c48', 'asset': 'ETH/BTC', 'price': 0.1, 'quantity': 1, 'type': 'limit', 'side': 'buy', 'filled': 0.0, 'status': 'FILLED', 'fee': {}}\n"
     ]
    },
    {
     "name": "stderr",
     "output_type": "stream",
     "text": [
      "---------------------------------------\n",
      "Epoch 154 - Timestep: 2018-01-10T15:01:00\n",
      "---------------------------------------\n",
      "OHLCV\n",
      "    O: 0.0967 | C: 0.0966 | V: 284.7 | T: 2018-01-10T15:01:00\n",
      "ORDERS\n",
      "    1: ETH/BTC | LIMIT_BUY | Price: 0.1000 | Quantity: 1.0000\n",
      "PERFORMANCE\n",
      "    Cash: 0.1000 Total Val: 1.0000 PnL: 0.0000 Returns: 0.0000\n",
      "BALANCE\n",
      "    BTC - {'free': 0.10000000000000014, 'used': 0.0, 'total': 0.10000000000000014}\n",
      "    ETH - {'free': 9.0, 'used': 0.0, 'total': 9.0}\n",
      "POSITIONS\n",
      "     {'asset': 'ETH/BTC', 'quantity': 9, 'cost_price': 0.09999999999999999, 'latest_price': 0.1}\n",
      "METRICS\n",
      "    SMA: 5.00\n",
      "    RSI: 10.00\n"
     ]
    },
    {
     "name": "stdout",
     "output_type": "stream",
     "text": [
      "{'id': '8f3864f01abb417b80d4b1753bd1a09f', 'asset': 'ETH/BTC', 'price': 0.1, 'quantity': 1, 'type': 'limit', 'side': 'buy', 'filled': 0.0, 'status': 'FILLED', 'fee': {}}\n"
     ]
    },
    {
     "name": "stderr",
     "output_type": "stream",
     "text": [
      "---------------------------------------\n",
      "Epoch 155 - Timestep: 2018-01-10T15:02:00\n",
      "---------------------------------------\n",
      "OHLCV\n",
      "    O: 0.0967 | C: 0.0966 | V: 359.0 | T: 2018-01-10T15:02:00\n",
      "ORDERS\n",
      "    1: ETH/BTC | LIMIT_BUY | Price: 0.1000 | Quantity: 1.0000\n",
      "PERFORMANCE\n",
      "    Cash: 0.0000 Total Val: 1.0000 PnL: 0.0000 Returns: 0.0000\n",
      "BALANCE\n",
      "    BTC - {'free': 1.3877787807814457e-16, 'used': 0.0, 'total': 1.3877787807814457e-16}\n",
      "    ETH - {'free': 10.0, 'used': 0.0, 'total': 10.0}\n",
      "POSITIONS\n",
      "     {'asset': 'ETH/BTC', 'quantity': 10, 'cost_price': 0.09999999999999999, 'latest_price': 0.1}\n",
      "METRICS\n",
      "    SMA: 5.00\n",
      "    RSI: 10.00\n"
     ]
    },
    {
     "name": "stdout",
     "output_type": "stream",
     "text": [
      "Balance is not sufficient to create order!\n"
     ]
    },
    {
     "name": "stderr",
     "output_type": "stream",
     "text": [
      "---------------------------------------\n",
      "Epoch 156 - Timestep: 2018-01-10T15:03:00\n",
      "---------------------------------------\n",
      "OHLCV\n",
      "    O: 0.0966 | C: 0.0967 | V: 1133.2 | T: 2018-01-10T15:03:00\n",
      "ORDERS\n",
      "    1: ETH/BTC | LIMIT_SELL | Price: 0.1000 | Quantity: 1.0000\n",
      "PERFORMANCE\n",
      "    Cash: 0.0000 Total Val: 1.0000 PnL: 0.0000 Returns: 0.0000\n",
      "BALANCE\n",
      "    BTC - {'free': 1.3877787807814457e-16, 'used': 0.0, 'total': 1.3877787807814457e-16}\n",
      "    ETH - {'free': 10.0, 'used': 0.0, 'total': 10.0}\n",
      "POSITIONS\n",
      "     {'asset': 'ETH/BTC', 'quantity': 10, 'cost_price': 0.09999999999999999, 'latest_price': 0.1}\n",
      "METRICS\n",
      "    SMA: 5.00\n",
      "    RSI: 10.00\n"
     ]
    },
    {
     "name": "stdout",
     "output_type": "stream",
     "text": [
      "{'id': 'da93e3e80050403aad4490573dc202e5', 'asset': 'ETH/BTC', 'price': 0.1, 'quantity': 1, 'type': 'limit', 'side': 'sell', 'filled': 0.0, 'status': 'FILLED', 'fee': {}}\n"
     ]
    },
    {
     "name": "stderr",
     "output_type": "stream",
     "text": [
      "---------------------------------------\n",
      "Epoch 157 - Timestep: 2018-01-10T15:04:00\n",
      "---------------------------------------\n",
      "OHLCV\n",
      "    O: 0.0967 | C: 0.0972 | V: 384.5 | T: 2018-01-10T15:04:00\n",
      "ORDERS\n",
      "    1: ETH/BTC | LIMIT_BUY | Price: 0.1000 | Quantity: 1.0000\n",
      "PERFORMANCE\n",
      "    Cash: 0.1000 Total Val: 1.0000 PnL: 0.0000 Returns: 0.0000\n",
      "BALANCE\n",
      "    BTC - {'free': 0.10000000000000014, 'used': 0.0, 'total': 0.10000000000000014}\n",
      "    ETH - {'free': 9.0, 'used': 0.0, 'total': 9.0}\n",
      "POSITIONS\n",
      "     {'asset': 'ETH/BTC', 'quantity': 9, 'cost_price': 0.09999999999999999, 'latest_price': 0.1}\n",
      "METRICS\n",
      "    SMA: 5.00\n",
      "    RSI: 10.00\n"
     ]
    },
    {
     "name": "stdout",
     "output_type": "stream",
     "text": [
      "{'id': '5fde9b3c945b44c0b0b1c542c312c421', 'asset': 'ETH/BTC', 'price': 0.1, 'quantity': 1, 'type': 'limit', 'side': 'buy', 'filled': 0.0, 'status': 'FILLED', 'fee': {}}\n"
     ]
    },
    {
     "name": "stderr",
     "output_type": "stream",
     "text": [
      "---------------------------------------\n",
      "Epoch 158 - Timestep: 2018-01-10T15:05:00\n",
      "---------------------------------------\n",
      "OHLCV\n",
      "    O: 0.0968 | C: 0.0968 | V: 256.7 | T: 2018-01-10T15:05:00\n",
      "ORDERS\n",
      "    1: ETH/BTC | LIMIT_SELL | Price: 0.1000 | Quantity: 1.0000\n",
      "PERFORMANCE\n",
      "    Cash: 0.0000 Total Val: 1.0000 PnL: 0.0000 Returns: 0.0000\n",
      "BALANCE\n",
      "    BTC - {'free': 1.3877787807814457e-16, 'used': 0.0, 'total': 1.3877787807814457e-16}\n",
      "    ETH - {'free': 10.0, 'used': 0.0, 'total': 10.0}\n",
      "POSITIONS\n",
      "     {'asset': 'ETH/BTC', 'quantity': 10, 'cost_price': 0.09999999999999999, 'latest_price': 0.1}\n",
      "METRICS\n",
      "    SMA: 5.00\n",
      "    RSI: 10.00\n"
     ]
    },
    {
     "name": "stdout",
     "output_type": "stream",
     "text": [
      "{'id': 'e2b29db3b4c741838267d441b635edc0', 'asset': 'ETH/BTC', 'price': 0.1, 'quantity': 1, 'type': 'limit', 'side': 'sell', 'filled': 0.0, 'status': 'FILLED', 'fee': {}}\n"
     ]
    },
    {
     "name": "stderr",
     "output_type": "stream",
     "text": [
      "---------------------------------------\n",
      "Epoch 159 - Timestep: 2018-01-10T15:06:00\n",
      "---------------------------------------\n",
      "OHLCV\n",
      "    O: 0.0968 | C: 0.0968 | V: 305.1 | T: 2018-01-10T15:06:00\n",
      "ORDERS\n",
      "    1: ETH/BTC | LIMIT_SELL | Price: 0.1000 | Quantity: 1.0000\n",
      "PERFORMANCE\n",
      "    Cash: 0.1000 Total Val: 1.0000 PnL: 0.0000 Returns: 0.0000\n",
      "BALANCE\n",
      "    BTC - {'free': 0.10000000000000014, 'used': 0.0, 'total': 0.10000000000000014}\n",
      "    ETH - {'free': 9.0, 'used': 0.0, 'total': 9.0}\n",
      "POSITIONS\n",
      "     {'asset': 'ETH/BTC', 'quantity': 9, 'cost_price': 0.09999999999999999, 'latest_price': 0.1}\n",
      "METRICS\n",
      "    SMA: 5.00\n",
      "    RSI: 10.00\n"
     ]
    },
    {
     "name": "stdout",
     "output_type": "stream",
     "text": [
      "{'id': '11655bbce8b8491c9e54bde9afc02678', 'asset': 'ETH/BTC', 'price': 0.1, 'quantity': 1, 'type': 'limit', 'side': 'sell', 'filled': 0.0, 'status': 'FILLED', 'fee': {}}\n"
     ]
    },
    {
     "name": "stderr",
     "output_type": "stream",
     "text": [
      "---------------------------------------\n",
      "Epoch 160 - Timestep: 2018-01-10T15:07:00\n",
      "---------------------------------------\n",
      "OHLCV\n",
      "    O: 0.0968 | C: 0.0967 | V: 249.0 | T: 2018-01-10T15:07:00\n",
      "ORDERS\n",
      "    1: ETH/BTC | LIMIT_BUY | Price: 0.1000 | Quantity: 1.0000\n",
      "PERFORMANCE\n",
      "    Cash: 0.2000 Total Val: 1.0000 PnL: 0.0000 Returns: 0.0000\n",
      "BALANCE\n",
      "    BTC - {'free': 0.20000000000000015, 'used': 0.0, 'total': 0.20000000000000015}\n",
      "    ETH - {'free': 8.0, 'used': 0.0, 'total': 8.0}\n",
      "POSITIONS\n",
      "     {'asset': 'ETH/BTC', 'quantity': 8, 'cost_price': 0.09999999999999999, 'latest_price': 0.1}\n",
      "METRICS\n",
      "    SMA: 5.00\n",
      "    RSI: 10.00\n"
     ]
    },
    {
     "name": "stdout",
     "output_type": "stream",
     "text": [
      "{'id': '2b6307a5974c4cd5b751a6d0f4dab5d0', 'asset': 'ETH/BTC', 'price': 0.1, 'quantity': 1, 'type': 'limit', 'side': 'buy', 'filled': 0.0, 'status': 'FILLED', 'fee': {}}\n"
     ]
    },
    {
     "name": "stderr",
     "output_type": "stream",
     "text": [
      "---------------------------------------\n",
      "Epoch 161 - Timestep: 2018-01-10T15:08:00\n",
      "---------------------------------------\n",
      "OHLCV\n",
      "    O: 0.0967 | C: 0.0967 | V: 128.9 | T: 2018-01-10T15:08:00\n",
      "ORDERS\n",
      "    1: ETH/BTC | LIMIT_SELL | Price: 0.1000 | Quantity: 1.0000\n",
      "PERFORMANCE\n",
      "    Cash: 0.1000 Total Val: 1.0000 PnL: 0.0000 Returns: 0.0000\n",
      "BALANCE\n",
      "    BTC - {'free': 0.10000000000000014, 'used': 0.0, 'total': 0.10000000000000014}\n",
      "    ETH - {'free': 9.0, 'used': 0.0, 'total': 9.0}\n",
      "POSITIONS\n",
      "     {'asset': 'ETH/BTC', 'quantity': 9, 'cost_price': 0.09999999999999999, 'latest_price': 0.1}\n",
      "METRICS\n",
      "    SMA: 5.00\n",
      "    RSI: 10.00\n"
     ]
    },
    {
     "name": "stdout",
     "output_type": "stream",
     "text": [
      "{'id': 'cf30d023195f4084983c643c3addcce0', 'asset': 'ETH/BTC', 'price': 0.1, 'quantity': 1, 'type': 'limit', 'side': 'sell', 'filled': 0.0, 'status': 'FILLED', 'fee': {}}\n"
     ]
    },
    {
     "name": "stderr",
     "output_type": "stream",
     "text": [
      "---------------------------------------\n",
      "Epoch 162 - Timestep: 2018-01-10T15:09:00\n",
      "---------------------------------------\n",
      "OHLCV\n",
      "    O: 0.0968 | C: 0.0967 | V: 247.5 | T: 2018-01-10T15:09:00\n",
      "ORDERS\n",
      "    1: ETH/BTC | LIMIT_BUY | Price: 0.1000 | Quantity: 1.0000\n",
      "PERFORMANCE\n",
      "    Cash: 0.2000 Total Val: 1.0000 PnL: 0.0000 Returns: 0.0000\n",
      "BALANCE\n",
      "    BTC - {'free': 0.20000000000000015, 'used': 0.0, 'total': 0.20000000000000015}\n",
      "    ETH - {'free': 8.0, 'used': 0.0, 'total': 8.0}\n",
      "POSITIONS\n",
      "     {'asset': 'ETH/BTC', 'quantity': 8, 'cost_price': 0.09999999999999999, 'latest_price': 0.1}\n",
      "METRICS\n",
      "    SMA: 5.00\n",
      "    RSI: 10.00\n"
     ]
    },
    {
     "name": "stdout",
     "output_type": "stream",
     "text": [
      "{'id': 'a995c3f5ac1f42cdb982a17f47a4fe7f', 'asset': 'ETH/BTC', 'price': 0.1, 'quantity': 1, 'type': 'limit', 'side': 'buy', 'filled': 0.0, 'status': 'FILLED', 'fee': {}}\n"
     ]
    },
    {
     "name": "stderr",
     "output_type": "stream",
     "text": [
      "---------------------------------------\n",
      "Epoch 163 - Timestep: 2018-01-10T15:10:00\n",
      "---------------------------------------\n",
      "OHLCV\n",
      "    O: 0.0967 | C: 0.0966 | V: 525.3 | T: 2018-01-10T15:10:00\n",
      "ORDERS\n",
      "    1: ETH/BTC | LIMIT_BUY | Price: 0.1000 | Quantity: 1.0000\n",
      "PERFORMANCE\n",
      "    Cash: 0.1000 Total Val: 1.0000 PnL: 0.0000 Returns: 0.0000\n",
      "BALANCE\n",
      "    BTC - {'free': 0.10000000000000014, 'used': 0.0, 'total': 0.10000000000000014}\n",
      "    ETH - {'free': 9.0, 'used': 0.0, 'total': 9.0}\n",
      "POSITIONS\n",
      "     {'asset': 'ETH/BTC', 'quantity': 9, 'cost_price': 0.09999999999999999, 'latest_price': 0.1}\n",
      "METRICS\n",
      "    SMA: 5.00\n",
      "    RSI: 10.00\n"
     ]
    },
    {
     "name": "stdout",
     "output_type": "stream",
     "text": [
      "{'id': '8612a62cc18446969df754f3e2ee1c62', 'asset': 'ETH/BTC', 'price': 0.1, 'quantity': 1, 'type': 'limit', 'side': 'buy', 'filled': 0.0, 'status': 'FILLED', 'fee': {}}\n"
     ]
    },
    {
     "name": "stderr",
     "output_type": "stream",
     "text": [
      "---------------------------------------\n",
      "Epoch 164 - Timestep: 2018-01-10T15:11:00\n",
      "---------------------------------------\n",
      "OHLCV\n",
      "    O: 0.0966 | C: 0.0963 | V: 319.7 | T: 2018-01-10T15:11:00\n",
      "ORDERS\n",
      "    1: ETH/BTC | LIMIT_SELL | Price: 0.1000 | Quantity: 1.0000\n",
      "PERFORMANCE\n",
      "    Cash: 0.0000 Total Val: 1.0000 PnL: 0.0000 Returns: 0.0000\n",
      "BALANCE\n",
      "    BTC - {'free': 1.3877787807814457e-16, 'used': 0.0, 'total': 1.3877787807814457e-16}\n",
      "    ETH - {'free': 10.0, 'used': 0.0, 'total': 10.0}\n",
      "POSITIONS\n",
      "     {'asset': 'ETH/BTC', 'quantity': 10, 'cost_price': 0.09999999999999999, 'latest_price': 0.1}\n",
      "METRICS\n",
      "    SMA: 5.00\n",
      "    RSI: 10.00\n"
     ]
    },
    {
     "name": "stdout",
     "output_type": "stream",
     "text": [
      "{'id': '153e9d93be224f53b2d3d6b53564bfa4', 'asset': 'ETH/BTC', 'price': 0.1, 'quantity': 1, 'type': 'limit', 'side': 'sell', 'filled': 0.0, 'status': 'FILLED', 'fee': {}}\n"
     ]
    },
    {
     "name": "stderr",
     "output_type": "stream",
     "text": [
      "---------------------------------------\n",
      "Epoch 165 - Timestep: 2018-01-10T15:12:00\n",
      "---------------------------------------\n",
      "OHLCV\n",
      "    O: 0.0963 | C: 0.0964 | V: 176.2 | T: 2018-01-10T15:12:00\n",
      "ORDERS\n",
      "    1: ETH/BTC | LIMIT_BUY | Price: 0.1000 | Quantity: 1.0000\n",
      "PERFORMANCE\n",
      "    Cash: 0.1000 Total Val: 1.0000 PnL: 0.0000 Returns: 0.0000\n",
      "BALANCE\n",
      "    BTC - {'free': 0.10000000000000014, 'used': 0.0, 'total': 0.10000000000000014}\n",
      "    ETH - {'free': 9.0, 'used': 0.0, 'total': 9.0}\n",
      "POSITIONS\n",
      "     {'asset': 'ETH/BTC', 'quantity': 9, 'cost_price': 0.09999999999999999, 'latest_price': 0.1}\n",
      "METRICS\n",
      "    SMA: 5.00\n",
      "    RSI: 10.00\n"
     ]
    },
    {
     "name": "stdout",
     "output_type": "stream",
     "text": [
      "{'id': 'b4a98a57ebe74a6c9fe4398d8eee2e18', 'asset': 'ETH/BTC', 'price': 0.1, 'quantity': 1, 'type': 'limit', 'side': 'buy', 'filled': 0.0, 'status': 'FILLED', 'fee': {}}\n"
     ]
    },
    {
     "name": "stderr",
     "output_type": "stream",
     "text": [
      "---------------------------------------\n",
      "Epoch 166 - Timestep: 2018-01-10T15:13:00\n",
      "---------------------------------------\n",
      "OHLCV\n",
      "    O: 0.0964 | C: 0.0969 | V: 601.8 | T: 2018-01-10T15:13:00\n",
      "ORDERS\n",
      "    1: ETH/BTC | LIMIT_BUY | Price: 0.1000 | Quantity: 1.0000\n",
      "PERFORMANCE\n",
      "    Cash: 0.0000 Total Val: 1.0000 PnL: 0.0000 Returns: 0.0000\n",
      "BALANCE\n",
      "    BTC - {'free': 1.3877787807814457e-16, 'used': 0.0, 'total': 1.3877787807814457e-16}\n",
      "    ETH - {'free': 10.0, 'used': 0.0, 'total': 10.0}\n",
      "POSITIONS\n",
      "     {'asset': 'ETH/BTC', 'quantity': 10, 'cost_price': 0.09999999999999999, 'latest_price': 0.1}\n",
      "METRICS\n",
      "    SMA: 5.00\n",
      "    RSI: 10.00\n"
     ]
    },
    {
     "name": "stdout",
     "output_type": "stream",
     "text": [
      "Balance is not sufficient to create order!\n"
     ]
    },
    {
     "name": "stderr",
     "output_type": "stream",
     "text": [
      "---------------------------------------\n",
      "Epoch 167 - Timestep: 2018-01-10T15:14:00\n",
      "---------------------------------------\n",
      "OHLCV\n",
      "    O: 0.0968 | C: 0.0966 | V: 238.0 | T: 2018-01-10T15:14:00\n",
      "ORDERS\n",
      "    1: ETH/BTC | LIMIT_SELL | Price: 0.1000 | Quantity: 1.0000\n",
      "PERFORMANCE\n",
      "    Cash: 0.0000 Total Val: 1.0000 PnL: 0.0000 Returns: 0.0000\n",
      "BALANCE\n",
      "    BTC - {'free': 1.3877787807814457e-16, 'used': 0.0, 'total': 1.3877787807814457e-16}\n",
      "    ETH - {'free': 10.0, 'used': 0.0, 'total': 10.0}\n",
      "POSITIONS\n",
      "     {'asset': 'ETH/BTC', 'quantity': 10, 'cost_price': 0.09999999999999999, 'latest_price': 0.1}\n",
      "METRICS\n",
      "    SMA: 5.00\n",
      "    RSI: 10.00\n"
     ]
    },
    {
     "name": "stdout",
     "output_type": "stream",
     "text": [
      "{'id': 'bc3c810843c74be69b2498841633c51d', 'asset': 'ETH/BTC', 'price': 0.1, 'quantity': 1, 'type': 'limit', 'side': 'sell', 'filled': 0.0, 'status': 'FILLED', 'fee': {}}\n"
     ]
    },
    {
     "name": "stderr",
     "output_type": "stream",
     "text": [
      "---------------------------------------\n",
      "Epoch 168 - Timestep: 2018-01-10T15:15:00\n",
      "---------------------------------------\n",
      "OHLCV\n",
      "    O: 0.0966 | C: 0.0967 | V: 197.2 | T: 2018-01-10T15:15:00\n",
      "ORDERS\n",
      "    1: ETH/BTC | LIMIT_SELL | Price: 0.1000 | Quantity: 1.0000\n",
      "PERFORMANCE\n",
      "    Cash: 0.1000 Total Val: 1.0000 PnL: 0.0000 Returns: 0.0000\n",
      "BALANCE\n",
      "    BTC - {'free': 0.10000000000000014, 'used': 0.0, 'total': 0.10000000000000014}\n",
      "    ETH - {'free': 9.0, 'used': 0.0, 'total': 9.0}\n",
      "POSITIONS\n",
      "     {'asset': 'ETH/BTC', 'quantity': 9, 'cost_price': 0.09999999999999999, 'latest_price': 0.1}\n",
      "METRICS\n",
      "    SMA: 5.00\n",
      "    RSI: 10.00\n"
     ]
    },
    {
     "name": "stdout",
     "output_type": "stream",
     "text": [
      "{'id': 'f81d31606eaf4545a854c76e8a5fad1d', 'asset': 'ETH/BTC', 'price': 0.1, 'quantity': 1, 'type': 'limit', 'side': 'sell', 'filled': 0.0, 'status': 'FILLED', 'fee': {}}\n"
     ]
    },
    {
     "name": "stderr",
     "output_type": "stream",
     "text": [
      "---------------------------------------\n",
      "Epoch 169 - Timestep: 2018-01-10T15:16:00\n",
      "---------------------------------------\n",
      "OHLCV\n",
      "    O: 0.0967 | C: 0.0969 | V: 426.0 | T: 2018-01-10T15:16:00\n",
      "ORDERS\n",
      "    1: ETH/BTC | LIMIT_BUY | Price: 0.1000 | Quantity: 1.0000\n",
      "PERFORMANCE\n",
      "    Cash: 0.2000 Total Val: 1.0000 PnL: 0.0000 Returns: 0.0000\n",
      "BALANCE\n",
      "    BTC - {'free': 0.20000000000000015, 'used': 0.0, 'total': 0.20000000000000015}\n",
      "    ETH - {'free': 8.0, 'used': 0.0, 'total': 8.0}\n",
      "POSITIONS\n",
      "     {'asset': 'ETH/BTC', 'quantity': 8, 'cost_price': 0.09999999999999999, 'latest_price': 0.1}\n",
      "METRICS\n",
      "    SMA: 5.00\n",
      "    RSI: 10.00\n"
     ]
    },
    {
     "name": "stdout",
     "output_type": "stream",
     "text": [
      "{'id': '3582c4a392374cb89512dcc4df09b6da', 'asset': 'ETH/BTC', 'price': 0.1, 'quantity': 1, 'type': 'limit', 'side': 'buy', 'filled': 0.0, 'status': 'FILLED', 'fee': {}}\n"
     ]
    },
    {
     "name": "stderr",
     "output_type": "stream",
     "text": [
      "---------------------------------------\n",
      "Epoch 170 - Timestep: 2018-01-10T15:17:00\n",
      "---------------------------------------\n",
      "OHLCV\n",
      "    O: 0.0969 | C: 0.0968 | V: 282.6 | T: 2018-01-10T15:17:00\n",
      "ORDERS\n",
      "    1: ETH/BTC | LIMIT_BUY | Price: 0.1000 | Quantity: 1.0000\n",
      "PERFORMANCE\n",
      "    Cash: 0.1000 Total Val: 1.0000 PnL: 0.0000 Returns: 0.0000\n",
      "BALANCE\n",
      "    BTC - {'free': 0.10000000000000014, 'used': 0.0, 'total': 0.10000000000000014}\n",
      "    ETH - {'free': 9.0, 'used': 0.0, 'total': 9.0}\n",
      "POSITIONS\n",
      "     {'asset': 'ETH/BTC', 'quantity': 9, 'cost_price': 0.09999999999999999, 'latest_price': 0.1}\n",
      "METRICS\n",
      "    SMA: 5.00\n",
      "    RSI: 10.00\n"
     ]
    },
    {
     "name": "stdout",
     "output_type": "stream",
     "text": [
      "{'id': '7a8af90fc823472d8a35e2fa45e4045e', 'asset': 'ETH/BTC', 'price': 0.1, 'quantity': 1, 'type': 'limit', 'side': 'buy', 'filled': 0.0, 'status': 'FILLED', 'fee': {}}\n"
     ]
    },
    {
     "name": "stderr",
     "output_type": "stream",
     "text": [
      "---------------------------------------\n",
      "Epoch 171 - Timestep: 2018-01-10T15:18:00\n",
      "---------------------------------------\n",
      "OHLCV\n",
      "    O: 0.0968 | C: 0.0966 | V: 194.7 | T: 2018-01-10T15:18:00\n",
      "ORDERS\n",
      "    1: ETH/BTC | LIMIT_SELL | Price: 0.1000 | Quantity: 1.0000\n",
      "PERFORMANCE\n",
      "    Cash: 0.0000 Total Val: 1.0000 PnL: 0.0000 Returns: 0.0000\n",
      "BALANCE\n",
      "    BTC - {'free': 1.3877787807814457e-16, 'used': 0.0, 'total': 1.3877787807814457e-16}\n",
      "    ETH - {'free': 10.0, 'used': 0.0, 'total': 10.0}\n",
      "POSITIONS\n",
      "     {'asset': 'ETH/BTC', 'quantity': 10, 'cost_price': 0.09999999999999999, 'latest_price': 0.1}\n",
      "METRICS\n",
      "    SMA: 5.00\n",
      "    RSI: 10.00\n"
     ]
    },
    {
     "name": "stdout",
     "output_type": "stream",
     "text": [
      "{'id': 'f8e9cb59b24d408787d8ef5cda06be8c', 'asset': 'ETH/BTC', 'price': 0.1, 'quantity': 1, 'type': 'limit', 'side': 'sell', 'filled': 0.0, 'status': 'FILLED', 'fee': {}}\n"
     ]
    },
    {
     "name": "stderr",
     "output_type": "stream",
     "text": [
      "---------------------------------------\n",
      "Epoch 172 - Timestep: 2018-01-10T15:19:00\n",
      "---------------------------------------\n",
      "OHLCV\n",
      "    O: 0.0966 | C: 0.0965 | V: 395.6 | T: 2018-01-10T15:19:00\n",
      "ORDERS\n",
      "    1: ETH/BTC | LIMIT_SELL | Price: 0.1000 | Quantity: 1.0000\n",
      "PERFORMANCE\n",
      "    Cash: 0.1000 Total Val: 1.0000 PnL: 0.0000 Returns: 0.0000\n",
      "BALANCE\n",
      "    BTC - {'free': 0.10000000000000014, 'used': 0.0, 'total': 0.10000000000000014}\n",
      "    ETH - {'free': 9.0, 'used': 0.0, 'total': 9.0}\n",
      "POSITIONS\n",
      "     {'asset': 'ETH/BTC', 'quantity': 9, 'cost_price': 0.09999999999999999, 'latest_price': 0.1}\n",
      "METRICS\n",
      "    SMA: 5.00\n",
      "    RSI: 10.00\n"
     ]
    },
    {
     "name": "stdout",
     "output_type": "stream",
     "text": [
      "{'id': 'fcf1d87040514ddf99323efd3049d8b4', 'asset': 'ETH/BTC', 'price': 0.1, 'quantity': 1, 'type': 'limit', 'side': 'sell', 'filled': 0.0, 'status': 'FILLED', 'fee': {}}\n"
     ]
    },
    {
     "name": "stderr",
     "output_type": "stream",
     "text": [
      "---------------------------------------\n",
      "Epoch 173 - Timestep: 2018-01-10T15:20:00\n",
      "---------------------------------------\n",
      "OHLCV\n",
      "    O: 0.0964 | C: 0.0966 | V: 444.5 | T: 2018-01-10T15:20:00\n",
      "ORDERS\n",
      "    1: ETH/BTC | LIMIT_BUY | Price: 0.1000 | Quantity: 1.0000\n",
      "PERFORMANCE\n",
      "    Cash: 0.2000 Total Val: 1.0000 PnL: 0.0000 Returns: 0.0000\n",
      "BALANCE\n",
      "    BTC - {'free': 0.20000000000000015, 'used': 0.0, 'total': 0.20000000000000015}\n",
      "    ETH - {'free': 8.0, 'used': 0.0, 'total': 8.0}\n",
      "POSITIONS\n",
      "     {'asset': 'ETH/BTC', 'quantity': 8, 'cost_price': 0.09999999999999999, 'latest_price': 0.1}\n",
      "METRICS\n",
      "    SMA: 5.00\n",
      "    RSI: 10.00\n"
     ]
    },
    {
     "name": "stdout",
     "output_type": "stream",
     "text": [
      "{'id': '14fd6e0ec1a44ed8969dcf5e6f962705', 'asset': 'ETH/BTC', 'price': 0.1, 'quantity': 1, 'type': 'limit', 'side': 'buy', 'filled': 0.0, 'status': 'FILLED', 'fee': {}}\n"
     ]
    },
    {
     "name": "stderr",
     "output_type": "stream",
     "text": [
      "---------------------------------------\n",
      "Epoch 174 - Timestep: 2018-01-10T15:21:00\n",
      "---------------------------------------\n",
      "OHLCV\n",
      "    O: 0.0965 | C: 0.0966 | V: 325.7 | T: 2018-01-10T15:21:00\n",
      "ORDERS\n",
      "    1: ETH/BTC | LIMIT_BUY | Price: 0.1000 | Quantity: 1.0000\n",
      "PERFORMANCE\n",
      "    Cash: 0.1000 Total Val: 1.0000 PnL: 0.0000 Returns: 0.0000\n",
      "BALANCE\n",
      "    BTC - {'free': 0.10000000000000014, 'used': 0.0, 'total': 0.10000000000000014}\n",
      "    ETH - {'free': 9.0, 'used': 0.0, 'total': 9.0}\n",
      "POSITIONS\n",
      "     {'asset': 'ETH/BTC', 'quantity': 9, 'cost_price': 0.09999999999999999, 'latest_price': 0.1}\n",
      "METRICS\n",
      "    SMA: 5.00\n",
      "    RSI: 10.00\n"
     ]
    },
    {
     "name": "stdout",
     "output_type": "stream",
     "text": [
      "{'id': 'a68d4788683c42ceba54881482c6cb48', 'asset': 'ETH/BTC', 'price': 0.1, 'quantity': 1, 'type': 'limit', 'side': 'buy', 'filled': 0.0, 'status': 'FILLED', 'fee': {}}\n"
     ]
    },
    {
     "name": "stderr",
     "output_type": "stream",
     "text": [
      "---------------------------------------\n",
      "Epoch 175 - Timestep: 2018-01-10T15:22:00\n",
      "---------------------------------------\n",
      "OHLCV\n",
      "    O: 0.0966 | C: 0.0965 | V: 240.8 | T: 2018-01-10T15:22:00\n",
      "ORDERS\n",
      "    1: ETH/BTC | LIMIT_SELL | Price: 0.1000 | Quantity: 1.0000\n",
      "PERFORMANCE\n",
      "    Cash: 0.0000 Total Val: 1.0000 PnL: 0.0000 Returns: 0.0000\n",
      "BALANCE\n",
      "    BTC - {'free': 1.3877787807814457e-16, 'used': 0.0, 'total': 1.3877787807814457e-16}\n",
      "    ETH - {'free': 10.0, 'used': 0.0, 'total': 10.0}\n",
      "POSITIONS\n",
      "     {'asset': 'ETH/BTC', 'quantity': 10, 'cost_price': 0.09999999999999999, 'latest_price': 0.1}\n",
      "METRICS\n",
      "    SMA: 5.00\n",
      "    RSI: 10.00\n"
     ]
    },
    {
     "name": "stdout",
     "output_type": "stream",
     "text": [
      "{'id': '2637ab962722408d94f2666df5d45b99', 'asset': 'ETH/BTC', 'price': 0.1, 'quantity': 1, 'type': 'limit', 'side': 'sell', 'filled': 0.0, 'status': 'FILLED', 'fee': {}}\n"
     ]
    },
    {
     "name": "stderr",
     "output_type": "stream",
     "text": [
      "---------------------------------------\n",
      "Epoch 176 - Timestep: 2018-01-10T15:23:00\n",
      "---------------------------------------\n",
      "OHLCV\n",
      "    O: 0.0965 | C: 0.0965 | V: 339.5 | T: 2018-01-10T15:23:00\n",
      "ORDERS\n",
      "    1: ETH/BTC | LIMIT_SELL | Price: 0.1000 | Quantity: 1.0000\n",
      "PERFORMANCE\n",
      "    Cash: 0.1000 Total Val: 1.0000 PnL: 0.0000 Returns: 0.0000\n",
      "BALANCE\n",
      "    BTC - {'free': 0.10000000000000014, 'used': 0.0, 'total': 0.10000000000000014}\n",
      "    ETH - {'free': 9.0, 'used': 0.0, 'total': 9.0}\n",
      "POSITIONS\n",
      "     {'asset': 'ETH/BTC', 'quantity': 9, 'cost_price': 0.09999999999999999, 'latest_price': 0.1}\n",
      "METRICS\n",
      "    SMA: 5.00\n",
      "    RSI: 10.00\n"
     ]
    },
    {
     "name": "stdout",
     "output_type": "stream",
     "text": [
      "{'id': 'b4d109ef2a544a32a8c01628b9d85cf8', 'asset': 'ETH/BTC', 'price': 0.1, 'quantity': 1, 'type': 'limit', 'side': 'sell', 'filled': 0.0, 'status': 'FILLED', 'fee': {}}\n"
     ]
    },
    {
     "name": "stderr",
     "output_type": "stream",
     "text": [
      "---------------------------------------\n",
      "Epoch 177 - Timestep: 2018-01-10T15:24:00\n",
      "---------------------------------------\n",
      "OHLCV\n",
      "    O: 0.0966 | C: 0.0964 | V: 575.9 | T: 2018-01-10T15:24:00\n",
      "ORDERS\n",
      "    1: ETH/BTC | LIMIT_BUY | Price: 0.1000 | Quantity: 1.0000\n",
      "PERFORMANCE\n",
      "    Cash: 0.2000 Total Val: 1.0000 PnL: 0.0000 Returns: 0.0000\n",
      "BALANCE\n",
      "    BTC - {'free': 0.20000000000000015, 'used': 0.0, 'total': 0.20000000000000015}\n",
      "    ETH - {'free': 8.0, 'used': 0.0, 'total': 8.0}\n",
      "POSITIONS\n",
      "     {'asset': 'ETH/BTC', 'quantity': 8, 'cost_price': 0.09999999999999999, 'latest_price': 0.1}\n",
      "METRICS\n",
      "    SMA: 5.00\n",
      "    RSI: 10.00\n"
     ]
    },
    {
     "name": "stdout",
     "output_type": "stream",
     "text": [
      "{'id': '0d824995fcf646e9872709664118ff8e', 'asset': 'ETH/BTC', 'price': 0.1, 'quantity': 1, 'type': 'limit', 'side': 'buy', 'filled': 0.0, 'status': 'FILLED', 'fee': {}}\n"
     ]
    },
    {
     "name": "stderr",
     "output_type": "stream",
     "text": [
      "---------------------------------------\n",
      "Epoch 178 - Timestep: 2018-01-10T15:25:00\n",
      "---------------------------------------\n",
      "OHLCV\n",
      "    O: 0.0964 | C: 0.0963 | V: 398.7 | T: 2018-01-10T15:25:00\n",
      "ORDERS\n",
      "    1: ETH/BTC | LIMIT_SELL | Price: 0.1000 | Quantity: 1.0000\n",
      "PERFORMANCE\n",
      "    Cash: 0.1000 Total Val: 1.0000 PnL: 0.0000 Returns: 0.0000\n",
      "BALANCE\n",
      "    BTC - {'free': 0.10000000000000014, 'used': 0.0, 'total': 0.10000000000000014}\n",
      "    ETH - {'free': 9.0, 'used': 0.0, 'total': 9.0}\n",
      "POSITIONS\n",
      "     {'asset': 'ETH/BTC', 'quantity': 9, 'cost_price': 0.09999999999999999, 'latest_price': 0.1}\n",
      "METRICS\n",
      "    SMA: 5.00\n",
      "    RSI: 10.00\n"
     ]
    },
    {
     "name": "stdout",
     "output_type": "stream",
     "text": [
      "{'id': '3280a284e9d442f795e5028ef559e699', 'asset': 'ETH/BTC', 'price': 0.1, 'quantity': 1, 'type': 'limit', 'side': 'sell', 'filled': 0.0, 'status': 'FILLED', 'fee': {}}\n"
     ]
    },
    {
     "name": "stderr",
     "output_type": "stream",
     "text": [
      "---------------------------------------\n",
      "Epoch 179 - Timestep: 2018-01-10T15:26:00\n",
      "---------------------------------------\n",
      "OHLCV\n",
      "    O: 0.0964 | C: 0.0964 | V: 340.6 | T: 2018-01-10T15:26:00\n",
      "ORDERS\n",
      "    1: ETH/BTC | LIMIT_BUY | Price: 0.1000 | Quantity: 1.0000\n",
      "PERFORMANCE\n",
      "    Cash: 0.2000 Total Val: 1.0000 PnL: 0.0000 Returns: 0.0000\n",
      "BALANCE\n",
      "    BTC - {'free': 0.20000000000000015, 'used': 0.0, 'total': 0.20000000000000015}\n",
      "    ETH - {'free': 8.0, 'used': 0.0, 'total': 8.0}\n",
      "POSITIONS\n",
      "     {'asset': 'ETH/BTC', 'quantity': 8, 'cost_price': 0.09999999999999999, 'latest_price': 0.1}\n",
      "METRICS\n",
      "    SMA: 5.00\n",
      "    RSI: 10.00\n"
     ]
    },
    {
     "name": "stdout",
     "output_type": "stream",
     "text": [
      "{'id': '744ab26350404e21aab18d50a116e90e', 'asset': 'ETH/BTC', 'price': 0.1, 'quantity': 1, 'type': 'limit', 'side': 'buy', 'filled': 0.0, 'status': 'FILLED', 'fee': {}}\n"
     ]
    },
    {
     "name": "stderr",
     "output_type": "stream",
     "text": [
      "---------------------------------------\n",
      "Epoch 180 - Timestep: 2018-01-10T15:27:00\n",
      "---------------------------------------\n",
      "OHLCV\n",
      "    O: 0.0964 | C: 0.0963 | V: 377.0 | T: 2018-01-10T15:27:00\n",
      "ORDERS\n",
      "    1: ETH/BTC | LIMIT_BUY | Price: 0.1000 | Quantity: 1.0000\n",
      "PERFORMANCE\n",
      "    Cash: 0.1000 Total Val: 1.0000 PnL: 0.0000 Returns: 0.0000\n",
      "BALANCE\n",
      "    BTC - {'free': 0.10000000000000014, 'used': 0.0, 'total': 0.10000000000000014}\n",
      "    ETH - {'free': 9.0, 'used': 0.0, 'total': 9.0}\n",
      "POSITIONS\n",
      "     {'asset': 'ETH/BTC', 'quantity': 9, 'cost_price': 0.09999999999999999, 'latest_price': 0.1}\n",
      "METRICS\n",
      "    SMA: 5.00\n",
      "    RSI: 10.00\n"
     ]
    },
    {
     "name": "stdout",
     "output_type": "stream",
     "text": [
      "{'id': 'b31e7749b11b4af99c0a2f3eda4e4a1d', 'asset': 'ETH/BTC', 'price': 0.1, 'quantity': 1, 'type': 'limit', 'side': 'buy', 'filled': 0.0, 'status': 'FILLED', 'fee': {}}\n"
     ]
    },
    {
     "name": "stderr",
     "output_type": "stream",
     "text": [
      "---------------------------------------\n",
      "Epoch 181 - Timestep: 2018-01-10T15:28:00\n",
      "---------------------------------------\n",
      "OHLCV\n",
      "    O: 0.0963 | C: 0.0959 | V: 521.0 | T: 2018-01-10T15:28:00\n",
      "ORDERS\n",
      "    1: ETH/BTC | LIMIT_SELL | Price: 0.1000 | Quantity: 1.0000\n",
      "PERFORMANCE\n",
      "    Cash: 0.0000 Total Val: 1.0000 PnL: 0.0000 Returns: 0.0000\n",
      "BALANCE\n",
      "    BTC - {'free': 1.3877787807814457e-16, 'used': 0.0, 'total': 1.3877787807814457e-16}\n",
      "    ETH - {'free': 10.0, 'used': 0.0, 'total': 10.0}\n",
      "POSITIONS\n",
      "     {'asset': 'ETH/BTC', 'quantity': 10, 'cost_price': 0.09999999999999999, 'latest_price': 0.1}\n",
      "METRICS\n",
      "    SMA: 5.00\n",
      "    RSI: 10.00\n"
     ]
    },
    {
     "name": "stdout",
     "output_type": "stream",
     "text": [
      "{'id': '3615960d35004dcba8de48a62b332818', 'asset': 'ETH/BTC', 'price': 0.1, 'quantity': 1, 'type': 'limit', 'side': 'sell', 'filled': 0.0, 'status': 'FILLED', 'fee': {}}\n"
     ]
    },
    {
     "name": "stderr",
     "output_type": "stream",
     "text": [
      "---------------------------------------\n",
      "Epoch 182 - Timestep: 2018-01-10T15:29:00\n",
      "---------------------------------------\n",
      "OHLCV\n",
      "    O: 0.0957 | C: 0.0959 | V: 413.4 | T: 2018-01-10T15:29:00\n",
      "ORDERS\n",
      "    1: ETH/BTC | LIMIT_SELL | Price: 0.1000 | Quantity: 1.0000\n",
      "PERFORMANCE\n",
      "    Cash: 0.1000 Total Val: 1.0000 PnL: 0.0000 Returns: 0.0000\n",
      "BALANCE\n",
      "    BTC - {'free': 0.10000000000000014, 'used': 0.0, 'total': 0.10000000000000014}\n",
      "    ETH - {'free': 9.0, 'used': 0.0, 'total': 9.0}\n",
      "POSITIONS\n",
      "     {'asset': 'ETH/BTC', 'quantity': 9, 'cost_price': 0.09999999999999999, 'latest_price': 0.1}\n",
      "METRICS\n",
      "    SMA: 5.00\n",
      "    RSI: 10.00\n"
     ]
    },
    {
     "name": "stdout",
     "output_type": "stream",
     "text": [
      "{'id': '5ca55f2185994ceaa508177d9a5557fe', 'asset': 'ETH/BTC', 'price': 0.1, 'quantity': 1, 'type': 'limit', 'side': 'sell', 'filled': 0.0, 'status': 'FILLED', 'fee': {}}\n"
     ]
    },
    {
     "name": "stderr",
     "output_type": "stream",
     "text": [
      "---------------------------------------\n",
      "Epoch 183 - Timestep: 2018-01-10T15:30:00\n",
      "---------------------------------------\n",
      "OHLCV\n",
      "    O: 0.0959 | C: 0.0962 | V: 601.0 | T: 2018-01-10T15:30:00\n",
      "ORDERS\n",
      "    1: ETH/BTC | LIMIT_BUY | Price: 0.1000 | Quantity: 1.0000\n",
      "PERFORMANCE\n",
      "    Cash: 0.2000 Total Val: 1.0000 PnL: 0.0000 Returns: 0.0000\n",
      "BALANCE\n",
      "    BTC - {'free': 0.20000000000000015, 'used': 0.0, 'total': 0.20000000000000015}\n",
      "    ETH - {'free': 8.0, 'used': 0.0, 'total': 8.0}\n",
      "POSITIONS\n",
      "     {'asset': 'ETH/BTC', 'quantity': 8, 'cost_price': 0.09999999999999999, 'latest_price': 0.1}\n",
      "METRICS\n",
      "    SMA: 5.00\n",
      "    RSI: 10.00\n"
     ]
    },
    {
     "name": "stdout",
     "output_type": "stream",
     "text": [
      "{'id': '6b3fd04efe674a4aae9fd035df869c5b', 'asset': 'ETH/BTC', 'price': 0.1, 'quantity': 1, 'type': 'limit', 'side': 'buy', 'filled': 0.0, 'status': 'FILLED', 'fee': {}}\n"
     ]
    },
    {
     "name": "stderr",
     "output_type": "stream",
     "text": [
      "---------------------------------------\n",
      "Epoch 184 - Timestep: 2018-01-10T15:31:00\n",
      "---------------------------------------\n",
      "OHLCV\n",
      "    O: 0.0962 | C: 0.0961 | V: 394.9 | T: 2018-01-10T15:31:00\n",
      "ORDERS\n",
      "    1: ETH/BTC | LIMIT_SELL | Price: 0.1000 | Quantity: 1.0000\n",
      "PERFORMANCE\n",
      "    Cash: 0.1000 Total Val: 1.0000 PnL: 0.0000 Returns: 0.0000\n",
      "BALANCE\n",
      "    BTC - {'free': 0.10000000000000014, 'used': 0.0, 'total': 0.10000000000000014}\n",
      "    ETH - {'free': 9.0, 'used': 0.0, 'total': 9.0}\n",
      "POSITIONS\n",
      "     {'asset': 'ETH/BTC', 'quantity': 9, 'cost_price': 0.09999999999999999, 'latest_price': 0.1}\n",
      "METRICS\n",
      "    SMA: 5.00\n",
      "    RSI: 10.00\n"
     ]
    },
    {
     "name": "stdout",
     "output_type": "stream",
     "text": [
      "{'id': '963a12507b094a19b95be1ba89446c17', 'asset': 'ETH/BTC', 'price': 0.1, 'quantity': 1, 'type': 'limit', 'side': 'sell', 'filled': 0.0, 'status': 'FILLED', 'fee': {}}\n"
     ]
    },
    {
     "name": "stderr",
     "output_type": "stream",
     "text": [
      "---------------------------------------\n",
      "Epoch 185 - Timestep: 2018-01-10T15:32:00\n",
      "---------------------------------------\n",
      "OHLCV\n",
      "    O: 0.0961 | C: 0.0961 | V: 369.5 | T: 2018-01-10T15:32:00\n",
      "ORDERS\n",
      "    1: ETH/BTC | LIMIT_SELL | Price: 0.1000 | Quantity: 1.0000\n",
      "PERFORMANCE\n",
      "    Cash: 0.2000 Total Val: 1.0000 PnL: 0.0000 Returns: 0.0000\n",
      "BALANCE\n",
      "    BTC - {'free': 0.20000000000000015, 'used': 0.0, 'total': 0.20000000000000015}\n",
      "    ETH - {'free': 8.0, 'used': 0.0, 'total': 8.0}\n",
      "POSITIONS\n",
      "     {'asset': 'ETH/BTC', 'quantity': 8, 'cost_price': 0.09999999999999999, 'latest_price': 0.1}\n",
      "METRICS\n",
      "    SMA: 5.00\n",
      "    RSI: 10.00\n"
     ]
    },
    {
     "name": "stdout",
     "output_type": "stream",
     "text": [
      "{'id': 'a5a262a2e51f45cd8418f5144eb5ad02', 'asset': 'ETH/BTC', 'price': 0.1, 'quantity': 1, 'type': 'limit', 'side': 'sell', 'filled': 0.0, 'status': 'FILLED', 'fee': {}}\n"
     ]
    },
    {
     "name": "stderr",
     "output_type": "stream",
     "text": [
      "---------------------------------------\n",
      "Epoch 186 - Timestep: 2018-01-10T15:33:00\n",
      "---------------------------------------\n",
      "OHLCV\n",
      "    O: 0.0960 | C: 0.0960 | V: 383.9 | T: 2018-01-10T15:33:00\n",
      "ORDERS\n",
      "    1: ETH/BTC | LIMIT_SELL | Price: 0.1000 | Quantity: 1.0000\n",
      "PERFORMANCE\n",
      "    Cash: 0.3000 Total Val: 1.0000 PnL: 0.0000 Returns: 0.0000\n",
      "BALANCE\n",
      "    BTC - {'free': 0.30000000000000016, 'used': 0.0, 'total': 0.30000000000000016}\n",
      "    ETH - {'free': 7.0, 'used': 0.0, 'total': 7.0}\n",
      "POSITIONS\n",
      "     {'asset': 'ETH/BTC', 'quantity': 7, 'cost_price': 0.09999999999999999, 'latest_price': 0.1}\n",
      "METRICS\n",
      "    SMA: 5.00\n",
      "    RSI: 10.00\n"
     ]
    },
    {
     "name": "stdout",
     "output_type": "stream",
     "text": [
      "{'id': 'cd572e8f960345daae81ef3f6120d1f8', 'asset': 'ETH/BTC', 'price': 0.1, 'quantity': 1, 'type': 'limit', 'side': 'sell', 'filled': 0.0, 'status': 'FILLED', 'fee': {}}\n"
     ]
    },
    {
     "name": "stderr",
     "output_type": "stream",
     "text": [
      "---------------------------------------\n",
      "Epoch 187 - Timestep: 2018-01-10T15:34:00\n",
      "---------------------------------------\n",
      "OHLCV\n",
      "    O: 0.0961 | C: 0.0960 | V: 353.9 | T: 2018-01-10T15:34:00\n",
      "ORDERS\n",
      "    1: ETH/BTC | LIMIT_BUY | Price: 0.1000 | Quantity: 1.0000\n",
      "PERFORMANCE\n",
      "    Cash: 0.4000 Total Val: 1.0000 PnL: 0.0000 Returns: 0.0000\n",
      "BALANCE\n",
      "    BTC - {'free': 0.40000000000000013, 'used': 0.0, 'total': 0.40000000000000013}\n",
      "    ETH - {'free': 6.0, 'used': 0.0, 'total': 6.0}\n",
      "POSITIONS\n",
      "     {'asset': 'ETH/BTC', 'quantity': 6, 'cost_price': 0.09999999999999999, 'latest_price': 0.1}\n",
      "METRICS\n",
      "    SMA: 5.00\n",
      "    RSI: 10.00\n"
     ]
    },
    {
     "name": "stdout",
     "output_type": "stream",
     "text": [
      "{'id': '54df7208d9df441b9967323a09fc0e86', 'asset': 'ETH/BTC', 'price': 0.1, 'quantity': 1, 'type': 'limit', 'side': 'buy', 'filled': 0.0, 'status': 'FILLED', 'fee': {}}\n"
     ]
    },
    {
     "name": "stderr",
     "output_type": "stream",
     "text": [
      "---------------------------------------\n",
      "Epoch 188 - Timestep: 2018-01-10T15:35:00\n",
      "---------------------------------------\n",
      "OHLCV\n",
      "    O: 0.0960 | C: 0.0960 | V: 140.8 | T: 2018-01-10T15:35:00\n",
      "ORDERS\n",
      "    1: ETH/BTC | LIMIT_SELL | Price: 0.1000 | Quantity: 1.0000\n",
      "PERFORMANCE\n",
      "    Cash: 0.3000 Total Val: 1.0000 PnL: 0.0000 Returns: 0.0000\n",
      "BALANCE\n",
      "    BTC - {'free': 0.30000000000000016, 'used': 0.0, 'total': 0.30000000000000016}\n",
      "    ETH - {'free': 7.0, 'used': 0.0, 'total': 7.0}\n",
      "POSITIONS\n",
      "     {'asset': 'ETH/BTC', 'quantity': 7, 'cost_price': 0.09999999999999999, 'latest_price': 0.1}\n",
      "METRICS\n",
      "    SMA: 5.00\n",
      "    RSI: 10.00\n"
     ]
    },
    {
     "name": "stdout",
     "output_type": "stream",
     "text": [
      "{'id': 'a3b8ab6cfa2d4fa4866a262cef6ab188', 'asset': 'ETH/BTC', 'price': 0.1, 'quantity': 1, 'type': 'limit', 'side': 'sell', 'filled': 0.0, 'status': 'FILLED', 'fee': {}}\n"
     ]
    },
    {
     "name": "stderr",
     "output_type": "stream",
     "text": [
      "---------------------------------------\n",
      "Epoch 189 - Timestep: 2018-01-10T15:36:00\n",
      "---------------------------------------\n",
      "OHLCV\n",
      "    O: 0.0960 | C: 0.0960 | V: 280.9 | T: 2018-01-10T15:36:00\n",
      "ORDERS\n",
      "    1: ETH/BTC | LIMIT_BUY | Price: 0.1000 | Quantity: 1.0000\n",
      "PERFORMANCE\n",
      "    Cash: 0.4000 Total Val: 1.0000 PnL: 0.0000 Returns: 0.0000\n",
      "BALANCE\n",
      "    BTC - {'free': 0.40000000000000013, 'used': 0.0, 'total': 0.40000000000000013}\n",
      "    ETH - {'free': 6.0, 'used': 0.0, 'total': 6.0}\n",
      "POSITIONS\n",
      "     {'asset': 'ETH/BTC', 'quantity': 6, 'cost_price': 0.09999999999999999, 'latest_price': 0.1}\n",
      "METRICS\n",
      "    SMA: 5.00\n",
      "    RSI: 10.00\n"
     ]
    },
    {
     "name": "stdout",
     "output_type": "stream",
     "text": [
      "{'id': '7a0aa64bbe37436fb636ed7bea02d00f', 'asset': 'ETH/BTC', 'price': 0.1, 'quantity': 1, 'type': 'limit', 'side': 'buy', 'filled': 0.0, 'status': 'FILLED', 'fee': {}}\n"
     ]
    },
    {
     "name": "stderr",
     "output_type": "stream",
     "text": [
      "---------------------------------------\n",
      "Epoch 190 - Timestep: 2018-01-10T15:37:00\n",
      "---------------------------------------\n",
      "OHLCV\n",
      "    O: 0.0957 | C: 0.0957 | V: 255.3 | T: 2018-01-10T15:37:00\n",
      "ORDERS\n",
      "    1: ETH/BTC | LIMIT_SELL | Price: 0.1000 | Quantity: 1.0000\n",
      "PERFORMANCE\n",
      "    Cash: 0.3000 Total Val: 1.0000 PnL: 0.0000 Returns: 0.0000\n",
      "BALANCE\n",
      "    BTC - {'free': 0.30000000000000016, 'used': 0.0, 'total': 0.30000000000000016}\n",
      "    ETH - {'free': 7.0, 'used': 0.0, 'total': 7.0}\n",
      "POSITIONS\n",
      "     {'asset': 'ETH/BTC', 'quantity': 7, 'cost_price': 0.09999999999999999, 'latest_price': 0.1}\n",
      "METRICS\n",
      "    SMA: 5.00\n",
      "    RSI: 10.00\n"
     ]
    },
    {
     "name": "stdout",
     "output_type": "stream",
     "text": [
      "{'id': '19b5da80d66d47f8aaf5ebdbdb44738f', 'asset': 'ETH/BTC', 'price': 0.1, 'quantity': 1, 'type': 'limit', 'side': 'sell', 'filled': 0.0, 'status': 'FILLED', 'fee': {}}\n"
     ]
    },
    {
     "name": "stderr",
     "output_type": "stream",
     "text": [
      "---------------------------------------\n",
      "Epoch 191 - Timestep: 2018-01-10T15:38:00\n",
      "---------------------------------------\n",
      "OHLCV\n",
      "    O: 0.0957 | C: 0.0958 | V: 510.0 | T: 2018-01-10T15:38:00\n",
      "ORDERS\n",
      "    1: ETH/BTC | LIMIT_SELL | Price: 0.1000 | Quantity: 1.0000\n",
      "PERFORMANCE\n",
      "    Cash: 0.4000 Total Val: 1.0000 PnL: 0.0000 Returns: 0.0000\n",
      "BALANCE\n",
      "    BTC - {'free': 0.40000000000000013, 'used': 0.0, 'total': 0.40000000000000013}\n",
      "    ETH - {'free': 6.0, 'used': 0.0, 'total': 6.0}\n",
      "POSITIONS\n",
      "     {'asset': 'ETH/BTC', 'quantity': 6, 'cost_price': 0.09999999999999999, 'latest_price': 0.1}\n",
      "METRICS\n",
      "    SMA: 5.00\n",
      "    RSI: 10.00\n"
     ]
    },
    {
     "name": "stdout",
     "output_type": "stream",
     "text": [
      "{'id': 'e36c7d68c14148fa9e38caf3b88783f7', 'asset': 'ETH/BTC', 'price': 0.1, 'quantity': 1, 'type': 'limit', 'side': 'sell', 'filled': 0.0, 'status': 'FILLED', 'fee': {}}\n"
     ]
    },
    {
     "name": "stderr",
     "output_type": "stream",
     "text": [
      "---------------------------------------\n",
      "Epoch 192 - Timestep: 2018-01-10T15:39:00\n",
      "---------------------------------------\n",
      "OHLCV\n",
      "    O: 0.0958 | C: 0.0958 | V: 245.3 | T: 2018-01-10T15:39:00\n",
      "ORDERS\n",
      "    1: ETH/BTC | LIMIT_SELL | Price: 0.1000 | Quantity: 1.0000\n",
      "PERFORMANCE\n",
      "    Cash: 0.5000 Total Val: 1.0000 PnL: 0.0000 Returns: 0.0000\n",
      "BALANCE\n",
      "    BTC - {'free': 0.5000000000000001, 'used': 0.0, 'total': 0.5000000000000001}\n",
      "    ETH - {'free': 5.0, 'used': 0.0, 'total': 5.0}\n",
      "POSITIONS\n",
      "     {'asset': 'ETH/BTC', 'quantity': 5, 'cost_price': 0.09999999999999999, 'latest_price': 0.1}\n",
      "METRICS\n",
      "    SMA: 5.00\n",
      "    RSI: 10.00\n"
     ]
    },
    {
     "name": "stdout",
     "output_type": "stream",
     "text": [
      "{'id': '4adf1eb6a358451fa77019353c3b046e', 'asset': 'ETH/BTC', 'price': 0.1, 'quantity': 1, 'type': 'limit', 'side': 'sell', 'filled': 0.0, 'status': 'FILLED', 'fee': {}}\n"
     ]
    },
    {
     "name": "stderr",
     "output_type": "stream",
     "text": [
      "---------------------------------------\n",
      "Epoch 193 - Timestep: 2018-01-10T15:40:00\n",
      "---------------------------------------\n",
      "OHLCV\n",
      "    O: 0.0958 | C: 0.0956 | V: 329.6 | T: 2018-01-10T15:40:00\n",
      "ORDERS\n",
      "    1: ETH/BTC | LIMIT_BUY | Price: 0.1000 | Quantity: 1.0000\n",
      "PERFORMANCE\n",
      "    Cash: 0.6000 Total Val: 1.0000 PnL: 0.0000 Returns: 0.0000\n",
      "BALANCE\n",
      "    BTC - {'free': 0.6000000000000001, 'used': 0.0, 'total': 0.6000000000000001}\n",
      "    ETH - {'free': 4.0, 'used': 0.0, 'total': 4.0}\n",
      "POSITIONS\n",
      "     {'asset': 'ETH/BTC', 'quantity': 4, 'cost_price': 0.09999999999999999, 'latest_price': 0.1}\n",
      "METRICS\n",
      "    SMA: 5.00\n",
      "    RSI: 10.00\n"
     ]
    },
    {
     "name": "stdout",
     "output_type": "stream",
     "text": [
      "{'id': '074d32f9b60d4afab4570d5ed0b08995', 'asset': 'ETH/BTC', 'price': 0.1, 'quantity': 1, 'type': 'limit', 'side': 'buy', 'filled': 0.0, 'status': 'FILLED', 'fee': {}}\n"
     ]
    },
    {
     "name": "stderr",
     "output_type": "stream",
     "text": [
      "---------------------------------------\n",
      "Epoch 194 - Timestep: 2018-01-10T15:41:00\n",
      "---------------------------------------\n",
      "OHLCV\n",
      "    O: 0.0957 | C: 0.0955 | V: 394.0 | T: 2018-01-10T15:41:00\n",
      "ORDERS\n",
      "    1: ETH/BTC | LIMIT_SELL | Price: 0.1000 | Quantity: 1.0000\n",
      "PERFORMANCE\n",
      "    Cash: 0.5000 Total Val: 1.0000 PnL: 0.0000 Returns: 0.0000\n",
      "BALANCE\n",
      "    BTC - {'free': 0.5000000000000001, 'used': 0.0, 'total': 0.5000000000000001}\n",
      "    ETH - {'free': 5.0, 'used': 0.0, 'total': 5.0}\n",
      "POSITIONS\n",
      "     {'asset': 'ETH/BTC', 'quantity': 5, 'cost_price': 0.1, 'latest_price': 0.1}\n",
      "METRICS\n",
      "    SMA: 5.00\n",
      "    RSI: 10.00\n"
     ]
    },
    {
     "name": "stdout",
     "output_type": "stream",
     "text": [
      "{'id': 'c7a7eeadbe2f43b18619a7398f700aaf', 'asset': 'ETH/BTC', 'price': 0.1, 'quantity': 1, 'type': 'limit', 'side': 'sell', 'filled': 0.0, 'status': 'FILLED', 'fee': {}}\n"
     ]
    },
    {
     "name": "stderr",
     "output_type": "stream",
     "text": [
      "---------------------------------------\n",
      "Epoch 195 - Timestep: 2018-01-10T15:42:00\n",
      "---------------------------------------\n",
      "OHLCV\n",
      "    O: 0.0955 | C: 0.0954 | V: 608.8 | T: 2018-01-10T15:42:00\n",
      "ORDERS\n",
      "    1: ETH/BTC | LIMIT_BUY | Price: 0.1000 | Quantity: 1.0000\n",
      "PERFORMANCE\n",
      "    Cash: 0.6000 Total Val: 1.0000 PnL: 0.0000 Returns: 0.0000\n",
      "BALANCE\n",
      "    BTC - {'free': 0.6000000000000001, 'used': 0.0, 'total': 0.6000000000000001}\n",
      "    ETH - {'free': 4.0, 'used': 0.0, 'total': 4.0}\n",
      "POSITIONS\n",
      "     {'asset': 'ETH/BTC', 'quantity': 4, 'cost_price': 0.1, 'latest_price': 0.1}\n",
      "METRICS\n",
      "    SMA: 5.00\n",
      "    RSI: 10.00\n"
     ]
    },
    {
     "name": "stdout",
     "output_type": "stream",
     "text": [
      "{'id': '0281cdef1c4641b7bdf6eeb0e1a5843f', 'asset': 'ETH/BTC', 'price': 0.1, 'quantity': 1, 'type': 'limit', 'side': 'buy', 'filled': 0.0, 'status': 'FILLED', 'fee': {}}\n"
     ]
    },
    {
     "name": "stderr",
     "output_type": "stream",
     "text": [
      "---------------------------------------\n",
      "Epoch 196 - Timestep: 2018-01-10T15:43:00\n",
      "---------------------------------------\n",
      "OHLCV\n",
      "    O: 0.0953 | C: 0.0953 | V: 267.0 | T: 2018-01-10T15:43:00\n",
      "ORDERS\n",
      "    1: ETH/BTC | LIMIT_BUY | Price: 0.1000 | Quantity: 1.0000\n",
      "PERFORMANCE\n",
      "    Cash: 0.5000 Total Val: 1.0000 PnL: 0.0000 Returns: 0.0000\n",
      "BALANCE\n",
      "    BTC - {'free': 0.5000000000000001, 'used': 0.0, 'total': 0.5000000000000001}\n",
      "    ETH - {'free': 5.0, 'used': 0.0, 'total': 5.0}\n",
      "POSITIONS\n",
      "     {'asset': 'ETH/BTC', 'quantity': 5, 'cost_price': 0.1, 'latest_price': 0.1}\n",
      "METRICS\n",
      "    SMA: 5.00\n",
      "    RSI: 10.00\n"
     ]
    },
    {
     "name": "stdout",
     "output_type": "stream",
     "text": [
      "{'id': 'cd771759501c4e0f945c592dff1af59b', 'asset': 'ETH/BTC', 'price': 0.1, 'quantity': 1, 'type': 'limit', 'side': 'buy', 'filled': 0.0, 'status': 'FILLED', 'fee': {}}\n"
     ]
    },
    {
     "name": "stderr",
     "output_type": "stream",
     "text": [
      "---------------------------------------\n",
      "Epoch 197 - Timestep: 2018-01-10T15:44:00\n",
      "---------------------------------------\n",
      "OHLCV\n",
      "    O: 0.0953 | C: 0.0954 | V: 285.1 | T: 2018-01-10T15:44:00\n",
      "ORDERS\n",
      "    1: ETH/BTC | LIMIT_SELL | Price: 0.1000 | Quantity: 1.0000\n",
      "PERFORMANCE\n",
      "    Cash: 0.4000 Total Val: 1.0000 PnL: 0.0000 Returns: 0.0000\n",
      "BALANCE\n",
      "    BTC - {'free': 0.40000000000000013, 'used': 0.0, 'total': 0.40000000000000013}\n",
      "    ETH - {'free': 6.0, 'used': 0.0, 'total': 6.0}\n",
      "POSITIONS\n",
      "     {'asset': 'ETH/BTC', 'quantity': 6, 'cost_price': 0.09999999999999999, 'latest_price': 0.1}\n",
      "METRICS\n",
      "    SMA: 5.00\n",
      "    RSI: 10.00\n"
     ]
    },
    {
     "name": "stdout",
     "output_type": "stream",
     "text": [
      "{'id': '190c6736481c4c08b6a04d1f3c3aad6d', 'asset': 'ETH/BTC', 'price': 0.1, 'quantity': 1, 'type': 'limit', 'side': 'sell', 'filled': 0.0, 'status': 'FILLED', 'fee': {}}\n"
     ]
    },
    {
     "name": "stderr",
     "output_type": "stream",
     "text": [
      "---------------------------------------\n",
      "Epoch 198 - Timestep: 2018-01-10T15:45:00\n",
      "---------------------------------------\n",
      "OHLCV\n",
      "    O: 0.0954 | C: 0.0954 | V: 175.6 | T: 2018-01-10T15:45:00\n",
      "ORDERS\n",
      "    1: ETH/BTC | LIMIT_BUY | Price: 0.1000 | Quantity: 1.0000\n",
      "PERFORMANCE\n",
      "    Cash: 0.5000 Total Val: 1.0000 PnL: 0.0000 Returns: 0.0000\n",
      "BALANCE\n",
      "    BTC - {'free': 0.5000000000000001, 'used': 0.0, 'total': 0.5000000000000001}\n",
      "    ETH - {'free': 5.0, 'used': 0.0, 'total': 5.0}\n",
      "POSITIONS\n",
      "     {'asset': 'ETH/BTC', 'quantity': 5, 'cost_price': 0.09999999999999999, 'latest_price': 0.1}\n",
      "METRICS\n",
      "    SMA: 5.00\n",
      "    RSI: 10.00\n"
     ]
    },
    {
     "name": "stdout",
     "output_type": "stream",
     "text": [
      "{'id': '904c881d293145eaae6f10f412bfc6b9', 'asset': 'ETH/BTC', 'price': 0.1, 'quantity': 1, 'type': 'limit', 'side': 'buy', 'filled': 0.0, 'status': 'FILLED', 'fee': {}}\n"
     ]
    },
    {
     "name": "stderr",
     "output_type": "stream",
     "text": [
      "---------------------------------------\n",
      "Epoch 199 - Timestep: 2018-01-10T15:46:00\n",
      "---------------------------------------\n",
      "OHLCV\n",
      "    O: 0.0955 | C: 0.0954 | V: 824.2 | T: 2018-01-10T15:46:00\n",
      "ORDERS\n",
      "    1: ETH/BTC | LIMIT_BUY | Price: 0.1000 | Quantity: 1.0000\n",
      "PERFORMANCE\n",
      "    Cash: 0.4000 Total Val: 1.0000 PnL: 0.0000 Returns: 0.0000\n",
      "BALANCE\n",
      "    BTC - {'free': 0.40000000000000013, 'used': 0.0, 'total': 0.40000000000000013}\n",
      "    ETH - {'free': 6.0, 'used': 0.0, 'total': 6.0}\n",
      "POSITIONS\n",
      "     {'asset': 'ETH/BTC', 'quantity': 6, 'cost_price': 0.09999999999999999, 'latest_price': 0.1}\n",
      "METRICS\n",
      "    SMA: 5.00\n",
      "    RSI: 10.00\n"
     ]
    },
    {
     "name": "stdout",
     "output_type": "stream",
     "text": [
      "{'id': '4879e427bcd1493b948abad1db7a1fbc', 'asset': 'ETH/BTC', 'price': 0.1, 'quantity': 1, 'type': 'limit', 'side': 'buy', 'filled': 0.0, 'status': 'FILLED', 'fee': {}}\n"
     ]
    },
    {
     "name": "stderr",
     "output_type": "stream",
     "text": [
      "---------------------------------------\n",
      "Epoch 200 - Timestep: 2018-01-10T15:47:00\n",
      "---------------------------------------\n",
      "OHLCV\n",
      "    O: 0.0954 | C: 0.0954 | V: 422.4 | T: 2018-01-10T15:47:00\n",
      "ORDERS\n",
      "    1: ETH/BTC | LIMIT_BUY | Price: 0.1000 | Quantity: 1.0000\n",
      "PERFORMANCE\n",
      "    Cash: 0.3000 Total Val: 1.0000 PnL: 0.0000 Returns: 0.0000\n",
      "BALANCE\n",
      "    BTC - {'free': 0.30000000000000016, 'used': 0.0, 'total': 0.30000000000000016}\n",
      "    ETH - {'free': 7.0, 'used': 0.0, 'total': 7.0}\n",
      "POSITIONS\n",
      "     {'asset': 'ETH/BTC', 'quantity': 7, 'cost_price': 0.09999999999999999, 'latest_price': 0.1}\n",
      "METRICS\n",
      "    SMA: 5.00\n",
      "    RSI: 10.00\n"
     ]
    },
    {
     "name": "stdout",
     "output_type": "stream",
     "text": [
      "{'id': '1726f51a25784b06b4de0fe36f479c1d', 'asset': 'ETH/BTC', 'price': 0.1, 'quantity': 1, 'type': 'limit', 'side': 'buy', 'filled': 0.0, 'status': 'FILLED', 'fee': {}}\n"
     ]
    },
    {
     "name": "stderr",
     "output_type": "stream",
     "text": [
      "---------------------------------------\n",
      "Epoch 201 - Timestep: 2018-01-10T15:48:00\n",
      "---------------------------------------\n",
      "OHLCV\n",
      "    O: 0.0956 | C: 0.0955 | V: 842.6 | T: 2018-01-10T15:48:00\n",
      "ORDERS\n",
      "    1: ETH/BTC | LIMIT_SELL | Price: 0.1000 | Quantity: 1.0000\n",
      "PERFORMANCE\n",
      "    Cash: 0.2000 Total Val: 1.0000 PnL: 0.0000 Returns: 0.0000\n",
      "BALANCE\n",
      "    BTC - {'free': 0.20000000000000015, 'used': 0.0, 'total': 0.20000000000000015}\n",
      "    ETH - {'free': 8.0, 'used': 0.0, 'total': 8.0}\n",
      "POSITIONS\n",
      "     {'asset': 'ETH/BTC', 'quantity': 8, 'cost_price': 0.09999999999999999, 'latest_price': 0.1}\n",
      "METRICS\n",
      "    SMA: 5.00\n",
      "    RSI: 10.00\n"
     ]
    },
    {
     "name": "stdout",
     "output_type": "stream",
     "text": [
      "{'id': '9f641933b55b4ed5b8795abebeb815c1', 'asset': 'ETH/BTC', 'price': 0.1, 'quantity': 1, 'type': 'limit', 'side': 'sell', 'filled': 0.0, 'status': 'FILLED', 'fee': {}}\n"
     ]
    },
    {
     "name": "stderr",
     "output_type": "stream",
     "text": [
      "---------------------------------------\n",
      "Epoch 202 - Timestep: 2018-01-10T15:49:00\n",
      "---------------------------------------\n",
      "OHLCV\n",
      "    O: 0.0955 | C: 0.0955 | V: 602.3 | T: 2018-01-10T15:49:00\n",
      "ORDERS\n",
      "    1: ETH/BTC | LIMIT_BUY | Price: 0.1000 | Quantity: 1.0000\n",
      "PERFORMANCE\n",
      "    Cash: 0.3000 Total Val: 1.0000 PnL: 0.0000 Returns: 0.0000\n",
      "BALANCE\n",
      "    BTC - {'free': 0.30000000000000016, 'used': 0.0, 'total': 0.30000000000000016}\n",
      "    ETH - {'free': 7.0, 'used': 0.0, 'total': 7.0}\n",
      "POSITIONS\n",
      "     {'asset': 'ETH/BTC', 'quantity': 7, 'cost_price': 0.09999999999999999, 'latest_price': 0.1}\n",
      "METRICS\n",
      "    SMA: 5.00\n",
      "    RSI: 10.00\n"
     ]
    },
    {
     "name": "stdout",
     "output_type": "stream",
     "text": [
      "{'id': '290026ed798b418f8f6cb083eaacd6d9', 'asset': 'ETH/BTC', 'price': 0.1, 'quantity': 1, 'type': 'limit', 'side': 'buy', 'filled': 0.0, 'status': 'FILLED', 'fee': {}}\n"
     ]
    },
    {
     "name": "stderr",
     "output_type": "stream",
     "text": [
      "---------------------------------------\n",
      "Epoch 203 - Timestep: 2018-01-10T15:50:00\n",
      "---------------------------------------\n",
      "OHLCV\n",
      "    O: 0.0955 | C: 0.0954 | V: 551.5 | T: 2018-01-10T15:50:00\n",
      "ORDERS\n",
      "    1: ETH/BTC | LIMIT_BUY | Price: 0.1000 | Quantity: 1.0000\n",
      "PERFORMANCE\n",
      "    Cash: 0.2000 Total Val: 1.0000 PnL: 0.0000 Returns: 0.0000\n",
      "BALANCE\n",
      "    BTC - {'free': 0.20000000000000015, 'used': 0.0, 'total': 0.20000000000000015}\n",
      "    ETH - {'free': 8.0, 'used': 0.0, 'total': 8.0}\n",
      "POSITIONS\n",
      "     {'asset': 'ETH/BTC', 'quantity': 8, 'cost_price': 0.09999999999999999, 'latest_price': 0.1}\n",
      "METRICS\n",
      "    SMA: 5.00\n",
      "    RSI: 10.00\n"
     ]
    },
    {
     "name": "stdout",
     "output_type": "stream",
     "text": [
      "{'id': '7ca76346af284f9c981d360addb99604', 'asset': 'ETH/BTC', 'price': 0.1, 'quantity': 1, 'type': 'limit', 'side': 'buy', 'filled': 0.0, 'status': 'FILLED', 'fee': {}}\n"
     ]
    },
    {
     "name": "stderr",
     "output_type": "stream",
     "text": [
      "---------------------------------------\n",
      "Epoch 204 - Timestep: 2018-01-10T15:51:00\n",
      "---------------------------------------\n",
      "OHLCV\n",
      "    O: 0.0954 | C: 0.0950 | V: 478.5 | T: 2018-01-10T15:51:00\n",
      "ORDERS\n",
      "    1: ETH/BTC | LIMIT_SELL | Price: 0.1000 | Quantity: 1.0000\n",
      "PERFORMANCE\n",
      "    Cash: 0.1000 Total Val: 1.0000 PnL: 0.0000 Returns: 0.0000\n",
      "BALANCE\n",
      "    BTC - {'free': 0.10000000000000014, 'used': 0.0, 'total': 0.10000000000000014}\n",
      "    ETH - {'free': 9.0, 'used': 0.0, 'total': 9.0}\n",
      "POSITIONS\n",
      "     {'asset': 'ETH/BTC', 'quantity': 9, 'cost_price': 0.09999999999999999, 'latest_price': 0.1}\n",
      "METRICS\n",
      "    SMA: 5.00\n",
      "    RSI: 10.00\n"
     ]
    },
    {
     "name": "stdout",
     "output_type": "stream",
     "text": [
      "{'id': '7889fefe875f45388b483247ab48346e', 'asset': 'ETH/BTC', 'price': 0.1, 'quantity': 1, 'type': 'limit', 'side': 'sell', 'filled': 0.0, 'status': 'FILLED', 'fee': {}}\n"
     ]
    },
    {
     "name": "stderr",
     "output_type": "stream",
     "text": [
      "---------------------------------------\n",
      "Epoch 205 - Timestep: 2018-01-10T15:52:00\n",
      "---------------------------------------\n",
      "OHLCV\n",
      "    O: 0.0950 | C: 0.0951 | V: 528.3 | T: 2018-01-10T15:52:00\n",
      "ORDERS\n",
      "    1: ETH/BTC | LIMIT_SELL | Price: 0.1000 | Quantity: 1.0000\n",
      "PERFORMANCE\n",
      "    Cash: 0.2000 Total Val: 1.0000 PnL: 0.0000 Returns: 0.0000\n",
      "BALANCE\n",
      "    BTC - {'free': 0.20000000000000015, 'used': 0.0, 'total': 0.20000000000000015}\n",
      "    ETH - {'free': 8.0, 'used': 0.0, 'total': 8.0}\n",
      "POSITIONS\n",
      "     {'asset': 'ETH/BTC', 'quantity': 8, 'cost_price': 0.09999999999999999, 'latest_price': 0.1}\n",
      "METRICS\n",
      "    SMA: 5.00\n",
      "    RSI: 10.00\n"
     ]
    },
    {
     "name": "stdout",
     "output_type": "stream",
     "text": [
      "{'id': 'cf34a69e1e40488c98597c4e95ab1fca', 'asset': 'ETH/BTC', 'price': 0.1, 'quantity': 1, 'type': 'limit', 'side': 'sell', 'filled': 0.0, 'status': 'FILLED', 'fee': {}}\n"
     ]
    },
    {
     "name": "stderr",
     "output_type": "stream",
     "text": [
      "---------------------------------------\n",
      "Epoch 206 - Timestep: 2018-01-10T15:53:00\n",
      "---------------------------------------\n",
      "OHLCV\n",
      "    O: 0.0951 | C: 0.0949 | V: 510.3 | T: 2018-01-10T15:53:00\n",
      "ORDERS\n",
      "    1: ETH/BTC | LIMIT_BUY | Price: 0.1000 | Quantity: 1.0000\n",
      "PERFORMANCE\n",
      "    Cash: 0.3000 Total Val: 1.0000 PnL: 0.0000 Returns: 0.0000\n",
      "BALANCE\n",
      "    BTC - {'free': 0.30000000000000016, 'used': 0.0, 'total': 0.30000000000000016}\n",
      "    ETH - {'free': 7.0, 'used': 0.0, 'total': 7.0}\n",
      "POSITIONS\n",
      "     {'asset': 'ETH/BTC', 'quantity': 7, 'cost_price': 0.09999999999999999, 'latest_price': 0.1}\n",
      "METRICS\n",
      "    SMA: 5.00\n",
      "    RSI: 10.00\n"
     ]
    },
    {
     "name": "stdout",
     "output_type": "stream",
     "text": [
      "{'id': '75a95d982c3e493d908c3fd7ce6efea8', 'asset': 'ETH/BTC', 'price': 0.1, 'quantity': 1, 'type': 'limit', 'side': 'buy', 'filled': 0.0, 'status': 'FILLED', 'fee': {}}\n"
     ]
    },
    {
     "name": "stderr",
     "output_type": "stream",
     "text": [
      "---------------------------------------\n",
      "Epoch 207 - Timestep: 2018-01-10T15:54:00\n",
      "---------------------------------------\n",
      "OHLCV\n",
      "    O: 0.0950 | C: 0.0946 | V: 311.5 | T: 2018-01-10T15:54:00\n",
      "ORDERS\n",
      "    1: ETH/BTC | LIMIT_SELL | Price: 0.1000 | Quantity: 1.0000\n",
      "PERFORMANCE\n",
      "    Cash: 0.2000 Total Val: 1.0000 PnL: 0.0000 Returns: 0.0000\n",
      "BALANCE\n",
      "    BTC - {'free': 0.20000000000000015, 'used': 0.0, 'total': 0.20000000000000015}\n",
      "    ETH - {'free': 8.0, 'used': 0.0, 'total': 8.0}\n",
      "POSITIONS\n",
      "     {'asset': 'ETH/BTC', 'quantity': 8, 'cost_price': 0.09999999999999999, 'latest_price': 0.1}\n",
      "METRICS\n",
      "    SMA: 5.00\n",
      "    RSI: 10.00\n"
     ]
    },
    {
     "name": "stdout",
     "output_type": "stream",
     "text": [
      "{'id': '046b543a97734519856e20572a17256e', 'asset': 'ETH/BTC', 'price': 0.1, 'quantity': 1, 'type': 'limit', 'side': 'sell', 'filled': 0.0, 'status': 'FILLED', 'fee': {}}\n"
     ]
    },
    {
     "name": "stderr",
     "output_type": "stream",
     "text": [
      "---------------------------------------\n",
      "Epoch 208 - Timestep: 2018-01-10T15:55:00\n",
      "---------------------------------------\n",
      "OHLCV\n",
      "    O: 0.0945 | C: 0.0944 | V: 566.7 | T: 2018-01-10T15:55:00\n",
      "ORDERS\n",
      "    1: ETH/BTC | LIMIT_BUY | Price: 0.1000 | Quantity: 1.0000\n",
      "PERFORMANCE\n",
      "    Cash: 0.3000 Total Val: 1.0000 PnL: 0.0000 Returns: 0.0000\n",
      "BALANCE\n",
      "    BTC - {'free': 0.30000000000000016, 'used': 0.0, 'total': 0.30000000000000016}\n",
      "    ETH - {'free': 7.0, 'used': 0.0, 'total': 7.0}\n",
      "POSITIONS\n",
      "     {'asset': 'ETH/BTC', 'quantity': 7, 'cost_price': 0.09999999999999999, 'latest_price': 0.1}\n",
      "METRICS\n",
      "    SMA: 5.00\n",
      "    RSI: 10.00\n"
     ]
    },
    {
     "name": "stdout",
     "output_type": "stream",
     "text": [
      "{'id': '9b5d738841a44b25b794eeb4305bcf2d', 'asset': 'ETH/BTC', 'price': 0.1, 'quantity': 1, 'type': 'limit', 'side': 'buy', 'filled': 0.0, 'status': 'FILLED', 'fee': {}}\n"
     ]
    },
    {
     "name": "stderr",
     "output_type": "stream",
     "text": [
      "---------------------------------------\n",
      "Epoch 209 - Timestep: 2018-01-10T15:56:00\n",
      "---------------------------------------\n",
      "OHLCV\n",
      "    O: 0.0944 | C: 0.0942 | V: 529.7 | T: 2018-01-10T15:56:00\n",
      "ORDERS\n",
      "    1: ETH/BTC | LIMIT_BUY | Price: 0.1000 | Quantity: 1.0000\n",
      "PERFORMANCE\n",
      "    Cash: 0.2000 Total Val: 1.0000 PnL: 0.0000 Returns: 0.0000\n",
      "BALANCE\n",
      "    BTC - {'free': 0.20000000000000015, 'used': 0.0, 'total': 0.20000000000000015}\n",
      "    ETH - {'free': 8.0, 'used': 0.0, 'total': 8.0}\n",
      "POSITIONS\n",
      "     {'asset': 'ETH/BTC', 'quantity': 8, 'cost_price': 0.09999999999999999, 'latest_price': 0.1}\n",
      "METRICS\n",
      "    SMA: 5.00\n",
      "    RSI: 10.00\n"
     ]
    },
    {
     "name": "stdout",
     "output_type": "stream",
     "text": [
      "{'id': 'c474b31868a34a069120cc793308c875', 'asset': 'ETH/BTC', 'price': 0.1, 'quantity': 1, 'type': 'limit', 'side': 'buy', 'filled': 0.0, 'status': 'FILLED', 'fee': {}}\n"
     ]
    },
    {
     "name": "stderr",
     "output_type": "stream",
     "text": [
      "---------------------------------------\n",
      "Epoch 210 - Timestep: 2018-01-10T15:57:00\n",
      "---------------------------------------\n",
      "OHLCV\n",
      "    O: 0.0942 | C: 0.0940 | V: 723.5 | T: 2018-01-10T15:57:00\n",
      "ORDERS\n",
      "    1: ETH/BTC | LIMIT_BUY | Price: 0.1000 | Quantity: 1.0000\n",
      "PERFORMANCE\n",
      "    Cash: 0.1000 Total Val: 1.0000 PnL: 0.0000 Returns: 0.0000\n",
      "BALANCE\n",
      "    BTC - {'free': 0.10000000000000014, 'used': 0.0, 'total': 0.10000000000000014}\n",
      "    ETH - {'free': 9.0, 'used': 0.0, 'total': 9.0}\n",
      "POSITIONS\n",
      "     {'asset': 'ETH/BTC', 'quantity': 9, 'cost_price': 0.09999999999999999, 'latest_price': 0.1}\n",
      "METRICS\n",
      "    SMA: 5.00\n",
      "    RSI: 10.00\n"
     ]
    },
    {
     "name": "stdout",
     "output_type": "stream",
     "text": [
      "{'id': '7b99a931bcd04d49afa621d6d27bb6eb', 'asset': 'ETH/BTC', 'price': 0.1, 'quantity': 1, 'type': 'limit', 'side': 'buy', 'filled': 0.0, 'status': 'FILLED', 'fee': {}}\n"
     ]
    },
    {
     "name": "stderr",
     "output_type": "stream",
     "text": [
      "---------------------------------------\n",
      "Epoch 211 - Timestep: 2018-01-10T15:58:00\n",
      "---------------------------------------\n",
      "OHLCV\n",
      "    O: 0.0940 | C: 0.0934 | V: 291.5 | T: 2018-01-10T15:58:00\n",
      "ORDERS\n",
      "    1: ETH/BTC | LIMIT_BUY | Price: 0.1000 | Quantity: 1.0000\n",
      "PERFORMANCE\n",
      "    Cash: 0.0000 Total Val: 1.0000 PnL: 0.0000 Returns: 0.0000\n",
      "BALANCE\n",
      "    BTC - {'free': 1.3877787807814457e-16, 'used': 0.0, 'total': 1.3877787807814457e-16}\n",
      "    ETH - {'free': 10.0, 'used': 0.0, 'total': 10.0}\n",
      "POSITIONS\n",
      "     {'asset': 'ETH/BTC', 'quantity': 10, 'cost_price': 0.09999999999999999, 'latest_price': 0.1}\n",
      "METRICS\n",
      "    SMA: 5.00\n",
      "    RSI: 10.00\n"
     ]
    },
    {
     "name": "stdout",
     "output_type": "stream",
     "text": [
      "Balance is not sufficient to create order!\n"
     ]
    },
    {
     "name": "stderr",
     "output_type": "stream",
     "text": [
      "---------------------------------------\n",
      "Epoch 212 - Timestep: 2018-01-10T15:59:00\n",
      "---------------------------------------\n",
      "OHLCV\n",
      "    O: 0.0936 | C: 0.0938 | V: 355.4 | T: 2018-01-10T15:59:00\n",
      "ORDERS\n",
      "    1: ETH/BTC | LIMIT_SELL | Price: 0.1000 | Quantity: 1.0000\n",
      "PERFORMANCE\n",
      "    Cash: 0.0000 Total Val: 1.0000 PnL: 0.0000 Returns: 0.0000\n",
      "BALANCE\n",
      "    BTC - {'free': 1.3877787807814457e-16, 'used': 0.0, 'total': 1.3877787807814457e-16}\n",
      "    ETH - {'free': 10.0, 'used': 0.0, 'total': 10.0}\n",
      "POSITIONS\n",
      "     {'asset': 'ETH/BTC', 'quantity': 10, 'cost_price': 0.09999999999999999, 'latest_price': 0.1}\n",
      "METRICS\n",
      "    SMA: 5.00\n",
      "    RSI: 10.00\n"
     ]
    },
    {
     "name": "stdout",
     "output_type": "stream",
     "text": [
      "{'id': '3ab20dda60e74e1fb7cd87b9ee7059b7', 'asset': 'ETH/BTC', 'price': 0.1, 'quantity': 1, 'type': 'limit', 'side': 'sell', 'filled': 0.0, 'status': 'FILLED', 'fee': {}}\n"
     ]
    },
    {
     "name": "stderr",
     "output_type": "stream",
     "text": [
      "---------------------------------------\n",
      "Epoch 213 - Timestep: 2018-01-10T16:00:00\n",
      "---------------------------------------\n",
      "OHLCV\n",
      "    O: 0.0938 | C: 0.0938 | V: 261.3 | T: 2018-01-10T16:00:00\n",
      "ORDERS\n",
      "    1: ETH/BTC | LIMIT_SELL | Price: 0.1000 | Quantity: 1.0000\n",
      "PERFORMANCE\n",
      "    Cash: 0.1000 Total Val: 1.0000 PnL: 0.0000 Returns: 0.0000\n",
      "BALANCE\n",
      "    BTC - {'free': 0.10000000000000014, 'used': 0.0, 'total': 0.10000000000000014}\n",
      "    ETH - {'free': 9.0, 'used': 0.0, 'total': 9.0}\n",
      "POSITIONS\n",
      "     {'asset': 'ETH/BTC', 'quantity': 9, 'cost_price': 0.09999999999999999, 'latest_price': 0.1}\n",
      "METRICS\n",
      "    SMA: 5.00\n",
      "    RSI: 10.00\n"
     ]
    },
    {
     "name": "stdout",
     "output_type": "stream",
     "text": [
      "{'id': '82ca00fc64d94fdb8ed7a82ce60c8ba5', 'asset': 'ETH/BTC', 'price': 0.1, 'quantity': 1, 'type': 'limit', 'side': 'sell', 'filled': 0.0, 'status': 'FILLED', 'fee': {}}\n"
     ]
    },
    {
     "name": "stderr",
     "output_type": "stream",
     "text": [
      "---------------------------------------\n",
      "Epoch 214 - Timestep: 2018-01-10T16:01:00\n",
      "---------------------------------------\n",
      "OHLCV\n",
      "    O: 0.0938 | C: 0.0940 | V: 329.6 | T: 2018-01-10T16:01:00\n",
      "ORDERS\n",
      "    1: ETH/BTC | LIMIT_BUY | Price: 0.1000 | Quantity: 1.0000\n",
      "PERFORMANCE\n",
      "    Cash: 0.2000 Total Val: 1.0000 PnL: 0.0000 Returns: 0.0000\n",
      "BALANCE\n",
      "    BTC - {'free': 0.20000000000000015, 'used': 0.0, 'total': 0.20000000000000015}\n",
      "    ETH - {'free': 8.0, 'used': 0.0, 'total': 8.0}\n",
      "POSITIONS\n",
      "     {'asset': 'ETH/BTC', 'quantity': 8, 'cost_price': 0.09999999999999999, 'latest_price': 0.1}\n",
      "METRICS\n",
      "    SMA: 5.00\n",
      "    RSI: 10.00\n"
     ]
    },
    {
     "name": "stdout",
     "output_type": "stream",
     "text": [
      "{'id': '8ddd6f62ee464c5d927444ab9d7cd953', 'asset': 'ETH/BTC', 'price': 0.1, 'quantity': 1, 'type': 'limit', 'side': 'buy', 'filled': 0.0, 'status': 'FILLED', 'fee': {}}\n"
     ]
    },
    {
     "name": "stderr",
     "output_type": "stream",
     "text": [
      "---------------------------------------\n",
      "Epoch 215 - Timestep: 2018-01-10T16:02:00\n",
      "---------------------------------------\n",
      "OHLCV\n",
      "    O: 0.0940 | C: 0.0940 | V: 388.7 | T: 2018-01-10T16:02:00\n",
      "ORDERS\n",
      "    1: ETH/BTC | LIMIT_SELL | Price: 0.1000 | Quantity: 1.0000\n",
      "PERFORMANCE\n",
      "    Cash: 0.1000 Total Val: 1.0000 PnL: 0.0000 Returns: 0.0000\n",
      "BALANCE\n",
      "    BTC - {'free': 0.10000000000000014, 'used': 0.0, 'total': 0.10000000000000014}\n",
      "    ETH - {'free': 9.0, 'used': 0.0, 'total': 9.0}\n",
      "POSITIONS\n",
      "     {'asset': 'ETH/BTC', 'quantity': 9, 'cost_price': 0.09999999999999999, 'latest_price': 0.1}\n",
      "METRICS\n",
      "    SMA: 5.00\n",
      "    RSI: 10.00\n"
     ]
    },
    {
     "name": "stdout",
     "output_type": "stream",
     "text": [
      "{'id': 'cc0861a85d4a4b908c5974d398f9cf0a', 'asset': 'ETH/BTC', 'price': 0.1, 'quantity': 1, 'type': 'limit', 'side': 'sell', 'filled': 0.0, 'status': 'FILLED', 'fee': {}}\n"
     ]
    },
    {
     "name": "stderr",
     "output_type": "stream",
     "text": [
      "---------------------------------------\n",
      "Epoch 216 - Timestep: 2018-01-10T16:03:00\n",
      "---------------------------------------\n",
      "OHLCV\n",
      "    O: 0.0939 | C: 0.0936 | V: 637.2 | T: 2018-01-10T16:03:00\n",
      "ORDERS\n",
      "    1: ETH/BTC | LIMIT_SELL | Price: 0.1000 | Quantity: 1.0000\n",
      "PERFORMANCE\n",
      "    Cash: 0.2000 Total Val: 1.0000 PnL: 0.0000 Returns: 0.0000\n",
      "BALANCE\n",
      "    BTC - {'free': 0.20000000000000015, 'used': 0.0, 'total': 0.20000000000000015}\n",
      "    ETH - {'free': 8.0, 'used': 0.0, 'total': 8.0}\n",
      "POSITIONS\n",
      "     {'asset': 'ETH/BTC', 'quantity': 8, 'cost_price': 0.09999999999999999, 'latest_price': 0.1}\n",
      "METRICS\n",
      "    SMA: 5.00\n",
      "    RSI: 10.00\n"
     ]
    },
    {
     "name": "stdout",
     "output_type": "stream",
     "text": [
      "{'id': '1da9bf6bfe7942539f4abfac49fffd73', 'asset': 'ETH/BTC', 'price': 0.1, 'quantity': 1, 'type': 'limit', 'side': 'sell', 'filled': 0.0, 'status': 'FILLED', 'fee': {}}\n"
     ]
    },
    {
     "name": "stderr",
     "output_type": "stream",
     "text": [
      "---------------------------------------\n",
      "Epoch 217 - Timestep: 2018-01-10T16:04:00\n",
      "---------------------------------------\n",
      "OHLCV\n",
      "    O: 0.0936 | C: 0.0930 | V: 462.2 | T: 2018-01-10T16:04:00\n",
      "ORDERS\n",
      "    1: ETH/BTC | LIMIT_SELL | Price: 0.1000 | Quantity: 1.0000\n",
      "PERFORMANCE\n",
      "    Cash: 0.3000 Total Val: 1.0000 PnL: 0.0000 Returns: 0.0000\n",
      "BALANCE\n",
      "    BTC - {'free': 0.30000000000000016, 'used': 0.0, 'total': 0.30000000000000016}\n",
      "    ETH - {'free': 7.0, 'used': 0.0, 'total': 7.0}\n",
      "POSITIONS\n",
      "     {'asset': 'ETH/BTC', 'quantity': 7, 'cost_price': 0.09999999999999999, 'latest_price': 0.1}\n",
      "METRICS\n",
      "    SMA: 5.00\n",
      "    RSI: 10.00\n"
     ]
    },
    {
     "name": "stdout",
     "output_type": "stream",
     "text": [
      "{'id': '20850147fc1e46c481f2b1da56622994', 'asset': 'ETH/BTC', 'price': 0.1, 'quantity': 1, 'type': 'limit', 'side': 'sell', 'filled': 0.0, 'status': 'FILLED', 'fee': {}}\n"
     ]
    },
    {
     "name": "stderr",
     "output_type": "stream",
     "text": [
      "---------------------------------------\n",
      "Epoch 218 - Timestep: 2018-01-10T16:05:00\n",
      "---------------------------------------\n",
      "OHLCV\n",
      "    O: 0.0930 | C: 0.0925 | V: 1075.9 | T: 2018-01-10T16:05:00\n",
      "ORDERS\n",
      "    1: ETH/BTC | LIMIT_SELL | Price: 0.1000 | Quantity: 1.0000\n",
      "PERFORMANCE\n",
      "    Cash: 0.4000 Total Val: 1.0000 PnL: 0.0000 Returns: 0.0000\n",
      "BALANCE\n",
      "    BTC - {'free': 0.40000000000000013, 'used': 0.0, 'total': 0.40000000000000013}\n",
      "    ETH - {'free': 6.0, 'used': 0.0, 'total': 6.0}\n",
      "POSITIONS\n",
      "     {'asset': 'ETH/BTC', 'quantity': 6, 'cost_price': 0.09999999999999999, 'latest_price': 0.1}\n",
      "METRICS\n",
      "    SMA: 5.00\n",
      "    RSI: 10.00\n"
     ]
    },
    {
     "name": "stdout",
     "output_type": "stream",
     "text": [
      "{'id': 'e9f91bc3e2214e15ae00928a0f3b5ccf', 'asset': 'ETH/BTC', 'price': 0.1, 'quantity': 1, 'type': 'limit', 'side': 'sell', 'filled': 0.0, 'status': 'FILLED', 'fee': {}}\n"
     ]
    },
    {
     "name": "stderr",
     "output_type": "stream",
     "text": [
      "---------------------------------------\n",
      "Epoch 219 - Timestep: 2018-01-10T16:06:00\n",
      "---------------------------------------\n",
      "OHLCV\n",
      "    O: 0.0925 | C: 0.0923 | V: 410.0 | T: 2018-01-10T16:06:00\n",
      "ORDERS\n",
      "    1: ETH/BTC | LIMIT_SELL | Price: 0.1000 | Quantity: 1.0000\n",
      "PERFORMANCE\n",
      "    Cash: 0.5000 Total Val: 1.0000 PnL: 0.0000 Returns: 0.0000\n",
      "BALANCE\n",
      "    BTC - {'free': 0.5000000000000001, 'used': 0.0, 'total': 0.5000000000000001}\n",
      "    ETH - {'free': 5.0, 'used': 0.0, 'total': 5.0}\n",
      "POSITIONS\n",
      "     {'asset': 'ETH/BTC', 'quantity': 5, 'cost_price': 0.09999999999999999, 'latest_price': 0.1}\n",
      "METRICS\n",
      "    SMA: 5.00\n",
      "    RSI: 10.00\n"
     ]
    },
    {
     "name": "stdout",
     "output_type": "stream",
     "text": [
      "{'id': '626acd853ed74fcc876a3893d028e474', 'asset': 'ETH/BTC', 'price': 0.1, 'quantity': 1, 'type': 'limit', 'side': 'sell', 'filled': 0.0, 'status': 'FILLED', 'fee': {}}\n"
     ]
    },
    {
     "name": "stderr",
     "output_type": "stream",
     "text": [
      "---------------------------------------\n",
      "Epoch 220 - Timestep: 2018-01-10T16:07:00\n",
      "---------------------------------------\n",
      "OHLCV\n",
      "    O: 0.0923 | C: 0.0922 | V: 498.5 | T: 2018-01-10T16:07:00\n",
      "ORDERS\n",
      "    1: ETH/BTC | LIMIT_BUY | Price: 0.1000 | Quantity: 1.0000\n",
      "PERFORMANCE\n",
      "    Cash: 0.6000 Total Val: 1.0000 PnL: 0.0000 Returns: 0.0000\n",
      "BALANCE\n",
      "    BTC - {'free': 0.6000000000000001, 'used': 0.0, 'total': 0.6000000000000001}\n",
      "    ETH - {'free': 4.0, 'used': 0.0, 'total': 4.0}\n",
      "POSITIONS\n",
      "     {'asset': 'ETH/BTC', 'quantity': 4, 'cost_price': 0.09999999999999999, 'latest_price': 0.1}\n",
      "METRICS\n",
      "    SMA: 5.00\n",
      "    RSI: 10.00\n"
     ]
    },
    {
     "name": "stdout",
     "output_type": "stream",
     "text": [
      "{'id': 'eaac9e6117754deabacf9f9aec841ccb', 'asset': 'ETH/BTC', 'price': 0.1, 'quantity': 1, 'type': 'limit', 'side': 'buy', 'filled': 0.0, 'status': 'FILLED', 'fee': {}}\n"
     ]
    },
    {
     "name": "stderr",
     "output_type": "stream",
     "text": [
      "---------------------------------------\n",
      "Epoch 221 - Timestep: 2018-01-10T16:08:00\n",
      "---------------------------------------\n",
      "OHLCV\n",
      "    O: 0.0921 | C: 0.0921 | V: 792.4 | T: 2018-01-10T16:08:00\n",
      "ORDERS\n",
      "    1: ETH/BTC | LIMIT_BUY | Price: 0.1000 | Quantity: 1.0000\n",
      "PERFORMANCE\n",
      "    Cash: 0.5000 Total Val: 1.0000 PnL: 0.0000 Returns: 0.0000\n",
      "BALANCE\n",
      "    BTC - {'free': 0.5000000000000001, 'used': 0.0, 'total': 0.5000000000000001}\n",
      "    ETH - {'free': 5.0, 'used': 0.0, 'total': 5.0}\n",
      "POSITIONS\n",
      "     {'asset': 'ETH/BTC', 'quantity': 5, 'cost_price': 0.1, 'latest_price': 0.1}\n",
      "METRICS\n",
      "    SMA: 5.00\n",
      "    RSI: 10.00\n"
     ]
    },
    {
     "name": "stdout",
     "output_type": "stream",
     "text": [
      "{'id': 'b21965d2f7464f3bae9e57a71a18383e', 'asset': 'ETH/BTC', 'price': 0.1, 'quantity': 1, 'type': 'limit', 'side': 'buy', 'filled': 0.0, 'status': 'FILLED', 'fee': {}}\n"
     ]
    },
    {
     "name": "stderr",
     "output_type": "stream",
     "text": [
      "---------------------------------------\n",
      "Epoch 222 - Timestep: 2018-01-10T16:09:00\n",
      "---------------------------------------\n",
      "OHLCV\n",
      "    O: 0.0925 | C: 0.0925 | V: 534.9 | T: 2018-01-10T16:09:00\n",
      "ORDERS\n",
      "    1: ETH/BTC | LIMIT_SELL | Price: 0.1000 | Quantity: 1.0000\n",
      "PERFORMANCE\n",
      "    Cash: 0.4000 Total Val: 1.0000 PnL: 0.0000 Returns: 0.0000\n",
      "BALANCE\n",
      "    BTC - {'free': 0.40000000000000013, 'used': 0.0, 'total': 0.40000000000000013}\n",
      "    ETH - {'free': 6.0, 'used': 0.0, 'total': 6.0}\n",
      "POSITIONS\n",
      "     {'asset': 'ETH/BTC', 'quantity': 6, 'cost_price': 0.09999999999999999, 'latest_price': 0.1}\n",
      "METRICS\n",
      "    SMA: 5.00\n",
      "    RSI: 10.00\n"
     ]
    },
    {
     "name": "stdout",
     "output_type": "stream",
     "text": [
      "{'id': '8d1c0583fcac4a5485725fe5383c4eaa', 'asset': 'ETH/BTC', 'price': 0.1, 'quantity': 1, 'type': 'limit', 'side': 'sell', 'filled': 0.0, 'status': 'FILLED', 'fee': {}}\n"
     ]
    },
    {
     "name": "stderr",
     "output_type": "stream",
     "text": [
      "---------------------------------------\n",
      "Epoch 223 - Timestep: 2018-01-10T16:10:00\n",
      "---------------------------------------\n",
      "OHLCV\n",
      "    O: 0.0925 | C: 0.0924 | V: 280.1 | T: 2018-01-10T16:10:00\n",
      "ORDERS\n",
      "    1: ETH/BTC | LIMIT_BUY | Price: 0.1000 | Quantity: 1.0000\n",
      "PERFORMANCE\n",
      "    Cash: 0.5000 Total Val: 1.0000 PnL: 0.0000 Returns: 0.0000\n",
      "BALANCE\n",
      "    BTC - {'free': 0.5000000000000001, 'used': 0.0, 'total': 0.5000000000000001}\n",
      "    ETH - {'free': 5.0, 'used': 0.0, 'total': 5.0}\n",
      "POSITIONS\n",
      "     {'asset': 'ETH/BTC', 'quantity': 5, 'cost_price': 0.09999999999999999, 'latest_price': 0.1}\n",
      "METRICS\n",
      "    SMA: 5.00\n",
      "    RSI: 10.00\n"
     ]
    },
    {
     "name": "stdout",
     "output_type": "stream",
     "text": [
      "{'id': 'f8024ffda9684b93a9dbee983326aa7b', 'asset': 'ETH/BTC', 'price': 0.1, 'quantity': 1, 'type': 'limit', 'side': 'buy', 'filled': 0.0, 'status': 'FILLED', 'fee': {}}\n"
     ]
    },
    {
     "name": "stderr",
     "output_type": "stream",
     "text": [
      "---------------------------------------\n",
      "Epoch 224 - Timestep: 2018-01-10T16:11:00\n",
      "---------------------------------------\n",
      "OHLCV\n",
      "    O: 0.0924 | C: 0.0921 | V: 326.5 | T: 2018-01-10T16:11:00\n",
      "ORDERS\n",
      "    1: ETH/BTC | LIMIT_SELL | Price: 0.1000 | Quantity: 1.0000\n",
      "PERFORMANCE\n",
      "    Cash: 0.4000 Total Val: 1.0000 PnL: 0.0000 Returns: 0.0000\n",
      "BALANCE\n",
      "    BTC - {'free': 0.40000000000000013, 'used': 0.0, 'total': 0.40000000000000013}\n",
      "    ETH - {'free': 6.0, 'used': 0.0, 'total': 6.0}\n",
      "POSITIONS\n",
      "     {'asset': 'ETH/BTC', 'quantity': 6, 'cost_price': 0.09999999999999999, 'latest_price': 0.1}\n",
      "METRICS\n",
      "    SMA: 5.00\n",
      "    RSI: 10.00\n"
     ]
    },
    {
     "name": "stdout",
     "output_type": "stream",
     "text": [
      "{'id': 'b1f9e8527e0641909b40592d7a7e5161', 'asset': 'ETH/BTC', 'price': 0.1, 'quantity': 1, 'type': 'limit', 'side': 'sell', 'filled': 0.0, 'status': 'FILLED', 'fee': {}}\n"
     ]
    },
    {
     "name": "stderr",
     "output_type": "stream",
     "text": [
      "---------------------------------------\n",
      "Epoch 225 - Timestep: 2018-01-10T16:12:00\n",
      "---------------------------------------\n",
      "OHLCV\n",
      "    O: 0.0921 | C: 0.0924 | V: 291.3 | T: 2018-01-10T16:12:00\n",
      "ORDERS\n",
      "    1: ETH/BTC | LIMIT_SELL | Price: 0.1000 | Quantity: 1.0000\n",
      "PERFORMANCE\n",
      "    Cash: 0.5000 Total Val: 1.0000 PnL: 0.0000 Returns: 0.0000\n",
      "BALANCE\n",
      "    BTC - {'free': 0.5000000000000001, 'used': 0.0, 'total': 0.5000000000000001}\n",
      "    ETH - {'free': 5.0, 'used': 0.0, 'total': 5.0}\n",
      "POSITIONS\n",
      "     {'asset': 'ETH/BTC', 'quantity': 5, 'cost_price': 0.09999999999999999, 'latest_price': 0.1}\n",
      "METRICS\n",
      "    SMA: 5.00\n",
      "    RSI: 10.00\n"
     ]
    },
    {
     "name": "stdout",
     "output_type": "stream",
     "text": [
      "{'id': '8a2a0f05abf441a389c6637b8fe6f216', 'asset': 'ETH/BTC', 'price': 0.1, 'quantity': 1, 'type': 'limit', 'side': 'sell', 'filled': 0.0, 'status': 'FILLED', 'fee': {}}\n"
     ]
    },
    {
     "name": "stderr",
     "output_type": "stream",
     "text": [
      "---------------------------------------\n",
      "Epoch 226 - Timestep: 2018-01-10T16:13:00\n",
      "---------------------------------------\n",
      "OHLCV\n",
      "    O: 0.0924 | C: 0.0925 | V: 374.5 | T: 2018-01-10T16:13:00\n",
      "ORDERS\n",
      "    1: ETH/BTC | LIMIT_BUY | Price: 0.1000 | Quantity: 1.0000\n",
      "PERFORMANCE\n",
      "    Cash: 0.6000 Total Val: 1.0000 PnL: 0.0000 Returns: 0.0000\n",
      "BALANCE\n",
      "    BTC - {'free': 0.6000000000000001, 'used': 0.0, 'total': 0.6000000000000001}\n",
      "    ETH - {'free': 4.0, 'used': 0.0, 'total': 4.0}\n",
      "POSITIONS\n",
      "     {'asset': 'ETH/BTC', 'quantity': 4, 'cost_price': 0.09999999999999999, 'latest_price': 0.1}\n",
      "METRICS\n",
      "    SMA: 5.00\n",
      "    RSI: 10.00\n"
     ]
    },
    {
     "name": "stdout",
     "output_type": "stream",
     "text": [
      "{'id': '24b0123c389142e9bcbb2fbe7bebd155', 'asset': 'ETH/BTC', 'price': 0.1, 'quantity': 1, 'type': 'limit', 'side': 'buy', 'filled': 0.0, 'status': 'FILLED', 'fee': {}}\n"
     ]
    },
    {
     "name": "stderr",
     "output_type": "stream",
     "text": [
      "---------------------------------------\n",
      "Epoch 227 - Timestep: 2018-01-10T16:14:00\n",
      "---------------------------------------\n",
      "OHLCV\n",
      "    O: 0.0924 | C: 0.0929 | V: 359.9 | T: 2018-01-10T16:14:00\n",
      "ORDERS\n",
      "    1: ETH/BTC | LIMIT_SELL | Price: 0.1000 | Quantity: 1.0000\n",
      "PERFORMANCE\n",
      "    Cash: 0.5000 Total Val: 1.0000 PnL: 0.0000 Returns: 0.0000\n",
      "BALANCE\n",
      "    BTC - {'free': 0.5000000000000001, 'used': 0.0, 'total': 0.5000000000000001}\n",
      "    ETH - {'free': 5.0, 'used': 0.0, 'total': 5.0}\n",
      "POSITIONS\n",
      "     {'asset': 'ETH/BTC', 'quantity': 5, 'cost_price': 0.1, 'latest_price': 0.1}\n",
      "METRICS\n",
      "    SMA: 5.00\n",
      "    RSI: 10.00\n"
     ]
    },
    {
     "name": "stdout",
     "output_type": "stream",
     "text": [
      "{'id': '573a342c663a44d8ac630d74b12bb803', 'asset': 'ETH/BTC', 'price': 0.1, 'quantity': 1, 'type': 'limit', 'side': 'sell', 'filled': 0.0, 'status': 'FILLED', 'fee': {}}\n"
     ]
    },
    {
     "name": "stderr",
     "output_type": "stream",
     "text": [
      "---------------------------------------\n",
      "Epoch 228 - Timestep: 2018-01-10T16:15:00\n",
      "---------------------------------------\n",
      "OHLCV\n",
      "    O: 0.0929 | C: 0.0931 | V: 325.4 | T: 2018-01-10T16:15:00\n",
      "ORDERS\n",
      "    1: ETH/BTC | LIMIT_BUY | Price: 0.1000 | Quantity: 1.0000\n",
      "PERFORMANCE\n",
      "    Cash: 0.6000 Total Val: 1.0000 PnL: 0.0000 Returns: 0.0000\n",
      "BALANCE\n",
      "    BTC - {'free': 0.6000000000000001, 'used': 0.0, 'total': 0.6000000000000001}\n",
      "    ETH - {'free': 4.0, 'used': 0.0, 'total': 4.0}\n",
      "POSITIONS\n",
      "     {'asset': 'ETH/BTC', 'quantity': 4, 'cost_price': 0.1, 'latest_price': 0.1}\n",
      "METRICS\n",
      "    SMA: 5.00\n",
      "    RSI: 10.00\n"
     ]
    },
    {
     "name": "stdout",
     "output_type": "stream",
     "text": [
      "{'id': '51cbf4fe29fb4b12b50362ccfcd63333', 'asset': 'ETH/BTC', 'price': 0.1, 'quantity': 1, 'type': 'limit', 'side': 'buy', 'filled': 0.0, 'status': 'FILLED', 'fee': {}}\n"
     ]
    },
    {
     "name": "stderr",
     "output_type": "stream",
     "text": [
      "---------------------------------------\n",
      "Epoch 229 - Timestep: 2018-01-10T16:16:00\n",
      "---------------------------------------\n",
      "OHLCV\n",
      "    O: 0.0931 | C: 0.0932 | V: 302.3 | T: 2018-01-10T16:16:00\n",
      "ORDERS\n",
      "    1: ETH/BTC | LIMIT_SELL | Price: 0.1000 | Quantity: 1.0000\n",
      "PERFORMANCE\n",
      "    Cash: 0.5000 Total Val: 1.0000 PnL: 0.0000 Returns: 0.0000\n",
      "BALANCE\n",
      "    BTC - {'free': 0.5000000000000001, 'used': 0.0, 'total': 0.5000000000000001}\n",
      "    ETH - {'free': 5.0, 'used': 0.0, 'total': 5.0}\n",
      "POSITIONS\n",
      "     {'asset': 'ETH/BTC', 'quantity': 5, 'cost_price': 0.1, 'latest_price': 0.1}\n",
      "METRICS\n",
      "    SMA: 5.00\n",
      "    RSI: 10.00\n"
     ]
    },
    {
     "name": "stdout",
     "output_type": "stream",
     "text": [
      "{'id': '1787b2961d8e4fb8929aa2d7ce4fbe3e', 'asset': 'ETH/BTC', 'price': 0.1, 'quantity': 1, 'type': 'limit', 'side': 'sell', 'filled': 0.0, 'status': 'FILLED', 'fee': {}}\n"
     ]
    },
    {
     "name": "stderr",
     "output_type": "stream",
     "text": [
      "---------------------------------------\n",
      "Epoch 230 - Timestep: 2018-01-10T16:17:00\n",
      "---------------------------------------\n",
      "OHLCV\n",
      "    O: 0.0932 | C: 0.0930 | V: 697.6 | T: 2018-01-10T16:17:00\n",
      "ORDERS\n",
      "    1: ETH/BTC | LIMIT_BUY | Price: 0.1000 | Quantity: 1.0000\n",
      "PERFORMANCE\n",
      "    Cash: 0.6000 Total Val: 1.0000 PnL: 0.0000 Returns: 0.0000\n",
      "BALANCE\n",
      "    BTC - {'free': 0.6000000000000001, 'used': 0.0, 'total': 0.6000000000000001}\n",
      "    ETH - {'free': 4.0, 'used': 0.0, 'total': 4.0}\n",
      "POSITIONS\n",
      "     {'asset': 'ETH/BTC', 'quantity': 4, 'cost_price': 0.1, 'latest_price': 0.1}\n",
      "METRICS\n",
      "    SMA: 5.00\n",
      "    RSI: 10.00\n"
     ]
    },
    {
     "name": "stdout",
     "output_type": "stream",
     "text": [
      "{'id': '143385b0513148e096c83cb8bf0119bd', 'asset': 'ETH/BTC', 'price': 0.1, 'quantity': 1, 'type': 'limit', 'side': 'buy', 'filled': 0.0, 'status': 'FILLED', 'fee': {}}\n"
     ]
    },
    {
     "name": "stderr",
     "output_type": "stream",
     "text": [
      "---------------------------------------\n",
      "Epoch 231 - Timestep: 2018-01-10T16:18:00\n",
      "---------------------------------------\n",
      "OHLCV\n",
      "    O: 0.0930 | C: 0.0925 | V: 416.9 | T: 2018-01-10T16:18:00\n",
      "ORDERS\n",
      "    1: ETH/BTC | LIMIT_SELL | Price: 0.1000 | Quantity: 1.0000\n",
      "PERFORMANCE\n",
      "    Cash: 0.5000 Total Val: 1.0000 PnL: 0.0000 Returns: 0.0000\n",
      "BALANCE\n",
      "    BTC - {'free': 0.5000000000000001, 'used': 0.0, 'total': 0.5000000000000001}\n",
      "    ETH - {'free': 5.0, 'used': 0.0, 'total': 5.0}\n",
      "POSITIONS\n",
      "     {'asset': 'ETH/BTC', 'quantity': 5, 'cost_price': 0.1, 'latest_price': 0.1}\n",
      "METRICS\n",
      "    SMA: 5.00\n",
      "    RSI: 10.00\n"
     ]
    },
    {
     "name": "stdout",
     "output_type": "stream",
     "text": [
      "{'id': '919a0fd47a3f484b83f268316be57982', 'asset': 'ETH/BTC', 'price': 0.1, 'quantity': 1, 'type': 'limit', 'side': 'sell', 'filled': 0.0, 'status': 'FILLED', 'fee': {}}\n"
     ]
    },
    {
     "name": "stderr",
     "output_type": "stream",
     "text": [
      "---------------------------------------\n",
      "Epoch 232 - Timestep: 2018-01-10T16:19:00\n",
      "---------------------------------------\n",
      "OHLCV\n",
      "    O: 0.0925 | C: 0.0925 | V: 353.2 | T: 2018-01-10T16:19:00\n",
      "ORDERS\n",
      "    1: ETH/BTC | LIMIT_BUY | Price: 0.1000 | Quantity: 1.0000\n",
      "PERFORMANCE\n",
      "    Cash: 0.6000 Total Val: 1.0000 PnL: 0.0000 Returns: 0.0000\n",
      "BALANCE\n",
      "    BTC - {'free': 0.6000000000000001, 'used': 0.0, 'total': 0.6000000000000001}\n",
      "    ETH - {'free': 4.0, 'used': 0.0, 'total': 4.0}\n",
      "POSITIONS\n",
      "     {'asset': 'ETH/BTC', 'quantity': 4, 'cost_price': 0.1, 'latest_price': 0.1}\n",
      "METRICS\n",
      "    SMA: 5.00\n",
      "    RSI: 10.00\n"
     ]
    },
    {
     "name": "stdout",
     "output_type": "stream",
     "text": [
      "{'id': '62ac612956564d59a7904e3a20b0df04', 'asset': 'ETH/BTC', 'price': 0.1, 'quantity': 1, 'type': 'limit', 'side': 'buy', 'filled': 0.0, 'status': 'FILLED', 'fee': {}}\n"
     ]
    },
    {
     "name": "stderr",
     "output_type": "stream",
     "text": [
      "---------------------------------------\n",
      "Epoch 233 - Timestep: 2018-01-10T16:20:00\n",
      "---------------------------------------\n",
      "OHLCV\n",
      "    O: 0.0925 | C: 0.0924 | V: 387.8 | T: 2018-01-10T16:20:00\n",
      "ORDERS\n",
      "    1: ETH/BTC | LIMIT_SELL | Price: 0.1000 | Quantity: 1.0000\n",
      "PERFORMANCE\n",
      "    Cash: 0.5000 Total Val: 1.0000 PnL: 0.0000 Returns: 0.0000\n",
      "BALANCE\n",
      "    BTC - {'free': 0.5000000000000001, 'used': 0.0, 'total': 0.5000000000000001}\n",
      "    ETH - {'free': 5.0, 'used': 0.0, 'total': 5.0}\n",
      "POSITIONS\n",
      "     {'asset': 'ETH/BTC', 'quantity': 5, 'cost_price': 0.1, 'latest_price': 0.1}\n",
      "METRICS\n",
      "    SMA: 5.00\n",
      "    RSI: 10.00\n"
     ]
    },
    {
     "name": "stdout",
     "output_type": "stream",
     "text": [
      "{'id': 'd0003fb0d56d40db92947482dd552880', 'asset': 'ETH/BTC', 'price': 0.1, 'quantity': 1, 'type': 'limit', 'side': 'sell', 'filled': 0.0, 'status': 'FILLED', 'fee': {}}\n"
     ]
    },
    {
     "name": "stderr",
     "output_type": "stream",
     "text": [
      "---------------------------------------\n",
      "Epoch 234 - Timestep: 2018-01-10T16:21:00\n",
      "---------------------------------------\n",
      "OHLCV\n",
      "    O: 0.0924 | C: 0.0930 | V: 537.4 | T: 2018-01-10T16:21:00\n",
      "ORDERS\n",
      "    1: ETH/BTC | LIMIT_SELL | Price: 0.1000 | Quantity: 1.0000\n",
      "PERFORMANCE\n",
      "    Cash: 0.6000 Total Val: 1.0000 PnL: 0.0000 Returns: 0.0000\n",
      "BALANCE\n",
      "    BTC - {'free': 0.6000000000000001, 'used': 0.0, 'total': 0.6000000000000001}\n",
      "    ETH - {'free': 4.0, 'used': 0.0, 'total': 4.0}\n",
      "POSITIONS\n",
      "     {'asset': 'ETH/BTC', 'quantity': 4, 'cost_price': 0.1, 'latest_price': 0.1}\n",
      "METRICS\n",
      "    SMA: 5.00\n",
      "    RSI: 10.00\n"
     ]
    },
    {
     "name": "stdout",
     "output_type": "stream",
     "text": [
      "{'id': '599acb27b68549bfa8a28a6293b74f67', 'asset': 'ETH/BTC', 'price': 0.1, 'quantity': 1, 'type': 'limit', 'side': 'sell', 'filled': 0.0, 'status': 'FILLED', 'fee': {}}\n"
     ]
    },
    {
     "name": "stderr",
     "output_type": "stream",
     "text": [
      "---------------------------------------\n",
      "Epoch 235 - Timestep: 2018-01-10T16:22:00\n",
      "---------------------------------------\n",
      "OHLCV\n",
      "    O: 0.0925 | C: 0.0924 | V: 367.6 | T: 2018-01-10T16:22:00\n",
      "ORDERS\n",
      "    1: ETH/BTC | LIMIT_BUY | Price: 0.1000 | Quantity: 1.0000\n",
      "PERFORMANCE\n",
      "    Cash: 0.7000 Total Val: 1.0000 PnL: 0.0000 Returns: 0.0000\n",
      "BALANCE\n",
      "    BTC - {'free': 0.7000000000000001, 'used': 0.0, 'total': 0.7000000000000001}\n",
      "    ETH - {'free': 3.0, 'used': 0.0, 'total': 3.0}\n",
      "POSITIONS\n",
      "     {'asset': 'ETH/BTC', 'quantity': 3, 'cost_price': 0.1, 'latest_price': 0.1}\n",
      "METRICS\n",
      "    SMA: 5.00\n",
      "    RSI: 10.00\n"
     ]
    },
    {
     "name": "stdout",
     "output_type": "stream",
     "text": [
      "{'id': '69dbf141d69e4174bd1582fb3f6f6d49', 'asset': 'ETH/BTC', 'price': 0.1, 'quantity': 1, 'type': 'limit', 'side': 'buy', 'filled': 0.0, 'status': 'FILLED', 'fee': {}}\n"
     ]
    },
    {
     "name": "stderr",
     "output_type": "stream",
     "text": [
      "---------------------------------------\n",
      "Epoch 236 - Timestep: 2018-01-10T16:23:00\n",
      "---------------------------------------\n",
      "OHLCV\n",
      "    O: 0.0924 | C: 0.0924 | V: 248.7 | T: 2018-01-10T16:23:00\n",
      "ORDERS\n",
      "    1: ETH/BTC | LIMIT_BUY | Price: 0.1000 | Quantity: 1.0000\n",
      "PERFORMANCE\n",
      "    Cash: 0.6000 Total Val: 1.0000 PnL: 0.0000 Returns: 0.0000\n",
      "BALANCE\n",
      "    BTC - {'free': 0.6000000000000001, 'used': 0.0, 'total': 0.6000000000000001}\n",
      "    ETH - {'free': 4.0, 'used': 0.0, 'total': 4.0}\n",
      "POSITIONS\n",
      "     {'asset': 'ETH/BTC', 'quantity': 4, 'cost_price': 0.1, 'latest_price': 0.1}\n",
      "METRICS\n",
      "    SMA: 5.00\n",
      "    RSI: 10.00\n"
     ]
    },
    {
     "name": "stdout",
     "output_type": "stream",
     "text": [
      "{'id': 'e8ae19d1c4184e9db7ab6f57a69335b5', 'asset': 'ETH/BTC', 'price': 0.1, 'quantity': 1, 'type': 'limit', 'side': 'buy', 'filled': 0.0, 'status': 'FILLED', 'fee': {}}\n"
     ]
    },
    {
     "name": "stderr",
     "output_type": "stream",
     "text": [
      "---------------------------------------\n",
      "Epoch 237 - Timestep: 2018-01-10T16:24:00\n",
      "---------------------------------------\n",
      "OHLCV\n",
      "    O: 0.0924 | C: 0.0924 | V: 332.6 | T: 2018-01-10T16:24:00\n",
      "ORDERS\n",
      "    1: ETH/BTC | LIMIT_SELL | Price: 0.1000 | Quantity: 1.0000\n",
      "PERFORMANCE\n",
      "    Cash: 0.5000 Total Val: 1.0000 PnL: 0.0000 Returns: 0.0000\n",
      "BALANCE\n",
      "    BTC - {'free': 0.5000000000000001, 'used': 0.0, 'total': 0.5000000000000001}\n",
      "    ETH - {'free': 5.0, 'used': 0.0, 'total': 5.0}\n",
      "POSITIONS\n",
      "     {'asset': 'ETH/BTC', 'quantity': 5, 'cost_price': 0.1, 'latest_price': 0.1}\n",
      "METRICS\n",
      "    SMA: 5.00\n",
      "    RSI: 10.00\n"
     ]
    },
    {
     "name": "stdout",
     "output_type": "stream",
     "text": [
      "{'id': 'cda158a8b8d0468396919e785a7fd488', 'asset': 'ETH/BTC', 'price': 0.1, 'quantity': 1, 'type': 'limit', 'side': 'sell', 'filled': 0.0, 'status': 'FILLED', 'fee': {}}\n"
     ]
    },
    {
     "name": "stderr",
     "output_type": "stream",
     "text": [
      "---------------------------------------\n",
      "Epoch 238 - Timestep: 2018-01-10T16:25:00\n",
      "---------------------------------------\n",
      "OHLCV\n",
      "    O: 0.0924 | C: 0.0925 | V: 539.0 | T: 2018-01-10T16:25:00\n",
      "ORDERS\n",
      "    1: ETH/BTC | LIMIT_SELL | Price: 0.1000 | Quantity: 1.0000\n",
      "PERFORMANCE\n",
      "    Cash: 0.6000 Total Val: 1.0000 PnL: 0.0000 Returns: 0.0000\n",
      "BALANCE\n",
      "    BTC - {'free': 0.6000000000000001, 'used': 0.0, 'total': 0.6000000000000001}\n",
      "    ETH - {'free': 4.0, 'used': 0.0, 'total': 4.0}\n",
      "POSITIONS\n",
      "     {'asset': 'ETH/BTC', 'quantity': 4, 'cost_price': 0.1, 'latest_price': 0.1}\n",
      "METRICS\n",
      "    SMA: 5.00\n",
      "    RSI: 10.00\n"
     ]
    },
    {
     "name": "stdout",
     "output_type": "stream",
     "text": [
      "{'id': '65458894142c4fc089eaf1082abe0e2e', 'asset': 'ETH/BTC', 'price': 0.1, 'quantity': 1, 'type': 'limit', 'side': 'sell', 'filled': 0.0, 'status': 'FILLED', 'fee': {}}\n"
     ]
    },
    {
     "name": "stderr",
     "output_type": "stream",
     "text": [
      "---------------------------------------\n",
      "Epoch 239 - Timestep: 2018-01-10T16:26:00\n",
      "---------------------------------------\n",
      "OHLCV\n",
      "    O: 0.0925 | C: 0.0922 | V: 321.0 | T: 2018-01-10T16:26:00\n",
      "ORDERS\n",
      "    1: ETH/BTC | LIMIT_SELL | Price: 0.1000 | Quantity: 1.0000\n",
      "PERFORMANCE\n",
      "    Cash: 0.7000 Total Val: 1.0000 PnL: 0.0000 Returns: 0.0000\n",
      "BALANCE\n",
      "    BTC - {'free': 0.7000000000000001, 'used': 0.0, 'total': 0.7000000000000001}\n",
      "    ETH - {'free': 3.0, 'used': 0.0, 'total': 3.0}\n",
      "POSITIONS\n",
      "     {'asset': 'ETH/BTC', 'quantity': 3, 'cost_price': 0.1, 'latest_price': 0.1}\n",
      "METRICS\n",
      "    SMA: 5.00\n",
      "    RSI: 10.00\n"
     ]
    },
    {
     "name": "stdout",
     "output_type": "stream",
     "text": [
      "{'id': 'a3f199461cc64b7e8edde0a1748a41d5', 'asset': 'ETH/BTC', 'price': 0.1, 'quantity': 1, 'type': 'limit', 'side': 'sell', 'filled': 0.0, 'status': 'FILLED', 'fee': {}}\n"
     ]
    },
    {
     "name": "stderr",
     "output_type": "stream",
     "text": [
      "---------------------------------------\n",
      "Epoch 240 - Timestep: 2018-01-10T16:27:00\n",
      "---------------------------------------\n",
      "OHLCV\n",
      "    O: 0.0922 | C: 0.0922 | V: 656.4 | T: 2018-01-10T16:27:00\n",
      "ORDERS\n",
      "    1: ETH/BTC | LIMIT_BUY | Price: 0.1000 | Quantity: 1.0000\n",
      "PERFORMANCE\n",
      "    Cash: 0.8000 Total Val: 1.0000 PnL: 0.0000 Returns: 0.0000\n",
      "BALANCE\n",
      "    BTC - {'free': 0.8, 'used': 0.0, 'total': 0.8}\n",
      "    ETH - {'free': 2.0, 'used': 0.0, 'total': 2.0}\n",
      "POSITIONS\n",
      "     {'asset': 'ETH/BTC', 'quantity': 2, 'cost_price': 0.1, 'latest_price': 0.1}\n",
      "METRICS\n",
      "    SMA: 5.00\n",
      "    RSI: 10.00\n"
     ]
    },
    {
     "name": "stdout",
     "output_type": "stream",
     "text": [
      "{'id': 'b8a01bea1a1d4f2fbbdc47a69c3aadb3', 'asset': 'ETH/BTC', 'price': 0.1, 'quantity': 1, 'type': 'limit', 'side': 'buy', 'filled': 0.0, 'status': 'FILLED', 'fee': {}}\n"
     ]
    },
    {
     "name": "stderr",
     "output_type": "stream",
     "text": [
      "---------------------------------------\n",
      "Epoch 241 - Timestep: 2018-01-10T16:28:00\n",
      "---------------------------------------\n",
      "OHLCV\n",
      "    O: 0.0922 | C: 0.0921 | V: 343.7 | T: 2018-01-10T16:28:00\n",
      "ORDERS\n",
      "    1: ETH/BTC | LIMIT_BUY | Price: 0.1000 | Quantity: 1.0000\n",
      "PERFORMANCE\n",
      "    Cash: 0.7000 Total Val: 1.0000 PnL: 0.0000 Returns: 0.0000\n",
      "BALANCE\n",
      "    BTC - {'free': 0.7000000000000001, 'used': 0.0, 'total': 0.7000000000000001}\n",
      "    ETH - {'free': 3.0, 'used': 0.0, 'total': 3.0}\n",
      "POSITIONS\n",
      "     {'asset': 'ETH/BTC', 'quantity': 3, 'cost_price': 0.10000000000000002, 'latest_price': 0.1}\n",
      "METRICS\n",
      "    SMA: 5.00\n",
      "    RSI: 10.00\n"
     ]
    },
    {
     "name": "stdout",
     "output_type": "stream",
     "text": [
      "{'id': 'a422095557e143fe9813bdacc6e923c9', 'asset': 'ETH/BTC', 'price': 0.1, 'quantity': 1, 'type': 'limit', 'side': 'buy', 'filled': 0.0, 'status': 'FILLED', 'fee': {}}\n"
     ]
    },
    {
     "name": "stderr",
     "output_type": "stream",
     "text": [
      "---------------------------------------\n",
      "Epoch 242 - Timestep: 2018-01-10T16:29:00\n",
      "---------------------------------------\n",
      "OHLCV\n",
      "    O: 0.0922 | C: 0.0922 | V: 397.7 | T: 2018-01-10T16:29:00\n",
      "ORDERS\n",
      "    1: ETH/BTC | LIMIT_SELL | Price: 0.1000 | Quantity: 1.0000\n",
      "PERFORMANCE\n",
      "    Cash: 0.6000 Total Val: 1.0000 PnL: 0.0000 Returns: 0.0000\n",
      "BALANCE\n",
      "    BTC - {'free': 0.6000000000000001, 'used': 0.0, 'total': 0.6000000000000001}\n",
      "    ETH - {'free': 4.0, 'used': 0.0, 'total': 4.0}\n",
      "POSITIONS\n",
      "     {'asset': 'ETH/BTC', 'quantity': 4, 'cost_price': 0.1, 'latest_price': 0.1}\n",
      "METRICS\n",
      "    SMA: 5.00\n",
      "    RSI: 10.00\n"
     ]
    },
    {
     "name": "stdout",
     "output_type": "stream",
     "text": [
      "{'id': '1e263c991a0f41f1879ee4c333ddba52', 'asset': 'ETH/BTC', 'price': 0.1, 'quantity': 1, 'type': 'limit', 'side': 'sell', 'filled': 0.0, 'status': 'FILLED', 'fee': {}}\n"
     ]
    },
    {
     "name": "stderr",
     "output_type": "stream",
     "text": [
      "---------------------------------------\n",
      "Epoch 243 - Timestep: 2018-01-10T16:30:00\n",
      "---------------------------------------\n",
      "OHLCV\n",
      "    O: 0.0921 | C: 0.0922 | V: 400.6 | T: 2018-01-10T16:30:00\n",
      "ORDERS\n",
      "    1: ETH/BTC | LIMIT_SELL | Price: 0.1000 | Quantity: 1.0000\n",
      "PERFORMANCE\n",
      "    Cash: 0.7000 Total Val: 1.0000 PnL: 0.0000 Returns: 0.0000\n",
      "BALANCE\n",
      "    BTC - {'free': 0.7000000000000001, 'used': 0.0, 'total': 0.7000000000000001}\n",
      "    ETH - {'free': 3.0, 'used': 0.0, 'total': 3.0}\n",
      "POSITIONS\n",
      "     {'asset': 'ETH/BTC', 'quantity': 3, 'cost_price': 0.1, 'latest_price': 0.1}\n",
      "METRICS\n",
      "    SMA: 5.00\n",
      "    RSI: 10.00\n"
     ]
    },
    {
     "name": "stdout",
     "output_type": "stream",
     "text": [
      "{'id': '26446b4108004210bb217b315237a172', 'asset': 'ETH/BTC', 'price': 0.1, 'quantity': 1, 'type': 'limit', 'side': 'sell', 'filled': 0.0, 'status': 'FILLED', 'fee': {}}\n"
     ]
    },
    {
     "name": "stderr",
     "output_type": "stream",
     "text": [
      "---------------------------------------\n",
      "Epoch 244 - Timestep: 2018-01-10T16:31:00\n",
      "---------------------------------------\n",
      "OHLCV\n",
      "    O: 0.0921 | C: 0.0921 | V: 270.2 | T: 2018-01-10T16:31:00\n",
      "ORDERS\n",
      "    1: ETH/BTC | LIMIT_SELL | Price: 0.1000 | Quantity: 1.0000\n",
      "PERFORMANCE\n",
      "    Cash: 0.8000 Total Val: 1.0000 PnL: 0.0000 Returns: 0.0000\n",
      "BALANCE\n",
      "    BTC - {'free': 0.8, 'used': 0.0, 'total': 0.8}\n",
      "    ETH - {'free': 2.0, 'used': 0.0, 'total': 2.0}\n",
      "POSITIONS\n",
      "     {'asset': 'ETH/BTC', 'quantity': 2, 'cost_price': 0.1, 'latest_price': 0.1}\n",
      "METRICS\n",
      "    SMA: 5.00\n",
      "    RSI: 10.00\n"
     ]
    },
    {
     "name": "stdout",
     "output_type": "stream",
     "text": [
      "{'id': '8ee4be9aa85b489fb254d96d33c3ce0a', 'asset': 'ETH/BTC', 'price': 0.1, 'quantity': 1, 'type': 'limit', 'side': 'sell', 'filled': 0.0, 'status': 'FILLED', 'fee': {}}\n"
     ]
    },
    {
     "name": "stderr",
     "output_type": "stream",
     "text": [
      "---------------------------------------\n",
      "Epoch 245 - Timestep: 2018-01-10T16:32:00\n",
      "---------------------------------------\n",
      "OHLCV\n",
      "    O: 0.0924 | C: 0.0925 | V: 315.7 | T: 2018-01-10T16:32:00\n",
      "ORDERS\n",
      "    1: ETH/BTC | LIMIT_BUY | Price: 0.1000 | Quantity: 1.0000\n",
      "PERFORMANCE\n",
      "    Cash: 0.9000 Total Val: 1.0000 PnL: 0.0000 Returns: 0.0000\n",
      "BALANCE\n",
      "    BTC - {'free': 0.9, 'used': 0.0, 'total': 0.9}\n",
      "    ETH - {'free': 1.0, 'used': 0.0, 'total': 1.0}\n",
      "POSITIONS\n",
      "     {'asset': 'ETH/BTC', 'quantity': 1, 'cost_price': 0.1, 'latest_price': 0.1}\n",
      "METRICS\n",
      "    SMA: 5.00\n",
      "    RSI: 10.00\n"
     ]
    },
    {
     "name": "stdout",
     "output_type": "stream",
     "text": [
      "{'id': '17a20c8b857b4dd2b97fa60ed0f306d4', 'asset': 'ETH/BTC', 'price': 0.1, 'quantity': 1, 'type': 'limit', 'side': 'buy', 'filled': 0.0, 'status': 'FILLED', 'fee': {}}\n"
     ]
    },
    {
     "name": "stderr",
     "output_type": "stream",
     "text": [
      "---------------------------------------\n",
      "Epoch 246 - Timestep: 2018-01-10T16:33:00\n",
      "---------------------------------------\n",
      "OHLCV\n",
      "    O: 0.0925 | C: 0.0924 | V: 484.0 | T: 2018-01-10T16:33:00\n",
      "ORDERS\n",
      "    1: ETH/BTC | LIMIT_SELL | Price: 0.1000 | Quantity: 1.0000\n",
      "PERFORMANCE\n",
      "    Cash: 0.8000 Total Val: 1.0000 PnL: 0.0000 Returns: 0.0000\n",
      "BALANCE\n",
      "    BTC - {'free': 0.8, 'used': 0.0, 'total': 0.8}\n",
      "    ETH - {'free': 2.0, 'used': 0.0, 'total': 2.0}\n",
      "POSITIONS\n",
      "     {'asset': 'ETH/BTC', 'quantity': 2, 'cost_price': 0.1, 'latest_price': 0.1}\n",
      "METRICS\n",
      "    SMA: 5.00\n",
      "    RSI: 10.00\n"
     ]
    },
    {
     "name": "stdout",
     "output_type": "stream",
     "text": [
      "{'id': 'b94bfdaadecc415d93d4009336ff9564', 'asset': 'ETH/BTC', 'price': 0.1, 'quantity': 1, 'type': 'limit', 'side': 'sell', 'filled': 0.0, 'status': 'FILLED', 'fee': {}}\n"
     ]
    },
    {
     "name": "stderr",
     "output_type": "stream",
     "text": [
      "---------------------------------------\n",
      "Epoch 247 - Timestep: 2018-01-10T16:34:00\n",
      "---------------------------------------\n",
      "OHLCV\n",
      "    O: 0.0922 | C: 0.0923 | V: 379.6 | T: 2018-01-10T16:34:00\n",
      "ORDERS\n",
      "    1: ETH/BTC | LIMIT_SELL | Price: 0.1000 | Quantity: 1.0000\n",
      "PERFORMANCE\n",
      "    Cash: 0.9000 Total Val: 1.0000 PnL: 0.0000 Returns: 0.0000\n",
      "BALANCE\n",
      "    BTC - {'free': 0.9, 'used': 0.0, 'total': 0.9}\n",
      "    ETH - {'free': 1.0, 'used': 0.0, 'total': 1.0}\n",
      "POSITIONS\n",
      "     {'asset': 'ETH/BTC', 'quantity': 1, 'cost_price': 0.1, 'latest_price': 0.1}\n",
      "METRICS\n",
      "    SMA: 5.00\n",
      "    RSI: 10.00\n"
     ]
    },
    {
     "name": "stdout",
     "output_type": "stream",
     "text": [
      "{'id': '1e5e6bfca6dd4743ad708f51ac59c133', 'asset': 'ETH/BTC', 'price': 0.1, 'quantity': 1, 'type': 'limit', 'side': 'sell', 'filled': 0.0, 'status': 'FILLED', 'fee': {}}\n"
     ]
    },
    {
     "name": "stderr",
     "output_type": "stream",
     "text": [
      "---------------------------------------\n",
      "Epoch 248 - Timestep: 2018-01-10T16:35:00\n",
      "---------------------------------------\n",
      "OHLCV\n",
      "    O: 0.0922 | C: 0.0923 | V: 262.0 | T: 2018-01-10T16:35:00\n",
      "ORDERS\n",
      "    1: ETH/BTC | LIMIT_BUY | Price: 0.1000 | Quantity: 1.0000\n",
      "PERFORMANCE\n",
      "    Cash: 1.0000 Total Val: 1.0000 PnL: 0.0000 Returns: 0.0000\n",
      "BALANCE\n",
      "    BTC - {'free': 1.0, 'used': 0.0, 'total': 1.0}\n",
      "    ETH - {'free': 0.0, 'used': 0.0, 'total': 0.0}\n",
      "POSITIONS\n",
      "     {'asset': 'ETH/BTC', 'quantity': 0, 'cost_price': 0.0, 'latest_price': 0.1}\n",
      "METRICS\n",
      "    SMA: 5.00\n",
      "    RSI: 10.00\n"
     ]
    },
    {
     "name": "stdout",
     "output_type": "stream",
     "text": [
      "{'id': '3c2843e5ba874b62b56b89103e3ea0d0', 'asset': 'ETH/BTC', 'price': 0.1, 'quantity': 1, 'type': 'limit', 'side': 'buy', 'filled': 0.0, 'status': 'FILLED', 'fee': {}}\n"
     ]
    },
    {
     "name": "stderr",
     "output_type": "stream",
     "text": [
      "---------------------------------------\n",
      "Epoch 249 - Timestep: 2018-01-10T16:36:00\n",
      "---------------------------------------\n",
      "OHLCV\n",
      "    O: 0.0922 | C: 0.0922 | V: 251.0 | T: 2018-01-10T16:36:00\n",
      "ORDERS\n",
      "    1: ETH/BTC | LIMIT_SELL | Price: 0.1000 | Quantity: 1.0000\n",
      "PERFORMANCE\n",
      "    Cash: 0.9000 Total Val: 1.0000 PnL: 0.0000 Returns: 0.0000\n",
      "BALANCE\n",
      "    BTC - {'free': 0.9, 'used': 0.0, 'total': 0.9}\n",
      "    ETH - {'free': 1.0, 'used': 0.0, 'total': 1.0}\n",
      "POSITIONS\n",
      "     {'asset': 'ETH/BTC', 'quantity': 1, 'cost_price': 0.1, 'latest_price': 0.1}\n",
      "METRICS\n",
      "    SMA: 5.00\n",
      "    RSI: 10.00\n"
     ]
    },
    {
     "name": "stdout",
     "output_type": "stream",
     "text": [
      "{'id': '1bfd431f546f4963b1fc8f511abeecd1', 'asset': 'ETH/BTC', 'price': 0.1, 'quantity': 1, 'type': 'limit', 'side': 'sell', 'filled': 0.0, 'status': 'FILLED', 'fee': {}}\n"
     ]
    },
    {
     "name": "stderr",
     "output_type": "stream",
     "text": [
      "---------------------------------------\n",
      "Epoch 250 - Timestep: 2018-01-10T16:37:00\n",
      "---------------------------------------\n",
      "OHLCV\n",
      "    O: 0.0922 | C: 0.0922 | V: 277.0 | T: 2018-01-10T16:37:00\n",
      "ORDERS\n",
      "    1: ETH/BTC | LIMIT_SELL | Price: 0.1000 | Quantity: 1.0000\n",
      "PERFORMANCE\n",
      "    Cash: 1.0000 Total Val: 1.0000 PnL: 0.0000 Returns: 0.0000\n",
      "BALANCE\n",
      "    BTC - {'free': 1.0, 'used': 0.0, 'total': 1.0}\n",
      "    ETH - {'free': 0.0, 'used': 0.0, 'total': 0.0}\n",
      "POSITIONS\n",
      "     {'asset': 'ETH/BTC', 'quantity': 0, 'cost_price': 0.0, 'latest_price': 0.1}\n",
      "METRICS\n",
      "    SMA: 5.00\n",
      "    RSI: 10.00\n"
     ]
    },
    {
     "name": "stdout",
     "output_type": "stream",
     "text": [
      "Balance is not sufficient to create order!\n"
     ]
    },
    {
     "name": "stderr",
     "output_type": "stream",
     "text": [
      "---------------------------------------\n",
      "Epoch 251 - Timestep: 2018-01-10T16:38:00\n",
      "---------------------------------------\n",
      "OHLCV\n",
      "    O: 0.0923 | C: 0.0922 | V: 470.1 | T: 2018-01-10T16:38:00\n",
      "ORDERS\n",
      "    1: ETH/BTC | LIMIT_SELL | Price: 0.1000 | Quantity: 1.0000\n",
      "PERFORMANCE\n",
      "    Cash: 1.0000 Total Val: 1.0000 PnL: 0.0000 Returns: 0.0000\n",
      "BALANCE\n",
      "    BTC - {'free': 1.0, 'used': 0.0, 'total': 1.0}\n",
      "    ETH - {'free': 0.0, 'used': 0.0, 'total': 0.0}\n",
      "POSITIONS\n",
      "     {'asset': 'ETH/BTC', 'quantity': 0, 'cost_price': 0.0, 'latest_price': 0.1}\n",
      "METRICS\n",
      "    SMA: 5.00\n",
      "    RSI: 10.00\n"
     ]
    },
    {
     "name": "stdout",
     "output_type": "stream",
     "text": [
      "Balance is not sufficient to create order!\n"
     ]
    },
    {
     "name": "stderr",
     "output_type": "stream",
     "text": [
      "---------------------------------------\n",
      "Epoch 252 - Timestep: 2018-01-10T16:39:00\n",
      "---------------------------------------\n",
      "OHLCV\n",
      "    O: 0.0922 | C: 0.0922 | V: 438.3 | T: 2018-01-10T16:39:00\n",
      "ORDERS\n",
      "    1: ETH/BTC | LIMIT_BUY | Price: 0.1000 | Quantity: 1.0000\n",
      "PERFORMANCE\n",
      "    Cash: 1.0000 Total Val: 1.0000 PnL: 0.0000 Returns: 0.0000\n",
      "BALANCE\n",
      "    BTC - {'free': 1.0, 'used': 0.0, 'total': 1.0}\n",
      "    ETH - {'free': 0.0, 'used': 0.0, 'total': 0.0}\n",
      "POSITIONS\n",
      "     {'asset': 'ETH/BTC', 'quantity': 0, 'cost_price': 0.0, 'latest_price': 0.1}\n",
      "METRICS\n",
      "    SMA: 5.00\n",
      "    RSI: 10.00\n"
     ]
    },
    {
     "name": "stdout",
     "output_type": "stream",
     "text": [
      "{'id': 'b24652cc3a874b008e9bad7cf5290cc1', 'asset': 'ETH/BTC', 'price': 0.1, 'quantity': 1, 'type': 'limit', 'side': 'buy', 'filled': 0.0, 'status': 'FILLED', 'fee': {}}\n"
     ]
    },
    {
     "name": "stderr",
     "output_type": "stream",
     "text": [
      "---------------------------------------\n",
      "Epoch 253 - Timestep: 2018-01-10T16:40:00\n",
      "---------------------------------------\n",
      "OHLCV\n",
      "    O: 0.0922 | C: 0.0920 | V: 455.5 | T: 2018-01-10T16:40:00\n",
      "ORDERS\n",
      "    1: ETH/BTC | LIMIT_SELL | Price: 0.1000 | Quantity: 1.0000\n",
      "PERFORMANCE\n",
      "    Cash: 0.9000 Total Val: 1.0000 PnL: 0.0000 Returns: 0.0000\n",
      "BALANCE\n",
      "    BTC - {'free': 0.9, 'used': 0.0, 'total': 0.9}\n",
      "    ETH - {'free': 1.0, 'used': 0.0, 'total': 1.0}\n",
      "POSITIONS\n",
      "     {'asset': 'ETH/BTC', 'quantity': 1, 'cost_price': 0.1, 'latest_price': 0.1}\n",
      "METRICS\n",
      "    SMA: 5.00\n",
      "    RSI: 10.00\n"
     ]
    },
    {
     "name": "stdout",
     "output_type": "stream",
     "text": [
      "{'id': '8ccf7ca36cc74283901855ce664c0eb3', 'asset': 'ETH/BTC', 'price': 0.1, 'quantity': 1, 'type': 'limit', 'side': 'sell', 'filled': 0.0, 'status': 'FILLED', 'fee': {}}\n"
     ]
    },
    {
     "name": "stderr",
     "output_type": "stream",
     "text": [
      "---------------------------------------\n",
      "Epoch 254 - Timestep: 2018-01-10T16:41:00\n",
      "---------------------------------------\n",
      "OHLCV\n",
      "    O: 0.0920 | C: 0.0920 | V: 609.4 | T: 2018-01-10T16:41:00\n",
      "ORDERS\n",
      "    1: ETH/BTC | LIMIT_BUY | Price: 0.1000 | Quantity: 1.0000\n",
      "PERFORMANCE\n",
      "    Cash: 1.0000 Total Val: 1.0000 PnL: 0.0000 Returns: 0.0000\n",
      "BALANCE\n",
      "    BTC - {'free': 1.0, 'used': 0.0, 'total': 1.0}\n",
      "    ETH - {'free': 0.0, 'used': 0.0, 'total': 0.0}\n",
      "POSITIONS\n",
      "     {'asset': 'ETH/BTC', 'quantity': 0, 'cost_price': 0.0, 'latest_price': 0.1}\n",
      "METRICS\n",
      "    SMA: 5.00\n",
      "    RSI: 10.00\n"
     ]
    },
    {
     "name": "stdout",
     "output_type": "stream",
     "text": [
      "{'id': 'ea65fc56012e415b9cb81b909f3c3bf6', 'asset': 'ETH/BTC', 'price': 0.1, 'quantity': 1, 'type': 'limit', 'side': 'buy', 'filled': 0.0, 'status': 'FILLED', 'fee': {}}\n"
     ]
    },
    {
     "name": "stderr",
     "output_type": "stream",
     "text": [
      "---------------------------------------\n",
      "Epoch 255 - Timestep: 2018-01-10T16:42:00\n",
      "---------------------------------------\n",
      "OHLCV\n",
      "    O: 0.0920 | C: 0.0920 | V: 444.1 | T: 2018-01-10T16:42:00\n",
      "ORDERS\n",
      "    1: ETH/BTC | LIMIT_BUY | Price: 0.1000 | Quantity: 1.0000\n",
      "PERFORMANCE\n",
      "    Cash: 0.9000 Total Val: 1.0000 PnL: 0.0000 Returns: 0.0000\n",
      "BALANCE\n",
      "    BTC - {'free': 0.9, 'used': 0.0, 'total': 0.9}\n",
      "    ETH - {'free': 1.0, 'used': 0.0, 'total': 1.0}\n",
      "POSITIONS\n",
      "     {'asset': 'ETH/BTC', 'quantity': 1, 'cost_price': 0.1, 'latest_price': 0.1}\n",
      "METRICS\n",
      "    SMA: 5.00\n",
      "    RSI: 10.00\n"
     ]
    },
    {
     "name": "stdout",
     "output_type": "stream",
     "text": [
      "{'id': 'abe23f9db8a4474e8d2686c9e08a49aa', 'asset': 'ETH/BTC', 'price': 0.1, 'quantity': 1, 'type': 'limit', 'side': 'buy', 'filled': 0.0, 'status': 'FILLED', 'fee': {}}\n"
     ]
    },
    {
     "name": "stderr",
     "output_type": "stream",
     "text": [
      "---------------------------------------\n",
      "Epoch 256 - Timestep: 2018-01-10T16:43:00\n",
      "---------------------------------------\n",
      "OHLCV\n",
      "    O: 0.0920 | C: 0.0917 | V: 361.2 | T: 2018-01-10T16:43:00\n",
      "ORDERS\n",
      "    1: ETH/BTC | LIMIT_SELL | Price: 0.1000 | Quantity: 1.0000\n",
      "PERFORMANCE\n",
      "    Cash: 0.8000 Total Val: 1.0000 PnL: 0.0000 Returns: 0.0000\n",
      "BALANCE\n",
      "    BTC - {'free': 0.8, 'used': 0.0, 'total': 0.8}\n",
      "    ETH - {'free': 2.0, 'used': 0.0, 'total': 2.0}\n",
      "POSITIONS\n",
      "     {'asset': 'ETH/BTC', 'quantity': 2, 'cost_price': 0.1, 'latest_price': 0.1}\n",
      "METRICS\n",
      "    SMA: 5.00\n",
      "    RSI: 10.00\n"
     ]
    },
    {
     "name": "stdout",
     "output_type": "stream",
     "text": [
      "{'id': '6c0e829c14d8469fa5337da5e59aef1a', 'asset': 'ETH/BTC', 'price': 0.1, 'quantity': 1, 'type': 'limit', 'side': 'sell', 'filled': 0.0, 'status': 'FILLED', 'fee': {}}\n"
     ]
    },
    {
     "name": "stderr",
     "output_type": "stream",
     "text": [
      "---------------------------------------\n",
      "Epoch 257 - Timestep: 2018-01-10T16:44:00\n",
      "---------------------------------------\n",
      "OHLCV\n",
      "    O: 0.0918 | C: 0.0916 | V: 336.2 | T: 2018-01-10T16:44:00\n",
      "ORDERS\n",
      "    1: ETH/BTC | LIMIT_SELL | Price: 0.1000 | Quantity: 1.0000\n",
      "PERFORMANCE\n",
      "    Cash: 0.9000 Total Val: 1.0000 PnL: 0.0000 Returns: 0.0000\n",
      "BALANCE\n",
      "    BTC - {'free': 0.9, 'used': 0.0, 'total': 0.9}\n",
      "    ETH - {'free': 1.0, 'used': 0.0, 'total': 1.0}\n",
      "POSITIONS\n",
      "     {'asset': 'ETH/BTC', 'quantity': 1, 'cost_price': 0.1, 'latest_price': 0.1}\n",
      "METRICS\n",
      "    SMA: 5.00\n",
      "    RSI: 10.00\n"
     ]
    },
    {
     "name": "stdout",
     "output_type": "stream",
     "text": [
      "{'id': 'c4c9680eb2b24c0f8754e80bd08f0ae3', 'asset': 'ETH/BTC', 'price': 0.1, 'quantity': 1, 'type': 'limit', 'side': 'sell', 'filled': 0.0, 'status': 'FILLED', 'fee': {}}\n"
     ]
    },
    {
     "name": "stderr",
     "output_type": "stream",
     "text": [
      "---------------------------------------\n",
      "Epoch 258 - Timestep: 2018-01-10T16:45:00\n",
      "---------------------------------------\n",
      "OHLCV\n",
      "    O: 0.0916 | C: 0.0914 | V: 292.4 | T: 2018-01-10T16:45:00\n",
      "ORDERS\n",
      "    1: ETH/BTC | LIMIT_SELL | Price: 0.1000 | Quantity: 1.0000\n",
      "PERFORMANCE\n",
      "    Cash: 1.0000 Total Val: 1.0000 PnL: 0.0000 Returns: 0.0000\n",
      "BALANCE\n",
      "    BTC - {'free': 1.0, 'used': 0.0, 'total': 1.0}\n",
      "    ETH - {'free': 0.0, 'used': 0.0, 'total': 0.0}\n",
      "POSITIONS\n",
      "     {'asset': 'ETH/BTC', 'quantity': 0, 'cost_price': 0.0, 'latest_price': 0.1}\n",
      "METRICS\n",
      "    SMA: 5.00\n",
      "    RSI: 10.00\n"
     ]
    },
    {
     "name": "stdout",
     "output_type": "stream",
     "text": [
      "Balance is not sufficient to create order!\n"
     ]
    },
    {
     "name": "stderr",
     "output_type": "stream",
     "text": [
      "---------------------------------------\n",
      "Epoch 259 - Timestep: 2018-01-10T16:46:00\n",
      "---------------------------------------\n",
      "OHLCV\n",
      "    O: 0.0914 | C: 0.0912 | V: 458.0 | T: 2018-01-10T16:46:00\n",
      "ORDERS\n",
      "    1: ETH/BTC | LIMIT_BUY | Price: 0.1000 | Quantity: 1.0000\n",
      "PERFORMANCE\n",
      "    Cash: 1.0000 Total Val: 1.0000 PnL: 0.0000 Returns: 0.0000\n",
      "BALANCE\n",
      "    BTC - {'free': 1.0, 'used': 0.0, 'total': 1.0}\n",
      "    ETH - {'free': 0.0, 'used': 0.0, 'total': 0.0}\n",
      "POSITIONS\n",
      "     {'asset': 'ETH/BTC', 'quantity': 0, 'cost_price': 0.0, 'latest_price': 0.1}\n",
      "METRICS\n",
      "    SMA: 5.00\n",
      "    RSI: 10.00\n"
     ]
    },
    {
     "name": "stdout",
     "output_type": "stream",
     "text": [
      "{'id': '1ce9cf12befa42c9a431f18cd2442773', 'asset': 'ETH/BTC', 'price': 0.1, 'quantity': 1, 'type': 'limit', 'side': 'buy', 'filled': 0.0, 'status': 'FILLED', 'fee': {}}\n"
     ]
    },
    {
     "name": "stderr",
     "output_type": "stream",
     "text": [
      "---------------------------------------\n",
      "Epoch 260 - Timestep: 2018-01-10T16:47:00\n",
      "---------------------------------------\n",
      "OHLCV\n",
      "    O: 0.0911 | C: 0.0910 | V: 558.3 | T: 2018-01-10T16:47:00\n",
      "ORDERS\n",
      "    1: ETH/BTC | LIMIT_SELL | Price: 0.1000 | Quantity: 1.0000\n",
      "PERFORMANCE\n",
      "    Cash: 0.9000 Total Val: 1.0000 PnL: 0.0000 Returns: 0.0000\n",
      "BALANCE\n",
      "    BTC - {'free': 0.9, 'used': 0.0, 'total': 0.9}\n",
      "    ETH - {'free': 1.0, 'used': 0.0, 'total': 1.0}\n",
      "POSITIONS\n",
      "     {'asset': 'ETH/BTC', 'quantity': 1, 'cost_price': 0.1, 'latest_price': 0.1}\n",
      "METRICS\n",
      "    SMA: 5.00\n",
      "    RSI: 10.00\n"
     ]
    },
    {
     "name": "stdout",
     "output_type": "stream",
     "text": [
      "{'id': 'a5b29a0a27524008a2436c223f038127', 'asset': 'ETH/BTC', 'price': 0.1, 'quantity': 1, 'type': 'limit', 'side': 'sell', 'filled': 0.0, 'status': 'FILLED', 'fee': {}}\n"
     ]
    },
    {
     "name": "stderr",
     "output_type": "stream",
     "text": [
      "---------------------------------------\n",
      "Epoch 261 - Timestep: 2018-01-10T16:48:00\n",
      "---------------------------------------\n",
      "OHLCV\n",
      "    O: 0.0909 | C: 0.0909 | V: 267.7 | T: 2018-01-10T16:48:00\n",
      "ORDERS\n",
      "    1: ETH/BTC | LIMIT_BUY | Price: 0.1000 | Quantity: 1.0000\n",
      "PERFORMANCE\n",
      "    Cash: 1.0000 Total Val: 1.0000 PnL: 0.0000 Returns: 0.0000\n",
      "BALANCE\n",
      "    BTC - {'free': 1.0, 'used': 0.0, 'total': 1.0}\n",
      "    ETH - {'free': 0.0, 'used': 0.0, 'total': 0.0}\n",
      "POSITIONS\n",
      "     {'asset': 'ETH/BTC', 'quantity': 0, 'cost_price': 0.0, 'latest_price': 0.1}\n",
      "METRICS\n",
      "    SMA: 5.00\n",
      "    RSI: 10.00\n"
     ]
    },
    {
     "name": "stdout",
     "output_type": "stream",
     "text": [
      "{'id': '17354235abe04696b128271d300a604b', 'asset': 'ETH/BTC', 'price': 0.1, 'quantity': 1, 'type': 'limit', 'side': 'buy', 'filled': 0.0, 'status': 'FILLED', 'fee': {}}\n"
     ]
    },
    {
     "name": "stderr",
     "output_type": "stream",
     "text": [
      "---------------------------------------\n",
      "Epoch 262 - Timestep: 2018-01-10T16:49:00\n",
      "---------------------------------------\n",
      "OHLCV\n",
      "    O: 0.0909 | C: 0.0905 | V: 307.7 | T: 2018-01-10T16:49:00\n",
      "ORDERS\n",
      "    1: ETH/BTC | LIMIT_BUY | Price: 0.1000 | Quantity: 1.0000\n",
      "PERFORMANCE\n",
      "    Cash: 0.9000 Total Val: 1.0000 PnL: 0.0000 Returns: 0.0000\n",
      "BALANCE\n",
      "    BTC - {'free': 0.9, 'used': 0.0, 'total': 0.9}\n",
      "    ETH - {'free': 1.0, 'used': 0.0, 'total': 1.0}\n",
      "POSITIONS\n",
      "     {'asset': 'ETH/BTC', 'quantity': 1, 'cost_price': 0.1, 'latest_price': 0.1}\n",
      "METRICS\n",
      "    SMA: 5.00\n",
      "    RSI: 10.00\n"
     ]
    },
    {
     "name": "stdout",
     "output_type": "stream",
     "text": [
      "{'id': '130ad2d141ec452f9f79d780d121e96f', 'asset': 'ETH/BTC', 'price': 0.1, 'quantity': 1, 'type': 'limit', 'side': 'buy', 'filled': 0.0, 'status': 'FILLED', 'fee': {}}\n"
     ]
    },
    {
     "name": "stderr",
     "output_type": "stream",
     "text": [
      "---------------------------------------\n",
      "Epoch 263 - Timestep: 2018-01-10T16:50:00\n",
      "---------------------------------------\n",
      "OHLCV\n",
      "    O: 0.0905 | C: 0.0904 | V: 254.8 | T: 2018-01-10T16:50:00\n",
      "ORDERS\n",
      "    1: ETH/BTC | LIMIT_SELL | Price: 0.1000 | Quantity: 1.0000\n",
      "PERFORMANCE\n",
      "    Cash: 0.8000 Total Val: 1.0000 PnL: 0.0000 Returns: 0.0000\n",
      "BALANCE\n",
      "    BTC - {'free': 0.8, 'used': 0.0, 'total': 0.8}\n",
      "    ETH - {'free': 2.0, 'used': 0.0, 'total': 2.0}\n",
      "POSITIONS\n",
      "     {'asset': 'ETH/BTC', 'quantity': 2, 'cost_price': 0.1, 'latest_price': 0.1}\n",
      "METRICS\n",
      "    SMA: 5.00\n",
      "    RSI: 10.00\n"
     ]
    },
    {
     "name": "stdout",
     "output_type": "stream",
     "text": [
      "{'id': '76e0878634624cdf96791c3233745af4', 'asset': 'ETH/BTC', 'price': 0.1, 'quantity': 1, 'type': 'limit', 'side': 'sell', 'filled': 0.0, 'status': 'FILLED', 'fee': {}}\n"
     ]
    },
    {
     "name": "stderr",
     "output_type": "stream",
     "text": [
      "---------------------------------------\n",
      "Epoch 264 - Timestep: 2018-01-10T16:51:00\n",
      "---------------------------------------\n",
      "OHLCV\n",
      "    O: 0.0904 | C: 0.0904 | V: 327.7 | T: 2018-01-10T16:51:00\n",
      "ORDERS\n",
      "    1: ETH/BTC | LIMIT_SELL | Price: 0.1000 | Quantity: 1.0000\n",
      "PERFORMANCE\n",
      "    Cash: 0.9000 Total Val: 1.0000 PnL: 0.0000 Returns: 0.0000\n",
      "BALANCE\n",
      "    BTC - {'free': 0.9, 'used': 0.0, 'total': 0.9}\n",
      "    ETH - {'free': 1.0, 'used': 0.0, 'total': 1.0}\n",
      "POSITIONS\n",
      "     {'asset': 'ETH/BTC', 'quantity': 1, 'cost_price': 0.1, 'latest_price': 0.1}\n",
      "METRICS\n",
      "    SMA: 5.00\n",
      "    RSI: 10.00\n"
     ]
    },
    {
     "name": "stdout",
     "output_type": "stream",
     "text": [
      "{'id': 'dfd258fdf95740a6a3793addbf921b32', 'asset': 'ETH/BTC', 'price': 0.1, 'quantity': 1, 'type': 'limit', 'side': 'sell', 'filled': 0.0, 'status': 'FILLED', 'fee': {}}\n"
     ]
    },
    {
     "name": "stderr",
     "output_type": "stream",
     "text": [
      "---------------------------------------\n",
      "Epoch 265 - Timestep: 2018-01-10T16:52:00\n",
      "---------------------------------------\n",
      "OHLCV\n",
      "    O: 0.0904 | C: 0.0907 | V: 330.1 | T: 2018-01-10T16:52:00\n",
      "ORDERS\n",
      "    1: ETH/BTC | LIMIT_SELL | Price: 0.1000 | Quantity: 1.0000\n",
      "PERFORMANCE\n",
      "    Cash: 1.0000 Total Val: 1.0000 PnL: 0.0000 Returns: 0.0000\n",
      "BALANCE\n",
      "    BTC - {'free': 1.0, 'used': 0.0, 'total': 1.0}\n",
      "    ETH - {'free': 0.0, 'used': 0.0, 'total': 0.0}\n",
      "POSITIONS\n",
      "     {'asset': 'ETH/BTC', 'quantity': 0, 'cost_price': 0.0, 'latest_price': 0.1}\n",
      "METRICS\n",
      "    SMA: 5.00\n",
      "    RSI: 10.00\n"
     ]
    },
    {
     "name": "stdout",
     "output_type": "stream",
     "text": [
      "Balance is not sufficient to create order!\n"
     ]
    },
    {
     "name": "stderr",
     "output_type": "stream",
     "text": [
      "---------------------------------------\n",
      "Epoch 266 - Timestep: 2018-01-10T16:53:00\n",
      "---------------------------------------\n",
      "OHLCV\n",
      "    O: 0.0907 | C: 0.0909 | V: 423.2 | T: 2018-01-10T16:53:00\n",
      "ORDERS\n",
      "    1: ETH/BTC | LIMIT_SELL | Price: 0.1000 | Quantity: 1.0000\n",
      "PERFORMANCE\n",
      "    Cash: 1.0000 Total Val: 1.0000 PnL: 0.0000 Returns: 0.0000\n",
      "BALANCE\n",
      "    BTC - {'free': 1.0, 'used': 0.0, 'total': 1.0}\n",
      "    ETH - {'free': 0.0, 'used': 0.0, 'total': 0.0}\n",
      "POSITIONS\n",
      "     {'asset': 'ETH/BTC', 'quantity': 0, 'cost_price': 0.0, 'latest_price': 0.1}\n",
      "METRICS\n",
      "    SMA: 5.00\n",
      "    RSI: 10.00\n"
     ]
    },
    {
     "name": "stdout",
     "output_type": "stream",
     "text": [
      "Balance is not sufficient to create order!\n"
     ]
    },
    {
     "name": "stderr",
     "output_type": "stream",
     "text": [
      "---------------------------------------\n",
      "Epoch 267 - Timestep: 2018-01-10T16:54:00\n",
      "---------------------------------------\n",
      "OHLCV\n",
      "    O: 0.0909 | C: 0.0912 | V: 195.4 | T: 2018-01-10T16:54:00\n",
      "ORDERS\n",
      "    1: ETH/BTC | LIMIT_SELL | Price: 0.1000 | Quantity: 1.0000\n",
      "PERFORMANCE\n",
      "    Cash: 1.0000 Total Val: 1.0000 PnL: 0.0000 Returns: 0.0000\n",
      "BALANCE\n",
      "    BTC - {'free': 1.0, 'used': 0.0, 'total': 1.0}\n",
      "    ETH - {'free': 0.0, 'used': 0.0, 'total': 0.0}\n",
      "POSITIONS\n",
      "     {'asset': 'ETH/BTC', 'quantity': 0, 'cost_price': 0.0, 'latest_price': 0.1}\n",
      "METRICS\n",
      "    SMA: 5.00\n",
      "    RSI: 10.00\n"
     ]
    },
    {
     "name": "stdout",
     "output_type": "stream",
     "text": [
      "Balance is not sufficient to create order!\n"
     ]
    },
    {
     "name": "stderr",
     "output_type": "stream",
     "text": [
      "---------------------------------------\n",
      "Epoch 268 - Timestep: 2018-01-10T16:55:00\n",
      "---------------------------------------\n",
      "OHLCV\n",
      "    O: 0.0911 | C: 0.0915 | V: 272.5 | T: 2018-01-10T16:55:00\n",
      "ORDERS\n",
      "    1: ETH/BTC | LIMIT_BUY | Price: 0.1000 | Quantity: 1.0000\n",
      "PERFORMANCE\n",
      "    Cash: 1.0000 Total Val: 1.0000 PnL: 0.0000 Returns: 0.0000\n",
      "BALANCE\n",
      "    BTC - {'free': 1.0, 'used': 0.0, 'total': 1.0}\n",
      "    ETH - {'free': 0.0, 'used': 0.0, 'total': 0.0}\n",
      "POSITIONS\n",
      "     {'asset': 'ETH/BTC', 'quantity': 0, 'cost_price': 0.0, 'latest_price': 0.1}\n",
      "METRICS\n",
      "    SMA: 5.00\n",
      "    RSI: 10.00\n"
     ]
    },
    {
     "name": "stdout",
     "output_type": "stream",
     "text": [
      "{'id': 'f7802cbde0a04f968030b79d7a9f8d7b', 'asset': 'ETH/BTC', 'price': 0.1, 'quantity': 1, 'type': 'limit', 'side': 'buy', 'filled': 0.0, 'status': 'FILLED', 'fee': {}}\n"
     ]
    },
    {
     "name": "stderr",
     "output_type": "stream",
     "text": [
      "---------------------------------------\n",
      "Epoch 269 - Timestep: 2018-01-10T16:56:00\n",
      "---------------------------------------\n",
      "OHLCV\n",
      "    O: 0.0915 | C: 0.0916 | V: 162.6 | T: 2018-01-10T16:56:00\n",
      "ORDERS\n",
      "    1: ETH/BTC | LIMIT_SELL | Price: 0.1000 | Quantity: 1.0000\n",
      "PERFORMANCE\n",
      "    Cash: 0.9000 Total Val: 1.0000 PnL: 0.0000 Returns: 0.0000\n",
      "BALANCE\n",
      "    BTC - {'free': 0.9, 'used': 0.0, 'total': 0.9}\n",
      "    ETH - {'free': 1.0, 'used': 0.0, 'total': 1.0}\n",
      "POSITIONS\n",
      "     {'asset': 'ETH/BTC', 'quantity': 1, 'cost_price': 0.1, 'latest_price': 0.1}\n",
      "METRICS\n",
      "    SMA: 5.00\n",
      "    RSI: 10.00\n"
     ]
    },
    {
     "name": "stdout",
     "output_type": "stream",
     "text": [
      "{'id': '381392ce99f14ccea499b984a8f47929', 'asset': 'ETH/BTC', 'price': 0.1, 'quantity': 1, 'type': 'limit', 'side': 'sell', 'filled': 0.0, 'status': 'FILLED', 'fee': {}}\n"
     ]
    },
    {
     "name": "stderr",
     "output_type": "stream",
     "text": [
      "---------------------------------------\n",
      "Epoch 270 - Timestep: 2018-01-10T16:57:00\n",
      "---------------------------------------\n",
      "OHLCV\n",
      "    O: 0.0916 | C: 0.0916 | V: 242.8 | T: 2018-01-10T16:57:00\n",
      "ORDERS\n",
      "    1: ETH/BTC | LIMIT_BUY | Price: 0.1000 | Quantity: 1.0000\n",
      "PERFORMANCE\n",
      "    Cash: 1.0000 Total Val: 1.0000 PnL: 0.0000 Returns: 0.0000\n",
      "BALANCE\n",
      "    BTC - {'free': 1.0, 'used': 0.0, 'total': 1.0}\n",
      "    ETH - {'free': 0.0, 'used': 0.0, 'total': 0.0}\n",
      "POSITIONS\n",
      "     {'asset': 'ETH/BTC', 'quantity': 0, 'cost_price': 0.0, 'latest_price': 0.1}\n",
      "METRICS\n",
      "    SMA: 5.00\n",
      "    RSI: 10.00\n"
     ]
    },
    {
     "name": "stdout",
     "output_type": "stream",
     "text": [
      "{'id': 'aca1f3ea4bf14022bc463f0c4ca8185b', 'asset': 'ETH/BTC', 'price': 0.1, 'quantity': 1, 'type': 'limit', 'side': 'buy', 'filled': 0.0, 'status': 'FILLED', 'fee': {}}\n"
     ]
    },
    {
     "name": "stderr",
     "output_type": "stream",
     "text": [
      "---------------------------------------\n",
      "Epoch 271 - Timestep: 2018-01-10T16:58:00\n",
      "---------------------------------------\n",
      "OHLCV\n",
      "    O: 0.0917 | C: 0.0917 | V: 392.0 | T: 2018-01-10T16:58:00\n",
      "ORDERS\n",
      "    1: ETH/BTC | LIMIT_SELL | Price: 0.1000 | Quantity: 1.0000\n",
      "PERFORMANCE\n",
      "    Cash: 0.9000 Total Val: 1.0000 PnL: 0.0000 Returns: 0.0000\n",
      "BALANCE\n",
      "    BTC - {'free': 0.9, 'used': 0.0, 'total': 0.9}\n",
      "    ETH - {'free': 1.0, 'used': 0.0, 'total': 1.0}\n",
      "POSITIONS\n",
      "     {'asset': 'ETH/BTC', 'quantity': 1, 'cost_price': 0.1, 'latest_price': 0.1}\n",
      "METRICS\n",
      "    SMA: 5.00\n",
      "    RSI: 10.00\n"
     ]
    },
    {
     "name": "stdout",
     "output_type": "stream",
     "text": [
      "{'id': '91711427092f4020a6e12799a4bd1381', 'asset': 'ETH/BTC', 'price': 0.1, 'quantity': 1, 'type': 'limit', 'side': 'sell', 'filled': 0.0, 'status': 'FILLED', 'fee': {}}\n"
     ]
    },
    {
     "name": "stderr",
     "output_type": "stream",
     "text": [
      "---------------------------------------\n",
      "Epoch 272 - Timestep: 2018-01-10T16:59:00\n",
      "---------------------------------------\n",
      "OHLCV\n",
      "    O: 0.0917 | C: 0.0917 | V: 285.5 | T: 2018-01-10T16:59:00\n",
      "ORDERS\n",
      "    1: ETH/BTC | LIMIT_SELL | Price: 0.1000 | Quantity: 1.0000\n",
      "PERFORMANCE\n",
      "    Cash: 1.0000 Total Val: 1.0000 PnL: 0.0000 Returns: 0.0000\n",
      "BALANCE\n",
      "    BTC - {'free': 1.0, 'used': 0.0, 'total': 1.0}\n",
      "    ETH - {'free': 0.0, 'used': 0.0, 'total': 0.0}\n",
      "POSITIONS\n",
      "     {'asset': 'ETH/BTC', 'quantity': 0, 'cost_price': 0.0, 'latest_price': 0.1}\n",
      "METRICS\n",
      "    SMA: 5.00\n",
      "    RSI: 10.00\n"
     ]
    },
    {
     "name": "stdout",
     "output_type": "stream",
     "text": [
      "Balance is not sufficient to create order!\n"
     ]
    },
    {
     "name": "stderr",
     "output_type": "stream",
     "text": [
      "---------------------------------------\n",
      "Epoch 273 - Timestep: 2018-01-10T17:00:00\n",
      "---------------------------------------\n",
      "OHLCV\n",
      "    O: 0.0917 | C: 0.0915 | V: 334.6 | T: 2018-01-10T17:00:00\n",
      "ORDERS\n",
      "    1: ETH/BTC | LIMIT_BUY | Price: 0.1000 | Quantity: 1.0000\n",
      "PERFORMANCE\n",
      "    Cash: 1.0000 Total Val: 1.0000 PnL: 0.0000 Returns: 0.0000\n",
      "BALANCE\n",
      "    BTC - {'free': 1.0, 'used': 0.0, 'total': 1.0}\n",
      "    ETH - {'free': 0.0, 'used': 0.0, 'total': 0.0}\n",
      "POSITIONS\n",
      "     {'asset': 'ETH/BTC', 'quantity': 0, 'cost_price': 0.0, 'latest_price': 0.1}\n",
      "METRICS\n",
      "    SMA: 5.00\n",
      "    RSI: 10.00\n"
     ]
    },
    {
     "name": "stdout",
     "output_type": "stream",
     "text": [
      "{'id': '7b026b89363044dead6e7056c2f60ac3', 'asset': 'ETH/BTC', 'price': 0.1, 'quantity': 1, 'type': 'limit', 'side': 'buy', 'filled': 0.0, 'status': 'FILLED', 'fee': {}}\n"
     ]
    },
    {
     "name": "stderr",
     "output_type": "stream",
     "text": [
      "---------------------------------------\n",
      "Epoch 274 - Timestep: 2018-01-10T17:01:00\n",
      "---------------------------------------\n",
      "OHLCV\n",
      "    O: 0.0913 | C: 0.0913 | V: 178.9 | T: 2018-01-10T17:01:00\n",
      "ORDERS\n",
      "    1: ETH/BTC | LIMIT_SELL | Price: 0.1000 | Quantity: 1.0000\n",
      "PERFORMANCE\n",
      "    Cash: 0.9000 Total Val: 1.0000 PnL: 0.0000 Returns: 0.0000\n",
      "BALANCE\n",
      "    BTC - {'free': 0.9, 'used': 0.0, 'total': 0.9}\n",
      "    ETH - {'free': 1.0, 'used': 0.0, 'total': 1.0}\n",
      "POSITIONS\n",
      "     {'asset': 'ETH/BTC', 'quantity': 1, 'cost_price': 0.1, 'latest_price': 0.1}\n",
      "METRICS\n",
      "    SMA: 5.00\n",
      "    RSI: 10.00\n"
     ]
    },
    {
     "name": "stdout",
     "output_type": "stream",
     "text": [
      "{'id': 'bd42fa54ad044b39be25ea53e56bb9d0', 'asset': 'ETH/BTC', 'price': 0.1, 'quantity': 1, 'type': 'limit', 'side': 'sell', 'filled': 0.0, 'status': 'FILLED', 'fee': {}}\n"
     ]
    },
    {
     "name": "stderr",
     "output_type": "stream",
     "text": [
      "---------------------------------------\n",
      "Epoch 275 - Timestep: 2018-01-10T17:02:00\n",
      "---------------------------------------\n",
      "OHLCV\n",
      "    O: 0.0913 | C: 0.0912 | V: 208.2 | T: 2018-01-10T17:02:00\n",
      "ORDERS\n",
      "    1: ETH/BTC | LIMIT_SELL | Price: 0.1000 | Quantity: 1.0000\n",
      "PERFORMANCE\n",
      "    Cash: 1.0000 Total Val: 1.0000 PnL: 0.0000 Returns: 0.0000\n",
      "BALANCE\n",
      "    BTC - {'free': 1.0, 'used': 0.0, 'total': 1.0}\n",
      "    ETH - {'free': 0.0, 'used': 0.0, 'total': 0.0}\n",
      "POSITIONS\n",
      "     {'asset': 'ETH/BTC', 'quantity': 0, 'cost_price': 0.0, 'latest_price': 0.1}\n",
      "METRICS\n",
      "    SMA: 5.00\n",
      "    RSI: 10.00\n"
     ]
    },
    {
     "name": "stdout",
     "output_type": "stream",
     "text": [
      "Balance is not sufficient to create order!\n"
     ]
    },
    {
     "name": "stderr",
     "output_type": "stream",
     "text": [
      "---------------------------------------\n",
      "Epoch 276 - Timestep: 2018-01-10T17:03:00\n",
      "---------------------------------------\n",
      "OHLCV\n",
      "    O: 0.0912 | C: 0.0913 | V: 257.9 | T: 2018-01-10T17:03:00\n",
      "ORDERS\n",
      "    1: ETH/BTC | LIMIT_BUY | Price: 0.1000 | Quantity: 1.0000\n",
      "PERFORMANCE\n",
      "    Cash: 1.0000 Total Val: 1.0000 PnL: 0.0000 Returns: 0.0000\n",
      "BALANCE\n",
      "    BTC - {'free': 1.0, 'used': 0.0, 'total': 1.0}\n",
      "    ETH - {'free': 0.0, 'used': 0.0, 'total': 0.0}\n",
      "POSITIONS\n",
      "     {'asset': 'ETH/BTC', 'quantity': 0, 'cost_price': 0.0, 'latest_price': 0.1}\n",
      "METRICS\n",
      "    SMA: 5.00\n",
      "    RSI: 10.00\n"
     ]
    },
    {
     "name": "stdout",
     "output_type": "stream",
     "text": [
      "{'id': '56d7cc5c5760466394308c573c14f735', 'asset': 'ETH/BTC', 'price': 0.1, 'quantity': 1, 'type': 'limit', 'side': 'buy', 'filled': 0.0, 'status': 'FILLED', 'fee': {}}\n"
     ]
    },
    {
     "name": "stderr",
     "output_type": "stream",
     "text": [
      "---------------------------------------\n",
      "Epoch 277 - Timestep: 2018-01-10T17:04:00\n",
      "---------------------------------------\n",
      "OHLCV\n",
      "    O: 0.0913 | C: 0.0915 | V: 204.8 | T: 2018-01-10T17:04:00\n",
      "ORDERS\n",
      "    1: ETH/BTC | LIMIT_SELL | Price: 0.1000 | Quantity: 1.0000\n",
      "PERFORMANCE\n",
      "    Cash: 0.9000 Total Val: 1.0000 PnL: 0.0000 Returns: 0.0000\n",
      "BALANCE\n",
      "    BTC - {'free': 0.9, 'used': 0.0, 'total': 0.9}\n",
      "    ETH - {'free': 1.0, 'used': 0.0, 'total': 1.0}\n",
      "POSITIONS\n",
      "     {'asset': 'ETH/BTC', 'quantity': 1, 'cost_price': 0.1, 'latest_price': 0.1}\n",
      "METRICS\n",
      "    SMA: 5.00\n",
      "    RSI: 10.00\n"
     ]
    },
    {
     "name": "stdout",
     "output_type": "stream",
     "text": [
      "{'id': '1238cce163af414bbfd4ea9d68665723', 'asset': 'ETH/BTC', 'price': 0.1, 'quantity': 1, 'type': 'limit', 'side': 'sell', 'filled': 0.0, 'status': 'FILLED', 'fee': {}}\n"
     ]
    },
    {
     "name": "stderr",
     "output_type": "stream",
     "text": [
      "---------------------------------------\n",
      "Epoch 278 - Timestep: 2018-01-10T17:05:00\n",
      "---------------------------------------\n",
      "OHLCV\n",
      "    O: 0.0915 | C: 0.0916 | V: 253.8 | T: 2018-01-10T17:05:00\n",
      "ORDERS\n",
      "    1: ETH/BTC | LIMIT_BUY | Price: 0.1000 | Quantity: 1.0000\n",
      "PERFORMANCE\n",
      "    Cash: 1.0000 Total Val: 1.0000 PnL: 0.0000 Returns: 0.0000\n",
      "BALANCE\n",
      "    BTC - {'free': 1.0, 'used': 0.0, 'total': 1.0}\n",
      "    ETH - {'free': 0.0, 'used': 0.0, 'total': 0.0}\n",
      "POSITIONS\n",
      "     {'asset': 'ETH/BTC', 'quantity': 0, 'cost_price': 0.0, 'latest_price': 0.1}\n",
      "METRICS\n",
      "    SMA: 5.00\n",
      "    RSI: 10.00\n"
     ]
    },
    {
     "name": "stdout",
     "output_type": "stream",
     "text": [
      "{'id': '3a85b62455b74dafa4d549b4cf25ea7b', 'asset': 'ETH/BTC', 'price': 0.1, 'quantity': 1, 'type': 'limit', 'side': 'buy', 'filled': 0.0, 'status': 'FILLED', 'fee': {}}\n"
     ]
    },
    {
     "name": "stderr",
     "output_type": "stream",
     "text": [
      "---------------------------------------\n",
      "Epoch 279 - Timestep: 2018-01-10T17:06:00\n",
      "---------------------------------------\n",
      "OHLCV\n",
      "    O: 0.0918 | C: 0.0919 | V: 273.6 | T: 2018-01-10T17:06:00\n",
      "ORDERS\n",
      "    1: ETH/BTC | LIMIT_BUY | Price: 0.1000 | Quantity: 1.0000\n",
      "PERFORMANCE\n",
      "    Cash: 0.9000 Total Val: 1.0000 PnL: 0.0000 Returns: 0.0000\n",
      "BALANCE\n",
      "    BTC - {'free': 0.9, 'used': 0.0, 'total': 0.9}\n",
      "    ETH - {'free': 1.0, 'used': 0.0, 'total': 1.0}\n",
      "POSITIONS\n",
      "     {'asset': 'ETH/BTC', 'quantity': 1, 'cost_price': 0.1, 'latest_price': 0.1}\n",
      "METRICS\n",
      "    SMA: 5.00\n",
      "    RSI: 10.00\n"
     ]
    },
    {
     "name": "stdout",
     "output_type": "stream",
     "text": [
      "{'id': '693a21cd2f4a477c92cc3f0635b86617', 'asset': 'ETH/BTC', 'price': 0.1, 'quantity': 1, 'type': 'limit', 'side': 'buy', 'filled': 0.0, 'status': 'FILLED', 'fee': {}}\n"
     ]
    },
    {
     "name": "stderr",
     "output_type": "stream",
     "text": [
      "---------------------------------------\n",
      "Epoch 280 - Timestep: 2018-01-10T17:07:00\n",
      "---------------------------------------\n",
      "OHLCV\n",
      "    O: 0.0919 | C: 0.0919 | V: 200.2 | T: 2018-01-10T17:07:00\n",
      "ORDERS\n",
      "    1: ETH/BTC | LIMIT_SELL | Price: 0.1000 | Quantity: 1.0000\n",
      "PERFORMANCE\n",
      "    Cash: 0.8000 Total Val: 1.0000 PnL: 0.0000 Returns: 0.0000\n",
      "BALANCE\n",
      "    BTC - {'free': 0.8, 'used': 0.0, 'total': 0.8}\n",
      "    ETH - {'free': 2.0, 'used': 0.0, 'total': 2.0}\n",
      "POSITIONS\n",
      "     {'asset': 'ETH/BTC', 'quantity': 2, 'cost_price': 0.1, 'latest_price': 0.1}\n",
      "METRICS\n",
      "    SMA: 5.00\n",
      "    RSI: 10.00\n"
     ]
    },
    {
     "name": "stdout",
     "output_type": "stream",
     "text": [
      "{'id': 'b1404c9a2c7c402eb6d86eeeebee02e5', 'asset': 'ETH/BTC', 'price': 0.1, 'quantity': 1, 'type': 'limit', 'side': 'sell', 'filled': 0.0, 'status': 'FILLED', 'fee': {}}\n"
     ]
    },
    {
     "name": "stderr",
     "output_type": "stream",
     "text": [
      "---------------------------------------\n",
      "Epoch 281 - Timestep: 2018-01-10T17:08:00\n",
      "---------------------------------------\n",
      "OHLCV\n",
      "    O: 0.0919 | C: 0.0920 | V: 192.1 | T: 2018-01-10T17:08:00\n",
      "ORDERS\n",
      "    1: ETH/BTC | LIMIT_BUY | Price: 0.1000 | Quantity: 1.0000\n",
      "PERFORMANCE\n",
      "    Cash: 0.9000 Total Val: 1.0000 PnL: 0.0000 Returns: 0.0000\n",
      "BALANCE\n",
      "    BTC - {'free': 0.9, 'used': 0.0, 'total': 0.9}\n",
      "    ETH - {'free': 1.0, 'used': 0.0, 'total': 1.0}\n",
      "POSITIONS\n",
      "     {'asset': 'ETH/BTC', 'quantity': 1, 'cost_price': 0.1, 'latest_price': 0.1}\n",
      "METRICS\n",
      "    SMA: 5.00\n",
      "    RSI: 10.00\n"
     ]
    },
    {
     "name": "stdout",
     "output_type": "stream",
     "text": [
      "{'id': '7da82cd616394e23b55996bedcdfa6e9', 'asset': 'ETH/BTC', 'price': 0.1, 'quantity': 1, 'type': 'limit', 'side': 'buy', 'filled': 0.0, 'status': 'FILLED', 'fee': {}}\n"
     ]
    },
    {
     "name": "stderr",
     "output_type": "stream",
     "text": [
      "---------------------------------------\n",
      "Epoch 282 - Timestep: 2018-01-10T17:09:00\n",
      "---------------------------------------\n",
      "OHLCV\n",
      "    O: 0.0920 | C: 0.0923 | V: 159.7 | T: 2018-01-10T17:09:00\n",
      "ORDERS\n",
      "    1: ETH/BTC | LIMIT_SELL | Price: 0.1000 | Quantity: 1.0000\n",
      "PERFORMANCE\n",
      "    Cash: 0.8000 Total Val: 1.0000 PnL: 0.0000 Returns: 0.0000\n",
      "BALANCE\n",
      "    BTC - {'free': 0.8, 'used': 0.0, 'total': 0.8}\n",
      "    ETH - {'free': 2.0, 'used': 0.0, 'total': 2.0}\n",
      "POSITIONS\n",
      "     {'asset': 'ETH/BTC', 'quantity': 2, 'cost_price': 0.1, 'latest_price': 0.1}\n",
      "METRICS\n",
      "    SMA: 5.00\n",
      "    RSI: 10.00\n"
     ]
    },
    {
     "name": "stdout",
     "output_type": "stream",
     "text": [
      "{'id': '2c5cf56c90f9432e9005954ab7b22943', 'asset': 'ETH/BTC', 'price': 0.1, 'quantity': 1, 'type': 'limit', 'side': 'sell', 'filled': 0.0, 'status': 'FILLED', 'fee': {}}\n"
     ]
    },
    {
     "name": "stderr",
     "output_type": "stream",
     "text": [
      "---------------------------------------\n",
      "Epoch 283 - Timestep: 2018-01-10T17:10:00\n",
      "---------------------------------------\n",
      "OHLCV\n",
      "    O: 0.0923 | C: 0.0924 | V: 258.6 | T: 2018-01-10T17:10:00\n",
      "ORDERS\n",
      "    1: ETH/BTC | LIMIT_SELL | Price: 0.1000 | Quantity: 1.0000\n",
      "PERFORMANCE\n",
      "    Cash: 0.9000 Total Val: 1.0000 PnL: 0.0000 Returns: 0.0000\n",
      "BALANCE\n",
      "    BTC - {'free': 0.9, 'used': 0.0, 'total': 0.9}\n",
      "    ETH - {'free': 1.0, 'used': 0.0, 'total': 1.0}\n",
      "POSITIONS\n",
      "     {'asset': 'ETH/BTC', 'quantity': 1, 'cost_price': 0.1, 'latest_price': 0.1}\n",
      "METRICS\n",
      "    SMA: 5.00\n",
      "    RSI: 10.00\n"
     ]
    },
    {
     "name": "stdout",
     "output_type": "stream",
     "text": [
      "{'id': '002b750f23394a89bb93b72865312d3b', 'asset': 'ETH/BTC', 'price': 0.1, 'quantity': 1, 'type': 'limit', 'side': 'sell', 'filled': 0.0, 'status': 'FILLED', 'fee': {}}\n"
     ]
    },
    {
     "name": "stderr",
     "output_type": "stream",
     "text": [
      "---------------------------------------\n",
      "Epoch 284 - Timestep: 2018-01-10T17:11:00\n",
      "---------------------------------------\n",
      "OHLCV\n",
      "    O: 0.0924 | C: 0.0925 | V: 300.7 | T: 2018-01-10T17:11:00\n",
      "ORDERS\n",
      "    1: ETH/BTC | LIMIT_SELL | Price: 0.1000 | Quantity: 1.0000\n",
      "PERFORMANCE\n",
      "    Cash: 1.0000 Total Val: 1.0000 PnL: 0.0000 Returns: 0.0000\n",
      "BALANCE\n",
      "    BTC - {'free': 1.0, 'used': 0.0, 'total': 1.0}\n",
      "    ETH - {'free': 0.0, 'used': 0.0, 'total': 0.0}\n",
      "POSITIONS\n",
      "     {'asset': 'ETH/BTC', 'quantity': 0, 'cost_price': 0.0, 'latest_price': 0.1}\n",
      "METRICS\n",
      "    SMA: 5.00\n",
      "    RSI: 10.00\n"
     ]
    },
    {
     "name": "stdout",
     "output_type": "stream",
     "text": [
      "Balance is not sufficient to create order!\n"
     ]
    },
    {
     "name": "stderr",
     "output_type": "stream",
     "text": [
      "---------------------------------------\n",
      "Epoch 285 - Timestep: 2018-01-10T17:12:00\n",
      "---------------------------------------\n",
      "OHLCV\n",
      "    O: 0.0925 | C: 0.0926 | V: 293.4 | T: 2018-01-10T17:12:00\n",
      "ORDERS\n",
      "    1: ETH/BTC | LIMIT_BUY | Price: 0.1000 | Quantity: 1.0000\n",
      "PERFORMANCE\n",
      "    Cash: 1.0000 Total Val: 1.0000 PnL: 0.0000 Returns: 0.0000\n",
      "BALANCE\n",
      "    BTC - {'free': 1.0, 'used': 0.0, 'total': 1.0}\n",
      "    ETH - {'free': 0.0, 'used': 0.0, 'total': 0.0}\n",
      "POSITIONS\n",
      "     {'asset': 'ETH/BTC', 'quantity': 0, 'cost_price': 0.0, 'latest_price': 0.1}\n",
      "METRICS\n",
      "    SMA: 5.00\n",
      "    RSI: 10.00\n"
     ]
    },
    {
     "name": "stdout",
     "output_type": "stream",
     "text": [
      "{'id': '4475c3b24d8a46a5adf7da0bec7b68b0', 'asset': 'ETH/BTC', 'price': 0.1, 'quantity': 1, 'type': 'limit', 'side': 'buy', 'filled': 0.0, 'status': 'FILLED', 'fee': {}}\n"
     ]
    },
    {
     "name": "stderr",
     "output_type": "stream",
     "text": [
      "---------------------------------------\n",
      "Epoch 286 - Timestep: 2018-01-10T17:13:00\n",
      "---------------------------------------\n",
      "OHLCV\n",
      "    O: 0.0926 | C: 0.0926 | V: 354.3 | T: 2018-01-10T17:13:00\n",
      "ORDERS\n",
      "    1: ETH/BTC | LIMIT_SELL | Price: 0.1000 | Quantity: 1.0000\n",
      "PERFORMANCE\n",
      "    Cash: 0.9000 Total Val: 1.0000 PnL: 0.0000 Returns: 0.0000\n",
      "BALANCE\n",
      "    BTC - {'free': 0.9, 'used': 0.0, 'total': 0.9}\n",
      "    ETH - {'free': 1.0, 'used': 0.0, 'total': 1.0}\n",
      "POSITIONS\n",
      "     {'asset': 'ETH/BTC', 'quantity': 1, 'cost_price': 0.1, 'latest_price': 0.1}\n",
      "METRICS\n",
      "    SMA: 5.00\n",
      "    RSI: 10.00\n"
     ]
    },
    {
     "name": "stdout",
     "output_type": "stream",
     "text": [
      "{'id': 'c357db31ac6648478f6e0405c501c6d0', 'asset': 'ETH/BTC', 'price': 0.1, 'quantity': 1, 'type': 'limit', 'side': 'sell', 'filled': 0.0, 'status': 'FILLED', 'fee': {}}\n"
     ]
    },
    {
     "name": "stderr",
     "output_type": "stream",
     "text": [
      "---------------------------------------\n",
      "Epoch 287 - Timestep: 2018-01-10T17:14:00\n",
      "---------------------------------------\n",
      "OHLCV\n",
      "    O: 0.0925 | C: 0.0925 | V: 239.4 | T: 2018-01-10T17:14:00\n",
      "ORDERS\n",
      "    1: ETH/BTC | LIMIT_SELL | Price: 0.1000 | Quantity: 1.0000\n",
      "PERFORMANCE\n",
      "    Cash: 1.0000 Total Val: 1.0000 PnL: 0.0000 Returns: 0.0000\n",
      "BALANCE\n",
      "    BTC - {'free': 1.0, 'used': 0.0, 'total': 1.0}\n",
      "    ETH - {'free': 0.0, 'used': 0.0, 'total': 0.0}\n",
      "POSITIONS\n",
      "     {'asset': 'ETH/BTC', 'quantity': 0, 'cost_price': 0.0, 'latest_price': 0.1}\n",
      "METRICS\n",
      "    SMA: 5.00\n",
      "    RSI: 10.00\n"
     ]
    },
    {
     "name": "stdout",
     "output_type": "stream",
     "text": [
      "Balance is not sufficient to create order!\n"
     ]
    },
    {
     "name": "stderr",
     "output_type": "stream",
     "text": [
      "---------------------------------------\n",
      "Epoch 288 - Timestep: 2018-01-10T17:15:00\n",
      "---------------------------------------\n",
      "OHLCV\n",
      "    O: 0.0925 | C: 0.0926 | V: 269.1 | T: 2018-01-10T17:15:00\n",
      "ORDERS\n",
      "    1: ETH/BTC | LIMIT_BUY | Price: 0.1000 | Quantity: 1.0000\n",
      "PERFORMANCE\n",
      "    Cash: 1.0000 Total Val: 1.0000 PnL: 0.0000 Returns: 0.0000\n",
      "BALANCE\n",
      "    BTC - {'free': 1.0, 'used': 0.0, 'total': 1.0}\n",
      "    ETH - {'free': 0.0, 'used': 0.0, 'total': 0.0}\n",
      "POSITIONS\n",
      "     {'asset': 'ETH/BTC', 'quantity': 0, 'cost_price': 0.0, 'latest_price': 0.1}\n",
      "METRICS\n",
      "    SMA: 5.00\n",
      "    RSI: 10.00\n"
     ]
    },
    {
     "name": "stdout",
     "output_type": "stream",
     "text": [
      "{'id': 'dde2d743e458411a9b023a0f256ceca4', 'asset': 'ETH/BTC', 'price': 0.1, 'quantity': 1, 'type': 'limit', 'side': 'buy', 'filled': 0.0, 'status': 'FILLED', 'fee': {}}\n"
     ]
    },
    {
     "name": "stderr",
     "output_type": "stream",
     "text": [
      "---------------------------------------\n",
      "Epoch 289 - Timestep: 2018-01-10T17:16:00\n",
      "---------------------------------------\n",
      "OHLCV\n",
      "    O: 0.0925 | C: 0.0926 | V: 120.7 | T: 2018-01-10T17:16:00\n",
      "ORDERS\n",
      "    1: ETH/BTC | LIMIT_BUY | Price: 0.1000 | Quantity: 1.0000\n",
      "PERFORMANCE\n",
      "    Cash: 0.9000 Total Val: 1.0000 PnL: 0.0000 Returns: 0.0000\n",
      "BALANCE\n",
      "    BTC - {'free': 0.9, 'used': 0.0, 'total': 0.9}\n",
      "    ETH - {'free': 1.0, 'used': 0.0, 'total': 1.0}\n",
      "POSITIONS\n",
      "     {'asset': 'ETH/BTC', 'quantity': 1, 'cost_price': 0.1, 'latest_price': 0.1}\n",
      "METRICS\n",
      "    SMA: 5.00\n",
      "    RSI: 10.00\n"
     ]
    },
    {
     "name": "stdout",
     "output_type": "stream",
     "text": [
      "{'id': '9bcb3d958a5b45df85b8fd9265c50f9c', 'asset': 'ETH/BTC', 'price': 0.1, 'quantity': 1, 'type': 'limit', 'side': 'buy', 'filled': 0.0, 'status': 'FILLED', 'fee': {}}\n"
     ]
    },
    {
     "name": "stderr",
     "output_type": "stream",
     "text": [
      "---------------------------------------\n",
      "Epoch 290 - Timestep: 2018-01-10T17:17:00\n",
      "---------------------------------------\n",
      "OHLCV\n",
      "    O: 0.0926 | C: 0.0925 | V: 188.9 | T: 2018-01-10T17:17:00\n",
      "ORDERS\n",
      "    1: ETH/BTC | LIMIT_SELL | Price: 0.1000 | Quantity: 1.0000\n",
      "PERFORMANCE\n",
      "    Cash: 0.8000 Total Val: 1.0000 PnL: 0.0000 Returns: 0.0000\n",
      "BALANCE\n",
      "    BTC - {'free': 0.8, 'used': 0.0, 'total': 0.8}\n",
      "    ETH - {'free': 2.0, 'used': 0.0, 'total': 2.0}\n",
      "POSITIONS\n",
      "     {'asset': 'ETH/BTC', 'quantity': 2, 'cost_price': 0.1, 'latest_price': 0.1}\n",
      "METRICS\n",
      "    SMA: 5.00\n",
      "    RSI: 10.00\n"
     ]
    },
    {
     "name": "stdout",
     "output_type": "stream",
     "text": [
      "{'id': '2bce42f22f104476b5c2bd9f26d7fe96', 'asset': 'ETH/BTC', 'price': 0.1, 'quantity': 1, 'type': 'limit', 'side': 'sell', 'filled': 0.0, 'status': 'FILLED', 'fee': {}}\n"
     ]
    },
    {
     "name": "stderr",
     "output_type": "stream",
     "text": [
      "---------------------------------------\n",
      "Epoch 291 - Timestep: 2018-01-10T17:18:00\n",
      "---------------------------------------\n",
      "OHLCV\n",
      "    O: 0.0925 | C: 0.0926 | V: 132.0 | T: 2018-01-10T17:18:00\n",
      "ORDERS\n",
      "    1: ETH/BTC | LIMIT_SELL | Price: 0.1000 | Quantity: 1.0000\n",
      "PERFORMANCE\n",
      "    Cash: 0.9000 Total Val: 1.0000 PnL: 0.0000 Returns: 0.0000\n",
      "BALANCE\n",
      "    BTC - {'free': 0.9, 'used': 0.0, 'total': 0.9}\n",
      "    ETH - {'free': 1.0, 'used': 0.0, 'total': 1.0}\n",
      "POSITIONS\n",
      "     {'asset': 'ETH/BTC', 'quantity': 1, 'cost_price': 0.1, 'latest_price': 0.1}\n",
      "METRICS\n",
      "    SMA: 5.00\n",
      "    RSI: 10.00\n"
     ]
    },
    {
     "name": "stdout",
     "output_type": "stream",
     "text": [
      "{'id': 'f41eaccd2b1d4892ba27bbfb3ff70128', 'asset': 'ETH/BTC', 'price': 0.1, 'quantity': 1, 'type': 'limit', 'side': 'sell', 'filled': 0.0, 'status': 'FILLED', 'fee': {}}\n"
     ]
    },
    {
     "name": "stderr",
     "output_type": "stream",
     "text": [
      "---------------------------------------\n",
      "Epoch 292 - Timestep: 2018-01-10T17:19:00\n",
      "---------------------------------------\n",
      "OHLCV\n",
      "    O: 0.0926 | C: 0.0926 | V: 187.0 | T: 2018-01-10T17:19:00\n",
      "ORDERS\n",
      "    1: ETH/BTC | LIMIT_BUY | Price: 0.1000 | Quantity: 1.0000\n",
      "PERFORMANCE\n",
      "    Cash: 1.0000 Total Val: 1.0000 PnL: 0.0000 Returns: 0.0000\n",
      "BALANCE\n",
      "    BTC - {'free': 1.0, 'used': 0.0, 'total': 1.0}\n",
      "    ETH - {'free': 0.0, 'used': 0.0, 'total': 0.0}\n",
      "POSITIONS\n",
      "     {'asset': 'ETH/BTC', 'quantity': 0, 'cost_price': 0.0, 'latest_price': 0.1}\n",
      "METRICS\n",
      "    SMA: 5.00\n",
      "    RSI: 10.00\n"
     ]
    },
    {
     "name": "stdout",
     "output_type": "stream",
     "text": [
      "{'id': '5c56b594d07243c3bb4c2e31874e4b05', 'asset': 'ETH/BTC', 'price': 0.1, 'quantity': 1, 'type': 'limit', 'side': 'buy', 'filled': 0.0, 'status': 'FILLED', 'fee': {}}\n"
     ]
    },
    {
     "name": "stderr",
     "output_type": "stream",
     "text": [
      "---------------------------------------\n",
      "Epoch 293 - Timestep: 2018-01-10T17:20:00\n",
      "---------------------------------------\n",
      "OHLCV\n",
      "    O: 0.0926 | C: 0.0927 | V: 335.1 | T: 2018-01-10T17:20:00\n",
      "ORDERS\n",
      "    1: ETH/BTC | LIMIT_SELL | Price: 0.1000 | Quantity: 1.0000\n",
      "PERFORMANCE\n",
      "    Cash: 0.9000 Total Val: 1.0000 PnL: 0.0000 Returns: 0.0000\n",
      "BALANCE\n",
      "    BTC - {'free': 0.9, 'used': 0.0, 'total': 0.9}\n",
      "    ETH - {'free': 1.0, 'used': 0.0, 'total': 1.0}\n",
      "POSITIONS\n",
      "     {'asset': 'ETH/BTC', 'quantity': 1, 'cost_price': 0.1, 'latest_price': 0.1}\n",
      "METRICS\n",
      "    SMA: 5.00\n",
      "    RSI: 10.00\n"
     ]
    },
    {
     "name": "stdout",
     "output_type": "stream",
     "text": [
      "{'id': 'cb56c3a63eee48bc9af85502c94e302d', 'asset': 'ETH/BTC', 'price': 0.1, 'quantity': 1, 'type': 'limit', 'side': 'sell', 'filled': 0.0, 'status': 'FILLED', 'fee': {}}\n"
     ]
    },
    {
     "name": "stderr",
     "output_type": "stream",
     "text": [
      "---------------------------------------\n",
      "Epoch 294 - Timestep: 2018-01-10T17:21:00\n",
      "---------------------------------------\n",
      "OHLCV\n",
      "    O: 0.0927 | C: 0.0928 | V: 187.0 | T: 2018-01-10T17:21:00\n",
      "ORDERS\n",
      "    1: ETH/BTC | LIMIT_BUY | Price: 0.1000 | Quantity: 1.0000\n",
      "PERFORMANCE\n",
      "    Cash: 1.0000 Total Val: 1.0000 PnL: 0.0000 Returns: 0.0000\n",
      "BALANCE\n",
      "    BTC - {'free': 1.0, 'used': 0.0, 'total': 1.0}\n",
      "    ETH - {'free': 0.0, 'used': 0.0, 'total': 0.0}\n",
      "POSITIONS\n",
      "     {'asset': 'ETH/BTC', 'quantity': 0, 'cost_price': 0.0, 'latest_price': 0.1}\n",
      "METRICS\n",
      "    SMA: 5.00\n",
      "    RSI: 10.00\n"
     ]
    },
    {
     "name": "stdout",
     "output_type": "stream",
     "text": [
      "{'id': '198638275363467695b0150c66a04660', 'asset': 'ETH/BTC', 'price': 0.1, 'quantity': 1, 'type': 'limit', 'side': 'buy', 'filled': 0.0, 'status': 'FILLED', 'fee': {}}\n"
     ]
    },
    {
     "name": "stderr",
     "output_type": "stream",
     "text": [
      "---------------------------------------\n",
      "Epoch 295 - Timestep: 2018-01-10T17:22:00\n",
      "---------------------------------------\n",
      "OHLCV\n",
      "    O: 0.0928 | C: 0.0929 | V: 302.7 | T: 2018-01-10T17:22:00\n",
      "ORDERS\n",
      "    1: ETH/BTC | LIMIT_SELL | Price: 0.1000 | Quantity: 1.0000\n",
      "PERFORMANCE\n",
      "    Cash: 0.9000 Total Val: 1.0000 PnL: 0.0000 Returns: 0.0000\n",
      "BALANCE\n",
      "    BTC - {'free': 0.9, 'used': 0.0, 'total': 0.9}\n",
      "    ETH - {'free': 1.0, 'used': 0.0, 'total': 1.0}\n",
      "POSITIONS\n",
      "     {'asset': 'ETH/BTC', 'quantity': 1, 'cost_price': 0.1, 'latest_price': 0.1}\n",
      "METRICS\n",
      "    SMA: 5.00\n",
      "    RSI: 10.00\n"
     ]
    },
    {
     "name": "stdout",
     "output_type": "stream",
     "text": [
      "{'id': '485a3ae1c6d74c31b33664589ab4296b', 'asset': 'ETH/BTC', 'price': 0.1, 'quantity': 1, 'type': 'limit', 'side': 'sell', 'filled': 0.0, 'status': 'FILLED', 'fee': {}}\n"
     ]
    },
    {
     "name": "stderr",
     "output_type": "stream",
     "text": [
      "---------------------------------------\n",
      "Epoch 296 - Timestep: 2018-01-10T17:23:00\n",
      "---------------------------------------\n",
      "OHLCV\n",
      "    O: 0.0929 | C: 0.0929 | V: 203.9 | T: 2018-01-10T17:23:00\n",
      "ORDERS\n",
      "    1: ETH/BTC | LIMIT_SELL | Price: 0.1000 | Quantity: 1.0000\n",
      "PERFORMANCE\n",
      "    Cash: 1.0000 Total Val: 1.0000 PnL: 0.0000 Returns: 0.0000\n",
      "BALANCE\n",
      "    BTC - {'free': 1.0, 'used': 0.0, 'total': 1.0}\n",
      "    ETH - {'free': 0.0, 'used': 0.0, 'total': 0.0}\n",
      "POSITIONS\n",
      "     {'asset': 'ETH/BTC', 'quantity': 0, 'cost_price': 0.0, 'latest_price': 0.1}\n",
      "METRICS\n",
      "    SMA: 5.00\n",
      "    RSI: 10.00\n"
     ]
    },
    {
     "name": "stdout",
     "output_type": "stream",
     "text": [
      "Balance is not sufficient to create order!\n"
     ]
    },
    {
     "name": "stderr",
     "output_type": "stream",
     "text": [
      "---------------------------------------\n",
      "Epoch 297 - Timestep: 2018-01-10T17:24:00\n",
      "---------------------------------------\n",
      "OHLCV\n",
      "    O: 0.0929 | C: 0.0930 | V: 217.3 | T: 2018-01-10T17:24:00\n",
      "ORDERS\n",
      "    1: ETH/BTC | LIMIT_BUY | Price: 0.1000 | Quantity: 1.0000\n",
      "PERFORMANCE\n",
      "    Cash: 1.0000 Total Val: 1.0000 PnL: 0.0000 Returns: 0.0000\n",
      "BALANCE\n",
      "    BTC - {'free': 1.0, 'used': 0.0, 'total': 1.0}\n",
      "    ETH - {'free': 0.0, 'used': 0.0, 'total': 0.0}\n",
      "POSITIONS\n",
      "     {'asset': 'ETH/BTC', 'quantity': 0, 'cost_price': 0.0, 'latest_price': 0.1}\n",
      "METRICS\n",
      "    SMA: 5.00\n",
      "    RSI: 10.00\n"
     ]
    },
    {
     "name": "stdout",
     "output_type": "stream",
     "text": [
      "{'id': '795d6616ddf3485a9f422f82b7cbff85', 'asset': 'ETH/BTC', 'price': 0.1, 'quantity': 1, 'type': 'limit', 'side': 'buy', 'filled': 0.0, 'status': 'FILLED', 'fee': {}}\n"
     ]
    },
    {
     "name": "stderr",
     "output_type": "stream",
     "text": [
      "---------------------------------------\n",
      "Epoch 298 - Timestep: 2018-01-10T17:25:00\n",
      "---------------------------------------\n",
      "OHLCV\n",
      "    O: 0.0930 | C: 0.0931 | V: 119.0 | T: 2018-01-10T17:25:00\n",
      "ORDERS\n",
      "    1: ETH/BTC | LIMIT_SELL | Price: 0.1000 | Quantity: 1.0000\n",
      "PERFORMANCE\n",
      "    Cash: 0.9000 Total Val: 1.0000 PnL: 0.0000 Returns: 0.0000\n",
      "BALANCE\n",
      "    BTC - {'free': 0.9, 'used': 0.0, 'total': 0.9}\n",
      "    ETH - {'free': 1.0, 'used': 0.0, 'total': 1.0}\n",
      "POSITIONS\n",
      "     {'asset': 'ETH/BTC', 'quantity': 1, 'cost_price': 0.1, 'latest_price': 0.1}\n",
      "METRICS\n",
      "    SMA: 5.00\n",
      "    RSI: 10.00\n"
     ]
    },
    {
     "name": "stdout",
     "output_type": "stream",
     "text": [
      "{'id': '80ff0588bde34f2983ebfa90d2255c70', 'asset': 'ETH/BTC', 'price': 0.1, 'quantity': 1, 'type': 'limit', 'side': 'sell', 'filled': 0.0, 'status': 'FILLED', 'fee': {}}\n"
     ]
    },
    {
     "name": "stderr",
     "output_type": "stream",
     "text": [
      "---------------------------------------\n",
      "Epoch 299 - Timestep: 2018-01-10T17:26:00\n",
      "---------------------------------------\n",
      "OHLCV\n",
      "    O: 0.0931 | C: 0.0932 | V: 185.2 | T: 2018-01-10T17:26:00\n",
      "ORDERS\n",
      "    1: ETH/BTC | LIMIT_BUY | Price: 0.1000 | Quantity: 1.0000\n",
      "PERFORMANCE\n",
      "    Cash: 1.0000 Total Val: 1.0000 PnL: 0.0000 Returns: 0.0000\n",
      "BALANCE\n",
      "    BTC - {'free': 1.0, 'used': 0.0, 'total': 1.0}\n",
      "    ETH - {'free': 0.0, 'used': 0.0, 'total': 0.0}\n",
      "POSITIONS\n",
      "     {'asset': 'ETH/BTC', 'quantity': 0, 'cost_price': 0.0, 'latest_price': 0.1}\n",
      "METRICS\n",
      "    SMA: 5.00\n",
      "    RSI: 10.00\n"
     ]
    },
    {
     "name": "stdout",
     "output_type": "stream",
     "text": [
      "{'id': 'e5f1f4c67d284b0db30ad0ae022bd278', 'asset': 'ETH/BTC', 'price': 0.1, 'quantity': 1, 'type': 'limit', 'side': 'buy', 'filled': 0.0, 'status': 'FILLED', 'fee': {}}\n"
     ]
    },
    {
     "name": "stderr",
     "output_type": "stream",
     "text": [
      "---------------------------------------\n",
      "Epoch 300 - Timestep: 2018-01-10T17:27:00\n",
      "---------------------------------------\n",
      "OHLCV\n",
      "    O: 0.0932 | C: 0.0932 | V: 179.3 | T: 2018-01-10T17:27:00\n",
      "ORDERS\n",
      "    1: ETH/BTC | LIMIT_SELL | Price: 0.1000 | Quantity: 1.0000\n",
      "PERFORMANCE\n",
      "    Cash: 0.9000 Total Val: 1.0000 PnL: 0.0000 Returns: 0.0000\n",
      "BALANCE\n",
      "    BTC - {'free': 0.9, 'used': 0.0, 'total': 0.9}\n",
      "    ETH - {'free': 1.0, 'used': 0.0, 'total': 1.0}\n",
      "POSITIONS\n",
      "     {'asset': 'ETH/BTC', 'quantity': 1, 'cost_price': 0.1, 'latest_price': 0.1}\n",
      "METRICS\n",
      "    SMA: 5.00\n",
      "    RSI: 10.00\n"
     ]
    },
    {
     "name": "stdout",
     "output_type": "stream",
     "text": [
      "{'id': '6823bd134a4541b68258a8a9d42445d7', 'asset': 'ETH/BTC', 'price': 0.1, 'quantity': 1, 'type': 'limit', 'side': 'sell', 'filled': 0.0, 'status': 'FILLED', 'fee': {}}\n"
     ]
    },
    {
     "name": "stderr",
     "output_type": "stream",
     "text": [
      "---------------------------------------\n",
      "Epoch 301 - Timestep: 2018-01-10T17:28:00\n",
      "---------------------------------------\n",
      "OHLCV\n",
      "    O: 0.0932 | C: 0.0933 | V: 250.4 | T: 2018-01-10T17:28:00\n",
      "ORDERS\n",
      "    1: ETH/BTC | LIMIT_SELL | Price: 0.1000 | Quantity: 1.0000\n",
      "PERFORMANCE\n",
      "    Cash: 1.0000 Total Val: 1.0000 PnL: 0.0000 Returns: 0.0000\n",
      "BALANCE\n",
      "    BTC - {'free': 1.0, 'used': 0.0, 'total': 1.0}\n",
      "    ETH - {'free': 0.0, 'used': 0.0, 'total': 0.0}\n",
      "POSITIONS\n",
      "     {'asset': 'ETH/BTC', 'quantity': 0, 'cost_price': 0.0, 'latest_price': 0.1}\n",
      "METRICS\n",
      "    SMA: 5.00\n",
      "    RSI: 10.00\n"
     ]
    },
    {
     "name": "stdout",
     "output_type": "stream",
     "text": [
      "Balance is not sufficient to create order!\n"
     ]
    },
    {
     "name": "stderr",
     "output_type": "stream",
     "text": [
      "---------------------------------------\n",
      "Epoch 302 - Timestep: 2018-01-10T17:29:00\n",
      "---------------------------------------\n",
      "OHLCV\n",
      "    O: 0.0933 | C: 0.0933 | V: 172.3 | T: 2018-01-10T17:29:00\n",
      "ORDERS\n",
      "    1: ETH/BTC | LIMIT_BUY | Price: 0.1000 | Quantity: 1.0000\n",
      "PERFORMANCE\n",
      "    Cash: 1.0000 Total Val: 1.0000 PnL: 0.0000 Returns: 0.0000\n",
      "BALANCE\n",
      "    BTC - {'free': 1.0, 'used': 0.0, 'total': 1.0}\n",
      "    ETH - {'free': 0.0, 'used': 0.0, 'total': 0.0}\n",
      "POSITIONS\n",
      "     {'asset': 'ETH/BTC', 'quantity': 0, 'cost_price': 0.0, 'latest_price': 0.1}\n",
      "METRICS\n",
      "    SMA: 5.00\n",
      "    RSI: 10.00\n"
     ]
    },
    {
     "name": "stdout",
     "output_type": "stream",
     "text": [
      "{'id': '893977630ef5494bbf9b5260e77a0faa', 'asset': 'ETH/BTC', 'price': 0.1, 'quantity': 1, 'type': 'limit', 'side': 'buy', 'filled': 0.0, 'status': 'FILLED', 'fee': {}}\n"
     ]
    },
    {
     "name": "stderr",
     "output_type": "stream",
     "text": [
      "---------------------------------------\n",
      "Epoch 303 - Timestep: 2018-01-10T17:30:00\n",
      "---------------------------------------\n",
      "OHLCV\n",
      "    O: 0.0933 | C: 0.0933 | V: 238.3 | T: 2018-01-10T17:30:00\n",
      "ORDERS\n",
      "    1: ETH/BTC | LIMIT_BUY | Price: 0.1000 | Quantity: 1.0000\n",
      "PERFORMANCE\n",
      "    Cash: 0.9000 Total Val: 1.0000 PnL: 0.0000 Returns: 0.0000\n",
      "BALANCE\n",
      "    BTC - {'free': 0.9, 'used': 0.0, 'total': 0.9}\n",
      "    ETH - {'free': 1.0, 'used': 0.0, 'total': 1.0}\n",
      "POSITIONS\n",
      "     {'asset': 'ETH/BTC', 'quantity': 1, 'cost_price': 0.1, 'latest_price': 0.1}\n",
      "METRICS\n",
      "    SMA: 5.00\n",
      "    RSI: 10.00\n"
     ]
    },
    {
     "name": "stdout",
     "output_type": "stream",
     "text": [
      "{'id': '4bce9f3dedba488dad1d787d41728ad7', 'asset': 'ETH/BTC', 'price': 0.1, 'quantity': 1, 'type': 'limit', 'side': 'buy', 'filled': 0.0, 'status': 'FILLED', 'fee': {}}\n"
     ]
    },
    {
     "name": "stderr",
     "output_type": "stream",
     "text": [
      "---------------------------------------\n",
      "Epoch 304 - Timestep: 2018-01-10T17:31:00\n",
      "---------------------------------------\n",
      "OHLCV\n",
      "    O: 0.0931 | C: 0.0934 | V: 402.8 | T: 2018-01-10T17:31:00\n",
      "ORDERS\n",
      "    1: ETH/BTC | LIMIT_SELL | Price: 0.1000 | Quantity: 1.0000\n",
      "PERFORMANCE\n",
      "    Cash: 0.8000 Total Val: 1.0000 PnL: 0.0000 Returns: 0.0000\n",
      "BALANCE\n",
      "    BTC - {'free': 0.8, 'used': 0.0, 'total': 0.8}\n",
      "    ETH - {'free': 2.0, 'used': 0.0, 'total': 2.0}\n",
      "POSITIONS\n",
      "     {'asset': 'ETH/BTC', 'quantity': 2, 'cost_price': 0.1, 'latest_price': 0.1}\n",
      "METRICS\n",
      "    SMA: 5.00\n",
      "    RSI: 10.00\n"
     ]
    },
    {
     "name": "stdout",
     "output_type": "stream",
     "text": [
      "{'id': '6ba1ef5eb2fb43feb63c8bada7d70d38', 'asset': 'ETH/BTC', 'price': 0.1, 'quantity': 1, 'type': 'limit', 'side': 'sell', 'filled': 0.0, 'status': 'FILLED', 'fee': {}}\n"
     ]
    },
    {
     "name": "stderr",
     "output_type": "stream",
     "text": [
      "---------------------------------------\n",
      "Epoch 305 - Timestep: 2018-01-10T17:32:00\n",
      "---------------------------------------\n",
      "OHLCV\n",
      "    O: 0.0934 | C: 0.0934 | V: 218.2 | T: 2018-01-10T17:32:00\n",
      "ORDERS\n",
      "    1: ETH/BTC | LIMIT_SELL | Price: 0.1000 | Quantity: 1.0000\n",
      "PERFORMANCE\n",
      "    Cash: 0.9000 Total Val: 1.0000 PnL: 0.0000 Returns: 0.0000\n",
      "BALANCE\n",
      "    BTC - {'free': 0.9, 'used': 0.0, 'total': 0.9}\n",
      "    ETH - {'free': 1.0, 'used': 0.0, 'total': 1.0}\n",
      "POSITIONS\n",
      "     {'asset': 'ETH/BTC', 'quantity': 1, 'cost_price': 0.1, 'latest_price': 0.1}\n",
      "METRICS\n",
      "    SMA: 5.00\n",
      "    RSI: 10.00\n"
     ]
    },
    {
     "name": "stdout",
     "output_type": "stream",
     "text": [
      "{'id': 'a572267eea534e768b616f12bd658edf', 'asset': 'ETH/BTC', 'price': 0.1, 'quantity': 1, 'type': 'limit', 'side': 'sell', 'filled': 0.0, 'status': 'FILLED', 'fee': {}}\n"
     ]
    },
    {
     "name": "stderr",
     "output_type": "stream",
     "text": [
      "---------------------------------------\n",
      "Epoch 306 - Timestep: 2018-01-10T17:33:00\n",
      "---------------------------------------\n",
      "OHLCV\n",
      "    O: 0.0934 | C: 0.0935 | V: 335.3 | T: 2018-01-10T17:33:00\n",
      "ORDERS\n",
      "    1: ETH/BTC | LIMIT_BUY | Price: 0.1000 | Quantity: 1.0000\n",
      "PERFORMANCE\n",
      "    Cash: 1.0000 Total Val: 1.0000 PnL: 0.0000 Returns: 0.0000\n",
      "BALANCE\n",
      "    BTC - {'free': 1.0, 'used': 0.0, 'total': 1.0}\n",
      "    ETH - {'free': 0.0, 'used': 0.0, 'total': 0.0}\n",
      "POSITIONS\n",
      "     {'asset': 'ETH/BTC', 'quantity': 0, 'cost_price': 0.0, 'latest_price': 0.1}\n",
      "METRICS\n",
      "    SMA: 5.00\n",
      "    RSI: 10.00\n"
     ]
    },
    {
     "name": "stdout",
     "output_type": "stream",
     "text": [
      "{'id': '36da75f63541403e9e1180406205111d', 'asset': 'ETH/BTC', 'price': 0.1, 'quantity': 1, 'type': 'limit', 'side': 'buy', 'filled': 0.0, 'status': 'FILLED', 'fee': {}}\n"
     ]
    },
    {
     "name": "stderr",
     "output_type": "stream",
     "text": [
      "---------------------------------------\n",
      "Epoch 307 - Timestep: 2018-01-10T17:34:00\n",
      "---------------------------------------\n",
      "OHLCV\n",
      "    O: 0.0935 | C: 0.0936 | V: 236.6 | T: 2018-01-10T17:34:00\n",
      "ORDERS\n",
      "    1: ETH/BTC | LIMIT_BUY | Price: 0.1000 | Quantity: 1.0000\n",
      "PERFORMANCE\n",
      "    Cash: 0.9000 Total Val: 1.0000 PnL: 0.0000 Returns: 0.0000\n",
      "BALANCE\n",
      "    BTC - {'free': 0.9, 'used': 0.0, 'total': 0.9}\n",
      "    ETH - {'free': 1.0, 'used': 0.0, 'total': 1.0}\n",
      "POSITIONS\n",
      "     {'asset': 'ETH/BTC', 'quantity': 1, 'cost_price': 0.1, 'latest_price': 0.1}\n",
      "METRICS\n",
      "    SMA: 5.00\n",
      "    RSI: 10.00\n"
     ]
    },
    {
     "name": "stdout",
     "output_type": "stream",
     "text": [
      "{'id': '3aa8ad5673c147ea9a78757c543584ed', 'asset': 'ETH/BTC', 'price': 0.1, 'quantity': 1, 'type': 'limit', 'side': 'buy', 'filled': 0.0, 'status': 'FILLED', 'fee': {}}\n"
     ]
    },
    {
     "name": "stderr",
     "output_type": "stream",
     "text": [
      "---------------------------------------\n",
      "Epoch 308 - Timestep: 2018-01-10T17:35:00\n",
      "---------------------------------------\n",
      "OHLCV\n",
      "    O: 0.0936 | C: 0.0935 | V: 321.3 | T: 2018-01-10T17:35:00\n",
      "ORDERS\n",
      "    1: ETH/BTC | LIMIT_BUY | Price: 0.1000 | Quantity: 1.0000\n",
      "PERFORMANCE\n",
      "    Cash: 0.8000 Total Val: 1.0000 PnL: 0.0000 Returns: 0.0000\n",
      "BALANCE\n",
      "    BTC - {'free': 0.8, 'used': 0.0, 'total': 0.8}\n",
      "    ETH - {'free': 2.0, 'used': 0.0, 'total': 2.0}\n",
      "POSITIONS\n",
      "     {'asset': 'ETH/BTC', 'quantity': 2, 'cost_price': 0.1, 'latest_price': 0.1}\n",
      "METRICS\n",
      "    SMA: 5.00\n",
      "    RSI: 10.00\n"
     ]
    },
    {
     "name": "stdout",
     "output_type": "stream",
     "text": [
      "{'id': 'd83207e0346d4314b9d02698ce1ea51a', 'asset': 'ETH/BTC', 'price': 0.1, 'quantity': 1, 'type': 'limit', 'side': 'buy', 'filled': 0.0, 'status': 'FILLED', 'fee': {}}\n"
     ]
    },
    {
     "name": "stderr",
     "output_type": "stream",
     "text": [
      "---------------------------------------\n",
      "Epoch 309 - Timestep: 2018-01-10T17:36:00\n",
      "---------------------------------------\n",
      "OHLCV\n",
      "    O: 0.0935 | C: 0.0934 | V: 265.4 | T: 2018-01-10T17:36:00\n",
      "ORDERS\n",
      "    1: ETH/BTC | LIMIT_BUY | Price: 0.1000 | Quantity: 1.0000\n",
      "PERFORMANCE\n",
      "    Cash: 0.7000 Total Val: 1.0000 PnL: 0.0000 Returns: 0.0000\n",
      "BALANCE\n",
      "    BTC - {'free': 0.7000000000000001, 'used': 0.0, 'total': 0.7000000000000001}\n",
      "    ETH - {'free': 3.0, 'used': 0.0, 'total': 3.0}\n",
      "POSITIONS\n",
      "     {'asset': 'ETH/BTC', 'quantity': 3, 'cost_price': 0.10000000000000002, 'latest_price': 0.1}\n",
      "METRICS\n",
      "    SMA: 5.00\n",
      "    RSI: 10.00\n"
     ]
    },
    {
     "name": "stdout",
     "output_type": "stream",
     "text": [
      "{'id': '2c1d0e849bf24cd18368a6ed8a413940', 'asset': 'ETH/BTC', 'price': 0.1, 'quantity': 1, 'type': 'limit', 'side': 'buy', 'filled': 0.0, 'status': 'FILLED', 'fee': {}}\n"
     ]
    },
    {
     "name": "stderr",
     "output_type": "stream",
     "text": [
      "---------------------------------------\n",
      "Epoch 310 - Timestep: 2018-01-10T17:37:00\n",
      "---------------------------------------\n",
      "OHLCV\n",
      "    O: 0.0934 | C: 0.0933 | V: 301.9 | T: 2018-01-10T17:37:00\n",
      "ORDERS\n",
      "    1: ETH/BTC | LIMIT_SELL | Price: 0.1000 | Quantity: 1.0000\n",
      "PERFORMANCE\n",
      "    Cash: 0.6000 Total Val: 1.0000 PnL: 0.0000 Returns: 0.0000\n",
      "BALANCE\n",
      "    BTC - {'free': 0.6000000000000001, 'used': 0.0, 'total': 0.6000000000000001}\n",
      "    ETH - {'free': 4.0, 'used': 0.0, 'total': 4.0}\n",
      "POSITIONS\n",
      "     {'asset': 'ETH/BTC', 'quantity': 4, 'cost_price': 0.1, 'latest_price': 0.1}\n",
      "METRICS\n",
      "    SMA: 5.00\n",
      "    RSI: 10.00\n"
     ]
    },
    {
     "name": "stdout",
     "output_type": "stream",
     "text": [
      "{'id': '7e86472eaf8b44228aefd5f3261b78cd', 'asset': 'ETH/BTC', 'price': 0.1, 'quantity': 1, 'type': 'limit', 'side': 'sell', 'filled': 0.0, 'status': 'FILLED', 'fee': {}}\n"
     ]
    },
    {
     "name": "stderr",
     "output_type": "stream",
     "text": [
      "---------------------------------------\n",
      "Epoch 311 - Timestep: 2018-01-10T17:38:00\n",
      "---------------------------------------\n",
      "OHLCV\n",
      "    O: 0.0933 | C: 0.0932 | V: 142.5 | T: 2018-01-10T17:38:00\n",
      "ORDERS\n",
      "    1: ETH/BTC | LIMIT_SELL | Price: 0.1000 | Quantity: 1.0000\n",
      "PERFORMANCE\n",
      "    Cash: 0.7000 Total Val: 1.0000 PnL: 0.0000 Returns: 0.0000\n",
      "BALANCE\n",
      "    BTC - {'free': 0.7000000000000001, 'used': 0.0, 'total': 0.7000000000000001}\n",
      "    ETH - {'free': 3.0, 'used': 0.0, 'total': 3.0}\n",
      "POSITIONS\n",
      "     {'asset': 'ETH/BTC', 'quantity': 3, 'cost_price': 0.1, 'latest_price': 0.1}\n",
      "METRICS\n",
      "    SMA: 5.00\n",
      "    RSI: 10.00\n"
     ]
    },
    {
     "name": "stdout",
     "output_type": "stream",
     "text": [
      "{'id': '30de598726d64d8190986f7831067c5f', 'asset': 'ETH/BTC', 'price': 0.1, 'quantity': 1, 'type': 'limit', 'side': 'sell', 'filled': 0.0, 'status': 'FILLED', 'fee': {}}\n"
     ]
    },
    {
     "name": "stderr",
     "output_type": "stream",
     "text": [
      "---------------------------------------\n",
      "Epoch 312 - Timestep: 2018-01-10T17:39:00\n",
      "---------------------------------------\n",
      "OHLCV\n",
      "    O: 0.0932 | C: 0.0931 | V: 148.6 | T: 2018-01-10T17:39:00\n",
      "ORDERS\n",
      "    1: ETH/BTC | LIMIT_SELL | Price: 0.1000 | Quantity: 1.0000\n",
      "PERFORMANCE\n",
      "    Cash: 0.8000 Total Val: 1.0000 PnL: 0.0000 Returns: 0.0000\n",
      "BALANCE\n",
      "    BTC - {'free': 0.8, 'used': 0.0, 'total': 0.8}\n",
      "    ETH - {'free': 2.0, 'used': 0.0, 'total': 2.0}\n",
      "POSITIONS\n",
      "     {'asset': 'ETH/BTC', 'quantity': 2, 'cost_price': 0.1, 'latest_price': 0.1}\n",
      "METRICS\n",
      "    SMA: 5.00\n",
      "    RSI: 10.00\n"
     ]
    },
    {
     "name": "stdout",
     "output_type": "stream",
     "text": [
      "{'id': '2035161796164d558ab94ecff406f0f5', 'asset': 'ETH/BTC', 'price': 0.1, 'quantity': 1, 'type': 'limit', 'side': 'sell', 'filled': 0.0, 'status': 'FILLED', 'fee': {}}\n"
     ]
    },
    {
     "name": "stderr",
     "output_type": "stream",
     "text": [
      "---------------------------------------\n",
      "Epoch 313 - Timestep: 2018-01-10T17:40:00\n",
      "---------------------------------------\n",
      "OHLCV\n",
      "    O: 0.0931 | C: 0.0928 | V: 250.7 | T: 2018-01-10T17:40:00\n",
      "ORDERS\n",
      "    1: ETH/BTC | LIMIT_BUY | Price: 0.1000 | Quantity: 1.0000\n",
      "PERFORMANCE\n",
      "    Cash: 0.9000 Total Val: 1.0000 PnL: 0.0000 Returns: 0.0000\n",
      "BALANCE\n",
      "    BTC - {'free': 0.9, 'used': 0.0, 'total': 0.9}\n",
      "    ETH - {'free': 1.0, 'used': 0.0, 'total': 1.0}\n",
      "POSITIONS\n",
      "     {'asset': 'ETH/BTC', 'quantity': 1, 'cost_price': 0.1, 'latest_price': 0.1}\n",
      "METRICS\n",
      "    SMA: 5.00\n",
      "    RSI: 10.00\n"
     ]
    },
    {
     "name": "stdout",
     "output_type": "stream",
     "text": [
      "{'id': '266de4bc962f43f6a6b90a421441d528', 'asset': 'ETH/BTC', 'price': 0.1, 'quantity': 1, 'type': 'limit', 'side': 'buy', 'filled': 0.0, 'status': 'FILLED', 'fee': {}}\n"
     ]
    },
    {
     "name": "stderr",
     "output_type": "stream",
     "text": [
      "---------------------------------------\n",
      "Epoch 314 - Timestep: 2018-01-10T17:41:00\n",
      "---------------------------------------\n",
      "OHLCV\n",
      "    O: 0.0929 | C: 0.0927 | V: 164.3 | T: 2018-01-10T17:41:00\n",
      "ORDERS\n",
      "    1: ETH/BTC | LIMIT_BUY | Price: 0.1000 | Quantity: 1.0000\n",
      "PERFORMANCE\n",
      "    Cash: 0.8000 Total Val: 1.0000 PnL: 0.0000 Returns: 0.0000\n",
      "BALANCE\n",
      "    BTC - {'free': 0.8, 'used': 0.0, 'total': 0.8}\n",
      "    ETH - {'free': 2.0, 'used': 0.0, 'total': 2.0}\n",
      "POSITIONS\n",
      "     {'asset': 'ETH/BTC', 'quantity': 2, 'cost_price': 0.1, 'latest_price': 0.1}\n",
      "METRICS\n",
      "    SMA: 5.00\n",
      "    RSI: 10.00\n"
     ]
    },
    {
     "name": "stdout",
     "output_type": "stream",
     "text": [
      "{'id': 'b5ab9d89067d4f2283d45ac04a4db094', 'asset': 'ETH/BTC', 'price': 0.1, 'quantity': 1, 'type': 'limit', 'side': 'buy', 'filled': 0.0, 'status': 'FILLED', 'fee': {}}\n"
     ]
    },
    {
     "name": "stderr",
     "output_type": "stream",
     "text": [
      "---------------------------------------\n",
      "Epoch 315 - Timestep: 2018-01-10T17:42:00\n",
      "---------------------------------------\n",
      "OHLCV\n",
      "    O: 0.0927 | C: 0.0925 | V: 218.0 | T: 2018-01-10T17:42:00\n",
      "ORDERS\n",
      "    1: ETH/BTC | LIMIT_SELL | Price: 0.1000 | Quantity: 1.0000\n",
      "PERFORMANCE\n",
      "    Cash: 0.7000 Total Val: 1.0000 PnL: 0.0000 Returns: 0.0000\n",
      "BALANCE\n",
      "    BTC - {'free': 0.7000000000000001, 'used': 0.0, 'total': 0.7000000000000001}\n",
      "    ETH - {'free': 3.0, 'used': 0.0, 'total': 3.0}\n",
      "POSITIONS\n",
      "     {'asset': 'ETH/BTC', 'quantity': 3, 'cost_price': 0.10000000000000002, 'latest_price': 0.1}\n",
      "METRICS\n",
      "    SMA: 5.00\n",
      "    RSI: 10.00\n"
     ]
    },
    {
     "name": "stdout",
     "output_type": "stream",
     "text": [
      "{'id': '10de405adf5b48b384ca56f13e0a0e0a', 'asset': 'ETH/BTC', 'price': 0.1, 'quantity': 1, 'type': 'limit', 'side': 'sell', 'filled': 0.0, 'status': 'FILLED', 'fee': {}}\n"
     ]
    },
    {
     "name": "stderr",
     "output_type": "stream",
     "text": [
      "---------------------------------------\n",
      "Epoch 316 - Timestep: 2018-01-10T17:43:00\n",
      "---------------------------------------\n",
      "OHLCV\n",
      "    O: 0.0925 | C: 0.0926 | V: 122.7 | T: 2018-01-10T17:43:00\n",
      "ORDERS\n",
      "    1: ETH/BTC | LIMIT_BUY | Price: 0.1000 | Quantity: 1.0000\n",
      "PERFORMANCE\n",
      "    Cash: 0.8000 Total Val: 1.0000 PnL: 0.0000 Returns: 0.0000\n",
      "BALANCE\n",
      "    BTC - {'free': 0.8, 'used': 0.0, 'total': 0.8}\n",
      "    ETH - {'free': 2.0, 'used': 0.0, 'total': 2.0}\n",
      "POSITIONS\n",
      "     {'asset': 'ETH/BTC', 'quantity': 2, 'cost_price': 0.10000000000000002, 'latest_price': 0.1}\n",
      "METRICS\n",
      "    SMA: 5.00\n",
      "    RSI: 10.00\n"
     ]
    },
    {
     "name": "stdout",
     "output_type": "stream",
     "text": [
      "{'id': 'f2a8c18586ca494d92d27295436187ec', 'asset': 'ETH/BTC', 'price': 0.1, 'quantity': 1, 'type': 'limit', 'side': 'buy', 'filled': 0.0, 'status': 'FILLED', 'fee': {}}\n"
     ]
    },
    {
     "name": "stderr",
     "output_type": "stream",
     "text": [
      "---------------------------------------\n",
      "Epoch 317 - Timestep: 2018-01-10T17:44:00\n",
      "---------------------------------------\n",
      "OHLCV\n",
      "    O: 0.0925 | C: 0.0926 | V: 228.1 | T: 2018-01-10T17:44:00\n",
      "ORDERS\n",
      "    1: ETH/BTC | LIMIT_SELL | Price: 0.1000 | Quantity: 1.0000\n",
      "PERFORMANCE\n",
      "    Cash: 0.7000 Total Val: 1.0000 PnL: 0.0000 Returns: 0.0000\n",
      "BALANCE\n",
      "    BTC - {'free': 0.7000000000000001, 'used': 0.0, 'total': 0.7000000000000001}\n",
      "    ETH - {'free': 3.0, 'used': 0.0, 'total': 3.0}\n",
      "POSITIONS\n",
      "     {'asset': 'ETH/BTC', 'quantity': 3, 'cost_price': 0.10000000000000002, 'latest_price': 0.1}\n",
      "METRICS\n",
      "    SMA: 5.00\n",
      "    RSI: 10.00\n"
     ]
    },
    {
     "name": "stdout",
     "output_type": "stream",
     "text": [
      "{'id': 'ad9472063c494783a9406b1429f62cd3', 'asset': 'ETH/BTC', 'price': 0.1, 'quantity': 1, 'type': 'limit', 'side': 'sell', 'filled': 0.0, 'status': 'FILLED', 'fee': {}}\n"
     ]
    },
    {
     "name": "stderr",
     "output_type": "stream",
     "text": [
      "---------------------------------------\n",
      "Epoch 318 - Timestep: 2018-01-10T17:45:00\n",
      "---------------------------------------\n",
      "OHLCV\n",
      "    O: 0.0926 | C: 0.0926 | V: 117.4 | T: 2018-01-10T17:45:00\n",
      "ORDERS\n",
      "    1: ETH/BTC | LIMIT_BUY | Price: 0.1000 | Quantity: 1.0000\n",
      "PERFORMANCE\n",
      "    Cash: 0.8000 Total Val: 1.0000 PnL: 0.0000 Returns: 0.0000\n",
      "BALANCE\n",
      "    BTC - {'free': 0.8, 'used': 0.0, 'total': 0.8}\n",
      "    ETH - {'free': 2.0, 'used': 0.0, 'total': 2.0}\n",
      "POSITIONS\n",
      "     {'asset': 'ETH/BTC', 'quantity': 2, 'cost_price': 0.10000000000000002, 'latest_price': 0.1}\n",
      "METRICS\n",
      "    SMA: 5.00\n",
      "    RSI: 10.00\n"
     ]
    },
    {
     "name": "stdout",
     "output_type": "stream",
     "text": [
      "{'id': '73da2cec7dd54415b5c7e01b9d62f902', 'asset': 'ETH/BTC', 'price': 0.1, 'quantity': 1, 'type': 'limit', 'side': 'buy', 'filled': 0.0, 'status': 'FILLED', 'fee': {}}\n"
     ]
    },
    {
     "name": "stderr",
     "output_type": "stream",
     "text": [
      "---------------------------------------\n",
      "Epoch 319 - Timestep: 2018-01-10T17:46:00\n",
      "---------------------------------------\n",
      "OHLCV\n",
      "    O: 0.0926 | C: 0.0924 | V: 145.7 | T: 2018-01-10T17:46:00\n",
      "ORDERS\n",
      "    1: ETH/BTC | LIMIT_SELL | Price: 0.1000 | Quantity: 1.0000\n",
      "PERFORMANCE\n",
      "    Cash: 0.7000 Total Val: 1.0000 PnL: 0.0000 Returns: 0.0000\n",
      "BALANCE\n",
      "    BTC - {'free': 0.7000000000000001, 'used': 0.0, 'total': 0.7000000000000001}\n",
      "    ETH - {'free': 3.0, 'used': 0.0, 'total': 3.0}\n",
      "POSITIONS\n",
      "     {'asset': 'ETH/BTC', 'quantity': 3, 'cost_price': 0.10000000000000002, 'latest_price': 0.1}\n",
      "METRICS\n",
      "    SMA: 5.00\n",
      "    RSI: 10.00\n"
     ]
    },
    {
     "name": "stdout",
     "output_type": "stream",
     "text": [
      "{'id': 'acba9250f6864c20b80d429b6426c226', 'asset': 'ETH/BTC', 'price': 0.1, 'quantity': 1, 'type': 'limit', 'side': 'sell', 'filled': 0.0, 'status': 'FILLED', 'fee': {}}\n"
     ]
    },
    {
     "name": "stderr",
     "output_type": "stream",
     "text": [
      "---------------------------------------\n",
      "Epoch 320 - Timestep: 2018-01-10T17:47:00\n",
      "---------------------------------------\n",
      "OHLCV\n",
      "    O: 0.0924 | C: 0.0924 | V: 100.8 | T: 2018-01-10T17:47:00\n",
      "ORDERS\n",
      "    1: ETH/BTC | LIMIT_BUY | Price: 0.1000 | Quantity: 1.0000\n",
      "PERFORMANCE\n",
      "    Cash: 0.8000 Total Val: 1.0000 PnL: 0.0000 Returns: 0.0000\n",
      "BALANCE\n",
      "    BTC - {'free': 0.8, 'used': 0.0, 'total': 0.8}\n",
      "    ETH - {'free': 2.0, 'used': 0.0, 'total': 2.0}\n",
      "POSITIONS\n",
      "     {'asset': 'ETH/BTC', 'quantity': 2, 'cost_price': 0.10000000000000002, 'latest_price': 0.1}\n",
      "METRICS\n",
      "    SMA: 5.00\n",
      "    RSI: 10.00\n"
     ]
    },
    {
     "name": "stdout",
     "output_type": "stream",
     "text": [
      "{'id': 'e87a6165161b4d358dd165d1df8e2679', 'asset': 'ETH/BTC', 'price': 0.1, 'quantity': 1, 'type': 'limit', 'side': 'buy', 'filled': 0.0, 'status': 'FILLED', 'fee': {}}\n"
     ]
    },
    {
     "name": "stderr",
     "output_type": "stream",
     "text": [
      "---------------------------------------\n",
      "Epoch 321 - Timestep: 2018-01-10T17:48:00\n",
      "---------------------------------------\n",
      "OHLCV\n",
      "    O: 0.0924 | C: 0.0923 | V: 227.2 | T: 2018-01-10T17:48:00\n",
      "ORDERS\n",
      "    1: ETH/BTC | LIMIT_BUY | Price: 0.1000 | Quantity: 1.0000\n",
      "PERFORMANCE\n",
      "    Cash: 0.7000 Total Val: 1.0000 PnL: 0.0000 Returns: 0.0000\n",
      "BALANCE\n",
      "    BTC - {'free': 0.7000000000000001, 'used': 0.0, 'total': 0.7000000000000001}\n",
      "    ETH - {'free': 3.0, 'used': 0.0, 'total': 3.0}\n",
      "POSITIONS\n",
      "     {'asset': 'ETH/BTC', 'quantity': 3, 'cost_price': 0.10000000000000002, 'latest_price': 0.1}\n",
      "METRICS\n",
      "    SMA: 5.00\n",
      "    RSI: 10.00\n"
     ]
    },
    {
     "name": "stdout",
     "output_type": "stream",
     "text": [
      "{'id': '91b126a644f6407e84c7f20355dc5c2b', 'asset': 'ETH/BTC', 'price': 0.1, 'quantity': 1, 'type': 'limit', 'side': 'buy', 'filled': 0.0, 'status': 'FILLED', 'fee': {}}\n"
     ]
    },
    {
     "name": "stderr",
     "output_type": "stream",
     "text": [
      "---------------------------------------\n",
      "Epoch 322 - Timestep: 2018-01-10T17:49:00\n",
      "---------------------------------------\n",
      "OHLCV\n",
      "    O: 0.0923 | C: 0.0923 | V: 194.5 | T: 2018-01-10T17:49:00\n",
      "ORDERS\n",
      "    1: ETH/BTC | LIMIT_BUY | Price: 0.1000 | Quantity: 1.0000\n",
      "PERFORMANCE\n",
      "    Cash: 0.6000 Total Val: 1.0000 PnL: 0.0000 Returns: 0.0000\n",
      "BALANCE\n",
      "    BTC - {'free': 0.6000000000000001, 'used': 0.0, 'total': 0.6000000000000001}\n",
      "    ETH - {'free': 4.0, 'used': 0.0, 'total': 4.0}\n",
      "POSITIONS\n",
      "     {'asset': 'ETH/BTC', 'quantity': 4, 'cost_price': 0.1, 'latest_price': 0.1}\n",
      "METRICS\n",
      "    SMA: 5.00\n",
      "    RSI: 10.00\n"
     ]
    },
    {
     "name": "stdout",
     "output_type": "stream",
     "text": [
      "{'id': '813580e85ef642e29a8cf1fc04f76896', 'asset': 'ETH/BTC', 'price': 0.1, 'quantity': 1, 'type': 'limit', 'side': 'buy', 'filled': 0.0, 'status': 'FILLED', 'fee': {}}\n"
     ]
    },
    {
     "name": "stderr",
     "output_type": "stream",
     "text": [
      "---------------------------------------\n",
      "Epoch 323 - Timestep: 2018-01-10T17:50:00\n",
      "---------------------------------------\n",
      "OHLCV\n",
      "    O: 0.0923 | C: 0.0921 | V: 334.4 | T: 2018-01-10T17:50:00\n",
      "ORDERS\n",
      "    1: ETH/BTC | LIMIT_SELL | Price: 0.1000 | Quantity: 1.0000\n",
      "PERFORMANCE\n",
      "    Cash: 0.5000 Total Val: 1.0000 PnL: 0.0000 Returns: 0.0000\n",
      "BALANCE\n",
      "    BTC - {'free': 0.5000000000000001, 'used': 0.0, 'total': 0.5000000000000001}\n",
      "    ETH - {'free': 5.0, 'used': 0.0, 'total': 5.0}\n",
      "POSITIONS\n",
      "     {'asset': 'ETH/BTC', 'quantity': 5, 'cost_price': 0.1, 'latest_price': 0.1}\n",
      "METRICS\n",
      "    SMA: 5.00\n",
      "    RSI: 10.00\n"
     ]
    },
    {
     "name": "stdout",
     "output_type": "stream",
     "text": [
      "{'id': 'cb242645822b4f2492b0df73d78fd1f4', 'asset': 'ETH/BTC', 'price': 0.1, 'quantity': 1, 'type': 'limit', 'side': 'sell', 'filled': 0.0, 'status': 'FILLED', 'fee': {}}\n"
     ]
    },
    {
     "name": "stderr",
     "output_type": "stream",
     "text": [
      "---------------------------------------\n",
      "Epoch 324 - Timestep: 2018-01-10T17:51:00\n",
      "---------------------------------------\n",
      "OHLCV\n",
      "    O: 0.0920 | C: 0.0923 | V: 327.2 | T: 2018-01-10T17:51:00\n",
      "ORDERS\n",
      "    1: ETH/BTC | LIMIT_BUY | Price: 0.1000 | Quantity: 1.0000\n",
      "PERFORMANCE\n",
      "    Cash: 0.6000 Total Val: 1.0000 PnL: 0.0000 Returns: 0.0000\n",
      "BALANCE\n",
      "    BTC - {'free': 0.6000000000000001, 'used': 0.0, 'total': 0.6000000000000001}\n",
      "    ETH - {'free': 4.0, 'used': 0.0, 'total': 4.0}\n",
      "POSITIONS\n",
      "     {'asset': 'ETH/BTC', 'quantity': 4, 'cost_price': 0.1, 'latest_price': 0.1}\n",
      "METRICS\n",
      "    SMA: 5.00\n",
      "    RSI: 10.00\n"
     ]
    },
    {
     "name": "stdout",
     "output_type": "stream",
     "text": [
      "{'id': '0a1b2b6bc5d243e0a78e366cea77146a', 'asset': 'ETH/BTC', 'price': 0.1, 'quantity': 1, 'type': 'limit', 'side': 'buy', 'filled': 0.0, 'status': 'FILLED', 'fee': {}}\n"
     ]
    },
    {
     "name": "stderr",
     "output_type": "stream",
     "text": [
      "---------------------------------------\n",
      "Epoch 325 - Timestep: 2018-01-10T17:52:00\n",
      "---------------------------------------\n",
      "OHLCV\n",
      "    O: 0.0923 | C: 0.0921 | V: 366.9 | T: 2018-01-10T17:52:00\n",
      "ORDERS\n",
      "    1: ETH/BTC | LIMIT_SELL | Price: 0.1000 | Quantity: 1.0000\n",
      "PERFORMANCE\n",
      "    Cash: 0.5000 Total Val: 1.0000 PnL: 0.0000 Returns: 0.0000\n",
      "BALANCE\n",
      "    BTC - {'free': 0.5000000000000001, 'used': 0.0, 'total': 0.5000000000000001}\n",
      "    ETH - {'free': 5.0, 'used': 0.0, 'total': 5.0}\n",
      "POSITIONS\n",
      "     {'asset': 'ETH/BTC', 'quantity': 5, 'cost_price': 0.1, 'latest_price': 0.1}\n",
      "METRICS\n",
      "    SMA: 5.00\n",
      "    RSI: 10.00\n"
     ]
    },
    {
     "name": "stdout",
     "output_type": "stream",
     "text": [
      "{'id': 'f74d41ad46bf4c5483891cfa092f8394', 'asset': 'ETH/BTC', 'price': 0.1, 'quantity': 1, 'type': 'limit', 'side': 'sell', 'filled': 0.0, 'status': 'FILLED', 'fee': {}}\n"
     ]
    },
    {
     "name": "stderr",
     "output_type": "stream",
     "text": [
      "---------------------------------------\n",
      "Epoch 326 - Timestep: 2018-01-10T17:53:00\n",
      "---------------------------------------\n",
      "OHLCV\n",
      "    O: 0.0921 | C: 0.0921 | V: 116.4 | T: 2018-01-10T17:53:00\n",
      "ORDERS\n",
      "    1: ETH/BTC | LIMIT_BUY | Price: 0.1000 | Quantity: 1.0000\n",
      "PERFORMANCE\n",
      "    Cash: 0.6000 Total Val: 1.0000 PnL: 0.0000 Returns: 0.0000\n",
      "BALANCE\n",
      "    BTC - {'free': 0.6000000000000001, 'used': 0.0, 'total': 0.6000000000000001}\n",
      "    ETH - {'free': 4.0, 'used': 0.0, 'total': 4.0}\n",
      "POSITIONS\n",
      "     {'asset': 'ETH/BTC', 'quantity': 4, 'cost_price': 0.1, 'latest_price': 0.1}\n",
      "METRICS\n",
      "    SMA: 5.00\n",
      "    RSI: 10.00\n"
     ]
    },
    {
     "name": "stdout",
     "output_type": "stream",
     "text": [
      "{'id': 'da922118502e48719945e96c3a3a08fe', 'asset': 'ETH/BTC', 'price': 0.1, 'quantity': 1, 'type': 'limit', 'side': 'buy', 'filled': 0.0, 'status': 'FILLED', 'fee': {}}\n"
     ]
    },
    {
     "name": "stderr",
     "output_type": "stream",
     "text": [
      "---------------------------------------\n",
      "Epoch 327 - Timestep: 2018-01-10T17:54:00\n",
      "---------------------------------------\n",
      "OHLCV\n",
      "    O: 0.0921 | C: 0.0920 | V: 127.8 | T: 2018-01-10T17:54:00\n",
      "ORDERS\n",
      "    1: ETH/BTC | LIMIT_BUY | Price: 0.1000 | Quantity: 1.0000\n",
      "PERFORMANCE\n",
      "    Cash: 0.5000 Total Val: 1.0000 PnL: 0.0000 Returns: 0.0000\n",
      "BALANCE\n",
      "    BTC - {'free': 0.5000000000000001, 'used': 0.0, 'total': 0.5000000000000001}\n",
      "    ETH - {'free': 5.0, 'used': 0.0, 'total': 5.0}\n",
      "POSITIONS\n",
      "     {'asset': 'ETH/BTC', 'quantity': 5, 'cost_price': 0.1, 'latest_price': 0.1}\n",
      "METRICS\n",
      "    SMA: 5.00\n",
      "    RSI: 10.00\n"
     ]
    },
    {
     "name": "stdout",
     "output_type": "stream",
     "text": [
      "{'id': '1db630b069264548909d4050a4651034', 'asset': 'ETH/BTC', 'price': 0.1, 'quantity': 1, 'type': 'limit', 'side': 'buy', 'filled': 0.0, 'status': 'FILLED', 'fee': {}}\n"
     ]
    },
    {
     "name": "stderr",
     "output_type": "stream",
     "text": [
      "---------------------------------------\n",
      "Epoch 328 - Timestep: 2018-01-10T17:55:00\n",
      "---------------------------------------\n",
      "OHLCV\n",
      "    O: 0.0920 | C: 0.0918 | V: 150.8 | T: 2018-01-10T17:55:00\n",
      "ORDERS\n",
      "    1: ETH/BTC | LIMIT_SELL | Price: 0.1000 | Quantity: 1.0000\n",
      "PERFORMANCE\n",
      "    Cash: 0.4000 Total Val: 1.0000 PnL: 0.0000 Returns: 0.0000\n",
      "BALANCE\n",
      "    BTC - {'free': 0.40000000000000013, 'used': 0.0, 'total': 0.40000000000000013}\n",
      "    ETH - {'free': 6.0, 'used': 0.0, 'total': 6.0}\n",
      "POSITIONS\n",
      "     {'asset': 'ETH/BTC', 'quantity': 6, 'cost_price': 0.09999999999999999, 'latest_price': 0.1}\n",
      "METRICS\n",
      "    SMA: 5.00\n",
      "    RSI: 10.00\n"
     ]
    },
    {
     "name": "stdout",
     "output_type": "stream",
     "text": [
      "{'id': 'eda2764800394c8a8be16d2f8cc8cadb', 'asset': 'ETH/BTC', 'price': 0.1, 'quantity': 1, 'type': 'limit', 'side': 'sell', 'filled': 0.0, 'status': 'FILLED', 'fee': {}}\n"
     ]
    },
    {
     "name": "stderr",
     "output_type": "stream",
     "text": [
      "---------------------------------------\n",
      "Epoch 329 - Timestep: 2018-01-10T17:56:00\n",
      "---------------------------------------\n",
      "OHLCV\n",
      "    O: 0.0919 | C: 0.0918 | V: 156.9 | T: 2018-01-10T17:56:00\n",
      "ORDERS\n",
      "    1: ETH/BTC | LIMIT_SELL | Price: 0.1000 | Quantity: 1.0000\n",
      "PERFORMANCE\n",
      "    Cash: 0.5000 Total Val: 1.0000 PnL: 0.0000 Returns: 0.0000\n",
      "BALANCE\n",
      "    BTC - {'free': 0.5000000000000001, 'used': 0.0, 'total': 0.5000000000000001}\n",
      "    ETH - {'free': 5.0, 'used': 0.0, 'total': 5.0}\n",
      "POSITIONS\n",
      "     {'asset': 'ETH/BTC', 'quantity': 5, 'cost_price': 0.09999999999999999, 'latest_price': 0.1}\n",
      "METRICS\n",
      "    SMA: 5.00\n",
      "    RSI: 10.00\n"
     ]
    },
    {
     "name": "stdout",
     "output_type": "stream",
     "text": [
      "{'id': 'a2b279d0d1de44048449646e36240e66', 'asset': 'ETH/BTC', 'price': 0.1, 'quantity': 1, 'type': 'limit', 'side': 'sell', 'filled': 0.0, 'status': 'FILLED', 'fee': {}}\n"
     ]
    },
    {
     "name": "stderr",
     "output_type": "stream",
     "text": [
      "---------------------------------------\n",
      "Epoch 330 - Timestep: 2018-01-10T17:57:00\n",
      "---------------------------------------\n",
      "OHLCV\n",
      "    O: 0.0916 | C: 0.0916 | V: 196.3 | T: 2018-01-10T17:57:00\n",
      "ORDERS\n",
      "    1: ETH/BTC | LIMIT_SELL | Price: 0.1000 | Quantity: 1.0000\n",
      "PERFORMANCE\n",
      "    Cash: 0.6000 Total Val: 1.0000 PnL: 0.0000 Returns: 0.0000\n",
      "BALANCE\n",
      "    BTC - {'free': 0.6000000000000001, 'used': 0.0, 'total': 0.6000000000000001}\n",
      "    ETH - {'free': 4.0, 'used': 0.0, 'total': 4.0}\n",
      "POSITIONS\n",
      "     {'asset': 'ETH/BTC', 'quantity': 4, 'cost_price': 0.09999999999999999, 'latest_price': 0.1}\n",
      "METRICS\n",
      "    SMA: 5.00\n",
      "    RSI: 10.00\n"
     ]
    },
    {
     "name": "stdout",
     "output_type": "stream",
     "text": [
      "{'id': 'fdb683deeed24c95ab2359cec6c95c95', 'asset': 'ETH/BTC', 'price': 0.1, 'quantity': 1, 'type': 'limit', 'side': 'sell', 'filled': 0.0, 'status': 'FILLED', 'fee': {}}\n"
     ]
    },
    {
     "name": "stderr",
     "output_type": "stream",
     "text": [
      "---------------------------------------\n",
      "Epoch 331 - Timestep: 2018-01-10T17:58:00\n",
      "---------------------------------------\n",
      "OHLCV\n",
      "    O: 0.0915 | C: 0.0914 | V: 231.6 | T: 2018-01-10T17:58:00\n",
      "ORDERS\n",
      "    1: ETH/BTC | LIMIT_SELL | Price: 0.1000 | Quantity: 1.0000\n",
      "PERFORMANCE\n",
      "    Cash: 0.7000 Total Val: 1.0000 PnL: 0.0000 Returns: 0.0000\n",
      "BALANCE\n",
      "    BTC - {'free': 0.7000000000000001, 'used': 0.0, 'total': 0.7000000000000001}\n",
      "    ETH - {'free': 3.0, 'used': 0.0, 'total': 3.0}\n",
      "POSITIONS\n",
      "     {'asset': 'ETH/BTC', 'quantity': 3, 'cost_price': 0.09999999999999999, 'latest_price': 0.1}\n",
      "METRICS\n",
      "    SMA: 5.00\n",
      "    RSI: 10.00\n"
     ]
    },
    {
     "name": "stdout",
     "output_type": "stream",
     "text": [
      "{'id': 'e7419311fc88486085f060e29faba690', 'asset': 'ETH/BTC', 'price': 0.1, 'quantity': 1, 'type': 'limit', 'side': 'sell', 'filled': 0.0, 'status': 'FILLED', 'fee': {}}\n"
     ]
    },
    {
     "name": "stderr",
     "output_type": "stream",
     "text": [
      "---------------------------------------\n",
      "Epoch 332 - Timestep: 2018-01-10T17:59:00\n",
      "---------------------------------------\n",
      "OHLCV\n",
      "    O: 0.0912 | C: 0.0914 | V: 301.6 | T: 2018-01-10T17:59:00\n",
      "ORDERS\n",
      "    1: ETH/BTC | LIMIT_BUY | Price: 0.1000 | Quantity: 1.0000\n",
      "PERFORMANCE\n",
      "    Cash: 0.8000 Total Val: 1.0000 PnL: 0.0000 Returns: 0.0000\n",
      "BALANCE\n",
      "    BTC - {'free': 0.8, 'used': 0.0, 'total': 0.8}\n",
      "    ETH - {'free': 2.0, 'used': 0.0, 'total': 2.0}\n",
      "POSITIONS\n",
      "     {'asset': 'ETH/BTC', 'quantity': 2, 'cost_price': 0.09999999999999999, 'latest_price': 0.1}\n",
      "METRICS\n",
      "    SMA: 5.00\n",
      "    RSI: 10.00\n"
     ]
    },
    {
     "name": "stdout",
     "output_type": "stream",
     "text": [
      "{'id': '73b4d698e23f45a18cd460f0acf20ea4', 'asset': 'ETH/BTC', 'price': 0.1, 'quantity': 1, 'type': 'limit', 'side': 'buy', 'filled': 0.0, 'status': 'FILLED', 'fee': {}}\n"
     ]
    },
    {
     "name": "stderr",
     "output_type": "stream",
     "text": [
      "---------------------------------------\n",
      "Epoch 333 - Timestep: 2018-01-10T18:00:00\n",
      "---------------------------------------\n",
      "OHLCV\n",
      "    O: 0.0914 | C: 0.0913 | V: 186.1 | T: 2018-01-10T18:00:00\n",
      "ORDERS\n",
      "    1: ETH/BTC | LIMIT_BUY | Price: 0.1000 | Quantity: 1.0000\n",
      "PERFORMANCE\n",
      "    Cash: 0.7000 Total Val: 1.0000 PnL: 0.0000 Returns: 0.0000\n",
      "BALANCE\n",
      "    BTC - {'free': 0.7000000000000001, 'used': 0.0, 'total': 0.7000000000000001}\n",
      "    ETH - {'free': 3.0, 'used': 0.0, 'total': 3.0}\n",
      "POSITIONS\n",
      "     {'asset': 'ETH/BTC', 'quantity': 3, 'cost_price': 0.09999999999999999, 'latest_price': 0.1}\n",
      "METRICS\n",
      "    SMA: 5.00\n",
      "    RSI: 10.00\n"
     ]
    },
    {
     "name": "stdout",
     "output_type": "stream",
     "text": [
      "{'id': '792f080b3eb24673ac6942359e824901', 'asset': 'ETH/BTC', 'price': 0.1, 'quantity': 1, 'type': 'limit', 'side': 'buy', 'filled': 0.0, 'status': 'FILLED', 'fee': {}}\n"
     ]
    },
    {
     "name": "stderr",
     "output_type": "stream",
     "text": [
      "---------------------------------------\n",
      "Epoch 334 - Timestep: 2018-01-10T18:01:00\n",
      "---------------------------------------\n",
      "OHLCV\n",
      "    O: 0.0913 | C: 0.0920 | V: 412.5 | T: 2018-01-10T18:01:00\n",
      "ORDERS\n",
      "    1: ETH/BTC | LIMIT_SELL | Price: 0.1000 | Quantity: 1.0000\n",
      "PERFORMANCE\n",
      "    Cash: 0.6000 Total Val: 1.0000 PnL: 0.0000 Returns: 0.0000\n",
      "BALANCE\n",
      "    BTC - {'free': 0.6000000000000001, 'used': 0.0, 'total': 0.6000000000000001}\n",
      "    ETH - {'free': 4.0, 'used': 0.0, 'total': 4.0}\n",
      "POSITIONS\n",
      "     {'asset': 'ETH/BTC', 'quantity': 4, 'cost_price': 0.1, 'latest_price': 0.1}\n",
      "METRICS\n",
      "    SMA: 5.00\n",
      "    RSI: 10.00\n"
     ]
    },
    {
     "name": "stdout",
     "output_type": "stream",
     "text": [
      "{'id': '3f8fe53f9c514303a7bf3ee0bfaccf20', 'asset': 'ETH/BTC', 'price': 0.1, 'quantity': 1, 'type': 'limit', 'side': 'sell', 'filled': 0.0, 'status': 'FILLED', 'fee': {}}\n"
     ]
    },
    {
     "name": "stderr",
     "output_type": "stream",
     "text": [
      "---------------------------------------\n",
      "Epoch 335 - Timestep: 2018-01-10T18:02:00\n",
      "---------------------------------------\n",
      "OHLCV\n",
      "    O: 0.0914 | C: 0.0913 | V: 263.4 | T: 2018-01-10T18:02:00\n",
      "ORDERS\n",
      "    1: ETH/BTC | LIMIT_SELL | Price: 0.1000 | Quantity: 1.0000\n",
      "PERFORMANCE\n",
      "    Cash: 0.7000 Total Val: 1.0000 PnL: 0.0000 Returns: 0.0000\n",
      "BALANCE\n",
      "    BTC - {'free': 0.7000000000000001, 'used': 0.0, 'total': 0.7000000000000001}\n",
      "    ETH - {'free': 3.0, 'used': 0.0, 'total': 3.0}\n",
      "POSITIONS\n",
      "     {'asset': 'ETH/BTC', 'quantity': 3, 'cost_price': 0.1, 'latest_price': 0.1}\n",
      "METRICS\n",
      "    SMA: 5.00\n",
      "    RSI: 10.00\n"
     ]
    },
    {
     "name": "stdout",
     "output_type": "stream",
     "text": [
      "{'id': '0eb339c3e0b54548aaea0ca49669bba7', 'asset': 'ETH/BTC', 'price': 0.1, 'quantity': 1, 'type': 'limit', 'side': 'sell', 'filled': 0.0, 'status': 'FILLED', 'fee': {}}\n"
     ]
    },
    {
     "name": "stderr",
     "output_type": "stream",
     "text": [
      "---------------------------------------\n",
      "Epoch 336 - Timestep: 2018-01-10T18:03:00\n",
      "---------------------------------------\n",
      "OHLCV\n",
      "    O: 0.0913 | C: 0.0910 | V: 297.0 | T: 2018-01-10T18:03:00\n",
      "ORDERS\n",
      "    1: ETH/BTC | LIMIT_SELL | Price: 0.1000 | Quantity: 1.0000\n",
      "PERFORMANCE\n",
      "    Cash: 0.8000 Total Val: 1.0000 PnL: 0.0000 Returns: 0.0000\n",
      "BALANCE\n",
      "    BTC - {'free': 0.8, 'used': 0.0, 'total': 0.8}\n",
      "    ETH - {'free': 2.0, 'used': 0.0, 'total': 2.0}\n",
      "POSITIONS\n",
      "     {'asset': 'ETH/BTC', 'quantity': 2, 'cost_price': 0.1, 'latest_price': 0.1}\n",
      "METRICS\n",
      "    SMA: 5.00\n",
      "    RSI: 10.00\n"
     ]
    },
    {
     "name": "stdout",
     "output_type": "stream",
     "text": [
      "{'id': 'eaba911487024250b00407a590e5becc', 'asset': 'ETH/BTC', 'price': 0.1, 'quantity': 1, 'type': 'limit', 'side': 'sell', 'filled': 0.0, 'status': 'FILLED', 'fee': {}}\n"
     ]
    },
    {
     "name": "stderr",
     "output_type": "stream",
     "text": [
      "---------------------------------------\n",
      "Epoch 337 - Timestep: 2018-01-10T18:04:00\n",
      "---------------------------------------\n",
      "OHLCV\n",
      "    O: 0.0910 | C: 0.0907 | V: 287.6 | T: 2018-01-10T18:04:00\n",
      "ORDERS\n",
      "    1: ETH/BTC | LIMIT_BUY | Price: 0.1000 | Quantity: 1.0000\n",
      "PERFORMANCE\n",
      "    Cash: 0.9000 Total Val: 1.0000 PnL: 0.0000 Returns: 0.0000\n",
      "BALANCE\n",
      "    BTC - {'free': 0.9, 'used': 0.0, 'total': 0.9}\n",
      "    ETH - {'free': 1.0, 'used': 0.0, 'total': 1.0}\n",
      "POSITIONS\n",
      "     {'asset': 'ETH/BTC', 'quantity': 1, 'cost_price': 0.1, 'latest_price': 0.1}\n",
      "METRICS\n",
      "    SMA: 5.00\n",
      "    RSI: 10.00\n"
     ]
    },
    {
     "name": "stdout",
     "output_type": "stream",
     "text": [
      "{'id': 'df9f2314e0dd4972abc2104470e7e370', 'asset': 'ETH/BTC', 'price': 0.1, 'quantity': 1, 'type': 'limit', 'side': 'buy', 'filled': 0.0, 'status': 'FILLED', 'fee': {}}\n"
     ]
    },
    {
     "name": "stderr",
     "output_type": "stream",
     "text": [
      "---------------------------------------\n",
      "Epoch 338 - Timestep: 2018-01-10T18:05:00\n",
      "---------------------------------------\n",
      "OHLCV\n",
      "    O: 0.0907 | C: 0.0908 | V: 297.6 | T: 2018-01-10T18:05:00\n",
      "ORDERS\n",
      "    1: ETH/BTC | LIMIT_BUY | Price: 0.1000 | Quantity: 1.0000\n",
      "PERFORMANCE\n",
      "    Cash: 0.8000 Total Val: 1.0000 PnL: 0.0000 Returns: 0.0000\n",
      "BALANCE\n",
      "    BTC - {'free': 0.8, 'used': 0.0, 'total': 0.8}\n",
      "    ETH - {'free': 2.0, 'used': 0.0, 'total': 2.0}\n",
      "POSITIONS\n",
      "     {'asset': 'ETH/BTC', 'quantity': 2, 'cost_price': 0.1, 'latest_price': 0.1}\n",
      "METRICS\n",
      "    SMA: 5.00\n",
      "    RSI: 10.00\n"
     ]
    },
    {
     "name": "stdout",
     "output_type": "stream",
     "text": [
      "{'id': '08256071fbb64d74bd6ab9e6907a2d13', 'asset': 'ETH/BTC', 'price': 0.1, 'quantity': 1, 'type': 'limit', 'side': 'buy', 'filled': 0.0, 'status': 'FILLED', 'fee': {}}\n"
     ]
    },
    {
     "name": "stderr",
     "output_type": "stream",
     "text": [
      "---------------------------------------\n",
      "Epoch 339 - Timestep: 2018-01-10T18:06:00\n",
      "---------------------------------------\n",
      "OHLCV\n",
      "    O: 0.0908 | C: 0.0907 | V: 224.1 | T: 2018-01-10T18:06:00\n",
      "ORDERS\n",
      "    1: ETH/BTC | LIMIT_BUY | Price: 0.1000 | Quantity: 1.0000\n",
      "PERFORMANCE\n",
      "    Cash: 0.7000 Total Val: 1.0000 PnL: 0.0000 Returns: 0.0000\n",
      "BALANCE\n",
      "    BTC - {'free': 0.7000000000000001, 'used': 0.0, 'total': 0.7000000000000001}\n",
      "    ETH - {'free': 3.0, 'used': 0.0, 'total': 3.0}\n",
      "POSITIONS\n",
      "     {'asset': 'ETH/BTC', 'quantity': 3, 'cost_price': 0.10000000000000002, 'latest_price': 0.1}\n",
      "METRICS\n",
      "    SMA: 5.00\n",
      "    RSI: 10.00\n"
     ]
    },
    {
     "name": "stdout",
     "output_type": "stream",
     "text": [
      "{'id': '2dd3de001a4a4fc29a76c05d30f7a6fe', 'asset': 'ETH/BTC', 'price': 0.1, 'quantity': 1, 'type': 'limit', 'side': 'buy', 'filled': 0.0, 'status': 'FILLED', 'fee': {}}\n"
     ]
    },
    {
     "name": "stderr",
     "output_type": "stream",
     "text": [
      "---------------------------------------\n",
      "Epoch 340 - Timestep: 2018-01-10T18:07:00\n",
      "---------------------------------------\n",
      "OHLCV\n",
      "    O: 0.0905 | C: 0.0905 | V: 299.1 | T: 2018-01-10T18:07:00\n",
      "ORDERS\n",
      "    1: ETH/BTC | LIMIT_SELL | Price: 0.1000 | Quantity: 1.0000\n",
      "PERFORMANCE\n",
      "    Cash: 0.6000 Total Val: 1.0000 PnL: 0.0000 Returns: 0.0000\n",
      "BALANCE\n",
      "    BTC - {'free': 0.6000000000000001, 'used': 0.0, 'total': 0.6000000000000001}\n",
      "    ETH - {'free': 4.0, 'used': 0.0, 'total': 4.0}\n",
      "POSITIONS\n",
      "     {'asset': 'ETH/BTC', 'quantity': 4, 'cost_price': 0.1, 'latest_price': 0.1}\n",
      "METRICS\n",
      "    SMA: 5.00\n",
      "    RSI: 10.00\n"
     ]
    },
    {
     "name": "stdout",
     "output_type": "stream",
     "text": [
      "{'id': '815a8cec8e134dff815751f71ef4fbe5', 'asset': 'ETH/BTC', 'price': 0.1, 'quantity': 1, 'type': 'limit', 'side': 'sell', 'filled': 0.0, 'status': 'FILLED', 'fee': {}}\n"
     ]
    },
    {
     "name": "stderr",
     "output_type": "stream",
     "text": [
      "---------------------------------------\n",
      "Epoch 341 - Timestep: 2018-01-10T18:08:00\n",
      "---------------------------------------\n",
      "OHLCV\n",
      "    O: 0.0905 | C: 0.0902 | V: 184.9 | T: 2018-01-10T18:08:00\n",
      "ORDERS\n",
      "    1: ETH/BTC | LIMIT_BUY | Price: 0.1000 | Quantity: 1.0000\n",
      "PERFORMANCE\n",
      "    Cash: 0.7000 Total Val: 1.0000 PnL: 0.0000 Returns: 0.0000\n",
      "BALANCE\n",
      "    BTC - {'free': 0.7000000000000001, 'used': 0.0, 'total': 0.7000000000000001}\n",
      "    ETH - {'free': 3.0, 'used': 0.0, 'total': 3.0}\n",
      "POSITIONS\n",
      "     {'asset': 'ETH/BTC', 'quantity': 3, 'cost_price': 0.1, 'latest_price': 0.1}\n",
      "METRICS\n",
      "    SMA: 5.00\n",
      "    RSI: 10.00\n"
     ]
    },
    {
     "name": "stdout",
     "output_type": "stream",
     "text": [
      "{'id': '30a6d4541c6d49788ea8b116fe773915', 'asset': 'ETH/BTC', 'price': 0.1, 'quantity': 1, 'type': 'limit', 'side': 'buy', 'filled': 0.0, 'status': 'FILLED', 'fee': {}}\n"
     ]
    },
    {
     "name": "stderr",
     "output_type": "stream",
     "text": [
      "---------------------------------------\n",
      "Epoch 342 - Timestep: 2018-01-10T18:09:00\n",
      "---------------------------------------\n",
      "OHLCV\n",
      "    O: 0.0902 | C: 0.0900 | V: 797.6 | T: 2018-01-10T18:09:00\n",
      "ORDERS\n",
      "    1: ETH/BTC | LIMIT_SELL | Price: 0.1000 | Quantity: 1.0000\n",
      "PERFORMANCE\n",
      "    Cash: 0.6000 Total Val: 1.0000 PnL: 0.0000 Returns: 0.0000\n",
      "BALANCE\n",
      "    BTC - {'free': 0.6000000000000001, 'used': 0.0, 'total': 0.6000000000000001}\n",
      "    ETH - {'free': 4.0, 'used': 0.0, 'total': 4.0}\n",
      "POSITIONS\n",
      "     {'asset': 'ETH/BTC', 'quantity': 4, 'cost_price': 0.1, 'latest_price': 0.1}\n",
      "METRICS\n",
      "    SMA: 5.00\n",
      "    RSI: 10.00\n"
     ]
    },
    {
     "name": "stdout",
     "output_type": "stream",
     "text": [
      "{'id': '786d0e46b32e4c028650d45da2c67b60', 'asset': 'ETH/BTC', 'price': 0.1, 'quantity': 1, 'type': 'limit', 'side': 'sell', 'filled': 0.0, 'status': 'FILLED', 'fee': {}}\n"
     ]
    },
    {
     "name": "stderr",
     "output_type": "stream",
     "text": [
      "---------------------------------------\n",
      "Epoch 343 - Timestep: 2018-01-10T18:10:00\n",
      "---------------------------------------\n",
      "OHLCV\n",
      "    O: 0.0900 | C: 0.0900 | V: 337.7 | T: 2018-01-10T18:10:00\n",
      "ORDERS\n",
      "    1: ETH/BTC | LIMIT_BUY | Price: 0.1000 | Quantity: 1.0000\n",
      "PERFORMANCE\n",
      "    Cash: 0.7000 Total Val: 1.0000 PnL: 0.0000 Returns: 0.0000\n",
      "BALANCE\n",
      "    BTC - {'free': 0.7000000000000001, 'used': 0.0, 'total': 0.7000000000000001}\n",
      "    ETH - {'free': 3.0, 'used': 0.0, 'total': 3.0}\n",
      "POSITIONS\n",
      "     {'asset': 'ETH/BTC', 'quantity': 3, 'cost_price': 0.1, 'latest_price': 0.1}\n",
      "METRICS\n",
      "    SMA: 5.00\n",
      "    RSI: 10.00\n"
     ]
    },
    {
     "name": "stdout",
     "output_type": "stream",
     "text": [
      "{'id': '3a224b1299c24447b97e6ea5b255dbcc', 'asset': 'ETH/BTC', 'price': 0.1, 'quantity': 1, 'type': 'limit', 'side': 'buy', 'filled': 0.0, 'status': 'FILLED', 'fee': {}}\n"
     ]
    },
    {
     "name": "stderr",
     "output_type": "stream",
     "text": [
      "---------------------------------------\n",
      "Epoch 344 - Timestep: 2018-01-10T18:11:00\n",
      "---------------------------------------\n",
      "OHLCV\n",
      "    O: 0.0900 | C: 0.0899 | V: 380.4 | T: 2018-01-10T18:11:00\n",
      "ORDERS\n",
      "    1: ETH/BTC | LIMIT_SELL | Price: 0.1000 | Quantity: 1.0000\n",
      "PERFORMANCE\n",
      "    Cash: 0.6000 Total Val: 1.0000 PnL: 0.0000 Returns: 0.0000\n",
      "BALANCE\n",
      "    BTC - {'free': 0.6000000000000001, 'used': 0.0, 'total': 0.6000000000000001}\n",
      "    ETH - {'free': 4.0, 'used': 0.0, 'total': 4.0}\n",
      "POSITIONS\n",
      "     {'asset': 'ETH/BTC', 'quantity': 4, 'cost_price': 0.1, 'latest_price': 0.1}\n",
      "METRICS\n",
      "    SMA: 5.00\n",
      "    RSI: 10.00\n"
     ]
    },
    {
     "name": "stdout",
     "output_type": "stream",
     "text": [
      "{'id': '2f2c60851266419f89dab91853cb112e', 'asset': 'ETH/BTC', 'price': 0.1, 'quantity': 1, 'type': 'limit', 'side': 'sell', 'filled': 0.0, 'status': 'FILLED', 'fee': {}}\n"
     ]
    },
    {
     "name": "stderr",
     "output_type": "stream",
     "text": [
      "---------------------------------------\n",
      "Epoch 345 - Timestep: 2018-01-10T18:12:00\n",
      "---------------------------------------\n",
      "OHLCV\n",
      "    O: 0.0898 | C: 0.0898 | V: 301.9 | T: 2018-01-10T18:12:00\n",
      "ORDERS\n",
      "    1: ETH/BTC | LIMIT_BUY | Price: 0.1000 | Quantity: 1.0000\n",
      "PERFORMANCE\n",
      "    Cash: 0.7000 Total Val: 1.0000 PnL: 0.0000 Returns: 0.0000\n",
      "BALANCE\n",
      "    BTC - {'free': 0.7000000000000001, 'used': 0.0, 'total': 0.7000000000000001}\n",
      "    ETH - {'free': 3.0, 'used': 0.0, 'total': 3.0}\n",
      "POSITIONS\n",
      "     {'asset': 'ETH/BTC', 'quantity': 3, 'cost_price': 0.1, 'latest_price': 0.1}\n",
      "METRICS\n",
      "    SMA: 5.00\n",
      "    RSI: 10.00\n"
     ]
    },
    {
     "name": "stdout",
     "output_type": "stream",
     "text": [
      "{'id': '94f1bb5ec7aa4654b5c2ba7eced16e4d', 'asset': 'ETH/BTC', 'price': 0.1, 'quantity': 1, 'type': 'limit', 'side': 'buy', 'filled': 0.0, 'status': 'FILLED', 'fee': {}}\n"
     ]
    },
    {
     "name": "stderr",
     "output_type": "stream",
     "text": [
      "---------------------------------------\n",
      "Epoch 346 - Timestep: 2018-01-10T18:13:00\n",
      "---------------------------------------\n",
      "OHLCV\n",
      "    O: 0.0898 | C: 0.0899 | V: 225.4 | T: 2018-01-10T18:13:00\n",
      "ORDERS\n",
      "    1: ETH/BTC | LIMIT_BUY | Price: 0.1000 | Quantity: 1.0000\n",
      "PERFORMANCE\n",
      "    Cash: 0.6000 Total Val: 1.0000 PnL: 0.0000 Returns: 0.0000\n",
      "BALANCE\n",
      "    BTC - {'free': 0.6000000000000001, 'used': 0.0, 'total': 0.6000000000000001}\n",
      "    ETH - {'free': 4.0, 'used': 0.0, 'total': 4.0}\n",
      "POSITIONS\n",
      "     {'asset': 'ETH/BTC', 'quantity': 4, 'cost_price': 0.1, 'latest_price': 0.1}\n",
      "METRICS\n",
      "    SMA: 5.00\n",
      "    RSI: 10.00\n"
     ]
    },
    {
     "name": "stdout",
     "output_type": "stream",
     "text": [
      "{'id': '0b8d7dbe4ce742fd9629b3bfb1f03abc', 'asset': 'ETH/BTC', 'price': 0.1, 'quantity': 1, 'type': 'limit', 'side': 'buy', 'filled': 0.0, 'status': 'FILLED', 'fee': {}}\n"
     ]
    },
    {
     "name": "stderr",
     "output_type": "stream",
     "text": [
      "---------------------------------------\n",
      "Epoch 347 - Timestep: 2018-01-10T18:14:00\n",
      "---------------------------------------\n",
      "OHLCV\n",
      "    O: 0.0899 | C: 0.0898 | V: 229.7 | T: 2018-01-10T18:14:00\n",
      "ORDERS\n",
      "    1: ETH/BTC | LIMIT_SELL | Price: 0.1000 | Quantity: 1.0000\n",
      "PERFORMANCE\n",
      "    Cash: 0.5000 Total Val: 1.0000 PnL: 0.0000 Returns: 0.0000\n",
      "BALANCE\n",
      "    BTC - {'free': 0.5000000000000001, 'used': 0.0, 'total': 0.5000000000000001}\n",
      "    ETH - {'free': 5.0, 'used': 0.0, 'total': 5.0}\n",
      "POSITIONS\n",
      "     {'asset': 'ETH/BTC', 'quantity': 5, 'cost_price': 0.1, 'latest_price': 0.1}\n",
      "METRICS\n",
      "    SMA: 5.00\n",
      "    RSI: 10.00\n"
     ]
    },
    {
     "name": "stdout",
     "output_type": "stream",
     "text": [
      "{'id': '595d2b35ad584430aefccf90ab3a83b3', 'asset': 'ETH/BTC', 'price': 0.1, 'quantity': 1, 'type': 'limit', 'side': 'sell', 'filled': 0.0, 'status': 'FILLED', 'fee': {}}\n"
     ]
    },
    {
     "name": "stderr",
     "output_type": "stream",
     "text": [
      "---------------------------------------\n",
      "Epoch 348 - Timestep: 2018-01-10T18:15:00\n",
      "---------------------------------------\n",
      "OHLCV\n",
      "    O: 0.0896 | C: 0.0897 | V: 212.0 | T: 2018-01-10T18:15:00\n",
      "ORDERS\n",
      "    1: ETH/BTC | LIMIT_SELL | Price: 0.1000 | Quantity: 1.0000\n",
      "PERFORMANCE\n",
      "    Cash: 0.6000 Total Val: 1.0000 PnL: 0.0000 Returns: 0.0000\n",
      "BALANCE\n",
      "    BTC - {'free': 0.6000000000000001, 'used': 0.0, 'total': 0.6000000000000001}\n",
      "    ETH - {'free': 4.0, 'used': 0.0, 'total': 4.0}\n",
      "POSITIONS\n",
      "     {'asset': 'ETH/BTC', 'quantity': 4, 'cost_price': 0.1, 'latest_price': 0.1}\n",
      "METRICS\n",
      "    SMA: 5.00\n",
      "    RSI: 10.00\n"
     ]
    },
    {
     "name": "stdout",
     "output_type": "stream",
     "text": [
      "{'id': '2341db3985af4f7d9c42ae3c3dfb3a82', 'asset': 'ETH/BTC', 'price': 0.1, 'quantity': 1, 'type': 'limit', 'side': 'sell', 'filled': 0.0, 'status': 'FILLED', 'fee': {}}\n"
     ]
    },
    {
     "name": "stderr",
     "output_type": "stream",
     "text": [
      "---------------------------------------\n",
      "Epoch 349 - Timestep: 2018-01-10T18:16:00\n",
      "---------------------------------------\n",
      "OHLCV\n",
      "    O: 0.0897 | C: 0.0898 | V: 313.6 | T: 2018-01-10T18:16:00\n",
      "ORDERS\n",
      "    1: ETH/BTC | LIMIT_BUY | Price: 0.1000 | Quantity: 1.0000\n",
      "PERFORMANCE\n",
      "    Cash: 0.7000 Total Val: 1.0000 PnL: 0.0000 Returns: 0.0000\n",
      "BALANCE\n",
      "    BTC - {'free': 0.7000000000000001, 'used': 0.0, 'total': 0.7000000000000001}\n",
      "    ETH - {'free': 3.0, 'used': 0.0, 'total': 3.0}\n",
      "POSITIONS\n",
      "     {'asset': 'ETH/BTC', 'quantity': 3, 'cost_price': 0.1, 'latest_price': 0.1}\n",
      "METRICS\n",
      "    SMA: 5.00\n",
      "    RSI: 10.00\n"
     ]
    },
    {
     "name": "stdout",
     "output_type": "stream",
     "text": [
      "{'id': 'fec7832fddc240449c4bc46fddc43ee3', 'asset': 'ETH/BTC', 'price': 0.1, 'quantity': 1, 'type': 'limit', 'side': 'buy', 'filled': 0.0, 'status': 'FILLED', 'fee': {}}\n"
     ]
    },
    {
     "name": "stderr",
     "output_type": "stream",
     "text": [
      "---------------------------------------\n",
      "Epoch 350 - Timestep: 2018-01-10T18:17:00\n",
      "---------------------------------------\n",
      "OHLCV\n",
      "    O: 0.0899 | C: 0.0900 | V: 361.2 | T: 2018-01-10T18:17:00\n",
      "ORDERS\n",
      "    1: ETH/BTC | LIMIT_SELL | Price: 0.1000 | Quantity: 1.0000\n",
      "PERFORMANCE\n",
      "    Cash: 0.6000 Total Val: 1.0000 PnL: 0.0000 Returns: 0.0000\n",
      "BALANCE\n",
      "    BTC - {'free': 0.6000000000000001, 'used': 0.0, 'total': 0.6000000000000001}\n",
      "    ETH - {'free': 4.0, 'used': 0.0, 'total': 4.0}\n",
      "POSITIONS\n",
      "     {'asset': 'ETH/BTC', 'quantity': 4, 'cost_price': 0.1, 'latest_price': 0.1}\n",
      "METRICS\n",
      "    SMA: 5.00\n",
      "    RSI: 10.00\n"
     ]
    },
    {
     "name": "stdout",
     "output_type": "stream",
     "text": [
      "{'id': 'bac4b417d91344349ba3e33766745b33', 'asset': 'ETH/BTC', 'price': 0.1, 'quantity': 1, 'type': 'limit', 'side': 'sell', 'filled': 0.0, 'status': 'FILLED', 'fee': {}}\n"
     ]
    },
    {
     "name": "stderr",
     "output_type": "stream",
     "text": [
      "---------------------------------------\n",
      "Epoch 351 - Timestep: 2018-01-10T18:18:00\n",
      "---------------------------------------\n",
      "OHLCV\n",
      "    O: 0.0900 | C: 0.0904 | V: 418.4 | T: 2018-01-10T18:18:00\n",
      "ORDERS\n",
      "    1: ETH/BTC | LIMIT_SELL | Price: 0.1000 | Quantity: 1.0000\n",
      "PERFORMANCE\n",
      "    Cash: 0.7000 Total Val: 1.0000 PnL: 0.0000 Returns: 0.0000\n",
      "BALANCE\n",
      "    BTC - {'free': 0.7000000000000001, 'used': 0.0, 'total': 0.7000000000000001}\n",
      "    ETH - {'free': 3.0, 'used': 0.0, 'total': 3.0}\n",
      "POSITIONS\n",
      "     {'asset': 'ETH/BTC', 'quantity': 3, 'cost_price': 0.1, 'latest_price': 0.1}\n",
      "METRICS\n",
      "    SMA: 5.00\n",
      "    RSI: 10.00\n"
     ]
    },
    {
     "name": "stdout",
     "output_type": "stream",
     "text": [
      "{'id': 'c5614dc334d44eb9ab39c1f81c3809ba', 'asset': 'ETH/BTC', 'price': 0.1, 'quantity': 1, 'type': 'limit', 'side': 'sell', 'filled': 0.0, 'status': 'FILLED', 'fee': {}}\n"
     ]
    },
    {
     "name": "stderr",
     "output_type": "stream",
     "text": [
      "---------------------------------------\n",
      "Epoch 352 - Timestep: 2018-01-10T18:19:00\n",
      "---------------------------------------\n",
      "OHLCV\n",
      "    O: 0.0906 | C: 0.0907 | V: 329.2 | T: 2018-01-10T18:19:00\n",
      "ORDERS\n",
      "    1: ETH/BTC | LIMIT_SELL | Price: 0.1000 | Quantity: 1.0000\n",
      "PERFORMANCE\n",
      "    Cash: 0.8000 Total Val: 1.0000 PnL: 0.0000 Returns: 0.0000\n",
      "BALANCE\n",
      "    BTC - {'free': 0.8, 'used': 0.0, 'total': 0.8}\n",
      "    ETH - {'free': 2.0, 'used': 0.0, 'total': 2.0}\n",
      "POSITIONS\n",
      "     {'asset': 'ETH/BTC', 'quantity': 2, 'cost_price': 0.1, 'latest_price': 0.1}\n",
      "METRICS\n",
      "    SMA: 5.00\n",
      "    RSI: 10.00\n"
     ]
    },
    {
     "name": "stdout",
     "output_type": "stream",
     "text": [
      "{'id': '028e7c48d5554c3488391aee0e3104c3', 'asset': 'ETH/BTC', 'price': 0.1, 'quantity': 1, 'type': 'limit', 'side': 'sell', 'filled': 0.0, 'status': 'FILLED', 'fee': {}}\n"
     ]
    },
    {
     "name": "stderr",
     "output_type": "stream",
     "text": [
      "---------------------------------------\n",
      "Epoch 353 - Timestep: 2018-01-10T18:20:00\n",
      "---------------------------------------\n",
      "OHLCV\n",
      "    O: 0.0908 | C: 0.0905 | V: 306.6 | T: 2018-01-10T18:20:00\n",
      "ORDERS\n",
      "    1: ETH/BTC | LIMIT_SELL | Price: 0.1000 | Quantity: 1.0000\n",
      "PERFORMANCE\n",
      "    Cash: 0.9000 Total Val: 1.0000 PnL: 0.0000 Returns: 0.0000\n",
      "BALANCE\n",
      "    BTC - {'free': 0.9, 'used': 0.0, 'total': 0.9}\n",
      "    ETH - {'free': 1.0, 'used': 0.0, 'total': 1.0}\n",
      "POSITIONS\n",
      "     {'asset': 'ETH/BTC', 'quantity': 1, 'cost_price': 0.1, 'latest_price': 0.1}\n",
      "METRICS\n",
      "    SMA: 5.00\n",
      "    RSI: 10.00\n"
     ]
    },
    {
     "name": "stdout",
     "output_type": "stream",
     "text": [
      "{'id': 'a077a5e5b52742d3aafdd9a5ef0aa775', 'asset': 'ETH/BTC', 'price': 0.1, 'quantity': 1, 'type': 'limit', 'side': 'sell', 'filled': 0.0, 'status': 'FILLED', 'fee': {}}\n"
     ]
    },
    {
     "name": "stderr",
     "output_type": "stream",
     "text": [
      "---------------------------------------\n",
      "Epoch 354 - Timestep: 2018-01-10T18:21:00\n",
      "---------------------------------------\n",
      "OHLCV\n",
      "    O: 0.0905 | C: 0.0908 | V: 524.8 | T: 2018-01-10T18:21:00\n",
      "ORDERS\n",
      "    1: ETH/BTC | LIMIT_SELL | Price: 0.1000 | Quantity: 1.0000\n",
      "PERFORMANCE\n",
      "    Cash: 1.0000 Total Val: 1.0000 PnL: 0.0000 Returns: 0.0000\n",
      "BALANCE\n",
      "    BTC - {'free': 1.0, 'used': 0.0, 'total': 1.0}\n",
      "    ETH - {'free': 0.0, 'used': 0.0, 'total': 0.0}\n",
      "POSITIONS\n",
      "     {'asset': 'ETH/BTC', 'quantity': 0, 'cost_price': 0.0, 'latest_price': 0.1}\n",
      "METRICS\n",
      "    SMA: 5.00\n",
      "    RSI: 10.00\n"
     ]
    },
    {
     "name": "stdout",
     "output_type": "stream",
     "text": [
      "Balance is not sufficient to create order!\n"
     ]
    },
    {
     "name": "stderr",
     "output_type": "stream",
     "text": [
      "---------------------------------------\n",
      "Epoch 355 - Timestep: 2018-01-10T18:22:00\n",
      "---------------------------------------\n",
      "OHLCV\n",
      "    O: 0.0908 | C: 0.0905 | V: 330.1 | T: 2018-01-10T18:22:00\n",
      "ORDERS\n",
      "    1: ETH/BTC | LIMIT_BUY | Price: 0.1000 | Quantity: 1.0000\n",
      "PERFORMANCE\n",
      "    Cash: 1.0000 Total Val: 1.0000 PnL: 0.0000 Returns: 0.0000\n",
      "BALANCE\n",
      "    BTC - {'free': 1.0, 'used': 0.0, 'total': 1.0}\n",
      "    ETH - {'free': 0.0, 'used': 0.0, 'total': 0.0}\n",
      "POSITIONS\n",
      "     {'asset': 'ETH/BTC', 'quantity': 0, 'cost_price': 0.0, 'latest_price': 0.1}\n",
      "METRICS\n",
      "    SMA: 5.00\n",
      "    RSI: 10.00\n"
     ]
    },
    {
     "name": "stdout",
     "output_type": "stream",
     "text": [
      "{'id': '2c18a3c816544bf8847a5c542d9bd83e', 'asset': 'ETH/BTC', 'price': 0.1, 'quantity': 1, 'type': 'limit', 'side': 'buy', 'filled': 0.0, 'status': 'FILLED', 'fee': {}}\n"
     ]
    },
    {
     "name": "stderr",
     "output_type": "stream",
     "text": [
      "---------------------------------------\n",
      "Epoch 356 - Timestep: 2018-01-10T18:23:00\n",
      "---------------------------------------\n",
      "OHLCV\n",
      "    O: 0.0907 | C: 0.0905 | V: 164.6 | T: 2018-01-10T18:23:00\n",
      "ORDERS\n",
      "    1: ETH/BTC | LIMIT_BUY | Price: 0.1000 | Quantity: 1.0000\n",
      "PERFORMANCE\n",
      "    Cash: 0.9000 Total Val: 1.0000 PnL: 0.0000 Returns: 0.0000\n",
      "BALANCE\n",
      "    BTC - {'free': 0.9, 'used': 0.0, 'total': 0.9}\n",
      "    ETH - {'free': 1.0, 'used': 0.0, 'total': 1.0}\n",
      "POSITIONS\n",
      "     {'asset': 'ETH/BTC', 'quantity': 1, 'cost_price': 0.1, 'latest_price': 0.1}\n",
      "METRICS\n",
      "    SMA: 5.00\n",
      "    RSI: 10.00\n"
     ]
    },
    {
     "name": "stdout",
     "output_type": "stream",
     "text": [
      "{'id': '89fb6631171b4863a4d4aa1e569a1809', 'asset': 'ETH/BTC', 'price': 0.1, 'quantity': 1, 'type': 'limit', 'side': 'buy', 'filled': 0.0, 'status': 'FILLED', 'fee': {}}\n"
     ]
    },
    {
     "name": "stderr",
     "output_type": "stream",
     "text": [
      "---------------------------------------\n",
      "Epoch 357 - Timestep: 2018-01-10T18:24:00\n",
      "---------------------------------------\n",
      "OHLCV\n",
      "    O: 0.0905 | C: 0.0903 | V: 185.6 | T: 2018-01-10T18:24:00\n",
      "ORDERS\n",
      "    1: ETH/BTC | LIMIT_BUY | Price: 0.1000 | Quantity: 1.0000\n",
      "PERFORMANCE\n",
      "    Cash: 0.8000 Total Val: 1.0000 PnL: 0.0000 Returns: 0.0000\n",
      "BALANCE\n",
      "    BTC - {'free': 0.8, 'used': 0.0, 'total': 0.8}\n",
      "    ETH - {'free': 2.0, 'used': 0.0, 'total': 2.0}\n",
      "POSITIONS\n",
      "     {'asset': 'ETH/BTC', 'quantity': 2, 'cost_price': 0.1, 'latest_price': 0.1}\n",
      "METRICS\n",
      "    SMA: 5.00\n",
      "    RSI: 10.00\n"
     ]
    },
    {
     "name": "stdout",
     "output_type": "stream",
     "text": [
      "{'id': 'a2fe7f2c8da7428aae9b68011cc9e8c5', 'asset': 'ETH/BTC', 'price': 0.1, 'quantity': 1, 'type': 'limit', 'side': 'buy', 'filled': 0.0, 'status': 'FILLED', 'fee': {}}\n"
     ]
    },
    {
     "name": "stderr",
     "output_type": "stream",
     "text": [
      "---------------------------------------\n",
      "Epoch 358 - Timestep: 2018-01-10T18:25:00\n",
      "---------------------------------------\n",
      "OHLCV\n",
      "    O: 0.0904 | C: 0.0902 | V: 149.7 | T: 2018-01-10T18:25:00\n",
      "ORDERS\n",
      "    1: ETH/BTC | LIMIT_SELL | Price: 0.1000 | Quantity: 1.0000\n",
      "PERFORMANCE\n",
      "    Cash: 0.7000 Total Val: 1.0000 PnL: 0.0000 Returns: 0.0000\n",
      "BALANCE\n",
      "    BTC - {'free': 0.7000000000000001, 'used': 0.0, 'total': 0.7000000000000001}\n",
      "    ETH - {'free': 3.0, 'used': 0.0, 'total': 3.0}\n",
      "POSITIONS\n",
      "     {'asset': 'ETH/BTC', 'quantity': 3, 'cost_price': 0.10000000000000002, 'latest_price': 0.1}\n",
      "METRICS\n",
      "    SMA: 5.00\n",
      "    RSI: 10.00\n"
     ]
    },
    {
     "name": "stdout",
     "output_type": "stream",
     "text": [
      "{'id': '584b05efc86e4c5990ce277a80c7f758', 'asset': 'ETH/BTC', 'price': 0.1, 'quantity': 1, 'type': 'limit', 'side': 'sell', 'filled': 0.0, 'status': 'FILLED', 'fee': {}}\n"
     ]
    },
    {
     "name": "stderr",
     "output_type": "stream",
     "text": [
      "---------------------------------------\n",
      "Epoch 359 - Timestep: 2018-01-10T18:26:00\n",
      "---------------------------------------\n",
      "OHLCV\n",
      "    O: 0.0902 | C: 0.0902 | V: 220.0 | T: 2018-01-10T18:26:00\n",
      "ORDERS\n",
      "    1: ETH/BTC | LIMIT_BUY | Price: 0.1000 | Quantity: 1.0000\n",
      "PERFORMANCE\n",
      "    Cash: 0.8000 Total Val: 1.0000 PnL: 0.0000 Returns: 0.0000\n",
      "BALANCE\n",
      "    BTC - {'free': 0.8, 'used': 0.0, 'total': 0.8}\n",
      "    ETH - {'free': 2.0, 'used': 0.0, 'total': 2.0}\n",
      "POSITIONS\n",
      "     {'asset': 'ETH/BTC', 'quantity': 2, 'cost_price': 0.10000000000000002, 'latest_price': 0.1}\n",
      "METRICS\n",
      "    SMA: 5.00\n",
      "    RSI: 10.00\n"
     ]
    },
    {
     "name": "stdout",
     "output_type": "stream",
     "text": [
      "{'id': '16fbe2873fc74963875295baddd442f6', 'asset': 'ETH/BTC', 'price': 0.1, 'quantity': 1, 'type': 'limit', 'side': 'buy', 'filled': 0.0, 'status': 'FILLED', 'fee': {}}\n"
     ]
    },
    {
     "name": "stderr",
     "output_type": "stream",
     "text": [
      "---------------------------------------\n",
      "Epoch 360 - Timestep: 2018-01-10T18:27:00\n",
      "---------------------------------------\n",
      "OHLCV\n",
      "    O: 0.0903 | C: 0.0902 | V: 142.0 | T: 2018-01-10T18:27:00\n",
      "ORDERS\n",
      "    1: ETH/BTC | LIMIT_SELL | Price: 0.1000 | Quantity: 1.0000\n",
      "PERFORMANCE\n",
      "    Cash: 0.7000 Total Val: 1.0000 PnL: 0.0000 Returns: 0.0000\n",
      "BALANCE\n",
      "    BTC - {'free': 0.7000000000000001, 'used': 0.0, 'total': 0.7000000000000001}\n",
      "    ETH - {'free': 3.0, 'used': 0.0, 'total': 3.0}\n",
      "POSITIONS\n",
      "     {'asset': 'ETH/BTC', 'quantity': 3, 'cost_price': 0.10000000000000002, 'latest_price': 0.1}\n",
      "METRICS\n",
      "    SMA: 5.00\n",
      "    RSI: 10.00\n"
     ]
    },
    {
     "name": "stdout",
     "output_type": "stream",
     "text": [
      "{'id': 'bda2386ecd34477b9c35e778457ed08d', 'asset': 'ETH/BTC', 'price': 0.1, 'quantity': 1, 'type': 'limit', 'side': 'sell', 'filled': 0.0, 'status': 'FILLED', 'fee': {}}\n"
     ]
    },
    {
     "name": "stderr",
     "output_type": "stream",
     "text": [
      "---------------------------------------\n",
      "Epoch 361 - Timestep: 2018-01-10T18:28:00\n",
      "---------------------------------------\n",
      "OHLCV\n",
      "    O: 0.0901 | C: 0.0900 | V: 294.5 | T: 2018-01-10T18:28:00\n",
      "ORDERS\n",
      "    1: ETH/BTC | LIMIT_SELL | Price: 0.1000 | Quantity: 1.0000\n",
      "PERFORMANCE\n",
      "    Cash: 0.8000 Total Val: 1.0000 PnL: 0.0000 Returns: 0.0000\n",
      "BALANCE\n",
      "    BTC - {'free': 0.8, 'used': 0.0, 'total': 0.8}\n",
      "    ETH - {'free': 2.0, 'used': 0.0, 'total': 2.0}\n",
      "POSITIONS\n",
      "     {'asset': 'ETH/BTC', 'quantity': 2, 'cost_price': 0.10000000000000002, 'latest_price': 0.1}\n",
      "METRICS\n",
      "    SMA: 5.00\n",
      "    RSI: 10.00\n"
     ]
    },
    {
     "name": "stdout",
     "output_type": "stream",
     "text": [
      "{'id': '0d5e837d5dcd4052be249122fb91f5d6', 'asset': 'ETH/BTC', 'price': 0.1, 'quantity': 1, 'type': 'limit', 'side': 'sell', 'filled': 0.0, 'status': 'FILLED', 'fee': {}}\n"
     ]
    },
    {
     "name": "stderr",
     "output_type": "stream",
     "text": [
      "---------------------------------------\n",
      "Epoch 362 - Timestep: 2018-01-10T18:29:00\n",
      "---------------------------------------\n",
      "OHLCV\n",
      "    O: 0.0900 | C: 0.0900 | V: 157.5 | T: 2018-01-10T18:29:00\n",
      "ORDERS\n",
      "    1: ETH/BTC | LIMIT_BUY | Price: 0.1000 | Quantity: 1.0000\n",
      "PERFORMANCE\n",
      "    Cash: 0.9000 Total Val: 1.0000 PnL: 0.0000 Returns: 0.0000\n",
      "BALANCE\n",
      "    BTC - {'free': 0.9, 'used': 0.0, 'total': 0.9}\n",
      "    ETH - {'free': 1.0, 'used': 0.0, 'total': 1.0}\n",
      "POSITIONS\n",
      "     {'asset': 'ETH/BTC', 'quantity': 1, 'cost_price': 0.10000000000000002, 'latest_price': 0.1}\n",
      "METRICS\n",
      "    SMA: 5.00\n",
      "    RSI: 10.00\n"
     ]
    },
    {
     "name": "stdout",
     "output_type": "stream",
     "text": [
      "{'id': 'f5dde23957df41f7939a0b310e9952c1', 'asset': 'ETH/BTC', 'price': 0.1, 'quantity': 1, 'type': 'limit', 'side': 'buy', 'filled': 0.0, 'status': 'FILLED', 'fee': {}}\n"
     ]
    },
    {
     "name": "stderr",
     "output_type": "stream",
     "text": [
      "---------------------------------------\n",
      "Epoch 363 - Timestep: 2018-01-10T18:30:00\n",
      "---------------------------------------\n",
      "OHLCV\n",
      "    O: 0.0900 | C: 0.0898 | V: 187.1 | T: 2018-01-10T18:30:00\n",
      "ORDERS\n",
      "    1: ETH/BTC | LIMIT_SELL | Price: 0.1000 | Quantity: 1.0000\n",
      "PERFORMANCE\n",
      "    Cash: 0.8000 Total Val: 1.0000 PnL: 0.0000 Returns: 0.0000\n",
      "BALANCE\n",
      "    BTC - {'free': 0.8, 'used': 0.0, 'total': 0.8}\n",
      "    ETH - {'free': 2.0, 'used': 0.0, 'total': 2.0}\n",
      "POSITIONS\n",
      "     {'asset': 'ETH/BTC', 'quantity': 2, 'cost_price': 0.1, 'latest_price': 0.1}\n",
      "METRICS\n",
      "    SMA: 5.00\n",
      "    RSI: 10.00\n"
     ]
    },
    {
     "name": "stdout",
     "output_type": "stream",
     "text": [
      "{'id': '213fa505060f451e983aa0c7eb8cee1a', 'asset': 'ETH/BTC', 'price': 0.1, 'quantity': 1, 'type': 'limit', 'side': 'sell', 'filled': 0.0, 'status': 'FILLED', 'fee': {}}\n"
     ]
    },
    {
     "name": "stderr",
     "output_type": "stream",
     "text": [
      "---------------------------------------\n",
      "Epoch 364 - Timestep: 2018-01-10T18:31:00\n",
      "---------------------------------------\n",
      "OHLCV\n",
      "    O: 0.0898 | C: 0.0899 | V: 126.4 | T: 2018-01-10T18:31:00\n",
      "ORDERS\n",
      "    1: ETH/BTC | LIMIT_SELL | Price: 0.1000 | Quantity: 1.0000\n",
      "PERFORMANCE\n",
      "    Cash: 0.9000 Total Val: 1.0000 PnL: 0.0000 Returns: 0.0000\n",
      "BALANCE\n",
      "    BTC - {'free': 0.9, 'used': 0.0, 'total': 0.9}\n",
      "    ETH - {'free': 1.0, 'used': 0.0, 'total': 1.0}\n",
      "POSITIONS\n",
      "     {'asset': 'ETH/BTC', 'quantity': 1, 'cost_price': 0.1, 'latest_price': 0.1}\n",
      "METRICS\n",
      "    SMA: 5.00\n",
      "    RSI: 10.00\n"
     ]
    },
    {
     "name": "stdout",
     "output_type": "stream",
     "text": [
      "{'id': '4404f991ee634b54a3f20d8ea049c994', 'asset': 'ETH/BTC', 'price': 0.1, 'quantity': 1, 'type': 'limit', 'side': 'sell', 'filled': 0.0, 'status': 'FILLED', 'fee': {}}\n"
     ]
    },
    {
     "name": "stderr",
     "output_type": "stream",
     "text": [
      "---------------------------------------\n",
      "Epoch 365 - Timestep: 2018-01-10T18:32:00\n",
      "---------------------------------------\n",
      "OHLCV\n",
      "    O: 0.0898 | C: 0.0900 | V: 257.7 | T: 2018-01-10T18:32:00\n",
      "ORDERS\n",
      "    1: ETH/BTC | LIMIT_BUY | Price: 0.1000 | Quantity: 1.0000\n",
      "PERFORMANCE\n",
      "    Cash: 1.0000 Total Val: 1.0000 PnL: 0.0000 Returns: 0.0000\n",
      "BALANCE\n",
      "    BTC - {'free': 1.0, 'used': 0.0, 'total': 1.0}\n",
      "    ETH - {'free': 0.0, 'used': 0.0, 'total': 0.0}\n",
      "POSITIONS\n",
      "     {'asset': 'ETH/BTC', 'quantity': 0, 'cost_price': 0.0, 'latest_price': 0.1}\n",
      "METRICS\n",
      "    SMA: 5.00\n",
      "    RSI: 10.00\n"
     ]
    },
    {
     "name": "stdout",
     "output_type": "stream",
     "text": [
      "{'id': '15c635cdc3994cabab071d1c3bc41bc8', 'asset': 'ETH/BTC', 'price': 0.1, 'quantity': 1, 'type': 'limit', 'side': 'buy', 'filled': 0.0, 'status': 'FILLED', 'fee': {}}\n"
     ]
    },
    {
     "name": "stderr",
     "output_type": "stream",
     "text": [
      "---------------------------------------\n",
      "Epoch 366 - Timestep: 2018-01-10T18:33:00\n",
      "---------------------------------------\n",
      "OHLCV\n",
      "    O: 0.0900 | C: 0.0898 | V: 213.6 | T: 2018-01-10T18:33:00\n",
      "ORDERS\n",
      "    1: ETH/BTC | LIMIT_SELL | Price: 0.1000 | Quantity: 1.0000\n",
      "PERFORMANCE\n",
      "    Cash: 0.9000 Total Val: 1.0000 PnL: 0.0000 Returns: 0.0000\n",
      "BALANCE\n",
      "    BTC - {'free': 0.9, 'used': 0.0, 'total': 0.9}\n",
      "    ETH - {'free': 1.0, 'used': 0.0, 'total': 1.0}\n",
      "POSITIONS\n",
      "     {'asset': 'ETH/BTC', 'quantity': 1, 'cost_price': 0.1, 'latest_price': 0.1}\n",
      "METRICS\n",
      "    SMA: 5.00\n",
      "    RSI: 10.00\n"
     ]
    },
    {
     "name": "stdout",
     "output_type": "stream",
     "text": [
      "{'id': '88f47fa0203d4314a220b73886961b9f', 'asset': 'ETH/BTC', 'price': 0.1, 'quantity': 1, 'type': 'limit', 'side': 'sell', 'filled': 0.0, 'status': 'FILLED', 'fee': {}}\n"
     ]
    },
    {
     "name": "stderr",
     "output_type": "stream",
     "text": [
      "---------------------------------------\n",
      "Epoch 367 - Timestep: 2018-01-10T18:34:00\n",
      "---------------------------------------\n",
      "OHLCV\n",
      "    O: 0.0898 | C: 0.0899 | V: 191.6 | T: 2018-01-10T18:34:00\n",
      "ORDERS\n",
      "    1: ETH/BTC | LIMIT_SELL | Price: 0.1000 | Quantity: 1.0000\n",
      "PERFORMANCE\n",
      "    Cash: 1.0000 Total Val: 1.0000 PnL: 0.0000 Returns: 0.0000\n",
      "BALANCE\n",
      "    BTC - {'free': 1.0, 'used': 0.0, 'total': 1.0}\n",
      "    ETH - {'free': 0.0, 'used': 0.0, 'total': 0.0}\n",
      "POSITIONS\n",
      "     {'asset': 'ETH/BTC', 'quantity': 0, 'cost_price': 0.0, 'latest_price': 0.1}\n",
      "METRICS\n",
      "    SMA: 5.00\n",
      "    RSI: 10.00\n"
     ]
    },
    {
     "name": "stdout",
     "output_type": "stream",
     "text": [
      "Balance is not sufficient to create order!\n"
     ]
    },
    {
     "name": "stderr",
     "output_type": "stream",
     "text": [
      "---------------------------------------\n",
      "Epoch 368 - Timestep: 2018-01-10T18:35:00\n",
      "---------------------------------------\n",
      "OHLCV\n",
      "    O: 0.0899 | C: 0.0900 | V: 137.6 | T: 2018-01-10T18:35:00\n",
      "ORDERS\n",
      "    1: ETH/BTC | LIMIT_BUY | Price: 0.1000 | Quantity: 1.0000\n",
      "PERFORMANCE\n",
      "    Cash: 1.0000 Total Val: 1.0000 PnL: 0.0000 Returns: 0.0000\n",
      "BALANCE\n",
      "    BTC - {'free': 1.0, 'used': 0.0, 'total': 1.0}\n",
      "    ETH - {'free': 0.0, 'used': 0.0, 'total': 0.0}\n",
      "POSITIONS\n",
      "     {'asset': 'ETH/BTC', 'quantity': 0, 'cost_price': 0.0, 'latest_price': 0.1}\n",
      "METRICS\n",
      "    SMA: 5.00\n",
      "    RSI: 10.00\n"
     ]
    },
    {
     "name": "stdout",
     "output_type": "stream",
     "text": [
      "{'id': '4ce9f82f647543b3bb752d564f7bd0aa', 'asset': 'ETH/BTC', 'price': 0.1, 'quantity': 1, 'type': 'limit', 'side': 'buy', 'filled': 0.0, 'status': 'FILLED', 'fee': {}}\n"
     ]
    },
    {
     "name": "stderr",
     "output_type": "stream",
     "text": [
      "---------------------------------------\n",
      "Epoch 369 - Timestep: 2018-01-10T18:36:00\n",
      "---------------------------------------\n",
      "OHLCV\n",
      "    O: 0.0900 | C: 0.0901 | V: 143.2 | T: 2018-01-10T18:36:00\n",
      "ORDERS\n",
      "    1: ETH/BTC | LIMIT_BUY | Price: 0.1000 | Quantity: 1.0000\n",
      "PERFORMANCE\n",
      "    Cash: 0.9000 Total Val: 1.0000 PnL: 0.0000 Returns: 0.0000\n",
      "BALANCE\n",
      "    BTC - {'free': 0.9, 'used': 0.0, 'total': 0.9}\n",
      "    ETH - {'free': 1.0, 'used': 0.0, 'total': 1.0}\n",
      "POSITIONS\n",
      "     {'asset': 'ETH/BTC', 'quantity': 1, 'cost_price': 0.1, 'latest_price': 0.1}\n",
      "METRICS\n",
      "    SMA: 5.00\n",
      "    RSI: 10.00\n"
     ]
    },
    {
     "name": "stdout",
     "output_type": "stream",
     "text": [
      "{'id': '66c762abfc754c13b34ac9ac66101e11', 'asset': 'ETH/BTC', 'price': 0.1, 'quantity': 1, 'type': 'limit', 'side': 'buy', 'filled': 0.0, 'status': 'FILLED', 'fee': {}}\n"
     ]
    },
    {
     "name": "stderr",
     "output_type": "stream",
     "text": [
      "---------------------------------------\n",
      "Epoch 370 - Timestep: 2018-01-10T18:37:00\n",
      "---------------------------------------\n",
      "OHLCV\n",
      "    O: 0.0901 | C: 0.0901 | V: 144.9 | T: 2018-01-10T18:37:00\n",
      "ORDERS\n",
      "    1: ETH/BTC | LIMIT_BUY | Price: 0.1000 | Quantity: 1.0000\n",
      "PERFORMANCE\n",
      "    Cash: 0.8000 Total Val: 1.0000 PnL: 0.0000 Returns: 0.0000\n",
      "BALANCE\n",
      "    BTC - {'free': 0.8, 'used': 0.0, 'total': 0.8}\n",
      "    ETH - {'free': 2.0, 'used': 0.0, 'total': 2.0}\n",
      "POSITIONS\n",
      "     {'asset': 'ETH/BTC', 'quantity': 2, 'cost_price': 0.1, 'latest_price': 0.1}\n",
      "METRICS\n",
      "    SMA: 5.00\n",
      "    RSI: 10.00\n"
     ]
    },
    {
     "name": "stdout",
     "output_type": "stream",
     "text": [
      "{'id': 'aed12e745b524f9682ef08353cbaa644', 'asset': 'ETH/BTC', 'price': 0.1, 'quantity': 1, 'type': 'limit', 'side': 'buy', 'filled': 0.0, 'status': 'FILLED', 'fee': {}}\n"
     ]
    },
    {
     "name": "stderr",
     "output_type": "stream",
     "text": [
      "---------------------------------------\n",
      "Epoch 371 - Timestep: 2018-01-10T18:38:00\n",
      "---------------------------------------\n",
      "OHLCV\n",
      "    O: 0.0902 | C: 0.0901 | V: 117.1 | T: 2018-01-10T18:38:00\n",
      "ORDERS\n",
      "    1: ETH/BTC | LIMIT_BUY | Price: 0.1000 | Quantity: 1.0000\n",
      "PERFORMANCE\n",
      "    Cash: 0.7000 Total Val: 1.0000 PnL: 0.0000 Returns: 0.0000\n",
      "BALANCE\n",
      "    BTC - {'free': 0.7000000000000001, 'used': 0.0, 'total': 0.7000000000000001}\n",
      "    ETH - {'free': 3.0, 'used': 0.0, 'total': 3.0}\n",
      "POSITIONS\n",
      "     {'asset': 'ETH/BTC', 'quantity': 3, 'cost_price': 0.10000000000000002, 'latest_price': 0.1}\n",
      "METRICS\n",
      "    SMA: 5.00\n",
      "    RSI: 10.00\n"
     ]
    },
    {
     "name": "stdout",
     "output_type": "stream",
     "text": [
      "{'id': 'f186d88d3d3e43689f38c2d18b228123', 'asset': 'ETH/BTC', 'price': 0.1, 'quantity': 1, 'type': 'limit', 'side': 'buy', 'filled': 0.0, 'status': 'FILLED', 'fee': {}}\n"
     ]
    },
    {
     "name": "stderr",
     "output_type": "stream",
     "text": [
      "---------------------------------------\n",
      "Epoch 372 - Timestep: 2018-01-10T18:39:00\n",
      "---------------------------------------\n",
      "OHLCV\n",
      "    O: 0.0901 | C: 0.0900 | V: 180.4 | T: 2018-01-10T18:39:00\n",
      "ORDERS\n",
      "    1: ETH/BTC | LIMIT_SELL | Price: 0.1000 | Quantity: 1.0000\n",
      "PERFORMANCE\n",
      "    Cash: 0.6000 Total Val: 1.0000 PnL: 0.0000 Returns: 0.0000\n",
      "BALANCE\n",
      "    BTC - {'free': 0.6000000000000001, 'used': 0.0, 'total': 0.6000000000000001}\n",
      "    ETH - {'free': 4.0, 'used': 0.0, 'total': 4.0}\n",
      "POSITIONS\n",
      "     {'asset': 'ETH/BTC', 'quantity': 4, 'cost_price': 0.1, 'latest_price': 0.1}\n",
      "METRICS\n",
      "    SMA: 5.00\n",
      "    RSI: 10.00\n"
     ]
    },
    {
     "name": "stdout",
     "output_type": "stream",
     "text": [
      "{'id': '7ed600dbd1b24ad18fd49bc9992b69b4', 'asset': 'ETH/BTC', 'price': 0.1, 'quantity': 1, 'type': 'limit', 'side': 'sell', 'filled': 0.0, 'status': 'FILLED', 'fee': {}}\n"
     ]
    },
    {
     "name": "stderr",
     "output_type": "stream",
     "text": [
      "---------------------------------------\n",
      "Epoch 373 - Timestep: 2018-01-10T18:40:00\n",
      "---------------------------------------\n",
      "OHLCV\n",
      "    O: 0.0899 | C: 0.0898 | V: 186.4 | T: 2018-01-10T18:40:00\n",
      "ORDERS\n",
      "    1: ETH/BTC | LIMIT_BUY | Price: 0.1000 | Quantity: 1.0000\n",
      "PERFORMANCE\n",
      "    Cash: 0.7000 Total Val: 1.0000 PnL: 0.0000 Returns: 0.0000\n",
      "BALANCE\n",
      "    BTC - {'free': 0.7000000000000001, 'used': 0.0, 'total': 0.7000000000000001}\n",
      "    ETH - {'free': 3.0, 'used': 0.0, 'total': 3.0}\n",
      "POSITIONS\n",
      "     {'asset': 'ETH/BTC', 'quantity': 3, 'cost_price': 0.1, 'latest_price': 0.1}\n",
      "METRICS\n",
      "    SMA: 5.00\n",
      "    RSI: 10.00\n"
     ]
    },
    {
     "name": "stdout",
     "output_type": "stream",
     "text": [
      "{'id': '2a42763717d64af987163d9bb49f250b', 'asset': 'ETH/BTC', 'price': 0.1, 'quantity': 1, 'type': 'limit', 'side': 'buy', 'filled': 0.0, 'status': 'FILLED', 'fee': {}}\n"
     ]
    },
    {
     "name": "stderr",
     "output_type": "stream",
     "text": [
      "---------------------------------------\n",
      "Epoch 374 - Timestep: 2018-01-10T18:41:00\n",
      "---------------------------------------\n",
      "OHLCV\n",
      "    O: 0.0898 | C: 0.0898 | V: 150.6 | T: 2018-01-10T18:41:00\n",
      "ORDERS\n",
      "    1: ETH/BTC | LIMIT_BUY | Price: 0.1000 | Quantity: 1.0000\n",
      "PERFORMANCE\n",
      "    Cash: 0.6000 Total Val: 1.0000 PnL: 0.0000 Returns: 0.0000\n",
      "BALANCE\n",
      "    BTC - {'free': 0.6000000000000001, 'used': 0.0, 'total': 0.6000000000000001}\n",
      "    ETH - {'free': 4.0, 'used': 0.0, 'total': 4.0}\n",
      "POSITIONS\n",
      "     {'asset': 'ETH/BTC', 'quantity': 4, 'cost_price': 0.1, 'latest_price': 0.1}\n",
      "METRICS\n",
      "    SMA: 5.00\n",
      "    RSI: 10.00\n"
     ]
    },
    {
     "name": "stdout",
     "output_type": "stream",
     "text": [
      "{'id': '7ea76dc560194245b50318da21735407', 'asset': 'ETH/BTC', 'price': 0.1, 'quantity': 1, 'type': 'limit', 'side': 'buy', 'filled': 0.0, 'status': 'FILLED', 'fee': {}}\n"
     ]
    },
    {
     "name": "stderr",
     "output_type": "stream",
     "text": [
      "---------------------------------------\n",
      "Epoch 375 - Timestep: 2018-01-10T18:42:00\n",
      "---------------------------------------\n",
      "OHLCV\n",
      "    O: 0.0897 | C: 0.0897 | V: 178.6 | T: 2018-01-10T18:42:00\n",
      "ORDERS\n",
      "    1: ETH/BTC | LIMIT_BUY | Price: 0.1000 | Quantity: 1.0000\n",
      "PERFORMANCE\n",
      "    Cash: 0.5000 Total Val: 1.0000 PnL: 0.0000 Returns: 0.0000\n",
      "BALANCE\n",
      "    BTC - {'free': 0.5000000000000001, 'used': 0.0, 'total': 0.5000000000000001}\n",
      "    ETH - {'free': 5.0, 'used': 0.0, 'total': 5.0}\n",
      "POSITIONS\n",
      "     {'asset': 'ETH/BTC', 'quantity': 5, 'cost_price': 0.1, 'latest_price': 0.1}\n",
      "METRICS\n",
      "    SMA: 5.00\n",
      "    RSI: 10.00\n"
     ]
    },
    {
     "name": "stdout",
     "output_type": "stream",
     "text": [
      "{'id': 'd4199c70189b41138a7798a4bb144918', 'asset': 'ETH/BTC', 'price': 0.1, 'quantity': 1, 'type': 'limit', 'side': 'buy', 'filled': 0.0, 'status': 'FILLED', 'fee': {}}\n"
     ]
    },
    {
     "name": "stderr",
     "output_type": "stream",
     "text": [
      "---------------------------------------\n",
      "Epoch 376 - Timestep: 2018-01-10T18:43:00\n",
      "---------------------------------------\n",
      "OHLCV\n",
      "    O: 0.0896 | C: 0.0895 | V: 214.6 | T: 2018-01-10T18:43:00\n",
      "ORDERS\n",
      "    1: ETH/BTC | LIMIT_BUY | Price: 0.1000 | Quantity: 1.0000\n",
      "PERFORMANCE\n",
      "    Cash: 0.4000 Total Val: 1.0000 PnL: 0.0000 Returns: 0.0000\n",
      "BALANCE\n",
      "    BTC - {'free': 0.40000000000000013, 'used': 0.0, 'total': 0.40000000000000013}\n",
      "    ETH - {'free': 6.0, 'used': 0.0, 'total': 6.0}\n",
      "POSITIONS\n",
      "     {'asset': 'ETH/BTC', 'quantity': 6, 'cost_price': 0.09999999999999999, 'latest_price': 0.1}\n",
      "METRICS\n",
      "    SMA: 5.00\n",
      "    RSI: 10.00\n"
     ]
    },
    {
     "name": "stdout",
     "output_type": "stream",
     "text": [
      "{'id': 'a40cc808861e465f9a9dc715d34726b0', 'asset': 'ETH/BTC', 'price': 0.1, 'quantity': 1, 'type': 'limit', 'side': 'buy', 'filled': 0.0, 'status': 'FILLED', 'fee': {}}\n"
     ]
    },
    {
     "name": "stderr",
     "output_type": "stream",
     "text": [
      "---------------------------------------\n",
      "Epoch 377 - Timestep: 2018-01-10T18:44:00\n",
      "---------------------------------------\n",
      "OHLCV\n",
      "    O: 0.0895 | C: 0.0895 | V: 277.4 | T: 2018-01-10T18:44:00\n",
      "ORDERS\n",
      "    1: ETH/BTC | LIMIT_SELL | Price: 0.1000 | Quantity: 1.0000\n",
      "PERFORMANCE\n",
      "    Cash: 0.3000 Total Val: 1.0000 PnL: 0.0000 Returns: 0.0000\n",
      "BALANCE\n",
      "    BTC - {'free': 0.30000000000000016, 'used': 0.0, 'total': 0.30000000000000016}\n",
      "    ETH - {'free': 7.0, 'used': 0.0, 'total': 7.0}\n",
      "POSITIONS\n",
      "     {'asset': 'ETH/BTC', 'quantity': 7, 'cost_price': 0.09999999999999999, 'latest_price': 0.1}\n",
      "METRICS\n",
      "    SMA: 5.00\n",
      "    RSI: 10.00\n"
     ]
    },
    {
     "name": "stdout",
     "output_type": "stream",
     "text": [
      "{'id': '80a919ff87704c7aaa1c551f2d109e11', 'asset': 'ETH/BTC', 'price': 0.1, 'quantity': 1, 'type': 'limit', 'side': 'sell', 'filled': 0.0, 'status': 'FILLED', 'fee': {}}\n"
     ]
    },
    {
     "name": "stderr",
     "output_type": "stream",
     "text": [
      "---------------------------------------\n",
      "Epoch 378 - Timestep: 2018-01-10T18:45:00\n",
      "---------------------------------------\n",
      "OHLCV\n",
      "    O: 0.0895 | C: 0.0895 | V: 73.9 | T: 2018-01-10T18:45:00\n",
      "ORDERS\n",
      "    1: ETH/BTC | LIMIT_SELL | Price: 0.1000 | Quantity: 1.0000\n",
      "PERFORMANCE\n",
      "    Cash: 0.4000 Total Val: 1.0000 PnL: 0.0000 Returns: 0.0000\n",
      "BALANCE\n",
      "    BTC - {'free': 0.40000000000000013, 'used': 0.0, 'total': 0.40000000000000013}\n",
      "    ETH - {'free': 6.0, 'used': 0.0, 'total': 6.0}\n",
      "POSITIONS\n",
      "     {'asset': 'ETH/BTC', 'quantity': 6, 'cost_price': 0.09999999999999999, 'latest_price': 0.1}\n",
      "METRICS\n",
      "    SMA: 5.00\n",
      "    RSI: 10.00\n"
     ]
    },
    {
     "name": "stdout",
     "output_type": "stream",
     "text": [
      "{'id': 'cf9b154c1fac45c4a2de8700425f50bb', 'asset': 'ETH/BTC', 'price': 0.1, 'quantity': 1, 'type': 'limit', 'side': 'sell', 'filled': 0.0, 'status': 'FILLED', 'fee': {}}\n"
     ]
    },
    {
     "name": "stderr",
     "output_type": "stream",
     "text": [
      "---------------------------------------\n",
      "Epoch 379 - Timestep: 2018-01-10T18:46:00\n",
      "---------------------------------------\n",
      "OHLCV\n",
      "    O: 0.0895 | C: 0.0894 | V: 165.6 | T: 2018-01-10T18:46:00\n",
      "ORDERS\n",
      "    1: ETH/BTC | LIMIT_SELL | Price: 0.1000 | Quantity: 1.0000\n",
      "PERFORMANCE\n",
      "    Cash: 0.5000 Total Val: 1.0000 PnL: 0.0000 Returns: 0.0000\n",
      "BALANCE\n",
      "    BTC - {'free': 0.5000000000000001, 'used': 0.0, 'total': 0.5000000000000001}\n",
      "    ETH - {'free': 5.0, 'used': 0.0, 'total': 5.0}\n",
      "POSITIONS\n",
      "     {'asset': 'ETH/BTC', 'quantity': 5, 'cost_price': 0.09999999999999999, 'latest_price': 0.1}\n",
      "METRICS\n",
      "    SMA: 5.00\n",
      "    RSI: 10.00\n"
     ]
    },
    {
     "name": "stdout",
     "output_type": "stream",
     "text": [
      "{'id': '1c1c75bdd2874757aaf55f48ca481c02', 'asset': 'ETH/BTC', 'price': 0.1, 'quantity': 1, 'type': 'limit', 'side': 'sell', 'filled': 0.0, 'status': 'FILLED', 'fee': {}}\n"
     ]
    },
    {
     "name": "stderr",
     "output_type": "stream",
     "text": [
      "---------------------------------------\n",
      "Epoch 380 - Timestep: 2018-01-10T18:47:00\n",
      "---------------------------------------\n",
      "OHLCV\n",
      "    O: 0.0895 | C: 0.0894 | V: 140.2 | T: 2018-01-10T18:47:00\n",
      "ORDERS\n",
      "    1: ETH/BTC | LIMIT_SELL | Price: 0.1000 | Quantity: 1.0000\n",
      "PERFORMANCE\n",
      "    Cash: 0.6000 Total Val: 1.0000 PnL: 0.0000 Returns: 0.0000\n",
      "BALANCE\n",
      "    BTC - {'free': 0.6000000000000001, 'used': 0.0, 'total': 0.6000000000000001}\n",
      "    ETH - {'free': 4.0, 'used': 0.0, 'total': 4.0}\n",
      "POSITIONS\n",
      "     {'asset': 'ETH/BTC', 'quantity': 4, 'cost_price': 0.09999999999999999, 'latest_price': 0.1}\n",
      "METRICS\n",
      "    SMA: 5.00\n",
      "    RSI: 10.00\n"
     ]
    },
    {
     "name": "stdout",
     "output_type": "stream",
     "text": [
      "{'id': '5f73594ded7d496b9e5bbce346cea70f', 'asset': 'ETH/BTC', 'price': 0.1, 'quantity': 1, 'type': 'limit', 'side': 'sell', 'filled': 0.0, 'status': 'FILLED', 'fee': {}}\n"
     ]
    },
    {
     "name": "stderr",
     "output_type": "stream",
     "text": [
      "---------------------------------------\n",
      "Epoch 381 - Timestep: 2018-01-10T18:48:00\n",
      "---------------------------------------\n",
      "OHLCV\n",
      "    O: 0.0894 | C: 0.0893 | V: 171.1 | T: 2018-01-10T18:48:00\n",
      "ORDERS\n",
      "    1: ETH/BTC | LIMIT_BUY | Price: 0.1000 | Quantity: 1.0000\n",
      "PERFORMANCE\n",
      "    Cash: 0.7000 Total Val: 1.0000 PnL: 0.0000 Returns: 0.0000\n",
      "BALANCE\n",
      "    BTC - {'free': 0.7000000000000001, 'used': 0.0, 'total': 0.7000000000000001}\n",
      "    ETH - {'free': 3.0, 'used': 0.0, 'total': 3.0}\n",
      "POSITIONS\n",
      "     {'asset': 'ETH/BTC', 'quantity': 3, 'cost_price': 0.09999999999999999, 'latest_price': 0.1}\n",
      "METRICS\n",
      "    SMA: 5.00\n",
      "    RSI: 10.00\n"
     ]
    },
    {
     "name": "stdout",
     "output_type": "stream",
     "text": [
      "{'id': '37160e3ee028444aab4c8e08981a62cc', 'asset': 'ETH/BTC', 'price': 0.1, 'quantity': 1, 'type': 'limit', 'side': 'buy', 'filled': 0.0, 'status': 'FILLED', 'fee': {}}\n"
     ]
    },
    {
     "name": "stderr",
     "output_type": "stream",
     "text": [
      "---------------------------------------\n",
      "Epoch 382 - Timestep: 2018-01-10T18:49:00\n",
      "---------------------------------------\n",
      "OHLCV\n",
      "    O: 0.0893 | C: 0.0890 | V: 194.3 | T: 2018-01-10T18:49:00\n",
      "ORDERS\n",
      "    1: ETH/BTC | LIMIT_BUY | Price: 0.1000 | Quantity: 1.0000\n",
      "PERFORMANCE\n",
      "    Cash: 0.6000 Total Val: 1.0000 PnL: 0.0000 Returns: 0.0000\n",
      "BALANCE\n",
      "    BTC - {'free': 0.6000000000000001, 'used': 0.0, 'total': 0.6000000000000001}\n",
      "    ETH - {'free': 4.0, 'used': 0.0, 'total': 4.0}\n",
      "POSITIONS\n",
      "     {'asset': 'ETH/BTC', 'quantity': 4, 'cost_price': 0.1, 'latest_price': 0.1}\n",
      "METRICS\n",
      "    SMA: 5.00\n",
      "    RSI: 10.00\n"
     ]
    },
    {
     "name": "stdout",
     "output_type": "stream",
     "text": [
      "{'id': '4972b345422149dba493e737eaa72185', 'asset': 'ETH/BTC', 'price': 0.1, 'quantity': 1, 'type': 'limit', 'side': 'buy', 'filled': 0.0, 'status': 'FILLED', 'fee': {}}\n"
     ]
    },
    {
     "name": "stderr",
     "output_type": "stream",
     "text": [
      "---------------------------------------\n",
      "Epoch 383 - Timestep: 2018-01-10T18:50:00\n",
      "---------------------------------------\n",
      "OHLCV\n",
      "    O: 0.0892 | C: 0.0890 | V: 321.3 | T: 2018-01-10T18:50:00\n",
      "ORDERS\n",
      "    1: ETH/BTC | LIMIT_SELL | Price: 0.1000 | Quantity: 1.0000\n",
      "PERFORMANCE\n",
      "    Cash: 0.5000 Total Val: 1.0000 PnL: 0.0000 Returns: 0.0000\n",
      "BALANCE\n",
      "    BTC - {'free': 0.5000000000000001, 'used': 0.0, 'total': 0.5000000000000001}\n",
      "    ETH - {'free': 5.0, 'used': 0.0, 'total': 5.0}\n",
      "POSITIONS\n",
      "     {'asset': 'ETH/BTC', 'quantity': 5, 'cost_price': 0.1, 'latest_price': 0.1}\n",
      "METRICS\n",
      "    SMA: 5.00\n",
      "    RSI: 10.00\n"
     ]
    },
    {
     "name": "stdout",
     "output_type": "stream",
     "text": [
      "{'id': '198e238170f84eee8bc82bbeb98278a5', 'asset': 'ETH/BTC', 'price': 0.1, 'quantity': 1, 'type': 'limit', 'side': 'sell', 'filled': 0.0, 'status': 'FILLED', 'fee': {}}\n"
     ]
    },
    {
     "ename": "KeyboardInterrupt",
     "evalue": "",
     "output_type": "error",
     "traceback": [
      "\u001b[0;31m---------------------------------------------------------------------------\u001b[0m",
      "\u001b[0;31mKeyboardInterrupt\u001b[0m                         Traceback (most recent call last)",
      "\u001b[0;32m<ipython-input-4-e596b2deb093>\u001b[0m in \u001b[0;36m<module>\u001b[0;34m()\u001b[0m\n\u001b[1;32m     29\u001b[0m \u001b[0mmystrategy\u001b[0m \u001b[0;34m=\u001b[0m \u001b[0mMyStrategy\u001b[0m\u001b[0;34m(\u001b[0m\u001b[0;34m)\u001b[0m\u001b[0;34m\u001b[0m\u001b[0m\n\u001b[1;32m     30\u001b[0m \u001b[0mcontext\u001b[0m \u001b[0;34m=\u001b[0m \u001b[0mContext\u001b[0m\u001b[0;34m.\u001b[0m\u001b[0mfrom_config\u001b[0m\u001b[0;34m(\u001b[0m\u001b[0mconfig\u001b[0m\u001b[0;34m)\u001b[0m\u001b[0;34m\u001b[0m\u001b[0m\n\u001b[0;32m---> 31\u001b[0;31m \u001b[0mpunisher\u001b[0m\u001b[0;34m.\u001b[0m\u001b[0mpunish\u001b[0m\u001b[0;34m(\u001b[0m\u001b[0mcontext\u001b[0m\u001b[0;34m,\u001b[0m \u001b[0mmystrategy\u001b[0m\u001b[0;34m)\u001b[0m\u001b[0;34m\u001b[0m\u001b[0m\n\u001b[0m",
      "\u001b[0;32m/home/bfortuner/workplace/punisher/trading/punisher.py\u001b[0m in \u001b[0;36mpunish\u001b[0;34m(ctx, strategy)\u001b[0m\n\u001b[1;32m     47\u001b[0m         \u001b[0;31m# Save to file\u001b[0m\u001b[0;34m\u001b[0m\u001b[0;34m\u001b[0m\u001b[0m\n\u001b[1;32m     48\u001b[0m         \u001b[0mrecord\u001b[0m\u001b[0;34m.\u001b[0m\u001b[0msave\u001b[0m\u001b[0;34m(\u001b[0m\u001b[0;34m)\u001b[0m\u001b[0;34m\u001b[0m\u001b[0m\n\u001b[0;32m---> 49\u001b[0;31m         \u001b[0mtime\u001b[0m\u001b[0;34m.\u001b[0m\u001b[0msleep\u001b[0m\u001b[0;34m(\u001b[0m\u001b[0;36m2\u001b[0m\u001b[0;34m)\u001b[0m\u001b[0;34m\u001b[0m\u001b[0m\n\u001b[0m\u001b[1;32m     50\u001b[0m \u001b[0;34m\u001b[0m\u001b[0m\n\u001b[1;32m     51\u001b[0m     \u001b[0;32mreturn\u001b[0m \u001b[0mrecord\u001b[0m\u001b[0;34m\u001b[0m\u001b[0m\n",
      "\u001b[0;31mKeyboardInterrupt\u001b[0m: "
     ]
    }
   ],
   "source": [
    "import shutil\n",
    "from data.store import DATA_STORES, FILE_STORE\n",
    "from data.feed import EXCHANGE_FEED, CSV_FEED\n",
    "\n",
    "config = {\n",
    "    'experiment': 'default',\n",
    "    'exchange_id': c.PAPER,\n",
    "    'cash_asset': c.BTC,\n",
    "    'starting_cash': 1.0,\n",
    "    'store': FILE_STORE,\n",
    "    'feed': {\n",
    "        'name': EXCHANGE_FEED,\n",
    "        'fpath': os.path.join(cfg.DATA_DIR, 'default_feed.csv'),\n",
    "        'symbols': ['ETH/BTC'],\n",
    "        'timeframe': Timeframe.ONE_MIN.name,\n",
    "        'start': '2018-01-10T08:00:00',\n",
    "        'end': None,\n",
    "    },\n",
    "    'balance': {\n",
    "        c.BTC: {'free': 1.0, 'used':0.0, 'total': 1.0},\n",
    "        'free': {c.BTC: 1.0},\n",
    "        'used': {c.BTC: 0.0},\n",
    "        'total': {c.BTC: 1.0},\n",
    "    }\n",
    "}\n",
    "\n",
    "root = os.path.join(cfg.DATA_DIR, config['experiment'])\n",
    "shutil.rmtree(root, ignore_errors=True)\n",
    "mystrategy = MyStrategy()\n",
    "context = Context.from_config(config)\n",
    "punisher.punish(context, mystrategy)"
   ]
  },
  {
   "cell_type": "code",
   "execution_count": null,
   "metadata": {},
   "outputs": [],
   "source": [
    "r = Record.load(root)"
   ]
  },
  {
   "cell_type": "code",
   "execution_count": null,
   "metadata": {},
   "outputs": [],
   "source": [
    "r.save()"
   ]
  },
  {
   "cell_type": "code",
   "execution_count": null,
   "metadata": {},
   "outputs": [],
   "source": [
    "r.ohlcv"
   ]
  },
  {
   "cell_type": "markdown",
   "metadata": {},
   "source": [
    "### ChartDataProviders"
   ]
  },
  {
   "cell_type": "code",
   "execution_count": null,
   "metadata": {},
   "outputs": [],
   "source": []
  },
  {
   "cell_type": "code",
   "execution_count": null,
   "metadata": {},
   "outputs": [],
   "source": []
  },
  {
   "cell_type": "markdown",
   "metadata": {},
   "source": [
    "### Charts"
   ]
  },
  {
   "cell_type": "code",
   "execution_count": null,
   "metadata": {},
   "outputs": [],
   "source": [
    "feed = get_test_csv_feed(c.PAPER)\n",
    "start = feed.history().iloc[0]['time_utc']\n",
    "end = feed.history().iloc[-1]['time_utc']"
   ]
  },
  {
   "cell_type": "code",
   "execution_count": null,
   "metadata": {},
   "outputs": [],
   "source": [
    "# Basic plot\n",
    "utils.charts.plot_range(feed.history(), start, end, 'close')"
   ]
  },
  {
   "cell_type": "code",
   "execution_count": null,
   "metadata": {},
   "outputs": [],
   "source": []
  },
  {
   "cell_type": "code",
   "execution_count": null,
   "metadata": {},
   "outputs": [],
   "source": []
  },
  {
   "cell_type": "markdown",
   "metadata": {},
   "source": [
    "### Dash"
   ]
  },
  {
   "cell_type": "code",
   "execution_count": null,
   "metadata": {},
   "outputs": [],
   "source": [
    "import plotly\n",
    "import plotly.plotly as py\n",
    "import plotly.graph_objs as go\n",
    "\n",
    "periods = record.portfolio.perf.periods\n",
    "df = pd.DataFrame([\n",
    "    [p['end_time'], p['pnl']] for p in periods\n",
    "], columns=['time_utc','pnl'])\n",
    "df"
   ]
  },
  {
   "cell_type": "code",
   "execution_count": null,
   "metadata": {},
   "outputs": [],
   "source": [
    "positions = pd.DataFrame([p.to_dict() for p in record.portfolio.positions])\n",
    "dct = [p.to_dict() for p in record.portfolio.positions]\n",
    "{p['asset']: p for p in dct}"
   ]
  },
  {
   "cell_type": "code",
   "execution_count": null,
   "metadata": {},
   "outputs": [],
   "source": [
    "cols = ['coin', 'free', 'used', 'total']\n",
    "coins = b.currencies\n",
    "dct = b.to_dict()\n",
    "df = pd.DataFrame(\n",
    "    [[c, dct[c]['free'], dct[c]['used'], dct[c]['total']] for c in coins],\n",
    "    columns=cols\n",
    ")\n",
    "df"
   ]
  }
 ],
 "metadata": {
  "kernelspec": {
   "display_name": "Python 3",
   "language": "python",
   "name": "python3"
  },
  "language_info": {
   "codemirror_mode": {
    "name": "ipython",
    "version": 3
   },
   "file_extension": ".py",
   "mimetype": "text/x-python",
   "name": "python",
   "nbconvert_exporter": "python",
   "pygments_lexer": "ipython3",
   "version": "3.6.0"
  },
  "latex_envs": {
   "LaTeX_envs_menu_present": true,
   "autocomplete": true,
   "bibliofile": "biblio.bib",
   "cite_by": "apalike",
   "current_citInitial": 1,
   "eqLabelWithNumbers": true,
   "eqNumInitial": 1,
   "hotkeys": {
    "equation": "Ctrl-E",
    "itemize": "Ctrl-I"
   },
   "labels_anchors": false,
   "latex_user_defs": false,
   "report_style_numbering": false,
   "user_envs_cfg": false
  },
  "toc": {
   "colors": {
    "hover_highlight": "#DAA520",
    "navigate_num": "#000000",
    "navigate_text": "#333333",
    "running_highlight": "#FF0000",
    "selected_highlight": "#FFD700",
    "sidebar_border": "#EEEEEE",
    "wrapper_background": "#FFFFFF"
   },
   "moveMenuLeft": true,
   "nav_menu": {
    "height": "71px",
    "width": "254px"
   },
   "navigate_menu": true,
   "number_sections": true,
   "sideBar": true,
   "threshold": 4,
   "toc_cell": false,
   "toc_section_display": "block",
   "toc_window_display": false,
   "widenNotebook": false
  }
 },
 "nbformat": 4,
 "nbformat_minor": 2
}
