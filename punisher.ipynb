{
 "cells": [
  {
   "cell_type": "code",
   "execution_count": 13,
   "metadata": {},
   "outputs": [
    {
     "name": "stdout",
     "output_type": "stream",
     "text": [
      "The autoreload extension is already loaded. To reload it, use:\n",
      "  %reload_ext autoreload\n"
     ]
    }
   ],
   "source": [
    "%matplotlib inline\n",
    "%load_ext autoreload\n",
    "%autoreload 2\n",
    "from common import *\n",
    "import qgrid"
   ]
  },
  {
   "cell_type": "markdown",
   "metadata": {},
   "source": [
    "### CCXT"
   ]
  },
  {
   "cell_type": "code",
   "execution_count": 14,
   "metadata": {},
   "outputs": [],
   "source": [
    "polo = ccxt.poloniex({\n",
    "    'apiKey': cfg.POLONIEX_API_KEY,\n",
    "    'secret': cfg.POLONIEX_API_SECRET_KEY,\n",
    "})\n",
    "gdax = ccxt.gdax({\n",
    "    'apiKey': cfg.GDAX_API_KEY,\n",
    "    'secret': cfg.GDAX_API_SECRET_KEY,\n",
    "    'password': cfg.GDAX_PASSPHRASE,\n",
    "    'verbose':False,\n",
    "})\n",
    "binance = ccxt.binance()\n",
    "\n",
    "exchange = binance\n",
    "markets = exchange.load_markets()"
   ]
  },
  {
   "cell_type": "markdown",
   "metadata": {},
   "source": [
    "### Ingest Data"
   ]
  },
  {
   "cell_type": "code",
   "execution_count": 15,
   "metadata": {},
   "outputs": [],
   "source": [
    "base = c.LTC\n",
    "quote = c.USDT\n",
    "asset = Asset(base, quote)\n",
    "assets = [ Asset(coin, quote) for coin in [c.BTC, c.ETH, c.LTC] ]\n",
    "period = '1m' \n",
    "start = datetime.datetime.utcnow() - datetime.timedelta(hours=2)\n",
    "end = datetime.datetime.utcnow() - datetime.timedelta(hours=0)"
   ]
  },
  {
   "cell_type": "code",
   "execution_count": 16,
   "metadata": {},
   "outputs": [
    {
     "name": "stdout",
     "output_type": "stream",
     "text": [
      "Downloading: LTC/USDT\n",
      "Downloaded rows: 120\n"
     ]
    },
    {
     "data": {
      "text/html": [
       "<div>\n",
       "<table border=\"1\" class=\"dataframe\">\n",
       "  <thead>\n",
       "    <tr style=\"text-align: right;\">\n",
       "      <th></th>\n",
       "      <th>open</th>\n",
       "      <th>high</th>\n",
       "      <th>low</th>\n",
       "      <th>close</th>\n",
       "      <th>volume</th>\n",
       "      <th>time_utc</th>\n",
       "    </tr>\n",
       "    <tr>\n",
       "      <th>time_epoch</th>\n",
       "      <th></th>\n",
       "      <th></th>\n",
       "      <th></th>\n",
       "      <th></th>\n",
       "      <th></th>\n",
       "      <th></th>\n",
       "    </tr>\n",
       "  </thead>\n",
       "  <tbody>\n",
       "    <tr>\n",
       "      <th>1515270660</th>\n",
       "      <td>281.19</td>\n",
       "      <td>282.24</td>\n",
       "      <td>280.56</td>\n",
       "      <td>282.23</td>\n",
       "      <td>9.59044</td>\n",
       "      <td>2018-01-06 20:31:00</td>\n",
       "    </tr>\n",
       "    <tr>\n",
       "      <th>1515270720</th>\n",
       "      <td>281.40</td>\n",
       "      <td>281.65</td>\n",
       "      <td>281.40</td>\n",
       "      <td>281.65</td>\n",
       "      <td>8.63000</td>\n",
       "      <td>2018-01-06 20:32:00</td>\n",
       "    </tr>\n",
       "    <tr>\n",
       "      <th>1515270780</th>\n",
       "      <td>281.81</td>\n",
       "      <td>282.53</td>\n",
       "      <td>281.79</td>\n",
       "      <td>282.47</td>\n",
       "      <td>4.72055</td>\n",
       "      <td>2018-01-06 20:33:00</td>\n",
       "    </tr>\n",
       "    <tr>\n",
       "      <th>1515270840</th>\n",
       "      <td>281.65</td>\n",
       "      <td>282.38</td>\n",
       "      <td>281.59</td>\n",
       "      <td>282.30</td>\n",
       "      <td>9.05910</td>\n",
       "      <td>2018-01-06 20:34:00</td>\n",
       "    </tr>\n",
       "    <tr>\n",
       "      <th>1515270900</th>\n",
       "      <td>282.26</td>\n",
       "      <td>282.97</td>\n",
       "      <td>282.26</td>\n",
       "      <td>282.97</td>\n",
       "      <td>52.62217</td>\n",
       "      <td>2018-01-06 20:35:00</td>\n",
       "    </tr>\n",
       "  </tbody>\n",
       "</table>\n",
       "</div>"
      ],
      "text/plain": [
       "              open    high     low   close    volume            time_utc\n",
       "time_epoch                                                              \n",
       "1515270660  281.19  282.24  280.56  282.23   9.59044 2018-01-06 20:31:00\n",
       "1515270720  281.40  281.65  281.40  281.65   8.63000 2018-01-06 20:32:00\n",
       "1515270780  281.81  282.53  281.79  282.47   4.72055 2018-01-06 20:33:00\n",
       "1515270840  281.65  282.38  281.59  282.30   9.05910 2018-01-06 20:34:00\n",
       "1515270900  282.26  282.97  282.26  282.97  52.62217 2018-01-06 20:35:00"
      ]
     },
     "execution_count": 16,
     "metadata": {},
     "output_type": "execute_result"
    }
   ],
   "source": [
    "# Single Coin\n",
    "df = ohlcv.fetch_and_save_ohlcv_data(exchange, asset, period, start, end)\n",
    "df.head()"
   ]
  },
  {
   "cell_type": "code",
   "execution_count": 17,
   "metadata": {},
   "outputs": [],
   "source": [
    "# Load from File\n",
    "fpath = ohlcv.get_price_data_fpath(asset, exchange.id, period)\n",
    "df = ohlcv.load_chart_data_from_file(fpath)"
   ]
  },
  {
   "cell_type": "code",
   "execution_count": 20,
   "metadata": {},
   "outputs": [
    {
     "name": "stdout",
     "output_type": "stream",
     "text": [
      "Downloading: BTC/USDT\n",
      "Downloaded rows: 120\n",
      "Downloading: ETH/USDT\n",
      "Downloaded rows: 120\n",
      "Downloading: LTC/USDT\n",
      "Downloaded rows: 120\n"
     ]
    },
    {
     "data": {
      "text/html": [
       "<div>\n",
       "<table border=\"1\" class=\"dataframe\">\n",
       "  <thead>\n",
       "    <tr style=\"text-align: right;\">\n",
       "      <th></th>\n",
       "      <th>BTC_USDT</th>\n",
       "      <th>ETH_USDT</th>\n",
       "      <th>LTC_USDT</th>\n",
       "      <th>time_utc</th>\n",
       "    </tr>\n",
       "    <tr>\n",
       "      <th>time_epoch</th>\n",
       "      <th></th>\n",
       "      <th></th>\n",
       "      <th></th>\n",
       "      <th></th>\n",
       "    </tr>\n",
       "  </thead>\n",
       "  <tbody>\n",
       "    <tr>\n",
       "      <th>1515270660</th>\n",
       "      <td>16799.89</td>\n",
       "      <td>1009.61</td>\n",
       "      <td>282.23</td>\n",
       "      <td>2018-01-06 20:31:00</td>\n",
       "    </tr>\n",
       "    <tr>\n",
       "      <th>1515270720</th>\n",
       "      <td>16783.25</td>\n",
       "      <td>1009.75</td>\n",
       "      <td>281.65</td>\n",
       "      <td>2018-01-06 20:32:00</td>\n",
       "    </tr>\n",
       "    <tr>\n",
       "      <th>1515270780</th>\n",
       "      <td>16782.99</td>\n",
       "      <td>1009.54</td>\n",
       "      <td>282.47</td>\n",
       "      <td>2018-01-06 20:33:00</td>\n",
       "    </tr>\n",
       "    <tr>\n",
       "      <th>1515270840</th>\n",
       "      <td>16759.99</td>\n",
       "      <td>1009.57</td>\n",
       "      <td>282.30</td>\n",
       "      <td>2018-01-06 20:34:00</td>\n",
       "    </tr>\n",
       "    <tr>\n",
       "      <th>1515270900</th>\n",
       "      <td>16769.98</td>\n",
       "      <td>1007.50</td>\n",
       "      <td>282.97</td>\n",
       "      <td>2018-01-06 20:35:00</td>\n",
       "    </tr>\n",
       "  </tbody>\n",
       "</table>\n",
       "</div>"
      ],
      "text/plain": [
       "            BTC_USDT  ETH_USDT  LTC_USDT            time_utc\n",
       "time_epoch                                                  \n",
       "1515270660  16799.89   1009.61    282.23 2018-01-06 20:31:00\n",
       "1515270720  16783.25   1009.75    281.65 2018-01-06 20:32:00\n",
       "1515270780  16782.99   1009.54    282.47 2018-01-06 20:33:00\n",
       "1515270840  16759.99   1009.57    282.30 2018-01-06 20:34:00\n",
       "1515270900  16769.98   1007.50    282.97 2018-01-06 20:35:00"
      ]
     },
     "execution_count": 20,
     "metadata": {},
     "output_type": "execute_result"
    }
   ],
   "source": [
    "# Multiple Coins\n",
    "ohlcv.download_chart_data(exchange, assets, period, start, end)\n",
    "df = ohlcv.load_multiple_assets(exchange.id, assets, period, start)\n",
    "df.head()"
   ]
  },
  {
   "cell_type": "markdown",
   "metadata": {},
   "source": [
    "### Feeds"
   ]
  },
  {
   "cell_type": "code",
   "execution_count": 22,
   "metadata": {},
   "outputs": [
    {
     "name": "stdout",
     "output_type": "stream",
     "text": [
      "Loading feed: data/binance_LTC_USDT_1m.csv\n",
      "START 0001-01-01 01:01:00\n",
      "PRIOR 0001-01-01 01:00:00\n"
     ]
    }
   ],
   "source": [
    "# CSV Feed\n",
    "feed_fpath = ohlcv.get_price_data_fpath(asset, exchange.id, period='1m')\n",
    "feed = CSVDataFeed(feed_fpath)\n",
    "feed.initialize()"
   ]
  },
  {
   "cell_type": "code",
   "execution_count": 23,
   "metadata": {},
   "outputs": [
    {
     "name": "stdout",
     "output_type": "stream",
     "text": [
      "2018-01-06 20:31:00 282.23\n",
      "2018-01-06 20:32:00 281.65\n",
      "2018-01-06 20:33:00 282.47\n"
     ]
    }
   ],
   "source": [
    "# Grab 1 row at a time\n",
    "for i in range(3):\n",
    "    data = feed.next()\n",
    "    print(data['time_utc'], data['close'])"
   ]
  },
  {
   "cell_type": "code",
   "execution_count": 24,
   "metadata": {},
   "outputs": [
    {
     "data": {
      "text/html": [
       "<div>\n",
       "<table border=\"1\" class=\"dataframe\">\n",
       "  <thead>\n",
       "    <tr style=\"text-align: right;\">\n",
       "      <th></th>\n",
       "      <th>open</th>\n",
       "      <th>high</th>\n",
       "      <th>low</th>\n",
       "      <th>close</th>\n",
       "      <th>volume</th>\n",
       "      <th>time_utc</th>\n",
       "    </tr>\n",
       "    <tr>\n",
       "      <th>time_epoch</th>\n",
       "      <th></th>\n",
       "      <th></th>\n",
       "      <th></th>\n",
       "      <th></th>\n",
       "      <th></th>\n",
       "      <th></th>\n",
       "    </tr>\n",
       "  </thead>\n",
       "  <tbody>\n",
       "    <tr>\n",
       "      <th>1515270660</th>\n",
       "      <td>281.19</td>\n",
       "      <td>282.24</td>\n",
       "      <td>280.56</td>\n",
       "      <td>282.23</td>\n",
       "      <td>9.59044</td>\n",
       "      <td>2018-01-06 20:31:00</td>\n",
       "    </tr>\n",
       "    <tr>\n",
       "      <th>1515270720</th>\n",
       "      <td>281.40</td>\n",
       "      <td>281.65</td>\n",
       "      <td>281.40</td>\n",
       "      <td>281.65</td>\n",
       "      <td>8.63000</td>\n",
       "      <td>2018-01-06 20:32:00</td>\n",
       "    </tr>\n",
       "    <tr>\n",
       "      <th>1515270780</th>\n",
       "      <td>281.81</td>\n",
       "      <td>282.53</td>\n",
       "      <td>281.79</td>\n",
       "      <td>282.47</td>\n",
       "      <td>4.72055</td>\n",
       "      <td>2018-01-06 20:33:00</td>\n",
       "    </tr>\n",
       "    <tr>\n",
       "      <th>1515270840</th>\n",
       "      <td>281.65</td>\n",
       "      <td>282.38</td>\n",
       "      <td>281.59</td>\n",
       "      <td>282.30</td>\n",
       "      <td>9.05910</td>\n",
       "      <td>2018-01-06 20:34:00</td>\n",
       "    </tr>\n",
       "    <tr>\n",
       "      <th>1515270900</th>\n",
       "      <td>282.26</td>\n",
       "      <td>282.97</td>\n",
       "      <td>282.26</td>\n",
       "      <td>282.97</td>\n",
       "      <td>52.62217</td>\n",
       "      <td>2018-01-06 20:35:00</td>\n",
       "    </tr>\n",
       "  </tbody>\n",
       "</table>\n",
       "</div>"
      ],
      "text/plain": [
       "              open    high     low   close    volume            time_utc\n",
       "time_epoch                                                              \n",
       "1515270660  281.19  282.24  280.56  282.23   9.59044 2018-01-06 20:31:00\n",
       "1515270720  281.40  281.65  281.40  281.65   8.63000 2018-01-06 20:32:00\n",
       "1515270780  281.81  282.53  281.79  282.47   4.72055 2018-01-06 20:33:00\n",
       "1515270840  281.65  282.38  281.59  282.30   9.05910 2018-01-06 20:34:00\n",
       "1515270900  282.26  282.97  282.26  282.97  52.62217 2018-01-06 20:35:00"
      ]
     },
     "execution_count": 24,
     "metadata": {},
     "output_type": "execute_result"
    }
   ],
   "source": [
    "# Access all rows in history\n",
    "feed.history().head()"
   ]
  },
  {
   "cell_type": "code",
   "execution_count": 25,
   "metadata": {},
   "outputs": [],
   "source": [
    "# Exchange Live Feed\n",
    "start = datetime.datetime.utcnow() - datetime.timedelta(hours=1)\n",
    "end = None\n",
    "feed_fpath = ohlcv.get_price_data_fpath(asset, exchange.id, period='1m')"
   ]
  },
  {
   "cell_type": "code",
   "execution_count": 27,
   "metadata": {},
   "outputs": [
    {
     "name": "stdout",
     "output_type": "stream",
     "text": [
      "Loading feed: data/binance_LTC_USDT_1m.csv\n",
      "START 2018-01-06 21:32:38.509572\n",
      "PRIOR 2018-01-06 21:31:38.509572\n",
      "Downloading: BTC/USDT\n",
      "Downloaded rows: 64\n"
     ]
    }
   ],
   "source": [
    "feed = ExchangeDataFeed(exchange, [assets[0]], period, feed_fpath, start, end)\n",
    "feed.initialize()"
   ]
  },
  {
   "cell_type": "code",
   "execution_count": 28,
   "metadata": {},
   "outputs": [
    {
     "data": {
      "text/html": [
       "<div>\n",
       "<table border=\"1\" class=\"dataframe\">\n",
       "  <thead>\n",
       "    <tr style=\"text-align: right;\">\n",
       "      <th></th>\n",
       "      <th>open</th>\n",
       "      <th>high</th>\n",
       "      <th>low</th>\n",
       "      <th>close</th>\n",
       "      <th>volume</th>\n",
       "      <th>time_utc</th>\n",
       "    </tr>\n",
       "    <tr>\n",
       "      <th>time_epoch</th>\n",
       "      <th></th>\n",
       "      <th></th>\n",
       "      <th></th>\n",
       "      <th></th>\n",
       "      <th></th>\n",
       "      <th></th>\n",
       "    </tr>\n",
       "  </thead>\n",
       "  <tbody>\n",
       "    <tr>\n",
       "      <th>1515277980</th>\n",
       "      <td>17048.97</td>\n",
       "      <td>17048.98</td>\n",
       "      <td>16974.50</td>\n",
       "      <td>17019.98</td>\n",
       "      <td>5.346269</td>\n",
       "      <td>2018-01-06 22:33:00</td>\n",
       "    </tr>\n",
       "    <tr>\n",
       "      <th>1515278040</th>\n",
       "      <td>16962.69</td>\n",
       "      <td>17019.96</td>\n",
       "      <td>16958.31</td>\n",
       "      <td>16962.01</td>\n",
       "      <td>30.203132</td>\n",
       "      <td>2018-01-06 22:34:00</td>\n",
       "    </tr>\n",
       "    <tr>\n",
       "      <th>1515278100</th>\n",
       "      <td>16962.71</td>\n",
       "      <td>16962.71</td>\n",
       "      <td>16953.26</td>\n",
       "      <td>16962.00</td>\n",
       "      <td>5.786346</td>\n",
       "      <td>2018-01-06 22:35:00</td>\n",
       "    </tr>\n",
       "  </tbody>\n",
       "</table>\n",
       "</div>"
      ],
      "text/plain": [
       "                open      high       low     close     volume  \\\n",
       "time_epoch                                                      \n",
       "1515277980  17048.97  17048.98  16974.50  17019.98   5.346269   \n",
       "1515278040  16962.69  17019.96  16958.31  16962.01  30.203132   \n",
       "1515278100  16962.71  16962.71  16953.26  16962.00   5.786346   \n",
       "\n",
       "                      time_utc  \n",
       "time_epoch                      \n",
       "1515277980 2018-01-06 22:33:00  \n",
       "1515278040 2018-01-06 22:34:00  \n",
       "1515278100 2018-01-06 22:35:00  "
      ]
     },
     "execution_count": 28,
     "metadata": {},
     "output_type": "execute_result"
    }
   ],
   "source": [
    "# Access History\n",
    "feed.history(t_minus=3).tail()"
   ]
  },
  {
   "cell_type": "code",
   "execution_count": 29,
   "metadata": {},
   "outputs": [
    {
     "name": "stdout",
     "output_type": "stream",
     "text": [
      "2018-01-06 21:33:00 16680.0\n",
      "2018-01-06 21:34:00 16690.01\n",
      "2018-01-06 21:35:00 16690.02\n"
     ]
    }
   ],
   "source": [
    "# Grab 1 row at a time (don't refresh data)\n",
    "for i in range(3):\n",
    "    data = feed.next(refresh=False)\n",
    "    print(data['time_utc'], data['close'])"
   ]
  },
  {
   "cell_type": "code",
   "execution_count": 30,
   "metadata": {},
   "outputs": [
    {
     "name": "stdout",
     "output_type": "stream",
     "text": [
      "Downloading: BTC/USDT\n",
      "Downloaded rows: 61\n",
      "2018-01-06 21:36:00 16690.03\n"
     ]
    }
   ],
   "source": [
    "# Refresh data before next query\n",
    "data = feed.next(refresh=True)\n",
    "print(data['time_utc'], data['close'])"
   ]
  },
  {
   "cell_type": "code",
   "execution_count": 32,
   "metadata": {},
   "outputs": [],
   "source": [
    "# Example Using the Feed\n",
    "\n",
    "def my_strategy(row, history, exchange):\n",
    "    print(\"Time:\", row['time_utc'], \"Price:\", row['close'])\n",
    "    if row['close'] > .024:\n",
    "        print(\"Buying coin\")\n",
    "        #res = exchange.limit_buy(quantity=1, price=5)\n",
    "    else:\n",
    "        print(\"Selling that stupid coin\")\n",
    "    return {\n",
    "        'time': row['time_utc'],\n",
    "        'close': row['close'],\n",
    "        'action': 'buy',\n",
    "        'quantity': 1,\n",
    "        'price': 5,\n",
    "        'exchange': exchange.id\n",
    "    }\n",
    "\n",
    "def backtest(feed, strategy, exchange):\n",
    "    results = []\n",
    "    row = feed.next()\n",
    "    while row is not None:\n",
    "        output = strategy(row, feed, exchange)\n",
    "        row = feed.next(refresh=True)\n",
    "        results.append(output)\n",
    "    return results"
   ]
  },
  {
   "cell_type": "code",
   "execution_count": 33,
   "metadata": {
    "scrolled": false
   },
   "outputs": [
    {
     "name": "stdout",
     "output_type": "stream",
     "text": [
      "Time: 2018-01-06 21:37:00 Price: 16689.98\n",
      "Buying coin\n",
      "Downloading: BTC/USDT\n",
      "Downloaded rows: 59\n",
      "Time: 2018-01-06 21:38:00 Price: 16700.0\n",
      "Buying coin\n",
      "Downloading: BTC/USDT\n",
      "Downloaded rows: 58\n",
      "Time: 2018-01-06 21:39:00 Price: 16700.03\n",
      "Buying coin\n",
      "Downloading: BTC/USDT\n",
      "Downloaded rows: 57\n",
      "Time: 2018-01-06 21:40:00 Price: 16759.04\n",
      "Buying coin\n",
      "Downloading: BTC/USDT\n",
      "Downloaded rows: 56\n",
      "Time: 2018-01-06 21:41:00 Price: 16730.0\n",
      "Buying coin\n",
      "Downloading: BTC/USDT\n",
      "Downloaded rows: 55\n",
      "Time: 2018-01-06 21:42:00 Price: 16769.0\n",
      "Buying coin\n",
      "Downloading: BTC/USDT\n",
      "Downloaded rows: 54\n",
      "Time: 2018-01-06 21:43:00 Price: 16768.99\n",
      "Buying coin\n",
      "Downloading: BTC/USDT\n",
      "Downloaded rows: 53\n",
      "Time: 2018-01-06 21:44:00 Price: 16790.84\n",
      "Buying coin\n",
      "Downloading: BTC/USDT\n",
      "Downloaded rows: 52\n",
      "Time: 2018-01-06 21:45:00 Price: 16802.0\n",
      "Buying coin\n",
      "Downloading: BTC/USDT\n",
      "Downloaded rows: 51\n",
      "Time: 2018-01-06 21:46:00 Price: 16770.0\n",
      "Buying coin\n",
      "Downloading: BTC/USDT\n",
      "Downloaded rows: 50\n",
      "Time: 2018-01-06 21:47:00 Price: 16793.83\n",
      "Buying coin\n",
      "Downloading: BTC/USDT\n",
      "Downloaded rows: 49\n",
      "Time: 2018-01-06 21:48:00 Price: 16801.0\n",
      "Buying coin\n",
      "Downloading: BTC/USDT\n",
      "Downloaded rows: 48\n",
      "Time: 2018-01-06 21:49:00 Price: 16784.87\n",
      "Buying coin\n",
      "Downloading: BTC/USDT\n",
      "Downloaded rows: 47\n",
      "Time: 2018-01-06 21:50:00 Price: 16770.0\n",
      "Buying coin\n",
      "Downloading: BTC/USDT\n",
      "Downloaded rows: 46\n",
      "Time: 2018-01-06 21:51:00 Price: 16789.96\n",
      "Buying coin\n",
      "Downloading: BTC/USDT\n",
      "Downloaded rows: 45\n",
      "Time: 2018-01-06 21:52:00 Price: 16746.99\n",
      "Buying coin\n",
      "Downloading: BTC/USDT\n",
      "Downloaded rows: 44\n",
      "Time: 2018-01-06 21:53:00 Price: 16746.0\n",
      "Buying coin\n",
      "Downloading: BTC/USDT\n",
      "Downloaded rows: 43\n",
      "Time: 2018-01-06 21:54:00 Price: 16744.0\n",
      "Buying coin\n",
      "Downloading: BTC/USDT\n",
      "Downloaded rows: 42\n",
      "Time: 2018-01-06 21:55:00 Price: 16774.99\n",
      "Buying coin\n",
      "Downloading: BTC/USDT\n",
      "Downloaded rows: 41\n",
      "Time: 2018-01-06 21:56:00 Price: 16789.88\n",
      "Buying coin\n",
      "Downloading: BTC/USDT\n",
      "Downloaded rows: 40\n",
      "Time: 2018-01-06 21:57:00 Price: 16790.0\n",
      "Buying coin\n",
      "Downloading: BTC/USDT\n",
      "Downloaded rows: 39\n",
      "Time: 2018-01-06 21:58:00 Price: 16753.2\n",
      "Buying coin\n",
      "Downloading: BTC/USDT\n",
      "Downloaded rows: 38\n",
      "Time: 2018-01-06 21:59:00 Price: 16790.99\n",
      "Buying coin\n",
      "Downloading: BTC/USDT\n",
      "Downloaded rows: 37\n",
      "Time: 2018-01-06 22:00:00 Price: 16790.99\n",
      "Buying coin\n",
      "Downloading: BTC/USDT\n",
      "Downloaded rows: 36\n",
      "Time: 2018-01-06 22:01:00 Price: 16791.99\n",
      "Buying coin\n",
      "Downloading: BTC/USDT\n",
      "Downloaded rows: 35\n",
      "Time: 2018-01-06 22:02:00 Price: 16791.99\n",
      "Buying coin\n",
      "Downloading: BTC/USDT\n",
      "Downloaded rows: 34\n",
      "Time: 2018-01-06 22:03:00 Price: 16792.0\n",
      "Buying coin\n",
      "Downloading: BTC/USDT\n",
      "Downloaded rows: 33\n",
      "Time: 2018-01-06 22:04:00 Price: 16792.0\n",
      "Buying coin\n",
      "Downloading: BTC/USDT\n",
      "Downloaded rows: 32\n",
      "Time: 2018-01-06 22:05:00 Price: 16818.98\n",
      "Buying coin\n",
      "Downloading: BTC/USDT\n",
      "Downloaded rows: 31\n",
      "Time: 2018-01-06 22:06:00 Price: 16860.08\n",
      "Buying coin\n",
      "Downloading: BTC/USDT\n",
      "Downloaded rows: 30\n",
      "Time: 2018-01-06 22:07:00 Price: 16899.99\n",
      "Buying coin\n",
      "Downloading: BTC/USDT\n",
      "Downloaded rows: 29\n",
      "Time: 2018-01-06 22:08:00 Price: 16929.58\n",
      "Buying coin\n",
      "Downloading: BTC/USDT\n",
      "Downloaded rows: 28\n",
      "Time: 2018-01-06 22:09:00 Price: 16903.07\n",
      "Buying coin\n",
      "Downloading: BTC/USDT\n",
      "Downloaded rows: 27\n",
      "Time: 2018-01-06 22:10:00 Price: 16930.6\n",
      "Buying coin\n",
      "Downloading: BTC/USDT\n",
      "Downloaded rows: 26\n",
      "Time: 2018-01-06 22:11:00 Price: 16998.0\n",
      "Buying coin\n",
      "Downloading: BTC/USDT\n",
      "Downloaded rows: 25\n",
      "Time: 2018-01-06 22:12:00 Price: 16999.95\n",
      "Buying coin\n",
      "Downloading: BTC/USDT\n",
      "Downloaded rows: 24\n",
      "Time: 2018-01-06 22:13:00 Price: 17020.97\n",
      "Buying coin\n",
      "Downloading: BTC/USDT\n",
      "Downloaded rows: 23\n",
      "Time: 2018-01-06 22:14:00 Price: 17050.01\n",
      "Buying coin\n",
      "Downloading: BTC/USDT\n",
      "Downloaded rows: 22\n",
      "Time: 2018-01-06 22:15:00 Price: 17014.95\n",
      "Buying coin\n",
      "Downloading: BTC/USDT\n",
      "Downloaded rows: 21\n",
      "Time: 2018-01-06 22:16:00 Price: 17046.01\n",
      "Buying coin\n",
      "Downloading: BTC/USDT\n",
      "Downloaded rows: 20\n",
      "Time: 2018-01-06 22:17:00 Price: 17079.97\n",
      "Buying coin\n",
      "Downloading: BTC/USDT\n",
      "Downloaded rows: 19\n",
      "Time: 2018-01-06 22:18:00 Price: 17075.0\n",
      "Buying coin\n",
      "Downloading: BTC/USDT\n",
      "Downloaded rows: 18\n",
      "Time: 2018-01-06 22:19:00 Price: 17057.98\n",
      "Buying coin\n",
      "Downloading: BTC/USDT\n",
      "Downloaded rows: 17\n",
      "Time: 2018-01-06 22:20:00 Price: 17000.0\n",
      "Buying coin\n",
      "Downloading: BTC/USDT\n",
      "Downloaded rows: 16\n",
      "Time: 2018-01-06 22:21:00 Price: 17002.01\n",
      "Buying coin\n",
      "Downloading: BTC/USDT\n",
      "Downloaded rows: 15\n",
      "Time: 2018-01-06 22:22:00 Price: 17099.99\n",
      "Buying coin\n",
      "Downloading: BTC/USDT\n",
      "Downloaded rows: 14\n",
      "Time: 2018-01-06 22:23:00 Price: 17095.02\n",
      "Buying coin\n",
      "Downloading: BTC/USDT\n",
      "Downloaded rows: 13\n",
      "Time: 2018-01-06 22:24:00 Price: 17096.0\n",
      "Buying coin\n",
      "Downloading: BTC/USDT\n",
      "Downloaded rows: 12\n",
      "Time: 2018-01-06 22:25:00 Price: 17100.01\n",
      "Buying coin\n",
      "Downloading: BTC/USDT\n",
      "Downloaded rows: 11\n",
      "Time: 2018-01-06 22:26:00 Price: 17079.95\n",
      "Buying coin\n",
      "Downloading: BTC/USDT\n",
      "Downloaded rows: 10\n",
      "Time: 2018-01-06 22:27:00 Price: 17053.01\n",
      "Buying coin\n",
      "Downloading: BTC/USDT\n",
      "Downloaded rows: 9\n",
      "Time: 2018-01-06 22:28:00 Price: 17030.99\n",
      "Buying coin\n",
      "Downloading: BTC/USDT\n",
      "Downloaded rows: 8\n",
      "Time: 2018-01-06 22:29:00 Price: 17077.0\n",
      "Buying coin\n",
      "Downloading: BTC/USDT\n",
      "Downloaded rows: 7\n",
      "Time: 2018-01-06 22:30:00 Price: 17090.0\n",
      "Buying coin\n",
      "Downloading: BTC/USDT\n",
      "Downloaded rows: 6\n",
      "Time: 2018-01-06 22:31:00 Price: 17055.03\n",
      "Buying coin\n",
      "Downloading: BTC/USDT\n",
      "Downloaded rows: 5\n",
      "Time: 2018-01-06 22:32:00 Price: 17048.98\n",
      "Buying coin\n",
      "Downloading: BTC/USDT\n",
      "Downloaded rows: 4\n",
      "Time: 2018-01-06 22:33:00 Price: 17019.98\n",
      "Buying coin\n",
      "Downloading: BTC/USDT\n",
      "Downloaded rows: 3\n",
      "Time: 2018-01-06 22:34:00 Price: 16962.01\n",
      "Buying coin\n",
      "Downloading: BTC/USDT\n",
      "Downloaded rows: 2\n",
      "Time: 2018-01-06 22:35:00 Price: 16962.7\n",
      "Buying coin\n",
      "Downloading: BTC/USDT\n",
      "Downloaded rows: 1\n",
      "No data after prior poll: 2018-01-06 22:35:00\n"
     ]
    }
   ],
   "source": [
    "res = backtest(feed, my_strategy, exchange)"
   ]
  },
  {
   "cell_type": "markdown",
   "metadata": {},
   "source": [
    "### Order"
   ]
  },
  {
   "cell_type": "code",
   "execution_count": 39,
   "metadata": {},
   "outputs": [
    {
     "data": {
      "text/plain": [
       "{\n",
       "    \"id\": \"b53fe28577fb434cb8e00104ccbcebfc\",\n",
       "    \"exchange_id\": \"binance\",\n",
       "    \"exchange_order_id\": null,\n",
       "    \"asset\": {\n",
       "        \"id\": \"LTC_USDT\",\n",
       "        \"symbol\": \"LTC/USDT\",\n",
       "        \"base\": \"LTC\",\n",
       "        \"quote\": \"USDT\"\n",
       "    },\n",
       "    \"price\": 250.0,\n",
       "    \"quantity\": 1,\n",
       "    \"filled\": 0,\n",
       "    \"order_type\": \"LIMIT_BUY\",\n",
       "    \"status\": \"NEW\",\n",
       "    \"created_time\": \"2018-01-06T22:35:52.983687\",\n",
       "    \"opened_time\": null,\n",
       "    \"filled_time\": null,\n",
       "    \"canceled_time\": null,\n",
       "    \"retries\": 0\n",
       "}"
      ]
     },
     "execution_count": 39,
     "metadata": {},
     "output_type": "execute_result"
    }
   ],
   "source": [
    "asset = Asset(c.LTC, c.USDT)\n",
    "order = Order(\n",
    "    exchange_id=exchange.id, \n",
    "    asset=asset,\n",
    "    price=250., \n",
    "    quantity=1, \n",
    "    order_type=OrderType.LIMIT_BUY\n",
    ")\n",
    "order"
   ]
  },
  {
   "cell_type": "markdown",
   "metadata": {},
   "source": [
    "### Strategy"
   ]
  },
  {
   "cell_type": "code",
   "execution_count": null,
   "metadata": {},
   "outputs": [],
   "source": [
    "# https://www.backtrader.com/docu/quickstart/quickstart.html\n",
    "# https://enigmampc.github.io/catalyst/beginner-tutorial.html#basics\n",
    "\n",
    "class Strategy():\n",
    "    def __init__(self, context):\n",
    "        self.ctx = context\n",
    "        self.initialize()\n",
    "    \n",
    "    def initialize(self):\n",
    "        self.ctx.symbol = 'BTC/USD'\n",
    "    \n",
    "    def handle_data(self, data):\n",
    "        # Handle next iteration of data from feed\n",
    "        pass\n",
    "    \n",
    "class TestStrategy():\n",
    "    def __init__(self):\n",
    "        pass\n",
    "    \n",
    "    def next(self, data):\n",
    "        pass"
   ]
  },
  {
   "cell_type": "markdown",
   "metadata": {},
   "source": [
    "### Plotting"
   ]
  },
  {
   "cell_type": "code",
   "execution_count": null,
   "metadata": {},
   "outputs": [],
   "source": [
    "utils.charts.plot_range(feed.history(), start, end, 'close')"
   ]
  },
  {
   "cell_type": "markdown",
   "metadata": {},
   "source": [
    "### Exchange"
   ]
  },
  {
   "cell_type": "code",
   "execution_count": null,
   "metadata": {},
   "outputs": [],
   "source": [
    "ex = TestExchange()\n",
    "print(ex.fetch_balance())\n",
    "orders = ex.limit_buy(c.BTC, c.USD, 1, 15000.0)\n",
    "orders"
   ]
  },
  {
   "cell_type": "code",
   "execution_count": null,
   "metadata": {},
   "outputs": [],
   "source": [
    "EX = CCXTExchange(gdax)"
   ]
  },
  {
   "cell_type": "markdown",
   "metadata": {},
   "source": [
    "### Runner"
   ]
  },
  {
   "cell_type": "code",
   "execution_count": null,
   "metadata": {},
   "outputs": [],
   "source": [
    "@unique\n",
    "class TradeMode(Enum):\n",
    "    BACKTEST = 0\n",
    "    SIMULATE = 1\n",
    "    LIVE = 2\n",
    "\n",
    "\n",
    "class Punisher():\n",
    "    def __init__(self, exchange, feed, strategy, record):\n",
    "        self.exchange = exchange\n",
    "        self.feed = feed\n",
    "        self.strategy = strategy\n",
    "        self.record = record\n",
    "        \n",
    "    def backtest(self):\n",
    "        results = []\n",
    "        row = self.feed.next()\n",
    "        while row is not None:\n",
    "            print(\"Timestep\", row['time_utc'], \"Price\", row['close'])\n",
    "            row = self.feed.next()\n",
    "            output = self.strategy(row, self.exchange, self.feed)\n",
    "            results.append(output)\n",
    "        return results\n",
    "    \n",
    "    def simulate(self):\n",
    "        while True:\n",
    "            row = self.feed.next()\n",
    "            if row is not None:\n",
    "                output = self.strategy(row, self.exchange, self.feed)\n",
    "                self.record['test'].append(output)\n",
    "            time.sleep(2)\n",
    "\n",
    "    def live(self):\n",
    "        while True:\n",
    "            row = self.feed.next()\n",
    "            if row is not None:\n",
    "                output = self.strategy(row, self.exchange, self.feed)\n",
    "                self.record['live'].append(output)\n",
    "            time.sleep(2)\n",
    "    \n",
    "    def punish(self, mode=False):\n",
    "        if mode == TradeMode.BACKTEST:\n",
    "            print(\"Backtesting ...\")\n",
    "            self.backtest()\n",
    "        elif mode == TradeMode.SIMULATE:\n",
    "            print(\"Simulating orders ...\")\n",
    "            self.simulate()\n",
    "        elif mode == TradeMode.LIVE:\n",
    "            print(\"LIVE TRADING! CAREFUL!\")\n",
    "            self.live()"
   ]
  }
 ],
 "metadata": {
  "kernelspec": {
   "display_name": "Python 3",
   "language": "python",
   "name": "python3"
  },
  "language_info": {
   "codemirror_mode": {
    "name": "ipython",
    "version": 3
   },
   "file_extension": ".py",
   "mimetype": "text/x-python",
   "name": "python",
   "nbconvert_exporter": "python",
   "pygments_lexer": "ipython3",
   "version": "3.6.0"
  },
  "latex_envs": {
   "LaTeX_envs_menu_present": true,
   "autocomplete": true,
   "bibliofile": "biblio.bib",
   "cite_by": "apalike",
   "current_citInitial": 1,
   "eqLabelWithNumbers": true,
   "eqNumInitial": 1,
   "hotkeys": {
    "equation": "Ctrl-E",
    "itemize": "Ctrl-I"
   },
   "labels_anchors": false,
   "latex_user_defs": false,
   "report_style_numbering": false,
   "user_envs_cfg": false
  },
  "toc": {
   "colors": {
    "hover_highlight": "#DAA520",
    "navigate_num": "#000000",
    "navigate_text": "#333333",
    "running_highlight": "#FF0000",
    "selected_highlight": "#FFD700",
    "sidebar_border": "#EEEEEE",
    "wrapper_background": "#FFFFFF"
   },
   "moveMenuLeft": true,
   "nav_menu": {
    "height": "71px",
    "width": "254px"
   },
   "navigate_menu": true,
   "number_sections": true,
   "sideBar": true,
   "threshold": 4,
   "toc_cell": false,
   "toc_section_display": "block",
   "toc_window_display": false,
   "widenNotebook": false
  }
 },
 "nbformat": 4,
 "nbformat_minor": 2
}
