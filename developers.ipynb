{
 "cells": [
  {
   "cell_type": "markdown",
   "metadata": {},
   "source": [
    "### Config"
   ]
  },
  {
   "cell_type": "code",
   "execution_count": null,
   "metadata": {},
   "outputs": [],
   "source": [
    "%matplotlib inline\n",
    "%load_ext autoreload\n",
    "%autoreload 2\n",
    "from punisher.common import *"
   ]
  },
  {
   "cell_type": "markdown",
   "metadata": {
    "heading_collapsed": true
   },
   "source": [
    "### Asset"
   ]
  },
  {
   "cell_type": "code",
   "execution_count": null,
   "metadata": {
    "hidden": true
   },
   "outputs": [],
   "source": [
    "a = Asset(c.ETH, c.BTC)\n",
    "print(a.to_dict())\n",
    "a = Asset.from_symbol('ETH/BTC')\n",
    "print(a.to_dict())\n",
    "a = Asset.from_symbol('ETHBTC')\n",
    "print(a.to_dict())"
   ]
  },
  {
   "cell_type": "markdown",
   "metadata": {
    "heading_collapsed": true
   },
   "source": [
    "### Balance"
   ]
  },
  {
   "cell_type": "code",
   "execution_count": null,
   "metadata": {
    "hidden": true
   },
   "outputs": [],
   "source": [
    "b = Balance()\n",
    "print(\"Currencies\",  b.currencies)\n",
    "print(\"Entries\", b)\n",
    "b.add_currency(c.ETH)\n",
    "b.update(c.ETH, delta_free=1.0, delta_used=0.0)\n",
    "print(b.get(c.ETH))\n",
    "b.get(c.ETH)[BalanceType.FREE]\n",
    "Balance.from_dict(b.to_dict())"
   ]
  },
  {
   "cell_type": "markdown",
   "metadata": {
    "heading_collapsed": true
   },
   "source": [
    "### Exchange"
   ]
  },
  {
   "cell_type": "code",
   "execution_count": null,
   "metadata": {
    "hidden": true
   },
   "outputs": [],
   "source": [
    "# Public informaiton\n",
    "exchanges = [c.PAPER, c.BINANCE, c.GDAX]#, c.POLONIEX]\n",
    "a = Asset(c.ETH, c.BTC)\n",
    "for ex in exchanges:\n",
    "    print(\"Exchange\", ex)\n",
    "    exchange = load_exchange(ex)\n",
    "    print(exchange.timeframes)\n",
    "    exchange.get_markets()\n",
    "    exchange.fetch_ohlcv(a, Timeframe.ONE_MIN.id)\n",
    "    exchange.fetch_order_book(a)\n",
    "    exchange.fetch_public_trades(a)\n",
    "    exchange.fetch_ticker(a)"
   ]
  },
  {
   "cell_type": "code",
   "execution_count": null,
   "metadata": {
    "hidden": true,
    "scrolled": false
   },
   "outputs": [],
   "source": [
    "# Account Information\n",
    "exchanges = [c.PAPER, c.BINANCE, c.GDAX]\n",
    "a = Asset(c.ETH, c.BTC)\n",
    "for ex in exchanges:\n",
    "    print(\"Exchange\", ex)\n",
    "    exchange = load_exchange(ex)\n",
    "    b = exchange.fetch_balance()\n",
    "    print(exchange.fetch_balance())\n",
    "    print(exchange.fetch_orders(a))\n",
    "    print(exchange.fetch_open_orders(a))\n",
    "    print(exchange.fetch_closed_orders(a))"
   ]
  },
  {
   "cell_type": "code",
   "execution_count": null,
   "metadata": {
    "hidden": true
   },
   "outputs": [],
   "source": [
    "exchange = load_exchange(c.PAPER) # c.BINANCE\n",
    "a = Asset(c.ETH, c.BTC)\n",
    "\n",
    "# Market BUY\n",
    "print(\"Exchange\", exchange.id)\n",
    "order = exchange.create_market_buy_order(a, .01)\n",
    "balance = exchange.fetch_balance()\n",
    "print(a.base, balance.get(a.base), a.quote, balance.get(a.quote))\n",
    "order"
   ]
  },
  {
   "cell_type": "code",
   "execution_count": null,
   "metadata": {
    "hidden": true
   },
   "outputs": [],
   "source": [
    "# Check Order\n",
    "balance = exchange.fetch_balance()\n",
    "print(a.base, balance.get(a.base), a.quote, balance.get(a.quote))\n",
    "found_order = exchange.fetch_order(order.id, a.symbol)\n",
    "found_order"
   ]
  },
  {
   "cell_type": "code",
   "execution_count": null,
   "metadata": {
    "hidden": true
   },
   "outputs": [],
   "source": [
    "# Sell all remaining quantity\n",
    "curr_balance = exchange.fetch_balance().get(a.base)\n",
    "print(a.base, curr_balance[BalanceType.TOTAL])\n",
    "order = exchange.create_market_sell_order(a, curr_balance[BalanceType.TOTAL])\n",
    "order"
   ]
  },
  {
   "cell_type": "code",
   "execution_count": null,
   "metadata": {
    "hidden": true
   },
   "outputs": [],
   "source": [
    "exchange.fetch_balance().get(a.base), exchange.fetch_balance().get(a.quote)"
   ]
  },
  {
   "cell_type": "markdown",
   "metadata": {
    "heading_collapsed": true
   },
   "source": [
    "### Dates"
   ]
  },
  {
   "cell_type": "code",
   "execution_count": null,
   "metadata": {
    "hidden": true
   },
   "outputs": [],
   "source": [
    "print(Timeframe.FIVE_MIN.delta)\n",
    "print(Timeframe.FIVE_MIN.id)"
   ]
  },
  {
   "cell_type": "markdown",
   "metadata": {
    "heading_collapsed": true
   },
   "source": [
    "### OHLCV Data"
   ]
  },
  {
   "cell_type": "code",
   "execution_count": null,
   "metadata": {
    "hidden": true
   },
   "outputs": [],
   "source": [
    "base = c.ETH\n",
    "quote = c.BTC\n",
    "exchange = load_exchange(c.BINANCE)\n",
    "asset = Asset(base, quote)\n",
    "assets = [ Asset(coin, quote) for coin in [c.ETH, c.LTC] ]\n",
    "period = Timeframe.ONE_MIN\n",
    "start = datetime.datetime.utcnow() - datetime.timedelta(hours=2)\n",
    "end = datetime.datetime.utcnow() - datetime.timedelta(hours=0)"
   ]
  },
  {
   "cell_type": "code",
   "execution_count": null,
   "metadata": {
    "hidden": true
   },
   "outputs": [],
   "source": [
    "# Single Coin\n",
    "df = ohlcv.fetch_and_save_ohlcv_data(exchange, asset, period.id, start, end)\n",
    "df.head()"
   ]
  },
  {
   "cell_type": "code",
   "execution_count": null,
   "metadata": {
    "hidden": true
   },
   "outputs": [],
   "source": [
    "# Load from File\n",
    "fpath = ohlcv.get_price_data_fpath(asset, exchange.id, period.id)\n",
    "df = ohlcv.load_chart_data_from_file(fpath)"
   ]
  },
  {
   "cell_type": "code",
   "execution_count": null,
   "metadata": {
    "hidden": true
   },
   "outputs": [],
   "source": [
    "# Multiple Coins\n",
    "ohlcv.download_chart_data(exchange, assets, period.id, start, end)\n",
    "df = ohlcv.load_multiple_assets(exchange.id, assets, period.id, start)\n",
    "df.head()"
   ]
  },
  {
   "cell_type": "markdown",
   "metadata": {
    "heading_collapsed": true
   },
   "source": [
    "### DataStore"
   ]
  },
  {
   "cell_type": "code",
   "execution_count": null,
   "metadata": {
    "hidden": true
   },
   "outputs": [],
   "source": [
    "experiment_name = 'mystrategy1'\n",
    "fname = 'multiasset'\n",
    "store = FileStore(os.path.join(cfg.DATA_DIR, experiment_name))"
   ]
  },
  {
   "cell_type": "code",
   "execution_count": null,
   "metadata": {
    "hidden": true
   },
   "outputs": [],
   "source": [
    "# DataFrame --> CSV\n",
    "store.df_to_csv(df, fname)\n",
    "df = store.csv_to_df(fname, index='time_epoch')\n",
    "df.head()"
   ]
  },
  {
   "cell_type": "code",
   "execution_count": null,
   "metadata": {
    "hidden": true
   },
   "outputs": [],
   "source": [
    "# DataFrame --> JSON\n",
    "store.df_to_json(df, fname)\n",
    "df = store.json_to_df(fname, index='time_epoch')\n",
    "df.head()"
   ]
  },
  {
   "cell_type": "code",
   "execution_count": null,
   "metadata": {
    "hidden": true
   },
   "outputs": [],
   "source": [
    "# JSON\n",
    "dct = {\n",
    "    'sample': 1,\n",
    "    'time': datetime.datetime.utcnow()\n",
    "}\n",
    "store.save_json(fname, dct)\n",
    "dct = store.load_json(fname)\n",
    "dct"
   ]
  },
  {
   "cell_type": "markdown",
   "metadata": {
    "heading_collapsed": true
   },
   "source": [
    "### Data Feed"
   ]
  },
  {
   "cell_type": "code",
   "execution_count": null,
   "metadata": {
    "hidden": true,
    "scrolled": true
   },
   "outputs": [],
   "source": [
    "def get_test_live_feed(exchange_id):\n",
    "    exchange = load_exchange(exchange_id)\n",
    "    asset = Asset(c.ETH, c.BTC)\n",
    "    period = Timeframe.ONE_MIN\n",
    "    start = datetime.datetime.utcnow() - datetime.timedelta(hours=2)\n",
    "    end = datetime.datetime.utcnow() - datetime.timedelta(hours=0)\n",
    "    feed_fpath = ohlcv.get_price_data_fpath(asset, exchange.id, period.id)\n",
    "    feed = ExchangeDataFeed(exchange, [asset], period, start, end=None)\n",
    "    feed.initialize()\n",
    "    return feed\n",
    "\n",
    "def get_test_csv_feed(exchange_id):\n",
    "    start = datetime.datetime(year=2018, month=1, day=9)\n",
    "    end = datetime.datetime(year=2018, month=1, day=12)\n",
    "    asset = Asset(c.ETH, c.BTC)\n",
    "    period = Timeframe.THIRTY_MIN\n",
    "    feed_fpath = ohlcv.get_price_data_fpath(asset, exchange_id, period.id)\n",
    "    feed = CSVDataFeed(feed_fpath, start, end)\n",
    "    exchange = load_exchange(exchange_id)\n",
    "    ohlcv.fetch_and_save_ohlcv_data(exchange, asset, period.id, start, end)\n",
    "    feed.initialize()\n",
    "    return feed"
   ]
  },
  {
   "cell_type": "code",
   "execution_count": null,
   "metadata": {
    "hidden": true
   },
   "outputs": [],
   "source": [
    "# CSV Feed\n",
    "csv_feed = get_test_csv_feed(c.BINANCE)\n",
    "\n",
    "# Grab 1 row at a time\n",
    "for i in range(1):\n",
    "    data = csv_feed.next()\n",
    "    print(data['time_utc'], data['close'])    \n",
    "\n",
    "peek_data = csv_feed.peek()\n",
    "print(peek_data['time_utc'], peek_data['close'])\n",
    "\n",
    "# Access all rows in history\n",
    "csv_feed.history().head()"
   ]
  },
  {
   "cell_type": "code",
   "execution_count": null,
   "metadata": {
    "hidden": true
   },
   "outputs": [],
   "source": [
    "# Live Feed\n",
    "live_feed = get_test_live_feed(c.BINANCE)\n",
    "\n",
    "# Grab 1 row at a time (don't refresh data)\n",
    "for i in range(3):\n",
    "    data = live_feed.next(refresh=False)\n",
    "    print(data['time_utc'], data['close'])\n",
    "\n",
    "peek_data = live_feed.peek()\n",
    "print(peek_data['time_utc'], peek_data['close'])\n",
    "\n",
    "# Refresh data before next query\n",
    "data = live_feed.next(refresh=True)\n",
    "print(data['time_utc'], data['close'])\n",
    "\n",
    "# Access History\n",
    "live_feed.history(t_minus=3).tail()"
   ]
  },
  {
   "cell_type": "markdown",
   "metadata": {
    "heading_collapsed": true
   },
   "source": [
    "### Exchange Data Providers"
   ]
  },
  {
   "cell_type": "code",
   "execution_count": null,
   "metadata": {
    "hidden": true
   },
   "outputs": [],
   "source": [
    "csv_feed.next()\n",
    "dp = FeedExchangeDataProvider(csv_feed)\n",
    "print(dp.fetch_order_book(asset))\n",
    "print(dp.fetch_public_trades(asset))\n",
    "print(dp.fetch_ohlcv(asset, Timeframe.ONE_DAY.id))\n",
    "print(dp.fetch_ticker(asset))\n",
    "print(dp.get_markets())"
   ]
  },
  {
   "cell_type": "code",
   "execution_count": null,
   "metadata": {
    "hidden": true
   },
   "outputs": [],
   "source": [
    "asset = Asset(c.ETH, c.BTC)\n",
    "exchange = load_exchange(c.BINANCE)\n",
    "dp = CCXTExchangeDataProvider(exchange)\n",
    "print(dp.fetch_order_book(asset)['bids'][:1])\n",
    "print(dp.fetch_public_trades(asset)[:1])\n",
    "print(dp.fetch_ohlcv(asset, Timeframe.ONE_DAY.id)[:1])\n",
    "print(dp.fetch_ticker(asset))\n",
    "print(dp.get_markets()['ETH/BTC'])"
   ]
  },
  {
   "cell_type": "markdown",
   "metadata": {
    "heading_collapsed": true
   },
   "source": [
    "### OrderType"
   ]
  },
  {
   "cell_type": "code",
   "execution_count": null,
   "metadata": {
    "hidden": true
   },
   "outputs": [],
   "source": [
    "assert OrderType.from_type_side('limit','buy') == OrderType.LIMIT_BUY\n",
    "assert OrderType.from_type_side('limit','sell') == OrderType.LIMIT_SELL\n",
    "assert OrderType.from_type_side('market','buy') == OrderType.MARKET_BUY\n",
    "assert OrderType.from_type_side('market','sell') == OrderType.MARKET_SELL\n",
    "o = OrderType.LIMIT_BUY\n",
    "assert o.type == 'limit' and o.side == 'buy'"
   ]
  },
  {
   "cell_type": "code",
   "execution_count": null,
   "metadata": {
    "hidden": true
   },
   "outputs": [],
   "source": [
    "assert OrderType.LIMIT_BUY in OrderType.buy_types()\n",
    "assert OrderType.MARKET_BUY in OrderType.buy_types()\n",
    "assert OrderType.LIMIT_SELL in OrderType.sell_types()\n",
    "assert OrderType.MARKET_SELL in OrderType.sell_types()"
   ]
  },
  {
   "cell_type": "code",
   "execution_count": null,
   "metadata": {
    "hidden": true
   },
   "outputs": [],
   "source": [
    "assert OrderType.LIMIT_BUY.is_buy()\n",
    "assert OrderType.MARKET_BUY.is_buy()\n",
    "assert OrderType.LIMIT_SELL.is_sell()\n",
    "assert OrderType.MARKET_SELL.is_sell()\n",
    "OrderType.LIMIT_BUY.name, OrderType.LIMIT_BUY.value"
   ]
  },
  {
   "cell_type": "markdown",
   "metadata": {},
   "source": [
    "### Order"
   ]
  },
  {
   "cell_type": "code",
   "execution_count": null,
   "metadata": {},
   "outputs": [],
   "source": [
    "asset = Asset(c.LTC, c.USDT)\n",
    "order = Order(\n",
    "    exchange_id=c.PAPER, \n",
    "    asset=asset,\n",
    "    price=250., \n",
    "    quantity=1, \n",
    "    order_type=OrderType.LIMIT_BUY\n",
    ")\n",
    "Order.from_dict(order.to_dict())"
   ]
  },
  {
   "cell_type": "markdown",
   "metadata": {},
   "source": [
    "### Order Manager"
   ]
  },
  {
   "cell_type": "code",
   "execution_count": null,
   "metadata": {},
   "outputs": [],
   "source": [
    "asset = Asset(c.LTC, c.BTC)\n",
    "exchange = load_exchange(c.PAPER)\n",
    "exchange.balance = Balance(c.BTC, 5.0)\n",
    "o1 = Order(exchange.id, asset, price=.01, quantity=1.0, \n",
    "           order_type=OrderType.LIMIT_BUY, order_id='1')\n",
    "o2 = Order(exchange.id, asset, price=.01, quantity=1.0, \n",
    "           order_type=OrderType.LIMIT_SELL, order_id='2')\n",
    "orders = {\n",
    "    o1.id: o1,\n",
    "    o2.id: o2\n",
    "}\n",
    "orders,exchange.fetch_balance(), exchange.fetch_ticker(asset)['ask']"
   ]
  },
  {
   "cell_type": "code",
   "execution_count": null,
   "metadata": {},
   "outputs": [],
   "source": [
    "order = order_manager.place_order(exchange, orders[o1.id])\n",
    "orders[o1.id] = order\n",
    "orders,exchange.fetch_balance()"
   ]
  },
  {
   "cell_type": "code",
   "execution_count": null,
   "metadata": {},
   "outputs": [],
   "source": [
    "resp = order_manager.place_order(exchange, orders[o2.id])\n",
    "orders[o2.id] = resp\n",
    "orders,exchange.balance"
   ]
  },
  {
   "cell_type": "code",
   "execution_count": null,
   "metadata": {},
   "outputs": [],
   "source": [
    "limit_buy = order_manager.build_limit_buy_order(exchange, asset, quantity=1.0, price=.1)\n",
    "limit_sell = order_manager.build_limit_sell_order(exchange, asset, quantity=1.0, price=.1)\n",
    "market_buy = order_manager.build_market_buy_order(exchange, asset, quantity=1.0)\n",
    "market_sell = order_manager.build_market_sell_order(exchange, asset, quantity=1.0)\n",
    "orders = [limit_buy, limit_sell, market_buy, market_sell]\n",
    "orders"
   ]
  },
  {
   "cell_type": "code",
   "execution_count": null,
   "metadata": {},
   "outputs": [],
   "source": [
    "results = []\n",
    "for order in orders:\n",
    "    res = order_manager.place_order(exchange, order)\n",
    "    results.append(res)\n",
    "results"
   ]
  },
  {
   "cell_type": "code",
   "execution_count": null,
   "metadata": {},
   "outputs": [],
   "source": [
    "exchange.fetch_balance()"
   ]
  },
  {
   "cell_type": "code",
   "execution_count": null,
   "metadata": {},
   "outputs": [],
   "source": [
    "exchange.fetch_orders(asset)"
   ]
  },
  {
   "cell_type": "code",
   "execution_count": null,
   "metadata": {},
   "outputs": [],
   "source": [
    "exchange.fetch_order('32687cf2c22645fbbd2d639be8a76256', asset)"
   ]
  },
  {
   "cell_type": "code",
   "execution_count": null,
   "metadata": {},
   "outputs": [],
   "source": [
    "updated_orders = exchange.fetch_orders(asset)\n",
    "ex_order_ids = [order.ex_order_id for order in updated_orders]\n",
    "print(ex_order_ids)\n",
    "updated_orders"
   ]
  },
  {
   "cell_type": "code",
   "execution_count": null,
   "metadata": {},
   "outputs": [],
   "source": [
    "ex_orders = order_manager.get_orders(exchange, ex_order_ids, assets=asset)\n",
    "print(ex_orders)"
   ]
  },
  {
   "cell_type": "code",
   "execution_count": null,
   "metadata": {
    "scrolled": false
   },
   "outputs": [],
   "source": [
    "print(\"PENDING\", order_manager.get_pending_orders(ex_orders))\n",
    "print(\"CANCELED\", order_manager.get_canceled_orders(ex_orders))\n",
    "print(\"FILLED\", order_manager.get_filled_orders(ex_orders))"
   ]
  },
  {
   "cell_type": "markdown",
   "metadata": {
    "heading_collapsed": true
   },
   "source": [
    "### Position"
   ]
  },
  {
   "cell_type": "code",
   "execution_count": null,
   "metadata": {
    "hidden": true
   },
   "outputs": [],
   "source": [
    "asset = Asset(c.LTC, c.BTC)\n",
    "pos = Position(asset, quantity=1, cost_price=250.0)\n",
    "print(\"Asset\", pos.asset.to_dict())\n",
    "print(\"Value\", pos.cost_value, \"Quantity\", pos.quantity, \"Cost\", pos.cost_price)\n",
    "\n",
    "pos.update(1, 200)\n",
    "print(\"Value\", pos.cost_value, \"Quantity\", pos.quantity, \"Cost\", pos.cost_price)\n",
    "\n",
    "pos.update(-1, 200)\n",
    "print(\"Value\", pos.cost_value, \"Quantity\", pos.quantity, \"Cost\", pos.cost_price)\n",
    "\n",
    "# Go short\n",
    "pos.update(-2, 150)\n",
    "print(\"Value\", pos.cost_value, \"Quantity\", pos.quantity, \"Cost\", pos.cost_price)\n",
    "\n",
    "# Close the short for a LOSS and go long (price went up, we had to pay $300 to cover our short)\n",
    "# then we bought another share because we're newbs\n",
    "pos.update(2, 300)\n",
    "print(\"Value\", pos.cost_value, \"Quantity\", pos.quantity, \"Cost\", pos.cost_price)"
   ]
  },
  {
   "cell_type": "code",
   "execution_count": null,
   "metadata": {
    "hidden": true
   },
   "outputs": [],
   "source": [
    "\"\"\"\n",
    "Assume that an investor made the following consecutive fund purchases in a taxable account: 1,500 shares at $20, 1,000 shares at $10 and 1,250 shares at $8. The investor’s average cost basis is calculated by dividing $50,000/3,750 shares. The average cost is $13.33.\n",
    "\n",
    "Suppose the investor then sells 1,000 shares of the fund at $19.\n",
    "\n",
    "Gain/loss using average cost basis: ($19 - $13.33) x 1,000 shares = $5,667\n",
    "\"\"\"\n",
    "\n",
    "asset = Asset(c.LTC, c.BTC)\n",
    "pos = Position(asset, quantity=1500, cost_price=20.0)\n",
    "print(\"Value\", pos.cost_value, \"Quantity\", pos.quantity, \"Cost\", pos.cost_price)\n",
    "pos.update(txn_quantity=1000, txn_price=10)\n",
    "print(\"Value\", pos.cost_value, \"Quantity\", pos.quantity, \"Cost\", pos.cost_price)\n",
    "pos.update(txn_quantity=1250, txn_price=8)\n",
    "print(\"Value\", pos.cost_value, \"Quantity\", pos.quantity, \"Cost\", pos.cost_price)\n",
    "\n",
    "last_cost = pos.cost_price\n",
    "pos.update(txn_quantity=-1000, txn_price=19)\n",
    "print(\"Value\", pos.cost_value, \"Quantity\", pos.quantity, \"Cost\", pos.cost_price)\n",
    "print(\"Profit\", (19 - last_cost) * 1000)"
   ]
  },
  {
   "cell_type": "code",
   "execution_count": null,
   "metadata": {
    "hidden": true
   },
   "outputs": [],
   "source": [
    "Position.from_dict(pos.to_dict()).to_dict()"
   ]
  },
  {
   "cell_type": "markdown",
   "metadata": {
    "heading_collapsed": true
   },
   "source": [
    "### PerformanceTracker"
   ]
  },
  {
   "cell_type": "code",
   "execution_count": null,
   "metadata": {
    "hidden": true
   },
   "outputs": [],
   "source": [
    "asset = Asset(c.BTC, c.USD)\n",
    "perf = PerformanceTracker(starting_cash=5000, timeframe=Timeframe.ONE_MIN)\n",
    "perf.to_dict()"
   ]
  },
  {
   "cell_type": "code",
   "execution_count": null,
   "metadata": {
    "hidden": true
   },
   "outputs": [],
   "source": [
    "# Buy 1 BTC for $1000\n",
    "pos1 = Position(asset, quantity=1, cost_price=1000.0)\n",
    "positions = [pos1]\n",
    "perf.add_period(\n",
    "    start=datetime.datetime.utcnow(),\n",
    "    cash=4000.0,\n",
    "    positions=positions\n",
    ")\n",
    "perf.to_dict()"
   ]
  },
  {
   "cell_type": "code",
   "execution_count": null,
   "metadata": {
    "hidden": true
   },
   "outputs": [],
   "source": [
    "\"\"\"\n",
    "Value of BTC increased $100\n",
    "Position Return\n",
    "    Return = .10\n",
    "    PnL = $100\n",
    "Cumulative Return\n",
    "    Return = $100 / $5000 = .02\n",
    "    PnL = $100\n",
    "\"\"\"\n",
    "pos1.latest_price = 1100\n",
    "perf.add_period(\n",
    "    start=datetime.datetime.utcnow(),\n",
    "    cash=4000.0,\n",
    "    positions=positions\n",
    ")\n",
    "perf.to_dict()"
   ]
  },
  {
   "cell_type": "code",
   "execution_count": null,
   "metadata": {
    "hidden": true
   },
   "outputs": [],
   "source": [
    "\"\"\"\n",
    "Value of BTC increased again $400\n",
    "Position Return\n",
    "    Return = .5\n",
    "    PnL = $500\n",
    "Cumulative Return\n",
    "    Return = $500 / $5000 = .1\n",
    "    PnL = $500\n",
    "\"\"\"\n",
    "pos1.latest_price = 1500\n",
    "perf.add_period(\n",
    "    start=datetime.datetime.utcnow(),\n",
    "    cash=4000.0,\n",
    "    positions=positions\n",
    ")\n",
    "perf.to_dict()"
   ]
  },
  {
   "cell_type": "code",
   "execution_count": null,
   "metadata": {
    "hidden": true
   },
   "outputs": [],
   "source": [
    "# Buy 1 ETH for $500\n",
    "asset = Asset(c.ETH, c.USD)\n",
    "pos2 = Position(asset, quantity=1, cost_price=500.0)\n",
    "positions.append(pos2)\n",
    "perf.add_period(\n",
    "    start=datetime.datetime.utcnow(),\n",
    "    cash=3500.0,\n",
    "    positions=positions\n",
    ")\n",
    "perf.to_dict()"
   ]
  },
  {
   "cell_type": "code",
   "execution_count": null,
   "metadata": {
    "hidden": true,
    "scrolled": false
   },
   "outputs": [],
   "source": [
    "\"\"\"\n",
    "Value of ETH decreased $100\n",
    "Position Return\n",
    "    Return = -100/500\n",
    "    PnL = -100\n",
    "Cumulative Return\n",
    "    Return = 400 / 5000 = .08\n",
    "    PnL = 400\n",
    "\"\"\"\n",
    "pos2.latest_price = 400\n",
    "perf.add_period(\n",
    "    start=datetime.datetime.utcnow(),\n",
    "    cash=3500.0,\n",
    "    positions=positions\n",
    ")\n",
    "perf.to_dict()"
   ]
  },
  {
   "cell_type": "code",
   "execution_count": null,
   "metadata": {
    "hidden": true
   },
   "outputs": [],
   "source": [
    "PerformanceTracker.from_dict(perf.to_dict())"
   ]
  },
  {
   "cell_type": "markdown",
   "metadata": {
    "heading_collapsed": true
   },
   "source": [
    "### Portfolio"
   ]
  },
  {
   "cell_type": "code",
   "execution_count": null,
   "metadata": {
    "hidden": true
   },
   "outputs": [],
   "source": [
    "starting_cash = 5000\n",
    "exchange = load_exchange(c.PAPER)\n",
    "perf = PerformanceTracker(starting_cash, Timeframe.ONE_MIN)\n",
    "portfolio = Portfolio(starting_cash, perf)"
   ]
  },
  {
   "cell_type": "code",
   "execution_count": null,
   "metadata": {
    "hidden": true
   },
   "outputs": [],
   "source": [
    "# Buy 1 BTC for $1000\n",
    "asset = Asset(c.BTC, c.USD)\n",
    "order = Order(\n",
    "    exchange_id=exchange.id, \n",
    "    asset=asset,\n",
    "    price=1000., \n",
    "    quantity=1, \n",
    "    order_type=OrderType.LIMIT_BUY\n",
    ")\n",
    "order"
   ]
  },
  {
   "cell_type": "code",
   "execution_count": null,
   "metadata": {
    "hidden": true
   },
   "outputs": [],
   "source": [
    "portfolio.update(filled_orders=[order])\n",
    "portfolio"
   ]
  },
  {
   "cell_type": "code",
   "execution_count": null,
   "metadata": {
    "hidden": true
   },
   "outputs": [],
   "source": [
    "# Buy more BTC, price has risen $500\n",
    "order = Order(\n",
    "    exchange_id=exchange.id, \n",
    "    asset=asset,\n",
    "    price=1500., \n",
    "    quantity=1, \n",
    "    order_type=OrderType.LIMIT_BUY\n",
    ")\n",
    "portfolio.update(filled_orders=[order])\n",
    "portfolio"
   ]
  },
  {
   "cell_type": "code",
   "execution_count": null,
   "metadata": {
    "hidden": true
   },
   "outputs": [],
   "source": [
    "# Sell all BTC at profit\n",
    "order = Order(\n",
    "    exchange_id=exchange.id, \n",
    "    asset=asset,\n",
    "    price=1500., \n",
    "    quantity=2, \n",
    "    order_type=OrderType.LIMIT_SELL\n",
    ")\n",
    "portfolio.update(filled_orders=[order])\n",
    "portfolio"
   ]
  },
  {
   "cell_type": "code",
   "execution_count": null,
   "metadata": {
    "hidden": true
   },
   "outputs": [],
   "source": [
    "Portfolio.from_dict(portfolio.to_dict())"
   ]
  },
  {
   "cell_type": "markdown",
   "metadata": {
    "heading_collapsed": true
   },
   "source": [
    "### Record"
   ]
  },
  {
   "cell_type": "code",
   "execution_count": null,
   "metadata": {
    "hidden": true
   },
   "outputs": [],
   "source": [
    "feed = get_test_csv_feed(c.PAPER)\n",
    "\n",
    "metrics = {\n",
    "    'SMA': [1, 2, 3, 4],\n",
    "    'RSI': [3, 4, 2, 1]\n",
    "}\n",
    "\n",
    "o1 = Order(c.PAPER, Asset(c.ETH, c.BTC), 5.0, 100.0, OrderType.LIMIT_BUY, order_id='1')\n",
    "o2 = Order(c.PAPER, Asset(c.LTC, c.BTC), 5.0, 100.0, OrderType.LIMIT_BUY, order_id='2')\n",
    "orders = {\n",
    "    o1.id: o1,\n",
    "    o2.id: o2\n",
    "}"
   ]
  },
  {
   "cell_type": "code",
   "execution_count": null,
   "metadata": {
    "hidden": true
   },
   "outputs": [],
   "source": [
    "root_dir = os.path.join(cfg.DATA_DIR, 'default')\n",
    "store = FileStore(root_dir)\n",
    "\n",
    "record = Record(config={}, portfolio=portfolio, balance=Balance(), store=store)\n",
    "record.orders = orders\n",
    "record.metrics = metrics\n",
    "record.ohlcv = feed.history()\n",
    "record.save()\n",
    "record = Record.load(root_dir)"
   ]
  },
  {
   "cell_type": "code",
   "execution_count": null,
   "metadata": {
    "hidden": true,
    "scrolled": false
   },
   "outputs": [],
   "source": [
    "print(record.config)\n",
    "print(record.metrics)\n",
    "print(record.balance)\n",
    "print(record.orders)\n",
    "print(record.ohlcv.head()[['time_utc','close']])\n",
    "print(record.portfolio)"
   ]
  },
  {
   "cell_type": "markdown",
   "metadata": {
    "heading_collapsed": true
   },
   "source": [
    "### Context"
   ]
  },
  {
   "cell_type": "code",
   "execution_count": null,
   "metadata": {
    "hidden": true
   },
   "outputs": [],
   "source": [
    "# From Objects\n",
    "\n",
    "starting_cash = 5000\n",
    "exchange = load_exchange(c.PAPER)\n",
    "store = FileStore(os.path.join(cfg.DATA_DIR, 'default'))\n",
    "perf = PerformanceTracker(starting_cash, Timeframe.THIRTY_MIN)\n",
    "portfolio = Portfolio(starting_cash, perf)\n",
    "feed = get_test_csv_feed(c.PAPER)\n",
    "config = {'experiment':'default'}\n",
    "record = Record(config=config, \n",
    "                portfolio=portfolio, \n",
    "                balance=Balance(), \n",
    "                store=store)"
   ]
  },
  {
   "cell_type": "code",
   "execution_count": null,
   "metadata": {
    "hidden": true
   },
   "outputs": [],
   "source": [
    "ctx = Context(exchange, feed, record)\n",
    "print(ctx.record.config)\n",
    "print(ctx.record.metrics)\n",
    "print(ctx.record.balance)\n",
    "print(ctx.record.orders)\n",
    "print(ctx.record.ohlcv)\n",
    "print(ctx.record.portfolio)"
   ]
  },
  {
   "cell_type": "code",
   "execution_count": null,
   "metadata": {
    "hidden": true
   },
   "outputs": [],
   "source": [
    "# From Config\n",
    "\n",
    "## TODO - Get this working\n",
    "trading_config = get_default_backtest_config('default', ['ETH/BTC'])\n",
    "trading_config"
   ]
  },
  {
   "cell_type": "code",
   "execution_count": null,
   "metadata": {
    "hidden": true
   },
   "outputs": [],
   "source": [
    "## TODO - Get this working\n",
    "ctx = Context.from_config(trading_config)\n",
    "print(ctx.record.config)\n",
    "print(ctx.record.metrics)\n",
    "print(ctx.record.balance)\n",
    "print(ctx.record.orders)\n",
    "print(ctx.record.ohlcv)\n",
    "print(ctx.record.portfolio)"
   ]
  },
  {
   "cell_type": "markdown",
   "metadata": {
    "heading_collapsed": true
   },
   "source": [
    "### Strategy"
   ]
  },
  {
   "cell_type": "code",
   "execution_count": null,
   "metadata": {
    "hidden": true
   },
   "outputs": [],
   "source": [
    "# https://www.backtrader.com/docu/quickstart/quickstart.html\n",
    "# https://enigmampc.github.io/catalyst/beginner-tutorial.html#basics\n",
    "strategy = SimpleStrategy()"
   ]
  },
  {
   "cell_type": "code",
   "execution_count": null,
   "metadata": {
    "hidden": true
   },
   "outputs": [],
   "source": [
    "config = default_config(TradingMode.BACKTEST)\n",
    "shutil.rmtree(os.path.join(cfg.DATA_DIR, config['experiment']), ignore_errors=True)\n",
    "ctx = Context.from_config(config)"
   ]
  },
  {
   "cell_type": "code",
   "execution_count": null,
   "metadata": {
    "hidden": true
   },
   "outputs": [],
   "source": [
    "orders = strategy.process(ctx.feed.next(), ctx)"
   ]
  },
  {
   "cell_type": "code",
   "execution_count": null,
   "metadata": {
    "hidden": true
   },
   "outputs": [],
   "source": [
    "resp = order_manager.place_orders(ctx.exchange, orders)\n",
    "resp"
   ]
  },
  {
   "cell_type": "code",
   "execution_count": null,
   "metadata": {
    "hidden": true
   },
   "outputs": [],
   "source": [
    "# We're not updating the virtual balance, only the exchange \n",
    "# (which is fine until we want to have a multi-exchange algo)\n",
    "print(ctx.exchange.balance)"
   ]
  },
  {
   "cell_type": "markdown",
   "metadata": {
    "heading_collapsed": true
   },
   "source": [
    "### Runner"
   ]
  },
  {
   "cell_type": "code",
   "execution_count": null,
   "metadata": {
    "hidden": true,
    "scrolled": false
   },
   "outputs": [],
   "source": [
    "mystrategy = SimpleStrategy()\n",
    "runner.backtest(\"default\", mystrategy)"
   ]
  },
  {
   "cell_type": "markdown",
   "metadata": {
    "heading_collapsed": true
   },
   "source": [
    "### ChartDataProviders"
   ]
  },
  {
   "cell_type": "code",
   "execution_count": null,
   "metadata": {
    "hidden": true
   },
   "outputs": [],
   "source": [
    "root = os.path.join(cfg.DATA_DIR, 'default')\n",
    "rp = RecordChartDataProvider(root)"
   ]
  },
  {
   "cell_type": "code",
   "execution_count": null,
   "metadata": {
    "hidden": true,
    "scrolled": false
   },
   "outputs": [],
   "source": [
    "# TODO\n",
    "print(\"OHLCV\\n\", rp.get_ohlcv())\n",
    "print(\"\\nPERFORMANCE\\n\", rp.get_performance())\n",
    "print(\"\\nRETURNS\\n\", rp.get_returns())\n",
    "print(\"\\nPNL\\n\", rp.get_pnl())\n",
    "\n",
    "print(\"\\nBALANCE\\n\", rp.get_balance())\n",
    "print(\"\\nBALANCE_DICT\\n\", rp.get_balance_dct())\n",
    "print(\"\\nPOSITIONS\\n\", rp.get_positions())\n",
    "print(\"\\nPOSITIONS_DICT\\n\", rp.get_positions_dct())\n",
    "\n",
    "print(\"\\nORDERS\\n\", rp.get_orders())\n",
    "print(\"\\nORDERS_DICT\\n\", rp.get_orders_dct())\n",
    "print(\"\\nMETRICS\\n\", rp.get_metrics())"
   ]
  },
  {
   "cell_type": "markdown",
   "metadata": {
    "heading_collapsed": true
   },
   "source": [
    "### Charts"
   ]
  },
  {
   "cell_type": "code",
   "execution_count": null,
   "metadata": {
    "hidden": true
   },
   "outputs": [],
   "source": [
    "feed = get_test_csv_feed(c.PAPER)"
   ]
  },
  {
   "cell_type": "code",
   "execution_count": null,
   "metadata": {
    "hidden": true
   },
   "outputs": [],
   "source": [
    "# We need to increment the feed to start getting history data\n",
    "for i in range(10):\n",
    "    _ = feed.next()\n",
    "start = feed.history().iloc[0]['time_utc']\n",
    "end = feed.history().iloc[-1]['time_utc']"
   ]
  },
  {
   "cell_type": "code",
   "execution_count": null,
   "metadata": {
    "hidden": true
   },
   "outputs": [],
   "source": [
    "# Basic plot\n",
    "punisher.utils.charts.plot_range(feed.history(), start, end, 'close')"
   ]
  },
  {
   "cell_type": "markdown",
   "metadata": {
    "heading_collapsed": true
   },
   "source": [
    "### Dash"
   ]
  },
  {
   "cell_type": "code",
   "execution_count": null,
   "metadata": {
    "hidden": true
   },
   "outputs": [],
   "source": [
    "import plotly\n",
    "import plotly.plotly as py\n",
    "import plotly.graph_objs as go\n",
    "\n",
    "periods = record.portfolio.perf.periods\n",
    "df = pd.DataFrame([\n",
    "    [p['end_time'], p['pnl']] for p in periods\n",
    "], columns=['time_utc','pnl'])\n",
    "df"
   ]
  },
  {
   "cell_type": "code",
   "execution_count": null,
   "metadata": {
    "hidden": true
   },
   "outputs": [],
   "source": [
    "positions = pd.DataFrame([p.to_dict() for p in record.portfolio.positions])\n",
    "dct = [p.to_dict() for p in record.portfolio.positions]\n",
    "{p['asset']: p for p in dct}"
   ]
  },
  {
   "cell_type": "code",
   "execution_count": null,
   "metadata": {
    "hidden": true
   },
   "outputs": [],
   "source": [
    "cols = ['coin', 'free', 'used', 'total']\n",
    "balance = Balance()\n",
    "coins = balance.currencies\n",
    "dct = balance.to_dict()\n",
    "df = pd.DataFrame(\n",
    "    [[c, dct[c]['free'], dct[c]['used'], dct[c]['total']] for c in coins],\n",
    "    columns=cols\n",
    ")\n",
    "\n",
    "df"
   ]
  },
  {
   "cell_type": "code",
   "execution_count": null,
   "metadata": {
    "hidden": true
   },
   "outputs": [],
   "source": []
  },
  {
   "cell_type": "code",
   "execution_count": null,
   "metadata": {
    "hidden": true
   },
   "outputs": [],
   "source": []
  }
 ],
 "metadata": {
  "kernelspec": {
   "display_name": "Python 3",
   "language": "python",
   "name": "python3"
  },
  "language_info": {
   "codemirror_mode": {
    "name": "ipython",
    "version": 3
   },
   "file_extension": ".py",
   "mimetype": "text/x-python",
   "name": "python",
   "nbconvert_exporter": "python",
   "pygments_lexer": "ipython3",
   "version": "3.6.4"
  },
  "latex_envs": {
   "LaTeX_envs_menu_present": true,
   "autocomplete": true,
   "bibliofile": "biblio.bib",
   "cite_by": "apalike",
   "current_citInitial": 1,
   "eqLabelWithNumbers": true,
   "eqNumInitial": 1,
   "hotkeys": {
    "equation": "Ctrl-E",
    "itemize": "Ctrl-I"
   },
   "labels_anchors": false,
   "latex_user_defs": false,
   "report_style_numbering": false,
   "user_envs_cfg": false
  },
  "toc": {
   "nav_menu": {
    "height": "71px",
    "width": "254px"
   },
   "number_sections": true,
   "sideBar": true,
   "skip_h1_title": false,
   "toc_cell": false,
   "toc_position": {},
   "toc_section_display": "block",
   "toc_window_display": false
  }
 },
 "nbformat": 4,
 "nbformat_minor": 2
}
