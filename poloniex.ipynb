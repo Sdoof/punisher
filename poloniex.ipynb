{
 "cells": [
  {
   "cell_type": "code",
   "execution_count": null,
   "metadata": {},
   "outputs": [],
   "source": [
    "%matplotlib inline\n",
    "%load_ext autoreload\n",
    "%autoreload 2\n",
    "from common import *\n",
    "import qgrid\n",
    "from clients.backtester import poloniex as px\n",
    "from clients.backtester import helpers\n",
    "from clients.backtester import gemini\n",
    "from clients.pypoloniex.pypoloniex import LoadPairs, TimeSeries"
   ]
  },
  {
   "cell_type": "markdown",
   "metadata": {},
   "source": [
    "## Data"
   ]
  },
  {
   "cell_type": "code",
   "execution_count": null,
   "metadata": {},
   "outputs": [],
   "source": [
    "# https://github.com/Crypto-AI/pypoloniex\n",
    "\n",
    "# Load realtime data from PyPoloniex\n",
    "sess = LoadPairs()\n",
    "LTC = sess.getPair(market = 'BTC', coin = 'LTC')\n",
    "print (LTC)"
   ]
  },
  {
   "cell_type": "code",
   "execution_count": null,
   "metadata": {},
   "outputs": [],
   "source": [
    "# Load historical data from Poloniex\n",
    "sess = TimeSeries()\n",
    "\n",
    "# Parameters\n",
    "pair = ('BTC', 'LTC')    # (market, coin)\n",
    "period = 86400           # candle stick period in seconds\n",
    "start = '4/2/2014'       # dd/mm/year\n",
    "end =  '11/2/2014'       # dd/mm/year\n",
    "\n",
    "# Get time series data from Poloniex and load into pandas dataframe\n",
    "sess.getData(pair, period, start, end)\n",
    "sess.show()"
   ]
  },
  {
   "cell_type": "code",
   "execution_count": null,
   "metadata": {},
   "outputs": [],
   "source": [
    "# Export dataframe to csv\n",
    "sess.toCSV('data.csv')\n",
    "\n",
    "# Import dataframe from csv\n",
    "sess = TimeSeries()\n",
    "sess.fromCSV('data.csv')\n",
    "\n",
    "# Return dataframe from TimeSeries object for manipulation\n",
    "df = sess.data\n",
    "df.head()"
   ]
  },
  {
   "cell_type": "code",
   "execution_count": null,
   "metadata": {},
   "outputs": [],
   "source": [
    "# Another way to load historical data\n",
    "\n",
    "pair = \"USDT_BTC\"    # Use ETH pricing data on the BTC market\n",
    "period = 1800       # Use 1800 second candles\n",
    "daysBack = 30       # Grab data starting 30 days ago\n",
    "daysData = 30       # From there collect 60 days of data\n",
    "\n",
    "# Request data from Poloniex\n",
    "data = px.getPast(pair, period, daysBack, daysData)\n",
    "data = pd.DataFrame(data)\n",
    "data['date'] = pd.to_datetime(data['date'], unit='s')"
   ]
  },
  {
   "cell_type": "code",
   "execution_count": null,
   "metadata": {},
   "outputs": [],
   "source": [
    "data['close'].plot()"
   ]
  },
  {
   "cell_type": "code",
   "execution_count": 35,
   "metadata": {},
   "outputs": [],
   "source": [
    "# Another way to get data\n",
    "def get_price_fpath(coin, fiat, exchange, timestep):\n",
    "    fname = '{:s}_{:s}_{:d}.csv'.format(exchange, coin+'-'+fiat, timestep)\n",
    "    return os.path.join(cfg.DATA_DIR, fname)\n",
    "\n",
    "# Multiple coins\n",
    "tickers = ['USDT_BTC','USDT_BCH','USDT_ETC','USDT_XMR','USDT_ETH','USDT_DASH',\n",
    " 'USDT_XRP','USDT_LTC','USDT_NXT','USDT_STR','USDT_REP','USDT_ZEC']\n",
    "\n",
    "def CryptoDataCSV(coin, fiat, exchange, frequency):\n",
    "    #Params: String symbol, int frequency = 300,900,1800,7200,14400,86400\n",
    "    #Returns: df from first available date\n",
    "    ticker = '{:s}_{:s}'.format(fiat, coin)\n",
    "    url = ('https://poloniex.com/public?command=returnChartData&currencyPair=' \n",
    "           + ticker + '&end=9999999999&period=' + str(frequency) + '&start=0')\n",
    "    df = pd.read_json(url)\n",
    "    df.set_index('date',inplace=True)\n",
    "    df.to_csv(get_price_fpath(coin, fiat, exchange, frequency))\n",
    "    print('Processed: ' + ticker, \"Rows: \", len(df))\n",
    "    return df    "
   ]
  },
  {
   "cell_type": "code",
   "execution_count": 36,
   "metadata": {},
   "outputs": [],
   "source": [
    "# Bulk Coin/Fiat\n",
    "def download_bulk(coins, fiat, exchange, frequency):\n",
    "    for coin in coins:\n",
    "        _ = CryptoDataCSV(coin, fiat, exchange, frequency)"
   ]
  },
  {
   "cell_type": "code",
   "execution_count": 38,
   "metadata": {},
   "outputs": [
    {
     "name": "stdout",
     "output_type": "stream",
     "text": [
      "Processed: USDT_BTC Rows:  50267\n",
      "Processed: USDT_ETC Rows:  25102\n",
      "Processed: USDT_XMR Rows:  50395\n",
      "Processed: USDT_ETH Rows:  42133\n",
      "Processed: USDT_DASH Rows:  50395\n",
      "Processed: USDT_XRP Rows:  50217\n",
      "Processed: USDT_LTC Rows:  49494\n",
      "Processed: USDT_NXT Rows:  50265\n",
      "Processed: USDT_STR Rows:  49302\n",
      "Processed: USDT_REP Rows:  21802\n",
      "Processed: USDT_ZEC Rows:  20651\n"
     ]
    }
   ],
   "source": [
    "tickers =  ['USDT_BTC','USDT_ETC','USDT_XMR','USDT_ETH','USDT_DASH',\n",
    " 'USDT_XRP','USDT_LTC','USDT_NXT','USDT_STR','USDT_REP','USDT_ZEC']\n",
    "coins = [t.split('_')[-1] for t in tickers]\n",
    "fiat = 'USDT'\n",
    "frequency = 1800\n",
    "download_bulk(coins, fiat, c.POLONIEX, frequency)"
   ]
  },
  {
   "cell_type": "code",
   "execution_count": 39,
   "metadata": {},
   "outputs": [],
   "source": [
    "def load_data(coin, fiat, exchange, frequency):\n",
    "    fpath = get_price_fpath(coin, fiat, exchange, frequency)\n",
    "    df = pd.read_csv(fpath, index_col = 'date')\n",
    "    df.dropna(inplace=True)\n",
    "    df['time_utc'] = [datetime.datetime.strptime(t, '%Y-%m-%d %H:%M:%S') for t in df.index.values]\n",
    "    df = df.set_index('time_utc')\n",
    "    return df\n",
    "\n",
    "def load_coins_data(coins, fiat, exchange, frequency):\n",
    "    df = pd.DataFrame()\n",
    "    for coin in coins:\n",
    "        ticker = '{:s}_{:s}'.format(fiat, coin)\n",
    "        df[ticker] = load_data(coin, fiat, exchange, frequency)['close']\n",
    "    df.dropna(inplace=True)\n",
    "    return df\n",
    "\n",
    "all_coins_df = load_coins_data(coins, fiat, c.POLONIEX, frequency)"
   ]
  },
  {
   "cell_type": "code",
   "execution_count": 40,
   "metadata": {},
   "outputs": [
    {
     "data": {
      "text/html": [
       "<div>\n",
       "<style>\n",
       "    .dataframe thead tr:only-child th {\n",
       "        text-align: right;\n",
       "    }\n",
       "\n",
       "    .dataframe thead th {\n",
       "        text-align: left;\n",
       "    }\n",
       "\n",
       "    .dataframe tbody tr th {\n",
       "        vertical-align: top;\n",
       "    }\n",
       "</style>\n",
       "<table border=\"1\" class=\"dataframe\">\n",
       "  <thead>\n",
       "    <tr style=\"text-align: right;\">\n",
       "      <th></th>\n",
       "      <th>USDT_BTC</th>\n",
       "      <th>USDT_ETC</th>\n",
       "      <th>USDT_XMR</th>\n",
       "      <th>USDT_ETH</th>\n",
       "      <th>USDT_DASH</th>\n",
       "      <th>USDT_XRP</th>\n",
       "      <th>USDT_LTC</th>\n",
       "      <th>USDT_NXT</th>\n",
       "      <th>USDT_STR</th>\n",
       "      <th>USDT_REP</th>\n",
       "      <th>USDT_ZEC</th>\n",
       "    </tr>\n",
       "    <tr>\n",
       "      <th>time_utc</th>\n",
       "      <th></th>\n",
       "      <th></th>\n",
       "      <th></th>\n",
       "      <th></th>\n",
       "      <th></th>\n",
       "      <th></th>\n",
       "      <th></th>\n",
       "      <th></th>\n",
       "      <th></th>\n",
       "      <th></th>\n",
       "      <th></th>\n",
       "    </tr>\n",
       "  </thead>\n",
       "  <tbody>\n",
       "    <tr>\n",
       "      <th>2016-10-28 19:00:00</th>\n",
       "      <td>689.249739</td>\n",
       "      <td>0.961787</td>\n",
       "      <td>6.185830</td>\n",
       "      <td>11.060000</td>\n",
       "      <td>9.339480</td>\n",
       "      <td>0.008481</td>\n",
       "      <td>3.982000</td>\n",
       "      <td>0.007076</td>\n",
       "      <td>0.002200</td>\n",
       "      <td>4.712592</td>\n",
       "      <td>5000.0</td>\n",
       "    </tr>\n",
       "    <tr>\n",
       "      <th>2016-10-28 19:30:00</th>\n",
       "      <td>689.788203</td>\n",
       "      <td>0.950000</td>\n",
       "      <td>6.135330</td>\n",
       "      <td>10.950000</td>\n",
       "      <td>9.341205</td>\n",
       "      <td>0.007750</td>\n",
       "      <td>3.954382</td>\n",
       "      <td>0.006886</td>\n",
       "      <td>0.002027</td>\n",
       "      <td>4.801335</td>\n",
       "      <td>5000.0</td>\n",
       "    </tr>\n",
       "    <tr>\n",
       "      <th>2016-10-28 20:00:00</th>\n",
       "      <td>689.788192</td>\n",
       "      <td>0.950000</td>\n",
       "      <td>5.767732</td>\n",
       "      <td>11.063472</td>\n",
       "      <td>9.255634</td>\n",
       "      <td>0.008118</td>\n",
       "      <td>3.983055</td>\n",
       "      <td>0.006701</td>\n",
       "      <td>0.002027</td>\n",
       "      <td>4.713255</td>\n",
       "      <td>5000.0</td>\n",
       "    </tr>\n",
       "    <tr>\n",
       "      <th>2016-10-28 20:30:00</th>\n",
       "      <td>688.712397</td>\n",
       "      <td>0.944757</td>\n",
       "      <td>5.816288</td>\n",
       "      <td>11.113499</td>\n",
       "      <td>9.301029</td>\n",
       "      <td>0.008044</td>\n",
       "      <td>3.980000</td>\n",
       "      <td>0.006701</td>\n",
       "      <td>0.002027</td>\n",
       "      <td>4.600000</td>\n",
       "      <td>5000.0</td>\n",
       "    </tr>\n",
       "    <tr>\n",
       "      <th>2016-10-28 21:00:00</th>\n",
       "      <td>691.237645</td>\n",
       "      <td>0.951750</td>\n",
       "      <td>5.750000</td>\n",
       "      <td>11.050000</td>\n",
       "      <td>9.295164</td>\n",
       "      <td>0.007800</td>\n",
       "      <td>3.986000</td>\n",
       "      <td>0.006639</td>\n",
       "      <td>0.002132</td>\n",
       "      <td>4.600000</td>\n",
       "      <td>5000.0</td>\n",
       "    </tr>\n",
       "  </tbody>\n",
       "</table>\n",
       "</div>"
      ],
      "text/plain": [
       "                       USDT_BTC  USDT_ETC  USDT_XMR   USDT_ETH  USDT_DASH  \\\n",
       "time_utc                                                                    \n",
       "2016-10-28 19:00:00  689.249739  0.961787  6.185830  11.060000   9.339480   \n",
       "2016-10-28 19:30:00  689.788203  0.950000  6.135330  10.950000   9.341205   \n",
       "2016-10-28 20:00:00  689.788192  0.950000  5.767732  11.063472   9.255634   \n",
       "2016-10-28 20:30:00  688.712397  0.944757  5.816288  11.113499   9.301029   \n",
       "2016-10-28 21:00:00  691.237645  0.951750  5.750000  11.050000   9.295164   \n",
       "\n",
       "                     USDT_XRP  USDT_LTC  USDT_NXT  USDT_STR  USDT_REP  \\\n",
       "time_utc                                                                \n",
       "2016-10-28 19:00:00  0.008481  3.982000  0.007076  0.002200  4.712592   \n",
       "2016-10-28 19:30:00  0.007750  3.954382  0.006886  0.002027  4.801335   \n",
       "2016-10-28 20:00:00  0.008118  3.983055  0.006701  0.002027  4.713255   \n",
       "2016-10-28 20:30:00  0.008044  3.980000  0.006701  0.002027  4.600000   \n",
       "2016-10-28 21:00:00  0.007800  3.986000  0.006639  0.002132  4.600000   \n",
       "\n",
       "                     USDT_ZEC  \n",
       "time_utc                       \n",
       "2016-10-28 19:00:00    5000.0  \n",
       "2016-10-28 19:30:00    5000.0  \n",
       "2016-10-28 20:00:00    5000.0  \n",
       "2016-10-28 20:30:00    5000.0  \n",
       "2016-10-28 21:00:00    5000.0  "
      ]
     },
     "execution_count": 40,
     "metadata": {},
     "output_type": "execute_result"
    }
   ],
   "source": [
    "all_coins_df.head()"
   ]
  },
  {
   "cell_type": "code",
   "execution_count": 41,
   "metadata": {},
   "outputs": [
    {
     "ename": "FileNotFoundError",
     "evalue": "File b'data/poloniex_ETH-BTC_1800.csv' does not exist",
     "output_type": "error",
     "traceback": [
      "\u001b[0;31m---------------------------------------------------------------------------\u001b[0m",
      "\u001b[0;31mFileNotFoundError\u001b[0m                         Traceback (most recent call last)",
      "\u001b[0;32m<ipython-input-41-857d08f9e152>\u001b[0m in \u001b[0;36m<module>\u001b[0;34m()\u001b[0m\n\u001b[0;32m----> 1\u001b[0;31m \u001b[0mdf\u001b[0m \u001b[0;34m=\u001b[0m \u001b[0mload_data\u001b[0m\u001b[0;34m(\u001b[0m\u001b[0mc\u001b[0m\u001b[0;34m.\u001b[0m\u001b[0mETH\u001b[0m\u001b[0;34m,\u001b[0m \u001b[0mc\u001b[0m\u001b[0;34m.\u001b[0m\u001b[0mBTC\u001b[0m\u001b[0;34m,\u001b[0m \u001b[0mc\u001b[0m\u001b[0;34m.\u001b[0m\u001b[0mPOLONIEX\u001b[0m\u001b[0;34m,\u001b[0m \u001b[0mfrequency\u001b[0m\u001b[0;34m)\u001b[0m\u001b[0;34m\u001b[0m\u001b[0m\n\u001b[0m\u001b[1;32m      2\u001b[0m \u001b[0mdf\u001b[0m\u001b[0;34m.\u001b[0m\u001b[0mhead\u001b[0m\u001b[0;34m(\u001b[0m\u001b[0;34m)\u001b[0m\u001b[0;34m\u001b[0m\u001b[0m\n",
      "\u001b[0;32m<ipython-input-39-d7c93868608a>\u001b[0m in \u001b[0;36mload_data\u001b[0;34m(coin, fiat, exchange, frequency)\u001b[0m\n\u001b[1;32m      1\u001b[0m \u001b[0;32mdef\u001b[0m \u001b[0mload_data\u001b[0m\u001b[0;34m(\u001b[0m\u001b[0mcoin\u001b[0m\u001b[0;34m,\u001b[0m \u001b[0mfiat\u001b[0m\u001b[0;34m,\u001b[0m \u001b[0mexchange\u001b[0m\u001b[0;34m,\u001b[0m \u001b[0mfrequency\u001b[0m\u001b[0;34m)\u001b[0m\u001b[0;34m:\u001b[0m\u001b[0;34m\u001b[0m\u001b[0m\n\u001b[1;32m      2\u001b[0m     \u001b[0mfpath\u001b[0m \u001b[0;34m=\u001b[0m \u001b[0mget_price_fpath\u001b[0m\u001b[0;34m(\u001b[0m\u001b[0mcoin\u001b[0m\u001b[0;34m,\u001b[0m \u001b[0mfiat\u001b[0m\u001b[0;34m,\u001b[0m \u001b[0mexchange\u001b[0m\u001b[0;34m,\u001b[0m \u001b[0mfrequency\u001b[0m\u001b[0;34m)\u001b[0m\u001b[0;34m\u001b[0m\u001b[0m\n\u001b[0;32m----> 3\u001b[0;31m     \u001b[0mdf\u001b[0m \u001b[0;34m=\u001b[0m \u001b[0mpd\u001b[0m\u001b[0;34m.\u001b[0m\u001b[0mread_csv\u001b[0m\u001b[0;34m(\u001b[0m\u001b[0mfpath\u001b[0m\u001b[0;34m,\u001b[0m \u001b[0mindex_col\u001b[0m \u001b[0;34m=\u001b[0m \u001b[0;34m'date'\u001b[0m\u001b[0;34m)\u001b[0m\u001b[0;34m\u001b[0m\u001b[0m\n\u001b[0m\u001b[1;32m      4\u001b[0m     \u001b[0mdf\u001b[0m\u001b[0;34m.\u001b[0m\u001b[0mdropna\u001b[0m\u001b[0;34m(\u001b[0m\u001b[0minplace\u001b[0m\u001b[0;34m=\u001b[0m\u001b[0;32mTrue\u001b[0m\u001b[0;34m)\u001b[0m\u001b[0;34m\u001b[0m\u001b[0m\n\u001b[1;32m      5\u001b[0m     \u001b[0mdf\u001b[0m\u001b[0;34m[\u001b[0m\u001b[0;34m'time_utc'\u001b[0m\u001b[0;34m]\u001b[0m \u001b[0;34m=\u001b[0m \u001b[0;34m[\u001b[0m\u001b[0mdatetime\u001b[0m\u001b[0;34m.\u001b[0m\u001b[0mdatetime\u001b[0m\u001b[0;34m.\u001b[0m\u001b[0mstrptime\u001b[0m\u001b[0;34m(\u001b[0m\u001b[0mt\u001b[0m\u001b[0;34m,\u001b[0m \u001b[0;34m'%Y-%m-%d %H:%M:%S'\u001b[0m\u001b[0;34m)\u001b[0m \u001b[0;32mfor\u001b[0m \u001b[0mt\u001b[0m \u001b[0;32min\u001b[0m \u001b[0mdf\u001b[0m\u001b[0;34m.\u001b[0m\u001b[0mindex\u001b[0m\u001b[0;34m.\u001b[0m\u001b[0mvalues\u001b[0m\u001b[0;34m]\u001b[0m\u001b[0;34m\u001b[0m\u001b[0m\n",
      "\u001b[0;32m/home/bfortuner/anaconda3/lib/python3.6/site-packages/pandas/io/parsers.py\u001b[0m in \u001b[0;36mparser_f\u001b[0;34m(filepath_or_buffer, sep, delimiter, header, names, index_col, usecols, squeeze, prefix, mangle_dupe_cols, dtype, engine, converters, true_values, false_values, skipinitialspace, skiprows, nrows, na_values, keep_default_na, na_filter, verbose, skip_blank_lines, parse_dates, infer_datetime_format, keep_date_col, date_parser, dayfirst, iterator, chunksize, compression, thousands, decimal, lineterminator, quotechar, quoting, escapechar, comment, encoding, dialect, tupleize_cols, error_bad_lines, warn_bad_lines, skipfooter, skip_footer, doublequote, delim_whitespace, as_recarray, compact_ints, use_unsigned, low_memory, buffer_lines, memory_map, float_precision)\u001b[0m\n\u001b[1;32m    653\u001b[0m                     skip_blank_lines=skip_blank_lines)\n\u001b[1;32m    654\u001b[0m \u001b[0;34m\u001b[0m\u001b[0m\n\u001b[0;32m--> 655\u001b[0;31m         \u001b[0;32mreturn\u001b[0m \u001b[0m_read\u001b[0m\u001b[0;34m(\u001b[0m\u001b[0mfilepath_or_buffer\u001b[0m\u001b[0;34m,\u001b[0m \u001b[0mkwds\u001b[0m\u001b[0;34m)\u001b[0m\u001b[0;34m\u001b[0m\u001b[0m\n\u001b[0m\u001b[1;32m    656\u001b[0m \u001b[0;34m\u001b[0m\u001b[0m\n\u001b[1;32m    657\u001b[0m     \u001b[0mparser_f\u001b[0m\u001b[0;34m.\u001b[0m\u001b[0m__name__\u001b[0m \u001b[0;34m=\u001b[0m \u001b[0mname\u001b[0m\u001b[0;34m\u001b[0m\u001b[0m\n",
      "\u001b[0;32m/home/bfortuner/anaconda3/lib/python3.6/site-packages/pandas/io/parsers.py\u001b[0m in \u001b[0;36m_read\u001b[0;34m(filepath_or_buffer, kwds)\u001b[0m\n\u001b[1;32m    403\u001b[0m \u001b[0;34m\u001b[0m\u001b[0m\n\u001b[1;32m    404\u001b[0m     \u001b[0;31m# Create the parser.\u001b[0m\u001b[0;34m\u001b[0m\u001b[0;34m\u001b[0m\u001b[0m\n\u001b[0;32m--> 405\u001b[0;31m     \u001b[0mparser\u001b[0m \u001b[0;34m=\u001b[0m \u001b[0mTextFileReader\u001b[0m\u001b[0;34m(\u001b[0m\u001b[0mfilepath_or_buffer\u001b[0m\u001b[0;34m,\u001b[0m \u001b[0;34m**\u001b[0m\u001b[0mkwds\u001b[0m\u001b[0;34m)\u001b[0m\u001b[0;34m\u001b[0m\u001b[0m\n\u001b[0m\u001b[1;32m    406\u001b[0m \u001b[0;34m\u001b[0m\u001b[0m\n\u001b[1;32m    407\u001b[0m     \u001b[0;32mif\u001b[0m \u001b[0mchunksize\u001b[0m \u001b[0;32mor\u001b[0m \u001b[0miterator\u001b[0m\u001b[0;34m:\u001b[0m\u001b[0;34m\u001b[0m\u001b[0m\n",
      "\u001b[0;32m/home/bfortuner/anaconda3/lib/python3.6/site-packages/pandas/io/parsers.py\u001b[0m in \u001b[0;36m__init__\u001b[0;34m(self, f, engine, **kwds)\u001b[0m\n\u001b[1;32m    762\u001b[0m             \u001b[0mself\u001b[0m\u001b[0;34m.\u001b[0m\u001b[0moptions\u001b[0m\u001b[0;34m[\u001b[0m\u001b[0;34m'has_index_names'\u001b[0m\u001b[0;34m]\u001b[0m \u001b[0;34m=\u001b[0m \u001b[0mkwds\u001b[0m\u001b[0;34m[\u001b[0m\u001b[0;34m'has_index_names'\u001b[0m\u001b[0;34m]\u001b[0m\u001b[0;34m\u001b[0m\u001b[0m\n\u001b[1;32m    763\u001b[0m \u001b[0;34m\u001b[0m\u001b[0m\n\u001b[0;32m--> 764\u001b[0;31m         \u001b[0mself\u001b[0m\u001b[0;34m.\u001b[0m\u001b[0m_make_engine\u001b[0m\u001b[0;34m(\u001b[0m\u001b[0mself\u001b[0m\u001b[0;34m.\u001b[0m\u001b[0mengine\u001b[0m\u001b[0;34m)\u001b[0m\u001b[0;34m\u001b[0m\u001b[0m\n\u001b[0m\u001b[1;32m    765\u001b[0m \u001b[0;34m\u001b[0m\u001b[0m\n\u001b[1;32m    766\u001b[0m     \u001b[0;32mdef\u001b[0m \u001b[0mclose\u001b[0m\u001b[0;34m(\u001b[0m\u001b[0mself\u001b[0m\u001b[0;34m)\u001b[0m\u001b[0;34m:\u001b[0m\u001b[0;34m\u001b[0m\u001b[0m\n",
      "\u001b[0;32m/home/bfortuner/anaconda3/lib/python3.6/site-packages/pandas/io/parsers.py\u001b[0m in \u001b[0;36m_make_engine\u001b[0;34m(self, engine)\u001b[0m\n\u001b[1;32m    983\u001b[0m     \u001b[0;32mdef\u001b[0m \u001b[0m_make_engine\u001b[0m\u001b[0;34m(\u001b[0m\u001b[0mself\u001b[0m\u001b[0;34m,\u001b[0m \u001b[0mengine\u001b[0m\u001b[0;34m=\u001b[0m\u001b[0;34m'c'\u001b[0m\u001b[0;34m)\u001b[0m\u001b[0;34m:\u001b[0m\u001b[0;34m\u001b[0m\u001b[0m\n\u001b[1;32m    984\u001b[0m         \u001b[0;32mif\u001b[0m \u001b[0mengine\u001b[0m \u001b[0;34m==\u001b[0m \u001b[0;34m'c'\u001b[0m\u001b[0;34m:\u001b[0m\u001b[0;34m\u001b[0m\u001b[0m\n\u001b[0;32m--> 985\u001b[0;31m             \u001b[0mself\u001b[0m\u001b[0;34m.\u001b[0m\u001b[0m_engine\u001b[0m \u001b[0;34m=\u001b[0m \u001b[0mCParserWrapper\u001b[0m\u001b[0;34m(\u001b[0m\u001b[0mself\u001b[0m\u001b[0;34m.\u001b[0m\u001b[0mf\u001b[0m\u001b[0;34m,\u001b[0m \u001b[0;34m**\u001b[0m\u001b[0mself\u001b[0m\u001b[0;34m.\u001b[0m\u001b[0moptions\u001b[0m\u001b[0;34m)\u001b[0m\u001b[0;34m\u001b[0m\u001b[0m\n\u001b[0m\u001b[1;32m    986\u001b[0m         \u001b[0;32melse\u001b[0m\u001b[0;34m:\u001b[0m\u001b[0;34m\u001b[0m\u001b[0m\n\u001b[1;32m    987\u001b[0m             \u001b[0;32mif\u001b[0m \u001b[0mengine\u001b[0m \u001b[0;34m==\u001b[0m \u001b[0;34m'python'\u001b[0m\u001b[0;34m:\u001b[0m\u001b[0;34m\u001b[0m\u001b[0m\n",
      "\u001b[0;32m/home/bfortuner/anaconda3/lib/python3.6/site-packages/pandas/io/parsers.py\u001b[0m in \u001b[0;36m__init__\u001b[0;34m(self, src, **kwds)\u001b[0m\n\u001b[1;32m   1603\u001b[0m         \u001b[0mkwds\u001b[0m\u001b[0;34m[\u001b[0m\u001b[0;34m'allow_leading_cols'\u001b[0m\u001b[0;34m]\u001b[0m \u001b[0;34m=\u001b[0m \u001b[0mself\u001b[0m\u001b[0;34m.\u001b[0m\u001b[0mindex_col\u001b[0m \u001b[0;32mis\u001b[0m \u001b[0;32mnot\u001b[0m \u001b[0;32mFalse\u001b[0m\u001b[0;34m\u001b[0m\u001b[0m\n\u001b[1;32m   1604\u001b[0m \u001b[0;34m\u001b[0m\u001b[0m\n\u001b[0;32m-> 1605\u001b[0;31m         \u001b[0mself\u001b[0m\u001b[0;34m.\u001b[0m\u001b[0m_reader\u001b[0m \u001b[0;34m=\u001b[0m \u001b[0mparsers\u001b[0m\u001b[0;34m.\u001b[0m\u001b[0mTextReader\u001b[0m\u001b[0;34m(\u001b[0m\u001b[0msrc\u001b[0m\u001b[0;34m,\u001b[0m \u001b[0;34m**\u001b[0m\u001b[0mkwds\u001b[0m\u001b[0;34m)\u001b[0m\u001b[0;34m\u001b[0m\u001b[0m\n\u001b[0m\u001b[1;32m   1606\u001b[0m \u001b[0;34m\u001b[0m\u001b[0m\n\u001b[1;32m   1607\u001b[0m         \u001b[0;31m# XXX\u001b[0m\u001b[0;34m\u001b[0m\u001b[0;34m\u001b[0m\u001b[0m\n",
      "\u001b[0;32mpandas/_libs/parsers.pyx\u001b[0m in \u001b[0;36mpandas._libs.parsers.TextReader.__cinit__ (pandas/_libs/parsers.c:4209)\u001b[0;34m()\u001b[0m\n",
      "\u001b[0;32mpandas/_libs/parsers.pyx\u001b[0m in \u001b[0;36mpandas._libs.parsers.TextReader._setup_parser_source (pandas/_libs/parsers.c:8873)\u001b[0;34m()\u001b[0m\n",
      "\u001b[0;31mFileNotFoundError\u001b[0m: File b'data/poloniex_ETH-BTC_1800.csv' does not exist"
     ]
    }
   ],
   "source": [
    "df = load_data(c.ETH, c.BTC, c.POLONIEX, frequency)\n",
    "df.head()"
   ]
  },
  {
   "cell_type": "code",
   "execution_count": null,
   "metadata": {},
   "outputs": [],
   "source": [
    "# Check for missing timesteps\n",
    "def check_missing_timesteps(df, timestep):\n",
    "    start_time = df.index[0]\n",
    "    end_time = df.index[-1]\n",
    "    print(\"Start\", start_time)\n",
    "    print(\"End\", end_time)\n",
    "    last_time = start_time\n",
    "    n_missing = 0\n",
    "    for idx,row in df[1:].iterrows():\n",
    "        cur_time = idx\n",
    "        if cur_time != last_time + datetime.timedelta(seconds=timestep):\n",
    "            print(\"Expected:\", last_time + datetime.timedelta(seconds=timestep), \n",
    "                  \"| Time:\", cur_time)\n",
    "            n_missing += (cur_time - last_time).seconds//timestep\n",
    "        last_time = cur_time\n",
    "    return n_missing"
   ]
  },
  {
   "cell_type": "code",
   "execution_count": null,
   "metadata": {},
   "outputs": [],
   "source": [
    "check_missing_timesteps(df, 1800)\n",
    "check_missing_timesteps(all_coins_df, 1800)"
   ]
  },
  {
   "cell_type": "markdown",
   "metadata": {},
   "source": [
    "## Explore"
   ]
  },
  {
   "cell_type": "code",
   "execution_count": 42,
   "metadata": {},
   "outputs": [
    {
     "name": "stdout",
     "output_type": "stream",
     "text": [
      "Index(['USDT_BTC', 'USDT_ETC', 'USDT_XMR', 'USDT_ETH', 'USDT_DASH', 'USDT_XRP',\n",
      "       'USDT_LTC', 'USDT_NXT', 'USDT_STR', 'USDT_REP', 'USDT_ZEC'],\n",
      "      dtype='object')\n"
     ]
    },
    {
     "data": {
      "text/html": [
       "<div>\n",
       "<style>\n",
       "    .dataframe thead tr:only-child th {\n",
       "        text-align: right;\n",
       "    }\n",
       "\n",
       "    .dataframe thead th {\n",
       "        text-align: left;\n",
       "    }\n",
       "\n",
       "    .dataframe tbody tr th {\n",
       "        vertical-align: top;\n",
       "    }\n",
       "</style>\n",
       "<table border=\"1\" class=\"dataframe\">\n",
       "  <thead>\n",
       "    <tr style=\"text-align: right;\">\n",
       "      <th></th>\n",
       "      <th>USDT_BTC</th>\n",
       "      <th>USDT_ETC</th>\n",
       "      <th>USDT_XMR</th>\n",
       "      <th>USDT_ETH</th>\n",
       "      <th>USDT_DASH</th>\n",
       "      <th>USDT_XRP</th>\n",
       "      <th>USDT_LTC</th>\n",
       "      <th>USDT_NXT</th>\n",
       "      <th>USDT_STR</th>\n",
       "      <th>USDT_REP</th>\n",
       "      <th>USDT_ZEC</th>\n",
       "    </tr>\n",
       "    <tr>\n",
       "      <th>date</th>\n",
       "      <th></th>\n",
       "      <th></th>\n",
       "      <th></th>\n",
       "      <th></th>\n",
       "      <th></th>\n",
       "      <th></th>\n",
       "      <th></th>\n",
       "      <th></th>\n",
       "      <th></th>\n",
       "      <th></th>\n",
       "      <th></th>\n",
       "    </tr>\n",
       "  </thead>\n",
       "  <tbody>\n",
       "    <tr>\n",
       "      <th>2016-10-28 19:00:00</th>\n",
       "      <td>689.249739</td>\n",
       "      <td>0.961787</td>\n",
       "      <td>6.185830</td>\n",
       "      <td>11.060000</td>\n",
       "      <td>9.339480</td>\n",
       "      <td>0.008481</td>\n",
       "      <td>3.982000</td>\n",
       "      <td>0.007076</td>\n",
       "      <td>0.002200</td>\n",
       "      <td>4.712592</td>\n",
       "      <td>5000.0</td>\n",
       "    </tr>\n",
       "    <tr>\n",
       "      <th>2016-10-28 19:30:00</th>\n",
       "      <td>689.788203</td>\n",
       "      <td>0.950000</td>\n",
       "      <td>6.135330</td>\n",
       "      <td>10.950000</td>\n",
       "      <td>9.341205</td>\n",
       "      <td>0.007750</td>\n",
       "      <td>3.954382</td>\n",
       "      <td>0.006886</td>\n",
       "      <td>0.002027</td>\n",
       "      <td>4.801335</td>\n",
       "      <td>5000.0</td>\n",
       "    </tr>\n",
       "    <tr>\n",
       "      <th>2016-10-28 20:00:00</th>\n",
       "      <td>689.788192</td>\n",
       "      <td>0.950000</td>\n",
       "      <td>5.767732</td>\n",
       "      <td>11.063472</td>\n",
       "      <td>9.255634</td>\n",
       "      <td>0.008118</td>\n",
       "      <td>3.983055</td>\n",
       "      <td>0.006701</td>\n",
       "      <td>0.002027</td>\n",
       "      <td>4.713255</td>\n",
       "      <td>5000.0</td>\n",
       "    </tr>\n",
       "    <tr>\n",
       "      <th>2016-10-28 20:30:00</th>\n",
       "      <td>688.712397</td>\n",
       "      <td>0.944757</td>\n",
       "      <td>5.816288</td>\n",
       "      <td>11.113499</td>\n",
       "      <td>9.301029</td>\n",
       "      <td>0.008044</td>\n",
       "      <td>3.980000</td>\n",
       "      <td>0.006701</td>\n",
       "      <td>0.002027</td>\n",
       "      <td>4.600000</td>\n",
       "      <td>5000.0</td>\n",
       "    </tr>\n",
       "    <tr>\n",
       "      <th>2016-10-28 21:00:00</th>\n",
       "      <td>691.237645</td>\n",
       "      <td>0.951750</td>\n",
       "      <td>5.750000</td>\n",
       "      <td>11.050000</td>\n",
       "      <td>9.295164</td>\n",
       "      <td>0.007800</td>\n",
       "      <td>3.986000</td>\n",
       "      <td>0.006639</td>\n",
       "      <td>0.002132</td>\n",
       "      <td>4.600000</td>\n",
       "      <td>5000.0</td>\n",
       "    </tr>\n",
       "  </tbody>\n",
       "</table>\n",
       "</div>"
      ],
      "text/plain": [
       "                       USDT_BTC  USDT_ETC  USDT_XMR   USDT_ETH  USDT_DASH  \\\n",
       "date                                                                        \n",
       "2016-10-28 19:00:00  689.249739  0.961787  6.185830  11.060000   9.339480   \n",
       "2016-10-28 19:30:00  689.788203  0.950000  6.135330  10.950000   9.341205   \n",
       "2016-10-28 20:00:00  689.788192  0.950000  5.767732  11.063472   9.255634   \n",
       "2016-10-28 20:30:00  688.712397  0.944757  5.816288  11.113499   9.301029   \n",
       "2016-10-28 21:00:00  691.237645  0.951750  5.750000  11.050000   9.295164   \n",
       "\n",
       "                     USDT_XRP  USDT_LTC  USDT_NXT  USDT_STR  USDT_REP  \\\n",
       "date                                                                    \n",
       "2016-10-28 19:00:00  0.008481  3.982000  0.007076  0.002200  4.712592   \n",
       "2016-10-28 19:30:00  0.007750  3.954382  0.006886  0.002027  4.801335   \n",
       "2016-10-28 20:00:00  0.008118  3.983055  0.006701  0.002027  4.713255   \n",
       "2016-10-28 20:30:00  0.008044  3.980000  0.006701  0.002027  4.600000   \n",
       "2016-10-28 21:00:00  0.007800  3.986000  0.006639  0.002132  4.600000   \n",
       "\n",
       "                     USDT_ZEC  \n",
       "date                           \n",
       "2016-10-28 19:00:00    5000.0  \n",
       "2016-10-28 19:30:00    5000.0  \n",
       "2016-10-28 20:00:00    5000.0  \n",
       "2016-10-28 20:30:00    5000.0  \n",
       "2016-10-28 21:00:00    5000.0  "
      ]
     },
     "execution_count": 42,
     "metadata": {},
     "output_type": "execute_result"
    }
   ],
   "source": [
    "crypto_df = pd.DataFrame()\n",
    "for ticker in tickers:\n",
    "    fiat,coin = ticker.split('_')\n",
    "    fpath = get_price_fpath(coin, fiat, c.POLONIEX, frequency)\n",
    "    crypto_df[ticker] = pd.read_csv(fpath, index_col = 'date')['close']\n",
    "crypto_df.dropna(inplace=True)\n",
    "print(crypto_df.columns)\n",
    "crypto_df.head()"
   ]
  },
  {
   "cell_type": "code",
   "execution_count": 43,
   "metadata": {},
   "outputs": [
    {
     "data": {
      "text/plain": [
       "<matplotlib.axes._subplots.AxesSubplot at 0x7f8f0ad66cf8>"
      ]
     },
     "execution_count": 43,
     "metadata": {},
     "output_type": "execute_result"
    },
    {
     "data": {
      "image/png": "[encoded data removed]",
      "text/plain": [
       "<matplotlib.figure.Figure at 0x7f8f0ad38ac8>"
      ]
     },
     "metadata": {},
     "output_type": "display_data"
    }
   ],
   "source": [
    "crypto_df_norm = crypto_df.divide(crypto_df.iloc[0])\n",
    "crypto_df_pct = crypto_df.pct_change().dropna()\n",
    "corr = crypto_df_pct.corr()\n",
    "crypto_df_norm.plot(figsize=(18,8))"
   ]
  },
  {
   "cell_type": "code",
   "execution_count": 44,
   "metadata": {},
   "outputs": [
    {
     "data": {
      "text/plain": [
       "0.31478999094614157"
      ]
     },
     "execution_count": 44,
     "metadata": {},
     "output_type": "execute_result"
    },
    {
     "data": {
      "image/png": "[encoded data removed]",
      "text/plain": [
       "<matplotlib.figure.Figure at 0x7f8f0ae9b438>"
      ]
     },
     "metadata": {},
     "output_type": "display_data"
    }
   ],
   "source": [
    "sns.heatmap(corr, \n",
    "            xticklabels=corr.columns.values,\n",
    "            yticklabels=corr.columns.values)\n",
    "corr['USDT_XMR']['USDT_DASH']"
   ]
  },
  {
   "cell_type": "code",
   "execution_count": null,
   "metadata": {},
   "outputs": [],
   "source": [
    "plt.scatter(crypto_df_pct['USDT_DASH'],crypto_df_pct['USDT_XMR'])\n",
    "plt.xlabel('USDT_DASH % Return')\n",
    "plt.ylabel('USDT_XMR % Return')"
   ]
  },
  {
   "cell_type": "code",
   "execution_count": null,
   "metadata": {},
   "outputs": [],
   "source": [
    "import statsmodels.api as sm\n",
    "model = sm.OLS(crypto_df_pct['USDT_XMR'],\n",
    "               crypto_df_pct['USDT_DASH']).fit()\n",
    "model.summary()"
   ]
  },
  {
   "cell_type": "code",
   "execution_count": null,
   "metadata": {},
   "outputs": [],
   "source": [
    "line=[model.params[0]*i for i in crypto_df_pct['USDT_DASH'].values]\n",
    "plt.plot(crypto_df_pct['USDT_DASH'], line, c = 'r')\n",
    "plt.scatter(crypto_df_pct['USDT_DASH'],crypto_df_pct['USDT_XMR'])\n",
    "plt.xlabel('USDT_DASH % Return')\n",
    "plt.ylabel('USDT_XMR % Return')"
   ]
  },
  {
   "cell_type": "code",
   "execution_count": null,
   "metadata": {},
   "outputs": [],
   "source": [
    "coin = 'LTC'\n",
    "fiat = 'BTC'\n",
    "ticker = '{:s}_{:s}'.format(fiat, coin)\n",
    "frequency = 300\n",
    "df = CryptoDataCSV(symbol = ticker, frequency = frequency)"
   ]
  },
  {
   "cell_type": "code",
   "execution_count": null,
   "metadata": {},
   "outputs": [],
   "source": [
    "fpath = get_price_fpath(coin, fiat, c.POLONIEX, frequency)\n",
    "df[ticker] = pd.read_csv(fpath, index_col = 'date')['close']\n",
    "df['SMA_1000'] = df['close'].rolling(1000).mean()\n",
    "df['SMA_5000'] = df['close'].rolling(5000).mean()\n",
    "df[['close','SMA_1000','SMA_5000']][270000:].plot(figsize = (16,10))"
   ]
  },
  {
   "cell_type": "code",
   "execution_count": null,
   "metadata": {},
   "outputs": [],
   "source": [
    "def test_ma(df, lead, lag, pc_thresh = 0.025):\n",
    "    ma_df = df.copy()\n",
    "    ma_df['lead'] = ma_df['close'].rolling(lead).mean()\n",
    "    ma_df['lag'] = ma_df['close'].rolling(lag).mean()\n",
    "    ma_df.dropna(inplace = True)\n",
    "    ma_df['lead-lag'] = ma_df['lead'] - ma_df['lag']\n",
    "    ma_df['pc_diff'] = ma_df['lead-lag'] / ma_df['close']\n",
    "    ma_df['regime'] = np.where(ma_df['pc_diff'] > pc_thresh, 1, 0)\n",
    "    ma_df['regime'] = np.where(ma_df['pc_diff'] < -pc_thresh, -1, ma_df['regime'])\n",
    "    ma_df['Market'] = np.log(ma_df['close'] / ma_df['close'].shift(1))\n",
    "    ma_df['Strategy'] = ma_df['regime'].shift(1) * ma_df['Market']\n",
    "    ma_df[['Market','Strategy']] = ma_df[['Market','Strategy']].cumsum().apply(np.exp)\n",
    "    return ma_df"
   ]
  },
  {
   "cell_type": "code",
   "execution_count": null,
   "metadata": {},
   "outputs": [],
   "source": [
    "ma_df = test_ma(df, 1000, 5000).dropna()\n",
    "ma_df['regime'].plot(figsize=(16,5))"
   ]
  },
  {
   "cell_type": "code",
   "execution_count": null,
   "metadata": {},
   "outputs": [],
   "source": [
    "ma_df[['Market','Strategy']].iloc[-1]"
   ]
  },
  {
   "cell_type": "code",
   "execution_count": null,
   "metadata": {},
   "outputs": [],
   "source": [
    "ma_df[['Market','Strategy']][200000:].plot(figsize = (16,10))"
   ]
  },
  {
   "cell_type": "code",
   "execution_count": null,
   "metadata": {},
   "outputs": [],
   "source": [
    "leads = np.arange(100, 4100, 100)\n",
    "lags = np.arange(4100, 8100, 100)\n",
    "lead_lags = [[lead,lag] for lead in leads for lag in lags]\n",
    "pnls = pd.DataFrame(index=lags,columns = leads)"
   ]
  },
  {
   "cell_type": "code",
   "execution_count": null,
   "metadata": {},
   "outputs": [],
   "source": [
    "for lead, lag in lead_lags:\n",
    "    pnls[lead][lag] = test_ma(df, lead, lag)['Strategy'][-1]\n",
    "    #print(lead,lag,pnls[lead][lag])"
   ]
  },
  {
   "cell_type": "code",
   "execution_count": null,
   "metadata": {},
   "outputs": [],
   "source": [
    "PNLs = pnls[pnls.columns].astype(float)\n",
    "plt.subplots(figsize = (14,10))\n",
    "sns.heatmap(PNLs, cmap='PiYG')\n",
    "#PNLs.max()"
   ]
  },
  {
   "cell_type": "code",
   "execution_count": null,
   "metadata": {},
   "outputs": [],
   "source": [
    "df.dropna().head()"
   ]
  },
  {
   "cell_type": "markdown",
   "metadata": {},
   "source": [
    "## API"
   ]
  },
  {
   "cell_type": "markdown",
   "metadata": {},
   "source": [
    "* https://poloniex.com/support/api/\n",
    "* https://pypi.python.org/pypi/poloniex\n",
    "* https://github.com/Aula13/poloniex\n",
    "* https://github.com/s4w3d0ff/python-poloniex\n",
    "* https://pastebin.com/fbkheaRb"
   ]
  },
  {
   "cell_type": "code",
   "execution_count": null,
   "metadata": {},
   "outputs": [],
   "source": []
  }
 ],
 "metadata": {
  "kernelspec": {
   "display_name": "Python 3",
   "language": "python",
   "name": "python3"
  },
  "language_info": {
   "codemirror_mode": {
    "name": "ipython",
    "version": 3
   },
   "file_extension": ".py",
   "mimetype": "text/x-python",
   "name": "python",
   "nbconvert_exporter": "python",
   "pygments_lexer": "ipython3",
   "version": "3.6.0"
  },
  "latex_envs": {
   "LaTeX_envs_menu_present": true,
   "autocomplete": true,
   "bibliofile": "biblio.bib",
   "cite_by": "apalike",
   "current_citInitial": 1,
   "eqLabelWithNumbers": true,
   "eqNumInitial": 1,
   "hotkeys": {
    "equation": "Ctrl-E",
    "itemize": "Ctrl-I"
   },
   "labels_anchors": false,
   "latex_user_defs": false,
   "report_style_numbering": false,
   "user_envs_cfg": false
  },
  "toc": {
   "colors": {
    "hover_highlight": "#DAA520",
    "navigate_num": "#000000",
    "navigate_text": "#333333",
    "running_highlight": "#FF0000",
    "selected_highlight": "#FFD700",
    "sidebar_border": "#EEEEEE",
    "wrapper_background": "#FFFFFF"
   },
   "moveMenuLeft": true,
   "nav_menu": {
    "height": "71px",
    "width": "254px"
   },
   "navigate_menu": true,
   "number_sections": true,
   "sideBar": true,
   "threshold": 4,
   "toc_cell": false,
   "toc_section_display": "block",
   "toc_window_display": false,
   "widenNotebook": false
  }
 },
 "nbformat": 4,
 "nbformat_minor": 2
}
