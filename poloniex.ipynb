{
 "cells": [
  {
   "cell_type": "code",
   "execution_count": null,
   "metadata": {},
   "outputs": [],
   "source": [
    "%matplotlib inline\n",
    "%load_ext autoreload\n",
    "%autoreload 2\n",
    "from common import *\n",
    "import qgrid\n",
    "from clients.backtester import poloniex as px\n",
    "from clients.backtester import helpers\n",
    "from clients.backtester import gemini\n",
    "from clients.pypoloniex.pypoloniex import LoadPairs, TimeSeries"
   ]
  },
  {
   "cell_type": "markdown",
   "metadata": {},
   "source": [
    "## Data"
   ]
  },
  {
   "cell_type": "code",
   "execution_count": null,
   "metadata": {},
   "outputs": [],
   "source": [
    "# https://github.com/Crypto-AI/pypoloniex\n",
    "\n",
    "# Load realtime data from PyPoloniex\n",
    "sess = LoadPairs()\n",
    "LTC = sess.getPair(market = 'BTC', coin = 'LTC')\n",
    "print (LTC)"
   ]
  },
  {
   "cell_type": "code",
   "execution_count": null,
   "metadata": {},
   "outputs": [],
   "source": [
    "# Load historical data from Poloniex\n",
    "sess = TimeSeries()\n",
    "\n",
    "# Parameters\n",
    "pair = ('BTC', 'LTC')    # (market, coin)\n",
    "period = 86400           # candle stick period in seconds\n",
    "start = '4/2/2014'       # dd/mm/year\n",
    "end =  '11/2/2014'       # dd/mm/year\n",
    "\n",
    "# Get time series data from Poloniex and load into pandas dataframe\n",
    "sess.getData(pair, period, start, end)\n",
    "sess.show()"
   ]
  },
  {
   "cell_type": "code",
   "execution_count": null,
   "metadata": {},
   "outputs": [],
   "source": [
    "# Export dataframe to csv\n",
    "sess.toCSV('data.csv')\n",
    "\n",
    "# Import dataframe from csv\n",
    "sess = TimeSeries()\n",
    "sess.fromCSV('data.csv')\n",
    "\n",
    "# Return dataframe from TimeSeries object for manipulation\n",
    "df = sess.data\n",
    "df.head()"
   ]
  },
  {
   "cell_type": "code",
   "execution_count": null,
   "metadata": {},
   "outputs": [],
   "source": [
    "# Another way to load historical data\n",
    "\n",
    "pair = \"USDT_BTC\"    # Use ETH pricing data on the BTC market\n",
    "period = 1800       # Use 1800 second candles\n",
    "daysBack = 30       # Grab data starting 30 days ago\n",
    "daysData = 30       # From there collect 60 days of data\n",
    "\n",
    "# Request data from Poloniex\n",
    "data = px.getPast(pair, period, daysBack, daysData)\n",
    "data = pd.DataFrame(data)\n",
    "data['date'] = pd.to_datetime(data['date'], unit='s')"
   ]
  },
  {
   "cell_type": "code",
   "execution_count": null,
   "metadata": {},
   "outputs": [],
   "source": [
    "data['close'].plot()"
   ]
  },
  {
   "cell_type": "code",
   "execution_count": null,
   "metadata": {},
   "outputs": [],
   "source": [
    "# Another way to get data\n",
    "def get_price_fpath(coin, fiat, exchange, timestep):\n",
    "    fname = '{:s}_{:s}_{:d}.csv'.format(exchange, coin+'-'+fiat, timestep)\n",
    "    return os.path.join(cfg.DATA_DIR, fname)\n",
    "\n",
    "# Multiple coins\n",
    "tickers = ['USDT_BTC','USDT_BCH','USDT_ETC','USDT_XMR','USDT_ETH','USDT_DASH',\n",
    " 'USDT_XRP','USDT_LTC','USDT_NXT','USDT_STR','USDT_REP','USDT_ZEC']\n",
    "\n",
    "def CryptoDataCSV(coin, fiat, exchange, frequency):\n",
    "    #Params: String symbol, int frequency = 300,900,1800,7200,14400,86400\n",
    "    #Returns: df from first available date\n",
    "    ticker = '{:s}_{:s}'.format(fiat, coin)\n",
    "    url = ('https://poloniex.com/public?command=returnChartData&currencyPair=' \n",
    "           + ticker + '&end=9999999999&period=' + str(frequency) + '&start=0')\n",
    "    df = pd.read_json(url)\n",
    "    df.set_index('date',inplace=True)\n",
    "    df.to_csv(get_price_fpath(coin, fiat, exchange, frequency))\n",
    "    print('Processed: ' + ticker, \"Rows: \", len(df))\n",
    "    return df    "
   ]
  },
  {
   "cell_type": "code",
   "execution_count": null,
   "metadata": {},
   "outputs": [],
   "source": [
    "# Bulk Coin/Fiat\n",
    "def download_bulk(coins, fiat, exchange, frequency):\n",
    "    for coin in coins:\n",
    "        _ = CryptoDataCSV(coin, fiat, exchange, frequency)"
   ]
  },
  {
   "cell_type": "code",
   "execution_count": null,
   "metadata": {},
   "outputs": [],
   "source": [
    "coins = ['LTC', 'ETH', 'XRP', 'XMR', 'XEM', 'DASH']\n",
    "fiat = c.USDT\n",
    "frequency = 1800\n",
    "exchange = c.POLONIEX\n",
    "download_bulk(coins, fiat, exchange, frequency)"
   ]
  },
  {
   "cell_type": "code",
   "execution_count": null,
   "metadata": {},
   "outputs": [],
   "source": [
    "def load_data(coin, fiat, exchange, frequency):\n",
    "    fpath = get_price_fpath(coin, fiat, exchange, frequency)\n",
    "    df = pd.read_csv(fpath, index_col = 'date')\n",
    "    df.dropna(inplace=True)\n",
    "    df['time_utc'] = [datetime.datetime.strptime(t, '%Y-%m-%d %H:%M:%S') for t in df.index.values]\n",
    "    df = df.set_index('time_utc')\n",
    "    return df\n",
    "\n",
    "def load_coins_data(coins, fiat, exchange, frequency):\n",
    "    df = pd.DataFrame()\n",
    "    for coin in coins:\n",
    "        ticker = '{:s}_{:s}'.format(fiat, coin)\n",
    "        df[ticker] = load_data(coin, fiat, exchange, frequency)['close']\n",
    "    df.dropna(inplace=True)\n",
    "    return df\n",
    "\n",
    "all_coins_df = load_coins_data(coins, fiat, c.POLONIEX, frequency)"
   ]
  },
  {
   "cell_type": "code",
   "execution_count": null,
   "metadata": {},
   "outputs": [],
   "source": [
    "all_coins_df.head()"
   ]
  },
  {
   "cell_type": "code",
   "execution_count": null,
   "metadata": {},
   "outputs": [],
   "source": [
    "df = load_data(c.ETH, c.BTC, c.POLONIEX, frequency)\n",
    "df.head()"
   ]
  },
  {
   "cell_type": "code",
   "execution_count": null,
   "metadata": {},
   "outputs": [],
   "source": [
    "# Check for missing timesteps\n",
    "def check_missing_timesteps(df, timestep):\n",
    "    start_time = df.index[0]\n",
    "    end_time = df.index[-1]\n",
    "    print(\"Start\", start_time)\n",
    "    print(\"End\", end_time)\n",
    "    last_time = start_time\n",
    "    n_missing = 0\n",
    "    for idx,row in df[1:].iterrows():\n",
    "        cur_time = idx\n",
    "        if cur_time != last_time + datetime.timedelta(seconds=timestep):\n",
    "            print(\"Expected:\", last_time + datetime.timedelta(seconds=timestep), \n",
    "                  \"| Time:\", cur_time)\n",
    "            n_missing += (cur_time - last_time).seconds//timestep\n",
    "        last_time = cur_time\n",
    "    return n_missing"
   ]
  },
  {
   "cell_type": "code",
   "execution_count": null,
   "metadata": {},
   "outputs": [],
   "source": [
    "check_missing_timesteps(df, 1800)\n",
    "check_missing_timesteps(all_coins_df, 1800)"
   ]
  },
  {
   "cell_type": "markdown",
   "metadata": {},
   "source": [
    "## Explore"
   ]
  },
  {
   "cell_type": "code",
   "execution_count": null,
   "metadata": {},
   "outputs": [],
   "source": [
    "crypto_df = pd.DataFrame()\n",
    "for coin in coins:\n",
    "    fpath = get_price_fpath(coin, fiat, c.POLONIEX, frequency)\n",
    "    ticker = '{:s}_{:s}'.format(fiat, coin)\n",
    "    crypto_df[ticker] = pd.read_csv(fpath, index_col = 'date')['close']\n",
    "crypto_df.dropna(inplace=True)\n",
    "print(crypto_df.columns)\n",
    "crypto_df.head()"
   ]
  },
  {
   "cell_type": "code",
   "execution_count": null,
   "metadata": {},
   "outputs": [],
   "source": [
    "crypto_df_norm = crypto_df.divide(crypto_df.iloc[0])\n",
    "crypto_df_pct = crypto_df.pct_change().dropna()\n",
    "corr = crypto_df_pct.corr()\n",
    "crypto_df_norm.plot(figsize=(18,8))"
   ]
  },
  {
   "cell_type": "code",
   "execution_count": null,
   "metadata": {},
   "outputs": [],
   "source": [
    "sns.heatmap(corr, \n",
    "            xticklabels=corr.columns.values,\n",
    "            yticklabels=corr.columns.values)\n",
    "corr['BTC_XMR']['BTC_DASH']"
   ]
  },
  {
   "cell_type": "code",
   "execution_count": null,
   "metadata": {},
   "outputs": [],
   "source": [
    "plt.scatter(crypto_df_pct['USDT_DASH'],crypto_df_pct['USDT_XMR'])\n",
    "plt.xlabel('USDT_DASH % Return')\n",
    "plt.ylabel('USDT_XMR % Return')"
   ]
  },
  {
   "cell_type": "code",
   "execution_count": null,
   "metadata": {},
   "outputs": [],
   "source": [
    "import statsmodels.api as sm\n",
    "model = sm.OLS(crypto_df_pct['USDT_XMR'],\n",
    "               crypto_df_pct['USDT_DASH']).fit()\n",
    "model.summary()"
   ]
  },
  {
   "cell_type": "code",
   "execution_count": null,
   "metadata": {},
   "outputs": [],
   "source": [
    "line=[model.params[0]*i for i in crypto_df_pct['USDT_DASH'].values]\n",
    "plt.plot(crypto_df_pct['USDT_DASH'], line, c = 'r')\n",
    "plt.scatter(crypto_df_pct['USDT_DASH'],crypto_df_pct['USDT_XMR'])\n",
    "plt.xlabel('USDT_DASH % Return')\n",
    "plt.ylabel('USDT_XMR % Return')"
   ]
  },
  {
   "cell_type": "code",
   "execution_count": null,
   "metadata": {},
   "outputs": [],
   "source": [
    "coin = 'LTC'\n",
    "fiat = 'BTC'\n",
    "ticker = '{:s}_{:s}'.format(fiat, coin)\n",
    "frequency = 300\n",
    "df = CryptoDataCSV(symbol = ticker, frequency = frequency)"
   ]
  },
  {
   "cell_type": "code",
   "execution_count": null,
   "metadata": {},
   "outputs": [],
   "source": [
    "fpath = get_price_fpath(coin, fiat, c.POLONIEX, frequency)\n",
    "df[ticker] = pd.read_csv(fpath, index_col = 'date')['close']\n",
    "df['SMA_1000'] = df['close'].rolling(1000).mean()\n",
    "df['SMA_5000'] = df['close'].rolling(5000).mean()\n",
    "df[['close','SMA_1000','SMA_5000']][270000:].plot(figsize = (16,10))"
   ]
  },
  {
   "cell_type": "code",
   "execution_count": null,
   "metadata": {},
   "outputs": [],
   "source": [
    "def test_ma(df, lead, lag, pc_thresh = 0.025):\n",
    "    ma_df = df.copy()\n",
    "    ma_df['lead'] = ma_df['close'].rolling(lead).mean()\n",
    "    ma_df['lag'] = ma_df['close'].rolling(lag).mean()\n",
    "    ma_df.dropna(inplace = True)\n",
    "    ma_df['lead-lag'] = ma_df['lead'] - ma_df['lag']\n",
    "    ma_df['pc_diff'] = ma_df['lead-lag'] / ma_df['close']\n",
    "    ma_df['regime'] = np.where(ma_df['pc_diff'] > pc_thresh, 1, 0)\n",
    "    ma_df['regime'] = np.where(ma_df['pc_diff'] < -pc_thresh, -1, ma_df['regime'])\n",
    "    ma_df['Market'] = np.log(ma_df['close'] / ma_df['close'].shift(1))\n",
    "    ma_df['Strategy'] = ma_df['regime'].shift(1) * ma_df['Market']\n",
    "    ma_df[['Market','Strategy']] = ma_df[['Market','Strategy']].cumsum().apply(np.exp)\n",
    "    return ma_df"
   ]
  },
  {
   "cell_type": "code",
   "execution_count": null,
   "metadata": {},
   "outputs": [],
   "source": [
    "ma_df = test_ma(df, 1000, 5000).dropna()\n",
    "ma_df['regime'].plot(figsize=(16,5))"
   ]
  },
  {
   "cell_type": "code",
   "execution_count": null,
   "metadata": {},
   "outputs": [],
   "source": [
    "ma_df[['Market','Strategy']].iloc[-1]"
   ]
  },
  {
   "cell_type": "code",
   "execution_count": null,
   "metadata": {},
   "outputs": [],
   "source": [
    "ma_df[['Market','Strategy']][200000:].plot(figsize = (16,10))"
   ]
  },
  {
   "cell_type": "code",
   "execution_count": null,
   "metadata": {},
   "outputs": [],
   "source": [
    "leads = np.arange(100, 4100, 100)\n",
    "lags = np.arange(4100, 8100, 100)\n",
    "lead_lags = [[lead,lag] for lead in leads for lag in lags]\n",
    "pnls = pd.DataFrame(index=lags,columns = leads)"
   ]
  },
  {
   "cell_type": "code",
   "execution_count": null,
   "metadata": {},
   "outputs": [],
   "source": [
    "for lead, lag in lead_lags:\n",
    "    pnls[lead][lag] = test_ma(df, lead, lag)['Strategy'][-1]\n",
    "    #print(lead,lag,pnls[lead][lag])"
   ]
  },
  {
   "cell_type": "code",
   "execution_count": null,
   "metadata": {},
   "outputs": [],
   "source": [
    "PNLs = pnls[pnls.columns].astype(float)\n",
    "plt.subplots(figsize = (14,10))\n",
    "sns.heatmap(PNLs, cmap='PiYG')\n",
    "#PNLs.max()"
   ]
  },
  {
   "cell_type": "code",
   "execution_count": null,
   "metadata": {},
   "outputs": [],
   "source": [
    "df.dropna().head()"
   ]
  },
  {
   "cell_type": "markdown",
   "metadata": {},
   "source": [
    "## API"
   ]
  },
  {
   "cell_type": "markdown",
   "metadata": {},
   "source": [
    "* https://poloniex.com/support/api/\n",
    "* https://pypi.python.org/pypi/poloniex\n",
    "* https://github.com/Aula13/poloniex\n",
    "* https://github.com/s4w3d0ff/python-poloniex\n",
    "* https://pastebin.com/fbkheaRb"
   ]
  },
  {
   "cell_type": "code",
   "execution_count": null,
   "metadata": {},
   "outputs": [],
   "source": []
  }
 ],
 "metadata": {
  "kernelspec": {
   "display_name": "Python 3",
   "language": "python",
   "name": "python3"
  },
  "language_info": {
   "codemirror_mode": {
    "name": "ipython",
    "version": 3
   },
   "file_extension": ".py",
   "mimetype": "text/x-python",
   "name": "python",
   "nbconvert_exporter": "python",
   "pygments_lexer": "ipython3",
   "version": "3.6.0"
  },
  "latex_envs": {
   "LaTeX_envs_menu_present": true,
   "autocomplete": true,
   "bibliofile": "biblio.bib",
   "cite_by": "apalike",
   "current_citInitial": 1,
   "eqLabelWithNumbers": true,
   "eqNumInitial": 1,
   "hotkeys": {
    "equation": "Ctrl-E",
    "itemize": "Ctrl-I"
   },
   "labels_anchors": false,
   "latex_user_defs": false,
   "report_style_numbering": false,
   "user_envs_cfg": false
  },
  "toc": {
   "colors": {
    "hover_highlight": "#DAA520",
    "navigate_num": "#000000",
    "navigate_text": "#333333",
    "running_highlight": "#FF0000",
    "selected_highlight": "#FFD700",
    "sidebar_border": "#EEEEEE",
    "wrapper_background": "#FFFFFF"
   },
   "moveMenuLeft": true,
   "nav_menu": {
    "height": "71px",
    "width": "254px"
   },
   "navigate_menu": true,
   "number_sections": true,
   "sideBar": true,
   "threshold": 4,
   "toc_cell": false,
   "toc_section_display": "block",
   "toc_window_display": false,
   "widenNotebook": false
  }
 },
 "nbformat": 4,
 "nbformat_minor": 2
}
