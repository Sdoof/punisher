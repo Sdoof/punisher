{
 "cells": [
  {
   "cell_type": "code",
   "execution_count": null,
   "metadata": {},
   "outputs": [],
   "source": [
    "%matplotlib inline\n",
    "%load_ext autoreload\n",
    "%autoreload 2\n",
    "from punisher.common import *"
   ]
  },
  {
   "cell_type": "markdown",
   "metadata": {},
   "source": [
    "# Live Exchange"
   ]
  },
  {
   "cell_type": "code",
   "execution_count": null,
   "metadata": {},
   "outputs": [],
   "source": [
    "#https://www.binance.com/userCenter/openOrders.html\n",
    "exchange = load_exchange(c.BINANCE)"
   ]
  },
  {
   "cell_type": "markdown",
   "metadata": {},
   "source": [
    "## Ticker "
   ]
  },
  {
   "cell_type": "code",
   "execution_count": null,
   "metadata": {},
   "outputs": [],
   "source": [
    "base = c.XRP\n",
    "quote = c.BTC\n",
    "asset = Asset(base, quote)\n",
    "ticker = exchange.fetch_ticker(asset)\n",
    "pprint(ticker)\n",
    "price = ticker['bid']\n",
    "\n",
    "# currently not working as intended... still doesnt provide quantity that meets binance requirements\n",
    "def min_quantity_needed(min_coin_quantity, price):\n",
    "    return math.ceil(min_coin_quantity / price)\n",
    "\n",
    "print(\"\\nPRICE of {} : \".format(base) + str(price))\n",
    "print(\"quantity >= {} {}\".format(min_quantity_needed(c.MIN_BTC, price), base))\n",
    "print(\"Minimum BTC cost = quantity * price = {} BTC\".format(price*(.001/price)))\n",
    "print(\"Rules : Cost must be > 0.001 BTC or 0.01 ETH or 1 BNB or 1 USDT\")"
   ]
  },
  {
   "cell_type": "markdown",
   "metadata": {},
   "source": [
    "## Fetch Orders"
   ]
  },
  {
   "cell_type": "code",
   "execution_count": null,
   "metadata": {
    "scrolled": false
   },
   "outputs": [],
   "source": [
    "# Get all my orders\n",
    "asset = Asset(c.ADA, c.ETH)\n",
    "exchange.fetch_orders(asset)\n",
    "\n",
    "# Get order by id\n",
    "# exchange.fetch_order(order.exchange_order_id, asset.symbol)"
   ]
  },
  {
   "cell_type": "markdown",
   "metadata": {},
   "source": [
    "## Limit Orders"
   ]
  },
  {
   "cell_type": "code",
   "execution_count": null,
   "metadata": {},
   "outputs": [],
   "source": [
    "# LIMIT BUY (Pending - price lower than market so it doesn't fill)\n",
    "asset = Asset(c.XRP, c.BTC)\n",
    "order = exchange.create_limit_buy_order(asset, 20.0, price=0.0001)\n",
    "order"
   ]
  },
  {
   "cell_type": "code",
   "execution_count": null,
   "metadata": {},
   "outputs": [],
   "source": [
    "# Fetch order just created (to verify)\n",
    "exchange.fetch_order(order.ex_order_id, asset)"
   ]
  },
  {
   "cell_type": "code",
   "execution_count": null,
   "metadata": {},
   "outputs": [],
   "source": [
    "# LIMIT SELL (Pending - price higher than market so it doesn't fill)\n",
    "asset = Asset(c.XRP, c.BTC)\n",
    "order = exchange.create_limit_sell_order(asset, 20.0, price=0.0002)\n",
    "order"
   ]
  },
  {
   "cell_type": "markdown",
   "metadata": {},
   "source": [
    "## Market Orders"
   ]
  },
  {
   "cell_type": "code",
   "execution_count": null,
   "metadata": {},
   "outputs": [],
   "source": [
    "asset = Asset(c.XRP, c.BTC)\n",
    "price = exchange.fetch_ticker(asset)['ask']\n",
    "price"
   ]
  },
  {
   "cell_type": "code",
   "execution_count": null,
   "metadata": {},
   "outputs": [],
   "source": [
    "# Example market buy\n",
    "order = exchange.create_market_buy_order(asset, quantity=15.)\n",
    "order"
   ]
  },
  {
   "cell_type": "code",
   "execution_count": null,
   "metadata": {},
   "outputs": [],
   "source": [
    "# MARKET SELL\n",
    "order = exchange.create_market_sell_order(asset, quantity=15.)\n",
    "order"
   ]
  },
  {
   "cell_type": "markdown",
   "metadata": {},
   "source": [
    "## Cancel Order"
   ]
  },
  {
   "cell_type": "code",
   "execution_count": null,
   "metadata": {},
   "outputs": [],
   "source": [
    "# Check price\n",
    "asset = Asset(c.XRP, c.BTC)\n",
    "price = exchange.fetch_ticker(asset)['ask']\n",
    "price"
   ]
  },
  {
   "cell_type": "code",
   "execution_count": null,
   "metadata": {},
   "outputs": [],
   "source": [
    "# Create pending limit order at a price that is much lower than actual price\n",
    "order = exchange.create_limit_buy_order(asset, 20.0, price=0.0001)\n",
    "order"
   ]
  },
  {
   "cell_type": "code",
   "execution_count": null,
   "metadata": {},
   "outputs": [],
   "source": [
    "resp = exchange.cancel_order(order.ex_order_id, asset)\n",
    "resp"
   ]
  },
  {
   "cell_type": "code",
   "execution_count": null,
   "metadata": {},
   "outputs": [],
   "source": [
    "# Fetch LIMIT order just created\n",
    "order = exchange.fetch_order(resp['orderId'], asset)\n",
    "order"
   ]
  },
  {
   "cell_type": "markdown",
   "metadata": {},
   "source": [
    "## Known Exceptions"
   ]
  },
  {
   "cell_type": "code",
   "execution_count": null,
   "metadata": {},
   "outputs": [],
   "source": [
    "# Example insufficient amount * price\n",
    "order = exchange.create_limit_buy_order(asset, 1.0, price)\n",
    "pprint(order)"
   ]
  },
  {
   "cell_type": "code",
   "execution_count": null,
   "metadata": {},
   "outputs": [],
   "source": [
    "# Example sufficient amount * price\n",
    "res = exchange.create_limit_buy_order(asset, 30, price)\n",
    "pprint(res)"
   ]
  },
  {
   "cell_type": "markdown",
   "metadata": {
    "heading_collapsed": true
   },
   "source": [
    "## Other Stuff"
   ]
  },
  {
   "cell_type": "code",
   "execution_count": null,
   "metadata": {
    "hidden": true
   },
   "outputs": [],
   "source": [
    "# Example of how to get amount to lots for exchanges\n",
    "pprint(exchange.client.amount_to_lots(asset.symbol, quantity))\n"
   ]
  },
  {
   "cell_type": "code",
   "execution_count": null,
   "metadata": {
    "hidden": true
   },
   "outputs": [],
   "source": [
    "# Example order book data\n",
    "pprint(exchange.fetch_order_book(asset))\n"
   ]
  },
  {
   "cell_type": "code",
   "execution_count": null,
   "metadata": {
    "hidden": true
   },
   "outputs": [],
   "source": [
    "# Example balance\n",
    "pprint(exchange.fetch_balance())\n"
   ]
  },
  {
   "cell_type": "code",
   "execution_count": null,
   "metadata": {
    "hidden": true
   },
   "outputs": [],
   "source": [
    "#Example fetch order by id\n",
    "pprint(exchange.fetch_order(19123522, asset.symbol))\n"
   ]
  },
  {
   "cell_type": "code",
   "execution_count": null,
   "metadata": {
    "hidden": true
   },
   "outputs": [],
   "source": [
    "# Example fetch order\n",
    "pprint(exchange.fetch_orders(asset))\n"
   ]
  },
  {
   "cell_type": "code",
   "execution_count": null,
   "metadata": {
    "hidden": true
   },
   "outputs": [],
   "source": [
    "pprint(exchange.fetch_my_trades(asset, None, None))\n"
   ]
  },
  {
   "cell_type": "code",
   "execution_count": null,
   "metadata": {
    "hidden": true
   },
   "outputs": [],
   "source": [
    "order_dct = {'amount': 10.0,\n",
    "             'cost': 0.0,\n",
    "             'datetime': '2018-01-17T05:49:23.119Z',\n",
    "             'fee': None,\n",
    "             'filled': 10.0,\n",
    "             'id': '19123922',\n",
    "             'price': 0.0,\n",
    "             'remaining': 0.0,\n",
    "             'side': 'buy',\n",
    "             'status': 'closed',\n",
    "             'symbol': 'XRP/BTC',\n",
    "             'timestamp': 1516168163119,\n",
    "             'type': 'market'}\n",
    "order = Order.from_dict(order_dct)\n",
    "pprint(order)"
   ]
  },
  {
   "cell_type": "markdown",
   "metadata": {},
   "source": [
    "# Paper Exchange"
   ]
  },
  {
   "cell_type": "code",
   "execution_count": null,
   "metadata": {},
   "outputs": [],
   "source": [
    "exchange = load_exchange(c.PAPER)\n",
    "\n",
    "# Order manager does the is_balance_sufficient() check\n",
    "# So we need to make sure currency exists when calling\n",
    "# exchange directly\n",
    "exchange.balance.add_currency(c.XRP)\n",
    "exchange.fetch_balance()"
   ]
  },
  {
   "cell_type": "markdown",
   "metadata": {},
   "source": [
    "## Limit Orders"
   ]
  },
  {
   "cell_type": "code",
   "execution_count": null,
   "metadata": {},
   "outputs": [],
   "source": [
    "# LIMIT BUY (Pending - price lower than market so it doesn't fill)\n",
    "asset = Asset(c.XRP, c.BTC)\n",
    "order = exchange.create_limit_buy_order(asset, 20.0, price=0.0001)\n",
    "order"
   ]
  },
  {
   "cell_type": "code",
   "execution_count": null,
   "metadata": {},
   "outputs": [],
   "source": [
    "exchange.orders[0].asset.symbol"
   ]
  },
  {
   "cell_type": "code",
   "execution_count": null,
   "metadata": {},
   "outputs": [],
   "source": [
    "asset.id"
   ]
  },
  {
   "cell_type": "code",
   "execution_count": null,
   "metadata": {},
   "outputs": [],
   "source": [
    "# Test Fetch\n",
    "exchange.fetch_orders(asset)"
   ]
  },
  {
   "cell_type": "code",
   "execution_count": null,
   "metadata": {},
   "outputs": [],
   "source": [
    "# LIMIT SELL (Pending - price higher than market so it doesn't fill)\n",
    "asset = Asset(c.XRP, c.BTC)\n",
    "order = exchange.create_limit_sell_order(asset, quantity=20., price=.0001)\n",
    "order"
   ]
  },
  {
   "cell_type": "code",
   "execution_count": null,
   "metadata": {},
   "outputs": [],
   "source": [
    "# Verify Balance\n",
    "exchange.fetch_balance()"
   ]
  },
  {
   "cell_type": "markdown",
   "metadata": {},
   "source": [
    "## Market Orders"
   ]
  },
  {
   "cell_type": "code",
   "execution_count": null,
   "metadata": {},
   "outputs": [],
   "source": [
    "asset = Asset(c.XRP, c.BTC)\n",
    "price = exchange.fetch_ticker(asset)['ask']\n",
    "price"
   ]
  },
  {
   "cell_type": "code",
   "execution_count": null,
   "metadata": {},
   "outputs": [],
   "source": [
    "# MARKET BUY\n",
    "order = exchange.create_market_buy_order(asset, quantity=20.)\n",
    "order"
   ]
  },
  {
   "cell_type": "code",
   "execution_count": null,
   "metadata": {},
   "outputs": [],
   "source": [
    "# MARKET SELL\n",
    "order = exchange.create_market_sell_order(asset, quantity=20.)\n",
    "order"
   ]
  },
  {
   "cell_type": "code",
   "execution_count": null,
   "metadata": {},
   "outputs": [],
   "source": [
    "# Verify Balance\n",
    "exchange.fetch_balance()"
   ]
  },
  {
   "cell_type": "markdown",
   "metadata": {},
   "source": [
    "# Order Manager"
   ]
  },
  {
   "cell_type": "code",
   "execution_count": null,
   "metadata": {},
   "outputs": [],
   "source": [
    "exchange = load_exchange(c.PAPER)\n",
    "asset = Asset(c.XRP, c.BTC)\n",
    "exchange.fetch_balance()"
   ]
  },
  {
   "cell_type": "markdown",
   "metadata": {},
   "source": [
    "## Limit Buy"
   ]
  },
  {
   "cell_type": "code",
   "execution_count": null,
   "metadata": {},
   "outputs": [],
   "source": [
    "limit_buy = order_manager.build_limit_buy_order(exchange, asset, quantity=20., price=.0001)\n",
    "limit_buy"
   ]
  },
  {
   "cell_type": "code",
   "execution_count": null,
   "metadata": {},
   "outputs": [],
   "source": [
    "ex_order = order_manager.place_order(exchange, limit_buy)\n",
    "ex_order"
   ]
  },
  {
   "cell_type": "markdown",
   "metadata": {},
   "source": [
    "## Limit Sell"
   ]
  },
  {
   "cell_type": "code",
   "execution_count": null,
   "metadata": {},
   "outputs": [],
   "source": [
    "limit_sell = order_manager.build_limit_sell_order(exchange, asset, quantity=20., price=.0001)\n",
    "limit_sell"
   ]
  },
  {
   "cell_type": "code",
   "execution_count": null,
   "metadata": {},
   "outputs": [],
   "source": [
    "ex_order = order_manager.place_order(exchange, limit_sell)\n",
    "ex_order"
   ]
  },
  {
   "cell_type": "markdown",
   "metadata": {},
   "source": [
    "## Market Buy"
   ]
  },
  {
   "cell_type": "code",
   "execution_count": null,
   "metadata": {},
   "outputs": [],
   "source": [
    "market_buy = order_manager.build_market_buy_order(exchange, asset, quantity=20.)\n",
    "market_buy"
   ]
  },
  {
   "cell_type": "code",
   "execution_count": null,
   "metadata": {},
   "outputs": [],
   "source": [
    "ex_order = order_manager.place_order(exchange, market_buy)\n",
    "ex_order"
   ]
  },
  {
   "cell_type": "markdown",
   "metadata": {},
   "source": [
    "## Market Sell"
   ]
  },
  {
   "cell_type": "code",
   "execution_count": null,
   "metadata": {},
   "outputs": [],
   "source": [
    "market_sell = order_manager.build_market_sell_order(exchange, asset, quantity=20.)\n",
    "market_sell"
   ]
  },
  {
   "cell_type": "code",
   "execution_count": null,
   "metadata": {},
   "outputs": [],
   "source": [
    "ex_order = order_manager.place_order(exchange, market_sell)\n",
    "ex_order"
   ]
  },
  {
   "cell_type": "markdown",
   "metadata": {},
   "source": [
    "## Known Exceptions"
   ]
  },
  {
   "cell_type": "code",
   "execution_count": null,
   "metadata": {},
   "outputs": [],
   "source": [
    "# Insufficient funds \n",
    "# Right now we're returning a failed order, but the exchange doesn't so perhaps we want to catch\n",
    "limit_buy = order_manager.build_limit_buy_order(exchange, asset, quantity=100000000., price=.0001)\n",
    "ex_order = order_manager.place_order(exchange, limit_buy)\n",
    "ex_order"
   ]
  },
  {
   "cell_type": "code",
   "execution_count": null,
   "metadata": {},
   "outputs": [],
   "source": []
  }
 ],
 "metadata": {
  "kernelspec": {
   "display_name": "Python 3",
   "language": "python",
   "name": "python3"
  },
  "language_info": {
   "codemirror_mode": {
    "name": "ipython",
    "version": 3
   },
   "file_extension": ".py",
   "mimetype": "text/x-python",
   "name": "python",
   "nbconvert_exporter": "python",
   "pygments_lexer": "ipython3",
   "version": "3.6.4"
  },
  "latex_envs": {
   "LaTeX_envs_menu_present": true,
   "autocomplete": true,
   "bibliofile": "biblio.bib",
   "cite_by": "apalike",
   "current_citInitial": 1,
   "eqLabelWithNumbers": true,
   "eqNumInitial": 1,
   "hotkeys": {
    "equation": "Ctrl-E",
    "itemize": "Ctrl-I"
   },
   "labels_anchors": false,
   "latex_user_defs": false,
   "report_style_numbering": false,
   "user_envs_cfg": false
  },
  "toc": {
   "nav_menu": {},
   "number_sections": true,
   "sideBar": true,
   "skip_h1_title": false,
   "toc_cell": false,
   "toc_position": {},
   "toc_section_display": "block",
   "toc_window_display": false
  }
 },
 "nbformat": 4,
 "nbformat_minor": 2
}
